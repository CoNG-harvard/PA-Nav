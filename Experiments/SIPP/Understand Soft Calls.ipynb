{
 "cells": [
  {
   "cell_type": "markdown",
   "id": "93964b26-d9f5-45ac-9818-50cc2951a2d5",
   "metadata": {},
   "source": [
    "# Understand the number of MILP calls"
   ]
  },
  {
   "cell_type": "code",
   "execution_count": 12,
   "id": "4f6a1483-2bff-48b4-a976-d9891665966d",
   "metadata": {},
   "outputs": [
    {
     "name": "stdout",
     "output_type": "stream",
     "text": [
      "The autoreload extension is already loaded. To reload it, use:\n",
      "  %reload_ext autoreload\n"
     ]
    }
   ],
   "source": [
    "import sys\n",
    "sys.path.append('../../')\n",
    "\n",
    "from os import listdir\n",
    "from time import time\n",
    "import numpy as np\n",
    "from matplotlib import pyplot as plt\n",
    "\n",
    "\n",
    "import pickle as pkl\n",
    "\n",
    "\n",
    "\n",
    "%load_ext autoreload\n",
    "%autoreload 2"
   ]
  },
  {
   "cell_type": "code",
   "execution_count": 2,
   "id": "ec5f5991",
   "metadata": {},
   "outputs": [],
   "source": [
    "# Customize sequential_HybridSIPP to count the MILP calls\n",
    "from panav.HybridSIPP import HybridSIPP\n",
    "def sequential_HybridSIPP(HG,return_graph = False,Delta = 2.0, Kmax = 3,return_on_failure=True):\n",
    "    \n",
    "    agents = np.arange(len(HG.start_nodes))\n",
    "    graph_plans = []\n",
    "    continuous_plans = []\n",
    "\n",
    "    U = {e:[] for e in HG.edges} # Edge traversal times\n",
    "    C = {s:[] for s in HG} # Node visit times\n",
    "\n",
    "    MILP_calls = 0\n",
    "    straight_calls = 0\n",
    "\n",
    "    def update_traversal_records(U,C,gp):\n",
    "        \n",
    "        for s,t in gp:\n",
    "            C[s].append(t)\n",
    "        \n",
    "        k = len(gp)\n",
    "        for i in range(k-1):\n",
    "            s,t = gp[i]\n",
    "            sp,tp  = gp[i+1]\n",
    "            U[s,sp].append((t,tp))\n",
    "        return U,C\n",
    "            \n",
    "\n",
    "    for a in agents:\n",
    "        print(a)\n",
    "        t0 = time()\n",
    "\n",
    "        result = None\n",
    "        for Km in range(Kmax+1):\n",
    "            print('Km=',Km)\n",
    "\n",
    "            data_record_dict = {}\n",
    "\n",
    "            result = HybridSIPP(HG,U,C,HG.start_nodes[a],HG.goal_nodes[a],continuous_plans,Delta,\n",
    "                                Kmax=Km,\n",
    "                                data_record_dict=data_record_dict)\n",
    "            if result is not None:\n",
    "                break\n",
    "            \n",
    "        if result is not None:\n",
    "            gp,cp = result\n",
    "        else:\n",
    "            print(\"Solver failed.\")\n",
    "            if return_on_failure:\n",
    "                break\n",
    "            else:\n",
    "                return None\n",
    "        \n",
    "        print('Solve time',time()-t0)\n",
    "        \n",
    "        U,C = update_traversal_records(U,C,gp)\n",
    "        graph_plans.append(gp)\n",
    "        continuous_plans.append(cp)\n",
    "\n",
    "        MILP_calls += data_record_dict['MILP_calls']\n",
    "        straight_calls +=  data_record_dict['straight_calls']\n",
    "\n",
    "    return MILP_calls,straight_calls"
   ]
  },
  {
   "cell_type": "code",
   "execution_count": 14,
   "id": "95a98f31",
   "metadata": {},
   "outputs": [],
   "source": [
    "def get_env_name(filename):\n",
    "    fs = filename.split('.')\n",
    "    return fs[0]\n",
    "\n",
    "\n",
    "# Load environment presets\n",
    "env_names = [get_env_name(fn) for fn in listdir('./envs')]\n",
    "\n",
    "env_infos = {}\n",
    "\n",
    "for name in env_names:\n",
    "    with open(f'./envs/{name}.pkl','rb') as fp:\n",
    "        env_infos[name] = pkl.load(fp)"
   ]
  },
  {
   "cell_type": "code",
   "execution_count": 15,
   "id": "65e3d875",
   "metadata": {},
   "outputs": [],
   "source": [
    "\n",
    "bloating_r = 0.5\n",
    "vmax = 1.0\n",
    "\n",
    "TIMEOUT = 200\n"
   ]
  },
  {
   "cell_type": "code",
   "execution_count": 21,
   "id": "b2dd6ad9",
   "metadata": {},
   "outputs": [
    {
     "name": "stdout",
     "output_type": "stream",
     "text": [
      "Building the environment...\n",
      "0\n",
      "Km= 0\n",
      "Solve time 0.004394054412841797\n",
      "1\n",
      "Km= 0\n",
      "Solve time 0.002584218978881836\n"
     ]
    },
    {
     "name": "stderr",
     "output_type": "stream",
     "text": [
      "/Users/tianpengzhang/opt/miniconda3/envs/PA-NAV/lib/python3.11/site-packages/shapely/measurement.py:74: RuntimeWarning: invalid value encountered in distance\n",
      "  return lib.distance(a, b, **kwargs)\n",
      "/Users/tianpengzhang/opt/miniconda3/envs/PA-NAV/lib/python3.11/site-packages/shapely/predicates.py:798: RuntimeWarning: invalid value encountered in intersects\n",
      "  return lib.intersects(a, b, **kwargs)\n"
     ]
    },
    {
     "ename": "KeyError",
     "evalue": "'MultiTunnel'",
     "output_type": "error",
     "traceback": [
      "\u001b[0;31m---------------------------------------------------------------------------\u001b[0m",
      "\u001b[0;31mKeyError\u001b[0m                                  Traceback (most recent call last)",
      "Cell \u001b[0;32mIn[21], line 20\u001b[0m\n\u001b[1;32m     16\u001b[0m HG \u001b[38;5;241m=\u001b[39m constructor(\u001b[38;5;241m*\u001b[39m\u001b[38;5;241m*\u001b[39mspecs,N_agent \u001b[38;5;241m=\u001b[39m N)\n\u001b[1;32m     18\u001b[0m mc, sc \u001b[38;5;241m=\u001b[39m sequential_HybridSIPP(HG,Kmax \u001b[38;5;241m=\u001b[39m \u001b[38;5;241m5\u001b[39m,Delta\u001b[38;5;241m=\u001b[39m\u001b[38;5;241m3.0\u001b[39m,return_on_failure\u001b[38;5;241m=\u001b[39m\u001b[38;5;28;01mFalse\u001b[39;00m)\n\u001b[0;32m---> 20\u001b[0m \u001b[43mMILP_calls\u001b[49m\u001b[43m[\u001b[49m\u001b[43menv_name\u001b[49m\u001b[43m]\u001b[49m\u001b[38;5;241m.\u001b[39mappend(mc)\n\u001b[1;32m     21\u001b[0m straight_calls[env_name]\u001b[38;5;241m.\u001b[39mappend(sc)\n\u001b[1;32m     23\u001b[0m \u001b[38;5;28;01mwith\u001b[39;00m \u001b[38;5;28mopen\u001b[39m(save_file,\u001b[38;5;124m'\u001b[39m\u001b[38;5;124mwb\u001b[39m\u001b[38;5;124m'\u001b[39m) \u001b[38;5;28;01mas\u001b[39;00m fp:\n",
      "\u001b[0;31mKeyError\u001b[0m: 'MultiTunnel'"
     ]
    }
   ],
   "source": [
    "save_file = './data/NumCallAnalysis.pkl' \n",
    "\n",
    "\n",
    "MILP_calls = {}\n",
    "straight_calls ={}\n",
    "\n",
    "N_range = np.arange(2,21,2)\n",
    "\n",
    "for env_name in env_names:\n",
    "    env_info = env_infos[env_name]\n",
    "    MILP_calls[env_name] = []\n",
    "    straight_calls[env_name] = []\n",
    "    for N in N_range: \n",
    "        # Construct the environment\n",
    "        constructor = env_info['constructor']\n",
    "        specs = env_info['specs']\n",
    "\n",
    "        print('Building the environment...')\n",
    "        HG = constructor(**specs,N_agent = N)\n",
    "\n",
    "        mc, sc = sequential_HybridSIPP(HG,Kmax = 5,Delta=3.0,return_on_failure=False)\n",
    "\n",
    "        MILP_calls[env_name].append(mc)\n",
    "        straight_calls[env_name].append(sc)\n",
    "\n",
    "        with open(save_file,'wb') as fp:\n",
    "            pkl.dump(dict(MILP_calls=MILP_calls,straight_calls=straight_calls),fp)"
   ]
  },
  {
   "cell_type": "code",
   "execution_count": 20,
   "id": "2d0b4184",
   "metadata": {},
   "outputs": [
    {
     "data": {
      "image/png": "[encoded data removed]",
      "text/plain": [
       "<Figure size 640x480 with 1 Axes>"
      ]
     },
     "metadata": {},
     "output_type": "display_data"
    }
   ],
   "source": [
    "from matplotlib.ticker import PercentFormatter\n",
    "\n",
    "for name in MILP_calls:\n",
    "    mcs = np.array(MILP_calls[name])\n",
    "    scs = np.array(straight_calls[name])\n",
    "    cs = mcs+scs\n",
    "    plt.plot(N_range,mcs/cs * 100,label='MILP Calls')\n",
    "    plt.plot(N_range,scs/cs * 100,label='Straight-Line Calls')\n",
    "    plt.xlabel(\"# agents\")\n",
    "    plt.legend()\n",
    "\n",
    "    plt.gca().yaxis.set_major_formatter(PercentFormatter())\n",
    "    plt.show()"
   ]
  }
 ],
 "metadata": {
  "kernelspec": {
   "display_name": "Python 3 (ipykernel)",
   "language": "python",
   "name": "python3"
  },
  "language_info": {
   "codemirror_mode": {
    "name": "ipython",
    "version": 3
   },
   "file_extension": ".py",
   "mimetype": "text/x-python",
   "name": "python",
   "nbconvert_exporter": "python",
   "pygments_lexer": "ipython3",
   "version": "3.11.0"
  }
 },
 "nbformat": 4,
 "nbformat_minor": 5
}
