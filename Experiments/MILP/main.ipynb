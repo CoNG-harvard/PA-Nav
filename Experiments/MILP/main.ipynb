{
 "cells": [
  {
   "cell_type": "markdown",
   "id": "93964b26-d9f5-45ac-9818-50cc2951a2d5",
   "metadata": {},
   "source": [
    "# Benchmarking Our Algorithm against others"
   ]
  },
  {
   "cell_type": "code",
   "execution_count": 5,
   "id": "4f6a1483-2bff-48b4-a976-d9891665966d",
   "metadata": {},
   "outputs": [
    {
     "name": "stdout",
     "output_type": "stream",
     "text": [
      "The autoreload extension is already loaded. To reload it, use:\n",
      "  %reload_ext autoreload\n"
     ]
    }
   ],
   "source": [
    "import sys\n",
    "sys.path.append('../../')\n",
    "from time import time\n",
    "import signal\n",
    "from os import listdir\n",
    "import numpy as np\n",
    "import pickle as pkl\n",
    "\n",
    "\n",
    "from panav.sequential import sequential_planning\n",
    "from panav.SAMP.solvers import Tube_Planning, Simple_MILP_Planning\n",
    "\n",
    "from benchmarks.ST_RRTStar_wrapper import sequential_ST_RRTStar \n",
    "\n",
    "%load_ext autoreload\n",
    "%autoreload 2"
   ]
  },
  {
   "cell_type": "code",
   "execution_count": 12,
   "id": "d438688e",
   "metadata": {},
   "outputs": [],
   "source": [
    "def get_env_name(filename):\n",
    "    fs = filename.split('.')\n",
    "    return fs[0]\n",
    "\n",
    "\n",
    "def run_experiments(env_name, \n",
    "                    env_info, \n",
    "                    N_range, \n",
    "                    algs, \n",
    "                    TIMEOUT = 100,\n",
    "                    results = [], \n",
    "                    executed = None):\n",
    "    \n",
    "    '''\n",
    "        Checkpointed results and timeouted can be passed in so we can resume operation.\n",
    "    '''\n",
    "\n",
    "    if executed is None:\n",
    "        executed = {alg: {N :False for N in N_range} for alg in algs}\n",
    "\n",
    "    for N in N_range: \n",
    "        # Construct the environment\n",
    "        constructor = env_info['constructor']\n",
    "        specs = env_info['specs']\n",
    "        env = constructor(**specs,N_agent = N)\n",
    "\n",
    "        # Run the experiment on each algorithm\n",
    "        for name,alg in algs.items():\n",
    "\n",
    "            if executed[name][N]:\n",
    "                continue\n",
    "            \n",
    "            print(\"Env:\", env_name, \"Alg:\", name, \"N agent:\",N)\n",
    "\n",
    "            result = {}\n",
    "            \n",
    "            def timeout_handler(signum,frame):\n",
    "                print(\"Algorithm timeout\")\n",
    "                # Mark the rest of the executed table as True, so we don't ever visit this algorithm again\n",
    "                for n in executed[name]:\n",
    "                    if n>=N:\n",
    "                        executed[name][n] = True\n",
    "                # Save checkpoint data\n",
    "                with open(\"./data/{}.pkl\".format(env_name),'wb') as fp:\n",
    "                    pkl.dump({'results':results, 'executed':executed},fp)\n",
    "                raise TimeoutError(\"Timeout\")\n",
    "            signal.signal(signal.SIGALRM, timeout_handler)\n",
    "            signal.alarm(TIMEOUT)\n",
    "            try:\n",
    "                t0 = time()\n",
    "                plan = alg(env)\n",
    "            except TimeoutError:\n",
    "                print(\"Timeout\")\n",
    "            signal.alarm(0)\n",
    "\n",
    "            t = time()-t0\n",
    "            \n",
    "            result['time'] = t\n",
    "\n",
    "            result['N_agent'] = N\n",
    "            result['alg_name'] = name\n",
    "\n",
    "            result[\"TIMEOUT\"]=TIMEOUT\n",
    "            result[\"env\"]=env\n",
    "\n",
    "            results.append(result)\n",
    "\n",
    "            # Mark the executed status as True\n",
    "            executed[name][N] = True\n",
    "\n",
    "            if t>TIMEOUT:\n",
    "                print(\"Time out for algorithm\", name, \"N agent = \", N)\n",
    "            else:\n",
    "                result['plan'] = plan\n",
    "                print(\"On time for algorithm\", name, \"N agent = \", N)\n",
    "\n",
    "            # Save checkpoint data\n",
    "            with open(\"./data/{}.pkl\".format(env_name),'wb') as fp:\n",
    "                pkl.dump({'results':results, 'executed':executed},fp)\n",
    "            \n",
    "def get_checkpoint_state(env_name,algs,N_range,first_run = False):\n",
    "    if first_run:\n",
    "        results = []\n",
    "        executed = {alg: {N :False for N in N_range} for alg in algs}\n",
    "        # Save checkpoint state\n",
    "        with open(\"./data/{}.pkl\".format(env_name),'wb') as fp:\n",
    "            pkl.dump({'results':results, 'executed':executed},fp)\n",
    "\n",
    "    # Load checkpoint state\n",
    "    with open(\"./data/{}.pkl\".format(env_name),'rb') as fp:\n",
    "        ckpt = pkl.load(fp)\n",
    "\n",
    "    results = ckpt['results']\n",
    "    executed = ckpt['executed']\n",
    "\n",
    "    return results,executed\n"
   ]
  },
  {
   "cell_type": "code",
   "execution_count": 7,
   "id": "65e3d875",
   "metadata": {},
   "outputs": [],
   "source": [
    "bloating_r = 0.5\n",
    "vmax = 1.0\n",
    "\n",
    "TIMEOUT = 100\n",
    "\n",
    "# Specify the Algorithms\n",
    "algs = {  \n",
    "        \"Seq_Tube\": lambda env: sequential_planning(Tube_Planning,env,vmax,bloating_r,TIMEOUT=TIMEOUT),      \n",
    "        \"Seq_Tube_nonLazy\": lambda env: sequential_planning(Tube_Planning,env,vmax,bloating_r,TIMEOUT=TIMEOUT,lazy = False),      \n",
    "        \"Seq_S2M2\": lambda env: sequential_planning(Simple_MILP_Planning,env,vmax,bloating_r,TIMEOUT=TIMEOUT,lazy = False),\n",
    "        \"ST-RRT*\": lambda env: sequential_ST_RRTStar(env,vmax,bloating_r)\n",
    "        }\n",
    "# Load environment presets\n",
    "env_names = [get_env_name(fn) for fn in listdir('./envs')]\n",
    "\n",
    "env_info = {}\n",
    "\n",
    "for name in env_names:\n",
    "    with open(f'./envs/{name}.pkl','rb') as fp:\n",
    "        env_info[name] = pkl.load(fp)"
   ]
  },
  {
   "cell_type": "code",
   "execution_count": 8,
   "id": "965c67ba",
   "metadata": {},
   "outputs": [],
   "source": [
    "env_name = 'MultiTunnel'\n",
    "SEED = 13981\n",
    "np.random.seed(SEED)  # Fix the random seed\n",
    "max_N = 40\n",
    "N_range = np.arange(1,max_N+1)"
   ]
  },
  {
   "cell_type": "code",
   "execution_count": 15,
   "id": "1b69e564",
   "metadata": {},
   "outputs": [
    {
     "name": "stdout",
     "output_type": "stream",
     "text": [
      "Env: MultiTunnel Alg: Seq_Tube N agent: 11\n",
      "Planning for agent 0/11\n",
      "Planning for agent 1/11\n",
      "Planning for agent 2/11\n",
      "Planning for agent 3/11\n",
      "Planning for agent 4/11\n",
      "Planning for agent 5/11\n",
      "Planning for agent 6/11\n",
      "Planning for agent 7/11\n",
      "Planning for agent 8/11\n",
      "Planning for agent 9/11\n",
      "Planning for agent 10/11\n",
      "On time for algorithm Seq_Tube N agent =  11\n",
      "Env: MultiTunnel Alg: Seq_Tube_nonLazy N agent: 11\n",
      "Planning for agent 0/11\n",
      "Planning for agent 1/11\n",
      "Planning for agent 2/11\n",
      "Planning for agent 3/11\n",
      "Planning for agent 4/11\n",
      "Planning for agent 5/11\n",
      "Planning for agent 6/11\n",
      "Planning for agent 7/11\n",
      "Planning for agent 8/11\n",
      "Planning for agent 9/11\n",
      "Planning for agent 10/11\n",
      "On time for algorithm Seq_Tube_nonLazy N agent =  11\n",
      "Env: MultiTunnel Alg: Seq_S2M2 N agent: 11\n",
      "Planning for agent 0/11\n",
      "Planning for agent 1/11\n",
      "Planning for agent 2/11\n",
      "Planning for agent 3/11\n",
      "Planning for agent 4/11\n",
      "Planning for agent 5/11\n",
      "Planning for agent 6/11\n",
      "Planning for agent 7/11\n",
      "Planning for agent 8/11\n",
      "Planning for agent 9/11\n",
      "Algorithm timeout\n",
      "Time out for algorithm Seq_S2M2 N agent =  11\n",
      "Env: MultiTunnel Alg: ST-RRT* N agent: 11\n",
      "Planning for agent 0/11\n",
      "Debug:   SpaceTimeRRT: Planner range detected to be inf\n",
      "Info:    SpaceTimeRRT: Starting planning with 1 states already in datastructure\n",
      "Info:    SpaceTimeRRT: Starting planning with time bound factor 2.00\n",
      "Info:    SpaceTimeRRT: Created 110 states (51 start + 59 goal)\n",
      "Planning for agent 1/11\n",
      "Debug:   SpaceTimeRRT: Planner range detected to be inf\n",
      "Info:    SpaceTimeRRT: Starting planning with 1 states already in datastructure\n",
      "Info:    SpaceTimeRRT: Starting planning with time bound factor 2.00\n"
     ]
    },
    {
     "name": "stderr",
     "output_type": "stream",
     "text": [
      "Warning: State validity checker not set! No collision checking is performed\n",
      "         at line 63 in /Users/tianpengzhang/Desktop/ompl/src/ompl/base/src/SpaceInformation.cpp\n",
      "Warning: State validity checker not set! No collision checking is performed\n",
      "         at line 63 in /Users/tianpengzhang/Desktop/ompl/src/ompl/base/src/SpaceInformation.cpp\n"
     ]
    },
    {
     "name": "stdout",
     "output_type": "stream",
     "text": [
      "Planning for agent 2/11Info:    SpaceTimeRRT: Created 76 states (34 start + 42 goal)\n",
      "\n",
      "Debug:   SpaceTimeRRT: Planner range detected to be inf\n",
      "Info:    SpaceTimeRRT: Starting planning with 1 states already in datastructure\n",
      "Info:    SpaceTimeRRT: Starting planning with time bound factor 2.00\n",
      "Planning for agent 3/11\n",
      "Info:    SpaceTimeRRT: Created 63 states (25 start + 38 goal)\n",
      "Debug:   SpaceTimeRRT: Planner range detected to be inf\n",
      "Info:    SpaceTimeRRT: Starting planning with 1 states already in datastructure\n",
      "Info:    SpaceTimeRRT: Starting planning with time bound factor 2.00\n"
     ]
    },
    {
     "name": "stderr",
     "output_type": "stream",
     "text": [
      "Warning: State validity checker not set! No collision checking is performed\n",
      "         at line 63 in /Users/tianpengzhang/Desktop/ompl/src/ompl/base/src/SpaceInformation.cpp\n",
      "Warning: State validity checker not set! No collision checking is performed\n",
      "         at line 63 in /Users/tianpengzhang/Desktop/ompl/src/ompl/base/src/SpaceInformation.cpp\n"
     ]
    },
    {
     "name": "stdout",
     "output_type": "stream",
     "text": [
      "Planning for agent 4/11\n",
      "Info:    SpaceTimeRRT: Created 46 states (23 start + 23 goal)\n",
      "Debug:   SpaceTimeRRT: Planner range detected to be inf\n",
      "Info:    SpaceTimeRRT: Starting planning with 1 states already in datastructure\n",
      "Info:    SpaceTimeRRT: Starting planning with time bound factor 2.00\n",
      "Planning for agent 5/11\n",
      "Info:    SpaceTimeRRT: Created 35 states (19 start + 16 goal)\n",
      "Debug:   SpaceTimeRRT: Planner range detected to be inf\n",
      "Info:    SpaceTimeRRT: Starting planning with 1 states already in datastructure\n",
      "Info:    SpaceTimeRRT: Starting planning with time bound factor 2.00\n"
     ]
    },
    {
     "name": "stderr",
     "output_type": "stream",
     "text": [
      "Warning: State validity checker not set! No collision checking is performed\n",
      "         at line 63 in /Users/tianpengzhang/Desktop/ompl/src/ompl/base/src/SpaceInformation.cpp\n",
      "Warning: State validity checker not set! No collision checking is performed\n",
      "         at line 63 in /Users/tianpengzhang/Desktop/ompl/src/ompl/base/src/SpaceInformation.cpp\n"
     ]
    },
    {
     "name": "stdout",
     "output_type": "stream",
     "text": [
      "Planning for agent 6/11Info:    SpaceTimeRRT: Created 58 states (28 start + 30 goal)\n",
      "\n",
      "Debug:   SpaceTimeRRT: Planner range detected to be inf\n",
      "Info:    SpaceTimeRRT: Starting planning with 1 states already in datastructure\n",
      "Info:    SpaceTimeRRT: Starting planning with time bound factor 2.00\n"
     ]
    },
    {
     "name": "stderr",
     "output_type": "stream",
     "text": [
      "Warning: State validity checker not set! No collision checking is performed\n",
      "         at line 63 in /Users/tianpengzhang/Desktop/ompl/src/ompl/base/src/SpaceInformation.cpp\n"
     ]
    },
    {
     "name": "stdout",
     "output_type": "stream",
     "text": [
      "Planning for agent 7/11Info:    SpaceTimeRRT: Created 63 states (25 start + 38 goal)\n",
      "\n",
      "Debug:   SpaceTimeRRT: Planner range detected to be inf\n",
      "Info:    SpaceTimeRRT: Starting planning with 1 states already in datastructure\n",
      "Info:    SpaceTimeRRT: Starting planning with time bound factor 2.00\n"
     ]
    },
    {
     "name": "stderr",
     "output_type": "stream",
     "text": [
      "Warning: State validity checker not set! No collision checking is performed\n",
      "         at line 63 in /Users/tianpengzhang/Desktop/ompl/src/ompl/base/src/SpaceInformation.cpp\n"
     ]
    },
    {
     "name": "stdout",
     "output_type": "stream",
     "text": [
      "Planning for agent 8/11Info:    SpaceTimeRRT: Created 161 states (71 start + 90 goal)\n",
      "\n",
      "Debug:   SpaceTimeRRT: Planner range detected to be inf\n",
      "Info:    SpaceTimeRRT: Starting planning with 1 states already in datastructure\n",
      "Info:    SpaceTimeRRT: Starting planning with time bound factor 2.00\n",
      "Planning for agent 9/11\n",
      "Info:    SpaceTimeRRT: Created 32 states (10 start + 22 goal)\n",
      "Debug:   SpaceTimeRRT: Planner range detected to be inf\n",
      "Info:    SpaceTimeRRT: Starting planning with 1 states already in datastructure\n",
      "Info:    SpaceTimeRRT: Starting planning with time bound factor 2.00\n"
     ]
    },
    {
     "name": "stderr",
     "output_type": "stream",
     "text": [
      "Warning: State validity checker not set! No collision checking is performed\n",
      "         at line 63 in /Users/tianpengzhang/Desktop/ompl/src/ompl/base/src/SpaceInformation.cpp\n",
      "Warning: State validity checker not set! No collision checking is performed\n",
      "         at line 63 in /Users/tianpengzhang/Desktop/ompl/src/ompl/base/src/SpaceInformation.cpp\n"
     ]
    },
    {
     "name": "stdout",
     "output_type": "stream",
     "text": [
      "Planning for agent 10/11Info:    SpaceTimeRRT: Created 199 states (87 start + 112 goal)\n",
      "\n",
      "Debug:   SpaceTimeRRT: Planner range detected to be inf\n",
      "Info:    SpaceTimeRRT: Starting planning with 1 states already in datastructure\n",
      "Info:    SpaceTimeRRT: Starting planning with time bound factor 2.00\n"
     ]
    },
    {
     "name": "stderr",
     "output_type": "stream",
     "text": [
      "Warning: State validity checker not set! No collision checking is performed\n",
      "         at line 63 in /Users/tianpengzhang/Desktop/ompl/src/ompl/base/src/SpaceInformation.cpp\n"
     ]
    },
    {
     "name": "stdout",
     "output_type": "stream",
     "text": [
      "On time for algorithmInfo:    SpaceTimeRRT: Created 90 states (42 start + 48 goal)\n",
      " ST-RRT* N agent =  11\n",
      "Env: MultiTunnel Alg: Seq_Tube N agent: 12\n",
      "Planning for agent 0/12\n",
      "Planning for agent 1/12\n",
      "Planning for agent 2/12\n",
      "Planning for agent 3/12\n",
      "Planning for agent 4/12\n",
      "Planning for agent 5/12\n",
      "Planning for agent 6/12\n",
      "Planning for agent 7/12\n",
      "Planning for agent 8/12\n",
      "Planning for agent 9/12\n",
      "Planning for agent 10/12\n",
      "Planning for agent 11/12\n",
      "On time for algorithm Seq_Tube N agent =  12\n",
      "Env: MultiTunnel Alg: Seq_Tube_nonLazy N agent: 12\n",
      "Planning for agent 0/12\n",
      "Planning for agent 1/12\n",
      "Planning for agent 2/12\n",
      "Planning for agent 3/12\n",
      "Planning for agent 4/12\n",
      "Planning for agent 5/12\n",
      "Planning for agent 6/12\n",
      "Planning for agent 7/12\n",
      "Planning for agent 8/12\n",
      "Planning for agent 9/12\n",
      "Planning for agent 10/12\n",
      "Planning for agent 11/12\n",
      "On time for algorithm Seq_Tube_nonLazy N agent =  12\n",
      "Env: MultiTunnel Alg: ST-RRT* N agent: 12\n",
      "Planning for agent 0/12\n",
      "Debug:   SpaceTimeRRT: Planner range detected to be inf\n",
      "Info:    SpaceTimeRRT: Starting planning with 1 states already in datastructure\n",
      "Info:    SpaceTimeRRT: Starting planning with time bound factor 2.00\n",
      "Planning for agent 1/12\n",
      "Info:    SpaceTimeRRT: Created 87 states (32 start + 55 goal)\n",
      "Debug:   SpaceTimeRRT: Planner range detected to be inf\n",
      "Info:    SpaceTimeRRT: Starting planning with 1 states already in datastructure\n",
      "Info:    SpaceTimeRRT: Starting planning with time bound factor 2.00\n",
      "Planning for agent 2/12\n"
     ]
    },
    {
     "name": "stderr",
     "output_type": "stream",
     "text": [
      "Warning: State validity checker not set! No collision checking is performed\n",
      "         at line 63 in /Users/tianpengzhang/Desktop/ompl/src/ompl/base/src/SpaceInformation.cpp\n",
      "Warning: State validity checker not set! No collision checking is performed\n",
      "         at line 63 in /Users/tianpengzhang/Desktop/ompl/src/ompl/base/src/SpaceInformation.cpp\n",
      "Warning: State validity checker not set! No collision checking is performed\n",
      "         at line 63 in /Users/tianpengzhang/Desktop/ompl/src/ompl/base/src/SpaceInformation.cpp\n"
     ]
    },
    {
     "name": "stdout",
     "output_type": "stream",
     "text": [
      "Info:    SpaceTimeRRT: Created 60 states (25 start + 35 goal)\n",
      "Debug:   SpaceTimeRRT: Planner range detected to be inf\n",
      "Info:    SpaceTimeRRT: Starting planning with 1 states already in datastructure\n",
      "Info:    SpaceTimeRRT: Starting planning with time bound factor 2.00\n",
      "Planning for agent 3/12\n",
      "Info:    SpaceTimeRRT: Created 77 states (32 start + 45 goal)\n",
      "Debug:   SpaceTimeRRT: Planner range detected to be inf\n",
      "Info:    SpaceTimeRRT: Starting planning with 1 states already in datastructure\n",
      "Info:    SpaceTimeRRT: Starting planning with time bound factor 2.00\n",
      "Planning for agent 4/12\n"
     ]
    },
    {
     "name": "stderr",
     "output_type": "stream",
     "text": [
      "Warning: State validity checker not set! No collision checking is performed\n",
      "         at line 63 in /Users/tianpengzhang/Desktop/ompl/src/ompl/base/src/SpaceInformation.cpp\n",
      "Warning: State validity checker not set! No collision checking is performed\n",
      "         at line 63 in /Users/tianpengzhang/Desktop/ompl/src/ompl/base/src/SpaceInformation.cpp\n"
     ]
    },
    {
     "name": "stdout",
     "output_type": "stream",
     "text": [
      "Info:    SpaceTimeRRT: Created 78 states (28 start + 50 goal)\n",
      "Debug:   SpaceTimeRRT: Planner range detected to be inf\n",
      "Info:    SpaceTimeRRT: Starting planning with 1 states already in datastructure\n",
      "Info:    SpaceTimeRRT: Starting planning with time bound factor 2.00\n",
      "Planning for agent 5/12\n",
      "Info:    SpaceTimeRRT: Created 39 states (21 start + 18 goal)\n",
      "Debug:   SpaceTimeRRT: Planner range detected to be inf\n",
      "Info:    SpaceTimeRRT: Starting planning with 1 states already in datastructure\n",
      "Info:    SpaceTimeRRT: Starting planning with time bound factor 2.00\n",
      "Planning for agent 6/12\n",
      "Info:    SpaceTimeRRT: Created 52 states (27 start + 25 goal)\n",
      "Debug:   SpaceTimeRRT: Planner range detected to be inf\n",
      "Info:    SpaceTimeRRT: Starting planning with 1 states already in datastructure\n",
      "Info:    SpaceTimeRRT: Starting planning with time bound factor 2.00\n"
     ]
    },
    {
     "name": "stderr",
     "output_type": "stream",
     "text": [
      "Warning: State validity checker not set! No collision checking is performed\n",
      "         at line 63 in /Users/tianpengzhang/Desktop/ompl/src/ompl/base/src/SpaceInformation.cpp\n",
      "Warning: State validity checker not set! No collision checking is performed\n",
      "         at line 63 in /Users/tianpengzhang/Desktop/ompl/src/ompl/base/src/SpaceInformation.cpp\n"
     ]
    },
    {
     "name": "stdout",
     "output_type": "stream",
     "text": [
      "Planning for agent 7/12Info:    SpaceTimeRRT: Created 48 states (23 start + 25 goal)\n",
      "\n",
      "Debug:   SpaceTimeRRT: Planner range detected to be inf\n",
      "Info:    SpaceTimeRRT: Starting planning with 1 states already in datastructure\n",
      "Info:    SpaceTimeRRT: Starting planning with time bound factor 2.00\n"
     ]
    },
    {
     "name": "stderr",
     "output_type": "stream",
     "text": [
      "Warning: State validity checker not set! No collision checking is performed\n",
      "         at line 63 in /Users/tianpengzhang/Desktop/ompl/src/ompl/base/src/SpaceInformation.cpp\n"
     ]
    },
    {
     "name": "stdout",
     "output_type": "stream",
     "text": [
      "Planning for agent 8/12Info:    SpaceTimeRRT: Created 106 states (48 start + 58 goal)\n",
      "\n",
      "Debug:   SpaceTimeRRT: Planner range detected to be inf\n",
      "Info:    SpaceTimeRRT: Starting planning with 1 states already in datastructure\n",
      "Info:    SpaceTimeRRT: Starting planning with time bound factor 2.00\n",
      "Planning for agent 9/12\n",
      "Info:    SpaceTimeRRT: Created 41 states (18 start + 23 goal)\n",
      "Debug:   SpaceTimeRRT: Planner range detected to be inf\n",
      "Info:    SpaceTimeRRT: Starting planning with 1 states already in datastructure\n",
      "Info:    SpaceTimeRRT: Starting planning with time bound factor 2.00\n"
     ]
    },
    {
     "name": "stderr",
     "output_type": "stream",
     "text": [
      "Warning: State validity checker not set! No collision checking is performed\n",
      "         at line 63 in /Users/tianpengzhang/Desktop/ompl/src/ompl/base/src/SpaceInformation.cpp\n",
      "Warning: State validity checker not set! No collision checking is performed\n",
      "         at line 63 in /Users/tianpengzhang/Desktop/ompl/src/ompl/base/src/SpaceInformation.cpp\n"
     ]
    },
    {
     "name": "stdout",
     "output_type": "stream",
     "text": [
      "Planning for agent 10/12Info:    SpaceTimeRRT: Created 93 states (47 start + 46 goal)\n",
      "\n",
      "Debug:   SpaceTimeRRT: Planner range detected to be inf\n",
      "Info:    SpaceTimeRRT: Starting planning with 1 states already in datastructure\n",
      "Info:    SpaceTimeRRT: Starting planning with time bound factor 2.00\n",
      "Planning for agent 11/12\n",
      "Info:    SpaceTimeRRT: Created 23 states (14 start + 9 goal)\n",
      "Debug:   SpaceTimeRRT: Planner range detected to be inf\n",
      "Info:    SpaceTimeRRT: Starting planning with 1 states already in datastructure\n",
      "Info:    SpaceTimeRRT: Starting planning with time bound factor 2.00\n"
     ]
    },
    {
     "name": "stderr",
     "output_type": "stream",
     "text": [
      "Warning: State validity checker not set! No collision checking is performed\n",
      "         at line 63 in /Users/tianpengzhang/Desktop/ompl/src/ompl/base/src/SpaceInformation.cpp\n",
      "Warning: State validity checker not set! No collision checking is performed\n",
      "         at line 63 in /Users/tianpengzhang/Desktop/ompl/src/ompl/base/src/SpaceInformation.cpp\n"
     ]
    },
    {
     "name": "stdout",
     "output_type": "stream",
     "text": [
      "On time for algorithmInfo:    SpaceTimeRRT: Created 141 states (63 start + 78 goal)\n",
      " ST-RRT* N agent =  12\n",
      "Env: MultiTunnel Alg: Seq_Tube N agent: 13\n",
      "Planning for agent 0/13\n",
      "Planning for agent 1/13\n",
      "Planning for agent 2/13\n",
      "Planning for agent 3/13\n",
      "Planning for agent 4/13\n",
      "Planning for agent 5/13\n",
      "Planning for agent 6/13\n",
      "Planning for agent 7/13\n",
      "Planning for agent 8/13\n",
      "Planning for agent 9/13\n",
      "Planning for agent 10/13\n",
      "Planning for agent 11/13\n",
      "Planning for agent 12/13\n",
      "On time for algorithm Seq_Tube N agent =  13\n",
      "Env: MultiTunnel Alg: Seq_Tube_nonLazy N agent: 13\n",
      "Planning for agent 0/13\n",
      "Planning for agent 1/13\n",
      "Planning for agent 2/13\n",
      "Planning for agent 3/13\n",
      "Planning for agent 4/13\n",
      "Planning for agent 5/13\n",
      "Planning for agent 6/13\n",
      "Planning for agent 7/13\n",
      "Planning for agent 8/13\n",
      "Planning for agent 9/13\n",
      "Planning for agent 10/13\n",
      "Planning for agent 11/13\n",
      "Planning for agent 12/13\n",
      "On time for algorithm Seq_Tube_nonLazy N agent =  13\n",
      "Env: MultiTunnel Alg: ST-RRT* N agent: 13\n",
      "Planning for agent 0/13\n",
      "Debug:   SpaceTimeRRT: Planner range detected to be inf\n",
      "Info:    SpaceTimeRRT: Starting planning with 1 states already in datastructure\n",
      "Info:    SpaceTimeRRT: Starting planning with time bound factor 2.00\n",
      "Planning for agent 1/13\n",
      "Info:    SpaceTimeRRT: Created 156 states (55 start + 101 goal)\n",
      "Debug:   SpaceTimeRRT: Planner range detected to be inf\n",
      "Info:    SpaceTimeRRT: Starting planning with 1 states already in datastructure\n",
      "Info:    SpaceTimeRRT: Starting planning with time bound factor 2.00\n",
      "Planning for agent 2/13\n"
     ]
    },
    {
     "name": "stderr",
     "output_type": "stream",
     "text": [
      "Warning: State validity checker not set! No collision checking is performed\n",
      "         at line 63 in /Users/tianpengzhang/Desktop/ompl/src/ompl/base/src/SpaceInformation.cpp\n",
      "Warning: State validity checker not set! No collision checking is performed\n",
      "         at line 63 in /Users/tianpengzhang/Desktop/ompl/src/ompl/base/src/SpaceInformation.cpp\n",
      "Warning: State validity checker not set! No collision checking is performed\n",
      "         at line 63 in /Users/tianpengzhang/Desktop/ompl/src/ompl/base/src/SpaceInformation.cpp\n"
     ]
    },
    {
     "name": "stdout",
     "output_type": "stream",
     "text": [
      "Info:    SpaceTimeRRT: Created 90 states (30 start + 60 goal)\n",
      "Debug:   SpaceTimeRRT: Planner range detected to be inf\n",
      "Info:    SpaceTimeRRT: Starting planning with 1 states already in datastructure\n",
      "Info:    SpaceTimeRRT: Starting planning with time bound factor 2.00\n",
      "Planning for agent 3/13\n",
      "Info:    SpaceTimeRRT: Created 33 states (20 start + 13 goal)\n",
      "Debug:   SpaceTimeRRT: Planner range detected to be inf\n",
      "Info:    SpaceTimeRRT: Starting planning with 1 states already in datastructure\n",
      "Info:    SpaceTimeRRT: Starting planning with time bound factor 2.00\n",
      "Planning for agent 4/13\n"
     ]
    },
    {
     "name": "stderr",
     "output_type": "stream",
     "text": [
      "Warning: State validity checker not set! No collision checking is performed\n",
      "         at line 63 in /Users/tianpengzhang/Desktop/ompl/src/ompl/base/src/SpaceInformation.cpp\n",
      "Warning: State validity checker not set! No collision checking is performed\n",
      "         at line 63 in /Users/tianpengzhang/Desktop/ompl/src/ompl/base/src/SpaceInformation.cpp\n",
      "Warning: State validity checker not set! No collision checking is performed\n",
      "         at line 63 in /Users/tianpengzhang/Desktop/ompl/src/ompl/base/src/SpaceInformation.cpp\n"
     ]
    },
    {
     "name": "stdout",
     "output_type": "stream",
     "text": [
      "Info:    SpaceTimeRRT: Created 61 states (34 start + 27 goal)\n",
      "Debug:   SpaceTimeRRT: Planner range detected to be inf\n",
      "Info:    SpaceTimeRRT: Starting planning with 1 states already in datastructure\n",
      "Info:    SpaceTimeRRT: Starting planning with time bound factor 2.00\n",
      "Planning for agent 5/13\n",
      "Info:    SpaceTimeRRT: Created 47 states (21 start + 26 goal)\n",
      "Debug:   SpaceTimeRRT: Planner range detected to be inf\n",
      "Info:    SpaceTimeRRT: Starting planning with 1 states already in datastructure\n",
      "Info:    SpaceTimeRRT: Starting planning with time bound factor 2.00\n",
      "Planning for agent 6/13Info:    SpaceTimeRRT: Created 115 states (49 start + 66 goal)\n",
      "\n",
      "Debug:   SpaceTimeRRT: Planner range detected to be inf\n",
      "Info:    SpaceTimeRRT: Starting planning with 1 states already in datastructure\n",
      "Info:    SpaceTimeRRT: Starting planning with time bound factor 2.00\n"
     ]
    },
    {
     "name": "stderr",
     "output_type": "stream",
     "text": [
      "Warning: State validity checker not set! No collision checking is performed\n",
      "         at line 63 in /Users/tianpengzhang/Desktop/ompl/src/ompl/base/src/SpaceInformation.cpp\n"
     ]
    },
    {
     "name": "stdout",
     "output_type": "stream",
     "text": [
      "Planning for agent 7/13Info:    SpaceTimeRRT: Created 77 states (34 start + 43 goal)\n",
      "\n",
      "Debug:   SpaceTimeRRT: Planner range detected to be inf\n",
      "Info:    SpaceTimeRRT: Starting planning with 1 states already in datastructure\n",
      "Info:    SpaceTimeRRT: Starting planning with time bound factor 2.00\n",
      "Planning for agent 8/13\n",
      "Info:    SpaceTimeRRT: Created 46 states (20 start + 26 goal)\n",
      "Debug:   SpaceTimeRRT: Planner range detected to be inf\n",
      "Info:    SpaceTimeRRT: Starting planning with 1 states already in datastructure\n",
      "Info:    SpaceTimeRRT: Starting planning with time bound factor 2.00\n"
     ]
    },
    {
     "name": "stderr",
     "output_type": "stream",
     "text": [
      "Warning: State validity checker not set! No collision checking is performed\n",
      "         at line 63 in /Users/tianpengzhang/Desktop/ompl/src/ompl/base/src/SpaceInformation.cpp\n",
      "Warning: State validity checker not set! No collision checking is performed\n",
      "         at line 63 in /Users/tianpengzhang/Desktop/ompl/src/ompl/base/src/SpaceInformation.cpp\n"
     ]
    },
    {
     "name": "stdout",
     "output_type": "stream",
     "text": [
      "Planning for agent 9/13Info:    SpaceTimeRRT: Created 70 states (36 start + 34 goal)\n",
      "\n",
      "Debug:   SpaceTimeRRT: Planner range detected to be inf\n",
      "Info:    SpaceTimeRRT: Starting planning with 1 states already in datastructure\n",
      "Info:    SpaceTimeRRT: Starting planning with time bound factor 2.00\n",
      "Planning for agent 10/13\n",
      "Info:    SpaceTimeRRT: Created 63 states (31 start + 32 goal)\n",
      "Debug:   SpaceTimeRRT: Planner range detected to be inf\n",
      "Info:    SpaceTimeRRT: Starting planning with 1 states already in datastructure\n",
      "Info:    SpaceTimeRRT: Starting planning with time bound factor 2.00\n"
     ]
    },
    {
     "name": "stderr",
     "output_type": "stream",
     "text": [
      "Warning: State validity checker not set! No collision checking is performed\n",
      "         at line 63 in /Users/tianpengzhang/Desktop/ompl/src/ompl/base/src/SpaceInformation.cpp\n",
      "Warning: State validity checker not set! No collision checking is performed\n",
      "         at line 63 in /Users/tianpengzhang/Desktop/ompl/src/ompl/base/src/SpaceInformation.cpp\n"
     ]
    },
    {
     "name": "stdout",
     "output_type": "stream",
     "text": [
      "Planning for agent 11/13Info:    SpaceTimeRRT: Created 73 states (29 start + 44 goal)\n",
      "\n",
      "Debug:   SpaceTimeRRT: Planner range detected to be inf\n",
      "Info:    SpaceTimeRRT: Starting planning with 1 states already in datastructure\n",
      "Info:    SpaceTimeRRT: Starting planning with time bound factor 2.00\n",
      "Planning for agent 12/13\n",
      "Info:    SpaceTimeRRT: Created 49 states (26 start + 23 goal)\n",
      "Debug:   SpaceTimeRRT: Planner range detected to be inf\n",
      "Info:    SpaceTimeRRT: Starting planning with 1 states already in datastructure\n",
      "Info:    SpaceTimeRRT: Starting planning with time bound factor 2.00\n"
     ]
    },
    {
     "name": "stderr",
     "output_type": "stream",
     "text": [
      "Warning: State validity checker not set! No collision checking is performed\n",
      "         at line 63 in /Users/tianpengzhang/Desktop/ompl/src/ompl/base/src/SpaceInformation.cpp\n",
      "Warning: State validity checker not set! No collision checking is performed\n",
      "         at line 63 in /Users/tianpengzhang/Desktop/ompl/src/ompl/base/src/SpaceInformation.cpp\n"
     ]
    },
    {
     "name": "stdout",
     "output_type": "stream",
     "text": [
      "On time for algorithmInfo:    SpaceTimeRRT: Created 105 states (46 start + 59 goal)\n",
      " ST-RRT* N agent =  13\n",
      "Env: MultiTunnel Alg: Seq_Tube N agent: 14\n",
      "Planning for agent 0/14\n",
      "Planning for agent 1/14\n",
      "Planning for agent 2/14\n",
      "Planning for agent 3/14\n",
      "Planning for agent 4/14\n",
      "Planning for agent 5/14\n",
      "Planning for agent 6/14\n",
      "Planning for agent 7/14\n",
      "Planning for agent 8/14\n",
      "Planning for agent 9/14\n",
      "Planning for agent 10/14\n",
      "Planning for agent 11/14\n",
      "Planning for agent 12/14\n",
      "Planning for agent 13/14\n",
      "On time for algorithm Seq_Tube N agent =  14\n",
      "Env: MultiTunnel Alg: Seq_Tube_nonLazy N agent: 14\n",
      "Planning for agent 0/14\n",
      "Planning for agent 1/14\n",
      "Planning for agent 2/14\n",
      "Planning for agent 3/14\n",
      "Planning for agent 4/14\n",
      "Planning for agent 5/14\n",
      "Planning for agent 6/14\n",
      "Planning for agent 7/14\n",
      "Planning for agent 8/14\n",
      "Planning for agent 9/14\n",
      "Planning for agent 10/14\n",
      "Planning for agent 11/14\n",
      "Planning for agent 12/14\n",
      "Planning for agent 13/14\n",
      "On time for algorithm Seq_Tube_nonLazy N agent =  14\n",
      "Env: MultiTunnel Alg: ST-RRT* N agent: 14\n",
      "Planning for agent 0/14\n",
      "Debug:   SpaceTimeRRT: Planner range detected to be inf\n",
      "Info:    SpaceTimeRRT: Starting planning with 1 states already in datastructure\n",
      "Info:    SpaceTimeRRT: Starting planning with time bound factor 2.00\n",
      "Planning for agent 1/14\n",
      "Info:    SpaceTimeRRT: Created 93 states (38 start + 55 goal)\n",
      "Debug:   SpaceTimeRRT: Planner range detected to be inf\n",
      "Info:    SpaceTimeRRT: Starting planning with 1 states already in datastructure\n",
      "Info:    SpaceTimeRRT: Starting planning with time bound factor 2.00\n",
      "Planning for agent 2/14\n",
      "Info:    SpaceTimeRRT: Created 72 states (31 start + 41 goal)\n",
      "Debug:   SpaceTimeRRT: Planner range detected to be inf\n",
      "Info:    SpaceTimeRRT: Starting planning with 1 states already in datastructure\n",
      "Info:    SpaceTimeRRT: Starting planning with time bound factor 2.00\n"
     ]
    },
    {
     "name": "stderr",
     "output_type": "stream",
     "text": [
      "Warning: State validity checker not set! No collision checking is performed\n",
      "         at line 63 in /Users/tianpengzhang/Desktop/ompl/src/ompl/base/src/SpaceInformation.cpp\n",
      "Warning: State validity checker not set! No collision checking is performed\n",
      "         at line 63 in /Users/tianpengzhang/Desktop/ompl/src/ompl/base/src/SpaceInformation.cpp\n",
      "Warning: State validity checker not set! No collision checking is performed\n",
      "         at line 63 in /Users/tianpengzhang/Desktop/ompl/src/ompl/base/src/SpaceInformation.cpp\n"
     ]
    },
    {
     "name": "stdout",
     "output_type": "stream",
     "text": [
      "Planning for agent 3/14Info:    SpaceTimeRRT: Created 46 states (19 start + 27 goal)\n",
      "\n",
      "Debug:   SpaceTimeRRT: Planner range detected to be inf\n",
      "Info:    SpaceTimeRRT: Starting planning with 1 states already in datastructure\n",
      "Info:    SpaceTimeRRT: Starting planning with time bound factor 2.00\n",
      "Planning for agent 4/14\n",
      "Info:    SpaceTimeRRT: Created 70 states (34 start + 36 goal)\n",
      "Debug:   SpaceTimeRRT: Planner range detected to be inf\n",
      "Info:    SpaceTimeRRT: Starting planning with 1 states already in datastructure\n",
      "Info:    SpaceTimeRRT: Starting planning with time bound factor 2.00\n"
     ]
    },
    {
     "name": "stderr",
     "output_type": "stream",
     "text": [
      "Warning: State validity checker not set! No collision checking is performed\n",
      "         at line 63 in /Users/tianpengzhang/Desktop/ompl/src/ompl/base/src/SpaceInformation.cpp\n",
      "Warning: State validity checker not set! No collision checking is performed\n",
      "         at line 63 in /Users/tianpengzhang/Desktop/ompl/src/ompl/base/src/SpaceInformation.cpp\n"
     ]
    },
    {
     "name": "stdout",
     "output_type": "stream",
     "text": [
      "Planning for agent 5/14Info:    SpaceTimeRRT: Created 42 states (15 start + 27 goal)\n",
      "\n",
      "Debug:   SpaceTimeRRT: Planner range detected to be inf\n",
      "Info:    SpaceTimeRRT: Starting planning with 1 states already in datastructure\n",
      "Info:    SpaceTimeRRT: Starting planning with time bound factor 2.00\n",
      "Planning for agent 6/14\n",
      "Info:    SpaceTimeRRT: Created 55 states (21 start + 34 goal)\n",
      "Debug:   SpaceTimeRRT: Planner range detected to be inf\n",
      "Info:    SpaceTimeRRT: Starting planning with 1 states already in datastructure\n",
      "Info:    SpaceTimeRRT: Starting planning with time bound factor 2.00\n"
     ]
    },
    {
     "name": "stderr",
     "output_type": "stream",
     "text": [
      "Warning: State validity checker not set! No collision checking is performed\n",
      "         at line 63 in /Users/tianpengzhang/Desktop/ompl/src/ompl/base/src/SpaceInformation.cpp\n",
      "Warning: State validity checker not set! No collision checking is performed\n",
      "         at line 63 in /Users/tianpengzhang/Desktop/ompl/src/ompl/base/src/SpaceInformation.cpp\n"
     ]
    },
    {
     "name": "stdout",
     "output_type": "stream",
     "text": [
      "Planning for agent 7/14Info:    SpaceTimeRRT: Created 89 states (51 start + 38 goal)\n",
      "\n",
      "Debug:   SpaceTimeRRT: Planner range detected to be inf\n",
      "Info:    SpaceTimeRRT: Starting planning with 1 states already in datastructure\n",
      "Info:    SpaceTimeRRT: Starting planning with time bound factor 2.00\n",
      "Planning for agent 8/14\n",
      "Info:    SpaceTimeRRT: Created 44 states (23 start + 21 goal)\n",
      "Debug:   SpaceTimeRRT: Planner range detected to be inf\n",
      "Info:    SpaceTimeRRT: Starting planning with 1 states already in datastructure\n",
      "Info:    SpaceTimeRRT: Starting planning with time bound factor 2.00\n"
     ]
    },
    {
     "name": "stderr",
     "output_type": "stream",
     "text": [
      "Warning: State validity checker not set! No collision checking is performed\n",
      "         at line 63 in /Users/tianpengzhang/Desktop/ompl/src/ompl/base/src/SpaceInformation.cpp\n",
      "Warning: State validity checker not set! No collision checking is performed\n",
      "         at line 63 in /Users/tianpengzhang/Desktop/ompl/src/ompl/base/src/SpaceInformation.cpp\n"
     ]
    },
    {
     "name": "stdout",
     "output_type": "stream",
     "text": [
      "Planning for agent 9/14\n",
      "Info:    SpaceTimeRRT: Created 28 states (15 start + 13 goal)\n",
      "Debug:   SpaceTimeRRT: Planner range detected to be inf\n",
      "Info:    SpaceTimeRRT: Starting planning with 1 states already in datastructure\n",
      "Info:    SpaceTimeRRT: Starting planning with time bound factor 2.00\n"
     ]
    },
    {
     "name": "stderr",
     "output_type": "stream",
     "text": [
      "Warning: State validity checker not set! No collision checking is performed\n",
      "         at line 63 in /Users/tianpengzhang/Desktop/ompl/src/ompl/base/src/SpaceInformation.cpp\n"
     ]
    },
    {
     "name": "stdout",
     "output_type": "stream",
     "text": [
      "Planning for agent 10/14Info:    SpaceTimeRRT: Created 89 states (43 start + 46 goal)\n",
      "\n",
      "Debug:   SpaceTimeRRT: Planner range detected to be inf\n",
      "Info:    SpaceTimeRRT: Starting planning with 1 states already in datastructure\n",
      "Info:    SpaceTimeRRT: Starting planning with time bound factor 2.00\n"
     ]
    },
    {
     "name": "stderr",
     "output_type": "stream",
     "text": [
      "Warning: State validity checker not set! No collision checking is performed\n",
      "         at line 63 in /Users/tianpengzhang/Desktop/ompl/src/ompl/base/src/SpaceInformation.cpp\n"
     ]
    },
    {
     "name": "stdout",
     "output_type": "stream",
     "text": [
      "Planning for agent 11/14Info:    SpaceTimeRRT: Created 84 states (37 start + 47 goal)\n",
      "\n",
      "Debug:   SpaceTimeRRT: Planner range detected to be inf\n",
      "Info:    SpaceTimeRRT: Starting planning with 1 states already in datastructure\n",
      "Info:    SpaceTimeRRT: Starting planning with time bound factor 2.00\n"
     ]
    },
    {
     "name": "stderr",
     "output_type": "stream",
     "text": [
      "Warning: State validity checker not set! No collision checking is performed\n",
      "         at line 63 in /Users/tianpengzhang/Desktop/ompl/src/ompl/base/src/SpaceInformation.cpp\n"
     ]
    },
    {
     "name": "stdout",
     "output_type": "stream",
     "text": [
      "Planning for agent 12/14Info:    SpaceTimeRRT: Created 200 states (118 start + 82 goal)\n",
      "\n",
      "Debug:   SpaceTimeRRT: Planner range detected to be inf\n",
      "Info:    SpaceTimeRRT: Starting planning with 1 states already in datastructure\n",
      "Info:    SpaceTimeRRT: Starting planning with time bound factor 2.00\n"
     ]
    },
    {
     "name": "stderr",
     "output_type": "stream",
     "text": [
      "Warning: State validity checker not set! No collision checking is performed\n",
      "         at line 63 in /Users/tianpengzhang/Desktop/ompl/src/ompl/base/src/SpaceInformation.cpp\n"
     ]
    },
    {
     "name": "stdout",
     "output_type": "stream",
     "text": [
      "Planning for agent 13/14Info:    SpaceTimeRRT: Created 99 states (59 start + 40 goal)\n",
      "\n",
      "Debug:   SpaceTimeRRT: Planner range detected to be inf\n",
      "Info:    SpaceTimeRRT: Starting planning with 1 states already in datastructure\n",
      "Info:    SpaceTimeRRT: Starting planning with time bound factor 2.00\n"
     ]
    },
    {
     "name": "stderr",
     "output_type": "stream",
     "text": [
      "Warning: State validity checker not set! No collision checking is performed\n",
      "         at line 63 in /Users/tianpengzhang/Desktop/ompl/src/ompl/base/src/SpaceInformation.cpp\n"
     ]
    },
    {
     "name": "stdout",
     "output_type": "stream",
     "text": [
      "On time for algorithmInfo:    SpaceTimeRRT: Created 122 states (56 start + 66 goal)\n",
      " ST-RRT* N agent =  14\n",
      "Env: MultiTunnel Alg: Seq_Tube N agent: 15\n",
      "Planning for agent 0/15\n",
      "Planning for agent 1/15\n",
      "Planning for agent 2/15\n",
      "Planning for agent 3/15\n",
      "Planning for agent 4/15\n",
      "Planning for agent 5/15\n",
      "Planning for agent 6/15\n",
      "Planning for agent 7/15\n",
      "Planning for agent 8/15\n",
      "Planning for agent 9/15\n",
      "Planning for agent 10/15\n",
      "Planning for agent 11/15\n",
      "Planning for agent 12/15\n",
      "Planning for agent 13/15\n",
      "Planning for agent 14/15\n",
      "On time for algorithm Seq_Tube N agent =  15\n",
      "Env: MultiTunnel Alg: Seq_Tube_nonLazy N agent: 15\n",
      "Planning for agent 0/15\n",
      "Planning for agent 1/15\n",
      "Planning for agent 2/15\n",
      "Planning for agent 3/15\n",
      "Planning for agent 4/15\n",
      "Planning for agent 5/15\n",
      "Planning for agent 6/15\n",
      "Planning for agent 7/15\n",
      "Planning for agent 8/15\n",
      "Planning for agent 9/15\n",
      "Planning for agent 10/15\n",
      "Planning for agent 11/15\n",
      "Planning for agent 12/15\n",
      "Planning for agent 13/15\n",
      "Planning for agent 14/15\n",
      "On time for algorithm Seq_Tube_nonLazy N agent =  15\n",
      "Env: MultiTunnel Alg: ST-RRT* N agent: 15\n",
      "Planning for agent 0/15\n",
      "Debug:   SpaceTimeRRT: Planner range detected to be inf\n",
      "Info:    SpaceTimeRRT: Starting planning with 1 states already in datastructure\n",
      "Info:    SpaceTimeRRT: Starting planning with time bound factor 2.00\n",
      "Planning for agent 1/15\n",
      "Info:    SpaceTimeRRT: Created 126 states (51 start + 75 goal)\n",
      "Debug:   SpaceTimeRRT: Planner range detected to be inf\n",
      "Info:    SpaceTimeRRT: Starting planning with 1 states already in datastructure\n",
      "Info:    SpaceTimeRRT: Starting planning with time bound factor 2.00\n",
      "Planning for agent 2/15\n",
      "Info:    SpaceTimeRRT: Created 91 states (51 start + 40 goal)\n",
      "Debug:   SpaceTimeRRT: Planner range detected to be inf\n",
      "Info:    SpaceTimeRRT: Starting planning with 1 states already in datastructure\n",
      "Info:    SpaceTimeRRT: Starting planning with time bound factor 2.00\n"
     ]
    },
    {
     "name": "stderr",
     "output_type": "stream",
     "text": [
      "Warning: State validity checker not set! No collision checking is performed\n",
      "         at line 63 in /Users/tianpengzhang/Desktop/ompl/src/ompl/base/src/SpaceInformation.cpp\n",
      "Warning: State validity checker not set! No collision checking is performed\n",
      "         at line 63 in /Users/tianpengzhang/Desktop/ompl/src/ompl/base/src/SpaceInformation.cpp\n",
      "Warning: State validity checker not set! No collision checking is performed\n",
      "         at line 63 in /Users/tianpengzhang/Desktop/ompl/src/ompl/base/src/SpaceInformation.cpp\n"
     ]
    },
    {
     "name": "stdout",
     "output_type": "stream",
     "text": [
      "Planning for agent 3/15Info:    SpaceTimeRRT: Created 66 states (28 start + 38 goal)\n",
      "\n",
      "Debug:   SpaceTimeRRT: Planner range detected to be inf\n",
      "Info:    SpaceTimeRRT: Starting planning with 1 states already in datastructure\n",
      "Info:    SpaceTimeRRT: Starting planning with time bound factor 2.00\n",
      "Planning for agent 4/15\n",
      "Info:    SpaceTimeRRT: Created 37 states (10 start + 27 goal)\n",
      "Debug:   SpaceTimeRRT: Planner range detected to be inf\n",
      "Info:    SpaceTimeRRT: Starting planning with 1 states already in datastructure\n",
      "Info:    SpaceTimeRRT: Starting planning with time bound factor 2.00\n"
     ]
    },
    {
     "name": "stderr",
     "output_type": "stream",
     "text": [
      "Warning: State validity checker not set! No collision checking is performed\n",
      "         at line 63 in /Users/tianpengzhang/Desktop/ompl/src/ompl/base/src/SpaceInformation.cpp\n",
      "Warning: State validity checker not set! No collision checking is performed\n",
      "         at line 63 in /Users/tianpengzhang/Desktop/ompl/src/ompl/base/src/SpaceInformation.cpp\n"
     ]
    },
    {
     "name": "stdout",
     "output_type": "stream",
     "text": [
      "Planning for agent 5/15\n",
      "Info:    SpaceTimeRRT: Created 72 states (34 start + 38 goal)\n",
      "Debug:   SpaceTimeRRT: Planner range detected to be inf\n",
      "Info:    SpaceTimeRRT: Starting planning with 1 states already in datastructure\n",
      "Info:    SpaceTimeRRT: Starting planning with time bound factor 2.00\n",
      "Planning for agent 6/15\n",
      "Info:    SpaceTimeRRT: Created 50 states (25 start + 25 goal)\n",
      "Debug:   SpaceTimeRRT: Planner range detected to be inf\n",
      "Info:    SpaceTimeRRT: Starting planning with 1 states already in datastructure\n",
      "Info:    SpaceTimeRRT: Starting planning with time bound factor 2.00\n",
      "Planning for agent 7/15\n"
     ]
    },
    {
     "name": "stderr",
     "output_type": "stream",
     "text": [
      "Warning: State validity checker not set! No collision checking is performed\n",
      "         at line 63 in /Users/tianpengzhang/Desktop/ompl/src/ompl/base/src/SpaceInformation.cpp\n",
      "Warning: State validity checker not set! No collision checking is performed\n",
      "         at line 63 in /Users/tianpengzhang/Desktop/ompl/src/ompl/base/src/SpaceInformation.cpp\n",
      "Warning: State validity checker not set! No collision checking is performed\n",
      "         at line 63 in /Users/tianpengzhang/Desktop/ompl/src/ompl/base/src/SpaceInformation.cpp\n"
     ]
    },
    {
     "name": "stdout",
     "output_type": "stream",
     "text": [
      "Info:    SpaceTimeRRT: Created 53 states (23 start + 30 goal)\n",
      "Debug:   SpaceTimeRRT: Planner range detected to be inf\n",
      "Info:    SpaceTimeRRT: Starting planning with 1 states already in datastructure\n",
      "Info:    SpaceTimeRRT: Starting planning with time bound factor 2.00\n",
      "Planning for agent 8/15Info:    SpaceTimeRRT: Created 246 states (100 start + 146 goal)\n",
      "\n",
      "Debug:   SpaceTimeRRT: Planner range detected to be inf\n",
      "Info:    SpaceTimeRRT: Starting planning with 1 states already in datastructure\n",
      "Info:    SpaceTimeRRT: Starting planning with time bound factor 2.00\n",
      "Planning for agent 9/15\n",
      "Info:    SpaceTimeRRT: Created 38 states (15 start + 23 goal)\n",
      "Debug:   SpaceTimeRRT: Planner range detected to be inf\n",
      "Info:    SpaceTimeRRT: Starting planning with 1 states already in datastructure\n",
      "Info:    SpaceTimeRRT: Starting planning with time bound factor 2.00\n"
     ]
    },
    {
     "name": "stderr",
     "output_type": "stream",
     "text": [
      "Warning: State validity checker not set! No collision checking is performed\n",
      "         at line 63 in /Users/tianpengzhang/Desktop/ompl/src/ompl/base/src/SpaceInformation.cpp\n",
      "Warning: State validity checker not set! No collision checking is performed\n",
      "         at line 63 in /Users/tianpengzhang/Desktop/ompl/src/ompl/base/src/SpaceInformation.cpp\n"
     ]
    },
    {
     "name": "stdout",
     "output_type": "stream",
     "text": [
      "Planning for agent 10/15Info:    SpaceTimeRRT: Created 108 states (45 start + 63 goal)\n",
      "\n",
      "Debug:   SpaceTimeRRT: Planner range detected to be inf\n",
      "Info:    SpaceTimeRRT: Starting planning with 1 states already in datastructure\n",
      "Info:    SpaceTimeRRT: Starting planning with time bound factor 2.00\n",
      "Planning for agent 11/15\n",
      "Info:    SpaceTimeRRT: Created 43 states (19 start + 24 goal)\n",
      "Debug:   SpaceTimeRRT: Planner range detected to be inf\n",
      "Info:    SpaceTimeRRT: Starting planning with 1 states already in datastructure\n",
      "Info:    SpaceTimeRRT: Starting planning with time bound factor 2.00\n"
     ]
    },
    {
     "name": "stderr",
     "output_type": "stream",
     "text": [
      "Warning: State validity checker not set! No collision checking is performed\n",
      "         at line 63 in /Users/tianpengzhang/Desktop/ompl/src/ompl/base/src/SpaceInformation.cpp\n",
      "Warning: State validity checker not set! No collision checking is performed\n",
      "         at line 63 in /Users/tianpengzhang/Desktop/ompl/src/ompl/base/src/SpaceInformation.cpp\n"
     ]
    },
    {
     "name": "stdout",
     "output_type": "stream",
     "text": [
      "Planning for agent 12/15Info:    SpaceTimeRRT: Created 157 states (74 start + 83 goal)\n",
      "\n",
      "Debug:   SpaceTimeRRT: Planner range detected to be inf\n",
      "Info:    SpaceTimeRRT: Starting planning with 1 states already in datastructure\n",
      "Info:    SpaceTimeRRT: Starting planning with time bound factor 2.00\n"
     ]
    },
    {
     "name": "stderr",
     "output_type": "stream",
     "text": [
      "Warning: State validity checker not set! No collision checking is performed\n",
      "         at line 63 in /Users/tianpengzhang/Desktop/ompl/src/ompl/base/src/SpaceInformation.cpp\n"
     ]
    },
    {
     "name": "stdout",
     "output_type": "stream",
     "text": [
      "Info:    SpaceTimeRRT: Increased time bound factor to 4.00\n",
      "Planning for agent 13/15\n",
      "Info:    SpaceTimeRRT: Created 516 states (257 start + 259 goal)\n",
      "Debug:   SpaceTimeRRT: Planner range detected to be inf\n",
      "Info:    SpaceTimeRRT: Starting planning with 1 states already in datastructure\n",
      "Info:    SpaceTimeRRT: Starting planning with time bound factor 2.00\n"
     ]
    },
    {
     "name": "stderr",
     "output_type": "stream",
     "text": [
      "Warning: State validity checker not set! No collision checking is performed\n",
      "         at line 63 in /Users/tianpengzhang/Desktop/ompl/src/ompl/base/src/SpaceInformation.cpp\n"
     ]
    },
    {
     "name": "stdout",
     "output_type": "stream",
     "text": [
      "Planning for agent 14/15Info:    SpaceTimeRRT: Created 123 states (52 start + 71 goal)\n",
      "\n",
      "Debug:   SpaceTimeRRT: Planner range detected to be inf\n",
      "Info:    SpaceTimeRRT: Starting planning with 1 states already in datastructure\n",
      "Info:    SpaceTimeRRT: Starting planning with time bound factor 2.00\n"
     ]
    },
    {
     "name": "stderr",
     "output_type": "stream",
     "text": [
      "Warning: State validity checker not set! No collision checking is performed\n",
      "         at line 63 in /Users/tianpengzhang/Desktop/ompl/src/ompl/base/src/SpaceInformation.cpp\n"
     ]
    },
    {
     "name": "stdout",
     "output_type": "stream",
     "text": [
      "On time for algorithmInfo:    SpaceTimeRRT: Created 186 states (90 start + 96 goal)\n",
      " ST-RRT* N agent =  15\n",
      "Env: MultiTunnel Alg: Seq_Tube N agent: 16\n",
      "Planning for agent 0/16\n",
      "Planning for agent 1/16\n",
      "Planning for agent 2/16\n",
      "Planning for agent 3/16\n",
      "Planning for agent 4/16\n",
      "Planning for agent 5/16\n",
      "Planning for agent 6/16\n",
      "Planning for agent 7/16\n",
      "Planning for agent 8/16\n",
      "Planning for agent 9/16\n",
      "Planning for agent 10/16\n",
      "Planning for agent 11/16\n",
      "Planning for agent 12/16\n",
      "Planning for agent 13/16\n",
      "Planning for agent 14/16\n",
      "Planning for agent 15/16\n",
      "On time for algorithm Seq_Tube N agent =  16\n",
      "Env: MultiTunnel Alg: Seq_Tube_nonLazy N agent: 16\n",
      "Planning for agent 0/16\n",
      "Planning for agent 1/16\n",
      "Planning for agent 2/16\n",
      "Planning for agent 3/16\n",
      "Planning for agent 4/16\n",
      "Planning for agent 5/16\n",
      "Planning for agent 6/16\n",
      "Planning for agent 7/16\n",
      "Planning for agent 8/16\n",
      "Planning for agent 9/16\n",
      "Planning for agent 10/16\n",
      "Planning for agent 11/16\n",
      "Planning for agent 12/16\n",
      "Planning for agent 13/16\n",
      "Planning for agent 14/16\n",
      "Planning for agent 15/16\n",
      "On time for algorithm Seq_Tube_nonLazy N agent =  16\n",
      "Env: MultiTunnel Alg: ST-RRT* N agent: 16\n",
      "Planning for agent 0/16\n",
      "Debug:   SpaceTimeRRT: Planner range detected to be inf\n",
      "Info:    SpaceTimeRRT: Starting planning with 1 states already in datastructure\n",
      "Info:    SpaceTimeRRT: Starting planning with time bound factor 2.00\n",
      "Planning for agent 1/16\n",
      "Info:    SpaceTimeRRT: Created 130 states (55 start + 75 goal)\n",
      "Debug:   SpaceTimeRRT: Planner range detected to be inf\n",
      "Info:    SpaceTimeRRT: Starting planning with 1 states already in datastructure\n",
      "Info:    SpaceTimeRRT: Starting planning with time bound factor 2.00\n"
     ]
    },
    {
     "name": "stderr",
     "output_type": "stream",
     "text": [
      "Warning: State validity checker not set! No collision checking is performed\n",
      "         at line 63 in /Users/tianpengzhang/Desktop/ompl/src/ompl/base/src/SpaceInformation.cpp\n",
      "Warning: State validity checker not set! No collision checking is performed\n",
      "         at line 63 in /Users/tianpengzhang/Desktop/ompl/src/ompl/base/src/SpaceInformation.cpp\n"
     ]
    },
    {
     "name": "stdout",
     "output_type": "stream",
     "text": [
      "Planning for agent 2/16\n",
      "Info:    SpaceTimeRRT: Created 65 states (37 start + 28 goal)\n",
      "Debug:   SpaceTimeRRT: Planner range detected to be inf\n",
      "Info:    SpaceTimeRRT: Starting planning with 1 states already in datastructure\n",
      "Info:    SpaceTimeRRT: Starting planning with time bound factor 2.00\n",
      "Planning for agent 3/16\n",
      "Info:    SpaceTimeRRT: Created 97 states (42 start + 55 goal)\n",
      "Debug:   SpaceTimeRRT: Planner range detected to be inf\n",
      "Info:    SpaceTimeRRT: Starting planning with 1 states already in datastructure\n",
      "Info:    SpaceTimeRRT: Starting planning with time bound factor 2.00\n",
      "Planning for agent 4/16\n",
      "Info:    SpaceTimeRRT: Created 55 states (24 start + 31 goal)\n",
      "Debug:   SpaceTimeRRT: Planner range detected to be inf\n",
      "Info:    SpaceTimeRRT: Starting planning with 1 states already in datastructure\n",
      "Info:    SpaceTimeRRT: Starting planning with time bound factor 2.00\n"
     ]
    },
    {
     "name": "stderr",
     "output_type": "stream",
     "text": [
      "Warning: State validity checker not set! No collision checking is performed\n",
      "         at line 63 in /Users/tianpengzhang/Desktop/ompl/src/ompl/base/src/SpaceInformation.cpp\n",
      "Warning: State validity checker not set! No collision checking is performed\n",
      "         at line 63 in /Users/tianpengzhang/Desktop/ompl/src/ompl/base/src/SpaceInformation.cpp\n",
      "Warning: State validity checker not set! No collision checking is performed\n",
      "         at line 63 in /Users/tianpengzhang/Desktop/ompl/src/ompl/base/src/SpaceInformation.cpp\n"
     ]
    },
    {
     "name": "stdout",
     "output_type": "stream",
     "text": [
      "Planning for agent 5/16Info:    SpaceTimeRRT: Created 51 states (27 start + 24 goal)\n",
      "\n",
      "Debug:   SpaceTimeRRT: Planner range detected to be inf\n",
      "Info:    SpaceTimeRRT: Starting planning with 1 states already in datastructure\n",
      "Info:    SpaceTimeRRT: Starting planning with time bound factor 2.00\n",
      "Planning for agent 6/16\n",
      "Info:    SpaceTimeRRT: Created 79 states (40 start + 39 goal)\n",
      "Debug:   SpaceTimeRRT: Planner range detected to be inf\n",
      "Info:    SpaceTimeRRT: Starting planning with 1 states already in datastructure\n",
      "Info:    SpaceTimeRRT: Starting planning with time bound factor 2.00\n"
     ]
    },
    {
     "name": "stderr",
     "output_type": "stream",
     "text": [
      "Warning: State validity checker not set! No collision checking is performed\n",
      "         at line 63 in /Users/tianpengzhang/Desktop/ompl/src/ompl/base/src/SpaceInformation.cpp\n",
      "Warning: State validity checker not set! No collision checking is performed\n",
      "         at line 63 in /Users/tianpengzhang/Desktop/ompl/src/ompl/base/src/SpaceInformation.cpp\n"
     ]
    },
    {
     "name": "stdout",
     "output_type": "stream",
     "text": [
      "Planning for agent 7/16Info:    SpaceTimeRRT: Created 54 states (22 start + 32 goal)\n",
      "\n",
      "Debug:   SpaceTimeRRT: Planner range detected to be inf\n",
      "Info:    SpaceTimeRRT: Starting planning with 1 states already in datastructure\n",
      "Info:    SpaceTimeRRT: Starting planning with time bound factor 2.00\n"
     ]
    },
    {
     "name": "stderr",
     "output_type": "stream",
     "text": [
      "Warning: State validity checker not set! No collision checking is performed\n",
      "         at line 63 in /Users/tianpengzhang/Desktop/ompl/src/ompl/base/src/SpaceInformation.cpp\n"
     ]
    },
    {
     "name": "stdout",
     "output_type": "stream",
     "text": [
      "Planning for agent 8/16Info:    SpaceTimeRRT: Created 97 states (42 start + 55 goal)\n",
      "\n",
      "Debug:   SpaceTimeRRT: Planner range detected to be inf\n",
      "Info:    SpaceTimeRRT: Starting planning with 1 states already in datastructure\n",
      "Info:    SpaceTimeRRT: Starting planning with time bound factor 2.00\n",
      "Planning for agent 9/16\n",
      "Info:    SpaceTimeRRT: Created 50 states (22 start + 28 goal)\n",
      "Debug:   SpaceTimeRRT: Planner range detected to be inf\n",
      "Info:    SpaceTimeRRT: Starting planning with 1 states already in datastructure\n",
      "Info:    SpaceTimeRRT: Starting planning with time bound factor 2.00\n"
     ]
    },
    {
     "name": "stderr",
     "output_type": "stream",
     "text": [
      "Warning: State validity checker not set! No collision checking is performed\n",
      "         at line 63 in /Users/tianpengzhang/Desktop/ompl/src/ompl/base/src/SpaceInformation.cpp\n",
      "Warning: State validity checker not set! No collision checking is performed\n",
      "         at line 63 in /Users/tianpengzhang/Desktop/ompl/src/ompl/base/src/SpaceInformation.cpp\n"
     ]
    },
    {
     "name": "stdout",
     "output_type": "stream",
     "text": [
      "Planning for agent 10/16Info:    SpaceTimeRRT: Created 171 states (85 start + 86 goal)\n",
      "\n",
      "Debug:   SpaceTimeRRT: Planner range detected to be inf\n",
      "Info:    SpaceTimeRRT: Starting planning with 1 states already in datastructure\n",
      "Info:    SpaceTimeRRT: Starting planning with time bound factor 2.00\n"
     ]
    },
    {
     "name": "stderr",
     "output_type": "stream",
     "text": [
      "Warning: State validity checker not set! No collision checking is performed\n",
      "         at line 63 in /Users/tianpengzhang/Desktop/ompl/src/ompl/base/src/SpaceInformation.cpp\n"
     ]
    },
    {
     "name": "stdout",
     "output_type": "stream",
     "text": [
      "Planning for agent 11/16Info:    SpaceTimeRRT: Created 175 states (67 start + 108 goal)\n",
      "\n",
      "Debug:   SpaceTimeRRT: Planner range detected to be inf\n",
      "Info:    SpaceTimeRRT: Starting planning with 1 states already in datastructure\n",
      "Info:    SpaceTimeRRT: Starting planning with time bound factor 2.00\n"
     ]
    },
    {
     "name": "stderr",
     "output_type": "stream",
     "text": [
      "Warning: State validity checker not set! No collision checking is performed\n",
      "         at line 63 in /Users/tianpengzhang/Desktop/ompl/src/ompl/base/src/SpaceInformation.cpp\n"
     ]
    },
    {
     "name": "stdout",
     "output_type": "stream",
     "text": [
      "Planning for agent 12/16Info:    SpaceTimeRRT: Created 177 states (79 start + 98 goal)\n",
      "\n",
      "Debug:   SpaceTimeRRT: Planner range detected to be inf\n",
      "Info:    SpaceTimeRRT: Starting planning with 1 states already in datastructure\n",
      "Info:    SpaceTimeRRT: Starting planning with time bound factor 2.00\n"
     ]
    },
    {
     "name": "stderr",
     "output_type": "stream",
     "text": [
      "Warning: State validity checker not set! No collision checking is performed\n",
      "         at line 63 in /Users/tianpengzhang/Desktop/ompl/src/ompl/base/src/SpaceInformation.cpp\n"
     ]
    },
    {
     "name": "stdout",
     "output_type": "stream",
     "text": [
      "Planning for agent 13/16Info:    SpaceTimeRRT: Created 146 states (60 start + 86 goal)\n",
      "\n",
      "Debug:   SpaceTimeRRT: Planner range detected to be inf\n",
      "Info:    SpaceTimeRRT: Starting planning with 1 states already in datastructure\n",
      "Info:    SpaceTimeRRT: Starting planning with time bound factor 2.00\n"
     ]
    },
    {
     "name": "stderr",
     "output_type": "stream",
     "text": [
      "Warning: State validity checker not set! No collision checking is performed\n",
      "         at line 63 in /Users/tianpengzhang/Desktop/ompl/src/ompl/base/src/SpaceInformation.cpp\n"
     ]
    },
    {
     "name": "stdout",
     "output_type": "stream",
     "text": [
      "Planning for agent 14/16Info:    SpaceTimeRRT: Created 374 states (163 start + 211 goal)\n",
      "\n",
      "Debug:   SpaceTimeRRT: Planner range detected to be inf\n",
      "Info:    SpaceTimeRRT: Starting planning with 1 states already in datastructure\n",
      "Info:    SpaceTimeRRT: Starting planning with time bound factor 2.00\n"
     ]
    },
    {
     "name": "stderr",
     "output_type": "stream",
     "text": [
      "Warning: State validity checker not set! No collision checking is performed\n",
      "         at line 63 in /Users/tianpengzhang/Desktop/ompl/src/ompl/base/src/SpaceInformation.cpp\n"
     ]
    },
    {
     "name": "stdout",
     "output_type": "stream",
     "text": [
      "Planning for agent 15/16Info:    SpaceTimeRRT: Created 99 states (51 start + 48 goal)\n",
      "\n",
      "Debug:   SpaceTimeRRT: Planner range detected to be inf\n",
      "Info:    SpaceTimeRRT: Starting planning with 1 states already in datastructure\n",
      "Info:    SpaceTimeRRT: Starting planning with time bound factor 2.00\n"
     ]
    },
    {
     "name": "stderr",
     "output_type": "stream",
     "text": [
      "Warning: State validity checker not set! No collision checking is performed\n",
      "         at line 63 in /Users/tianpengzhang/Desktop/ompl/src/ompl/base/src/SpaceInformation.cpp\n"
     ]
    },
    {
     "name": "stdout",
     "output_type": "stream",
     "text": [
      "On time for algorithmInfo:    SpaceTimeRRT: Created 129 states (45 start + 84 goal)\n",
      " ST-RRT* N agent =  16\n",
      "Env: MultiTunnel Alg: Seq_Tube N agent: 17\n",
      "Planning for agent 0/17\n",
      "Planning for agent 1/17\n",
      "Planning for agent 2/17\n",
      "Planning for agent 3/17\n",
      "Planning for agent 4/17\n",
      "Planning for agent 5/17\n",
      "Planning for agent 6/17\n",
      "Planning for agent 7/17\n",
      "Planning for agent 8/17\n",
      "Planning for agent 9/17\n",
      "Planning for agent 10/17\n",
      "Planning for agent 11/17\n",
      "Planning for agent 12/17\n",
      "Planning for agent 13/17\n",
      "Planning for agent 14/17\n",
      "Planning for agent 15/17\n",
      "Planning for agent 16/17\n",
      "On time for algorithm Seq_Tube N agent =  17\n",
      "Env: MultiTunnel Alg: Seq_Tube_nonLazy N agent: 17\n",
      "Planning for agent 0/17\n",
      "Planning for agent 1/17\n",
      "Planning for agent 2/17\n",
      "Planning for agent 3/17\n",
      "Planning for agent 4/17\n",
      "Planning for agent 5/17\n",
      "Planning for agent 6/17\n",
      "Planning for agent 7/17\n",
      "Planning for agent 8/17\n",
      "Planning for agent 9/17\n",
      "Planning for agent 10/17\n",
      "Planning for agent 11/17\n",
      "Planning for agent 12/17\n",
      "Planning for agent 13/17\n",
      "Planning for agent 14/17\n",
      "Planning for agent 15/17\n",
      "Algorithm timeout\n",
      "Time out for algorithm Seq_Tube_nonLazy N agent =  17\n",
      "Env: MultiTunnel Alg: ST-RRT* N agent: 17\n",
      "Planning for agent 0/17\n",
      "Debug:   SpaceTimeRRT: Planner range detected to be inf\n",
      "Info:    SpaceTimeRRT: Starting planning with 1 states already in datastructure\n",
      "Info:    SpaceTimeRRT: Starting planning with time bound factor 2.00\n",
      "Planning for agent 1/17\n",
      "Info:    SpaceTimeRRT: Created 99 states (44 start + 55 goal)\n",
      "Debug:   SpaceTimeRRT: Planner range detected to be inf\n",
      "Info:    SpaceTimeRRT: Starting planning with 1 states already in datastructure\n",
      "Info:    SpaceTimeRRT: Starting planning with time bound factor 2.00\n"
     ]
    },
    {
     "name": "stderr",
     "output_type": "stream",
     "text": [
      "Warning: State validity checker not set! No collision checking is performed\n",
      "         at line 63 in /Users/tianpengzhang/Desktop/ompl/src/ompl/base/src/SpaceInformation.cpp\n",
      "Warning: State validity checker not set! No collision checking is performed\n",
      "         at line 63 in /Users/tianpengzhang/Desktop/ompl/src/ompl/base/src/SpaceInformation.cpp\n"
     ]
    },
    {
     "name": "stdout",
     "output_type": "stream",
     "text": [
      "Planning for agent 2/17Info:    SpaceTimeRRT: Created 107 states (50 start + 57 goal)\n",
      "\n",
      "Debug:   SpaceTimeRRT: Planner range detected to be inf\n",
      "Info:    SpaceTimeRRT: Starting planning with 1 states already in datastructure\n",
      "Info:    SpaceTimeRRT: Starting planning with time bound factor 2.00\n",
      "Planning for agent 3/17\n",
      "Info:    SpaceTimeRRT: Created 80 states (34 start + 46 goal)\n",
      "Debug:   SpaceTimeRRT: Planner range detected to be inf\n",
      "Info:    SpaceTimeRRT: Starting planning with 1 states already in datastructure\n",
      "Info:    SpaceTimeRRT: Starting planning with time bound factor 2.00\n"
     ]
    },
    {
     "name": "stderr",
     "output_type": "stream",
     "text": [
      "Warning: State validity checker not set! No collision checking is performed\n",
      "         at line 63 in /Users/tianpengzhang/Desktop/ompl/src/ompl/base/src/SpaceInformation.cpp\n",
      "Warning: State validity checker not set! No collision checking is performed\n",
      "         at line 63 in /Users/tianpengzhang/Desktop/ompl/src/ompl/base/src/SpaceInformation.cpp\n"
     ]
    },
    {
     "name": "stdout",
     "output_type": "stream",
     "text": [
      "Planning for agent 4/17Info:    SpaceTimeRRT: Created 54 states (27 start + 27 goal)\n",
      "\n",
      "Debug:   SpaceTimeRRT: Planner range detected to be inf\n",
      "Info:    SpaceTimeRRT: Starting planning with 1 states already in datastructure\n",
      "Info:    SpaceTimeRRT: Starting planning with time bound factor 2.00\n",
      "Planning for agent 5/17\n",
      "Info:    SpaceTimeRRT: Created 72 states (34 start + 38 goal)\n",
      "Debug:   SpaceTimeRRT: Planner range detected to be inf\n",
      "Info:    SpaceTimeRRT: Starting planning with 1 states already in datastructure\n",
      "Info:    SpaceTimeRRT: Starting planning with time bound factor 2.00\n"
     ]
    },
    {
     "name": "stderr",
     "output_type": "stream",
     "text": [
      "Warning: State validity checker not set! No collision checking is performed\n",
      "         at line 63 in /Users/tianpengzhang/Desktop/ompl/src/ompl/base/src/SpaceInformation.cpp\n",
      "Warning: State validity checker not set! No collision checking is performed\n",
      "         at line 63 in /Users/tianpengzhang/Desktop/ompl/src/ompl/base/src/SpaceInformation.cpp\n"
     ]
    },
    {
     "name": "stdout",
     "output_type": "stream",
     "text": [
      "Planning for agent 6/17Info:    SpaceTimeRRT: Created 119 states (59 start + 60 goal)\n",
      "\n",
      "Debug:   SpaceTimeRRT: Planner range detected to be inf\n",
      "Info:    SpaceTimeRRT: Starting planning with 1 states already in datastructure\n",
      "Info:    SpaceTimeRRT: Starting planning with time bound factor 2.00\n",
      "Planning for agent 7/17\n",
      "Info:    SpaceTimeRRT: Created 37 states (16 start + 21 goal)\n",
      "Debug:   SpaceTimeRRT: Planner range detected to be inf\n",
      "Info:    SpaceTimeRRT: Starting planning with 1 states already in datastructure\n",
      "Info:    SpaceTimeRRT: Starting planning with time bound factor 2.00\n"
     ]
    },
    {
     "name": "stderr",
     "output_type": "stream",
     "text": [
      "Warning: State validity checker not set! No collision checking is performed\n",
      "         at line 63 in /Users/tianpengzhang/Desktop/ompl/src/ompl/base/src/SpaceInformation.cpp\n",
      "Warning: State validity checker not set! No collision checking is performed\n",
      "         at line 63 in /Users/tianpengzhang/Desktop/ompl/src/ompl/base/src/SpaceInformation.cpp\n"
     ]
    },
    {
     "name": "stdout",
     "output_type": "stream",
     "text": [
      "Planning for agent 8/17Info:    SpaceTimeRRT: Created 68 states (30 start + 38 goal)\n",
      "\n",
      "Debug:   SpaceTimeRRT: Planner range detected to be inf\n",
      "Info:    SpaceTimeRRT: Starting planning with 1 states already in datastructure\n",
      "Info:    SpaceTimeRRT: Starting planning with time bound factor 2.00\n"
     ]
    },
    {
     "name": "stderr",
     "output_type": "stream",
     "text": [
      "Warning: State validity checker not set! No collision checking is performed\n",
      "         at line 63 in /Users/tianpengzhang/Desktop/ompl/src/ompl/base/src/SpaceInformation.cpp\n"
     ]
    },
    {
     "name": "stdout",
     "output_type": "stream",
     "text": [
      "Planning for agent 9/17Info:    SpaceTimeRRT: Created 99 states (48 start + 51 goal)\n",
      "\n",
      "Debug:   SpaceTimeRRT: Planner range detected to be inf\n",
      "Info:    SpaceTimeRRT: Starting planning with 1 states already in datastructure\n",
      "Info:    SpaceTimeRRT: Starting planning with time bound factor 2.00\n"
     ]
    },
    {
     "name": "stderr",
     "output_type": "stream",
     "text": [
      "Warning: State validity checker not set! No collision checking is performed\n",
      "         at line 63 in /Users/tianpengzhang/Desktop/ompl/src/ompl/base/src/SpaceInformation.cpp\n"
     ]
    },
    {
     "name": "stdout",
     "output_type": "stream",
     "text": [
      "Planning for agent 10/17Info:    SpaceTimeRRT: Created 142 states (62 start + 80 goal)\n",
      "\n",
      "Debug:   SpaceTimeRRT: Planner range detected to be inf\n",
      "Info:    SpaceTimeRRT: Starting planning with 1 states already in datastructure\n",
      "Info:    SpaceTimeRRT: Starting planning with time bound factor 2.00\n"
     ]
    },
    {
     "name": "stderr",
     "output_type": "stream",
     "text": [
      "Warning: State validity checker not set! No collision checking is performed\n",
      "         at line 63 in /Users/tianpengzhang/Desktop/ompl/src/ompl/base/src/SpaceInformation.cpp\n"
     ]
    },
    {
     "name": "stdout",
     "output_type": "stream",
     "text": [
      "Planning for agent 11/17Info:    SpaceTimeRRT: Created 117 states (37 start + 80 goal)\n",
      "\n",
      "Debug:   SpaceTimeRRT: Planner range detected to be inf\n",
      "Info:    SpaceTimeRRT: Starting planning with 1 states already in datastructure\n",
      "Info:    SpaceTimeRRT: Starting planning with time bound factor 2.00\n"
     ]
    },
    {
     "name": "stderr",
     "output_type": "stream",
     "text": [
      "Warning: State validity checker not set! No collision checking is performed\n",
      "         at line 63 in /Users/tianpengzhang/Desktop/ompl/src/ompl/base/src/SpaceInformation.cpp\n"
     ]
    },
    {
     "name": "stdout",
     "output_type": "stream",
     "text": [
      "Planning for agent 12/17Info:    SpaceTimeRRT: Created 55 states (23 start + 32 goal)\n",
      "\n",
      "Debug:   SpaceTimeRRT: Planner range detected to be inf\n",
      "Info:    SpaceTimeRRT: Starting planning with 1 states already in datastructure\n",
      "Info:    SpaceTimeRRT: Starting planning with time bound factor 2.00\n"
     ]
    },
    {
     "name": "stderr",
     "output_type": "stream",
     "text": [
      "Warning: State validity checker not set! No collision checking is performed\n",
      "         at line 63 in /Users/tianpengzhang/Desktop/ompl/src/ompl/base/src/SpaceInformation.cpp\n"
     ]
    },
    {
     "name": "stdout",
     "output_type": "stream",
     "text": [
      "Planning for agent 13/17Info:    SpaceTimeRRT: Created 131 states (52 start + 79 goal)\n",
      "\n",
      "Debug:   SpaceTimeRRT: Planner range detected to be inf\n",
      "Info:    SpaceTimeRRT: Starting planning with 1 states already in datastructure\n",
      "Info:    SpaceTimeRRT: Starting planning with time bound factor 2.00\n"
     ]
    },
    {
     "name": "stderr",
     "output_type": "stream",
     "text": [
      "Warning: State validity checker not set! No collision checking is performed\n",
      "         at line 63 in /Users/tianpengzhang/Desktop/ompl/src/ompl/base/src/SpaceInformation.cpp\n"
     ]
    },
    {
     "name": "stdout",
     "output_type": "stream",
     "text": [
      "Planning for agent 14/17Info:    SpaceTimeRRT: Created 123 states (47 start + 76 goal)\n",
      "\n",
      "Debug:   SpaceTimeRRT: Planner range detected to be inf\n",
      "Info:    SpaceTimeRRT: Starting planning with 1 states already in datastructure\n",
      "Info:    SpaceTimeRRT: Starting planning with time bound factor 2.00\n"
     ]
    },
    {
     "name": "stderr",
     "output_type": "stream",
     "text": [
      "Warning: State validity checker not set! No collision checking is performed\n",
      "         at line 63 in /Users/tianpengzhang/Desktop/ompl/src/ompl/base/src/SpaceInformation.cpp\n"
     ]
    },
    {
     "name": "stdout",
     "output_type": "stream",
     "text": [
      "Planning for agent 15/17Info:    SpaceTimeRRT: Created 73 states (34 start + 39 goal)\n",
      "\n",
      "Debug:   SpaceTimeRRT: Planner range detected to be inf\n",
      "Info:    SpaceTimeRRT: Starting planning with 1 states already in datastructure\n",
      "Info:    SpaceTimeRRT: Starting planning with time bound factor 2.00\n",
      "Planning for agent 16/17\n",
      "Info:    SpaceTimeRRT: Created 44 states (21 start + 23 goal)\n",
      "Debug:   SpaceTimeRRT: Planner range detected to be inf\n",
      "Info:    SpaceTimeRRT: Starting planning with 1 states already in datastructure\n",
      "Info:    SpaceTimeRRT: Starting planning with time bound factor 2.00\n"
     ]
    },
    {
     "name": "stderr",
     "output_type": "stream",
     "text": [
      "Warning: State validity checker not set! No collision checking is performed\n",
      "         at line 63 in /Users/tianpengzhang/Desktop/ompl/src/ompl/base/src/SpaceInformation.cpp\n",
      "Warning: State validity checker not set! No collision checking is performed\n",
      "         at line 63 in /Users/tianpengzhang/Desktop/ompl/src/ompl/base/src/SpaceInformation.cpp\n"
     ]
    },
    {
     "name": "stdout",
     "output_type": "stream",
     "text": [
      "On time for algorithmInfo:    SpaceTimeRRT: Created 88 states (30 start + 58 goal)\n",
      " ST-RRT* N agent =  17\n",
      "Env: MultiTunnel Alg: Seq_Tube N agent: 18\n",
      "Planning for agent 0/18\n",
      "Planning for agent 1/18\n",
      "Planning for agent 2/18\n",
      "Planning for agent 3/18\n",
      "Planning for agent 4/18\n",
      "Planning for agent 5/18\n",
      "Planning for agent 6/18\n",
      "Planning for agent 7/18\n",
      "Planning for agent 8/18\n",
      "Planning for agent 9/18\n",
      "Planning for agent 10/18\n",
      "Planning for agent 11/18\n",
      "Planning for agent 12/18\n",
      "Planning for agent 13/18\n",
      "Planning for agent 14/18\n",
      "Planning for agent 15/18\n",
      "Planning for agent 16/18\n",
      "Planning for agent 17/18\n",
      "On time for algorithm Seq_Tube N agent =  18\n",
      "Env: MultiTunnel Alg: ST-RRT* N agent: 18\n",
      "Planning for agent 0/18\n",
      "Debug:   SpaceTimeRRT: Planner range detected to be inf\n",
      "Info:    SpaceTimeRRT: Starting planning with 1 states already in datastructure\n",
      "Info:    SpaceTimeRRT: Starting planning with time bound factor 2.00\n",
      "Planning for agent 1/18\n",
      "Info:    SpaceTimeRRT: Created 137 states (59 start + 78 goal)\n",
      "Debug:   SpaceTimeRRT: Planner range detected to be inf\n",
      "Info:    SpaceTimeRRT: Starting planning with 1 states already in datastructure\n",
      "Info:    SpaceTimeRRT: Starting planning with time bound factor 2.00\n",
      "Planning for agent 2/18\n",
      "Info:    SpaceTimeRRT: Created 121 states (59 start + 62 goal)\n",
      "Debug:   SpaceTimeRRT: Planner range detected to be inf\n",
      "Info:    SpaceTimeRRT: Starting planning with 1 states already in datastructure\n",
      "Info:    SpaceTimeRRT: Starting planning with time bound factor 2.00\n"
     ]
    },
    {
     "name": "stderr",
     "output_type": "stream",
     "text": [
      "Warning: State validity checker not set! No collision checking is performed\n",
      "         at line 63 in /Users/tianpengzhang/Desktop/ompl/src/ompl/base/src/SpaceInformation.cpp\n",
      "Warning: State validity checker not set! No collision checking is performed\n",
      "         at line 63 in /Users/tianpengzhang/Desktop/ompl/src/ompl/base/src/SpaceInformation.cpp\n",
      "Warning: State validity checker not set! No collision checking is performed\n",
      "         at line 63 in /Users/tianpengzhang/Desktop/ompl/src/ompl/base/src/SpaceInformation.cpp\n"
     ]
    },
    {
     "name": "stdout",
     "output_type": "stream",
     "text": [
      "Planning for agent 3/18Info:    SpaceTimeRRT: Created 85 states (32 start + 53 goal)\n",
      "\n",
      "Debug:   SpaceTimeRRT: Planner range detected to be inf\n",
      "Info:    SpaceTimeRRT: Starting planning with 1 states already in datastructure\n",
      "Info:    SpaceTimeRRT: Starting planning with time bound factor 2.00\n",
      "Planning for agent 4/18\n",
      "Info:    SpaceTimeRRT: Created 35 states (19 start + 16 goal)\n",
      "Debug:   SpaceTimeRRT: Planner range detected to be inf\n",
      "Info:    SpaceTimeRRT: Starting planning with 1 states already in datastructure\n",
      "Info:    SpaceTimeRRT: Starting planning with time bound factor 2.00\n"
     ]
    },
    {
     "name": "stderr",
     "output_type": "stream",
     "text": [
      "Warning: State validity checker not set! No collision checking is performed\n",
      "         at line 63 in /Users/tianpengzhang/Desktop/ompl/src/ompl/base/src/SpaceInformation.cpp\n",
      "Warning: State validity checker not set! No collision checking is performed\n",
      "         at line 63 in /Users/tianpengzhang/Desktop/ompl/src/ompl/base/src/SpaceInformation.cpp\n"
     ]
    },
    {
     "name": "stdout",
     "output_type": "stream",
     "text": [
      "Planning for agent 5/18Info:    SpaceTimeRRT: Created 64 states (28 start + 36 goal)\n",
      "\n",
      "Debug:   SpaceTimeRRT: Planner range detected to be inf\n",
      "Info:    SpaceTimeRRT: Starting planning with 1 states already in datastructure\n",
      "Info:    SpaceTimeRRT: Starting planning with time bound factor 2.00\n",
      "Planning for agent 6/18\n",
      "Info:    SpaceTimeRRT: Created 27 states (12 start + 15 goal)\n",
      "Debug:   SpaceTimeRRT: Planner range detected to be inf\n",
      "Info:    SpaceTimeRRT: Starting planning with 1 states already in datastructure\n",
      "Info:    SpaceTimeRRT: Starting planning with time bound factor 2.00\n"
     ]
    },
    {
     "name": "stderr",
     "output_type": "stream",
     "text": [
      "Warning: State validity checker not set! No collision checking is performed\n",
      "         at line 63 in /Users/tianpengzhang/Desktop/ompl/src/ompl/base/src/SpaceInformation.cpp\n",
      "Warning: State validity checker not set! No collision checking is performed\n",
      "         at line 63 in /Users/tianpengzhang/Desktop/ompl/src/ompl/base/src/SpaceInformation.cpp\n"
     ]
    },
    {
     "name": "stdout",
     "output_type": "stream",
     "text": [
      "Planning for agent 7/18Info:    SpaceTimeRRT: Created 56 states (21 start + 35 goal)\n",
      "\n",
      "Debug:   SpaceTimeRRT: Planner range detected to be inf\n",
      "Info:    SpaceTimeRRT: Starting planning with 1 states already in datastructure\n",
      "Info:    SpaceTimeRRT: Starting planning with time bound factor 2.00\n",
      "Planning for agent 8/18\n",
      "Info:    SpaceTimeRRT: Created 55 states (24 start + 31 goal)\n",
      "Debug:   SpaceTimeRRT: Planner range detected to be inf\n",
      "Info:    SpaceTimeRRT: Starting planning with 1 states already in datastructure\n",
      "Info:    SpaceTimeRRT: Starting planning with time bound factor 2.00\n"
     ]
    },
    {
     "name": "stderr",
     "output_type": "stream",
     "text": [
      "Warning: State validity checker not set! No collision checking is performed\n",
      "         at line 63 in /Users/tianpengzhang/Desktop/ompl/src/ompl/base/src/SpaceInformation.cpp\n",
      "Warning: State validity checker not set! No collision checking is performed\n",
      "         at line 63 in /Users/tianpengzhang/Desktop/ompl/src/ompl/base/src/SpaceInformation.cpp\n"
     ]
    },
    {
     "name": "stdout",
     "output_type": "stream",
     "text": [
      "Planning for agent 9/18Info:    SpaceTimeRRT: Created 92 states (46 start + 46 goal)\n",
      "\n",
      "Debug:   SpaceTimeRRT: Planner range detected to be inf\n",
      "Info:    SpaceTimeRRT: Starting planning with 1 states already in datastructure\n",
      "Info:    SpaceTimeRRT: Starting planning with time bound factor 2.00\n"
     ]
    },
    {
     "name": "stderr",
     "output_type": "stream",
     "text": [
      "Warning: State validity checker not set! No collision checking is performed\n",
      "         at line 63 in /Users/tianpengzhang/Desktop/ompl/src/ompl/base/src/SpaceInformation.cpp\n"
     ]
    },
    {
     "name": "stdout",
     "output_type": "stream",
     "text": [
      "Planning for agent 10/18Info:    SpaceTimeRRT: Created 411 states (185 start + 226 goal)\n",
      "\n",
      "Debug:   SpaceTimeRRT: Planner range detected to be inf\n",
      "Info:    SpaceTimeRRT: Starting planning with 1 states already in datastructure\n",
      "Info:    SpaceTimeRRT: Starting planning with time bound factor 2.00\n"
     ]
    },
    {
     "name": "stderr",
     "output_type": "stream",
     "text": [
      "Warning: State validity checker not set! No collision checking is performed\n",
      "         at line 63 in /Users/tianpengzhang/Desktop/ompl/src/ompl/base/src/SpaceInformation.cpp\n"
     ]
    },
    {
     "name": "stdout",
     "output_type": "stream",
     "text": [
      "Planning for agent 11/18Info:    SpaceTimeRRT: Created 278 states (128 start + 150 goal)\n",
      "\n",
      "Debug:   SpaceTimeRRT: Planner range detected to be inf\n",
      "Info:    SpaceTimeRRT: Starting planning with 1 states already in datastructure\n",
      "Info:    SpaceTimeRRT: Starting planning with time bound factor 2.00\n"
     ]
    },
    {
     "name": "stderr",
     "output_type": "stream",
     "text": [
      "Warning: State validity checker not set! No collision checking is performed\n",
      "         at line 63 in /Users/tianpengzhang/Desktop/ompl/src/ompl/base/src/SpaceInformation.cpp\n"
     ]
    },
    {
     "name": "stdout",
     "output_type": "stream",
     "text": [
      "Planning for agent 12/18Info:    SpaceTimeRRT: Created 342 states (123 start + 219 goal)\n",
      "\n",
      "Debug:   SpaceTimeRRT: Planner range detected to be inf\n",
      "Info:    SpaceTimeRRT: Starting planning with 1 states already in datastructure\n",
      "Info:    SpaceTimeRRT: Starting planning with time bound factor 2.00\n"
     ]
    },
    {
     "name": "stderr",
     "output_type": "stream",
     "text": [
      "Warning: State validity checker not set! No collision checking is performed\n",
      "         at line 63 in /Users/tianpengzhang/Desktop/ompl/src/ompl/base/src/SpaceInformation.cpp\n"
     ]
    },
    {
     "name": "stdout",
     "output_type": "stream",
     "text": [
      "Info:    SpaceTimeRRT: Increased time bound factor to 4.00\n",
      "Planning for agent 13/18Info:    SpaceTimeRRT: Created 609 states (256 start + 353 goal)\n",
      "\n",
      "Debug:   SpaceTimeRRT: Planner range detected to be inf\n",
      "Info:    SpaceTimeRRT: Starting planning with 1 states already in datastructure\n",
      "Info:    SpaceTimeRRT: Starting planning with time bound factor 2.00\n"
     ]
    },
    {
     "name": "stderr",
     "output_type": "stream",
     "text": [
      "Warning: State validity checker not set! No collision checking is performed\n",
      "         at line 63 in /Users/tianpengzhang/Desktop/ompl/src/ompl/base/src/SpaceInformation.cpp\n"
     ]
    },
    {
     "name": "stdout",
     "output_type": "stream",
     "text": [
      "Info:    SpaceTimeRRT: Increased time bound factor to 4.00\n",
      "Planning for agent 14/18Info:    SpaceTimeRRT: Created 661 states (280 start + 381 goal)\n",
      "\n",
      "Debug:   SpaceTimeRRT: Planner range detected to be inf\n",
      "Info:    SpaceTimeRRT: Starting planning with 1 states already in datastructure\n",
      "Info:    SpaceTimeRRT: Starting planning with time bound factor 2.00\n"
     ]
    },
    {
     "name": "stderr",
     "output_type": "stream",
     "text": [
      "Warning: State validity checker not set! No collision checking is performed\n",
      "         at line 63 in /Users/tianpengzhang/Desktop/ompl/src/ompl/base/src/SpaceInformation.cpp\n"
     ]
    },
    {
     "name": "stdout",
     "output_type": "stream",
     "text": [
      "Planning for agent 15/18Info:    SpaceTimeRRT: Created 183 states (69 start + 114 goal)\n",
      "\n",
      "Debug:   SpaceTimeRRT: Planner range detected to be inf\n",
      "Info:    SpaceTimeRRT: Starting planning with 1 states already in datastructure\n",
      "Info:    SpaceTimeRRT: Starting planning with time bound factor 2.00\n"
     ]
    },
    {
     "name": "stderr",
     "output_type": "stream",
     "text": [
      "Warning: State validity checker not set! No collision checking is performed\n",
      "         at line 63 in /Users/tianpengzhang/Desktop/ompl/src/ompl/base/src/SpaceInformation.cpp\n"
     ]
    },
    {
     "name": "stdout",
     "output_type": "stream",
     "text": [
      "Info:    SpaceTimeRRT: Increased time bound factor to 4.00\n",
      "Planning for agent 16/18Info:    SpaceTimeRRT: Created 682 states (299 start + 383 goal)\n",
      "\n",
      "Debug:   SpaceTimeRRT: Planner range detected to be inf\n",
      "Info:    SpaceTimeRRT: Starting planning with 1 states already in datastructure\n",
      "Info:    SpaceTimeRRT: Starting planning with time bound factor 2.00\n"
     ]
    },
    {
     "name": "stderr",
     "output_type": "stream",
     "text": [
      "Warning: State validity checker not set! No collision checking is performed\n",
      "         at line 63 in /Users/tianpengzhang/Desktop/ompl/src/ompl/base/src/SpaceInformation.cpp\n"
     ]
    },
    {
     "name": "stdout",
     "output_type": "stream",
     "text": [
      "Info:    SpaceTimeRRT: Increased time bound factor to 4.00\n",
      "Planning for agent 17/18\n",
      "Info:    SpaceTimeRRT: Created 518 states (218 start + 300 goal)\n",
      "Debug:   SpaceTimeRRT: Planner range detected to be inf\n",
      "Info:    SpaceTimeRRT: Starting planning with 1 states already in datastructure\n",
      "Info:    SpaceTimeRRT: Starting planning with time bound factor 2.00\n"
     ]
    },
    {
     "name": "stderr",
     "output_type": "stream",
     "text": [
      "Warning: State validity checker not set! No collision checking is performed\n",
      "         at line 63 in /Users/tianpengzhang/Desktop/ompl/src/ompl/base/src/SpaceInformation.cpp\n"
     ]
    },
    {
     "name": "stdout",
     "output_type": "stream",
     "text": [
      "On time for algorithmInfo:    SpaceTimeRRT: Created 474 states (191 start + 283 goal)\n",
      " ST-RRT* N agent =  18\n",
      "Env: MultiTunnel Alg: Seq_Tube N agent: 19\n",
      "Planning for agent 0/19\n",
      "Planning for agent 1/19\n",
      "Planning for agent 2/19\n",
      "Planning for agent 3/19\n",
      "Planning for agent 4/19\n",
      "Planning for agent 5/19\n",
      "Planning for agent 6/19\n",
      "Planning for agent 7/19\n",
      "Planning for agent 8/19\n",
      "Planning for agent 9/19\n",
      "Planning for agent 10/19\n",
      "Planning for agent 11/19\n",
      "Planning for agent 12/19\n",
      "Planning for agent 13/19\n",
      "Planning for agent 14/19\n",
      "Planning for agent 15/19\n",
      "Planning for agent 16/19\n",
      "Planning for agent 17/19\n",
      "Planning for agent 18/19\n",
      "On time for algorithm Seq_Tube N agent =  19\n",
      "Env: MultiTunnel Alg: ST-RRT* N agent: 19\n",
      "Planning for agent 0/19\n",
      "Debug:   SpaceTimeRRT: Planner range detected to be inf\n",
      "Info:    SpaceTimeRRT: Starting planning with 1 states already in datastructure\n",
      "Info:    SpaceTimeRRT: Starting planning with time bound factor 2.00\n",
      "Planning for agent 1/19\n",
      "Info:    SpaceTimeRRT: Created 104 states (46 start + 58 goal)\n",
      "Debug:   SpaceTimeRRT: Planner range detected to be inf\n",
      "Info:    SpaceTimeRRT: Starting planning with 1 states already in datastructure\n",
      "Info:    SpaceTimeRRT: Starting planning with time bound factor 2.00\n",
      "Planning for agent 2/19\n",
      "Info:    SpaceTimeRRT: Created 109 states (43 start + 66 goal)\n"
     ]
    },
    {
     "name": "stderr",
     "output_type": "stream",
     "text": [
      "Warning: State validity checker not set! No collision checking is performed\n",
      "         at line 63 in /Users/tianpengzhang/Desktop/ompl/src/ompl/base/src/SpaceInformation.cpp\n",
      "Warning: State validity checker not set! No collision checking is performed\n",
      "         at line 63 in /Users/tianpengzhang/Desktop/ompl/src/ompl/base/src/SpaceInformation.cpp\n",
      "Warning: State validity checker not set! No collision checking is performed\n",
      "         at line 63 in /Users/tianpengzhang/Desktop/ompl/src/ompl/base/src/SpaceInformation.cpp\n"
     ]
    },
    {
     "name": "stdout",
     "output_type": "stream",
     "text": [
      "Debug:   SpaceTimeRRT: Planner range detected to be inf\n",
      "Info:    SpaceTimeRRT: Starting planning with 1 states already in datastructure\n",
      "Info:    SpaceTimeRRT: Starting planning with time bound factor 2.00\n",
      "Planning for agent 3/19\n",
      "Info:    SpaceTimeRRT: Created 46 states (20 start + 26 goal)\n",
      "Debug:   SpaceTimeRRT: Planner range detected to be inf\n",
      "Info:    SpaceTimeRRT: Starting planning with 1 states already in datastructure\n",
      "Info:    SpaceTimeRRT: Starting planning with time bound factor 2.00\n",
      "Planning for agent 4/19\n"
     ]
    },
    {
     "name": "stderr",
     "output_type": "stream",
     "text": [
      "Warning: State validity checker not set! No collision checking is performed\n",
      "         at line 63 in /Users/tianpengzhang/Desktop/ompl/src/ompl/base/src/SpaceInformation.cpp\n",
      "Warning: State validity checker not set! No collision checking is performed\n",
      "         at line 63 in /Users/tianpengzhang/Desktop/ompl/src/ompl/base/src/SpaceInformation.cpp\n",
      "Warning: State validity checker not set! No collision checking is performed\n",
      "         at line 63 in /Users/tianpengzhang/Desktop/ompl/src/ompl/base/src/SpaceInformation.cpp\n"
     ]
    },
    {
     "name": "stdout",
     "output_type": "stream",
     "text": [
      "Info:    SpaceTimeRRT: Created 14 states (4 start + 10 goal)\n",
      "Debug:   SpaceTimeRRT: Planner range detected to be inf\n",
      "Info:    SpaceTimeRRT: Starting planning with 1 states already in datastructure\n",
      "Info:    SpaceTimeRRT: Starting planning with time bound factor 2.00\n",
      "Planning for agent 5/19\n",
      "Info:    SpaceTimeRRT: Created 51 states (21 start + 30 goal)\n",
      "Debug:   SpaceTimeRRT: Planner range detected to be inf\n",
      "Info:    SpaceTimeRRT: Starting planning with 1 states already in datastructure\n",
      "Info:    SpaceTimeRRT: Starting planning with time bound factor 2.00\n",
      "Planning for agent 6/19\n",
      "Info:    SpaceTimeRRT: Created 27 states (12 start + 15 goal)\n",
      "Debug:   SpaceTimeRRT: Planner range detected to be inf\n",
      "Info:    SpaceTimeRRT: Starting planning with 1 states already in datastructure\n",
      "Info:    SpaceTimeRRT: Starting planning with time bound factor 2.00\n"
     ]
    },
    {
     "name": "stderr",
     "output_type": "stream",
     "text": [
      "Warning: State validity checker not set! No collision checking is performed\n",
      "         at line 63 in /Users/tianpengzhang/Desktop/ompl/src/ompl/base/src/SpaceInformation.cpp\n"
     ]
    },
    {
     "name": "stdout",
     "output_type": "stream",
     "text": [
      "Planning for agent 7/19Info:    SpaceTimeRRT: Created 94 states (27 start + 67 goal)\n",
      "\n",
      "Debug:   SpaceTimeRRT: Planner range detected to be inf\n",
      "Info:    SpaceTimeRRT: Starting planning with 1 states already in datastructure\n",
      "Info:    SpaceTimeRRT: Starting planning with time bound factor 2.00\n",
      "Planning for agent 8/19\n",
      "Info:    SpaceTimeRRT: Created 65 states (26 start + 39 goal)\n",
      "Debug:   SpaceTimeRRT: Planner range detected to be inf\n",
      "Info:    SpaceTimeRRT: Starting planning with 1 states already in datastructure\n",
      "Info:    SpaceTimeRRT: Starting planning with time bound factor 2.00\n"
     ]
    },
    {
     "name": "stderr",
     "output_type": "stream",
     "text": [
      "Warning: State validity checker not set! No collision checking is performed\n",
      "         at line 63 in /Users/tianpengzhang/Desktop/ompl/src/ompl/base/src/SpaceInformation.cpp\n",
      "Warning: State validity checker not set! No collision checking is performed\n",
      "         at line 63 in /Users/tianpengzhang/Desktop/ompl/src/ompl/base/src/SpaceInformation.cpp\n"
     ]
    },
    {
     "name": "stdout",
     "output_type": "stream",
     "text": [
      "Planning for agent 9/19Info:    SpaceTimeRRT: Created 67 states (31 start + 36 goal)\n",
      "\n",
      "Debug:   SpaceTimeRRT: Planner range detected to be inf\n",
      "Info:    SpaceTimeRRT: Starting planning with 1 states already in datastructure\n",
      "Info:    SpaceTimeRRT: Starting planning with time bound factor 2.00\n"
     ]
    },
    {
     "name": "stderr",
     "output_type": "stream",
     "text": [
      "Warning: State validity checker not set! No collision checking is performed\n",
      "         at line 63 in /Users/tianpengzhang/Desktop/ompl/src/ompl/base/src/SpaceInformation.cpp\n"
     ]
    },
    {
     "name": "stdout",
     "output_type": "stream",
     "text": [
      "Planning for agent 10/19Info:    SpaceTimeRRT: Created 201 states (89 start + 112 goal)\n",
      "\n",
      "Debug:   SpaceTimeRRT: Planner range detected to be inf\n",
      "Info:    SpaceTimeRRT: Starting planning with 1 states already in datastructure\n",
      "Info:    SpaceTimeRRT: Starting planning with time bound factor 2.00\n",
      "Planning for agent 11/19\n",
      "Info:    SpaceTimeRRT: Created 37 states (17 start + 20 goal)\n",
      "Debug:   SpaceTimeRRT: Planner range detected to be inf\n",
      "Info:    SpaceTimeRRT: Starting planning with 1 states already in datastructure\n",
      "Info:    SpaceTimeRRT: Starting planning with time bound factor 2.00\n"
     ]
    },
    {
     "name": "stderr",
     "output_type": "stream",
     "text": [
      "Warning: State validity checker not set! No collision checking is performed\n",
      "         at line 63 in /Users/tianpengzhang/Desktop/ompl/src/ompl/base/src/SpaceInformation.cpp\n",
      "Warning: State validity checker not set! No collision checking is performed\n",
      "         at line 63 in /Users/tianpengzhang/Desktop/ompl/src/ompl/base/src/SpaceInformation.cpp\n"
     ]
    },
    {
     "name": "stdout",
     "output_type": "stream",
     "text": [
      "Planning for agent 12/19Info:    SpaceTimeRRT: Created 132 states (65 start + 67 goal)\n",
      "\n",
      "Debug:   SpaceTimeRRT: Planner range detected to be inf\n",
      "Info:    SpaceTimeRRT: Starting planning with 1 states already in datastructure\n",
      "Info:    SpaceTimeRRT: Starting planning with time bound factor 2.00\n"
     ]
    },
    {
     "name": "stderr",
     "output_type": "stream",
     "text": [
      "Warning: State validity checker not set! No collision checking is performed\n",
      "         at line 63 in /Users/tianpengzhang/Desktop/ompl/src/ompl/base/src/SpaceInformation.cpp\n"
     ]
    },
    {
     "name": "stdout",
     "output_type": "stream",
     "text": [
      "Planning for agent 13/19Info:    SpaceTimeRRT: Created 234 states (103 start + 131 goal)\n",
      "\n",
      "Debug:   SpaceTimeRRT: Planner range detected to be inf\n",
      "Info:    SpaceTimeRRT: Starting planning with 1 states already in datastructure\n",
      "Info:    SpaceTimeRRT: Starting planning with time bound factor 2.00\n"
     ]
    },
    {
     "name": "stderr",
     "output_type": "stream",
     "text": [
      "Warning: State validity checker not set! No collision checking is performed\n",
      "         at line 63 in /Users/tianpengzhang/Desktop/ompl/src/ompl/base/src/SpaceInformation.cpp\n"
     ]
    },
    {
     "name": "stdout",
     "output_type": "stream",
     "text": [
      "Planning for agent 14/19Info:    SpaceTimeRRT: Created 413 states (177 start + 236 goal)\n",
      "\n",
      "Debug:   SpaceTimeRRT: Planner range detected to be inf\n",
      "Info:    SpaceTimeRRT: Starting planning with 1 states already in datastructure\n",
      "Info:    SpaceTimeRRT: Starting planning with time bound factor 2.00\n"
     ]
    },
    {
     "name": "stderr",
     "output_type": "stream",
     "text": [
      "Warning: State validity checker not set! No collision checking is performed\n",
      "         at line 63 in /Users/tianpengzhang/Desktop/ompl/src/ompl/base/src/SpaceInformation.cpp\n"
     ]
    },
    {
     "name": "stdout",
     "output_type": "stream",
     "text": [
      "Info:    SpaceTimeRRT: Increased time bound factor to 4.00\n",
      "Planning for agent 15/19Info:    SpaceTimeRRT: Created 676 states (333 start + 343 goal)\n",
      "\n",
      "Debug:   SpaceTimeRRT: Planner range detected to be inf\n",
      "Info:    SpaceTimeRRT: Starting planning with 1 states already in datastructure\n",
      "Info:    SpaceTimeRRT: Starting planning with time bound factor 2.00\n"
     ]
    },
    {
     "name": "stderr",
     "output_type": "stream",
     "text": [
      "Warning: State validity checker not set! No collision checking is performed\n",
      "         at line 63 in /Users/tianpengzhang/Desktop/ompl/src/ompl/base/src/SpaceInformation.cpp\n"
     ]
    },
    {
     "name": "stdout",
     "output_type": "stream",
     "text": [
      "Info:    SpaceTimeRRT: Increased time bound factor to 4.00\n",
      "Planning for agent 16/19Info:    SpaceTimeRRT: Created 543 states (262 start + 281 goal)\n",
      "\n",
      "Debug:   SpaceTimeRRT: Planner range detected to be inf\n",
      "Info:    SpaceTimeRRT: Starting planning with 1 states already in datastructure\n",
      "Info:    SpaceTimeRRT: Starting planning with time bound factor 2.00\n"
     ]
    },
    {
     "name": "stderr",
     "output_type": "stream",
     "text": [
      "Warning: State validity checker not set! No collision checking is performed\n",
      "         at line 63 in /Users/tianpengzhang/Desktop/ompl/src/ompl/base/src/SpaceInformation.cpp\n"
     ]
    },
    {
     "name": "stdout",
     "output_type": "stream",
     "text": [
      "Planning for agent 17/19Info:    SpaceTimeRRT: Created 78 states (35 start + 43 goal)\n",
      "\n",
      "Debug:   SpaceTimeRRT: Planner range detected to be inf\n",
      "Info:    SpaceTimeRRT: Starting planning with 1 states already in datastructure\n",
      "Info:    SpaceTimeRRT: Starting planning with time bound factor 2.00\n"
     ]
    },
    {
     "name": "stderr",
     "output_type": "stream",
     "text": [
      "Warning: State validity checker not set! No collision checking is performed\n",
      "         at line 63 in /Users/tianpengzhang/Desktop/ompl/src/ompl/base/src/SpaceInformation.cpp\n"
     ]
    },
    {
     "name": "stdout",
     "output_type": "stream",
     "text": [
      "Planning for agent 18/19Info:    SpaceTimeRRT: Created 121 states (45 start + 76 goal)\n",
      "\n",
      "Debug:   SpaceTimeRRT: Planner range detected to be inf\n",
      "Info:    SpaceTimeRRT: Starting planning with 1 states already in datastructure\n",
      "Info:    SpaceTimeRRT: Starting planning with time bound factor 2.00\n"
     ]
    },
    {
     "name": "stderr",
     "output_type": "stream",
     "text": [
      "Warning: State validity checker not set! No collision checking is performed\n",
      "         at line 63 in /Users/tianpengzhang/Desktop/ompl/src/ompl/base/src/SpaceInformation.cpp\n"
     ]
    },
    {
     "name": "stdout",
     "output_type": "stream",
     "text": [
      "On time for algorithmInfo:    SpaceTimeRRT: Created 80 states (40 start + 40 goal)\n",
      " ST-RRT* N agent =  19\n",
      "Env: MultiTunnel Alg: Seq_Tube N agent: 20\n",
      "Planning for agent 0/20\n",
      "Planning for agent 1/20\n",
      "Planning for agent 2/20\n",
      "Planning for agent 3/20\n",
      "Planning for agent 4/20\n",
      "Planning for agent 5/20\n",
      "Planning for agent 6/20\n",
      "Planning for agent 7/20\n",
      "Planning for agent 8/20\n",
      "Planning for agent 9/20\n",
      "Planning for agent 10/20\n",
      "Planning for agent 11/20\n",
      "Planning for agent 12/20\n",
      "Planning for agent 13/20\n",
      "Planning for agent 14/20\n",
      "Planning for agent 15/20\n",
      "Planning for agent 16/20\n",
      "Planning for agent 17/20\n",
      "Planning for agent 18/20\n",
      "Planning for agent 19/20\n",
      "On time for algorithm Seq_Tube N agent =  20\n",
      "Env: MultiTunnel Alg: ST-RRT* N agent: 20\n",
      "Planning for agent 0/20\n",
      "Debug:   SpaceTimeRRT: Planner range detected to be inf\n",
      "Info:    SpaceTimeRRT: Starting planning with 1 states already in datastructure\n",
      "Info:    SpaceTimeRRT: Starting planning with time bound factor 2.00\n",
      "Planning for agent 1/20\n",
      "Info:    SpaceTimeRRT: Created 136 states (75 start + 61 goal)\n",
      "Debug:   SpaceTimeRRT: Planner range detected to be inf\n",
      "Info:    SpaceTimeRRT: Starting planning with 1 states already in datastructure\n",
      "Info:    SpaceTimeRRT: Starting planning with time bound factor 2.00\n"
     ]
    },
    {
     "name": "stderr",
     "output_type": "stream",
     "text": [
      "Warning: State validity checker not set! No collision checking is performed\n",
      "         at line 63 in /Users/tianpengzhang/Desktop/ompl/src/ompl/base/src/SpaceInformation.cpp\n",
      "Warning: State validity checker not set! No collision checking is performed\n",
      "         at line 63 in /Users/tianpengzhang/Desktop/ompl/src/ompl/base/src/SpaceInformation.cpp\n"
     ]
    },
    {
     "name": "stdout",
     "output_type": "stream",
     "text": [
      "Planning for agent 2/20Info:    SpaceTimeRRT: Created 108 states (41 start + 67 goal)\n",
      "\n",
      "Debug:   SpaceTimeRRT: Planner range detected to be inf\n",
      "Info:    SpaceTimeRRT: Starting planning with 1 states already in datastructure\n",
      "Info:    SpaceTimeRRT: Starting planning with time bound factor 2.00\n",
      "Planning for agent 3/20\n",
      "Info:    SpaceTimeRRT: Created 79 states (30 start + 49 goal)\n",
      "Debug:   SpaceTimeRRT: Planner range detected to be inf\n",
      "Info:    SpaceTimeRRT: Starting planning with 1 states already in datastructure\n",
      "Info:    SpaceTimeRRT: Starting planning with time bound factor 2.00\n",
      "Planning for agent 4/20\n"
     ]
    },
    {
     "name": "stderr",
     "output_type": "stream",
     "text": [
      "Warning: State validity checker not set! No collision checking is performed\n",
      "         at line 63 in /Users/tianpengzhang/Desktop/ompl/src/ompl/base/src/SpaceInformation.cpp\n",
      "Warning: State validity checker not set! No collision checking is performed\n",
      "         at line 63 in /Users/tianpengzhang/Desktop/ompl/src/ompl/base/src/SpaceInformation.cpp\n",
      "Warning: State validity checker not set! No collision checking is performed\n",
      "         at line 63 in /Users/tianpengzhang/Desktop/ompl/src/ompl/base/src/SpaceInformation.cpp\n"
     ]
    },
    {
     "name": "stdout",
     "output_type": "stream",
     "text": [
      "Info:    SpaceTimeRRT: Created 55 states (22 start + 33 goal)\n",
      "Debug:   SpaceTimeRRT: Planner range detected to be inf\n",
      "Info:    SpaceTimeRRT: Starting planning with 1 states already in datastructure\n",
      "Info:    SpaceTimeRRT: Starting planning with time bound factor 2.00\n",
      "Planning for agent 5/20Info:    SpaceTimeRRT: Created 92 states (37 start + 55 goal)\n",
      "\n",
      "Debug:   SpaceTimeRRT: Planner range detected to be inf\n",
      "Info:    SpaceTimeRRT: Starting planning with 1 states already in datastructure\n",
      "Info:    SpaceTimeRRT: Starting planning with time bound factor 2.00\n",
      "Planning for agent 6/20\n",
      "Info:    SpaceTimeRRT: Created 71 states (25 start + 46 goal)\n",
      "Debug:   SpaceTimeRRT: Planner range detected to be inf\n",
      "Info:    SpaceTimeRRT: Starting planning with 1 states already in datastructure\n",
      "Info:    SpaceTimeRRT: Starting planning with time bound factor 2.00\n"
     ]
    },
    {
     "name": "stderr",
     "output_type": "stream",
     "text": [
      "Warning: State validity checker not set! No collision checking is performed\n",
      "         at line 63 in /Users/tianpengzhang/Desktop/ompl/src/ompl/base/src/SpaceInformation.cpp\n",
      "Warning: State validity checker not set! No collision checking is performed\n",
      "         at line 63 in /Users/tianpengzhang/Desktop/ompl/src/ompl/base/src/SpaceInformation.cpp\n"
     ]
    },
    {
     "name": "stdout",
     "output_type": "stream",
     "text": [
      "Planning for agent 7/20Info:    SpaceTimeRRT: Created 46 states (18 start + 28 goal)\n",
      "\n",
      "Debug:   SpaceTimeRRT: Planner range detected to be inf\n",
      "Info:    SpaceTimeRRT: Starting planning with 1 states already in datastructure\n",
      "Info:    SpaceTimeRRT: Starting planning with time bound factor 2.00\n",
      "Planning for agent 8/20\n",
      "Info:    SpaceTimeRRT: Created 54 states (17 start + 37 goal)\n",
      "Debug:   SpaceTimeRRT: Planner range detected to be inf\n",
      "Info:    SpaceTimeRRT: Starting planning with 1 states already in datastructure\n",
      "Info:    SpaceTimeRRT: Starting planning with time bound factor 2.00\n"
     ]
    },
    {
     "name": "stderr",
     "output_type": "stream",
     "text": [
      "Warning: State validity checker not set! No collision checking is performed\n",
      "         at line 63 in /Users/tianpengzhang/Desktop/ompl/src/ompl/base/src/SpaceInformation.cpp\n",
      "Warning: State validity checker not set! No collision checking is performed\n",
      "         at line 63 in /Users/tianpengzhang/Desktop/ompl/src/ompl/base/src/SpaceInformation.cpp\n"
     ]
    },
    {
     "name": "stdout",
     "output_type": "stream",
     "text": [
      "Planning for agent 9/20Info:    SpaceTimeRRT: Created 69 states (25 start + 44 goal)\n",
      "\n",
      "Debug:   SpaceTimeRRT: Planner range detected to be inf\n",
      "Info:    SpaceTimeRRT: Starting planning with 1 states already in datastructure\n",
      "Info:    SpaceTimeRRT: Starting planning with time bound factor 2.00\n"
     ]
    },
    {
     "name": "stderr",
     "output_type": "stream",
     "text": [
      "Warning: State validity checker not set! No collision checking is performed\n",
      "         at line 63 in /Users/tianpengzhang/Desktop/ompl/src/ompl/base/src/SpaceInformation.cpp\n"
     ]
    },
    {
     "name": "stdout",
     "output_type": "stream",
     "text": [
      "Planning for agent 10/20Info:    SpaceTimeRRT: Created 116 states (58 start + 58 goal)\n",
      "\n",
      "Debug:   SpaceTimeRRT: Planner range detected to be inf\n",
      "Info:    SpaceTimeRRT: Starting planning with 1 states already in datastructure\n",
      "Info:    SpaceTimeRRT: Starting planning with time bound factor 2.00\n"
     ]
    },
    {
     "name": "stderr",
     "output_type": "stream",
     "text": [
      "Warning: State validity checker not set! No collision checking is performed\n",
      "         at line 63 in /Users/tianpengzhang/Desktop/ompl/src/ompl/base/src/SpaceInformation.cpp\n"
     ]
    },
    {
     "name": "stdout",
     "output_type": "stream",
     "text": [
      "Planning for agent 11/20Info:    SpaceTimeRRT: Created 492 states (221 start + 271 goal)\n",
      "\n",
      "Debug:   SpaceTimeRRT: Planner range detected to be inf\n",
      "Info:    SpaceTimeRRT: Starting planning with 1 states already in datastructure\n",
      "Info:    SpaceTimeRRT: Starting planning with time bound factor 2.00\n"
     ]
    },
    {
     "name": "stderr",
     "output_type": "stream",
     "text": [
      "Warning: State validity checker not set! No collision checking is performed\n",
      "         at line 63 in /Users/tianpengzhang/Desktop/ompl/src/ompl/base/src/SpaceInformation.cpp\n"
     ]
    },
    {
     "name": "stdout",
     "output_type": "stream",
     "text": [
      "Info:    SpaceTimeRRT: Increased time bound factor to 4.00\n",
      "Planning for agent 12/20\n",
      "Info:    SpaceTimeRRT: Created 527 states (242 start + 285 goal)\n",
      "Debug:   SpaceTimeRRT: Planner range detected to be inf\n",
      "Info:    SpaceTimeRRT: Starting planning with 1 states already in datastructure\n",
      "Info:    SpaceTimeRRT: Starting planning with time bound factor 2.00\n"
     ]
    },
    {
     "name": "stderr",
     "output_type": "stream",
     "text": [
      "Warning: State validity checker not set! No collision checking is performed\n",
      "         at line 63 in /Users/tianpengzhang/Desktop/ompl/src/ompl/base/src/SpaceInformation.cpp\n"
     ]
    },
    {
     "name": "stdout",
     "output_type": "stream",
     "text": [
      "Planning for agent 13/20Info:    SpaceTimeRRT: Created 419 states (181 start + 238 goal)\n",
      "\n",
      "Debug:   SpaceTimeRRT: Planner range detected to be inf\n",
      "Info:    SpaceTimeRRT: Starting planning with 1 states already in datastructure\n",
      "Info:    SpaceTimeRRT: Starting planning with time bound factor 2.00\n"
     ]
    },
    {
     "name": "stderr",
     "output_type": "stream",
     "text": [
      "Warning: State validity checker not set! No collision checking is performed\n",
      "         at line 63 in /Users/tianpengzhang/Desktop/ompl/src/ompl/base/src/SpaceInformation.cpp\n"
     ]
    },
    {
     "name": "stdout",
     "output_type": "stream",
     "text": [
      "Planning for agent 14/20Info:    SpaceTimeRRT: Created 426 states (178 start + 248 goal)\n",
      "\n",
      "Debug:   SpaceTimeRRT: Planner range detected to be inf\n",
      "Info:    SpaceTimeRRT: Starting planning with 1 states already in datastructure\n",
      "Info:    SpaceTimeRRT: Starting planning with time bound factor 2.00\n"
     ]
    },
    {
     "name": "stderr",
     "output_type": "stream",
     "text": [
      "Warning: State validity checker not set! No collision checking is performed\n",
      "         at line 63 in /Users/tianpengzhang/Desktop/ompl/src/ompl/base/src/SpaceInformation.cpp\n"
     ]
    },
    {
     "name": "stdout",
     "output_type": "stream",
     "text": [
      "Info:    SpaceTimeRRT: Increased time bound factor to 4.00\n",
      "Planning for agent 15/20Info:    SpaceTimeRRT: Created 565 states (257 start + 308 goal)\n",
      "\n",
      "Debug:   SpaceTimeRRT: Planner range detected to be inf\n",
      "Info:    SpaceTimeRRT: Starting planning with 1 states already in datastructure\n",
      "Info:    SpaceTimeRRT: Starting planning with time bound factor 2.00\n"
     ]
    },
    {
     "name": "stderr",
     "output_type": "stream",
     "text": [
      "Warning: State validity checker not set! No collision checking is performed\n",
      "         at line 63 in /Users/tianpengzhang/Desktop/ompl/src/ompl/base/src/SpaceInformation.cpp\n"
     ]
    },
    {
     "name": "stdout",
     "output_type": "stream",
     "text": [
      "Planning for agent 16/20Info:    SpaceTimeRRT: Created 457 states (191 start + 266 goal)\n",
      "\n",
      "Debug:   SpaceTimeRRT: Planner range detected to be inf\n",
      "Info:    SpaceTimeRRT: Starting planning with 1 states already in datastructure\n",
      "Info:    SpaceTimeRRT: Starting planning with time bound factor 2.00\n"
     ]
    },
    {
     "name": "stderr",
     "output_type": "stream",
     "text": [
      "Warning: State validity checker not set! No collision checking is performed\n",
      "         at line 63 in /Users/tianpengzhang/Desktop/ompl/src/ompl/base/src/SpaceInformation.cpp\n"
     ]
    },
    {
     "name": "stdout",
     "output_type": "stream",
     "text": [
      "Info:    SpaceTimeRRT: Increased time bound factor to 4.00\n",
      "Planning for agent 17/20Info:    SpaceTimeRRT: Created 586 states (266 start + 320 goal)\n",
      "\n",
      "Debug:   SpaceTimeRRT: Planner range detected to be inf\n",
      "Info:    SpaceTimeRRT: Starting planning with 1 states already in datastructure\n",
      "Info:    SpaceTimeRRT: Starting planning with time bound factor 2.00\n"
     ]
    },
    {
     "name": "stderr",
     "output_type": "stream",
     "text": [
      "Warning: State validity checker not set! No collision checking is performed\n",
      "         at line 63 in /Users/tianpengzhang/Desktop/ompl/src/ompl/base/src/SpaceInformation.cpp\n"
     ]
    },
    {
     "name": "stdout",
     "output_type": "stream",
     "text": [
      "Info:    SpaceTimeRRT: Increased time bound factor to 4.00\n",
      "Planning for agent 18/20Info:    SpaceTimeRRT: Created 539 states (251 start + 288 goal)\n",
      "\n",
      "Debug:   SpaceTimeRRT: Planner range detected to be inf\n",
      "Info:    SpaceTimeRRT: Starting planning with 1 states already in datastructure\n",
      "Info:    SpaceTimeRRT: Starting planning with time bound factor 2.00\n"
     ]
    },
    {
     "name": "stderr",
     "output_type": "stream",
     "text": [
      "Warning: State validity checker not set! No collision checking is performed\n",
      "         at line 63 in /Users/tianpengzhang/Desktop/ompl/src/ompl/base/src/SpaceInformation.cpp\n"
     ]
    },
    {
     "name": "stdout",
     "output_type": "stream",
     "text": [
      "Planning for agent 19/20Info:    SpaceTimeRRT: Created 119 states (47 start + 72 goal)\n",
      "\n",
      "Debug:   SpaceTimeRRT: Planner range detected to be inf\n",
      "Info:    SpaceTimeRRT: Starting planning with 1 states already in datastructure\n",
      "Info:    SpaceTimeRRT: Starting planning with time bound factor 2.00\n"
     ]
    },
    {
     "name": "stderr",
     "output_type": "stream",
     "text": [
      "Warning: State validity checker not set! No collision checking is performed\n",
      "         at line 63 in /Users/tianpengzhang/Desktop/ompl/src/ompl/base/src/SpaceInformation.cpp\n"
     ]
    },
    {
     "name": "stdout",
     "output_type": "stream",
     "text": [
      "On time for algorithmInfo:    SpaceTimeRRT: Created 452 states (198 start + 254 goal)\n",
      " ST-RRT* N agent =  20\n",
      "Env: MultiTunnel Alg: Seq_Tube N agent: 21\n",
      "Planning for agent 0/21\n",
      "Planning for agent 1/21\n",
      "Planning for agent 2/21\n",
      "Planning for agent 3/21\n",
      "Planning for agent 4/21\n",
      "Planning for agent 5/21\n",
      "Planning for agent 6/21\n",
      "Planning for agent 7/21\n",
      "Planning for agent 8/21\n",
      "Planning for agent 9/21\n",
      "Planning for agent 10/21\n",
      "Planning for agent 11/21\n",
      "Planning for agent 12/21\n",
      "Planning for agent 13/21\n",
      "Planning for agent 14/21\n",
      "Planning for agent 15/21\n",
      "Planning for agent 16/21\n",
      "Planning for agent 17/21\n",
      "Planning for agent 18/21\n",
      "Planning for agent 19/21\n",
      "Planning for agent 20/21\n",
      "On time for algorithm Seq_Tube N agent =  21\n",
      "Env: MultiTunnel Alg: ST-RRT* N agent: 21\n",
      "Planning for agent 0/21\n",
      "Debug:   SpaceTimeRRT: Planner range detected to be inf\n",
      "Info:    SpaceTimeRRT: Starting planning with 1 states already in datastructure\n",
      "Info:    SpaceTimeRRT: Starting planning with time bound factor 2.00\n",
      "Planning for agent 1/21\n",
      "Info:    SpaceTimeRRT: Created 172 states (73 start + 99 goal)\n",
      "Debug:   SpaceTimeRRT: Planner range detected to be inf\n",
      "Info:    SpaceTimeRRT: Starting planning with 1 states already in datastructure\n",
      "Info:    SpaceTimeRRT: Starting planning with time bound factor 2.00\n",
      "Planning for agent 2/21\n",
      "Info:    SpaceTimeRRT: Created 84 states (37 start + 47 goal)\n",
      "Debug:   SpaceTimeRRT: Planner range detected to be inf\n",
      "Info:    SpaceTimeRRT: Starting planning with 1 states already in datastructure\n",
      "Info:    SpaceTimeRRT: Starting planning with time bound factor 2.00\n"
     ]
    },
    {
     "name": "stderr",
     "output_type": "stream",
     "text": [
      "Warning: State validity checker not set! No collision checking is performed\n",
      "         at line 63 in /Users/tianpengzhang/Desktop/ompl/src/ompl/base/src/SpaceInformation.cpp\n",
      "Warning: State validity checker not set! No collision checking is performed\n",
      "         at line 63 in /Users/tianpengzhang/Desktop/ompl/src/ompl/base/src/SpaceInformation.cpp\n",
      "Warning: State validity checker not set! No collision checking is performed\n",
      "         at line 63 in /Users/tianpengzhang/Desktop/ompl/src/ompl/base/src/SpaceInformation.cpp\n"
     ]
    },
    {
     "name": "stdout",
     "output_type": "stream",
     "text": [
      "Planning for agent 3/21Info:    SpaceTimeRRT: Created 46 states (25 start + 21 goal)\n",
      "\n",
      "Debug:   SpaceTimeRRT: Planner range detected to be inf\n",
      "Info:    SpaceTimeRRT: Starting planning with 1 states already in datastructure\n",
      "Info:    SpaceTimeRRT: Starting planning with time bound factor 2.00\n",
      "Planning for agent 4/21\n",
      "Info:    SpaceTimeRRT: Created 64 states (22 start + 42 goal)\n",
      "Debug:   SpaceTimeRRT: Planner range detected to be inf\n",
      "Info:    SpaceTimeRRT: Starting planning with 1 states already in datastructure\n",
      "Info:    SpaceTimeRRT: Starting planning with time bound factor 2.00\n",
      "Planning for agent 5/21\n"
     ]
    },
    {
     "name": "stderr",
     "output_type": "stream",
     "text": [
      "Warning: State validity checker not set! No collision checking is performed\n",
      "         at line 63 in /Users/tianpengzhang/Desktop/ompl/src/ompl/base/src/SpaceInformation.cpp\n",
      "Warning: State validity checker not set! No collision checking is performed\n",
      "         at line 63 in /Users/tianpengzhang/Desktop/ompl/src/ompl/base/src/SpaceInformation.cpp\n",
      "Warning: State validity checker not set! No collision checking is performed\n",
      "         at line 63 in /Users/tianpengzhang/Desktop/ompl/src/ompl/base/src/SpaceInformation.cpp\n"
     ]
    },
    {
     "name": "stdout",
     "output_type": "stream",
     "text": [
      "Info:    SpaceTimeRRT: Created 39 states (12 start + 27 goal)\n",
      "Debug:   SpaceTimeRRT: Planner range detected to be inf\n",
      "Info:    SpaceTimeRRT: Starting planning with 1 states already in datastructure\n",
      "Info:    SpaceTimeRRT: Starting planning with time bound factor 2.00\n",
      "Planning for agent 6/21\n",
      "Info:    SpaceTimeRRT: Created 52 states (20 start + 32 goal)\n",
      "Debug:   SpaceTimeRRT: Planner range detected to be inf\n",
      "Info:    SpaceTimeRRT: Starting planning with 1 states already in datastructure\n",
      "Info:    SpaceTimeRRT: Starting planning with time bound factor 2.00\n",
      "Planning for agent 7/21\n"
     ]
    },
    {
     "name": "stderr",
     "output_type": "stream",
     "text": [
      "Warning: State validity checker not set! No collision checking is performed\n",
      "         at line 63 in /Users/tianpengzhang/Desktop/ompl/src/ompl/base/src/SpaceInformation.cpp\n",
      "Warning: State validity checker not set! No collision checking is performed\n",
      "         at line 63 in /Users/tianpengzhang/Desktop/ompl/src/ompl/base/src/SpaceInformation.cpp\n",
      "Warning: State validity checker not set! No collision checking is performed\n",
      "         at line 63 in /Users/tianpengzhang/Desktop/ompl/src/ompl/base/src/SpaceInformation.cpp\n"
     ]
    },
    {
     "name": "stdout",
     "output_type": "stream",
     "text": [
      "Info:    SpaceTimeRRT: Created 42 states (16 start + 26 goal)\n",
      "Debug:   SpaceTimeRRT: Planner range detected to be inf\n",
      "Info:    SpaceTimeRRT: Starting planning with 1 states already in datastructure\n",
      "Info:    SpaceTimeRRT: Starting planning with time bound factor 2.00\n",
      "Planning for agent 8/21\n",
      "Info:    SpaceTimeRRT: Created 42 states (17 start + 25 goal)\n",
      "Debug:   SpaceTimeRRT: Planner range detected to be inf\n",
      "Info:    SpaceTimeRRT: Starting planning with 1 states already in datastructure\n",
      "Info:    SpaceTimeRRT: Starting planning with time bound factor 2.00\n",
      "Planning for agent 9/21\n",
      "Info:    SpaceTimeRRT: Created 42 states (17 start + 25 goal)\n",
      "Debug:   SpaceTimeRRT: Planner range detected to be inf\n",
      "Info:    SpaceTimeRRT: Starting planning with 1 states already in datastructure\n",
      "Info:    SpaceTimeRRT: Starting planning with time bound factor 2.00\n"
     ]
    },
    {
     "name": "stderr",
     "output_type": "stream",
     "text": [
      "Warning: State validity checker not set! No collision checking is performed\n",
      "         at line 63 in /Users/tianpengzhang/Desktop/ompl/src/ompl/base/src/SpaceInformation.cpp\n",
      "Warning: State validity checker not set! No collision checking is performed\n",
      "         at line 63 in /Users/tianpengzhang/Desktop/ompl/src/ompl/base/src/SpaceInformation.cpp\n"
     ]
    },
    {
     "name": "stdout",
     "output_type": "stream",
     "text": [
      "Planning for agent 10/21Info:    SpaceTimeRRT: Created 38 states (21 start + 17 goal)\n",
      "\n",
      "Debug:   SpaceTimeRRT: Planner range detected to be inf\n",
      "Info:    SpaceTimeRRT: Starting planning with 1 states already in datastructure\n",
      "Info:    SpaceTimeRRT: Starting planning with time bound factor 2.00\n",
      "Planning for agent 11/21Info:    SpaceTimeRRT: Created 117 states (45 start + 72 goal)\n",
      "\n",
      "Debug:   SpaceTimeRRT: Planner range detected to be inf\n",
      "Info:    SpaceTimeRRT: Starting planning with 1 states already in datastructure\n",
      "Info:    SpaceTimeRRT: Starting planning with time bound factor 2.00\n"
     ]
    },
    {
     "name": "stderr",
     "output_type": "stream",
     "text": [
      "Warning: State validity checker not set! No collision checking is performed\n",
      "         at line 63 in /Users/tianpengzhang/Desktop/ompl/src/ompl/base/src/SpaceInformation.cpp\n"
     ]
    },
    {
     "name": "stdout",
     "output_type": "stream",
     "text": [
      "Planning for agent 12/21Info:    SpaceTimeRRT: Created 85 states (41 start + 44 goal)\n",
      "\n",
      "Debug:   SpaceTimeRRT: Planner range detected to be inf\n",
      "Info:    SpaceTimeRRT: Starting planning with 1 states already in datastructure\n",
      "Info:    SpaceTimeRRT: Starting planning with time bound factor 2.00\n",
      "Planning for agent 13/21\n",
      "Info:    SpaceTimeRRT: Created 33 states (14 start + 19 goal)\n",
      "Debug:   SpaceTimeRRT: Planner range detected to be inf\n",
      "Info:    SpaceTimeRRT: Starting planning with 1 states already in datastructure\n",
      "Info:    SpaceTimeRRT: Starting planning with time bound factor 2.00\n",
      "Planning for agent 14/21\n",
      "Info:    SpaceTimeRRT: Created 31 states (13 start + 18 goal)\n",
      "Debug:   SpaceTimeRRT: Planner range detected to be inf\n",
      "Info:    SpaceTimeRRT: Starting planning with 1 states already in datastructure\n",
      "Info:    SpaceTimeRRT: Starting planning with time bound factor 2.00\n"
     ]
    },
    {
     "name": "stderr",
     "output_type": "stream",
     "text": [
      "Warning: State validity checker not set! No collision checking is performed\n",
      "         at line 63 in /Users/tianpengzhang/Desktop/ompl/src/ompl/base/src/SpaceInformation.cpp\n",
      "Warning: State validity checker not set! No collision checking is performed\n",
      "         at line 63 in /Users/tianpengzhang/Desktop/ompl/src/ompl/base/src/SpaceInformation.cpp\n",
      "Warning: State validity checker not set! No collision checking is performed\n",
      "         at line 63 in /Users/tianpengzhang/Desktop/ompl/src/ompl/base/src/SpaceInformation.cpp\n"
     ]
    },
    {
     "name": "stdout",
     "output_type": "stream",
     "text": [
      "Planning for agent 15/21Info:    SpaceTimeRRT: Created 25 states (7 start + 18 goal)\n",
      "\n",
      "Debug:   SpaceTimeRRT: Planner range detected to be inf\n",
      "Info:    SpaceTimeRRT: Starting planning with 1 states already in datastructure\n",
      "Info:    SpaceTimeRRT: Starting planning with time bound factor 2.00\n"
     ]
    },
    {
     "name": "stderr",
     "output_type": "stream",
     "text": [
      "Warning: State validity checker not set! No collision checking is performed\n",
      "         at line 63 in /Users/tianpengzhang/Desktop/ompl/src/ompl/base/src/SpaceInformation.cpp\n"
     ]
    },
    {
     "name": "stdout",
     "output_type": "stream",
     "text": [
      "Planning for agent 16/21Info:    SpaceTimeRRT: Created 451 states (261 start + 190 goal)\n",
      "\n",
      "Debug:   SpaceTimeRRT: Planner range detected to be inf\n",
      "Info:    SpaceTimeRRT: Starting planning with 1 states already in datastructure\n",
      "Info:    SpaceTimeRRT: Starting planning with time bound factor 2.00\n",
      "Planning for agent 17/21\n",
      "Info:    SpaceTimeRRT: Created 25 states (12 start + 13 goal)\n",
      "Debug:   SpaceTimeRRT: Planner range detected to be inf\n",
      "Info:    SpaceTimeRRT: Starting planning with 1 states already in datastructure\n",
      "Info:    SpaceTimeRRT: Starting planning with time bound factor 2.00\n"
     ]
    },
    {
     "name": "stderr",
     "output_type": "stream",
     "text": [
      "Warning: State validity checker not set! No collision checking is performed\n",
      "         at line 63 in /Users/tianpengzhang/Desktop/ompl/src/ompl/base/src/SpaceInformation.cpp\n",
      "Warning: State validity checker not set! No collision checking is performed\n",
      "         at line 63 in /Users/tianpengzhang/Desktop/ompl/src/ompl/base/src/SpaceInformation.cpp\n"
     ]
    },
    {
     "name": "stdout",
     "output_type": "stream",
     "text": [
      "Planning for agent 18/21Info:    SpaceTimeRRT: Created 184 states (84 start + 100 goal)\n",
      "\n",
      "Debug:   SpaceTimeRRT: Planner range detected to be inf\n",
      "Info:    SpaceTimeRRT: Starting planning with 1 states already in datastructure\n",
      "Info:    SpaceTimeRRT: Starting planning with time bound factor 2.00\n"
     ]
    },
    {
     "name": "stderr",
     "output_type": "stream",
     "text": [
      "Warning: State validity checker not set! No collision checking is performed\n",
      "         at line 63 in /Users/tianpengzhang/Desktop/ompl/src/ompl/base/src/SpaceInformation.cpp\n"
     ]
    },
    {
     "name": "stdout",
     "output_type": "stream",
     "text": [
      "Planning for agent 19/21Info:    SpaceTimeRRT: Created 167 states (79 start + 88 goal)\n",
      "\n",
      "Debug:   SpaceTimeRRT: Planner range detected to be inf\n",
      "Info:    SpaceTimeRRT: Starting planning with 1 states already in datastructure\n",
      "Info:    SpaceTimeRRT: Starting planning with time bound factor 2.00\n"
     ]
    },
    {
     "name": "stderr",
     "output_type": "stream",
     "text": [
      "Warning: State validity checker not set! No collision checking is performed\n",
      "         at line 63 in /Users/tianpengzhang/Desktop/ompl/src/ompl/base/src/SpaceInformation.cpp\n"
     ]
    },
    {
     "name": "stdout",
     "output_type": "stream",
     "text": [
      "Planning for agent 20/21Info:    SpaceTimeRRT: Created 225 states (91 start + 134 goal)\n",
      "\n",
      "Debug:   SpaceTimeRRT: Planner range detected to be inf\n",
      "Info:    SpaceTimeRRT: Starting planning with 1 states already in datastructure\n",
      "Info:    SpaceTimeRRT: Starting planning with time bound factor 2.00\n"
     ]
    },
    {
     "name": "stderr",
     "output_type": "stream",
     "text": [
      "Warning: State validity checker not set! No collision checking is performed\n",
      "         at line 63 in /Users/tianpengzhang/Desktop/ompl/src/ompl/base/src/SpaceInformation.cpp\n"
     ]
    },
    {
     "name": "stdout",
     "output_type": "stream",
     "text": [
      "On time for algorithmInfo:    SpaceTimeRRT: Created 238 states (95 start + 143 goal)\n",
      " ST-RRT* N agent =  21\n",
      "Env: MultiTunnel Alg: Seq_Tube N agent: 22\n",
      "Planning for agent 0/22\n",
      "Planning for agent 1/22\n",
      "Planning for agent 2/22\n",
      "Planning for agent 3/22\n",
      "Planning for agent 4/22\n",
      "Planning for agent 5/22\n",
      "Planning for agent 6/22\n",
      "Planning for agent 7/22\n",
      "Planning for agent 8/22\n",
      "Planning for agent 9/22\n",
      "Planning for agent 10/22\n",
      "Planning for agent 11/22\n",
      "Planning for agent 12/22\n",
      "Planning for agent 13/22\n",
      "Planning for agent 14/22\n",
      "Planning for agent 15/22\n",
      "Planning for agent 16/22\n",
      "Planning for agent 17/22\n",
      "Planning for agent 18/22\n",
      "Planning for agent 19/22\n",
      "Planning for agent 20/22\n",
      "Planning for agent 21/22\n",
      "On time for algorithm Seq_Tube N agent =  22\n",
      "Env: MultiTunnel Alg: ST-RRT* N agent: 22\n",
      "Planning for agent 0/22\n",
      "Debug:   SpaceTimeRRT: Planner range detected to be inf\n",
      "Info:    SpaceTimeRRT: Starting planning with 1 states already in datastructure\n",
      "Info:    SpaceTimeRRT: Starting planning with time bound factor 2.00\n",
      "Planning for agent 1/22\n",
      "Info:    SpaceTimeRRT: Created 118 states (52 start + 66 goal)\n",
      "Debug:   SpaceTimeRRT: Planner range detected to be inf\n",
      "Info:    SpaceTimeRRT: Starting planning with 1 states already in datastructure\n",
      "Info:    SpaceTimeRRT: Starting planning with time bound factor 2.00\n",
      "Planning for agent 2/22\n",
      "Info:    SpaceTimeRRT: Created 50 states (15 start + 35 goal)\n",
      "Debug:   SpaceTimeRRT: Planner range detected to be inf\n",
      "Info:    SpaceTimeRRT: Starting planning with 1 states already in datastructure\n",
      "Info:    SpaceTimeRRT: Starting planning with time bound factor 2.00\n"
     ]
    },
    {
     "name": "stderr",
     "output_type": "stream",
     "text": [
      "Warning: State validity checker not set! No collision checking is performed\n",
      "         at line 63 in /Users/tianpengzhang/Desktop/ompl/src/ompl/base/src/SpaceInformation.cpp\n",
      "Warning: State validity checker not set! No collision checking is performed\n",
      "         at line 63 in /Users/tianpengzhang/Desktop/ompl/src/ompl/base/src/SpaceInformation.cpp\n",
      "Warning: State validity checker not set! No collision checking is performed\n",
      "         at line 63 in /Users/tianpengzhang/Desktop/ompl/src/ompl/base/src/SpaceInformation.cpp\n"
     ]
    },
    {
     "name": "stdout",
     "output_type": "stream",
     "text": [
      "Planning for agent 3/22Info:    SpaceTimeRRT: Created 61 states (30 start + 31 goal)\n",
      "\n",
      "Debug:   SpaceTimeRRT: Planner range detected to be inf\n",
      "Info:    SpaceTimeRRT: Starting planning with 1 states already in datastructure\n",
      "Info:    SpaceTimeRRT: Starting planning with time bound factor 2.00\n",
      "Planning for agent 4/22\n",
      "Info:    SpaceTimeRRT: Created 80 states (30 start + 50 goal)\n",
      "Debug:   SpaceTimeRRT: Planner range detected to be inf\n",
      "Info:    SpaceTimeRRT: Starting planning with 1 states already in datastructure\n",
      "Info:    SpaceTimeRRT: Starting planning with time bound factor 2.00\n"
     ]
    },
    {
     "name": "stderr",
     "output_type": "stream",
     "text": [
      "Warning: State validity checker not set! No collision checking is performed\n",
      "         at line 63 in /Users/tianpengzhang/Desktop/ompl/src/ompl/base/src/SpaceInformation.cpp\n",
      "Warning: State validity checker not set! No collision checking is performed\n",
      "         at line 63 in /Users/tianpengzhang/Desktop/ompl/src/ompl/base/src/SpaceInformation.cpp\n"
     ]
    },
    {
     "name": "stdout",
     "output_type": "stream",
     "text": [
      "Planning for agent 5/22Info:    SpaceTimeRRT: Created 55 states (27 start + 28 goal)\n",
      "\n",
      "Debug:   SpaceTimeRRT: Planner range detected to be inf\n",
      "Info:    SpaceTimeRRT: Starting planning with 1 states already in datastructure\n",
      "Info:    SpaceTimeRRT: Starting planning with time bound factor 2.00\n",
      "Planning for agent 6/22\n",
      "Info:    SpaceTimeRRT: Created 55 states (19 start + 36 goal)\n",
      "Debug:   SpaceTimeRRT: Planner range detected to be inf\n",
      "Info:    SpaceTimeRRT: Starting planning with 1 states already in datastructure\n",
      "Info:    SpaceTimeRRT: Starting planning with time bound factor 2.00\n"
     ]
    },
    {
     "name": "stderr",
     "output_type": "stream",
     "text": [
      "Warning: State validity checker not set! No collision checking is performed\n",
      "         at line 63 in /Users/tianpengzhang/Desktop/ompl/src/ompl/base/src/SpaceInformation.cpp\n",
      "Warning: State validity checker not set! No collision checking is performed\n",
      "         at line 63 in /Users/tianpengzhang/Desktop/ompl/src/ompl/base/src/SpaceInformation.cpp\n"
     ]
    },
    {
     "name": "stdout",
     "output_type": "stream",
     "text": [
      "Planning for agent 7/22Info:    SpaceTimeRRT: Created 34 states (12 start + 22 goal)\n",
      "\n",
      "Debug:   SpaceTimeRRT: Planner range detected to be inf\n",
      "Info:    SpaceTimeRRT: Starting planning with 1 states already in datastructure\n",
      "Info:    SpaceTimeRRT: Starting planning with time bound factor 2.00\n",
      "Planning for agent 8/22\n",
      "Info:    SpaceTimeRRT: Created 44 states (23 start + 21 goal)\n",
      "Debug:   SpaceTimeRRT: Planner range detected to be inf\n",
      "Info:    SpaceTimeRRT: Starting planning with 1 states already in datastructure\n",
      "Info:    SpaceTimeRRT: Starting planning with time bound factor 2.00\n"
     ]
    },
    {
     "name": "stderr",
     "output_type": "stream",
     "text": [
      "Warning: State validity checker not set! No collision checking is performed\n",
      "         at line 63 in /Users/tianpengzhang/Desktop/ompl/src/ompl/base/src/SpaceInformation.cpp\n",
      "Warning: State validity checker not set! No collision checking is performed\n",
      "         at line 63 in /Users/tianpengzhang/Desktop/ompl/src/ompl/base/src/SpaceInformation.cpp\n"
     ]
    },
    {
     "name": "stdout",
     "output_type": "stream",
     "text": [
      "Planning for agent 9/22Info:    SpaceTimeRRT: Created 80 states (34 start + 46 goal)\n",
      "\n",
      "Debug:   SpaceTimeRRT: Planner range detected to be inf\n",
      "Info:    SpaceTimeRRT: Starting planning with 1 states already in datastructure\n",
      "Info:    SpaceTimeRRT: Starting planning with time bound factor 2.00\n",
      "Planning for agent 10/22\n",
      "Info:    SpaceTimeRRT: Created 41 states (16 start + 25 goal)\n",
      "Debug:   SpaceTimeRRT: Planner range detected to be inf\n",
      "Info:    SpaceTimeRRT: Starting planning with 1 states already in datastructure\n",
      "Info:    SpaceTimeRRT: Starting planning with time bound factor 2.00\n"
     ]
    },
    {
     "name": "stderr",
     "output_type": "stream",
     "text": [
      "Warning: State validity checker not set! No collision checking is performed\n",
      "         at line 63 in /Users/tianpengzhang/Desktop/ompl/src/ompl/base/src/SpaceInformation.cpp\n",
      "Warning: State validity checker not set! No collision checking is performed\n",
      "         at line 63 in /Users/tianpengzhang/Desktop/ompl/src/ompl/base/src/SpaceInformation.cpp\n"
     ]
    },
    {
     "name": "stdout",
     "output_type": "stream",
     "text": [
      "Planning for agent 11/22Info:    SpaceTimeRRT: Created 39 states (18 start + 21 goal)\n",
      "\n",
      "Debug:   SpaceTimeRRT: Planner range detected to be inf\n",
      "Info:    SpaceTimeRRT: Starting planning with 1 states already in datastructure\n",
      "Info:    SpaceTimeRRT: Starting planning with time bound factor 2.00\n"
     ]
    },
    {
     "name": "stderr",
     "output_type": "stream",
     "text": [
      "Warning: State validity checker not set! No collision checking is performed\n",
      "         at line 63 in /Users/tianpengzhang/Desktop/ompl/src/ompl/base/src/SpaceInformation.cpp\n"
     ]
    },
    {
     "name": "stdout",
     "output_type": "stream",
     "text": [
      "Planning for agent 12/22Info:    SpaceTimeRRT: Created 144 states (61 start + 83 goal)\n",
      "\n",
      "Debug:   SpaceTimeRRT: Planner range detected to be inf\n",
      "Info:    SpaceTimeRRT: Starting planning with 1 states already in datastructure\n",
      "Info:    SpaceTimeRRT: Starting planning with time bound factor 2.00\n"
     ]
    },
    {
     "name": "stderr",
     "output_type": "stream",
     "text": [
      "Warning: State validity checker not set! No collision checking is performed\n",
      "         at line 63 in /Users/tianpengzhang/Desktop/ompl/src/ompl/base/src/SpaceInformation.cpp\n"
     ]
    },
    {
     "name": "stdout",
     "output_type": "stream",
     "text": [
      "Planning for agent 13/22Info:    SpaceTimeRRT: Created 170 states (74 start + 96 goal)\n",
      "\n",
      "Debug:   SpaceTimeRRT: Planner range detected to be inf\n",
      "Info:    SpaceTimeRRT: Starting planning with 1 states already in datastructure\n",
      "Info:    SpaceTimeRRT: Starting planning with time bound factor 2.00\n"
     ]
    },
    {
     "name": "stderr",
     "output_type": "stream",
     "text": [
      "Warning: State validity checker not set! No collision checking is performed\n",
      "         at line 63 in /Users/tianpengzhang/Desktop/ompl/src/ompl/base/src/SpaceInformation.cpp\n"
     ]
    },
    {
     "name": "stdout",
     "output_type": "stream",
     "text": [
      "Info:    SpaceTimeRRT: Increased time bound factor to 4.00\n",
      "Planning for agent 14/22\n",
      "Info:    SpaceTimeRRT: Created 524 states (237 start + 287 goal)\n",
      "Debug:   SpaceTimeRRT: Planner range detected to be inf\n",
      "Info:    SpaceTimeRRT: Starting planning with 1 states already in datastructure\n",
      "Info:    SpaceTimeRRT: Starting planning with time bound factor 2.00\n"
     ]
    },
    {
     "name": "stderr",
     "output_type": "stream",
     "text": [
      "Warning: State validity checker not set! No collision checking is performed\n",
      "         at line 63 in /Users/tianpengzhang/Desktop/ompl/src/ompl/base/src/SpaceInformation.cpp\n"
     ]
    },
    {
     "name": "stdout",
     "output_type": "stream",
     "text": [
      "Planning for agent 15/22Info:    SpaceTimeRRT: Created 475 states (188 start + 287 goal)\n",
      "\n",
      "Debug:   SpaceTimeRRT: Planner range detected to be inf\n",
      "Info:    SpaceTimeRRT: Starting planning with 1 states already in datastructure\n",
      "Info:    SpaceTimeRRT: Starting planning with time bound factor 2.00\n"
     ]
    },
    {
     "name": "stderr",
     "output_type": "stream",
     "text": [
      "Warning: State validity checker not set! No collision checking is performed\n",
      "         at line 63 in /Users/tianpengzhang/Desktop/ompl/src/ompl/base/src/SpaceInformation.cpp\n"
     ]
    },
    {
     "name": "stdout",
     "output_type": "stream",
     "text": [
      "Planning for agent 16/22Info:    SpaceTimeRRT: Created 373 states (138 start + 235 goal)\n",
      "\n",
      "Debug:   SpaceTimeRRT: Planner range detected to be inf\n",
      "Info:    SpaceTimeRRT: Starting planning with 1 states already in datastructure\n",
      "Info:    SpaceTimeRRT: Starting planning with time bound factor 2.00\n"
     ]
    },
    {
     "name": "stderr",
     "output_type": "stream",
     "text": [
      "Warning: State validity checker not set! No collision checking is performed\n",
      "         at line 63 in /Users/tianpengzhang/Desktop/ompl/src/ompl/base/src/SpaceInformation.cpp\n"
     ]
    },
    {
     "name": "stdout",
     "output_type": "stream",
     "text": [
      "Planning for agent 17/22Info:    SpaceTimeRRT: Created 430 states (183 start + 247 goal)\n",
      "\n",
      "Debug:   SpaceTimeRRT: Planner range detected to be inf\n",
      "Info:    SpaceTimeRRT: Starting planning with 1 states already in datastructure\n",
      "Info:    SpaceTimeRRT: Starting planning with time bound factor 2.00\n"
     ]
    },
    {
     "name": "stderr",
     "output_type": "stream",
     "text": [
      "Warning: State validity checker not set! No collision checking is performed\n",
      "         at line 63 in /Users/tianpengzhang/Desktop/ompl/src/ompl/base/src/SpaceInformation.cpp\n"
     ]
    },
    {
     "name": "stdout",
     "output_type": "stream",
     "text": [
      "Info:    SpaceTimeRRT: Increased time bound factor to 4.00\n",
      "Planning for agent 18/22Info:    SpaceTimeRRT: Created 829 states (350 start + 479 goal)\n",
      "\n",
      "Debug:   SpaceTimeRRT: Planner range detected to be inf\n",
      "Info:    SpaceTimeRRT: Starting planning with 1 states already in datastructure\n",
      "Info:    SpaceTimeRRT: Starting planning with time bound factor 2.00\n"
     ]
    },
    {
     "name": "stderr",
     "output_type": "stream",
     "text": [
      "Warning: State validity checker not set! No collision checking is performed\n",
      "         at line 63 in /Users/tianpengzhang/Desktop/ompl/src/ompl/base/src/SpaceInformation.cpp\n"
     ]
    },
    {
     "name": "stdout",
     "output_type": "stream",
     "text": [
      "Planning for agent 19/22Info:    SpaceTimeRRT: Created 71 states (24 start + 47 goal)\n",
      "\n",
      "Debug:   SpaceTimeRRT: Planner range detected to be inf\n",
      "Info:    SpaceTimeRRT: Starting planning with 1 states already in datastructure\n",
      "Info:    SpaceTimeRRT: Starting planning with time bound factor 2.00\n"
     ]
    },
    {
     "name": "stderr",
     "output_type": "stream",
     "text": [
      "Warning: State validity checker not set! No collision checking is performed\n",
      "         at line 63 in /Users/tianpengzhang/Desktop/ompl/src/ompl/base/src/SpaceInformation.cpp\n"
     ]
    },
    {
     "name": "stdout",
     "output_type": "stream",
     "text": [
      "Info:    SpaceTimeRRT: Increased time bound factor to 4.00\n",
      "Planning for agent 20/22Info:    SpaceTimeRRT: Created 571 states (216 start + 355 goal)\n",
      "\n",
      "Debug:   SpaceTimeRRT: Planner range detected to be inf\n",
      "Info:    SpaceTimeRRT: Starting planning with 1 states already in datastructure\n",
      "Info:    SpaceTimeRRT: Starting planning with time bound factor 2.00\n"
     ]
    },
    {
     "name": "stderr",
     "output_type": "stream",
     "text": [
      "Warning: State validity checker not set! No collision checking is performed\n",
      "         at line 63 in /Users/tianpengzhang/Desktop/ompl/src/ompl/base/src/SpaceInformation.cpp\n"
     ]
    },
    {
     "name": "stdout",
     "output_type": "stream",
     "text": [
      "Planning for agent 21/22Info:    SpaceTimeRRT: Created 501 states (214 start + 287 goal)\n",
      "\n",
      "Debug:   SpaceTimeRRT: Planner range detected to be inf\n",
      "Info:    SpaceTimeRRT: Starting planning with 1 states already in datastructure\n",
      "Info:    SpaceTimeRRT: Starting planning with time bound factor 2.00\n",
      "On time for algorithm ST-RRT* N agent =  22\n",
      "Info:    SpaceTimeRRT: Created 14 states (4 start + 10 goal)\n",
      "Env: MultiTunnel Alg: Seq_Tube N agent: 23\n",
      "Planning for agent 0/23\n"
     ]
    },
    {
     "name": "stderr",
     "output_type": "stream",
     "text": [
      "Warning: State validity checker not set! No collision checking is performed\n",
      "         at line 63 in /Users/tianpengzhang/Desktop/ompl/src/ompl/base/src/SpaceInformation.cpp\n"
     ]
    },
    {
     "name": "stdout",
     "output_type": "stream",
     "text": [
      "Planning for agent 1/23\n",
      "Planning for agent 2/23\n",
      "Planning for agent 3/23\n",
      "Planning for agent 4/23\n",
      "Planning for agent 5/23\n",
      "Planning for agent 6/23\n",
      "Planning for agent 7/23\n",
      "Planning for agent 8/23\n",
      "Planning for agent 9/23\n",
      "Planning for agent 10/23\n",
      "Planning for agent 11/23\n",
      "Planning for agent 12/23\n",
      "Planning for agent 13/23\n",
      "Planning for agent 14/23\n",
      "Planning for agent 15/23\n",
      "Planning for agent 16/23\n",
      "Planning for agent 17/23\n",
      "Planning for agent 18/23\n",
      "Planning for agent 19/23\n",
      "Planning for agent 20/23\n",
      "Planning for agent 21/23\n",
      "Planning for agent 22/23\n",
      "On time for algorithm Seq_Tube N agent =  23\n",
      "Env: MultiTunnel Alg: ST-RRT* N agent: 23\n",
      "Planning for agent 0/23\n",
      "Debug:   SpaceTimeRRT: Planner range detected to be inf\n",
      "Info:    SpaceTimeRRT: Starting planning with 1 states already in datastructure\n",
      "Info:    SpaceTimeRRT: Starting planning with time bound factor 2.00\n"
     ]
    },
    {
     "name": "stderr",
     "output_type": "stream",
     "text": [
      "Warning: State validity checker not set! No collision checking is performed\n",
      "         at line 63 in /Users/tianpengzhang/Desktop/ompl/src/ompl/base/src/SpaceInformation.cpp\n",
      "Warning: State validity checker not set! No collision checking is performed\n",
      "         at line 63 in /Users/tianpengzhang/Desktop/ompl/src/ompl/base/src/SpaceInformation.cpp\n",
      "Warning: State validity checker not set! No collision checking is performed\n",
      "         at line 63 in /Users/tianpengzhang/Desktop/ompl/src/ompl/base/src/SpaceInformation.cpp\n"
     ]
    },
    {
     "name": "stdout",
     "output_type": "stream",
     "text": [
      "Planning for agent 1/23Info:    SpaceTimeRRT: Created 105 states (38 start + 67 goal)\n",
      "\n",
      "Debug:   SpaceTimeRRT: Planner range detected to be inf\n",
      "Info:    SpaceTimeRRT: Starting planning with 1 states already in datastructure\n",
      "Info:    SpaceTimeRRT: Starting planning with time bound factor 2.00\n",
      "Planning for agent 2/23\n",
      "Info:    SpaceTimeRRT: Created 59 states (23 start + 36 goal)\n",
      "Debug:   SpaceTimeRRT: Planner range detected to be inf\n",
      "Info:    SpaceTimeRRT: Starting planning with 1 states already in datastructure\n",
      "Info:    SpaceTimeRRT: Starting planning with time bound factor 2.00\n",
      "Planning for agent 3/23\n"
     ]
    },
    {
     "name": "stderr",
     "output_type": "stream",
     "text": [
      "Warning: State validity checker not set! No collision checking is performed\n",
      "         at line 63 in /Users/tianpengzhang/Desktop/ompl/src/ompl/base/src/SpaceInformation.cpp\n",
      "Warning: State validity checker not set! No collision checking is performed\n",
      "         at line 63 in /Users/tianpengzhang/Desktop/ompl/src/ompl/base/src/SpaceInformation.cpp\n",
      "Warning: State validity checker not set! No collision checking is performed\n",
      "         at line 63 in /Users/tianpengzhang/Desktop/ompl/src/ompl/base/src/SpaceInformation.cpp\n"
     ]
    },
    {
     "name": "stdout",
     "output_type": "stream",
     "text": [
      "Info:    SpaceTimeRRT: Created 88 states (30 start + 58 goal)\n",
      "Debug:   SpaceTimeRRT: Planner range detected to be inf\n",
      "Info:    SpaceTimeRRT: Starting planning with 1 states already in datastructure\n",
      "Info:    SpaceTimeRRT: Starting planning with time bound factor 2.00\n",
      "Planning for agent 4/23\n",
      "Info:    SpaceTimeRRT: Created 38 states (15 start + 23 goal)\n",
      "Debug:   SpaceTimeRRT: Planner range detected to be inf\n",
      "Info:    SpaceTimeRRT: Starting planning with 1 states already in datastructure\n",
      "Info:    SpaceTimeRRT: Starting planning with time bound factor 2.00\n",
      "Planning for agent 5/23\n",
      "Info:    SpaceTimeRRT: Created 44 states (18 start + 26 goal)\n",
      "Debug:   SpaceTimeRRT: Planner range detected to be inf\n",
      "Info:    SpaceTimeRRT: Starting planning with 1 states already in datastructure\n",
      "Info:    SpaceTimeRRT: Starting planning with time bound factor 2.00\n",
      "Planning for agent 6/23Info:    SpaceTimeRRT: Created 19 states (8 start + 11 goal)\n",
      "\n",
      "Debug:   SpaceTimeRRT: Planner range detected to be inf\n",
      "Info:    SpaceTimeRRT: Starting planning with 1 states already in datastructure\n",
      "Info:    SpaceTimeRRT: Starting planning with time bound factor 2.00\n",
      "Planning for agent 7/23\n",
      "Info:    SpaceTimeRRT: Created 48 states (22 start + 26 goal)\n",
      "Debug:   SpaceTimeRRT: Planner range detected to be inf\n",
      "Info:    SpaceTimeRRT: Starting planning with 1 states already in datastructure\n",
      "Info:    SpaceTimeRRT: Starting planning with time bound factor 2.00\n"
     ]
    },
    {
     "name": "stderr",
     "output_type": "stream",
     "text": [
      "Warning: State validity checker not set! No collision checking is performed\n",
      "         at line 63 in /Users/tianpengzhang/Desktop/ompl/src/ompl/base/src/SpaceInformation.cpp\n",
      "Warning: State validity checker not set! No collision checking is performed\n",
      "         at line 63 in /Users/tianpengzhang/Desktop/ompl/src/ompl/base/src/SpaceInformation.cpp\n"
     ]
    },
    {
     "name": "stdout",
     "output_type": "stream",
     "text": [
      "Planning for agent 8/23Info:    SpaceTimeRRT: Created 36 states (16 start + 20 goal)\n",
      "\n",
      "Debug:   SpaceTimeRRT: Planner range detected to be inf\n",
      "Info:    SpaceTimeRRT: Starting planning with 1 states already in datastructure\n",
      "Info:    SpaceTimeRRT: Starting planning with time bound factor 2.00\n",
      "Planning for agent 9/23\n",
      "Info:    SpaceTimeRRT: Created 47 states (20 start + 27 goal)\n",
      "Debug:   SpaceTimeRRT: Planner range detected to be inf\n",
      "Info:    SpaceTimeRRT: Starting planning with 1 states already in datastructure\n",
      "Info:    SpaceTimeRRT: Starting planning with time bound factor 2.00\n",
      "Planning for agent 10/23\n",
      "Info:    SpaceTimeRRT: Created 42 states (21 start + 21 goal)\n",
      "Debug:   SpaceTimeRRT: Planner range detected to be inf\n",
      "Info:    SpaceTimeRRT: Starting planning with 1 states already in datastructure\n",
      "Info:    SpaceTimeRRT: Starting planning with time bound factor 2.00\n"
     ]
    },
    {
     "name": "stderr",
     "output_type": "stream",
     "text": [
      "Warning: State validity checker not set! No collision checking is performed\n",
      "         at line 63 in /Users/tianpengzhang/Desktop/ompl/src/ompl/base/src/SpaceInformation.cpp\n",
      "Warning: State validity checker not set! No collision checking is performed\n",
      "         at line 63 in /Users/tianpengzhang/Desktop/ompl/src/ompl/base/src/SpaceInformation.cpp\n",
      "Warning: State validity checker not set! No collision checking is performed\n",
      "         at line 63 in /Users/tianpengzhang/Desktop/ompl/src/ompl/base/src/SpaceInformation.cpp\n"
     ]
    },
    {
     "name": "stdout",
     "output_type": "stream",
     "text": [
      "Planning for agent 11/23Info:    SpaceTimeRRT: Created 39 states (18 start + 21 goal)\n",
      "\n",
      "Debug:   SpaceTimeRRT: Planner range detected to be inf\n",
      "Info:    SpaceTimeRRT: Starting planning with 1 states already in datastructure\n",
      "Info:    SpaceTimeRRT: Starting planning with time bound factor 2.00\n"
     ]
    },
    {
     "name": "stderr",
     "output_type": "stream",
     "text": [
      "Warning: State validity checker not set! No collision checking is performed\n",
      "         at line 63 in /Users/tianpengzhang/Desktop/ompl/src/ompl/base/src/SpaceInformation.cpp\n"
     ]
    },
    {
     "name": "stdout",
     "output_type": "stream",
     "text": [
      "Planning for agent 12/23Info:    SpaceTimeRRT: Created 153 states (70 start + 83 goal)\n",
      "\n",
      "Debug:   SpaceTimeRRT: Planner range detected to be inf\n",
      "Info:    SpaceTimeRRT: Starting planning with 1 states already in datastructure\n",
      "Info:    SpaceTimeRRT: Starting planning with time bound factor 2.00\n"
     ]
    },
    {
     "name": "stderr",
     "output_type": "stream",
     "text": [
      "Warning: State validity checker not set! No collision checking is performed\n",
      "         at line 63 in /Users/tianpengzhang/Desktop/ompl/src/ompl/base/src/SpaceInformation.cpp\n"
     ]
    },
    {
     "name": "stdout",
     "output_type": "stream",
     "text": [
      "Planning for agent 13/23Info:    SpaceTimeRRT: Created 510 states (218 start + 292 goal)\n",
      "\n",
      "Debug:   SpaceTimeRRT: Planner range detected to be inf\n",
      "Info:    SpaceTimeRRT: Starting planning with 1 states already in datastructure\n",
      "Info:    SpaceTimeRRT: Starting planning with time bound factor 2.00\n"
     ]
    },
    {
     "name": "stderr",
     "output_type": "stream",
     "text": [
      "Warning: State validity checker not set! No collision checking is performed\n",
      "         at line 63 in /Users/tianpengzhang/Desktop/ompl/src/ompl/base/src/SpaceInformation.cpp\n"
     ]
    },
    {
     "name": "stdout",
     "output_type": "stream",
     "text": [
      "Planning for agent 14/23Info:    SpaceTimeRRT: Created 295 states (115 start + 180 goal)\n",
      "\n",
      "Debug:   SpaceTimeRRT: Planner range detected to be inf\n",
      "Info:    SpaceTimeRRT: Starting planning with 1 states already in datastructure\n",
      "Info:    SpaceTimeRRT: Starting planning with time bound factor 2.00\n"
     ]
    },
    {
     "name": "stderr",
     "output_type": "stream",
     "text": [
      "Warning: State validity checker not set! No collision checking is performed\n",
      "         at line 63 in /Users/tianpengzhang/Desktop/ompl/src/ompl/base/src/SpaceInformation.cpp\n"
     ]
    },
    {
     "name": "stdout",
     "output_type": "stream",
     "text": [
      "Info:    SpaceTimeRRT: Increased time bound factor to 4.00\n",
      "Planning for agent 15/23\n",
      "Info:    SpaceTimeRRT: Created 528 states (225 start + 303 goal)\n",
      "Debug:   SpaceTimeRRT: Planner range detected to be inf\n",
      "Info:    SpaceTimeRRT: Starting planning with 1 states already in datastructure\n",
      "Info:    SpaceTimeRRT: Starting planning with time bound factor 2.00\n"
     ]
    },
    {
     "name": "stderr",
     "output_type": "stream",
     "text": [
      "Warning: State validity checker not set! No collision checking is performed\n",
      "         at line 63 in /Users/tianpengzhang/Desktop/ompl/src/ompl/base/src/SpaceInformation.cpp\n"
     ]
    },
    {
     "name": "stdout",
     "output_type": "stream",
     "text": [
      "Planning for agent 16/23Info:    SpaceTimeRRT: Created 277 states (126 start + 151 goal)\n",
      "\n",
      "Debug:   SpaceTimeRRT: Planner range detected to be inf\n",
      "Info:    SpaceTimeRRT: Starting planning with 1 states already in datastructure\n",
      "Info:    SpaceTimeRRT: Starting planning with time bound factor 2.00\n"
     ]
    },
    {
     "name": "stderr",
     "output_type": "stream",
     "text": [
      "Warning: State validity checker not set! No collision checking is performed\n",
      "         at line 63 in /Users/tianpengzhang/Desktop/ompl/src/ompl/base/src/SpaceInformation.cpp\n"
     ]
    },
    {
     "name": "stdout",
     "output_type": "stream",
     "text": [
      "Planning for agent 17/23Info:    SpaceTimeRRT: Created 66 states (23 start + 43 goal)\n",
      "\n",
      "Debug:   SpaceTimeRRT: Planner range detected to be inf\n",
      "Info:    SpaceTimeRRT: Starting planning with 1 states already in datastructure\n",
      "Info:    SpaceTimeRRT: Starting planning with time bound factor 2.00\n"
     ]
    },
    {
     "name": "stderr",
     "output_type": "stream",
     "text": [
      "Warning: State validity checker not set! No collision checking is performed\n",
      "         at line 63 in /Users/tianpengzhang/Desktop/ompl/src/ompl/base/src/SpaceInformation.cpp\n"
     ]
    },
    {
     "name": "stdout",
     "output_type": "stream",
     "text": [
      "Planning for agent 18/23Info:    SpaceTimeRRT: Created 102 states (38 start + 64 goal)\n",
      "\n",
      "Debug:   SpaceTimeRRT: Planner range detected to be inf\n",
      "Info:    SpaceTimeRRT: Starting planning with 1 states already in datastructure\n",
      "Info:    SpaceTimeRRT: Starting planning with time bound factor 2.00\n"
     ]
    },
    {
     "name": "stderr",
     "output_type": "stream",
     "text": [
      "Warning: State validity checker not set! No collision checking is performed\n",
      "         at line 63 in /Users/tianpengzhang/Desktop/ompl/src/ompl/base/src/SpaceInformation.cpp\n"
     ]
    },
    {
     "name": "stdout",
     "output_type": "stream",
     "text": [
      "Planning for agent 19/23Info:    SpaceTimeRRT: Created 178 states (66 start + 112 goal)\n",
      "\n",
      "Debug:   SpaceTimeRRT: Planner range detected to be inf\n",
      "Info:    SpaceTimeRRT: Starting planning with 1 states already in datastructure\n",
      "Info:    SpaceTimeRRT: Starting planning with time bound factor 2.00\n"
     ]
    },
    {
     "name": "stderr",
     "output_type": "stream",
     "text": [
      "Warning: State validity checker not set! No collision checking is performed\n",
      "         at line 63 in /Users/tianpengzhang/Desktop/ompl/src/ompl/base/src/SpaceInformation.cpp\n"
     ]
    },
    {
     "name": "stdout",
     "output_type": "stream",
     "text": [
      "Planning for agent 20/23Info:    SpaceTimeRRT: Created 295 states (123 start + 172 goal)\n",
      "\n",
      "Debug:   SpaceTimeRRT: Planner range detected to be inf\n",
      "Info:    SpaceTimeRRT: Starting planning with 1 states already in datastructure\n",
      "Info:    SpaceTimeRRT: Starting planning with time bound factor 2.00\n",
      "Planning for agent 21/23\n",
      "Info:    SpaceTimeRRT: Created 30 states (9 start + 21 goal)\n",
      "Debug:   SpaceTimeRRT: Planner range detected to be inf\n",
      "Info:    SpaceTimeRRT: Starting planning with 1 states already in datastructure\n",
      "Info:    SpaceTimeRRT: Starting planning with time bound factor 2.00\n"
     ]
    },
    {
     "name": "stderr",
     "output_type": "stream",
     "text": [
      "Warning: State validity checker not set! No collision checking is performed\n",
      "         at line 63 in /Users/tianpengzhang/Desktop/ompl/src/ompl/base/src/SpaceInformation.cpp\n",
      "Warning: State validity checker not set! No collision checking is performed\n",
      "         at line 63 in /Users/tianpengzhang/Desktop/ompl/src/ompl/base/src/SpaceInformation.cpp\n"
     ]
    },
    {
     "name": "stdout",
     "output_type": "stream",
     "text": [
      "Planning for agent 22/23Info:    SpaceTimeRRT: Created 99 states (36 start + 63 goal)\n",
      "\n",
      "Debug:   SpaceTimeRRT: Planner range detected to be inf\n",
      "Info:    SpaceTimeRRT: Starting planning with 1 states already in datastructure\n",
      "Info:    SpaceTimeRRT: Starting planning with time bound factor 2.00\n"
     ]
    },
    {
     "name": "stderr",
     "output_type": "stream",
     "text": [
      "Warning: State validity checker not set! No collision checking is performed\n",
      "         at line 63 in /Users/tianpengzhang/Desktop/ompl/src/ompl/base/src/SpaceInformation.cpp\n"
     ]
    },
    {
     "name": "stdout",
     "output_type": "stream",
     "text": [
      "On time for algorithmInfo:    SpaceTimeRRT: Created 60 states (25 start + 35 goal)\n",
      " ST-RRT* N agent =  23\n",
      "Env: MultiTunnel Alg: Seq_Tube N agent: 24\n",
      "Planning for agent 0/24\n",
      "Planning for agent 1/24\n",
      "Planning for agent 2/24\n",
      "Planning for agent 3/24\n",
      "Planning for agent 4/24\n",
      "Planning for agent 5/24\n",
      "Planning for agent 6/24\n",
      "Planning for agent 7/24\n",
      "Planning for agent 8/24\n",
      "Planning for agent 9/24\n",
      "Planning for agent 10/24\n",
      "Planning for agent 11/24\n",
      "Planning for agent 12/24\n",
      "Planning for agent 13/24\n",
      "Planning for agent 14/24\n",
      "Planning for agent 15/24\n",
      "Planning for agent 16/24\n",
      "Planning for agent 17/24\n",
      "Planning for agent 18/24\n",
      "Planning for agent 19/24\n",
      "Planning for agent 20/24\n",
      "Planning for agent 21/24\n",
      "Planning for agent 22/24\n",
      "Planning for agent 23/24\n",
      "On time for algorithm Seq_Tube N agent =  24\n",
      "Env: MultiTunnel Alg: ST-RRT* N agent: 24\n",
      "Planning for agent 0/24\n",
      "Debug:   SpaceTimeRRT: Planner range detected to be inf\n",
      "Info:    SpaceTimeRRT: Starting planning with 1 states already in datastructure\n",
      "Info:    SpaceTimeRRT: Starting planning with time bound factor 2.00\n",
      "Planning for agent 1/24\n",
      "Info:    SpaceTimeRRT: Created 107 states (48 start + 59 goal)\n",
      "Debug:   SpaceTimeRRT: Planner range detected to be inf\n",
      "Info:    SpaceTimeRRT: Starting planning with 1 states already in datastructure\n",
      "Info:    SpaceTimeRRT: Starting planning with time bound factor 2.00\n",
      "Planning for agent 2/24\n",
      "Info:    SpaceTimeRRT: Created 107 states (40 start + 67 goal)\n"
     ]
    },
    {
     "name": "stderr",
     "output_type": "stream",
     "text": [
      "Warning: State validity checker not set! No collision checking is performed\n",
      "         at line 63 in /Users/tianpengzhang/Desktop/ompl/src/ompl/base/src/SpaceInformation.cpp\n",
      "Warning: State validity checker not set! No collision checking is performed\n",
      "         at line 63 in /Users/tianpengzhang/Desktop/ompl/src/ompl/base/src/SpaceInformation.cpp\n",
      "Warning: State validity checker not set! No collision checking is performed\n",
      "         at line 63 in /Users/tianpengzhang/Desktop/ompl/src/ompl/base/src/SpaceInformation.cpp\n"
     ]
    },
    {
     "name": "stdout",
     "output_type": "stream",
     "text": [
      "Debug:   SpaceTimeRRT: Planner range detected to be inf\n",
      "Info:    SpaceTimeRRT: Starting planning with 1 states already in datastructure\n",
      "Info:    SpaceTimeRRT: Starting planning with time bound factor 2.00\n",
      "Planning for agent 3/24\n",
      "Info:    SpaceTimeRRT: Created 39 states (13 start + 26 goal)\n",
      "Debug:   SpaceTimeRRT: Planner range detected to be inf\n",
      "Info:    SpaceTimeRRT: Starting planning with 1 states already in datastructure\n",
      "Info:    SpaceTimeRRT: Starting planning with time bound factor 2.00\n"
     ]
    },
    {
     "name": "stderr",
     "output_type": "stream",
     "text": [
      "Warning: State validity checker not set! No collision checking is performed\n",
      "         at line 63 in /Users/tianpengzhang/Desktop/ompl/src/ompl/base/src/SpaceInformation.cpp\n",
      "Warning: State validity checker not set! No collision checking is performed\n",
      "         at line 63 in /Users/tianpengzhang/Desktop/ompl/src/ompl/base/src/SpaceInformation.cpp\n"
     ]
    },
    {
     "name": "stdout",
     "output_type": "stream",
     "text": [
      "Planning for agent 4/24Info:    SpaceTimeRRT: Created 109 states (38 start + 71 goal)\n",
      "\n",
      "Debug:   SpaceTimeRRT: Planner range detected to be inf\n",
      "Info:    SpaceTimeRRT: Starting planning with 1 states already in datastructure\n",
      "Info:    SpaceTimeRRT: Starting planning with time bound factor 2.00\n",
      "Planning for agent 5/24\n",
      "Info:    SpaceTimeRRT: Created 45 states (23 start + 22 goal)\n",
      "Debug:   SpaceTimeRRT: Planner range detected to be inf\n",
      "Info:    SpaceTimeRRT: Starting planning with 1 states already in datastructure\n",
      "Info:    SpaceTimeRRT: Starting planning with time bound factor 2.00\n"
     ]
    },
    {
     "name": "stderr",
     "output_type": "stream",
     "text": [
      "Warning: State validity checker not set! No collision checking is performed\n",
      "         at line 63 in /Users/tianpengzhang/Desktop/ompl/src/ompl/base/src/SpaceInformation.cpp\n"
     ]
    },
    {
     "name": "stdout",
     "output_type": "stream",
     "text": [
      "Planning for agent 6/24Info:    SpaceTimeRRT: Created 86 states (30 start + 56 goal)\n",
      "\n",
      "Debug:   SpaceTimeRRT: Planner range detected to be inf\n",
      "Info:    SpaceTimeRRT: Starting planning with 1 states already in datastructure\n",
      "Info:    SpaceTimeRRT: Starting planning with time bound factor 2.00\n",
      "Planning for agent 7/24\n",
      "Info:    SpaceTimeRRT: Created 49 states (22 start + 27 goal)\n",
      "Debug:   SpaceTimeRRT: Planner range detected to be inf\n",
      "Info:    SpaceTimeRRT: Starting planning with 1 states already in datastructure\n",
      "Info:    SpaceTimeRRT: Starting planning with time bound factor 2.00\n",
      "Planning for agent 8/24\n",
      "Info:    SpaceTimeRRT: Created 40 states (18 start + 22 goal)\n",
      "Debug:   SpaceTimeRRT: Planner range detected to be inf\n",
      "Info:    SpaceTimeRRT: Starting planning with 1 states already in datastructure\n",
      "Info:    SpaceTimeRRT: Starting planning with time bound factor 2.00\n"
     ]
    },
    {
     "name": "stderr",
     "output_type": "stream",
     "text": [
      "Warning: State validity checker not set! No collision checking is performed\n",
      "         at line 63 in /Users/tianpengzhang/Desktop/ompl/src/ompl/base/src/SpaceInformation.cpp\n",
      "Warning: State validity checker not set! No collision checking is performed\n",
      "         at line 63 in /Users/tianpengzhang/Desktop/ompl/src/ompl/base/src/SpaceInformation.cpp\n",
      "Warning: State validity checker not set! No collision checking is performed\n",
      "         at line 63 in /Users/tianpengzhang/Desktop/ompl/src/ompl/base/src/SpaceInformation.cpp\n"
     ]
    },
    {
     "name": "stdout",
     "output_type": "stream",
     "text": [
      "Planning for agent 9/24Info:    SpaceTimeRRT: Created 154 states (78 start + 76 goal)\n",
      "\n",
      "Debug:   SpaceTimeRRT: Planner range detected to be inf\n",
      "Info:    SpaceTimeRRT: Starting planning with 1 states already in datastructure\n",
      "Info:    SpaceTimeRRT: Starting planning with time bound factor 2.00\n",
      "Planning for agent 10/24\n",
      "Info:    SpaceTimeRRT: Created 37 states (27 start + 10 goal)\n",
      "Debug:   SpaceTimeRRT: Planner range detected to be inf\n",
      "Info:    SpaceTimeRRT: Starting planning with 1 states already in datastructure\n",
      "Info:    SpaceTimeRRT: Starting planning with time bound factor 2.00\n",
      "Planning for agent 11/24\n"
     ]
    },
    {
     "name": "stderr",
     "output_type": "stream",
     "text": [
      "Warning: State validity checker not set! No collision checking is performed\n",
      "         at line 63 in /Users/tianpengzhang/Desktop/ompl/src/ompl/base/src/SpaceInformation.cpp\n",
      "Warning: State validity checker not set! No collision checking is performed\n",
      "         at line 63 in /Users/tianpengzhang/Desktop/ompl/src/ompl/base/src/SpaceInformation.cpp\n",
      "Warning: State validity checker not set! No collision checking is performed\n",
      "         at line 63 in /Users/tianpengzhang/Desktop/ompl/src/ompl/base/src/SpaceInformation.cpp\n"
     ]
    },
    {
     "name": "stdout",
     "output_type": "stream",
     "text": [
      "Info:    SpaceTimeRRT: Created 33 states (16 start + 17 goal)\n",
      "Debug:   SpaceTimeRRT: Planner range detected to be inf\n",
      "Info:    SpaceTimeRRT: Starting planning with 1 states already in datastructure\n",
      "Info:    SpaceTimeRRT: Starting planning with time bound factor 2.00\n",
      "Planning for agent 12/24\n",
      "Info:    SpaceTimeRRT: Created 61 states (30 start + 31 goal)\n",
      "Debug:   SpaceTimeRRT: Planner range detected to be inf\n",
      "Info:    SpaceTimeRRT: Starting planning with 1 states already in datastructure\n",
      "Info:    SpaceTimeRRT: Starting planning with time bound factor 2.00\n"
     ]
    },
    {
     "name": "stderr",
     "output_type": "stream",
     "text": [
      "Warning: State validity checker not set! No collision checking is performed\n",
      "         at line 63 in /Users/tianpengzhang/Desktop/ompl/src/ompl/base/src/SpaceInformation.cpp\n"
     ]
    },
    {
     "name": "stdout",
     "output_type": "stream",
     "text": [
      "Planning for agent 13/24Info:    SpaceTimeRRT: Created 392 states (169 start + 223 goal)\n",
      "\n",
      "Debug:   SpaceTimeRRT: Planner range detected to be inf\n",
      "Info:    SpaceTimeRRT: Starting planning with 1 states already in datastructure\n",
      "Info:    SpaceTimeRRT: Starting planning with time bound factor 2.00\n"
     ]
    },
    {
     "name": "stderr",
     "output_type": "stream",
     "text": [
      "Warning: State validity checker not set! No collision checking is performed\n",
      "         at line 63 in /Users/tianpengzhang/Desktop/ompl/src/ompl/base/src/SpaceInformation.cpp\n"
     ]
    },
    {
     "name": "stdout",
     "output_type": "stream",
     "text": [
      "Planning for agent 14/24Info:    SpaceTimeRRT: Created 223 states (92 start + 131 goal)\n",
      "\n",
      "Debug:   SpaceTimeRRT: Planner range detected to be inf\n",
      "Info:    SpaceTimeRRT: Starting planning with 1 states already in datastructure\n",
      "Info:    SpaceTimeRRT: Starting planning with time bound factor 2.00\n"
     ]
    },
    {
     "name": "stderr",
     "output_type": "stream",
     "text": [
      "Warning: State validity checker not set! No collision checking is performed\n",
      "         at line 63 in /Users/tianpengzhang/Desktop/ompl/src/ompl/base/src/SpaceInformation.cpp\n"
     ]
    },
    {
     "name": "stdout",
     "output_type": "stream",
     "text": [
      "Planning for agent 15/24Info:    SpaceTimeRRT: Created 504 states (222 start + 282 goal)\n",
      "\n",
      "Debug:   SpaceTimeRRT: Planner range detected to be inf\n",
      "Info:    SpaceTimeRRT: Starting planning with 1 states already in datastructure\n",
      "Info:    SpaceTimeRRT: Starting planning with time bound factor 2.00\n"
     ]
    },
    {
     "name": "stderr",
     "output_type": "stream",
     "text": [
      "Warning: State validity checker not set! No collision checking is performed\n",
      "         at line 63 in /Users/tianpengzhang/Desktop/ompl/src/ompl/base/src/SpaceInformation.cpp\n"
     ]
    },
    {
     "name": "stdout",
     "output_type": "stream",
     "text": [
      "Planning for agent 16/24Info:    SpaceTimeRRT: Created 493 states (226 start + 267 goal)\n",
      "\n",
      "Debug:   SpaceTimeRRT: Planner range detected to be inf\n",
      "Info:    SpaceTimeRRT: Starting planning with 1 states already in datastructure\n",
      "Info:    SpaceTimeRRT: Starting planning with time bound factor 2.00\n"
     ]
    },
    {
     "name": "stderr",
     "output_type": "stream",
     "text": [
      "Warning: State validity checker not set! No collision checking is performed\n",
      "         at line 63 in /Users/tianpengzhang/Desktop/ompl/src/ompl/base/src/SpaceInformation.cpp\n"
     ]
    },
    {
     "name": "stdout",
     "output_type": "stream",
     "text": [
      "Info:    SpaceTimeRRT: Increased time bound factor to 4.00\n",
      "Planning for agent 17/24Info:    SpaceTimeRRT: Created 588 states (243 start + 345 goal)\n",
      "\n",
      "Debug:   SpaceTimeRRT: Planner range detected to be inf\n",
      "Info:    SpaceTimeRRT: Starting planning with 1 states already in datastructure\n",
      "Info:    SpaceTimeRRT: Starting planning with time bound factor 2.00\n"
     ]
    },
    {
     "name": "stderr",
     "output_type": "stream",
     "text": [
      "Warning: State validity checker not set! No collision checking is performed\n",
      "         at line 63 in /Users/tianpengzhang/Desktop/ompl/src/ompl/base/src/SpaceInformation.cpp\n"
     ]
    },
    {
     "name": "stdout",
     "output_type": "stream",
     "text": [
      "Planning for agent 18/24Info:    SpaceTimeRRT: Created 306 states (115 start + 191 goal)\n",
      "\n",
      "Debug:   SpaceTimeRRT: Planner range detected to be inf\n",
      "Info:    SpaceTimeRRT: Starting planning with 1 states already in datastructure\n",
      "Info:    SpaceTimeRRT: Starting planning with time bound factor 2.00\n"
     ]
    },
    {
     "name": "stderr",
     "output_type": "stream",
     "text": [
      "Warning: State validity checker not set! No collision checking is performed\n",
      "         at line 63 in /Users/tianpengzhang/Desktop/ompl/src/ompl/base/src/SpaceInformation.cpp\n"
     ]
    },
    {
     "name": "stdout",
     "output_type": "stream",
     "text": [
      "Info:    SpaceTimeRRT: Increased time bound factor to 4.00\n",
      "Planning for agent 19/24Info:    SpaceTimeRRT: Created 763 states (319 start + 444 goal)\n",
      "\n",
      "Debug:   SpaceTimeRRT: Planner range detected to be inf\n",
      "Info:    SpaceTimeRRT: Starting planning with 1 states already in datastructure\n",
      "Info:    SpaceTimeRRT: Starting planning with time bound factor 2.00\n"
     ]
    },
    {
     "name": "stderr",
     "output_type": "stream",
     "text": [
      "Warning: State validity checker not set! No collision checking is performed\n",
      "         at line 63 in /Users/tianpengzhang/Desktop/ompl/src/ompl/base/src/SpaceInformation.cpp\n"
     ]
    },
    {
     "name": "stdout",
     "output_type": "stream",
     "text": [
      "Info:    SpaceTimeRRT: Increased time bound factor to 4.00\n",
      "Planning for agent 20/24\n",
      "Info:    SpaceTimeRRT: Created 532 states (229 start + 303 goal)\n",
      "Debug:   SpaceTimeRRT: Planner range detected to be inf\n",
      "Info:    SpaceTimeRRT: Starting planning with 1 states already in datastructure\n",
      "Info:    SpaceTimeRRT: Starting planning with time bound factor 2.00\n"
     ]
    },
    {
     "name": "stderr",
     "output_type": "stream",
     "text": [
      "Warning: State validity checker not set! No collision checking is performed\n",
      "         at line 63 in /Users/tianpengzhang/Desktop/ompl/src/ompl/base/src/SpaceInformation.cpp\n"
     ]
    },
    {
     "name": "stdout",
     "output_type": "stream",
     "text": [
      "Planning for agent 21/24Info:    SpaceTimeRRT: Created 150 states (54 start + 96 goal)\n",
      "\n",
      "Debug:   SpaceTimeRRT: Planner range detected to be inf\n",
      "Info:    SpaceTimeRRT: Starting planning with 1 states already in datastructure\n",
      "Info:    SpaceTimeRRT: Starting planning with time bound factor 2.00\n"
     ]
    },
    {
     "name": "stderr",
     "output_type": "stream",
     "text": [
      "Warning: State validity checker not set! No collision checking is performed\n",
      "         at line 63 in /Users/tianpengzhang/Desktop/ompl/src/ompl/base/src/SpaceInformation.cpp\n"
     ]
    },
    {
     "name": "stdout",
     "output_type": "stream",
     "text": [
      "Info:    SpaceTimeRRT: Increased time bound factor to 4.00\n",
      "Planning for agent 22/24\n",
      "Info:    SpaceTimeRRT: Created 515 states (219 start + 296 goal)\n",
      "Debug:   SpaceTimeRRT: Planner range detected to be inf\n",
      "Info:    SpaceTimeRRT: Starting planning with 1 states already in datastructure\n",
      "Info:    SpaceTimeRRT: Starting planning with time bound factor 2.00\n"
     ]
    },
    {
     "name": "stderr",
     "output_type": "stream",
     "text": [
      "Warning: State validity checker not set! No collision checking is performed\n",
      "         at line 63 in /Users/tianpengzhang/Desktop/ompl/src/ompl/base/src/SpaceInformation.cpp\n"
     ]
    },
    {
     "name": "stdout",
     "output_type": "stream",
     "text": [
      "Info:    SpaceTimeRRT: Increased time bound factor to 4.00\n",
      "Planning for agent 23/24Info:    SpaceTimeRRT: Created 629 states (270 start + 359 goal)\n",
      "\n",
      "Debug:   SpaceTimeRRT: Planner range detected to be inf\n",
      "Info:    SpaceTimeRRT: Starting planning with 1 states already in datastructure\n",
      "Info:    SpaceTimeRRT: Starting planning with time bound factor 2.00\n"
     ]
    },
    {
     "name": "stderr",
     "output_type": "stream",
     "text": [
      "Warning: State validity checker not set! No collision checking is performed\n",
      "         at line 63 in /Users/tianpengzhang/Desktop/ompl/src/ompl/base/src/SpaceInformation.cpp\n"
     ]
    },
    {
     "name": "stdout",
     "output_type": "stream",
     "text": [
      "Info:    SpaceTimeRRT: Increased time bound factor to 4.00\n",
      "On time for algorithmInfo:    SpaceTimeRRT: Created 758 states (333 start + 425 goal)\n",
      " ST-RRT* N agent =  24\n",
      "Env: MultiTunnel Alg: Seq_Tube N agent: 25\n",
      "Planning for agent 0/25\n",
      "Planning for agent 1/25\n",
      "Planning for agent 2/25\n",
      "Planning for agent 3/25\n",
      "Planning for agent 4/25\n",
      "Planning for agent 5/25\n",
      "Planning for agent 6/25\n",
      "Planning for agent 7/25\n",
      "Planning for agent 8/25\n",
      "Planning for agent 9/25\n",
      "Planning for agent 10/25\n",
      "Planning for agent 11/25\n",
      "Planning for agent 12/25\n",
      "Planning for agent 13/25\n",
      "Planning for agent 14/25\n",
      "Planning for agent 15/25\n",
      "Planning for agent 16/25\n",
      "Planning for agent 17/25\n",
      "Planning for agent 18/25\n",
      "Planning for agent 19/25\n",
      "Planning for agent 20/25\n",
      "Planning for agent 21/25\n",
      "Planning for agent 22/25\n",
      "Planning for agent 23/25\n",
      "Planning for agent 24/25\n",
      "On time for algorithm Seq_Tube N agent =  25\n",
      "Env: MultiTunnel Alg: ST-RRT* N agent: 25\n",
      "Planning for agent 0/25\n",
      "Debug:   SpaceTimeRRT: Planner range detected to be inf\n",
      "Info:    SpaceTimeRRT: Starting planning with 1 states already in datastructure\n",
      "Info:    SpaceTimeRRT: Starting planning with time bound factor 2.00\n",
      "Planning for agent 1/25\n",
      "Info:    SpaceTimeRRT: Created 139 states (65 start + 74 goal)\n",
      "Debug:   SpaceTimeRRT: Planner range detected to be inf\n",
      "Info:    SpaceTimeRRT: Starting planning with 1 states already in datastructure\n",
      "Info:    SpaceTimeRRT: Starting planning with time bound factor 2.00\n",
      "Planning for agent 2/25\n"
     ]
    },
    {
     "name": "stderr",
     "output_type": "stream",
     "text": [
      "Warning: State validity checker not set! No collision checking is performed\n",
      "         at line 63 in /Users/tianpengzhang/Desktop/ompl/src/ompl/base/src/SpaceInformation.cpp\n",
      "Warning: State validity checker not set! No collision checking is performed\n",
      "         at line 63 in /Users/tianpengzhang/Desktop/ompl/src/ompl/base/src/SpaceInformation.cpp\n",
      "Warning: State validity checker not set! No collision checking is performed\n",
      "         at line 63 in /Users/tianpengzhang/Desktop/ompl/src/ompl/base/src/SpaceInformation.cpp\n"
     ]
    },
    {
     "name": "stdout",
     "output_type": "stream",
     "text": [
      "Info:    SpaceTimeRRT: Created 99 states (41 start + 58 goal)\n",
      "Debug:   SpaceTimeRRT: Planner range detected to be inf\n",
      "Info:    SpaceTimeRRT: Starting planning with 1 states already in datastructure\n",
      "Info:    SpaceTimeRRT: Starting planning with time bound factor 2.00\n",
      "Planning for agent 3/25\n",
      "Info:    SpaceTimeRRT: Created 74 states (42 start + 32 goal)\n",
      "Debug:   SpaceTimeRRT: Planner range detected to be inf\n",
      "Info:    SpaceTimeRRT: Starting planning with 1 states already in datastructure\n",
      "Info:    SpaceTimeRRT: Starting planning with time bound factor 2.00\n",
      "Planning for agent 4/25\n",
      "Info:    SpaceTimeRRT: Created 69 states (34 start + 35 goal)\n",
      "Debug:   SpaceTimeRRT: Planner range detected to be inf\n",
      "Info:    SpaceTimeRRT: Starting planning with 1 states already in datastructure\n",
      "Info:    SpaceTimeRRT: Starting planning with time bound factor 2.00\n"
     ]
    },
    {
     "name": "stderr",
     "output_type": "stream",
     "text": [
      "Warning: State validity checker not set! No collision checking is performed\n",
      "         at line 63 in /Users/tianpengzhang/Desktop/ompl/src/ompl/base/src/SpaceInformation.cpp\n",
      "Warning: State validity checker not set! No collision checking is performed\n",
      "         at line 63 in /Users/tianpengzhang/Desktop/ompl/src/ompl/base/src/SpaceInformation.cpp\n"
     ]
    },
    {
     "name": "stdout",
     "output_type": "stream",
     "text": [
      "Planning for agent 5/25Info:    SpaceTimeRRT: Created 39 states (17 start + 22 goal)\n",
      "\n",
      "Debug:   SpaceTimeRRT: Planner range detected to be inf\n",
      "Info:    SpaceTimeRRT: Starting planning with 1 states already in datastructure\n",
      "Info:    SpaceTimeRRT: Starting planning with time bound factor 2.00\n",
      "Planning for agent 6/25\n",
      "Info:    SpaceTimeRRT: Created 61 states (23 start + 38 goal)\n",
      "Debug:   SpaceTimeRRT: Planner range detected to be inf\n",
      "Info:    SpaceTimeRRT: Starting planning with 1 states already in datastructure\n",
      "Info:    SpaceTimeRRT: Starting planning with time bound factor 2.00\n"
     ]
    },
    {
     "name": "stderr",
     "output_type": "stream",
     "text": [
      "Warning: State validity checker not set! No collision checking is performed\n",
      "         at line 63 in /Users/tianpengzhang/Desktop/ompl/src/ompl/base/src/SpaceInformation.cpp\n",
      "Warning: State validity checker not set! No collision checking is performed\n",
      "         at line 63 in /Users/tianpengzhang/Desktop/ompl/src/ompl/base/src/SpaceInformation.cpp\n"
     ]
    },
    {
     "name": "stdout",
     "output_type": "stream",
     "text": [
      "Planning for agent 7/25Info:    SpaceTimeRRT: Created 50 states (18 start + 32 goal)\n",
      "\n",
      "Debug:   SpaceTimeRRT: Planner range detected to be inf\n",
      "Info:    SpaceTimeRRT: Starting planning with 1 states already in datastructure\n",
      "Info:    SpaceTimeRRT: Starting planning with time bound factor 2.00\n",
      "Planning for agent 8/25\n",
      "Info:    SpaceTimeRRT: Created 34 states (15 start + 19 goal)\n",
      "Debug:   SpaceTimeRRT: Planner range detected to be inf\n",
      "Info:    SpaceTimeRRT: Starting planning with 1 states already in datastructure\n",
      "Info:    SpaceTimeRRT: Starting planning with time bound factor 2.00\n"
     ]
    },
    {
     "name": "stderr",
     "output_type": "stream",
     "text": [
      "Warning: State validity checker not set! No collision checking is performed\n",
      "         at line 63 in /Users/tianpengzhang/Desktop/ompl/src/ompl/base/src/SpaceInformation.cpp\n",
      "Warning: State validity checker not set! No collision checking is performed\n",
      "         at line 63 in /Users/tianpengzhang/Desktop/ompl/src/ompl/base/src/SpaceInformation.cpp\n"
     ]
    },
    {
     "name": "stdout",
     "output_type": "stream",
     "text": [
      "Planning for agent 9/25Info:    SpaceTimeRRT: Created 125 states (51 start + 74 goal)\n",
      "\n",
      "Debug:   SpaceTimeRRT: Planner range detected to be inf\n",
      "Info:    SpaceTimeRRT: Starting planning with 1 states already in datastructure\n",
      "Info:    SpaceTimeRRT: Starting planning with time bound factor 2.00\n"
     ]
    },
    {
     "name": "stderr",
     "output_type": "stream",
     "text": [
      "Warning: State validity checker not set! No collision checking is performed\n",
      "         at line 63 in /Users/tianpengzhang/Desktop/ompl/src/ompl/base/src/SpaceInformation.cpp\n"
     ]
    },
    {
     "name": "stdout",
     "output_type": "stream",
     "text": [
      "Planning for agent 10/25Info:    SpaceTimeRRT: Created 96 states (40 start + 56 goal)\n",
      "\n",
      "Debug:   SpaceTimeRRT: Planner range detected to be inf\n",
      "Info:    SpaceTimeRRT: Starting planning with 1 states already in datastructure\n",
      "Info:    SpaceTimeRRT: Starting planning with time bound factor 2.00\n",
      "Planning for agent 11/25\n",
      "Info:    SpaceTimeRRT: Created 42 states (15 start + 27 goal)\n",
      "Debug:   SpaceTimeRRT: Planner range detected to be inf\n",
      "Info:    SpaceTimeRRT: Starting planning with 1 states already in datastructure\n",
      "Info:    SpaceTimeRRT: Starting planning with time bound factor 2.00\n"
     ]
    },
    {
     "name": "stderr",
     "output_type": "stream",
     "text": [
      "Warning: State validity checker not set! No collision checking is performed\n",
      "         at line 63 in /Users/tianpengzhang/Desktop/ompl/src/ompl/base/src/SpaceInformation.cpp\n",
      "Warning: State validity checker not set! No collision checking is performed\n",
      "         at line 63 in /Users/tianpengzhang/Desktop/ompl/src/ompl/base/src/SpaceInformation.cpp\n"
     ]
    },
    {
     "name": "stdout",
     "output_type": "stream",
     "text": [
      "Planning for agent 12/25Info:    SpaceTimeRRT: Created 133 states (58 start + 75 goal)\n",
      "\n",
      "Debug:   SpaceTimeRRT: Planner range detected to be inf\n",
      "Info:    SpaceTimeRRT: Starting planning with 1 states already in datastructure\n",
      "Info:    SpaceTimeRRT: Starting planning with time bound factor 2.00\n"
     ]
    },
    {
     "name": "stderr",
     "output_type": "stream",
     "text": [
      "Warning: State validity checker not set! No collision checking is performed\n",
      "         at line 63 in /Users/tianpengzhang/Desktop/ompl/src/ompl/base/src/SpaceInformation.cpp\n"
     ]
    },
    {
     "name": "stdout",
     "output_type": "stream",
     "text": [
      "Planning for agent 13/25Info:    SpaceTimeRRT: Created 103 states (44 start + 59 goal)\n",
      "\n",
      "Debug:   SpaceTimeRRT: Planner range detected to be inf\n",
      "Info:    SpaceTimeRRT: Starting planning with 1 states already in datastructure\n",
      "Info:    SpaceTimeRRT: Starting planning with time bound factor 2.00\n"
     ]
    },
    {
     "name": "stderr",
     "output_type": "stream",
     "text": [
      "Warning: State validity checker not set! No collision checking is performed\n",
      "         at line 63 in /Users/tianpengzhang/Desktop/ompl/src/ompl/base/src/SpaceInformation.cpp\n"
     ]
    },
    {
     "name": "stdout",
     "output_type": "stream",
     "text": [
      "Planning for agent 14/25Info:    SpaceTimeRRT: Created 156 states (72 start + 84 goal)\n",
      "\n",
      "Debug:   SpaceTimeRRT: Planner range detected to be inf\n",
      "Info:    SpaceTimeRRT: Starting planning with 1 states already in datastructure\n",
      "Info:    SpaceTimeRRT: Starting planning with time bound factor 2.00\n"
     ]
    },
    {
     "name": "stderr",
     "output_type": "stream",
     "text": [
      "Warning: State validity checker not set! No collision checking is performed\n",
      "         at line 63 in /Users/tianpengzhang/Desktop/ompl/src/ompl/base/src/SpaceInformation.cpp\n"
     ]
    },
    {
     "name": "stdout",
     "output_type": "stream",
     "text": [
      "Planning for agent 15/25Info:    SpaceTimeRRT: Created 139 states (59 start + 80 goal)\n",
      "\n",
      "Debug:   SpaceTimeRRT: Planner range detected to be inf\n",
      "Info:    SpaceTimeRRT: Starting planning with 1 states already in datastructure\n",
      "Info:    SpaceTimeRRT: Starting planning with time bound factor 2.00\n"
     ]
    },
    {
     "name": "stderr",
     "output_type": "stream",
     "text": [
      "Warning: State validity checker not set! No collision checking is performed\n",
      "         at line 63 in /Users/tianpengzhang/Desktop/ompl/src/ompl/base/src/SpaceInformation.cpp\n"
     ]
    },
    {
     "name": "stdout",
     "output_type": "stream",
     "text": [
      "Planning for agent 16/25Info:    SpaceTimeRRT: Created 362 states (148 start + 214 goal)\n",
      "\n",
      "Debug:   SpaceTimeRRT: Planner range detected to be inf\n",
      "Info:    SpaceTimeRRT: Starting planning with 1 states already in datastructure\n",
      "Info:    SpaceTimeRRT: Starting planning with time bound factor 2.00\n"
     ]
    },
    {
     "name": "stderr",
     "output_type": "stream",
     "text": [
      "Warning: State validity checker not set! No collision checking is performed\n",
      "         at line 63 in /Users/tianpengzhang/Desktop/ompl/src/ompl/base/src/SpaceInformation.cpp\n"
     ]
    },
    {
     "name": "stdout",
     "output_type": "stream",
     "text": [
      "Info:    SpaceTimeRRT: Increased time bound factor to 4.00\n",
      "Planning for agent 17/25Info:    SpaceTimeRRT: Created 569 states (270 start + 299 goal)\n",
      "\n",
      "Debug:   SpaceTimeRRT: Planner range detected to be inf\n",
      "Info:    SpaceTimeRRT: Starting planning with 1 states already in datastructure\n",
      "Info:    SpaceTimeRRT: Starting planning with time bound factor 2.00\n"
     ]
    },
    {
     "name": "stderr",
     "output_type": "stream",
     "text": [
      "Warning: State validity checker not set! No collision checking is performed\n",
      "         at line 63 in /Users/tianpengzhang/Desktop/ompl/src/ompl/base/src/SpaceInformation.cpp\n"
     ]
    },
    {
     "name": "stdout",
     "output_type": "stream",
     "text": [
      "Info:    SpaceTimeRRT: Increased time bound factor to 4.00\n",
      "Planning for agent 18/25Info:    SpaceTimeRRT: Created 544 states (242 start + 302 goal)\n",
      "\n",
      "Debug:   SpaceTimeRRT: Planner range detected to be inf\n",
      "Info:    SpaceTimeRRT: Starting planning with 1 states already in datastructure\n",
      "Info:    SpaceTimeRRT: Starting planning with time bound factor 2.00\n"
     ]
    },
    {
     "name": "stderr",
     "output_type": "stream",
     "text": [
      "Warning: State validity checker not set! No collision checking is performed\n",
      "         at line 63 in /Users/tianpengzhang/Desktop/ompl/src/ompl/base/src/SpaceInformation.cpp\n"
     ]
    },
    {
     "name": "stdout",
     "output_type": "stream",
     "text": [
      "Info:    SpaceTimeRRT: Increased time bound factor to 4.00\n",
      "Planning for agent 19/25Info:    SpaceTimeRRT: Created 647 states (291 start + 356 goal)\n",
      "\n",
      "Debug:   SpaceTimeRRT: Planner range detected to be inf\n",
      "Info:    SpaceTimeRRT: Starting planning with 1 states already in datastructure\n",
      "Info:    SpaceTimeRRT: Starting planning with time bound factor 2.00\n"
     ]
    },
    {
     "name": "stderr",
     "output_type": "stream",
     "text": [
      "Warning: State validity checker not set! No collision checking is performed\n",
      "         at line 63 in /Users/tianpengzhang/Desktop/ompl/src/ompl/base/src/SpaceInformation.cpp\n"
     ]
    },
    {
     "name": "stdout",
     "output_type": "stream",
     "text": [
      "Planning for agent 20/25Info:    SpaceTimeRRT: Created 505 states (190 start + 315 goal)\n",
      "\n",
      "Debug:   SpaceTimeRRT: Planner range detected to be inf\n",
      "Info:    SpaceTimeRRT: Starting planning with 1 states already in datastructure\n",
      "Info:    SpaceTimeRRT: Starting planning with time bound factor 2.00\n"
     ]
    },
    {
     "name": "stderr",
     "output_type": "stream",
     "text": [
      "Warning: State validity checker not set! No collision checking is performed\n",
      "         at line 63 in /Users/tianpengzhang/Desktop/ompl/src/ompl/base/src/SpaceInformation.cpp\n"
     ]
    },
    {
     "name": "stdout",
     "output_type": "stream",
     "text": [
      "Info:    SpaceTimeRRT: Increased time bound factor to 4.00\n",
      "Planning for agent 21/25Info:    SpaceTimeRRT: Created 582 states (305 start + 277 goal)\n",
      "\n",
      "Debug:   SpaceTimeRRT: Planner range detected to be inf\n",
      "Info:    SpaceTimeRRT: Starting planning with 1 states already in datastructure\n",
      "Info:    SpaceTimeRRT: Starting planning with time bound factor 2.00\n"
     ]
    },
    {
     "name": "stderr",
     "output_type": "stream",
     "text": [
      "Warning: State validity checker not set! No collision checking is performed\n",
      "         at line 63 in /Users/tianpengzhang/Desktop/ompl/src/ompl/base/src/SpaceInformation.cpp\n"
     ]
    },
    {
     "name": "stdout",
     "output_type": "stream",
     "text": [
      "Info:    SpaceTimeRRT: Increased time bound factor to 4.00\n",
      "Planning for agent 22/25Info:    SpaceTimeRRT: Created 528 states (268 start + 260 goal)\n",
      "\n",
      "Debug:   SpaceTimeRRT: Planner range detected to be inf\n",
      "Info:    SpaceTimeRRT: Starting planning with 1 states already in datastructure\n",
      "Info:    SpaceTimeRRT: Starting planning with time bound factor 2.00\n",
      "Planning for agent 23/25\n",
      "Info:    SpaceTimeRRT: Created 23 states (16 start + 7 goal)\n",
      "Debug:   SpaceTimeRRT: Planner range detected to be inf\n",
      "Info:    SpaceTimeRRT: Starting planning with 1 states already in datastructure\n",
      "Info:    SpaceTimeRRT: Starting planning with time bound factor 2.00\n"
     ]
    },
    {
     "name": "stderr",
     "output_type": "stream",
     "text": [
      "Warning: State validity checker not set! No collision checking is performed\n",
      "         at line 63 in /Users/tianpengzhang/Desktop/ompl/src/ompl/base/src/SpaceInformation.cpp\n",
      "Warning: State validity checker not set! No collision checking is performed\n",
      "         at line 63 in /Users/tianpengzhang/Desktop/ompl/src/ompl/base/src/SpaceInformation.cpp\n"
     ]
    },
    {
     "name": "stdout",
     "output_type": "stream",
     "text": [
      "Planning for agent 24/25Info:    SpaceTimeRRT: Created 68 states (30 start + 38 goal)\n",
      "\n",
      "Debug:   SpaceTimeRRT: Planner range detected to be inf\n",
      "Info:    SpaceTimeRRT: Starting planning with 1 states already in datastructure\n",
      "Info:    SpaceTimeRRT: Starting planning with time bound factor 2.00\n"
     ]
    },
    {
     "name": "stderr",
     "output_type": "stream",
     "text": [
      "Warning: State validity checker not set! No collision checking is performed\n",
      "         at line 63 in /Users/tianpengzhang/Desktop/ompl/src/ompl/base/src/SpaceInformation.cpp\n"
     ]
    },
    {
     "name": "stdout",
     "output_type": "stream",
     "text": [
      "On time for algorithmInfo:    SpaceTimeRRT: Created 211 states (121 start + 90 goal)\n",
      " ST-RRT* N agent =  25\n",
      "Env: MultiTunnel Alg: Seq_Tube N agent: 26\n",
      "Planning for agent 0/26\n",
      "Planning for agent 1/26\n",
      "Planning for agent 2/26\n",
      "Planning for agent 3/26\n",
      "Planning for agent 4/26\n",
      "Planning for agent 5/26\n",
      "Planning for agent 6/26\n",
      "Planning for agent 7/26\n",
      "Planning for agent 8/26\n",
      "Planning for agent 9/26\n",
      "Planning for agent 10/26\n",
      "Planning for agent 11/26\n",
      "Planning for agent 12/26\n",
      "Planning for agent 13/26\n",
      "Planning for agent 14/26\n",
      "Planning for agent 15/26\n",
      "Planning for agent 16/26\n",
      "Planning for agent 17/26\n",
      "Planning for agent 18/26\n",
      "Planning for agent 19/26\n",
      "Planning for agent 20/26\n",
      "Planning for agent 21/26\n",
      "Planning for agent 22/26\n",
      "Planning for agent 23/26\n",
      "Planning for agent 24/26\n",
      "Planning for agent 25/26\n",
      "On time for algorithm Seq_Tube N agent =  26\n",
      "Env: MultiTunnel Alg: ST-RRT* N agent: 26\n",
      "Planning for agent 0/26\n",
      "Debug:   SpaceTimeRRT: Planner range detected to be inf\n",
      "Info:    SpaceTimeRRT: Starting planning with 1 states already in datastructure\n",
      "Info:    SpaceTimeRRT: Starting planning with time bound factor 2.00\n",
      "Planning for agent 1/26\n",
      "Info:    SpaceTimeRRT: Created 117 states (54 start + 63 goal)\n",
      "Debug:   SpaceTimeRRT: Planner range detected to be inf\n",
      "Info:    SpaceTimeRRT: Starting planning with 1 states already in datastructure\n",
      "Info:    SpaceTimeRRT: Starting planning with time bound factor 2.00\n"
     ]
    },
    {
     "name": "stderr",
     "output_type": "stream",
     "text": [
      "Warning: State validity checker not set! No collision checking is performed\n",
      "         at line 63 in /Users/tianpengzhang/Desktop/ompl/src/ompl/base/src/SpaceInformation.cpp\n",
      "Warning: State validity checker not set! No collision checking is performed\n",
      "         at line 63 in /Users/tianpengzhang/Desktop/ompl/src/ompl/base/src/SpaceInformation.cpp\n"
     ]
    },
    {
     "name": "stdout",
     "output_type": "stream",
     "text": [
      "Planning for agent 2/26Info:    SpaceTimeRRT: Created 104 states (38 start + 66 goal)\n",
      "\n",
      "Debug:   SpaceTimeRRT: Planner range detected to be inf\n",
      "Info:    SpaceTimeRRT: Starting planning with 1 states already in datastructure\n",
      "Info:    SpaceTimeRRT: Starting planning with time bound factor 2.00\n",
      "Planning for agent 3/26\n",
      "Info:    SpaceTimeRRT: Created 74 states (38 start + 36 goal)\n",
      "Debug:   SpaceTimeRRT: Planner range detected to be inf\n",
      "Info:    SpaceTimeRRT: Starting planning with 1 states already in datastructure\n",
      "Info:    SpaceTimeRRT: Starting planning with time bound factor 2.00\n"
     ]
    },
    {
     "name": "stderr",
     "output_type": "stream",
     "text": [
      "Warning: State validity checker not set! No collision checking is performed\n",
      "         at line 63 in /Users/tianpengzhang/Desktop/ompl/src/ompl/base/src/SpaceInformation.cpp\n",
      "Warning: State validity checker not set! No collision checking is performed\n",
      "         at line 63 in /Users/tianpengzhang/Desktop/ompl/src/ompl/base/src/SpaceInformation.cpp\n"
     ]
    },
    {
     "name": "stdout",
     "output_type": "stream",
     "text": [
      "Planning for agent 4/26Info:    SpaceTimeRRT: Created 64 states (34 start + 30 goal)\n",
      "\n",
      "Debug:   SpaceTimeRRT: Planner range detected to be inf\n",
      "Info:    SpaceTimeRRT: Starting planning with 1 states already in datastructure\n",
      "Info:    SpaceTimeRRT: Starting planning with time bound factor 2.00\n",
      "Planning for agent 5/26\n",
      "Info:    SpaceTimeRRT: Created 64 states (33 start + 31 goal)\n",
      "Debug:   SpaceTimeRRT: Planner range detected to be inf\n",
      "Info:    SpaceTimeRRT: Starting planning with 1 states already in datastructure\n",
      "Info:    SpaceTimeRRT: Starting planning with time bound factor 2.00\n"
     ]
    },
    {
     "name": "stderr",
     "output_type": "stream",
     "text": [
      "Warning: State validity checker not set! No collision checking is performed\n",
      "         at line 63 in /Users/tianpengzhang/Desktop/ompl/src/ompl/base/src/SpaceInformation.cpp\n",
      "Warning: State validity checker not set! No collision checking is performed\n",
      "         at line 63 in /Users/tianpengzhang/Desktop/ompl/src/ompl/base/src/SpaceInformation.cpp\n"
     ]
    },
    {
     "name": "stdout",
     "output_type": "stream",
     "text": [
      "Planning for agent 6/26Info:    SpaceTimeRRT: Created 48 states (17 start + 31 goal)\n",
      "\n",
      "Debug:   SpaceTimeRRT: Planner range detected to be inf\n",
      "Info:    SpaceTimeRRT: Starting planning with 1 states already in datastructure\n",
      "Info:    SpaceTimeRRT: Starting planning with time bound factor 2.00\n"
     ]
    },
    {
     "name": "stderr",
     "output_type": "stream",
     "text": [
      "Warning: State validity checker not set! No collision checking is performed\n",
      "         at line 63 in /Users/tianpengzhang/Desktop/ompl/src/ompl/base/src/SpaceInformation.cpp\n"
     ]
    },
    {
     "name": "stdout",
     "output_type": "stream",
     "text": [
      "Planning for agent 7/26Info:    SpaceTimeRRT: Created 92 states (41 start + 51 goal)\n",
      "\n",
      "Debug:   SpaceTimeRRT: Planner range detected to be inf\n",
      "Info:    SpaceTimeRRT: Starting planning with 1 states already in datastructure\n",
      "Info:    SpaceTimeRRT: Starting planning with time bound factor 2.00\n",
      "Planning for agent 8/26\n",
      "Info:    SpaceTimeRRT: Created 35 states (13 start + 22 goal)\n",
      "Debug:   SpaceTimeRRT: Planner range detected to be inf\n",
      "Info:    SpaceTimeRRT: Starting planning with 1 states already in datastructure\n",
      "Info:    SpaceTimeRRT: Starting planning with time bound factor 2.00\n"
     ]
    },
    {
     "name": "stderr",
     "output_type": "stream",
     "text": [
      "Warning: State validity checker not set! No collision checking is performed\n",
      "         at line 63 in /Users/tianpengzhang/Desktop/ompl/src/ompl/base/src/SpaceInformation.cpp\n",
      "Warning: State validity checker not set! No collision checking is performed\n",
      "         at line 63 in /Users/tianpengzhang/Desktop/ompl/src/ompl/base/src/SpaceInformation.cpp\n"
     ]
    },
    {
     "name": "stdout",
     "output_type": "stream",
     "text": [
      "Planning for agent 9/26Info:    SpaceTimeRRT: Created 38 states (10 start + 28 goal)\n",
      "\n",
      "Debug:   SpaceTimeRRT: Planner range detected to be inf\n",
      "Info:    SpaceTimeRRT: Starting planning with 1 states already in datastructure\n",
      "Info:    SpaceTimeRRT: Starting planning with time bound factor 2.00\n"
     ]
    },
    {
     "name": "stderr",
     "output_type": "stream",
     "text": [
      "Warning: State validity checker not set! No collision checking is performed\n",
      "         at line 63 in /Users/tianpengzhang/Desktop/ompl/src/ompl/base/src/SpaceInformation.cpp\n"
     ]
    },
    {
     "name": "stdout",
     "output_type": "stream",
     "text": [
      "Planning for agent 10/26Info:    SpaceTimeRRT: Created 198 states (91 start + 107 goal)\n",
      "\n",
      "Debug:   SpaceTimeRRT: Planner range detected to be inf\n",
      "Info:    SpaceTimeRRT: Starting planning with 1 states already in datastructure\n",
      "Info:    SpaceTimeRRT: Starting planning with time bound factor 2.00\n",
      "Planning for agent 11/26\n",
      "Info:    SpaceTimeRRT: Created 37 states (11 start + 26 goal)\n",
      "Debug:   SpaceTimeRRT: Planner range detected to be inf\n",
      "Info:    SpaceTimeRRT: Starting planning with 1 states already in datastructure\n",
      "Info:    SpaceTimeRRT: Starting planning with time bound factor 2.00\n",
      "Planning for agent 12/26\n",
      "Info:    SpaceTimeRRT: Created 31 states (7 start + 24 goal)\n",
      "Debug:   SpaceTimeRRT: Planner range detected to be inf\n",
      "Info:    SpaceTimeRRT: Starting planning with 1 states already in datastructure\n",
      "Info:    SpaceTimeRRT: Starting planning with time bound factor 2.00\n"
     ]
    },
    {
     "name": "stderr",
     "output_type": "stream",
     "text": [
      "Warning: State validity checker not set! No collision checking is performed\n",
      "         at line 63 in /Users/tianpengzhang/Desktop/ompl/src/ompl/base/src/SpaceInformation.cpp\n",
      "Warning: State validity checker not set! No collision checking is performed\n",
      "         at line 63 in /Users/tianpengzhang/Desktop/ompl/src/ompl/base/src/SpaceInformation.cpp\n",
      "Warning: State validity checker not set! No collision checking is performed\n",
      "         at line 63 in /Users/tianpengzhang/Desktop/ompl/src/ompl/base/src/SpaceInformation.cpp\n"
     ]
    },
    {
     "name": "stdout",
     "output_type": "stream",
     "text": [
      "Planning for agent 13/26Info:    SpaceTimeRRT: Created 76 states (22 start + 54 goal)\n",
      "\n",
      "Debug:   SpaceTimeRRT: Planner range detected to be inf\n",
      "Info:    SpaceTimeRRT: Starting planning with 1 states already in datastructure\n",
      "Info:    SpaceTimeRRT: Starting planning with time bound factor 2.00\n"
     ]
    },
    {
     "name": "stderr",
     "output_type": "stream",
     "text": [
      "Warning: State validity checker not set! No collision checking is performed\n",
      "         at line 63 in /Users/tianpengzhang/Desktop/ompl/src/ompl/base/src/SpaceInformation.cpp\n"
     ]
    },
    {
     "name": "stdout",
     "output_type": "stream",
     "text": [
      "Planning for agent 14/26Info:    SpaceTimeRRT: Created 296 states (121 start + 175 goal)\n",
      "\n",
      "Debug:   SpaceTimeRRT: Planner range detected to be inf\n",
      "Info:    SpaceTimeRRT: Starting planning with 1 states already in datastructure\n",
      "Info:    SpaceTimeRRT: Starting planning with time bound factor 2.00\n"
     ]
    },
    {
     "name": "stderr",
     "output_type": "stream",
     "text": [
      "Warning: State validity checker not set! No collision checking is performed\n",
      "         at line 63 in /Users/tianpengzhang/Desktop/ompl/src/ompl/base/src/SpaceInformation.cpp\n"
     ]
    },
    {
     "name": "stdout",
     "output_type": "stream",
     "text": [
      "Info:    SpaceTimeRRT: Increased time bound factor to 4.00\n",
      "Planning for agent 15/26\n",
      "Info:    SpaceTimeRRT: Created 532 states (231 start + 301 goal)\n",
      "Debug:   SpaceTimeRRT: Planner range detected to be inf\n",
      "Info:    SpaceTimeRRT: Starting planning with 1 states already in datastructure\n",
      "Info:    SpaceTimeRRT: Starting planning with time bound factor 2.00\n"
     ]
    },
    {
     "name": "stderr",
     "output_type": "stream",
     "text": [
      "Warning: State validity checker not set! No collision checking is performed\n",
      "         at line 63 in /Users/tianpengzhang/Desktop/ompl/src/ompl/base/src/SpaceInformation.cpp\n"
     ]
    },
    {
     "name": "stdout",
     "output_type": "stream",
     "text": [
      "Planning for agent 16/26Info:    SpaceTimeRRT: Created 159 states (68 start + 91 goal)\n",
      "\n",
      "Debug:   SpaceTimeRRT: Planner range detected to be inf\n",
      "Info:    SpaceTimeRRT: Starting planning with 1 states already in datastructure\n",
      "Info:    SpaceTimeRRT: Starting planning with time bound factor 2.00\n"
     ]
    },
    {
     "name": "stderr",
     "output_type": "stream",
     "text": [
      "Warning: State validity checker not set! No collision checking is performed\n",
      "         at line 63 in /Users/tianpengzhang/Desktop/ompl/src/ompl/base/src/SpaceInformation.cpp\n"
     ]
    },
    {
     "name": "stdout",
     "output_type": "stream",
     "text": [
      "Planning for agent 17/26Info:    SpaceTimeRRT: Created 167 states (79 start + 88 goal)\n",
      "\n",
      "Debug:   SpaceTimeRRT: Planner range detected to be inf\n",
      "Info:    SpaceTimeRRT: Starting planning with 1 states already in datastructure\n",
      "Info:    SpaceTimeRRT: Starting planning with time bound factor 2.00\n"
     ]
    },
    {
     "name": "stderr",
     "output_type": "stream",
     "text": [
      "Warning: State validity checker not set! No collision checking is performed\n",
      "         at line 63 in /Users/tianpengzhang/Desktop/ompl/src/ompl/base/src/SpaceInformation.cpp\n"
     ]
    },
    {
     "name": "stdout",
     "output_type": "stream",
     "text": [
      "Planning for agent 18/26Info:    SpaceTimeRRT: Created 298 states (114 start + 184 goal)\n",
      "\n",
      "Debug:   SpaceTimeRRT: Planner range detected to be inf\n",
      "Info:    SpaceTimeRRT: Starting planning with 1 states already in datastructure\n",
      "Info:    SpaceTimeRRT: Starting planning with time bound factor 2.00\n"
     ]
    },
    {
     "name": "stderr",
     "output_type": "stream",
     "text": [
      "Warning: State validity checker not set! No collision checking is performed\n",
      "         at line 63 in /Users/tianpengzhang/Desktop/ompl/src/ompl/base/src/SpaceInformation.cpp\n"
     ]
    },
    {
     "name": "stdout",
     "output_type": "stream",
     "text": [
      "Planning for agent 19/26Info:    SpaceTimeRRT: Created 137 states (71 start + 66 goal)\n",
      "\n",
      "Debug:   SpaceTimeRRT: Planner range detected to be inf\n",
      "Info:    SpaceTimeRRT: Starting planning with 1 states already in datastructure\n",
      "Info:    SpaceTimeRRT: Starting planning with time bound factor 2.00\n"
     ]
    },
    {
     "name": "stderr",
     "output_type": "stream",
     "text": [
      "Warning: State validity checker not set! No collision checking is performed\n",
      "         at line 63 in /Users/tianpengzhang/Desktop/ompl/src/ompl/base/src/SpaceInformation.cpp\n"
     ]
    },
    {
     "name": "stdout",
     "output_type": "stream",
     "text": [
      "Planning for agent 20/26Info:    SpaceTimeRRT: Created 328 states (210 start + 118 goal)\n",
      "\n",
      "Debug:   SpaceTimeRRT: Planner range detected to be inf\n",
      "Info:    SpaceTimeRRT: Starting planning with 1 states already in datastructure\n",
      "Info:    SpaceTimeRRT: Starting planning with time bound factor 2.00\n"
     ]
    },
    {
     "name": "stderr",
     "output_type": "stream",
     "text": [
      "Warning: State validity checker not set! No collision checking is performed\n",
      "         at line 63 in /Users/tianpengzhang/Desktop/ompl/src/ompl/base/src/SpaceInformation.cpp\n"
     ]
    },
    {
     "name": "stdout",
     "output_type": "stream",
     "text": [
      "Planning for agent 21/26Info:    SpaceTimeRRT: Created 93 states (78 start + 15 goal)\n",
      "\n",
      "Debug:   SpaceTimeRRT: Planner range detected to be inf\n",
      "Info:    SpaceTimeRRT: Starting planning with 1 states already in datastructure\n",
      "Info:    SpaceTimeRRT: Starting planning with time bound factor 2.00\n"
     ]
    },
    {
     "name": "stderr",
     "output_type": "stream",
     "text": [
      "Warning: State validity checker not set! No collision checking is performed\n",
      "         at line 63 in /Users/tianpengzhang/Desktop/ompl/src/ompl/base/src/SpaceInformation.cpp\n"
     ]
    },
    {
     "name": "stdout",
     "output_type": "stream",
     "text": [
      "Planning for agent 22/26Info:    SpaceTimeRRT: Created 124 states (74 start + 50 goal)\n",
      "\n",
      "Debug:   SpaceTimeRRT: Planner range detected to be inf\n",
      "Info:    SpaceTimeRRT: Starting planning with 1 states already in datastructure\n",
      "Info:    SpaceTimeRRT: Starting planning with time bound factor 2.00\n"
     ]
    },
    {
     "name": "stderr",
     "output_type": "stream",
     "text": [
      "Warning: State validity checker not set! No collision checking is performed\n",
      "         at line 63 in /Users/tianpengzhang/Desktop/ompl/src/ompl/base/src/SpaceInformation.cpp\n"
     ]
    },
    {
     "name": "stdout",
     "output_type": "stream",
     "text": [
      "Planning for agent 23/26Info:    SpaceTimeRRT: Created 384 states (168 start + 216 goal)\n",
      "\n",
      "Debug:   SpaceTimeRRT: Planner range detected to be inf\n",
      "Info:    SpaceTimeRRT: Starting planning with 1 states already in datastructure\n",
      "Info:    SpaceTimeRRT: Starting planning with time bound factor 2.00\n"
     ]
    },
    {
     "name": "stderr",
     "output_type": "stream",
     "text": [
      "Warning: State validity checker not set! No collision checking is performed\n",
      "         at line 63 in /Users/tianpengzhang/Desktop/ompl/src/ompl/base/src/SpaceInformation.cpp\n"
     ]
    },
    {
     "name": "stdout",
     "output_type": "stream",
     "text": [
      "Planning for agent 24/26Info:    SpaceTimeRRT: Created 263 states (127 start + 136 goal)\n",
      "\n",
      "Debug:   SpaceTimeRRT: Planner range detected to be inf\n",
      "Info:    SpaceTimeRRT: Starting planning with 1 states already in datastructure\n",
      "Info:    SpaceTimeRRT: Starting planning with time bound factor 2.00\n"
     ]
    },
    {
     "name": "stderr",
     "output_type": "stream",
     "text": [
      "Warning: State validity checker not set! No collision checking is performed\n",
      "         at line 63 in /Users/tianpengzhang/Desktop/ompl/src/ompl/base/src/SpaceInformation.cpp\n"
     ]
    },
    {
     "name": "stdout",
     "output_type": "stream",
     "text": [
      "Info:    SpaceTimeRRT: Increased time bound factor to 4.00\n",
      "Planning for agent 25/26Info:    SpaceTimeRRT: Created 600 states (262 start + 338 goal)\n",
      "\n",
      "Debug:   SpaceTimeRRT: Planner range detected to be inf\n",
      "Info:    SpaceTimeRRT: Starting planning with 1 states already in datastructure\n",
      "Info:    SpaceTimeRRT: Starting planning with time bound factor 2.00\n"
     ]
    },
    {
     "name": "stderr",
     "output_type": "stream",
     "text": [
      "Warning: State validity checker not set! No collision checking is performed\n",
      "         at line 63 in /Users/tianpengzhang/Desktop/ompl/src/ompl/base/src/SpaceInformation.cpp\n"
     ]
    },
    {
     "name": "stdout",
     "output_type": "stream",
     "text": [
      "Info:    SpaceTimeRRT: Increased time bound factor to 4.00\n",
      "On time for algorithmInfo:    SpaceTimeRRT: Created 567 states (259 start + 308 goal)\n",
      " ST-RRT* N agent =  26\n",
      "Env: MultiTunnel Alg: Seq_Tube N agent: 27\n",
      "Planning for agent 0/27\n",
      "Planning for agent 1/27\n",
      "Planning for agent 2/27\n",
      "Planning for agent 3/27\n",
      "Planning for agent 4/27\n",
      "Planning for agent 5/27\n",
      "Planning for agent 6/27\n",
      "Planning for agent 7/27\n",
      "Planning for agent 8/27\n",
      "Planning for agent 9/27\n",
      "Planning for agent 10/27\n",
      "Planning for agent 11/27\n",
      "Planning for agent 12/27\n",
      "Planning for agent 13/27\n",
      "Planning for agent 14/27\n",
      "Planning for agent 15/27\n",
      "Planning for agent 16/27\n",
      "Planning for agent 17/27\n",
      "Planning for agent 18/27\n",
      "Planning for agent 19/27\n",
      "Planning for agent 20/27\n",
      "Planning for agent 21/27\n",
      "Planning for agent 22/27\n",
      "Planning for agent 23/27\n",
      "Planning for agent 24/27\n",
      "Planning for agent 25/27\n",
      "Planning for agent 26/27\n",
      "Algorithm timeout\n",
      "Time out for algorithm Seq_Tube N agent =  27\n",
      "Env: MultiTunnel Alg: ST-RRT* N agent: 27\n",
      "Planning for agent 0/27\n",
      "Debug:   SpaceTimeRRT: Planner range detected to be inf\n",
      "Info:    SpaceTimeRRT: Starting planning with 1 states already in datastructure\n",
      "Info:    SpaceTimeRRT: Starting planning with time bound factor 2.00\n",
      "Planning for agent 1/27\n",
      "Info:    SpaceTimeRRT: Created 82 states (41 start + 41 goal)\n",
      "Debug:   SpaceTimeRRT: Planner range detected to be inf\n",
      "Info:    SpaceTimeRRT: Starting planning with 1 states already in datastructure\n",
      "Info:    SpaceTimeRRT: Starting planning with time bound factor 2.00\n"
     ]
    },
    {
     "name": "stderr",
     "output_type": "stream",
     "text": [
      "Warning: State validity checker not set! No collision checking is performed\n",
      "         at line 63 in /Users/tianpengzhang/Desktop/ompl/src/ompl/base/src/SpaceInformation.cpp\n",
      "Warning: State validity checker not set! No collision checking is performed\n",
      "         at line 63 in /Users/tianpengzhang/Desktop/ompl/src/ompl/base/src/SpaceInformation.cpp\n"
     ]
    },
    {
     "name": "stdout",
     "output_type": "stream",
     "text": [
      "Planning for agent 2/27Info:    SpaceTimeRRT: Increased time bound factor to 4.00\n",
      "Info:    SpaceTimeRRT: Created 516 states (512 start + 4 goal)\n",
      "\n",
      "Debug:   SpaceTimeRRT: Planner range detected to be inf\n",
      "Info:    SpaceTimeRRT: Starting planning with 1 states already in datastructure\n",
      "Info:    SpaceTimeRRT: Starting planning with time bound factor 2.00\n",
      "Planning for agent 3/27\n",
      "Info:    SpaceTimeRRT: Created 94 states (39 start + 55 goal)\n",
      "Debug:   SpaceTimeRRT: Planner range detected to be inf\n",
      "Info:    SpaceTimeRRT: Starting planning with 1 states already in datastructure\n",
      "Info:    SpaceTimeRRT: Starting planning with time bound factor 2.00\n",
      "Planning for agent 4/27\n"
     ]
    },
    {
     "name": "stderr",
     "output_type": "stream",
     "text": [
      "Warning: State validity checker not set! No collision checking is performed\n",
      "         at line 63 in /Users/tianpengzhang/Desktop/ompl/src/ompl/base/src/SpaceInformation.cpp\n",
      "Warning: State validity checker not set! No collision checking is performed\n",
      "         at line 63 in /Users/tianpengzhang/Desktop/ompl/src/ompl/base/src/SpaceInformation.cpp\n"
     ]
    },
    {
     "name": "stdout",
     "output_type": "stream",
     "text": [
      "Info:    SpaceTimeRRT: Created 40 states (15 start + 25 goal)\n",
      "Debug:   SpaceTimeRRT: Planner range detected to be inf\n",
      "Info:    SpaceTimeRRT: Starting planning with 1 states already in datastructure\n",
      "Info:    SpaceTimeRRT: Starting planning with time bound factor 2.00\n",
      "Planning for agent 5/27\n",
      "Info:    SpaceTimeRRT: Created 61 states (35 start + 26 goal)\n",
      "Debug:   SpaceTimeRRT: Planner range detected to be inf\n",
      "Info:    SpaceTimeRRT: Starting planning with 1 states already in datastructure\n",
      "Info:    SpaceTimeRRT: Starting planning with time bound factor 2.00\n"
     ]
    },
    {
     "name": "stderr",
     "output_type": "stream",
     "text": [
      "Warning: State validity checker not set! No collision checking is performed\n",
      "         at line 63 in /Users/tianpengzhang/Desktop/ompl/src/ompl/base/src/SpaceInformation.cpp\n",
      "Warning: State validity checker not set! No collision checking is performed\n",
      "         at line 63 in /Users/tianpengzhang/Desktop/ompl/src/ompl/base/src/SpaceInformation.cpp\n"
     ]
    },
    {
     "name": "stdout",
     "output_type": "stream",
     "text": [
      "Planning for agent 6/27Info:    SpaceTimeRRT: Created 98 states (46 start + 52 goal)\n",
      "\n",
      "Debug:   SpaceTimeRRT: Planner range detected to be inf\n",
      "Info:    SpaceTimeRRT: Starting planning with 1 states already in datastructure\n",
      "Info:    SpaceTimeRRT: Starting planning with time bound factor 2.00\n"
     ]
    },
    {
     "name": "stderr",
     "output_type": "stream",
     "text": [
      "Warning: State validity checker not set! No collision checking is performed\n",
      "         at line 63 in /Users/tianpengzhang/Desktop/ompl/src/ompl/base/src/SpaceInformation.cpp\n"
     ]
    },
    {
     "name": "stdout",
     "output_type": "stream",
     "text": [
      "Planning for agent 7/27Info:    SpaceTimeRRT: Created 102 states (52 start + 50 goal)\n",
      "\n",
      "Debug:   SpaceTimeRRT: Planner range detected to be inf\n",
      "Info:    SpaceTimeRRT: Starting planning with 1 states already in datastructure\n",
      "Info:    SpaceTimeRRT: Starting planning with time bound factor 2.00\n",
      "Planning for agent 8/27\n",
      "Info:    SpaceTimeRRT: Created 40 states (23 start + 17 goal)\n",
      "Debug:   SpaceTimeRRT: Planner range detected to be inf\n",
      "Info:    SpaceTimeRRT: Starting planning with 1 states already in datastructure\n",
      "Info:    SpaceTimeRRT: Starting planning with time bound factor 2.00\n"
     ]
    },
    {
     "name": "stderr",
     "output_type": "stream",
     "text": [
      "Warning: State validity checker not set! No collision checking is performed\n",
      "         at line 63 in /Users/tianpengzhang/Desktop/ompl/src/ompl/base/src/SpaceInformation.cpp\n",
      "Warning: State validity checker not set! No collision checking is performed\n",
      "         at line 63 in /Users/tianpengzhang/Desktop/ompl/src/ompl/base/src/SpaceInformation.cpp\n"
     ]
    },
    {
     "name": "stdout",
     "output_type": "stream",
     "text": [
      "Planning for agent 9/27Info:    SpaceTimeRRT: Created 48 states (32 start + 16 goal)\n",
      "\n",
      "Debug:   SpaceTimeRRT: Planner range detected to be inf\n",
      "Info:    SpaceTimeRRT: Starting planning with 1 states already in datastructure\n",
      "Info:    SpaceTimeRRT: Starting planning with time bound factor 2.00\n"
     ]
    },
    {
     "name": "stderr",
     "output_type": "stream",
     "text": [
      "Warning: State validity checker not set! No collision checking is performed\n",
      "         at line 63 in /Users/tianpengzhang/Desktop/ompl/src/ompl/base/src/SpaceInformation.cpp\n"
     ]
    },
    {
     "name": "stdout",
     "output_type": "stream",
     "text": [
      "Planning for agent 10/27Info:    SpaceTimeRRT: Created 83 states (40 start + 43 goal)\n",
      "\n",
      "Debug:   SpaceTimeRRT: Planner range detected to be inf\n",
      "Info:    SpaceTimeRRT: Starting planning with 1 states already in datastructure\n",
      "Info:    SpaceTimeRRT: Starting planning with time bound factor 2.00\n",
      "Planning for agent 11/27\n",
      "Info:    SpaceTimeRRT: Created 37 states (21 start + 16 goal)\n",
      "Debug:   SpaceTimeRRT: Planner range detected to be inf\n",
      "Info:    SpaceTimeRRT: Starting planning with 1 states already in datastructure\n",
      "Info:    SpaceTimeRRT: Starting planning with time bound factor 2.00\n"
     ]
    },
    {
     "name": "stderr",
     "output_type": "stream",
     "text": [
      "Warning: State validity checker not set! No collision checking is performed\n",
      "         at line 63 in /Users/tianpengzhang/Desktop/ompl/src/ompl/base/src/SpaceInformation.cpp\n",
      "Warning: State validity checker not set! No collision checking is performed\n",
      "         at line 63 in /Users/tianpengzhang/Desktop/ompl/src/ompl/base/src/SpaceInformation.cpp\n"
     ]
    },
    {
     "name": "stdout",
     "output_type": "stream",
     "text": [
      "Planning for agent 12/27\n",
      "Info:    SpaceTimeRRT: Created 26 states (6 start + 20 goal)\n",
      "Debug:   SpaceTimeRRT: Planner range detected to be inf\n",
      "Info:    SpaceTimeRRT: Starting planning with 1 states already in datastructure\n",
      "Info:    SpaceTimeRRT: Starting planning with time bound factor 2.00\n"
     ]
    },
    {
     "name": "stderr",
     "output_type": "stream",
     "text": [
      "Warning: State validity checker not set! No collision checking is performed\n",
      "         at line 63 in /Users/tianpengzhang/Desktop/ompl/src/ompl/base/src/SpaceInformation.cpp\n"
     ]
    },
    {
     "name": "stdout",
     "output_type": "stream",
     "text": [
      "Planning for agent 13/27\n",
      "Info:    SpaceTimeRRT: Created 56 states (25 start + 31 goal)\n",
      "Debug:   SpaceTimeRRT: Planner range detected to be inf\n",
      "Info:    SpaceTimeRRT: Starting planning with 1 states already in datastructure\n",
      "Info:    SpaceTimeRRT: Starting planning with time bound factor 2.00\n",
      "Planning for agent 14/27\n",
      "Info:    SpaceTimeRRT: Created 63 states (29 start + 34 goal)\n",
      "Debug:   SpaceTimeRRT: Planner range detected to be inf\n",
      "Info:    SpaceTimeRRT: Starting planning with 1 states already in datastructure\n",
      "Info:    SpaceTimeRRT: Starting planning with time bound factor 2.00\n"
     ]
    },
    {
     "name": "stderr",
     "output_type": "stream",
     "text": [
      "Warning: State validity checker not set! No collision checking is performed\n",
      "         at line 63 in /Users/tianpengzhang/Desktop/ompl/src/ompl/base/src/SpaceInformation.cpp\n",
      "Warning: State validity checker not set! No collision checking is performed\n",
      "         at line 63 in /Users/tianpengzhang/Desktop/ompl/src/ompl/base/src/SpaceInformation.cpp\n"
     ]
    },
    {
     "name": "stdout",
     "output_type": "stream",
     "text": [
      "Planning for agent 15/27Info:    SpaceTimeRRT: Created 127 states (56 start + 71 goal)\n",
      "\n",
      "Debug:   SpaceTimeRRT: Planner range detected to be inf\n",
      "Info:    SpaceTimeRRT: Starting planning with 1 states already in datastructure\n",
      "Info:    SpaceTimeRRT: Starting planning with time bound factor 2.00\n"
     ]
    },
    {
     "name": "stderr",
     "output_type": "stream",
     "text": [
      "Warning: State validity checker not set! No collision checking is performed\n",
      "         at line 63 in /Users/tianpengzhang/Desktop/ompl/src/ompl/base/src/SpaceInformation.cpp\n"
     ]
    },
    {
     "name": "stdout",
     "output_type": "stream",
     "text": [
      "Planning for agent 16/27Info:    SpaceTimeRRT: Created 71 states (27 start + 44 goal)\n",
      "\n",
      "Debug:   SpaceTimeRRT: Planner range detected to be inf\n",
      "Info:    SpaceTimeRRT: Starting planning with 1 states already in datastructure\n",
      "Info:    SpaceTimeRRT: Starting planning with time bound factor 2.00\n"
     ]
    },
    {
     "name": "stderr",
     "output_type": "stream",
     "text": [
      "Warning: State validity checker not set! No collision checking is performed\n",
      "         at line 63 in /Users/tianpengzhang/Desktop/ompl/src/ompl/base/src/SpaceInformation.cpp\n"
     ]
    },
    {
     "name": "stdout",
     "output_type": "stream",
     "text": [
      "Planning for agent 17/27Info:    SpaceTimeRRT: Created 74 states (31 start + 43 goal)\n",
      "\n",
      "Debug:   SpaceTimeRRT: Planner range detected to be inf\n",
      "Info:    SpaceTimeRRT: Starting planning with 1 states already in datastructure\n",
      "Info:    SpaceTimeRRT: Starting planning with time bound factor 2.00\n"
     ]
    },
    {
     "name": "stderr",
     "output_type": "stream",
     "text": [
      "Warning: State validity checker not set! No collision checking is performed\n",
      "         at line 63 in /Users/tianpengzhang/Desktop/ompl/src/ompl/base/src/SpaceInformation.cpp\n"
     ]
    },
    {
     "name": "stdout",
     "output_type": "stream",
     "text": [
      "Planning for agent 18/27Info:    SpaceTimeRRT: Created 173 states (70 start + 103 goal)\n",
      "\n",
      "Debug:   SpaceTimeRRT: Planner range detected to be inf\n",
      "Info:    SpaceTimeRRT: Starting planning with 1 states already in datastructure\n",
      "Info:    SpaceTimeRRT: Starting planning with time bound factor 2.00\n"
     ]
    },
    {
     "name": "stderr",
     "output_type": "stream",
     "text": [
      "Warning: State validity checker not set! No collision checking is performed\n",
      "         at line 63 in /Users/tianpengzhang/Desktop/ompl/src/ompl/base/src/SpaceInformation.cpp\n"
     ]
    },
    {
     "name": "stdout",
     "output_type": "stream",
     "text": [
      "Info:    SpaceTimeRRT: Increased time bound factor to 4.00\n",
      "Planning for agent 19/27\n",
      "Info:    SpaceTimeRRT: Created 519 states (198 start + 321 goal)\n",
      "Debug:   SpaceTimeRRT: Planner range detected to be inf\n",
      "Info:    SpaceTimeRRT: Starting planning with 1 states already in datastructure\n",
      "Info:    SpaceTimeRRT: Starting planning with time bound factor 2.00\n"
     ]
    },
    {
     "name": "stderr",
     "output_type": "stream",
     "text": [
      "Warning: State validity checker not set! No collision checking is performed\n",
      "         at line 63 in /Users/tianpengzhang/Desktop/ompl/src/ompl/base/src/SpaceInformation.cpp\n"
     ]
    },
    {
     "name": "stdout",
     "output_type": "stream",
     "text": [
      "Info:    SpaceTimeRRT: Increased time bound factor to 4.00\n",
      "Planning for agent 20/27Info:    SpaceTimeRRT: Created 539 states (219 start + 320 goal)\n",
      "\n",
      "Debug:   SpaceTimeRRT: Planner range detected to be inf\n",
      "Info:    SpaceTimeRRT: Starting planning with 1 states already in datastructure\n",
      "Info:    SpaceTimeRRT: Starting planning with time bound factor 2.00\n"
     ]
    },
    {
     "name": "stderr",
     "output_type": "stream",
     "text": [
      "Warning: State validity checker not set! No collision checking is performed\n",
      "         at line 63 in /Users/tianpengzhang/Desktop/ompl/src/ompl/base/src/SpaceInformation.cpp\n"
     ]
    },
    {
     "name": "stdout",
     "output_type": "stream",
     "text": [
      "Planning for agent 21/27Info:    SpaceTimeRRT: Created 370 states (146 start + 224 goal)\n",
      "\n",
      "Debug:   SpaceTimeRRT: Planner range detected to be inf\n",
      "Info:    SpaceTimeRRT: Starting planning with 1 states already in datastructure\n",
      "Info:    SpaceTimeRRT: Starting planning with time bound factor 2.00\n"
     ]
    },
    {
     "name": "stderr",
     "output_type": "stream",
     "text": [
      "Warning: State validity checker not set! No collision checking is performed\n",
      "         at line 63 in /Users/tianpengzhang/Desktop/ompl/src/ompl/base/src/SpaceInformation.cpp\n"
     ]
    },
    {
     "name": "stdout",
     "output_type": "stream",
     "text": [
      "Info:    SpaceTimeRRT: Increased time bound factor to 4.00\n",
      "Planning for agent 22/27Info:    SpaceTimeRRT: Created 636 states (272 start + 364 goal)\n",
      "\n",
      "Debug:   SpaceTimeRRT: Planner range detected to be inf\n",
      "Info:    SpaceTimeRRT: Starting planning with 1 states already in datastructure\n",
      "Info:    SpaceTimeRRT: Starting planning with time bound factor 2.00\n"
     ]
    },
    {
     "name": "stderr",
     "output_type": "stream",
     "text": [
      "Warning: State validity checker not set! No collision checking is performed\n",
      "         at line 63 in /Users/tianpengzhang/Desktop/ompl/src/ompl/base/src/SpaceInformation.cpp\n"
     ]
    },
    {
     "name": "stdout",
     "output_type": "stream",
     "text": [
      "Info:    SpaceTimeRRT: Increased time bound factor to 4.00\n",
      "Planning for agent 23/27Info:    SpaceTimeRRT: Created 574 states (229 start + 345 goal)\n",
      "\n",
      "Debug:   SpaceTimeRRT: Planner range detected to be inf\n",
      "Info:    SpaceTimeRRT: Starting planning with 1 states already in datastructure\n",
      "Info:    SpaceTimeRRT: Starting planning with time bound factor 2.00\n"
     ]
    },
    {
     "name": "stderr",
     "output_type": "stream",
     "text": [
      "Warning: State validity checker not set! No collision checking is performed\n",
      "         at line 63 in /Users/tianpengzhang/Desktop/ompl/src/ompl/base/src/SpaceInformation.cpp\n"
     ]
    },
    {
     "name": "stdout",
     "output_type": "stream",
     "text": [
      "Info:    SpaceTimeRRT: Increased time bound factor to 4.00\n",
      "Planning for agent 24/27Info:    SpaceTimeRRT: Created 605 states (260 start + 345 goal)\n",
      "\n",
      "Debug:   SpaceTimeRRT: Planner range detected to be inf\n",
      "Info:    SpaceTimeRRT: Starting planning with 1 states already in datastructure\n",
      "Info:    SpaceTimeRRT: Starting planning with time bound factor 2.00\n"
     ]
    },
    {
     "name": "stderr",
     "output_type": "stream",
     "text": [
      "Warning: State validity checker not set! No collision checking is performed\n",
      "         at line 63 in /Users/tianpengzhang/Desktop/ompl/src/ompl/base/src/SpaceInformation.cpp\n"
     ]
    },
    {
     "name": "stdout",
     "output_type": "stream",
     "text": [
      "Info:    SpaceTimeRRT: Increased time bound factor to 4.00\n",
      "Planning for agent 25/27\n",
      "Info:    SpaceTimeRRT: Created 521 states (194 start + 327 goal)\n",
      "Debug:   SpaceTimeRRT: Planner range detected to be inf\n",
      "Info:    SpaceTimeRRT: Starting planning with 1 states already in datastructure\n",
      "Info:    SpaceTimeRRT: Starting planning with time bound factor 2.00\n"
     ]
    },
    {
     "name": "stderr",
     "output_type": "stream",
     "text": [
      "Warning: State validity checker not set! No collision checking is performed\n",
      "         at line 63 in /Users/tianpengzhang/Desktop/ompl/src/ompl/base/src/SpaceInformation.cpp\n"
     ]
    },
    {
     "name": "stdout",
     "output_type": "stream",
     "text": [
      "Planning for agent 26/27Info:    SpaceTimeRRT: Created 204 states (68 start + 136 goal)\n",
      "\n",
      "Debug:   SpaceTimeRRT: Planner range detected to be inf\n",
      "Info:    SpaceTimeRRT: Starting planning with 1 states already in datastructure\n",
      "Info:    SpaceTimeRRT: Starting planning with time bound factor 2.00\n"
     ]
    },
    {
     "name": "stderr",
     "output_type": "stream",
     "text": [
      "Warning: State validity checker not set! No collision checking is performed\n",
      "         at line 63 in /Users/tianpengzhang/Desktop/ompl/src/ompl/base/src/SpaceInformation.cpp\n"
     ]
    },
    {
     "name": "stdout",
     "output_type": "stream",
     "text": [
      "On time for algorithmInfo:    SpaceTimeRRT: Created 434 states (182 start + 252 goal)\n",
      " ST-RRT* N agent =  27\n",
      "Env: MultiTunnel Alg: ST-RRT* N agent: 28\n",
      "Planning for agent 0/28\n",
      "Debug:   SpaceTimeRRT: Planner range detected to be inf\n",
      "Info:    SpaceTimeRRT: Starting planning with 1 states already in datastructure\n",
      "Info:    SpaceTimeRRT: Starting planning with time bound factor 2.00\n",
      "Planning for agent 1/28\n",
      "Info:    SpaceTimeRRT: Created 80 states (31 start + 49 goal)\n",
      "Debug:   SpaceTimeRRT: Planner range detected to be inf\n",
      "Info:    SpaceTimeRRT: Starting planning with 1 states already in datastructure\n",
      "Info:    SpaceTimeRRT: Starting planning with time bound factor 2.00\n"
     ]
    },
    {
     "name": "stderr",
     "output_type": "stream",
     "text": [
      "Warning: State validity checker not set! No collision checking is performed\n",
      "         at line 63 in /Users/tianpengzhang/Desktop/ompl/src/ompl/base/src/SpaceInformation.cpp\n",
      "Warning: State validity checker not set! No collision checking is performed\n",
      "         at line 63 in /Users/tianpengzhang/Desktop/ompl/src/ompl/base/src/SpaceInformation.cpp\n"
     ]
    },
    {
     "name": "stdout",
     "output_type": "stream",
     "text": [
      "Planning for agent 2/28Info:    SpaceTimeRRT: Created 51 states (22 start + 29 goal)\n",
      "\n",
      "Debug:   SpaceTimeRRT: Planner range detected to be inf\n",
      "Info:    SpaceTimeRRT: Starting planning with 1 states already in datastructure\n",
      "Info:    SpaceTimeRRT: Starting planning with time bound factor 2.00\n",
      "Planning for agent 3/28\n",
      "Info:    SpaceTimeRRT: Created 50 states (28 start + 22 goal)\n",
      "Debug:   SpaceTimeRRT: Planner range detected to be inf\n",
      "Info:    SpaceTimeRRT: Starting planning with 1 states already in datastructure\n",
      "Info:    SpaceTimeRRT: Starting planning with time bound factor 2.00\n",
      "Planning for agent 4/28\n"
     ]
    },
    {
     "name": "stderr",
     "output_type": "stream",
     "text": [
      "Warning: State validity checker not set! No collision checking is performed\n",
      "         at line 63 in /Users/tianpengzhang/Desktop/ompl/src/ompl/base/src/SpaceInformation.cpp\n",
      "Warning: State validity checker not set! No collision checking is performed\n",
      "         at line 63 in /Users/tianpengzhang/Desktop/ompl/src/ompl/base/src/SpaceInformation.cpp\n",
      "Warning: State validity checker not set! No collision checking is performed\n",
      "         at line 63 in /Users/tianpengzhang/Desktop/ompl/src/ompl/base/src/SpaceInformation.cpp\n",
      "Warning: State validity checker not set! No collision checking is performed\n",
      "         at line 63 in /Users/tianpengzhang/Desktop/ompl/src/ompl/base/src/SpaceInformation.cpp\n"
     ]
    },
    {
     "name": "stdout",
     "output_type": "stream",
     "text": [
      "Info:    SpaceTimeRRT: Created 59 states (20 start + 39 goal)\n",
      "Debug:   SpaceTimeRRT: Planner range detected to be inf\n",
      "Info:    SpaceTimeRRT: Starting planning with 1 states already in datastructure\n",
      "Info:    SpaceTimeRRT: Starting planning with time bound factor 2.00\n",
      "Planning for agent 5/28\n",
      "Info:    SpaceTimeRRT: Created 51 states (17 start + 34 goal)\n",
      "Debug:   SpaceTimeRRT: Planner range detected to be inf\n",
      "Info:    SpaceTimeRRT: Starting planning with 1 states already in datastructure\n",
      "Info:    SpaceTimeRRT: Starting planning with time bound factor 2.00\n",
      "Planning for agent 6/28\n"
     ]
    },
    {
     "name": "stderr",
     "output_type": "stream",
     "text": [
      "Warning: State validity checker not set! No collision checking is performed\n",
      "         at line 63 in /Users/tianpengzhang/Desktop/ompl/src/ompl/base/src/SpaceInformation.cpp\n",
      "Warning: State validity checker not set! No collision checking is performed\n",
      "         at line 63 in /Users/tianpengzhang/Desktop/ompl/src/ompl/base/src/SpaceInformation.cpp\n"
     ]
    },
    {
     "name": "stdout",
     "output_type": "stream",
     "text": [
      "Info:    SpaceTimeRRT: Created 66 states (27 start + 39 goal)\n",
      "Debug:   SpaceTimeRRT: Planner range detected to be inf\n",
      "Info:    SpaceTimeRRT: Starting planning with 1 states already in datastructure\n",
      "Info:    SpaceTimeRRT: Starting planning with time bound factor 2.00\n",
      "Planning for agent 7/28\n",
      "Info:    SpaceTimeRRT: Created 71 states (23 start + 48 goal)\n",
      "Debug:   SpaceTimeRRT: Planner range detected to be inf\n",
      "Info:    SpaceTimeRRT: Starting planning with 1 states already in datastructure\n",
      "Info:    SpaceTimeRRT: Starting planning with time bound factor 2.00\n",
      "Planning for agent 8/28Info:    SpaceTimeRRT: Created 40 states (17 start + 23 goal)\n",
      "\n",
      "Debug:   SpaceTimeRRT: Planner range detected to be inf\n",
      "Info:    SpaceTimeRRT: Starting planning with 1 states already in datastructure\n",
      "Info:    SpaceTimeRRT: Starting planning with time bound factor 2.00\n",
      "Planning for agent 9/28\n",
      "Info:    SpaceTimeRRT: Created 44 states (18 start + 26 goal)\n",
      "Debug:   SpaceTimeRRT: Planner range detected to be inf\n",
      "Info:    SpaceTimeRRT: Starting planning with 1 states already in datastructure\n",
      "Info:    SpaceTimeRRT: Starting planning with time bound factor 2.00\n"
     ]
    },
    {
     "name": "stderr",
     "output_type": "stream",
     "text": [
      "Warning: State validity checker not set! No collision checking is performed\n",
      "         at line 63 in /Users/tianpengzhang/Desktop/ompl/src/ompl/base/src/SpaceInformation.cpp\n",
      "Warning: State validity checker not set! No collision checking is performed\n",
      "         at line 63 in /Users/tianpengzhang/Desktop/ompl/src/ompl/base/src/SpaceInformation.cpp\n"
     ]
    },
    {
     "name": "stdout",
     "output_type": "stream",
     "text": [
      "Planning for agent 10/28Info:    SpaceTimeRRT: Created 60 states (24 start + 36 goal)\n",
      "\n",
      "Debug:   SpaceTimeRRT: Planner range detected to be inf\n",
      "Info:    SpaceTimeRRT: Starting planning with 1 states already in datastructure\n",
      "Info:    SpaceTimeRRT: Starting planning with time bound factor 2.00\n",
      "Planning for agent 11/28\n",
      "Info:    SpaceTimeRRT: Created 44 states (16 start + 28 goal)\n",
      "Debug:   SpaceTimeRRT: Planner range detected to be inf\n",
      "Info:    SpaceTimeRRT: Starting planning with 1 states already in datastructure\n",
      "Info:    SpaceTimeRRT: Starting planning with time bound factor 2.00\n"
     ]
    },
    {
     "name": "stderr",
     "output_type": "stream",
     "text": [
      "Warning: State validity checker not set! No collision checking is performed\n",
      "         at line 63 in /Users/tianpengzhang/Desktop/ompl/src/ompl/base/src/SpaceInformation.cpp\n",
      "Warning: State validity checker not set! No collision checking is performed\n",
      "         at line 63 in /Users/tianpengzhang/Desktop/ompl/src/ompl/base/src/SpaceInformation.cpp\n"
     ]
    },
    {
     "name": "stdout",
     "output_type": "stream",
     "text": [
      "Planning for agent 12/28Info:    SpaceTimeRRT: Created 34 states (16 start + 18 goal)\n",
      "\n",
      "Debug:   SpaceTimeRRT: Planner range detected to be inf\n",
      "Info:    SpaceTimeRRT: Starting planning with 1 states already in datastructure\n",
      "Info:    SpaceTimeRRT: Starting planning with time bound factor 2.00\n"
     ]
    },
    {
     "name": "stderr",
     "output_type": "stream",
     "text": [
      "Warning: State validity checker not set! No collision checking is performed\n",
      "         at line 63 in /Users/tianpengzhang/Desktop/ompl/src/ompl/base/src/SpaceInformation.cpp\n"
     ]
    },
    {
     "name": "stdout",
     "output_type": "stream",
     "text": [
      "Planning for agent 13/28Info:    SpaceTimeRRT: Created 65 states (23 start + 42 goal)\n",
      "\n",
      "Debug:   SpaceTimeRRT: Planner range detected to be inf\n",
      "Info:    SpaceTimeRRT: Starting planning with 1 states already in datastructure\n",
      "Info:    SpaceTimeRRT: Starting planning with time bound factor 2.00\n"
     ]
    },
    {
     "name": "stderr",
     "output_type": "stream",
     "text": [
      "Warning: State validity checker not set! No collision checking is performed\n",
      "         at line 63 in /Users/tianpengzhang/Desktop/ompl/src/ompl/base/src/SpaceInformation.cpp\n"
     ]
    },
    {
     "name": "stdout",
     "output_type": "stream",
     "text": [
      "Planning for agent 14/28Info:    SpaceTimeRRT: Created 80 states (26 start + 54 goal)\n",
      "\n",
      "Debug:   SpaceTimeRRT: Planner range detected to be inf\n",
      "Info:    SpaceTimeRRT: Starting planning with 1 states already in datastructure\n",
      "Info:    SpaceTimeRRT: Starting planning with time bound factor 2.00\n"
     ]
    },
    {
     "name": "stderr",
     "output_type": "stream",
     "text": [
      "Warning: State validity checker not set! No collision checking is performed\n",
      "         at line 63 in /Users/tianpengzhang/Desktop/ompl/src/ompl/base/src/SpaceInformation.cpp\n"
     ]
    },
    {
     "name": "stdout",
     "output_type": "stream",
     "text": [
      "Planning for agent 15/28Info:    SpaceTimeRRT: Created 121 states (46 start + 75 goal)\n",
      "\n",
      "Debug:   SpaceTimeRRT: Planner range detected to be inf\n",
      "Info:    SpaceTimeRRT: Starting planning with 1 states already in datastructure\n",
      "Info:    SpaceTimeRRT: Starting planning with time bound factor 2.00\n"
     ]
    },
    {
     "name": "stderr",
     "output_type": "stream",
     "text": [
      "Warning: State validity checker not set! No collision checking is performed\n",
      "         at line 63 in /Users/tianpengzhang/Desktop/ompl/src/ompl/base/src/SpaceInformation.cpp\n"
     ]
    },
    {
     "name": "stdout",
     "output_type": "stream",
     "text": [
      "Planning for agent 16/28Info:    SpaceTimeRRT: Created 391 states (164 start + 227 goal)\n",
      "\n",
      "Debug:   SpaceTimeRRT: Planner range detected to be inf\n",
      "Info:    SpaceTimeRRT: Starting planning with 1 states already in datastructure\n",
      "Info:    SpaceTimeRRT: Starting planning with time bound factor 2.00\n"
     ]
    },
    {
     "name": "stderr",
     "output_type": "stream",
     "text": [
      "Warning: State validity checker not set! No collision checking is performed\n",
      "         at line 63 in /Users/tianpengzhang/Desktop/ompl/src/ompl/base/src/SpaceInformation.cpp\n"
     ]
    },
    {
     "name": "stdout",
     "output_type": "stream",
     "text": [
      "Planning for agent 17/28Info:    SpaceTimeRRT: Created 295 states (104 start + 191 goal)\n",
      "\n",
      "Debug:   SpaceTimeRRT: Planner range detected to be inf\n",
      "Info:    SpaceTimeRRT: Starting planning with 1 states already in datastructure\n",
      "Info:    SpaceTimeRRT: Starting planning with time bound factor 2.00\n"
     ]
    },
    {
     "name": "stderr",
     "output_type": "stream",
     "text": [
      "Warning: State validity checker not set! No collision checking is performed\n",
      "         at line 63 in /Users/tianpengzhang/Desktop/ompl/src/ompl/base/src/SpaceInformation.cpp\n"
     ]
    },
    {
     "name": "stdout",
     "output_type": "stream",
     "text": [
      "Planning for agent 18/28Info:    SpaceTimeRRT: Created 209 states (85 start + 124 goal)\n",
      "\n",
      "Debug:   SpaceTimeRRT: Planner range detected to be inf\n",
      "Info:    SpaceTimeRRT: Starting planning with 1 states already in datastructure\n",
      "Info:    SpaceTimeRRT: Starting planning with time bound factor 2.00\n"
     ]
    },
    {
     "name": "stderr",
     "output_type": "stream",
     "text": [
      "Warning: State validity checker not set! No collision checking is performed\n",
      "         at line 63 in /Users/tianpengzhang/Desktop/ompl/src/ompl/base/src/SpaceInformation.cpp\n"
     ]
    },
    {
     "name": "stdout",
     "output_type": "stream",
     "text": [
      "Info:    SpaceTimeRRT: Increased time bound factor to 4.00\n",
      "Planning for agent 19/28Info:    SpaceTimeRRT: Created 546 states (236 start + 310 goal)\n",
      "\n",
      "Debug:   SpaceTimeRRT: Planner range detected to be inf\n",
      "Info:    SpaceTimeRRT: Starting planning with 1 states already in datastructure\n",
      "Info:    SpaceTimeRRT: Starting planning with time bound factor 2.00\n"
     ]
    },
    {
     "name": "stderr",
     "output_type": "stream",
     "text": [
      "Warning: State validity checker not set! No collision checking is performed\n",
      "         at line 63 in /Users/tianpengzhang/Desktop/ompl/src/ompl/base/src/SpaceInformation.cpp\n"
     ]
    },
    {
     "name": "stdout",
     "output_type": "stream",
     "text": [
      "Info:    SpaceTimeRRT: Increased time bound factor to 4.00\n",
      "Planning for agent 20/28Info:    SpaceTimeRRT: Created 542 states (235 start + 307 goal)\n",
      "\n",
      "Debug:   SpaceTimeRRT: Planner range detected to be inf\n",
      "Info:    SpaceTimeRRT: Starting planning with 1 states already in datastructure\n",
      "Info:    SpaceTimeRRT: Starting planning with time bound factor 2.00\n"
     ]
    },
    {
     "name": "stderr",
     "output_type": "stream",
     "text": [
      "Warning: State validity checker not set! No collision checking is performed\n",
      "         at line 63 in /Users/tianpengzhang/Desktop/ompl/src/ompl/base/src/SpaceInformation.cpp\n"
     ]
    },
    {
     "name": "stdout",
     "output_type": "stream",
     "text": [
      "Info:    SpaceTimeRRT: Increased time bound factor to 4.00\n",
      "Planning for agent 21/28Info:    SpaceTimeRRT: Created 608 states (271 start + 337 goal)\n",
      "\n",
      "Debug:   SpaceTimeRRT: Planner range detected to be inf\n",
      "Info:    SpaceTimeRRT: Starting planning with 1 states already in datastructure\n",
      "Info:    SpaceTimeRRT: Starting planning with time bound factor 2.00\n"
     ]
    },
    {
     "name": "stderr",
     "output_type": "stream",
     "text": [
      "Warning: State validity checker not set! No collision checking is performed\n",
      "         at line 63 in /Users/tianpengzhang/Desktop/ompl/src/ompl/base/src/SpaceInformation.cpp\n"
     ]
    },
    {
     "name": "stdout",
     "output_type": "stream",
     "text": [
      "Info:    SpaceTimeRRT: Increased time bound factor to 4.00\n",
      "Planning for agent 22/28Info:    SpaceTimeRRT: Created 653 states (281 start + 372 goal)\n",
      "\n",
      "Debug:   SpaceTimeRRT: Planner range detected to be inf\n",
      "Info:    SpaceTimeRRT: Starting planning with 1 states already in datastructure\n",
      "Info:    SpaceTimeRRT: Starting planning with time bound factor 2.00\n"
     ]
    },
    {
     "name": "stderr",
     "output_type": "stream",
     "text": [
      "Warning: State validity checker not set! No collision checking is performed\n",
      "         at line 63 in /Users/tianpengzhang/Desktop/ompl/src/ompl/base/src/SpaceInformation.cpp\n"
     ]
    },
    {
     "name": "stdout",
     "output_type": "stream",
     "text": [
      "Info:    SpaceTimeRRT: Increased time bound factor to 4.00\n",
      "Planning for agent 23/28Info:    SpaceTimeRRT: Created 748 states (295 start + 453 goal)\n",
      "\n",
      "Debug:   SpaceTimeRRT: Planner range detected to be inf\n",
      "Info:    SpaceTimeRRT: Starting planning with 1 states already in datastructure\n",
      "Info:    SpaceTimeRRT: Starting planning with time bound factor 2.00\n"
     ]
    },
    {
     "name": "stderr",
     "output_type": "stream",
     "text": [
      "Warning: State validity checker not set! No collision checking is performed\n",
      "         at line 63 in /Users/tianpengzhang/Desktop/ompl/src/ompl/base/src/SpaceInformation.cpp\n"
     ]
    },
    {
     "name": "stdout",
     "output_type": "stream",
     "text": [
      "Info:    SpaceTimeRRT: Increased time bound factor to 4.00\n",
      "Planning for agent 24/28Info:    SpaceTimeRRT: Created 608 states (233 start + 375 goal)\n",
      "\n",
      "Debug:   SpaceTimeRRT: Planner range detected to be inf\n",
      "Info:    SpaceTimeRRT: Starting planning with 1 states already in datastructure\n",
      "Info:    SpaceTimeRRT: Starting planning with time bound factor 2.00\n"
     ]
    },
    {
     "name": "stderr",
     "output_type": "stream",
     "text": [
      "Warning: State validity checker not set! No collision checking is performed\n",
      "         at line 63 in /Users/tianpengzhang/Desktop/ompl/src/ompl/base/src/SpaceInformation.cpp\n"
     ]
    },
    {
     "name": "stdout",
     "output_type": "stream",
     "text": [
      "Info:    SpaceTimeRRT: Increased time bound factor to 4.00\n",
      "Planning for agent 25/28Info:    SpaceTimeRRT: Created 608 states (269 start + 339 goal)\n",
      "\n",
      "Debug:   SpaceTimeRRT: Planner range detected to be inf\n",
      "Info:    SpaceTimeRRT: Starting planning with 1 states already in datastructure\n",
      "Info:    SpaceTimeRRT: Starting planning with time bound factor 2.00\n"
     ]
    },
    {
     "name": "stderr",
     "output_type": "stream",
     "text": [
      "Warning: State validity checker not set! No collision checking is performed\n",
      "         at line 63 in /Users/tianpengzhang/Desktop/ompl/src/ompl/base/src/SpaceInformation.cpp\n"
     ]
    },
    {
     "name": "stdout",
     "output_type": "stream",
     "text": [
      "Info:    SpaceTimeRRT: Increased time bound factor to 4.00\n",
      "Planning for agent 26/28Info:    SpaceTimeRRT: Created 796 states (348 start + 448 goal)\n",
      "\n",
      "Debug:   SpaceTimeRRT: Planner range detected to be inf\n",
      "Info:    SpaceTimeRRT: Starting planning with 1 states already in datastructure\n",
      "Info:    SpaceTimeRRT: Starting planning with time bound factor 2.00\n"
     ]
    },
    {
     "name": "stderr",
     "output_type": "stream",
     "text": [
      "Warning: State validity checker not set! No collision checking is performed\n",
      "         at line 63 in /Users/tianpengzhang/Desktop/ompl/src/ompl/base/src/SpaceInformation.cpp\n"
     ]
    },
    {
     "name": "stdout",
     "output_type": "stream",
     "text": [
      "Info:    SpaceTimeRRT: Increased time bound factor to 4.00\n",
      "Planning for agent 27/28Info:    SpaceTimeRRT: Created 537 states (204 start + 333 goal)\n",
      "\n",
      "Debug:   SpaceTimeRRT: Planner range detected to be inf\n",
      "Info:    SpaceTimeRRT: Starting planning with 1 states already in datastructure\n",
      "Info:    SpaceTimeRRT: Starting planning with time bound factor 2.00\n"
     ]
    },
    {
     "name": "stderr",
     "output_type": "stream",
     "text": [
      "Warning: State validity checker not set! No collision checking is performed\n",
      "         at line 63 in /Users/tianpengzhang/Desktop/ompl/src/ompl/base/src/SpaceInformation.cpp\n"
     ]
    },
    {
     "name": "stdout",
     "output_type": "stream",
     "text": [
      "Info:    SpaceTimeRRT: Increased time bound factor to 4.00\n",
      "On time for algorithmInfo:    SpaceTimeRRT: Created 668 states (299 start + 369 goal)\n",
      " ST-RRT* N agent =  28\n",
      "Env: MultiTunnel Alg: ST-RRT* N agent: 29\n",
      "Planning for agent 0/29\n",
      "Debug:   SpaceTimeRRT: Planner range detected to be inf\n",
      "Info:    SpaceTimeRRT: Starting planning with 1 states already in datastructure\n",
      "Info:    SpaceTimeRRT: Starting planning with time bound factor 2.00\n",
      "Planning for agent 1/29\n",
      "Info:    SpaceTimeRRT: Created 94 states (39 start + 55 goal)\n",
      "Debug:   SpaceTimeRRT: Planner range detected to be inf\n",
      "Info:    SpaceTimeRRT: Starting planning with 1 states already in datastructure\n",
      "Info:    SpaceTimeRRT: Starting planning with time bound factor 2.00\n"
     ]
    },
    {
     "name": "stderr",
     "output_type": "stream",
     "text": [
      "Warning: State validity checker not set! No collision checking is performed\n",
      "         at line 63 in /Users/tianpengzhang/Desktop/ompl/src/ompl/base/src/SpaceInformation.cpp\n",
      "Warning: State validity checker not set! No collision checking is performed\n",
      "         at line 63 in /Users/tianpengzhang/Desktop/ompl/src/ompl/base/src/SpaceInformation.cpp\n"
     ]
    },
    {
     "name": "stdout",
     "output_type": "stream",
     "text": [
      "Planning for agent 2/29Info:    SpaceTimeRRT: Created 87 states (32 start + 55 goal)\n",
      "\n",
      "Debug:   SpaceTimeRRT: Planner range detected to be inf\n",
      "Info:    SpaceTimeRRT: Starting planning with 1 states already in datastructure\n",
      "Info:    SpaceTimeRRT: Starting planning with time bound factor 2.00\n",
      "Planning for agent 3/29\n",
      "Info:    SpaceTimeRRT: Created 70 states (31 start + 39 goal)\n",
      "Debug:   SpaceTimeRRT: Planner range detected to be inf\n",
      "Info:    SpaceTimeRRT: Starting planning with 1 states already in datastructure\n",
      "Info:    SpaceTimeRRT: Starting planning with time bound factor 2.00\n"
     ]
    },
    {
     "name": "stderr",
     "output_type": "stream",
     "text": [
      "Warning: State validity checker not set! No collision checking is performed\n",
      "         at line 63 in /Users/tianpengzhang/Desktop/ompl/src/ompl/base/src/SpaceInformation.cpp\n",
      "Warning: State validity checker not set! No collision checking is performed\n",
      "         at line 63 in /Users/tianpengzhang/Desktop/ompl/src/ompl/base/src/SpaceInformation.cpp\n"
     ]
    },
    {
     "name": "stdout",
     "output_type": "stream",
     "text": [
      "Planning for agent 4/29Info:    SpaceTimeRRT: Created 89 states (34 start + 55 goal)\n",
      "\n",
      "Debug:   SpaceTimeRRT: Planner range detected to be inf\n",
      "Info:    SpaceTimeRRT: Starting planning with 1 states already in datastructure\n",
      "Info:    SpaceTimeRRT: Starting planning with time bound factor 2.00\n",
      "Planning for agent 5/29\n",
      "Info:    SpaceTimeRRT: Created 73 states (30 start + 43 goal)\n",
      "Debug:   SpaceTimeRRT: Planner range detected to be inf\n",
      "Info:    SpaceTimeRRT: Starting planning with 1 states already in datastructure\n",
      "Info:    SpaceTimeRRT: Starting planning with time bound factor 2.00\n"
     ]
    },
    {
     "name": "stderr",
     "output_type": "stream",
     "text": [
      "Warning: State validity checker not set! No collision checking is performed\n",
      "         at line 63 in /Users/tianpengzhang/Desktop/ompl/src/ompl/base/src/SpaceInformation.cpp\n",
      "Warning: State validity checker not set! No collision checking is performed\n",
      "         at line 63 in /Users/tianpengzhang/Desktop/ompl/src/ompl/base/src/SpaceInformation.cpp\n"
     ]
    },
    {
     "name": "stdout",
     "output_type": "stream",
     "text": [
      "Planning for agent 6/29Info:    SpaceTimeRRT: Created 131 states (52 start + 79 goal)\n",
      "\n",
      "Debug:   SpaceTimeRRT: Planner range detected to be inf\n",
      "Info:    SpaceTimeRRT: Starting planning with 1 states already in datastructure\n",
      "Info:    SpaceTimeRRT: Starting planning with time bound factor 2.00\n",
      "Planning for agent 7/29\n",
      "Info:    SpaceTimeRRT: Created 35 states (17 start + 18 goal)\n",
      "Debug:   SpaceTimeRRT: Planner range detected to be inf\n",
      "Info:    SpaceTimeRRT: Starting planning with 1 states already in datastructure\n",
      "Info:    SpaceTimeRRT: Starting planning with time bound factor 2.00\n"
     ]
    },
    {
     "name": "stderr",
     "output_type": "stream",
     "text": [
      "Warning: State validity checker not set! No collision checking is performed\n",
      "         at line 63 in /Users/tianpengzhang/Desktop/ompl/src/ompl/base/src/SpaceInformation.cpp\n",
      "Warning: State validity checker not set! No collision checking is performed\n",
      "         at line 63 in /Users/tianpengzhang/Desktop/ompl/src/ompl/base/src/SpaceInformation.cpp\n"
     ]
    },
    {
     "name": "stdout",
     "output_type": "stream",
     "text": [
      "Planning for agent 8/29Info:    SpaceTimeRRT: Created 161 states (90 start + 71 goal)\n",
      "\n",
      "Debug:   SpaceTimeRRT: Planner range detected to be inf\n",
      "Info:    SpaceTimeRRT: Starting planning with 1 states already in datastructure\n",
      "Info:    SpaceTimeRRT: Starting planning with time bound factor 2.00\n",
      "Planning for agent 9/29\n",
      "Info:    SpaceTimeRRT: Created 39 states (12 start + 27 goal)\n",
      "Debug:   SpaceTimeRRT: Planner range detected to be inf\n",
      "Info:    SpaceTimeRRT: Starting planning with 1 states already in datastructure\n",
      "Info:    SpaceTimeRRT: Starting planning with time bound factor 2.00\n"
     ]
    },
    {
     "name": "stderr",
     "output_type": "stream",
     "text": [
      "Warning: State validity checker not set! No collision checking is performed\n",
      "         at line 63 in /Users/tianpengzhang/Desktop/ompl/src/ompl/base/src/SpaceInformation.cpp\n",
      "Warning: State validity checker not set! No collision checking is performed\n",
      "         at line 63 in /Users/tianpengzhang/Desktop/ompl/src/ompl/base/src/SpaceInformation.cpp\n"
     ]
    },
    {
     "name": "stdout",
     "output_type": "stream",
     "text": [
      "Planning for agent 10/29Info:    SpaceTimeRRT: Created 109 states (46 start + 63 goal)\n",
      "\n",
      "Debug:   SpaceTimeRRT: Planner range detected to be inf\n",
      "Info:    SpaceTimeRRT: Starting planning with 1 states already in datastructure\n",
      "Info:    SpaceTimeRRT: Starting planning with time bound factor 2.00\n",
      "Planning for agent 11/29\n",
      "Info:    SpaceTimeRRT: Created 49 states (27 start + 22 goal)\n",
      "Debug:   SpaceTimeRRT: Planner range detected to be inf\n",
      "Info:    SpaceTimeRRT: Starting planning with 1 states already in datastructure\n",
      "Info:    SpaceTimeRRT: Starting planning with time bound factor 2.00\n"
     ]
    },
    {
     "name": "stderr",
     "output_type": "stream",
     "text": [
      "Warning: State validity checker not set! No collision checking is performed\n",
      "         at line 63 in /Users/tianpengzhang/Desktop/ompl/src/ompl/base/src/SpaceInformation.cpp\n",
      "Warning: State validity checker not set! No collision checking is performed\n",
      "         at line 63 in /Users/tianpengzhang/Desktop/ompl/src/ompl/base/src/SpaceInformation.cpp\n"
     ]
    },
    {
     "name": "stdout",
     "output_type": "stream",
     "text": [
      "Planning for agent 12/29Info:    SpaceTimeRRT: Created 52 states (26 start + 26 goal)\n",
      "\n",
      "Debug:   SpaceTimeRRT: Planner range detected to be inf\n",
      "Info:    SpaceTimeRRT: Starting planning with 1 states already in datastructure\n",
      "Info:    SpaceTimeRRT: Starting planning with time bound factor 2.00\n",
      "Planning for agent 13/29\n",
      "Info:    SpaceTimeRRT: Created 57 states (30 start + 27 goal)\n",
      "Debug:   SpaceTimeRRT: Planner range detected to be inf\n",
      "Info:    SpaceTimeRRT: Starting planning with 1 states already in datastructure\n",
      "Info:    SpaceTimeRRT: Starting planning with time bound factor 2.00\n"
     ]
    },
    {
     "name": "stderr",
     "output_type": "stream",
     "text": [
      "Warning: State validity checker not set! No collision checking is performed\n",
      "         at line 63 in /Users/tianpengzhang/Desktop/ompl/src/ompl/base/src/SpaceInformation.cpp\n",
      "Warning: State validity checker not set! No collision checking is performed\n",
      "         at line 63 in /Users/tianpengzhang/Desktop/ompl/src/ompl/base/src/SpaceInformation.cpp\n"
     ]
    },
    {
     "name": "stdout",
     "output_type": "stream",
     "text": [
      "Planning for agent 14/29Info:    SpaceTimeRRT: Created 29 states (14 start + 15 goal)\n",
      "\n",
      "Debug:   SpaceTimeRRT: Planner range detected to be inf\n",
      "Info:    SpaceTimeRRT: Starting planning with 1 states already in datastructure\n",
      "Info:    SpaceTimeRRT: Starting planning with time bound factor 2.00\n"
     ]
    },
    {
     "name": "stderr",
     "output_type": "stream",
     "text": [
      "Warning: State validity checker not set! No collision checking is performed\n",
      "         at line 63 in /Users/tianpengzhang/Desktop/ompl/src/ompl/base/src/SpaceInformation.cpp\n"
     ]
    },
    {
     "name": "stdout",
     "output_type": "stream",
     "text": [
      "Planning for agent 15/29Info:    SpaceTimeRRT: Created 311 states (137 start + 174 goal)\n",
      "\n",
      "Debug:   SpaceTimeRRT: Planner range detected to be inf\n",
      "Info:    SpaceTimeRRT: Starting planning with 1 states already in datastructure\n",
      "Info:    SpaceTimeRRT: Starting planning with time bound factor 2.00\n"
     ]
    },
    {
     "name": "stderr",
     "output_type": "stream",
     "text": [
      "Warning: State validity checker not set! No collision checking is performed\n",
      "         at line 63 in /Users/tianpengzhang/Desktop/ompl/src/ompl/base/src/SpaceInformation.cpp\n"
     ]
    },
    {
     "name": "stdout",
     "output_type": "stream",
     "text": [
      "Planning for agent 16/29Info:    SpaceTimeRRT: Created 224 states (89 start + 135 goal)\n",
      "\n",
      "Debug:   SpaceTimeRRT: Planner range detected to be inf\n",
      "Info:    SpaceTimeRRT: Starting planning with 1 states already in datastructure\n",
      "Info:    SpaceTimeRRT: Starting planning with time bound factor 2.00\n"
     ]
    },
    {
     "name": "stderr",
     "output_type": "stream",
     "text": [
      "Warning: State validity checker not set! No collision checking is performed\n",
      "         at line 63 in /Users/tianpengzhang/Desktop/ompl/src/ompl/base/src/SpaceInformation.cpp\n"
     ]
    },
    {
     "name": "stdout",
     "output_type": "stream",
     "text": [
      "Planning for agent 17/29Info:    SpaceTimeRRT: Created 72 states (34 start + 38 goal)\n",
      "\n",
      "Debug:   SpaceTimeRRT: Planner range detected to be inf\n",
      "Info:    SpaceTimeRRT: Starting planning with 1 states already in datastructure\n",
      "Info:    SpaceTimeRRT: Starting planning with time bound factor 2.00\n"
     ]
    },
    {
     "name": "stderr",
     "output_type": "stream",
     "text": [
      "Warning: State validity checker not set! No collision checking is performed\n",
      "         at line 63 in /Users/tianpengzhang/Desktop/ompl/src/ompl/base/src/SpaceInformation.cpp\n"
     ]
    },
    {
     "name": "stdout",
     "output_type": "stream",
     "text": [
      "Planning for agent 18/29Info:    SpaceTimeRRT: Created 305 states (138 start + 167 goal)\n",
      "\n",
      "Debug:   SpaceTimeRRT: Planner range detected to be inf\n",
      "Info:    SpaceTimeRRT: Starting planning with 1 states already in datastructure\n",
      "Info:    SpaceTimeRRT: Starting planning with time bound factor 2.00\n"
     ]
    },
    {
     "name": "stderr",
     "output_type": "stream",
     "text": [
      "Warning: State validity checker not set! No collision checking is performed\n",
      "         at line 63 in /Users/tianpengzhang/Desktop/ompl/src/ompl/base/src/SpaceInformation.cpp\n"
     ]
    },
    {
     "name": "stdout",
     "output_type": "stream",
     "text": [
      "Planning for agent 19/29Info:    SpaceTimeRRT: Created 163 states (64 start + 99 goal)\n",
      "\n",
      "Debug:   SpaceTimeRRT: Planner range detected to be inf\n",
      "Info:    SpaceTimeRRT: Starting planning with 1 states already in datastructure\n",
      "Info:    SpaceTimeRRT: Starting planning with time bound factor 2.00\n"
     ]
    },
    {
     "name": "stderr",
     "output_type": "stream",
     "text": [
      "Warning: State validity checker not set! No collision checking is performed\n",
      "         at line 63 in /Users/tianpengzhang/Desktop/ompl/src/ompl/base/src/SpaceInformation.cpp\n"
     ]
    },
    {
     "name": "stdout",
     "output_type": "stream",
     "text": [
      "Info:    SpaceTimeRRT: Increased time bound factor to 4.00\n",
      "Planning for agent 20/29\n",
      "Info:    SpaceTimeRRT: Created 517 states (214 start + 303 goal)\n",
      "Debug:   SpaceTimeRRT: Planner range detected to be inf\n",
      "Info:    SpaceTimeRRT: Starting planning with 1 states already in datastructure\n",
      "Info:    SpaceTimeRRT: Starting planning with time bound factor 2.00\n"
     ]
    },
    {
     "name": "stderr",
     "output_type": "stream",
     "text": [
      "Warning: State validity checker not set! No collision checking is performed\n",
      "         at line 63 in /Users/tianpengzhang/Desktop/ompl/src/ompl/base/src/SpaceInformation.cpp\n"
     ]
    },
    {
     "name": "stdout",
     "output_type": "stream",
     "text": [
      "Info:    SpaceTimeRRT: Increased time bound factor to 4.00\n",
      "Planning for agent 21/29Info:    SpaceTimeRRT: Created 565 states (226 start + 339 goal)\n",
      "\n",
      "Debug:   SpaceTimeRRT: Planner range detected to be inf\n",
      "Info:    SpaceTimeRRT: Starting planning with 1 states already in datastructure\n",
      "Info:    SpaceTimeRRT: Starting planning with time bound factor 2.00\n"
     ]
    },
    {
     "name": "stderr",
     "output_type": "stream",
     "text": [
      "Warning: State validity checker not set! No collision checking is performed\n",
      "         at line 63 in /Users/tianpengzhang/Desktop/ompl/src/ompl/base/src/SpaceInformation.cpp\n"
     ]
    },
    {
     "name": "stdout",
     "output_type": "stream",
     "text": [
      "Info:    SpaceTimeRRT: Increased time bound factor to 4.00\n",
      "Planning for agent 22/29Info:    SpaceTimeRRT: Created 1090 states (396 start + 694 goal)\n",
      "\n",
      "Debug:   SpaceTimeRRT: Planner range detected to be inf\n",
      "Info:    SpaceTimeRRT: Starting planning with 1 states already in datastructure\n",
      "Info:    SpaceTimeRRT: Starting planning with time bound factor 2.00\n"
     ]
    },
    {
     "name": "stderr",
     "output_type": "stream",
     "text": [
      "Warning: State validity checker not set! No collision checking is performed\n",
      "         at line 63 in /Users/tianpengzhang/Desktop/ompl/src/ompl/base/src/SpaceInformation.cpp\n"
     ]
    },
    {
     "name": "stdout",
     "output_type": "stream",
     "text": [
      "Info:    SpaceTimeRRT: Increased time bound factor to 4.00\n",
      "Planning for agent 23/29Info:    SpaceTimeRRT: Created 537 states (202 start + 335 goal)\n",
      "\n",
      "Debug:   SpaceTimeRRT: Planner range detected to be inf\n",
      "Info:    SpaceTimeRRT: Starting planning with 1 states already in datastructure\n",
      "Info:    SpaceTimeRRT: Starting planning with time bound factor 2.00\n"
     ]
    },
    {
     "name": "stderr",
     "output_type": "stream",
     "text": [
      "Warning: State validity checker not set! No collision checking is performed\n",
      "         at line 63 in /Users/tianpengzhang/Desktop/ompl/src/ompl/base/src/SpaceInformation.cpp\n"
     ]
    },
    {
     "name": "stdout",
     "output_type": "stream",
     "text": [
      "Info:    SpaceTimeRRT: Increased time bound factor to 4.00\n",
      "Planning for agent 24/29Info:    SpaceTimeRRT: Created 803 states (322 start + 481 goal)\n",
      "\n",
      "Debug:   SpaceTimeRRT: Planner range detected to be inf\n",
      "Info:    SpaceTimeRRT: Starting planning with 1 states already in datastructure\n",
      "Info:    SpaceTimeRRT: Starting planning with time bound factor 2.00\n"
     ]
    },
    {
     "name": "stderr",
     "output_type": "stream",
     "text": [
      "Warning: State validity checker not set! No collision checking is performed\n",
      "         at line 63 in /Users/tianpengzhang/Desktop/ompl/src/ompl/base/src/SpaceInformation.cpp\n"
     ]
    },
    {
     "name": "stdout",
     "output_type": "stream",
     "text": [
      "Info:    SpaceTimeRRT: Increased time bound factor to 4.00\n",
      "Planning for agent 25/29Info:    SpaceTimeRRT: Created 691 states (291 start + 400 goal)\n",
      "\n",
      "Debug:   SpaceTimeRRT: Planner range detected to be inf\n",
      "Info:    SpaceTimeRRT: Starting planning with 1 states already in datastructure\n",
      "Info:    SpaceTimeRRT: Starting planning with time bound factor 2.00\n"
     ]
    },
    {
     "name": "stderr",
     "output_type": "stream",
     "text": [
      "Warning: State validity checker not set! No collision checking is performed\n",
      "         at line 63 in /Users/tianpengzhang/Desktop/ompl/src/ompl/base/src/SpaceInformation.cpp\n"
     ]
    },
    {
     "name": "stdout",
     "output_type": "stream",
     "text": [
      "Planning for agent 26/29Info:    SpaceTimeRRT: Created 438 states (166 start + 272 goal)\n",
      "\n",
      "Debug:   SpaceTimeRRT: Planner range detected to be inf\n",
      "Info:    SpaceTimeRRT: Starting planning with 1 states already in datastructure\n",
      "Info:    SpaceTimeRRT: Starting planning with time bound factor 2.00\n"
     ]
    },
    {
     "name": "stderr",
     "output_type": "stream",
     "text": [
      "Warning: State validity checker not set! No collision checking is performed\n",
      "         at line 63 in /Users/tianpengzhang/Desktop/ompl/src/ompl/base/src/SpaceInformation.cpp\n"
     ]
    },
    {
     "name": "stdout",
     "output_type": "stream",
     "text": [
      "Planning for agent 27/29Info:    SpaceTimeRRT: Created 482 states (178 start + 304 goal)\n",
      "\n",
      "Debug:   SpaceTimeRRT: Planner range detected to be inf\n",
      "Info:    SpaceTimeRRT: Starting planning with 1 states already in datastructure\n",
      "Info:    SpaceTimeRRT: Starting planning with time bound factor 2.00\n"
     ]
    },
    {
     "name": "stderr",
     "output_type": "stream",
     "text": [
      "Warning: State validity checker not set! No collision checking is performed\n",
      "         at line 63 in /Users/tianpengzhang/Desktop/ompl/src/ompl/base/src/SpaceInformation.cpp\n"
     ]
    },
    {
     "name": "stdout",
     "output_type": "stream",
     "text": [
      "Info:    SpaceTimeRRT: Increased time bound factor to 4.00\n",
      "Planning for agent 28/29Info:    SpaceTimeRRT: Created 538 states (221 start + 317 goal)\n",
      "\n",
      "Debug:   SpaceTimeRRT: Planner range detected to be inf\n",
      "Info:    SpaceTimeRRT: Starting planning with 1 states already in datastructure\n",
      "Info:    SpaceTimeRRT: Starting planning with time bound factor 2.00\n"
     ]
    },
    {
     "name": "stderr",
     "output_type": "stream",
     "text": [
      "Warning: State validity checker not set! No collision checking is performed\n",
      "         at line 63 in /Users/tianpengzhang/Desktop/ompl/src/ompl/base/src/SpaceInformation.cpp\n"
     ]
    },
    {
     "name": "stdout",
     "output_type": "stream",
     "text": [
      "On time for algorithmInfo:    SpaceTimeRRT: Created 417 states (141 start + 276 goal)\n",
      " ST-RRT* N agent =  29\n",
      "Env: MultiTunnel Alg: ST-RRT* N agent: 30\n",
      "Planning for agent 0/30\n",
      "Debug:   SpaceTimeRRT: Planner range detected to be inf\n",
      "Info:    SpaceTimeRRT: Starting planning with 1 states already in datastructure\n",
      "Info:    SpaceTimeRRT: Starting planning with time bound factor 2.00\n",
      "Planning for agent 1/30\n",
      "Info:    SpaceTimeRRT: Created 118 states (48 start + 70 goal)\n",
      "Debug:   SpaceTimeRRT: Planner range detected to be inf\n",
      "Info:    SpaceTimeRRT: Starting planning with 1 states already in datastructure\n",
      "Info:    SpaceTimeRRT: Starting planning with time bound factor 2.00\n"
     ]
    },
    {
     "name": "stderr",
     "output_type": "stream",
     "text": [
      "Warning: State validity checker not set! No collision checking is performed\n",
      "         at line 63 in /Users/tianpengzhang/Desktop/ompl/src/ompl/base/src/SpaceInformation.cpp\n",
      "Warning: State validity checker not set! No collision checking is performed\n",
      "         at line 63 in /Users/tianpengzhang/Desktop/ompl/src/ompl/base/src/SpaceInformation.cpp\n",
      "Warning: State validity checker not set! No collision checking is performed"
     ]
    },
    {
     "name": "stdout",
     "output_type": "stream",
     "text": [
      "Planning for agent 2/30Info:    SpaceTimeRRT: Created 80 states (34 start + 46 goal)\n",
      "\n",
      "Debug:   SpaceTimeRRT: Planner range detected to be inf\n",
      "Info:    SpaceTimeRRT: Starting planning with 1 states already in datastructure\n",
      "Info:    SpaceTimeRRT: Starting planning with time bound factor 2.00\n",
      "Planning for agent 3/30\n",
      "Info:    SpaceTimeRRT: Created 34 states (11 start + 23 goal)\n",
      "Debug:   SpaceTimeRRT: Planner range detected to be inf\n",
      "Info:    SpaceTimeRRT: Starting planning with 1 states already in datastructure\n",
      "Info:    SpaceTimeRRT: Starting planning with time bound factor 2.00\n",
      "Planning for agent 4/30\n"
     ]
    },
    {
     "name": "stderr",
     "output_type": "stream",
     "text": [
      "\n",
      "         at line 63 in /Users/tianpengzhang/Desktop/ompl/src/ompl/base/src/SpaceInformation.cpp\n",
      "Warning: State validity checker not set! No collision checking is performed\n",
      "         at line 63 in /Users/tianpengzhang/Desktop/ompl/src/ompl/base/src/SpaceInformation.cpp\n",
      "Warning: State validity checker not set! No collision checking is performed\n",
      "         at line 63 in /Users/tianpengzhang/Desktop/ompl/src/ompl/base/src/SpaceInformation.cpp\n"
     ]
    },
    {
     "name": "stdout",
     "output_type": "stream",
     "text": [
      "Info:    SpaceTimeRRT: Created 47 states (23 start + 24 goal)\n",
      "Debug:   SpaceTimeRRT: Planner range detected to be inf\n",
      "Info:    SpaceTimeRRT: Starting planning with 1 states already in datastructure\n",
      "Info:    SpaceTimeRRT: Starting planning with time bound factor 2.00\n",
      "Planning for agent 5/30\n",
      "Info:    SpaceTimeRRT: Created 96 states (38 start + 58 goal)\n",
      "Debug:   SpaceTimeRRT: Planner range detected to be inf\n",
      "Info:    SpaceTimeRRT: Starting planning with 1 states already in datastructure\n",
      "Info:    SpaceTimeRRT: Starting planning with time bound factor 2.00\n"
     ]
    },
    {
     "name": "stderr",
     "output_type": "stream",
     "text": [
      "Warning: State validity checker not set! No collision checking is performed\n",
      "         at line 63 in /Users/tianpengzhang/Desktop/ompl/src/ompl/base/src/SpaceInformation.cpp\n",
      "Warning: State validity checker not set! No collision checking is performed\n",
      "         at line 63 in /Users/tianpengzhang/Desktop/ompl/src/ompl/base/src/SpaceInformation.cpp\n",
      "Warning: State validity checker not set! No collision checking is performed\n",
      "         at line 63 in /Users/tianpengzhang/Desktop/ompl/src/ompl/base/src/SpaceInformation.cpp\n"
     ]
    },
    {
     "name": "stdout",
     "output_type": "stream",
     "text": [
      "Planning for agent 6/30Info:    SpaceTimeRRT: Created 36 states (13 start + 23 goal)\n",
      "\n",
      "Debug:   SpaceTimeRRT: Planner range detected to be inf\n",
      "Info:    SpaceTimeRRT: Starting planning with 1 states already in datastructure\n",
      "Info:    SpaceTimeRRT: Starting planning with time bound factor 2.00\n",
      "Planning for agent 7/30\n",
      "Info:    SpaceTimeRRT: Created 48 states (18 start + 30 goal)\n",
      "Debug:   SpaceTimeRRT: Planner range detected to be inf\n",
      "Info:    SpaceTimeRRT: Starting planning with 1 states already in datastructure\n",
      "Info:    SpaceTimeRRT: Starting planning with time bound factor 2.00\n",
      "Planning for agent 8/30Info:    SpaceTimeRRT: Created 79 states (32 start + 47 goal)\n",
      "\n",
      "Debug:   SpaceTimeRRT: Planner range detected to be inf\n",
      "Info:    SpaceTimeRRT: Starting planning with 1 states already in datastructure\n",
      "Info:    SpaceTimeRRT: Starting planning with time bound factor 2.00\n",
      "Planning for agent 9/30\n",
      "Info:    SpaceTimeRRT: Created 39 states (16 start + 23 goal)\n",
      "Debug:   SpaceTimeRRT: Planner range detected to be inf\n",
      "Info:    SpaceTimeRRT: Starting planning with 1 states already in datastructure\n",
      "Info:    SpaceTimeRRT: Starting planning with time bound factor 2.00\n"
     ]
    },
    {
     "name": "stderr",
     "output_type": "stream",
     "text": [
      "Warning: State validity checker not set! No collision checking is performed\n",
      "         at line 63 in /Users/tianpengzhang/Desktop/ompl/src/ompl/base/src/SpaceInformation.cpp\n",
      "Warning: State validity checker not set! No collision checking is performed\n",
      "         at line 63 in /Users/tianpengzhang/Desktop/ompl/src/ompl/base/src/SpaceInformation.cpp\n"
     ]
    },
    {
     "name": "stdout",
     "output_type": "stream",
     "text": [
      "Planning for agent 10/30Info:    SpaceTimeRRT: Created 65 states (26 start + 39 goal)\n",
      "\n",
      "Debug:   SpaceTimeRRT: Planner range detected to be inf\n",
      "Info:    SpaceTimeRRT: Starting planning with 1 states already in datastructure\n",
      "Info:    SpaceTimeRRT: Starting planning with time bound factor 2.00\n"
     ]
    },
    {
     "name": "stderr",
     "output_type": "stream",
     "text": [
      "Warning: State validity checker not set! No collision checking is performed\n",
      "         at line 63 in /Users/tianpengzhang/Desktop/ompl/src/ompl/base/src/SpaceInformation.cpp\n"
     ]
    },
    {
     "name": "stdout",
     "output_type": "stream",
     "text": [
      "Planning for agent 11/30Info:    SpaceTimeRRT: Created 173 states (73 start + 100 goal)\n",
      "\n",
      "Debug:   SpaceTimeRRT: Planner range detected to be inf\n",
      "Info:    SpaceTimeRRT: Starting planning with 1 states already in datastructure\n",
      "Info:    SpaceTimeRRT: Starting planning with time bound factor 2.00\n"
     ]
    },
    {
     "name": "stderr",
     "output_type": "stream",
     "text": [
      "Warning: State validity checker not set! No collision checking is performed\n",
      "         at line 63 in /Users/tianpengzhang/Desktop/ompl/src/ompl/base/src/SpaceInformation.cpp\n"
     ]
    },
    {
     "name": "stdout",
     "output_type": "stream",
     "text": [
      "Planning for agent 12/30Info:    SpaceTimeRRT: Created 93 states (37 start + 56 goal)\n",
      "\n",
      "Debug:   SpaceTimeRRT: Planner range detected to be inf\n",
      "Info:    SpaceTimeRRT: Starting planning with 1 states already in datastructure\n",
      "Info:    SpaceTimeRRT: Starting planning with time bound factor 2.00\n",
      "Planning for agent 13/30\n",
      "Info:    SpaceTimeRRT: Created 26 states (16 start + 10 goal)\n",
      "Debug:   SpaceTimeRRT: Planner range detected to be inf\n",
      "Info:    SpaceTimeRRT: Starting planning with 1 states already in datastructure\n",
      "Info:    SpaceTimeRRT: Starting planning with time bound factor 2.00\n"
     ]
    },
    {
     "name": "stderr",
     "output_type": "stream",
     "text": [
      "Warning: State validity checker not set! No collision checking is performed\n",
      "         at line 63 in /Users/tianpengzhang/Desktop/ompl/src/ompl/base/src/SpaceInformation.cpp\n",
      "Warning: State validity checker not set! No collision checking is performed\n",
      "         at line 63 in /Users/tianpengzhang/Desktop/ompl/src/ompl/base/src/SpaceInformation.cpp\n"
     ]
    },
    {
     "name": "stdout",
     "output_type": "stream",
     "text": [
      "Planning for agent 14/30Info:    SpaceTimeRRT: Created 33 states (20 start + 13 goal)\n",
      "\n",
      "Debug:   SpaceTimeRRT: Planner range detected to be inf\n",
      "Info:    SpaceTimeRRT: Starting planning with 1 states already in datastructure\n",
      "Info:    SpaceTimeRRT: Starting planning with time bound factor 2.00\n",
      "Planning for agent 15/30\n",
      "Info:    SpaceTimeRRT: Created 27 states (14 start + 13 goal)\n",
      "Debug:   SpaceTimeRRT: Planner range detected to be inf\n",
      "Info:    SpaceTimeRRT: Starting planning with 1 states already in datastructure\n",
      "Info:    SpaceTimeRRT: Starting planning with time bound factor 2.00\n"
     ]
    },
    {
     "name": "stderr",
     "output_type": "stream",
     "text": [
      "Warning: State validity checker not set! No collision checking is performed\n",
      "         at line 63 in /Users/tianpengzhang/Desktop/ompl/src/ompl/base/src/SpaceInformation.cpp\n",
      "Warning: State validity checker not set! No collision checking is performed\n",
      "         at line 63 in /Users/tianpengzhang/Desktop/ompl/src/ompl/base/src/SpaceInformation.cpp\n"
     ]
    },
    {
     "name": "stdout",
     "output_type": "stream",
     "text": [
      "Info:    SpaceTimeRRT: Increased time bound factor to 4.00\n",
      "Planning for agent 16/30\n",
      "Info:    SpaceTimeRRT: Created 537 states (240 start + 297 goal)\n",
      "Debug:   SpaceTimeRRT: Planner range detected to be inf\n",
      "Info:    SpaceTimeRRT: Starting planning with 1 states already in datastructure\n",
      "Info:    SpaceTimeRRT: Starting planning with time bound factor 2.00\n"
     ]
    },
    {
     "name": "stderr",
     "output_type": "stream",
     "text": [
      "Warning: State validity checker not set! No collision checking is performed\n",
      "         at line 63 in /Users/tianpengzhang/Desktop/ompl/src/ompl/base/src/SpaceInformation.cpp\n"
     ]
    },
    {
     "name": "stdout",
     "output_type": "stream",
     "text": [
      "Planning for agent 17/30Info:    SpaceTimeRRT: Created 226 states (92 start + 134 goal)\n",
      "\n",
      "Debug:   SpaceTimeRRT: Planner range detected to be inf\n",
      "Info:    SpaceTimeRRT: Starting planning with 1 states already in datastructure\n",
      "Info:    SpaceTimeRRT: Starting planning with time bound factor 2.00\n"
     ]
    },
    {
     "name": "stderr",
     "output_type": "stream",
     "text": [
      "Warning: State validity checker not set! No collision checking is performed\n",
      "         at line 63 in /Users/tianpengzhang/Desktop/ompl/src/ompl/base/src/SpaceInformation.cpp\n"
     ]
    },
    {
     "name": "stdout",
     "output_type": "stream",
     "text": [
      "Info:    SpaceTimeRRT: Increased time bound factor to 4.00\n",
      "Planning for agent 18/30Info:    SpaceTimeRRT: Created 590 states (263 start + 327 goal)\n",
      "\n",
      "Debug:   SpaceTimeRRT: Planner range detected to be inf\n",
      "Info:    SpaceTimeRRT: Starting planning with 1 states already in datastructure\n",
      "Info:    SpaceTimeRRT: Starting planning with time bound factor 2.00\n"
     ]
    },
    {
     "name": "stderr",
     "output_type": "stream",
     "text": [
      "Warning: State validity checker not set! No collision checking is performed\n",
      "         at line 63 in /Users/tianpengzhang/Desktop/ompl/src/ompl/base/src/SpaceInformation.cpp\n"
     ]
    },
    {
     "name": "stdout",
     "output_type": "stream",
     "text": [
      "Info:    SpaceTimeRRT: Increased time bound factor to 4.00\n",
      "Planning for agent 19/30Info:    SpaceTimeRRT: Created 554 states (214 start + 340 goal)\n",
      "\n",
      "Debug:   SpaceTimeRRT: Planner range detected to be inf\n",
      "Info:    SpaceTimeRRT: Starting planning with 1 states already in datastructure\n",
      "Info:    SpaceTimeRRT: Starting planning with time bound factor 2.00\n"
     ]
    },
    {
     "name": "stderr",
     "output_type": "stream",
     "text": [
      "Warning: State validity checker not set! No collision checking is performed\n",
      "         at line 63 in /Users/tianpengzhang/Desktop/ompl/src/ompl/base/src/SpaceInformation.cpp\n"
     ]
    },
    {
     "name": "stdout",
     "output_type": "stream",
     "text": [
      "Info:    SpaceTimeRRT: Increased time bound factor to 4.00\n",
      "Planning for agent 20/30\n",
      "Info:    SpaceTimeRRT: Created 521 states (218 start + 303 goal)\n",
      "Debug:   SpaceTimeRRT: Planner range detected to be inf\n",
      "Info:    SpaceTimeRRT: Starting planning with 1 states already in datastructure\n",
      "Info:    SpaceTimeRRT: Starting planning with time bound factor 2.00\n"
     ]
    },
    {
     "name": "stderr",
     "output_type": "stream",
     "text": [
      "Warning: State validity checker not set! No collision checking is performed\n",
      "         at line 63 in /Users/tianpengzhang/Desktop/ompl/src/ompl/base/src/SpaceInformation.cpp\n"
     ]
    },
    {
     "name": "stdout",
     "output_type": "stream",
     "text": [
      "Info:    SpaceTimeRRT: Increased time bound factor to 4.00\n",
      "Planning for agent 21/30Info:    SpaceTimeRRT: Created 712 states (300 start + 412 goal)\n",
      "\n",
      "Debug:   SpaceTimeRRT: Planner range detected to be inf\n",
      "Info:    SpaceTimeRRT: Starting planning with 1 states already in datastructure\n",
      "Info:    SpaceTimeRRT: Starting planning with time bound factor 2.00\n"
     ]
    },
    {
     "name": "stderr",
     "output_type": "stream",
     "text": [
      "Warning: State validity checker not set! No collision checking is performed\n",
      "         at line 63 in /Users/tianpengzhang/Desktop/ompl/src/ompl/base/src/SpaceInformation.cpp\n"
     ]
    },
    {
     "name": "stdout",
     "output_type": "stream",
     "text": [
      "Info:    SpaceTimeRRT: Increased time bound factor to 4.00\n",
      "Planning for agent 22/30Info:    SpaceTimeRRT: Created 694 states (289 start + 405 goal)\n",
      "\n",
      "Debug:   SpaceTimeRRT: Planner range detected to be inf\n",
      "Info:    SpaceTimeRRT: Starting planning with 1 states already in datastructure\n",
      "Info:    SpaceTimeRRT: Starting planning with time bound factor 2.00\n"
     ]
    },
    {
     "name": "stderr",
     "output_type": "stream",
     "text": [
      "Warning: State validity checker not set! No collision checking is performed\n",
      "         at line 63 in /Users/tianpengzhang/Desktop/ompl/src/ompl/base/src/SpaceInformation.cpp\n"
     ]
    },
    {
     "name": "stdout",
     "output_type": "stream",
     "text": [
      "Info:    SpaceTimeRRT: Increased time bound factor to 4.00\n",
      "Planning for agent 23/30Info:    SpaceTimeRRT: Created 826 states (293 start + 533 goal)\n",
      "\n",
      "Debug:   SpaceTimeRRT: Planner range detected to be inf\n",
      "Info:    SpaceTimeRRT: Starting planning with 1 states already in datastructure\n",
      "Info:    SpaceTimeRRT: Starting planning with time bound factor 2.00\n"
     ]
    },
    {
     "name": "stderr",
     "output_type": "stream",
     "text": [
      "Warning: State validity checker not set! No collision checking is performed\n",
      "         at line 63 in /Users/tianpengzhang/Desktop/ompl/src/ompl/base/src/SpaceInformation.cpp\n"
     ]
    },
    {
     "name": "stdout",
     "output_type": "stream",
     "text": [
      "Info:    SpaceTimeRRT: Increased time bound factor to 4.00\n",
      "Planning for agent 24/30Info:    SpaceTimeRRT: Created 1236 states (519 start + 717 goal)\n",
      "\n",
      "Debug:   SpaceTimeRRT: Planner range detected to be inf\n",
      "Info:    SpaceTimeRRT: Starting planning with 1 states already in datastructure\n",
      "Info:    SpaceTimeRRT: Starting planning with time bound factor 2.00\n"
     ]
    },
    {
     "name": "stderr",
     "output_type": "stream",
     "text": [
      "Warning: State validity checker not set! No collision checking is performed\n",
      "         at line 63 in /Users/tianpengzhang/Desktop/ompl/src/ompl/base/src/SpaceInformation.cpp\n"
     ]
    },
    {
     "name": "stdout",
     "output_type": "stream",
     "text": [
      "Info:    SpaceTimeRRT: Increased time bound factor to 4.00\n",
      "Info:    SpaceTimeRRT: Increased time bound factor to 8.00\n",
      "Planning for agent 25/30\n",
      "Info:    SpaceTimeRRT: Created 1542 states (991 start + 551 goal)\n",
      "Debug:   SpaceTimeRRT: Planner range detected to be inf\n",
      "Info:    SpaceTimeRRT: Starting planning with 1 states already in datastructure\n",
      "Info:    SpaceTimeRRT: Starting planning with time bound factor 2.00\n"
     ]
    },
    {
     "name": "stderr",
     "output_type": "stream",
     "text": [
      "Warning: State validity checker not set! No collision checking is performed\n",
      "         at line 63 in /Users/tianpengzhang/Desktop/ompl/src/ompl/base/src/SpaceInformation.cpp\n"
     ]
    },
    {
     "name": "stdout",
     "output_type": "stream",
     "text": [
      "Info:    SpaceTimeRRT: Increased time bound factor to 4.00\n",
      "Planning for agent 26/30Info:    SpaceTimeRRT: Created 604 states (237 start + 367 goal)\n",
      "\n",
      "Debug:   SpaceTimeRRT: Planner range detected to be inf\n",
      "Info:    SpaceTimeRRT: Starting planning with 1 states already in datastructure\n",
      "Info:    SpaceTimeRRT: Starting planning with time bound factor 2.00\n"
     ]
    },
    {
     "name": "stderr",
     "output_type": "stream",
     "text": [
      "Warning: State validity checker not set! No collision checking is performed\n",
      "         at line 63 in /Users/tianpengzhang/Desktop/ompl/src/ompl/base/src/SpaceInformation.cpp\n"
     ]
    },
    {
     "name": "stdout",
     "output_type": "stream",
     "text": [
      "Info:    SpaceTimeRRT: Increased time bound factor to 4.00\n",
      "Planning for agent 27/30Info:    SpaceTimeRRT: Created 553 states (225 start + 328 goal)\n",
      "\n",
      "Debug:   SpaceTimeRRT: Planner range detected to be inf\n",
      "Info:    SpaceTimeRRT: Starting planning with 1 states already in datastructure\n",
      "Info:    SpaceTimeRRT: Starting planning with time bound factor 2.00\n"
     ]
    },
    {
     "name": "stderr",
     "output_type": "stream",
     "text": [
      "Warning: State validity checker not set! No collision checking is performed\n",
      "         at line 63 in /Users/tianpengzhang/Desktop/ompl/src/ompl/base/src/SpaceInformation.cpp\n"
     ]
    },
    {
     "name": "stdout",
     "output_type": "stream",
     "text": [
      "Algorithm timeout\n",
      "Timeout\n",
      "Time out for algorithm ST-RRT* N agent =  30\n"
     ]
    }
   ],
   "source": [
    "# results,executed = get_checkpoint_state(env_name,algs,N_range,first_run = True)\n",
    "\n",
    "results,executed = get_checkpoint_state(env_name,algs,N_range)\n",
    "run_experiments(env_name,\n",
    "                env_info[env_name],\n",
    "                N_range,\n",
    "                algs,\n",
    "                TIMEOUT,\n",
    "                results,\n",
    "                executed)"
   ]
  },
  {
   "cell_type": "code",
   "execution_count": 16,
   "id": "055da0ca",
   "metadata": {},
   "outputs": [],
   "source": [
    "env_name = 'SingleTunnel'\n",
    "SEED = 13981\n",
    "np.random.seed(SEED)  # Fix the random seed\n",
    "max_N = 40\n",
    "N_range = np.arange(1,max_N+1)"
   ]
  },
  {
   "cell_type": "code",
   "execution_count": 17,
   "id": "68c14bd8",
   "metadata": {},
   "outputs": [
    {
     "name": "stdout",
     "output_type": "stream",
     "text": [
      "Env: SingleTunnel Alg: Seq_Tube N agent: 1\n",
      "Planning for agent 0/1\n",
      "On time for algorithm Seq_Tube N agent =  1\n",
      "Env: SingleTunnel Alg: Seq_Tube_nonLazy N agent: 1\n",
      "Planning for agent 0/1\n",
      "On time for algorithm Seq_Tube_nonLazy N agent =  1\n",
      "Env: SingleTunnel Alg: Seq_S2M2 N agent: 1\n",
      "Planning for agent 0/1\n",
      "On time for algorithm Seq_S2M2 N agent =  1\n",
      "Env: SingleTunnel Alg: ST-RRT* N agent: 1\n",
      "Planning for agent 0/1\n",
      "Debug:   SpaceTimeRRT: Planner range detected to be inf\n",
      "Info:    SpaceTimeRRT: Starting planning with 1 states already in datastructure\n",
      "Info:    SpaceTimeRRT: Starting planning with time bound factor 2.00\n"
     ]
    },
    {
     "name": "stderr",
     "output_type": "stream",
     "text": [
      "Warning: State validity checker not set! No collision checking is performed\n",
      "         at line 63 in /Users/tianpengzhang/Desktop/ompl/src/ompl/base/src/SpaceInformation.cpp\n"
     ]
    },
    {
     "name": "stdout",
     "output_type": "stream",
     "text": [
      "Info:    SpaceTimeRRT: Created 155 states (61 start + 94 goal)\n",
      "On time for algorithm ST-RRT* N agent =  1\n",
      "Env: SingleTunnel Alg: Seq_Tube N agent: 2\n",
      "Planning for agent 0/2\n",
      "Planning for agent 1/2\n",
      "On time for algorithm Seq_Tube N agent =  2\n",
      "Env: SingleTunnel Alg: Seq_Tube_nonLazy N agent: 2\n",
      "Planning for agent 0/2\n",
      "Planning for agent 1/2\n",
      "On time for algorithm Seq_Tube_nonLazy N agent =  2\n",
      "Env: SingleTunnel Alg: Seq_S2M2 N agent: 2\n",
      "Planning for agent 0/2\n",
      "Planning for agent 1/2\n",
      "On time for algorithm Seq_S2M2 N agent =  2\n",
      "Env: SingleTunnel Alg: ST-RRT* N agent: 2\n",
      "Planning for agent 0/2\n",
      "Debug:   SpaceTimeRRT: Planner range detected to be inf\n",
      "Info:    SpaceTimeRRT: Starting planning with 1 states already in datastructure\n",
      "Info:    SpaceTimeRRT: Starting planning with time bound factor 2.00\n",
      "Planning for agent 1/2\n",
      "Info:    SpaceTimeRRT: Created 86 states (39 start + 47 goal)\n",
      "Debug:   SpaceTimeRRT: Planner range detected to be inf\n",
      "Info:    SpaceTimeRRT: Starting planning with 1 states already in datastructure\n",
      "Info:    SpaceTimeRRT: Starting planning with time bound factor 2.00\n"
     ]
    },
    {
     "name": "stderr",
     "output_type": "stream",
     "text": [
      "Warning: State validity checker not set! No collision checking is performed\n",
      "         at line 63 in /Users/tianpengzhang/Desktop/ompl/src/ompl/base/src/SpaceInformation.cpp\n",
      "Warning: State validity checker not set! No collision checking is performed\n",
      "         at line 63 in /Users/tianpengzhang/Desktop/ompl/src/ompl/base/src/SpaceInformation.cpp\n"
     ]
    },
    {
     "name": "stdout",
     "output_type": "stream",
     "text": [
      "On time for algorithmInfo:    SpaceTimeRRT: Created 231 states (103 start + 128 goal)\n",
      " ST-RRT* N agent =  2\n",
      "Env: SingleTunnel Alg: Seq_Tube N agent: 3\n",
      "Planning for agent 0/3\n",
      "Planning for agent 1/3\n",
      "Planning for agent 2/3\n",
      "On time for algorithm Seq_Tube N agent =  3\n",
      "Env: SingleTunnel Alg: Seq_Tube_nonLazy N agent: 3\n",
      "Planning for agent 0/3\n",
      "Planning for agent 1/3\n",
      "Planning for agent 2/3\n",
      "On time for algorithm Seq_Tube_nonLazy N agent =  3\n",
      "Env: SingleTunnel Alg: Seq_S2M2 N agent: 3\n",
      "Planning for agent 0/3\n",
      "Planning for agent 1/3\n",
      "Planning for agent 2/3\n",
      "On time for algorithm Seq_S2M2 N agent =  3\n",
      "Env: SingleTunnel Alg: ST-RRT* N agent: 3\n",
      "Planning for agent 0/3\n",
      "Debug:   SpaceTimeRRT: Planner range detected to be inf\n",
      "Info:    SpaceTimeRRT: Starting planning with 1 states already in datastructure\n",
      "Info:    SpaceTimeRRT: Starting planning with time bound factor 2.00\n"
     ]
    },
    {
     "name": "stderr",
     "output_type": "stream",
     "text": [
      "Warning: State validity checker not set! No collision checking is performed\n",
      "         at line 63 in /Users/tianpengzhang/Desktop/ompl/src/ompl/base/src/SpaceInformation.cpp\n"
     ]
    },
    {
     "name": "stdout",
     "output_type": "stream",
     "text": [
      "Planning for agent 1/3Info:    SpaceTimeRRT: Created 278 states (122 start + 156 goal)\n",
      "\n",
      "Debug:   SpaceTimeRRT: Planner range detected to be inf\n",
      "Info:    SpaceTimeRRT: Starting planning with 1 states already in datastructure\n",
      "Info:    SpaceTimeRRT: Starting planning with time bound factor 2.00\n"
     ]
    },
    {
     "name": "stderr",
     "output_type": "stream",
     "text": [
      "Warning: State validity checker not set! No collision checking is performed\n",
      "         at line 63 in /Users/tianpengzhang/Desktop/ompl/src/ompl/base/src/SpaceInformation.cpp\n"
     ]
    },
    {
     "name": "stdout",
     "output_type": "stream",
     "text": [
      "Planning for agent 2/3Info:    SpaceTimeRRT: Created 403 states (177 start + 226 goal)\n",
      "\n",
      "Debug:   SpaceTimeRRT: Planner range detected to be inf\n",
      "Info:    SpaceTimeRRT: Starting planning with 1 states already in datastructure\n",
      "Info:    SpaceTimeRRT: Starting planning with time bound factor 2.00\n"
     ]
    },
    {
     "name": "stderr",
     "output_type": "stream",
     "text": [
      "Warning: State validity checker not set! No collision checking is performed\n",
      "         at line 63 in /Users/tianpengzhang/Desktop/ompl/src/ompl/base/src/SpaceInformation.cpp\n"
     ]
    },
    {
     "name": "stdout",
     "output_type": "stream",
     "text": [
      "Info:    SpaceTimeRRT: Increased time bound factor to 4.00\n",
      "On time for algorithm ST-RRT* N agent =  3\n",
      "Info:    SpaceTimeRRT: Created 579 states (263 start + 316 goal)\n",
      "Env: SingleTunnel Alg: Seq_Tube N agent: 4\n",
      "Planning for agent 0/4\n",
      "Planning for agent 1/4\n",
      "Planning for agent 2/4\n",
      "Planning for agent 3/4\n",
      "On time for algorithm Seq_Tube N agent =  4\n",
      "Env: SingleTunnel Alg: Seq_Tube_nonLazy N agent: 4\n",
      "Planning for agent 0/4\n",
      "Planning for agent 1/4\n",
      "Planning for agent 2/4\n",
      "Planning for agent 3/4\n",
      "On time for algorithm Seq_Tube_nonLazy N agent =  4\n",
      "Env: SingleTunnel Alg: Seq_S2M2 N agent: 4\n",
      "Planning for agent 0/4\n",
      "Planning for agent 1/4\n",
      "Planning for agent 2/4\n",
      "On time for algorithm Seq_S2M2 N agent =  4\n",
      "Env: SingleTunnel Alg: ST-RRT* N agent: 4\n",
      "Planning for agent 0/4\n",
      "Debug:   SpaceTimeRRT: Planner range detected to be inf\n",
      "Info:    SpaceTimeRRT: Starting planning with 1 states already in datastructure\n",
      "Info:    SpaceTimeRRT: Starting planning with time bound factor 2.00\n",
      "Planning for agent 1/4\n",
      "Info:    SpaceTimeRRT: Created 139 states (72 start + 67 goal)\n",
      "Debug:   SpaceTimeRRT: Planner range detected to be inf\n",
      "Info:    SpaceTimeRRT: Starting planning with 1 states already in datastructure\n",
      "Info:    SpaceTimeRRT: Starting planning with time bound factor 2.00\n"
     ]
    },
    {
     "name": "stderr",
     "output_type": "stream",
     "text": [
      "Warning: State validity checker not set! No collision checking is performed\n",
      "         at line 63 in /Users/tianpengzhang/Desktop/ompl/src/ompl/base/src/SpaceInformation.cpp\n",
      "Warning: State validity checker not set! No collision checking is performed\n",
      "         at line 63 in /Users/tianpengzhang/Desktop/ompl/src/ompl/base/src/SpaceInformation.cpp\n"
     ]
    },
    {
     "name": "stdout",
     "output_type": "stream",
     "text": [
      "Planning for agent 2/4Info:    SpaceTimeRRT: Created 285 states (122 start + 163 goal)\n",
      "\n",
      "Debug:   SpaceTimeRRT: Planner range detected to be inf\n",
      "Info:    SpaceTimeRRT: Starting planning with 1 states already in datastructure\n",
      "Info:    SpaceTimeRRT: Starting planning with time bound factor 2.00\n"
     ]
    },
    {
     "name": "stderr",
     "output_type": "stream",
     "text": [
      "Warning: State validity checker not set! No collision checking is performed\n",
      "         at line 63 in /Users/tianpengzhang/Desktop/ompl/src/ompl/base/src/SpaceInformation.cpp\n"
     ]
    },
    {
     "name": "stdout",
     "output_type": "stream",
     "text": [
      "Info:    SpaceTimeRRT: Increased time bound factor to 4.00\n",
      "Planning for agent 3/4\n",
      "Info:    SpaceTimeRRT: Created 525 states (250 start + 275 goal)\n",
      "Debug:   SpaceTimeRRT: Planner range detected to be inf\n",
      "Info:    SpaceTimeRRT: Starting planning with 1 states already in datastructure\n",
      "Info:    SpaceTimeRRT: Starting planning with time bound factor 2.00\n"
     ]
    },
    {
     "name": "stderr",
     "output_type": "stream",
     "text": [
      "Warning: State validity checker not set! No collision checking is performed\n",
      "         at line 63 in /Users/tianpengzhang/Desktop/ompl/src/ompl/base/src/SpaceInformation.cpp\n"
     ]
    },
    {
     "name": "stdout",
     "output_type": "stream",
     "text": [
      "On time for algorithmInfo:    SpaceTimeRRT: Created 273 states (134 start + 139 goal)\n",
      " ST-RRT* N agent =  4\n",
      "Env: SingleTunnel Alg: Seq_Tube N agent: 5\n",
      "Planning for agent 0/5\n",
      "Planning for agent 1/5\n",
      "Planning for agent 2/5\n",
      "Planning for agent 3/5\n",
      "Planning for agent 4/5\n",
      "On time for algorithm Seq_Tube N agent =  5\n",
      "Env: SingleTunnel Alg: Seq_Tube_nonLazy N agent: 5\n",
      "Planning for agent 0/5\n",
      "Planning for agent 1/5\n",
      "Planning for agent 2/5\n",
      "Planning for agent 3/5\n",
      "Planning for agent 4/5\n",
      "On time for algorithm Seq_Tube_nonLazy N agent =  5\n",
      "Env: SingleTunnel Alg: Seq_S2M2 N agent: 5\n",
      "Planning for agent 0/5\n",
      "Planning for agent 1/5\n",
      "Planning for agent 2/5\n",
      "On time for algorithm Seq_S2M2 N agent =  5\n",
      "Env: SingleTunnel Alg: ST-RRT* N agent: 5\n",
      "Planning for agent 0/5\n",
      "Debug:   SpaceTimeRRT: Planner range detected to be inf\n",
      "Info:    SpaceTimeRRT: Starting planning with 1 states already in datastructure\n",
      "Info:    SpaceTimeRRT: Starting planning with time bound factor 2.00\n",
      "Planning for agent 1/5\n",
      "Info:    SpaceTimeRRT: Created 120 states (39 start + 81 goal)\n",
      "Debug:   SpaceTimeRRT: Planner range detected to be inf\n",
      "Info:    SpaceTimeRRT: Starting planning with 1 states already in datastructure\n",
      "Info:    SpaceTimeRRT: Starting planning with time bound factor 2.00\n"
     ]
    },
    {
     "name": "stderr",
     "output_type": "stream",
     "text": [
      "Warning: State validity checker not set! No collision checking is performed\n",
      "         at line 63 in /Users/tianpengzhang/Desktop/ompl/src/ompl/base/src/SpaceInformation.cpp\n",
      "Warning: State validity checker not set! No collision checking is performed\n",
      "         at line 63 in /Users/tianpengzhang/Desktop/ompl/src/ompl/base/src/SpaceInformation.cpp\n"
     ]
    },
    {
     "name": "stdout",
     "output_type": "stream",
     "text": [
      "Planning for agent 2/5Info:    SpaceTimeRRT: Created 137 states (62 start + 75 goal)\n",
      "\n",
      "Debug:   SpaceTimeRRT: Planner range detected to be inf\n",
      "Info:    SpaceTimeRRT: Starting planning with 1 states already in datastructure\n",
      "Info:    SpaceTimeRRT: Starting planning with time bound factor 2.00\n"
     ]
    },
    {
     "name": "stderr",
     "output_type": "stream",
     "text": [
      "Warning: State validity checker not set! No collision checking is performed\n",
      "         at line 63 in /Users/tianpengzhang/Desktop/ompl/src/ompl/base/src/SpaceInformation.cpp\n"
     ]
    },
    {
     "name": "stdout",
     "output_type": "stream",
     "text": [
      "Info:    SpaceTimeRRT: Increased time bound factor to 4.00\n",
      "Planning for agent 3/5\n",
      "Info:    SpaceTimeRRT: Created 564 states (264 start + 300 goal)\n",
      "Debug:   SpaceTimeRRT: Planner range detected to be inf\n",
      "Info:    SpaceTimeRRT: Starting planning with 1 states already in datastructure\n",
      "Info:    SpaceTimeRRT: Starting planning with time bound factor 2.00\n"
     ]
    },
    {
     "name": "stderr",
     "output_type": "stream",
     "text": [
      "Warning: State validity checker not set! No collision checking is performed\n",
      "         at line 63 in /Users/tianpengzhang/Desktop/ompl/src/ompl/base/src/SpaceInformation.cpp\n"
     ]
    },
    {
     "name": "stdout",
     "output_type": "stream",
     "text": [
      "Info:    SpaceTimeRRT: Increased time bound factor to 4.00\n",
      "Planning for agent 4/5Info:    SpaceTimeRRT: Created 950 states (581 start + 369 goal)\n",
      "\n",
      "Debug:   SpaceTimeRRT: Planner range detected to be inf\n",
      "Info:    SpaceTimeRRT: Starting planning with 1 states already in datastructure\n",
      "Info:    SpaceTimeRRT: Starting planning with time bound factor 2.00\n"
     ]
    },
    {
     "name": "stderr",
     "output_type": "stream",
     "text": [
      "Warning: State validity checker not set! No collision checking is performed\n",
      "         at line 63 in /Users/tianpengzhang/Desktop/ompl/src/ompl/base/src/SpaceInformation.cpp\n"
     ]
    },
    {
     "name": "stdout",
     "output_type": "stream",
     "text": [
      "Info:    SpaceTimeRRT: Increased time bound factor to 4.00\n",
      "On time for algorithmInfo:    SpaceTimeRRT: Created 1027 states (463 start + 564 goal)\n",
      " ST-RRT* N agent =  5\n",
      "Env: SingleTunnel Alg: Seq_Tube N agent: 6\n",
      "Planning for agent 0/6\n",
      "Planning for agent 1/6\n",
      "Planning for agent 2/6\n",
      "Planning for agent 3/6\n",
      "Planning for agent 4/6\n",
      "Planning for agent 5/6\n",
      "On time for algorithm Seq_Tube N agent =  6\n",
      "Env: SingleTunnel Alg: Seq_Tube_nonLazy N agent: 6\n",
      "Planning for agent 0/6\n",
      "Planning for agent 1/6\n",
      "Planning for agent 2/6\n",
      "Planning for agent 3/6\n",
      "Planning for agent 4/6\n",
      "Planning for agent 5/6\n",
      "On time for algorithm Seq_Tube_nonLazy N agent =  6\n",
      "Env: SingleTunnel Alg: Seq_S2M2 N agent: 6\n",
      "Planning for agent 0/6\n",
      "Planning for agent 1/6\n",
      "Planning for agent 2/6\n",
      "On time for algorithm Seq_S2M2 N agent =  6\n",
      "Env: SingleTunnel Alg: ST-RRT* N agent: 6\n",
      "Planning for agent 0/6\n",
      "Debug:   SpaceTimeRRT: Planner range detected to be inf\n",
      "Info:    SpaceTimeRRT: Starting planning with 1 states already in datastructure\n",
      "Info:    SpaceTimeRRT: Starting planning with time bound factor 2.00\n",
      "Planning for agent 1/6\n",
      "Info:    SpaceTimeRRT: Created 136 states (53 start + 83 goal)\n",
      "Debug:   SpaceTimeRRT: Planner range detected to be inf\n",
      "Info:    SpaceTimeRRT: Starting planning with 1 states already in datastructure\n",
      "Info:    SpaceTimeRRT: Starting planning with time bound factor 2.00\n",
      "Planning for agent 2/6\n"
     ]
    },
    {
     "name": "stderr",
     "output_type": "stream",
     "text": [
      "Warning: State validity checker not set! No collision checking is performed\n",
      "         at line 63 in /Users/tianpengzhang/Desktop/ompl/src/ompl/base/src/SpaceInformation.cpp\n",
      "Warning: State validity checker not set! No collision checking is performed\n",
      "         at line 63 in /Users/tianpengzhang/Desktop/ompl/src/ompl/base/src/SpaceInformation.cpp\n",
      "Warning: State validity checker not set! No collision checking is performed\n",
      "         at line 63 in /Users/tianpengzhang/Desktop/ompl/src/ompl/base/src/SpaceInformation.cpp\n"
     ]
    },
    {
     "name": "stdout",
     "output_type": "stream",
     "text": [
      "Info:    SpaceTimeRRT: Created 39 states (16 start + 23 goal)\n",
      "Debug:   SpaceTimeRRT: Planner range detected to be inf\n",
      "Info:    SpaceTimeRRT: Starting planning with 1 states already in datastructure\n",
      "Info:    SpaceTimeRRT: Starting planning with time bound factor 2.00\n",
      "Planning for agent 3/6Info:    SpaceTimeRRT: Created 228 states (97 start + 131 goal)\n",
      "\n",
      "Debug:   SpaceTimeRRT: Planner range detected to be inf\n",
      "Info:    SpaceTimeRRT: Starting planning with 1 states already in datastructure\n",
      "Info:    SpaceTimeRRT: Starting planning with time bound factor 2.00\n",
      "Planning for agent 4/6\n",
      "Info:    SpaceTimeRRT: Created 46 states (25 start + 21 goal)\n",
      "Debug:   SpaceTimeRRT: Planner range detected to be inf\n",
      "Info:    SpaceTimeRRT: Starting planning with 1 states already in datastructure\n",
      "Info:    SpaceTimeRRT: Starting planning with time bound factor 2.00\n"
     ]
    },
    {
     "name": "stderr",
     "output_type": "stream",
     "text": [
      "Warning: State validity checker not set! No collision checking is performed\n",
      "         at line 63 in /Users/tianpengzhang/Desktop/ompl/src/ompl/base/src/SpaceInformation.cpp\n",
      "Warning: State validity checker not set! No collision checking is performed\n",
      "         at line 63 in /Users/tianpengzhang/Desktop/ompl/src/ompl/base/src/SpaceInformation.cpp\n"
     ]
    },
    {
     "name": "stdout",
     "output_type": "stream",
     "text": [
      "Planning for agent 5/6Info:    SpaceTimeRRT: Created 301 states (133 start + 168 goal)\n",
      "\n",
      "Debug:   SpaceTimeRRT: Planner range detected to be inf\n",
      "Info:    SpaceTimeRRT: Starting planning with 1 states already in datastructure\n",
      "Info:    SpaceTimeRRT: Starting planning with time bound factor 2.00\n"
     ]
    },
    {
     "name": "stderr",
     "output_type": "stream",
     "text": [
      "Warning: State validity checker not set! No collision checking is performed\n",
      "         at line 63 in /Users/tianpengzhang/Desktop/ompl/src/ompl/base/src/SpaceInformation.cpp\n"
     ]
    },
    {
     "name": "stdout",
     "output_type": "stream",
     "text": [
      "On time for algorithmInfo:    SpaceTimeRRT: Created 196 states (94 start + 102 goal)\n",
      " ST-RRT* N agent =  6\n",
      "Env: SingleTunnel Alg: Seq_Tube N agent: 7\n",
      "Planning for agent 0/7\n",
      "Planning for agent 1/7\n",
      "Planning for agent 2/7\n",
      "Planning for agent 3/7\n",
      "Planning for agent 4/7\n",
      "Planning for agent 5/7\n",
      "Planning for agent 6/7\n",
      "On time for algorithm Seq_Tube N agent =  7\n",
      "Env: SingleTunnel Alg: Seq_Tube_nonLazy N agent: 7\n",
      "Planning for agent 0/7\n",
      "Planning for agent 1/7\n",
      "Planning for agent 2/7\n",
      "Planning for agent 3/7\n",
      "Planning for agent 4/7\n",
      "Planning for agent 5/7\n",
      "Planning for agent 6/7\n",
      "On time for algorithm Seq_Tube_nonLazy N agent =  7\n",
      "Env: SingleTunnel Alg: Seq_S2M2 N agent: 7\n",
      "Planning for agent 0/7\n",
      "Planning for agent 1/7\n",
      "Planning for agent 2/7\n",
      "On time for algorithm Seq_S2M2 N agent =  7\n",
      "Env: SingleTunnel Alg: ST-RRT* N agent: 7\n",
      "Planning for agent 0/7\n",
      "Debug:   SpaceTimeRRT: Planner range detected to be inf\n",
      "Info:    SpaceTimeRRT: Starting planning with 1 states already in datastructure\n",
      "Info:    SpaceTimeRRT: Starting planning with time bound factor 2.00\n",
      "Planning for agent 1/7\n",
      "Info:    SpaceTimeRRT: Created 93 states (44 start + 49 goal)\n",
      "Debug:   SpaceTimeRRT: Planner range detected to be inf\n",
      "Info:    SpaceTimeRRT: Starting planning with 1 states already in datastructure\n",
      "Info:    SpaceTimeRRT: Starting planning with time bound factor 2.00\n",
      "Planning for agent 2/7\n"
     ]
    },
    {
     "name": "stderr",
     "output_type": "stream",
     "text": [
      "Warning: State validity checker not set! No collision checking is performed\n",
      "         at line 63 in /Users/tianpengzhang/Desktop/ompl/src/ompl/base/src/SpaceInformation.cpp\n",
      "Warning: State validity checker not set! No collision checking is performed\n",
      "         at line 63 in /Users/tianpengzhang/Desktop/ompl/src/ompl/base/src/SpaceInformation.cpp\n",
      "Warning: State validity checker not set! No collision checking is performed\n",
      "         at line 63 in /Users/tianpengzhang/Desktop/ompl/src/ompl/base/src/SpaceInformation.cpp\n",
      "Warning: State validity checker not set! No collision checking is performed\n",
      "         at line 63 in /Users/tianpengzhang/Desktop/ompl/src/ompl/base/src/SpaceInformation.cpp\n"
     ]
    },
    {
     "name": "stdout",
     "output_type": "stream",
     "text": [
      "Info:    SpaceTimeRRT: Created 13 states (4 start + 9 goal)\n",
      "Debug:   SpaceTimeRRT: Planner range detected to be inf\n",
      "Info:    SpaceTimeRRT: Starting planning with 1 states already in datastructure\n",
      "Info:    SpaceTimeRRT: Starting planning with time bound factor 2.00\n",
      "Planning for agent 3/7\n",
      "Info:    SpaceTimeRRT: Created 47 states (21 start + 26 goal)\n",
      "Debug:   SpaceTimeRRT: Planner range detected to be inf\n",
      "Info:    SpaceTimeRRT: Starting planning with 1 states already in datastructure\n",
      "Info:    SpaceTimeRRT: Starting planning with time bound factor 2.00\n",
      "Planning for agent 4/7Info:    SpaceTimeRRT: Created 341 states (138 start + 203 goal)\n",
      "\n",
      "Debug:   SpaceTimeRRT: Planner range detected to be inf\n",
      "Info:    SpaceTimeRRT: Starting planning with 1 states already in datastructure\n",
      "Info:    SpaceTimeRRT: Starting planning with time bound factor 2.00\n"
     ]
    },
    {
     "name": "stderr",
     "output_type": "stream",
     "text": [
      "Warning: State validity checker not set! No collision checking is performed\n",
      "         at line 63 in /Users/tianpengzhang/Desktop/ompl/src/ompl/base/src/SpaceInformation.cpp\n"
     ]
    },
    {
     "name": "stdout",
     "output_type": "stream",
     "text": [
      "Info:    SpaceTimeRRT: Increased time bound factor to 4.00\n",
      "Planning for agent 5/7\n",
      "Info:    SpaceTimeRRT: Created 546 states (249 start + 297 goal)\n",
      "Debug:   SpaceTimeRRT: Planner range detected to be inf\n",
      "Info:    SpaceTimeRRT: Starting planning with 1 states already in datastructure\n",
      "Info:    SpaceTimeRRT: Starting planning with time bound factor 2.00\n"
     ]
    },
    {
     "name": "stderr",
     "output_type": "stream",
     "text": [
      "Warning: State validity checker not set! No collision checking is performed\n",
      "         at line 63 in /Users/tianpengzhang/Desktop/ompl/src/ompl/base/src/SpaceInformation.cpp\n"
     ]
    },
    {
     "name": "stdout",
     "output_type": "stream",
     "text": [
      "Info:    SpaceTimeRRT: Increased time bound factor to 4.00\n",
      "Planning for agent 6/7Info:    SpaceTimeRRT: Created 622 states (263 start + 359 goal)\n",
      "\n",
      "Debug:   SpaceTimeRRT: Planner range detected to be inf\n",
      "Info:    SpaceTimeRRT: Starting planning with 1 states already in datastructure\n",
      "Info:    SpaceTimeRRT: Starting planning with time bound factor 2.00\n"
     ]
    },
    {
     "name": "stderr",
     "output_type": "stream",
     "text": [
      "Warning: State validity checker not set! No collision checking is performed\n",
      "         at line 63 in /Users/tianpengzhang/Desktop/ompl/src/ompl/base/src/SpaceInformation.cpp\n"
     ]
    },
    {
     "name": "stdout",
     "output_type": "stream",
     "text": [
      "Info:    SpaceTimeRRT: Increased time bound factor to 4.00\n",
      "On time for algorithm ST-RRT* N agent =  7\n",
      "Info:    SpaceTimeRRT: Created 545 states (229 start + 316 goal)\n",
      "Env: SingleTunnel Alg: Seq_Tube N agent: 8\n",
      "Planning for agent 0/8\n",
      "Planning for agent 1/8\n",
      "Planning for agent 2/8\n",
      "Planning for agent 3/8\n",
      "Planning for agent 4/8\n",
      "Planning for agent 5/8\n",
      "Planning for agent 6/8\n",
      "Planning for agent 7/8\n",
      "On time for algorithm Seq_Tube N agent =  8\n",
      "Env: SingleTunnel Alg: Seq_Tube_nonLazy N agent: 8\n",
      "Planning for agent 0/8\n",
      "Planning for agent 1/8\n",
      "Planning for agent 2/8\n",
      "Planning for agent 3/8\n",
      "Planning for agent 4/8\n",
      "Planning for agent 5/8\n",
      "Planning for agent 6/8\n",
      "Planning for agent 7/8\n",
      "On time for algorithm Seq_Tube_nonLazy N agent =  8\n",
      "Env: SingleTunnel Alg: Seq_S2M2 N agent: 8\n",
      "Planning for agent 0/8\n",
      "Planning for agent 1/8\n",
      "Planning for agent 2/8\n",
      "Algorithm timeout\n",
      "Time out for algorithm Seq_S2M2 N agent =  8\n",
      "Env: SingleTunnel Alg: ST-RRT* N agent: 8\n",
      "Planning for agent 0/8\n",
      "Debug:   SpaceTimeRRT: Planner range detected to be inf\n",
      "Info:    SpaceTimeRRT: Starting planning with 1 states already in datastructure\n",
      "Info:    SpaceTimeRRT: Starting planning with time bound factor 2.00\n"
     ]
    },
    {
     "name": "stderr",
     "output_type": "stream",
     "text": [
      "Warning: State validity checker not set! No collision checking is performed\n",
      "         at line 63 in /Users/tianpengzhang/Desktop/ompl/src/ompl/base/src/SpaceInformation.cpp\n"
     ]
    },
    {
     "name": "stdout",
     "output_type": "stream",
     "text": [
      "Planning for agent 1/8Info:    SpaceTimeRRT: Created 241 states (119 start + 122 goal)\n",
      "\n",
      "Debug:   SpaceTimeRRT: Planner range detected to be inf\n",
      "Info:    SpaceTimeRRT: Starting planning with 1 states already in datastructure\n",
      "Info:    SpaceTimeRRT: Starting planning with time bound factor 2.00\n"
     ]
    },
    {
     "name": "stderr",
     "output_type": "stream",
     "text": [
      "Warning: State validity checker not set! No collision checking is performed\n",
      "         at line 63 in /Users/tianpengzhang/Desktop/ompl/src/ompl/base/src/SpaceInformation.cpp\n"
     ]
    },
    {
     "name": "stdout",
     "output_type": "stream",
     "text": [
      "Planning for agent 2/8Info:    SpaceTimeRRT: Created 197 states (79 start + 118 goal)\n",
      "\n",
      "Debug:   SpaceTimeRRT: Planner range detected to be inf\n",
      "Info:    SpaceTimeRRT: Starting planning with 1 states already in datastructure\n",
      "Info:    SpaceTimeRRT: Starting planning with time bound factor 2.00\n"
     ]
    },
    {
     "name": "stderr",
     "output_type": "stream",
     "text": [
      "Warning: State validity checker not set! No collision checking is performed\n",
      "         at line 63 in /Users/tianpengzhang/Desktop/ompl/src/ompl/base/src/SpaceInformation.cpp\n"
     ]
    },
    {
     "name": "stdout",
     "output_type": "stream",
     "text": [
      "Planning for agent 3/8Info:    SpaceTimeRRT: Created 111 states (52 start + 59 goal)\n",
      "\n",
      "Debug:   SpaceTimeRRT: Planner range detected to be inf\n",
      "Info:    SpaceTimeRRT: Starting planning with 1 states already in datastructure\n",
      "Info:    SpaceTimeRRT: Starting planning with time bound factor 2.00\n",
      "Planning for agent 4/8\n",
      "Info:    SpaceTimeRRT: Created 127 states (44 start + 83 goal)\n",
      "Debug:   SpaceTimeRRT: Planner range detected to be inf\n",
      "Info:    SpaceTimeRRT: Starting planning with 1 states already in datastructure\n",
      "Info:    SpaceTimeRRT: Starting planning with time bound factor 2.00\n"
     ]
    },
    {
     "name": "stderr",
     "output_type": "stream",
     "text": [
      "Warning: State validity checker not set! No collision checking is performed\n",
      "         at line 63 in /Users/tianpengzhang/Desktop/ompl/src/ompl/base/src/SpaceInformation.cpp\n",
      "Warning: State validity checker not set! No collision checking is performed\n",
      "         at line 63 in /Users/tianpengzhang/Desktop/ompl/src/ompl/base/src/SpaceInformation.cpp\n"
     ]
    },
    {
     "name": "stdout",
     "output_type": "stream",
     "text": [
      "Info:    SpaceTimeRRT: Increased time bound factor to 4.00\n",
      "Planning for agent 5/8\n",
      "Info:    SpaceTimeRRT: Created 530 states (250 start + 280 goal)\n",
      "Debug:   SpaceTimeRRT: Planner range detected to be inf\n",
      "Info:    SpaceTimeRRT: Starting planning with 1 states already in datastructure\n",
      "Info:    SpaceTimeRRT: Starting planning with time bound factor 2.00\n"
     ]
    },
    {
     "name": "stderr",
     "output_type": "stream",
     "text": [
      "Warning: State validity checker not set! No collision checking is performed\n",
      "         at line 63 in /Users/tianpengzhang/Desktop/ompl/src/ompl/base/src/SpaceInformation.cpp\n"
     ]
    },
    {
     "name": "stdout",
     "output_type": "stream",
     "text": [
      "Info:    SpaceTimeRRT: Increased time bound factor to 4.00\n",
      "Planning for agent 6/8Info:    SpaceTimeRRT: Created 674 states (306 start + 368 goal)\n",
      "\n",
      "Debug:   SpaceTimeRRT: Planner range detected to be inf\n",
      "Info:    SpaceTimeRRT: Starting planning with 1 states already in datastructure\n",
      "Info:    SpaceTimeRRT: Starting planning with time bound factor 2.00\n"
     ]
    },
    {
     "name": "stderr",
     "output_type": "stream",
     "text": [
      "Warning: State validity checker not set! No collision checking is performed\n",
      "         at line 63 in /Users/tianpengzhang/Desktop/ompl/src/ompl/base/src/SpaceInformation.cpp\n"
     ]
    },
    {
     "name": "stdout",
     "output_type": "stream",
     "text": [
      "Info:    SpaceTimeRRT: Increased time bound factor to 4.00\n",
      "Planning for agent 7/8Info:    SpaceTimeRRT: Created 1052 states (464 start + 588 goal)\n",
      "\n",
      "Debug:   SpaceTimeRRT: Planner range detected to be inf\n",
      "Info:    SpaceTimeRRT: Starting planning with 1 states already in datastructure\n",
      "Info:    SpaceTimeRRT: Starting planning with time bound factor 2.00\n"
     ]
    },
    {
     "name": "stderr",
     "output_type": "stream",
     "text": [
      "Warning: State validity checker not set! No collision checking is performed\n",
      "         at line 63 in /Users/tianpengzhang/Desktop/ompl/src/ompl/base/src/SpaceInformation.cpp\n"
     ]
    },
    {
     "name": "stdout",
     "output_type": "stream",
     "text": [
      "Info:    SpaceTimeRRT: Increased time bound factor to 4.00\n",
      "On time for algorithmInfo:    SpaceTimeRRT: Created 588 states (265 start + 323 goal)\n",
      " ST-RRT* N agent =  8\n",
      "Env: SingleTunnel Alg: Seq_Tube N agent: 9\n",
      "Planning for agent 0/9\n",
      "Planning for agent 1/9\n",
      "Planning for agent 2/9\n",
      "Planning for agent 3/9\n",
      "Planning for agent 4/9\n",
      "Planning for agent 5/9\n",
      "Planning for agent 6/9\n",
      "Planning for agent 7/9\n",
      "Planning for agent 8/9\n",
      "On time for algorithm Seq_Tube N agent =  9\n",
      "Env: SingleTunnel Alg: Seq_Tube_nonLazy N agent: 9\n",
      "Planning for agent 0/9\n",
      "Planning for agent 1/9\n",
      "Planning for agent 2/9\n",
      "Planning for agent 3/9\n",
      "Planning for agent 4/9\n",
      "Planning for agent 5/9\n",
      "Planning for agent 6/9\n",
      "Planning for agent 7/9\n",
      "Planning for agent 8/9\n",
      "On time for algorithm Seq_Tube_nonLazy N agent =  9\n",
      "Env: SingleTunnel Alg: ST-RRT* N agent: 9\n",
      "Planning for agent 0/9\n",
      "Debug:   SpaceTimeRRT: Planner range detected to be inf\n",
      "Info:    SpaceTimeRRT: Starting planning with 1 states already in datastructure\n",
      "Info:    SpaceTimeRRT: Starting planning with time bound factor 2.00\n",
      "Planning for agent 1/9\n",
      "Info:    SpaceTimeRRT: Created 157 states (63 start + 94 goal)\n",
      "Debug:   SpaceTimeRRT: Planner range detected to be inf\n",
      "Info:    SpaceTimeRRT: Starting planning with 1 states already in datastructure\n",
      "Info:    SpaceTimeRRT: Starting planning with time bound factor 2.00\n"
     ]
    },
    {
     "name": "stderr",
     "output_type": "stream",
     "text": [
      "Warning: State validity checker not set! No collision checking is performed\n",
      "         at line 63 in /Users/tianpengzhang/Desktop/ompl/src/ompl/base/src/SpaceInformation.cpp\n",
      "Warning: State validity checker not set! No collision checking is performed\n",
      "         at line 63 in /Users/tianpengzhang/Desktop/ompl/src/ompl/base/src/SpaceInformation.cpp\n"
     ]
    },
    {
     "name": "stdout",
     "output_type": "stream",
     "text": [
      "Planning for agent 2/9Info:    SpaceTimeRRT: Created 124 states (56 start + 68 goal)\n",
      "\n",
      "Debug:   SpaceTimeRRT: Planner range detected to be inf\n",
      "Info:    SpaceTimeRRT: Starting planning with 1 states already in datastructure\n",
      "Info:    SpaceTimeRRT: Starting planning with time bound factor 2.00\n"
     ]
    },
    {
     "name": "stderr",
     "output_type": "stream",
     "text": [
      "Warning: State validity checker not set! No collision checking is performed\n",
      "         at line 63 in /Users/tianpengzhang/Desktop/ompl/src/ompl/base/src/SpaceInformation.cpp\n"
     ]
    },
    {
     "name": "stdout",
     "output_type": "stream",
     "text": [
      "Planning for agent 3/9Info:    SpaceTimeRRT: Created 172 states (74 start + 98 goal)\n",
      "\n",
      "Debug:   SpaceTimeRRT: Planner range detected to be inf\n",
      "Info:    SpaceTimeRRT: Starting planning with 1 states already in datastructure\n",
      "Info:    SpaceTimeRRT: Starting planning with time bound factor 2.00\n"
     ]
    },
    {
     "name": "stderr",
     "output_type": "stream",
     "text": [
      "Warning: State validity checker not set! No collision checking is performed\n",
      "         at line 63 in /Users/tianpengzhang/Desktop/ompl/src/ompl/base/src/SpaceInformation.cpp\n"
     ]
    },
    {
     "name": "stdout",
     "output_type": "stream",
     "text": [
      "Planning for agent 4/9Info:    SpaceTimeRRT: Created 171 states (84 start + 87 goal)\n",
      "\n",
      "Debug:   SpaceTimeRRT: Planner range detected to be inf\n",
      "Info:    SpaceTimeRRT: Starting planning with 1 states already in datastructure\n",
      "Info:    SpaceTimeRRT: Starting planning with time bound factor 2.00\n"
     ]
    },
    {
     "name": "stderr",
     "output_type": "stream",
     "text": [
      "Warning: State validity checker not set! No collision checking is performed\n",
      "         at line 63 in /Users/tianpengzhang/Desktop/ompl/src/ompl/base/src/SpaceInformation.cpp\n"
     ]
    },
    {
     "name": "stdout",
     "output_type": "stream",
     "text": [
      "Info:    SpaceTimeRRT: Increased time bound factor to 4.00\n",
      "Planning for agent 5/9Info:    SpaceTimeRRT: Created 715 states (328 start + 387 goal)\n",
      "\n",
      "Debug:   SpaceTimeRRT: Planner range detected to be inf\n",
      "Info:    SpaceTimeRRT: Starting planning with 1 states already in datastructure\n",
      "Info:    SpaceTimeRRT: Starting planning with time bound factor 2.00\n"
     ]
    },
    {
     "name": "stderr",
     "output_type": "stream",
     "text": [
      "Warning: State validity checker not set! No collision checking is performed\n",
      "         at line 63 in /Users/tianpengzhang/Desktop/ompl/src/ompl/base/src/SpaceInformation.cpp\n"
     ]
    },
    {
     "name": "stdout",
     "output_type": "stream",
     "text": [
      "Info:    SpaceTimeRRT: Increased time bound factor to 4.00\n",
      "Planning for agent 6/9Info:    SpaceTimeRRT: Created 863 states (373 start + 490 goal)\n",
      "\n",
      "Debug:   SpaceTimeRRT: Planner range detected to be inf\n",
      "Info:    SpaceTimeRRT: Starting planning with 1 states already in datastructure\n",
      "Info:    SpaceTimeRRT: Starting planning with time bound factor 2.00\n"
     ]
    },
    {
     "name": "stderr",
     "output_type": "stream",
     "text": [
      "Warning: State validity checker not set! No collision checking is performed\n",
      "         at line 63 in /Users/tianpengzhang/Desktop/ompl/src/ompl/base/src/SpaceInformation.cpp\n"
     ]
    },
    {
     "name": "stdout",
     "output_type": "stream",
     "text": [
      "Info:    SpaceTimeRRT: Increased time bound factor to 4.00\n",
      "Planning for agent 7/9Info:    SpaceTimeRRT: Created 1210 states (543 start + 667 goal)\n",
      "\n",
      "Debug:   SpaceTimeRRT: Planner range detected to be inf\n",
      "Info:    SpaceTimeRRT: Starting planning with 1 states already in datastructure\n",
      "Info:    SpaceTimeRRT: Starting planning with time bound factor 2.00\n"
     ]
    },
    {
     "name": "stderr",
     "output_type": "stream",
     "text": [
      "Warning: State validity checker not set! No collision checking is performed\n",
      "         at line 63 in /Users/tianpengzhang/Desktop/ompl/src/ompl/base/src/SpaceInformation.cpp\n"
     ]
    },
    {
     "name": "stdout",
     "output_type": "stream",
     "text": [
      "Info:    SpaceTimeRRT: Increased time bound factor to 4.00\n",
      "Planning for agent 8/9Info:    SpaceTimeRRT: Created 759 states (335 start + 424 goal)\n",
      "\n",
      "Debug:   SpaceTimeRRT: Planner range detected to be inf\n",
      "Info:    SpaceTimeRRT: Starting planning with 1 states already in datastructure\n",
      "Info:    SpaceTimeRRT: Starting planning with time bound factor 2.00\n"
     ]
    },
    {
     "name": "stderr",
     "output_type": "stream",
     "text": [
      "Warning: State validity checker not set! No collision checking is performed\n",
      "         at line 63 in /Users/tianpengzhang/Desktop/ompl/src/ompl/base/src/SpaceInformation.cpp\n"
     ]
    },
    {
     "name": "stdout",
     "output_type": "stream",
     "text": [
      "Info:    SpaceTimeRRT: Increased time bound factor to 4.00\n",
      "On time for algorithm ST-RRT* N agent =  9\n",
      "Info:    SpaceTimeRRT: Created 518 states (214 start + 304 goal)\n",
      "Env: SingleTunnel Alg: Seq_Tube N agent: 10\n",
      "Planning for agent 0/10\n",
      "Planning for agent 1/10\n",
      "Planning for agent 2/10\n",
      "Planning for agent 3/10\n",
      "Planning for agent 4/10\n",
      "Planning for agent 5/10\n",
      "Planning for agent 6/10\n",
      "Planning for agent 7/10\n",
      "Planning for agent 8/10\n",
      "Planning for agent 9/10\n",
      "On time for algorithm Seq_Tube N agent =  10\n",
      "Env: SingleTunnel Alg: Seq_Tube_nonLazy N agent: 10\n",
      "Planning for agent 0/10\n",
      "Planning for agent 1/10\n",
      "Planning for agent 2/10\n",
      "Planning for agent 3/10\n",
      "Planning for agent 4/10\n",
      "Planning for agent 5/10\n",
      "Planning for agent 6/10\n",
      "Planning for agent 7/10\n",
      "Planning for agent 8/10\n",
      "Planning for agent 9/10\n",
      "On time for algorithm Seq_Tube_nonLazy N agent =  10\n",
      "Env: SingleTunnel Alg: ST-RRT* N agent: 10\n",
      "Planning for agent 0/10\n",
      "Debug:   SpaceTimeRRT: Planner range detected to be inf\n",
      "Info:    SpaceTimeRRT: Starting planning with 1 states already in datastructure\n",
      "Info:    SpaceTimeRRT: Starting planning with time bound factor 2.00\n",
      "Planning for agent 1/10\n",
      "Info:    SpaceTimeRRT: Created 172 states (71 start + 101 goal)\n",
      "Debug:   SpaceTimeRRT: Planner range detected to be inf\n",
      "Info:    SpaceTimeRRT: Starting planning with 1 states already in datastructure\n",
      "Info:    SpaceTimeRRT: Starting planning with time bound factor 2.00\n",
      "Planning for agent 2/10\n"
     ]
    },
    {
     "name": "stderr",
     "output_type": "stream",
     "text": [
      "Warning: State validity checker not set! No collision checking is performed\n",
      "         at line 63 in /Users/tianpengzhang/Desktop/ompl/src/ompl/base/src/SpaceInformation.cpp\n",
      "Warning: State validity checker not set! No collision checking is performed\n",
      "         at line 63 in /Users/tianpengzhang/Desktop/ompl/src/ompl/base/src/SpaceInformation.cpp\n",
      "Warning: State validity checker not set! No collision checking is performed\n",
      "         at line 63 in /Users/tianpengzhang/Desktop/ompl/src/ompl/base/src/SpaceInformation.cpp\n"
     ]
    },
    {
     "name": "stdout",
     "output_type": "stream",
     "text": [
      "Info:    SpaceTimeRRT: Created 38 states (16 start + 22 goal)\n",
      "Debug:   SpaceTimeRRT: Planner range detected to be inf\n",
      "Info:    SpaceTimeRRT: Starting planning with 1 states already in datastructure\n",
      "Info:    SpaceTimeRRT: Starting planning with time bound factor 2.00\n",
      "Planning for agent 3/10\n",
      "Info:    SpaceTimeRRT: Created 40 states (13 start + 27 goal)\n",
      "Debug:   SpaceTimeRRT: Planner range detected to be inf\n",
      "Info:    SpaceTimeRRT: Starting planning with 1 states already in datastructure\n",
      "Info:    SpaceTimeRRT: Starting planning with time bound factor 2.00\n",
      "Planning for agent 4/10\n",
      "Info:    SpaceTimeRRT: Created 54 states (21 start + 33 goal)\n",
      "Debug:   SpaceTimeRRT: Planner range detected to be inf\n",
      "Info:    SpaceTimeRRT: Starting planning with 1 states already in datastructure\n",
      "Info:    SpaceTimeRRT: Starting planning with time bound factor 2.00\n"
     ]
    },
    {
     "name": "stderr",
     "output_type": "stream",
     "text": [
      "Warning: State validity checker not set! No collision checking is performed\n",
      "         at line 63 in /Users/tianpengzhang/Desktop/ompl/src/ompl/base/src/SpaceInformation.cpp\n",
      "Warning: State validity checker not set! No collision checking is performed\n",
      "         at line 63 in /Users/tianpengzhang/Desktop/ompl/src/ompl/base/src/SpaceInformation.cpp\n"
     ]
    },
    {
     "name": "stdout",
     "output_type": "stream",
     "text": [
      "Planning for agent 5/10Info:    SpaceTimeRRT: Created 293 states (135 start + 158 goal)\n",
      "\n",
      "Debug:   SpaceTimeRRT: Planner range detected to be inf\n",
      "Info:    SpaceTimeRRT: Starting planning with 1 states already in datastructure\n",
      "Info:    SpaceTimeRRT: Starting planning with time bound factor 2.00\n"
     ]
    },
    {
     "name": "stderr",
     "output_type": "stream",
     "text": [
      "Warning: State validity checker not set! No collision checking is performed\n",
      "         at line 63 in /Users/tianpengzhang/Desktop/ompl/src/ompl/base/src/SpaceInformation.cpp\n"
     ]
    },
    {
     "name": "stdout",
     "output_type": "stream",
     "text": [
      "Info:    SpaceTimeRRT: Increased time bound factor to 4.00\n",
      "Planning for agent 6/10\n",
      "Info:    SpaceTimeRRT: Created 525 states (228 start + 297 goal)\n",
      "Debug:   SpaceTimeRRT: Planner range detected to be inf\n",
      "Info:    SpaceTimeRRT: Starting planning with 1 states already in datastructure\n",
      "Info:    SpaceTimeRRT: Starting planning with time bound factor 2.00\n"
     ]
    },
    {
     "name": "stderr",
     "output_type": "stream",
     "text": [
      "Warning: State validity checker not set! No collision checking is performed\n",
      "         at line 63 in /Users/tianpengzhang/Desktop/ompl/src/ompl/base/src/SpaceInformation.cpp\n"
     ]
    },
    {
     "name": "stdout",
     "output_type": "stream",
     "text": [
      "Info:    SpaceTimeRRT: Increased time bound factor to 4.00\n",
      "Planning for agent 7/10Info:    SpaceTimeRRT: Created 745 states (334 start + 411 goal)\n",
      "\n",
      "Debug:   SpaceTimeRRT: Planner range detected to be inf\n",
      "Info:    SpaceTimeRRT: Starting planning with 1 states already in datastructure\n",
      "Info:    SpaceTimeRRT: Starting planning with time bound factor 2.00\n"
     ]
    },
    {
     "name": "stderr",
     "output_type": "stream",
     "text": [
      "Warning: State validity checker not set! No collision checking is performed\n",
      "         at line 63 in /Users/tianpengzhang/Desktop/ompl/src/ompl/base/src/SpaceInformation.cpp\n"
     ]
    },
    {
     "name": "stdout",
     "output_type": "stream",
     "text": [
      "Info:    SpaceTimeRRT: Increased time bound factor to 4.00\n",
      "Planning for agent 8/10Info:    SpaceTimeRRT: Created 715 states (318 start + 397 goal)\n",
      "\n",
      "Debug:   SpaceTimeRRT: Planner range detected to be inf\n",
      "Info:    SpaceTimeRRT: Starting planning with 1 states already in datastructure\n",
      "Info:    SpaceTimeRRT: Starting planning with time bound factor 2.00\n"
     ]
    },
    {
     "name": "stderr",
     "output_type": "stream",
     "text": [
      "Warning: State validity checker not set! No collision checking is performed\n",
      "         at line 63 in /Users/tianpengzhang/Desktop/ompl/src/ompl/base/src/SpaceInformation.cpp\n"
     ]
    },
    {
     "name": "stdout",
     "output_type": "stream",
     "text": [
      "Info:    SpaceTimeRRT: Increased time bound factor to 4.00\n",
      "Planning for agent 9/10Info:    SpaceTimeRRT: Created 806 states (334 start + 472 goal)\n",
      "\n",
      "Debug:   SpaceTimeRRT: Planner range detected to be inf\n",
      "Info:    SpaceTimeRRT: Starting planning with 1 states already in datastructure\n",
      "Info:    SpaceTimeRRT: Starting planning with time bound factor 2.00\n"
     ]
    },
    {
     "name": "stderr",
     "output_type": "stream",
     "text": [
      "Warning: State validity checker not set! No collision checking is performed\n",
      "         at line 63 in /Users/tianpengzhang/Desktop/ompl/src/ompl/base/src/SpaceInformation.cpp\n"
     ]
    },
    {
     "name": "stdout",
     "output_type": "stream",
     "text": [
      "Info:    SpaceTimeRRT: Increased time bound factor to 4.00\n",
      "On time for algorithmInfo:    SpaceTimeRRT: Created 622 states (270 start + 352 goal)\n",
      " ST-RRT* N agent =  10\n",
      "Env: SingleTunnel Alg: Seq_Tube N agent: 11\n",
      "Planning for agent 0/11\n",
      "Planning for agent 1/11\n",
      "Planning for agent 2/11\n",
      "Planning for agent 3/11\n",
      "Planning for agent 4/11\n",
      "Planning for agent 5/11\n",
      "Planning for agent 6/11\n",
      "Planning for agent 7/11\n",
      "Planning for agent 8/11\n",
      "Planning for agent 9/11\n",
      "Planning for agent 10/11\n",
      "On time for algorithm Seq_Tube N agent =  11\n",
      "Env: SingleTunnel Alg: Seq_Tube_nonLazy N agent: 11\n",
      "Planning for agent 0/11\n",
      "Planning for agent 1/11\n",
      "Planning for agent 2/11\n",
      "Planning for agent 3/11\n",
      "Planning for agent 4/11\n",
      "Planning for agent 5/11\n",
      "Planning for agent 6/11\n",
      "Planning for agent 7/11\n",
      "Planning for agent 8/11\n",
      "Planning for agent 9/11\n",
      "Planning for agent 10/11\n",
      "On time for algorithm Seq_Tube_nonLazy N agent =  11\n",
      "Env: SingleTunnel Alg: ST-RRT* N agent: 11\n",
      "Planning for agent 0/11\n",
      "Debug:   SpaceTimeRRT: Planner range detected to be inf\n",
      "Info:    SpaceTimeRRT: Starting planning with 1 states already in datastructure\n",
      "Info:    SpaceTimeRRT: Starting planning with time bound factor 2.00\n",
      "Planning for agent 1/11\n",
      "Info:    SpaceTimeRRT: Created 147 states (79 start + 68 goal)\n",
      "Debug:   SpaceTimeRRT: Planner range detected to be inf\n",
      "Info:    SpaceTimeRRT: Starting planning with 1 states already in datastructure\n",
      "Info:    SpaceTimeRRT: Starting planning with time bound factor 2.00\n"
     ]
    },
    {
     "name": "stderr",
     "output_type": "stream",
     "text": [
      "Warning: State validity checker not set! No collision checking is performed\n",
      "         at line 63 in /Users/tianpengzhang/Desktop/ompl/src/ompl/base/src/SpaceInformation.cpp\n",
      "Warning: State validity checker not set! No collision checking is performed\n",
      "         at line 63 in /Users/tianpengzhang/Desktop/ompl/src/ompl/base/src/SpaceInformation.cpp\n"
     ]
    },
    {
     "name": "stdout",
     "output_type": "stream",
     "text": [
      "Planning for agent 2/11Info:    SpaceTimeRRT: Created 154 states (72 start + 82 goal)\n",
      "\n",
      "Debug:   SpaceTimeRRT: Planner range detected to be inf\n",
      "Info:    SpaceTimeRRT: Starting planning with 1 states already in datastructure\n",
      "Info:    SpaceTimeRRT: Starting planning with time bound factor 2.00\n",
      "Planning for agent 3/11\n",
      "Info:    SpaceTimeRRT: Created 115 states (6 start + 109 goal)\n",
      "Debug:   SpaceTimeRRT: Planner range detected to be inf\n",
      "Info:    SpaceTimeRRT: Starting planning with 1 states already in datastructure\n",
      "Info:    SpaceTimeRRT: Starting planning with time bound factor 2.00\n"
     ]
    },
    {
     "name": "stderr",
     "output_type": "stream",
     "text": [
      "Warning: State validity checker not set! No collision checking is performed\n",
      "         at line 63 in /Users/tianpengzhang/Desktop/ompl/src/ompl/base/src/SpaceInformation.cpp\n",
      "Warning: State validity checker not set! No collision checking is performed\n",
      "         at line 63 in /Users/tianpengzhang/Desktop/ompl/src/ompl/base/src/SpaceInformation.cpp\n"
     ]
    },
    {
     "name": "stdout",
     "output_type": "stream",
     "text": [
      "Planning for agent 4/11Info:    SpaceTimeRRT: Created 94 states (50 start + 44 goal)\n",
      "\n",
      "Debug:   SpaceTimeRRT: Planner range detected to be inf\n",
      "Info:    SpaceTimeRRT: Starting planning with 1 states already in datastructure\n",
      "Info:    SpaceTimeRRT: Starting planning with time bound factor 2.00\n"
     ]
    },
    {
     "name": "stderr",
     "output_type": "stream",
     "text": [
      "Warning: State validity checker not set! No collision checking is performed\n",
      "         at line 63 in /Users/tianpengzhang/Desktop/ompl/src/ompl/base/src/SpaceInformation.cpp\n"
     ]
    },
    {
     "name": "stdout",
     "output_type": "stream",
     "text": [
      "Planning for agent 5/11Info:    SpaceTimeRRT: Created 121 states (55 start + 66 goal)\n",
      "\n",
      "Debug:   SpaceTimeRRT: Planner range detected to be inf\n",
      "Info:    SpaceTimeRRT: Starting planning with 1 states already in datastructure\n",
      "Info:    SpaceTimeRRT: Starting planning with time bound factor 2.00\n"
     ]
    },
    {
     "name": "stderr",
     "output_type": "stream",
     "text": [
      "Warning: State validity checker not set! No collision checking is performed\n",
      "         at line 63 in /Users/tianpengzhang/Desktop/ompl/src/ompl/base/src/SpaceInformation.cpp\n"
     ]
    },
    {
     "name": "stdout",
     "output_type": "stream",
     "text": [
      "Info:    SpaceTimeRRT: Increased time bound factor to 4.00\n",
      "Planning for agent 6/11Info:    SpaceTimeRRT: Created 706 states (313 start + 393 goal)\n",
      "\n",
      "Debug:   SpaceTimeRRT: Planner range detected to be inf\n",
      "Info:    SpaceTimeRRT: Starting planning with 1 states already in datastructure\n",
      "Info:    SpaceTimeRRT: Starting planning with time bound factor 2.00\n"
     ]
    },
    {
     "name": "stderr",
     "output_type": "stream",
     "text": [
      "Warning: State validity checker not set! No collision checking is performed\n",
      "         at line 63 in /Users/tianpengzhang/Desktop/ompl/src/ompl/base/src/SpaceInformation.cpp\n"
     ]
    },
    {
     "name": "stdout",
     "output_type": "stream",
     "text": [
      "Info:    SpaceTimeRRT: Increased time bound factor to 4.00\n",
      "Planning for agent 7/11Info:    SpaceTimeRRT: Created 700 states (296 start + 404 goal)\n",
      "\n",
      "Debug:   SpaceTimeRRT: Planner range detected to be inf\n",
      "Info:    SpaceTimeRRT: Starting planning with 1 states already in datastructure\n",
      "Info:    SpaceTimeRRT: Starting planning with time bound factor 2.00\n"
     ]
    },
    {
     "name": "stderr",
     "output_type": "stream",
     "text": [
      "Warning: State validity checker not set! No collision checking is performed\n",
      "         at line 63 in /Users/tianpengzhang/Desktop/ompl/src/ompl/base/src/SpaceInformation.cpp\n"
     ]
    },
    {
     "name": "stdout",
     "output_type": "stream",
     "text": [
      "Info:    SpaceTimeRRT: Increased time bound factor to 4.00\n",
      "Planning for agent 8/11Info:    SpaceTimeRRT: Created 761 states (336 start + 425 goal)\n",
      "\n",
      "Debug:   SpaceTimeRRT: Planner range detected to be inf\n",
      "Info:    SpaceTimeRRT: Starting planning with 1 states already in datastructure\n",
      "Info:    SpaceTimeRRT: Starting planning with time bound factor 2.00\n"
     ]
    },
    {
     "name": "stderr",
     "output_type": "stream",
     "text": [
      "Warning: State validity checker not set! No collision checking is performed\n",
      "         at line 63 in /Users/tianpengzhang/Desktop/ompl/src/ompl/base/src/SpaceInformation.cpp\n"
     ]
    },
    {
     "name": "stdout",
     "output_type": "stream",
     "text": [
      "Info:    SpaceTimeRRT: Increased time bound factor to 4.00\n",
      "Info:    SpaceTimeRRT: Increased time bound factor to 8.00\n",
      "Planning for agent 9/11Info:    SpaceTimeRRT: Created 1683 states (730 start + 953 goal)\n",
      "\n",
      "Debug:   SpaceTimeRRT: Planner range detected to be inf\n",
      "Info:    SpaceTimeRRT: Starting planning with 1 states already in datastructure\n",
      "Info:    SpaceTimeRRT: Starting planning with time bound factor 2.00\n"
     ]
    },
    {
     "name": "stderr",
     "output_type": "stream",
     "text": [
      "Warning: State validity checker not set! No collision checking is performed\n",
      "         at line 63 in /Users/tianpengzhang/Desktop/ompl/src/ompl/base/src/SpaceInformation.cpp\n"
     ]
    },
    {
     "name": "stdout",
     "output_type": "stream",
     "text": [
      "Info:    SpaceTimeRRT: Increased time bound factor to 4.00\n",
      "Info:    SpaceTimeRRT: Increased time bound factor to 8.00\n",
      "Planning for agent 10/11Info:    SpaceTimeRRT: Created 1569 states (675 start + 894 goal)\n",
      "\n",
      "Debug:   SpaceTimeRRT: Planner range detected to be inf\n",
      "Info:    SpaceTimeRRT: Starting planning with 1 states already in datastructure\n",
      "Info:    SpaceTimeRRT: Starting planning with time bound factor 2.00\n"
     ]
    },
    {
     "name": "stderr",
     "output_type": "stream",
     "text": [
      "Warning: State validity checker not set! No collision checking is performed\n",
      "         at line 63 in /Users/tianpengzhang/Desktop/ompl/src/ompl/base/src/SpaceInformation.cpp\n"
     ]
    },
    {
     "name": "stdout",
     "output_type": "stream",
     "text": [
      "Info:    SpaceTimeRRT: Increased time bound factor to 4.00\n",
      "On time for algorithmInfo:    SpaceTimeRRT: Created 1182 states (512 start + 670 goal)\n",
      " ST-RRT* N agent =  11\n",
      "Env: SingleTunnel Alg: Seq_Tube N agent: 12\n",
      "Planning for agent 0/12\n",
      "Planning for agent 1/12\n",
      "Planning for agent 2/12\n",
      "Planning for agent 3/12\n",
      "Planning for agent 4/12\n",
      "Planning for agent 5/12\n",
      "Planning for agent 6/12\n",
      "Planning for agent 7/12\n",
      "Planning for agent 8/12\n",
      "Planning for agent 9/12\n",
      "Planning for agent 10/12\n",
      "Planning for agent 11/12\n",
      "On time for algorithm Seq_Tube N agent =  12\n",
      "Env: SingleTunnel Alg: Seq_Tube_nonLazy N agent: 12\n",
      "Planning for agent 0/12\n",
      "Planning for agent 1/12\n",
      "Planning for agent 2/12\n",
      "Planning for agent 3/12\n",
      "Planning for agent 4/12\n",
      "Planning for agent 5/12\n",
      "Planning for agent 6/12\n",
      "Planning for agent 7/12\n",
      "Planning for agent 8/12\n",
      "Planning for agent 9/12\n",
      "Planning for agent 10/12\n",
      "Planning for agent 11/12\n",
      "On time for algorithm Seq_Tube_nonLazy N agent =  12\n",
      "Env: SingleTunnel Alg: ST-RRT* N agent: 12\n",
      "Planning for agent 0/12\n",
      "Debug:   SpaceTimeRRT: Planner range detected to be inf\n",
      "Info:    SpaceTimeRRT: Starting planning with 1 states already in datastructure\n",
      "Info:    SpaceTimeRRT: Starting planning with time bound factor 2.00\n",
      "Planning for agent 1/12\n",
      "Info:    SpaceTimeRRT: Created 156 states (61 start + 95 goal)\n",
      "Debug:   SpaceTimeRRT: Planner range detected to be inf\n",
      "Info:    SpaceTimeRRT: Starting planning with 1 states already in datastructure\n",
      "Info:    SpaceTimeRRT: Starting planning with time bound factor 2.00\n"
     ]
    },
    {
     "name": "stderr",
     "output_type": "stream",
     "text": [
      "Warning: State validity checker not set! No collision checking is performed\n",
      "         at line 63 in /Users/tianpengzhang/Desktop/ompl/src/ompl/base/src/SpaceInformation.cpp\n",
      "Warning: State validity checker not set! No collision checking is performed\n",
      "         at line 63 in /Users/tianpengzhang/Desktop/ompl/src/ompl/base/src/SpaceInformation.cpp\n"
     ]
    },
    {
     "name": "stdout",
     "output_type": "stream",
     "text": [
      "Planning for agent 2/12Info:    \n",
      "SpaceTimeRRT: Created 212 states (90 start + 122 goal)\n",
      "Debug:   SpaceTimeRRT: Planner range detected to be inf\n",
      "Info:    SpaceTimeRRT: Starting planning with 1 states already in datastructure\n",
      "Info:    SpaceTimeRRT: Starting planning with time bound factor 2.00\n",
      "Planning for agent 3/12\n",
      "Info:    SpaceTimeRRT: Created 52 states (19 start + 33 goal)\n",
      "Debug:   SpaceTimeRRT: Planner range detected to be inf\n",
      "Info:    SpaceTimeRRT: Starting planning with 1 states already in datastructure\n",
      "Info:    SpaceTimeRRT: Starting planning with time bound factor 2.00\n"
     ]
    },
    {
     "name": "stderr",
     "output_type": "stream",
     "text": [
      "Warning: State validity checker not set! No collision checking is performed\n",
      "         at line 63 in /Users/tianpengzhang/Desktop/ompl/src/ompl/base/src/SpaceInformation.cpp\n",
      "Warning: State validity checker not set! No collision checking is performed\n",
      "         at line 63 in /Users/tianpengzhang/Desktop/ompl/src/ompl/base/src/SpaceInformation.cpp\n"
     ]
    },
    {
     "name": "stdout",
     "output_type": "stream",
     "text": [
      "Planning for agent 4/12Info:    SpaceTimeRRT: Created 146 states (51 start + 95 goal)\n",
      "\n",
      "Debug:   SpaceTimeRRT: Planner range detected to be inf\n",
      "Info:    SpaceTimeRRT: Starting planning with 1 states already in datastructure\n",
      "Info:    SpaceTimeRRT: Starting planning with time bound factor 2.00\n",
      "Planning for agent 5/12\n",
      "Info:    SpaceTimeRRT: Created 74 states (31 start + 43 goal)\n",
      "Debug:   SpaceTimeRRT: Planner range detected to be inf\n",
      "Info:    SpaceTimeRRT: Starting planning with 1 states already in datastructure\n",
      "Info:    SpaceTimeRRT: Starting planning with time bound factor 2.00\n"
     ]
    },
    {
     "name": "stderr",
     "output_type": "stream",
     "text": [
      "Warning: State validity checker not set! No collision checking is performed\n",
      "         at line 63 in /Users/tianpengzhang/Desktop/ompl/src/ompl/base/src/SpaceInformation.cpp\n",
      "Warning: State validity checker not set! No collision checking is performed\n",
      "         at line 63 in /Users/tianpengzhang/Desktop/ompl/src/ompl/base/src/SpaceInformation.cpp\n"
     ]
    },
    {
     "name": "stdout",
     "output_type": "stream",
     "text": [
      "Planning for agent 6/12Info:    SpaceTimeRRT: Created 116 states (50 start + 66 goal)\n",
      "\n",
      "Debug:   SpaceTimeRRT: Planner range detected to be inf\n",
      "Info:    SpaceTimeRRT: Starting planning with 1 states already in datastructure\n",
      "Info:    SpaceTimeRRT: Starting planning with time bound factor 2.00\n"
     ]
    },
    {
     "name": "stderr",
     "output_type": "stream",
     "text": [
      "Warning: State validity checker not set! No collision checking is performed\n",
      "         at line 63 in /Users/tianpengzhang/Desktop/ompl/src/ompl/base/src/SpaceInformation.cpp\n"
     ]
    },
    {
     "name": "stdout",
     "output_type": "stream",
     "text": [
      "Info:    SpaceTimeRRT: Increased time bound factor to 4.00\n",
      "Planning for agent 7/12\n",
      "Info:    SpaceTimeRRT: Created 544 states (256 start + 288 goal)\n",
      "Debug:   SpaceTimeRRT: Planner range detected to be inf\n",
      "Info:    SpaceTimeRRT: Starting planning with 1 states already in datastructure\n",
      "Info:    SpaceTimeRRT: Starting planning with time bound factor 2.00\n"
     ]
    },
    {
     "name": "stderr",
     "output_type": "stream",
     "text": [
      "Warning: State validity checker not set! No collision checking is performed\n",
      "         at line 63 in /Users/tianpengzhang/Desktop/ompl/src/ompl/base/src/SpaceInformation.cpp\n"
     ]
    },
    {
     "name": "stdout",
     "output_type": "stream",
     "text": [
      "Info:    SpaceTimeRRT: Increased time bound factor to 4.00\n",
      "Info:    SpaceTimeRRT: Increased time bound factor to 8.00\n",
      "Planning for agent 8/12\n",
      "Info:    SpaceTimeRRT: Created 1567 states (714 start + 853 goal)\n",
      "Debug:   SpaceTimeRRT: Planner range detected to be inf\n",
      "Info:    SpaceTimeRRT: Starting planning with 1 states already in datastructure\n",
      "Info:    SpaceTimeRRT: Starting planning with time bound factor 2.00\n"
     ]
    },
    {
     "name": "stderr",
     "output_type": "stream",
     "text": [
      "Warning: State validity checker not set! No collision checking is performed\n",
      "         at line 63 in /Users/tianpengzhang/Desktop/ompl/src/ompl/base/src/SpaceInformation.cpp\n"
     ]
    },
    {
     "name": "stdout",
     "output_type": "stream",
     "text": [
      "Info:    SpaceTimeRRT: Increased time bound factor to 4.00\n",
      "Info:    SpaceTimeRRT: Increased time bound factor to 8.00\n",
      "Planning for agent 9/12Info:    SpaceTimeRRT: Created 1643 states (737 start + 906 goal)\n",
      "\n",
      "Debug:   SpaceTimeRRT: Planner range detected to be inf\n",
      "Info:    SpaceTimeRRT: Starting planning with 1 states already in datastructure\n",
      "Info:    SpaceTimeRRT: Starting planning with time bound factor 2.00\n"
     ]
    },
    {
     "name": "stderr",
     "output_type": "stream",
     "text": [
      "Warning: State validity checker not set! No collision checking is performed\n",
      "         at line 63 in /Users/tianpengzhang/Desktop/ompl/src/ompl/base/src/SpaceInformation.cpp\n"
     ]
    },
    {
     "name": "stdout",
     "output_type": "stream",
     "text": [
      "Info:    SpaceTimeRRT: Increased time bound factor to 4.00\n",
      "Info:    SpaceTimeRRT: Increased time bound factor to 8.00\n",
      "Planning for agent 10/12\n",
      "Info:    SpaceTimeRRT: Created 1542 states (659 start + 883 goal)\n",
      "Debug:   SpaceTimeRRT: Planner range detected to be inf\n",
      "Info:    SpaceTimeRRT: Starting planning with 1 states already in datastructure\n",
      "Info:    SpaceTimeRRT: Starting planning with time bound factor 2.00\n"
     ]
    },
    {
     "name": "stderr",
     "output_type": "stream",
     "text": [
      "Warning: State validity checker not set! No collision checking is performed\n",
      "         at line 63 in /Users/tianpengzhang/Desktop/ompl/src/ompl/base/src/SpaceInformation.cpp\n"
     ]
    },
    {
     "name": "stdout",
     "output_type": "stream",
     "text": [
      "Info:    SpaceTimeRRT: Increased time bound factor to 4.00\n",
      "Planning for agent 11/12Info:    SpaceTimeRRT: Created 936 states (412 start + 524 goal)\n",
      "\n",
      "Debug:   SpaceTimeRRT: Planner range detected to be inf\n",
      "Info:    SpaceTimeRRT: Starting planning with 1 states already in datastructure\n",
      "Info:    SpaceTimeRRT: Starting planning with time bound factor 2.00\n"
     ]
    },
    {
     "name": "stderr",
     "output_type": "stream",
     "text": [
      "Warning: State validity checker not set! No collision checking is performed\n",
      "         at line 63 in /Users/tianpengzhang/Desktop/ompl/src/ompl/base/src/SpaceInformation.cpp\n"
     ]
    },
    {
     "name": "stdout",
     "output_type": "stream",
     "text": [
      "Info:    SpaceTimeRRT: Increased time bound factor to 4.00\n",
      "On time for algorithmInfo:    SpaceTimeRRT: Created 791 states (326 start + 465 goal)\n",
      " ST-RRT* N agent =  12\n",
      "Env: SingleTunnel Alg: Seq_Tube N agent: 13\n",
      "Planning for agent 0/13\n",
      "Planning for agent 1/13\n",
      "Planning for agent 2/13\n",
      "Planning for agent 3/13\n",
      "Planning for agent 4/13\n",
      "Planning for agent 5/13\n",
      "Planning for agent 6/13\n",
      "Planning for agent 7/13\n",
      "Planning for agent 8/13\n",
      "Planning for agent 9/13\n",
      "Planning for agent 10/13\n",
      "Planning for agent 11/13\n",
      "Planning for agent 12/13\n",
      "On time for algorithm Seq_Tube N agent =  13\n",
      "Env: SingleTunnel Alg: Seq_Tube_nonLazy N agent: 13\n",
      "Planning for agent 0/13\n",
      "Planning for agent 1/13\n",
      "Planning for agent 2/13\n",
      "Planning for agent 3/13\n",
      "Planning for agent 4/13\n",
      "Planning for agent 5/13\n",
      "Planning for agent 6/13\n",
      "Planning for agent 7/13\n",
      "Planning for agent 8/13\n",
      "Planning for agent 9/13\n",
      "Planning for agent 10/13\n",
      "Planning for agent 11/13\n",
      "Planning for agent 12/13\n",
      "On time for algorithm Seq_Tube_nonLazy N agent =  13\n",
      "Env: SingleTunnel Alg: ST-RRT* N agent: 13\n",
      "Planning for agent 0/13\n",
      "Debug:   SpaceTimeRRT: Planner range detected to be inf\n",
      "Info:    SpaceTimeRRT: Starting planning with 1 states already in datastructure\n",
      "Info:    SpaceTimeRRT: Starting planning with time bound factor 2.00\n",
      "Planning for agent 1/13\n",
      "Info:    SpaceTimeRRT: Created 147 states (72 start + 75 goal)\n",
      "Debug:   SpaceTimeRRT: Planner range detected to be inf\n",
      "Info:    SpaceTimeRRT: Starting planning with 1 states already in datastructure\n",
      "Info:    SpaceTimeRRT: Starting planning with time bound factor 2.00\n"
     ]
    },
    {
     "name": "stderr",
     "output_type": "stream",
     "text": [
      "Warning: State validity checker not set! No collision checking is performed\n",
      "         at line 63 in /Users/tianpengzhang/Desktop/ompl/src/ompl/base/src/SpaceInformation.cpp\n",
      "Warning: State validity checker not set! No collision checking is performed\n",
      "         at line 63 in /Users/tianpengzhang/Desktop/ompl/src/ompl/base/src/SpaceInformation.cpp\n"
     ]
    },
    {
     "name": "stdout",
     "output_type": "stream",
     "text": [
      "Planning for agent 2/13Info:    SpaceTimeRRT: Created 78 states (33 start + 45 goal)\n",
      "\n",
      "Debug:   SpaceTimeRRT: Planner range detected to be inf\n",
      "Info:    SpaceTimeRRT: Starting planning with 1 states already in datastructure\n",
      "Info:    SpaceTimeRRT: Starting planning with time bound factor 2.00\n"
     ]
    },
    {
     "name": "stderr",
     "output_type": "stream",
     "text": [
      "Warning: State validity checker not set! No collision checking is performed\n",
      "         at line 63 in /Users/tianpengzhang/Desktop/ompl/src/ompl/base/src/SpaceInformation.cpp\n"
     ]
    },
    {
     "name": "stdout",
     "output_type": "stream",
     "text": [
      "Planning for agent 3/13Info:    SpaceTimeRRT: Created 166 states (67 start + 99 goal)\n",
      "\n",
      "Debug:   SpaceTimeRRT: Planner range detected to be inf\n",
      "Info:    SpaceTimeRRT: Starting planning with 1 states already in datastructure\n",
      "Info:    SpaceTimeRRT: Starting planning with time bound factor 2.00\n"
     ]
    },
    {
     "name": "stderr",
     "output_type": "stream",
     "text": [
      "Warning: State validity checker not set! No collision checking is performed\n",
      "         at line 63 in /Users/tianpengzhang/Desktop/ompl/src/ompl/base/src/SpaceInformation.cpp\n"
     ]
    },
    {
     "name": "stdout",
     "output_type": "stream",
     "text": [
      "Info:    SpaceTimeRRT: Increased time bound factor to 4.00\n",
      "Planning for agent 4/13Info:    SpaceTimeRRT: Created 558 states (220 start + 338 goal)\n",
      "\n",
      "Debug:   SpaceTimeRRT: Planner range detected to be inf\n",
      "Info:    SpaceTimeRRT: Starting planning with 1 states already in datastructure\n",
      "Info:    SpaceTimeRRT: Starting planning with time bound factor 2.00\n",
      "Planning for agent 5/13\n",
      "Info:    SpaceTimeRRT: Created 70 states (32 start + 38 goal)\n",
      "Debug:   SpaceTimeRRT: Planner range detected to be inf\n",
      "Info:    SpaceTimeRRT: Starting planning with 1 states already in datastructure\n",
      "Info:    SpaceTimeRRT: Starting planning with time bound factor 2.00\n"
     ]
    },
    {
     "name": "stderr",
     "output_type": "stream",
     "text": [
      "Warning: State validity checker not set! No collision checking is performed\n",
      "         at line 63 in /Users/tianpengzhang/Desktop/ompl/src/ompl/base/src/SpaceInformation.cpp\n",
      "Warning: State validity checker not set! No collision checking is performed\n",
      "         at line 63 in /Users/tianpengzhang/Desktop/ompl/src/ompl/base/src/SpaceInformation.cpp\n"
     ]
    },
    {
     "name": "stdout",
     "output_type": "stream",
     "text": [
      "Planning for agent 6/13Info:    SpaceTimeRRT: Created 58 states (28 start + 30 goal)\n",
      "\n",
      "Debug:   SpaceTimeRRT: Planner range detected to be inf\n",
      "Info:    SpaceTimeRRT: Starting planning with 1 states already in datastructure\n",
      "Info:    SpaceTimeRRT: Starting planning with time bound factor 2.00\n"
     ]
    },
    {
     "name": "stderr",
     "output_type": "stream",
     "text": [
      "Warning: State validity checker not set! No collision checking is performed\n",
      "         at line 63 in /Users/tianpengzhang/Desktop/ompl/src/ompl/base/src/SpaceInformation.cpp\n"
     ]
    },
    {
     "name": "stdout",
     "output_type": "stream",
     "text": [
      "Info:    SpaceTimeRRT: Increased time bound factor to 4.00\n",
      "Planning for agent 7/13\n",
      "Info:    SpaceTimeRRT: Created 524 states (239 start + 285 goal)\n",
      "Debug:   SpaceTimeRRT: Planner range detected to be inf\n",
      "Info:    SpaceTimeRRT: Starting planning with 1 states already in datastructure\n",
      "Info:    SpaceTimeRRT: Starting planning with time bound factor 2.00\n"
     ]
    },
    {
     "name": "stderr",
     "output_type": "stream",
     "text": [
      "Warning: State validity checker not set! No collision checking is performed\n",
      "         at line 63 in /Users/tianpengzhang/Desktop/ompl/src/ompl/base/src/SpaceInformation.cpp\n"
     ]
    },
    {
     "name": "stdout",
     "output_type": "stream",
     "text": [
      "Info:    SpaceTimeRRT: Increased time bound factor to 4.00\n",
      "Planning for agent 8/13\n",
      "Info:    SpaceTimeRRT: Created 517 states (222 start + 295 goal)\n",
      "Debug:   SpaceTimeRRT: Planner range detected to be inf\n",
      "Info:    SpaceTimeRRT: Starting planning with 1 states already in datastructure\n",
      "Info:    SpaceTimeRRT: Starting planning with time bound factor 2.00\n"
     ]
    },
    {
     "name": "stderr",
     "output_type": "stream",
     "text": [
      "Warning: State validity checker not set! No collision checking is performed\n",
      "         at line 63 in /Users/tianpengzhang/Desktop/ompl/src/ompl/base/src/SpaceInformation.cpp\n"
     ]
    },
    {
     "name": "stdout",
     "output_type": "stream",
     "text": [
      "Info:    SpaceTimeRRT: Increased time bound factor to 4.00\n",
      "Planning for agent 9/13Info:    SpaceTimeRRT: Created 601 states (266 start + 335 goal)\n",
      "\n",
      "Debug:   SpaceTimeRRT: Planner range detected to be inf\n",
      "Info:    SpaceTimeRRT: Starting planning with 1 states already in datastructure\n",
      "Info:    SpaceTimeRRT: Starting planning with time bound factor 2.00\n"
     ]
    },
    {
     "name": "stderr",
     "output_type": "stream",
     "text": [
      "Warning: State validity checker not set! No collision checking is performed\n",
      "         at line 63 in /Users/tianpengzhang/Desktop/ompl/src/ompl/base/src/SpaceInformation.cpp\n"
     ]
    },
    {
     "name": "stdout",
     "output_type": "stream",
     "text": [
      "Info:    SpaceTimeRRT: Increased time bound factor to 4.00\n",
      "Planning for agent 10/13Info:    SpaceTimeRRT: Created 767 states (335 start + 432 goal)\n",
      "\n",
      "Debug:   SpaceTimeRRT: Planner range detected to be inf\n",
      "Info:    SpaceTimeRRT: Starting planning with 1 states already in datastructure\n",
      "Info:    SpaceTimeRRT: Starting planning with time bound factor 2.00\n"
     ]
    },
    {
     "name": "stderr",
     "output_type": "stream",
     "text": [
      "Warning: State validity checker not set! No collision checking is performed\n",
      "         at line 63 in /Users/tianpengzhang/Desktop/ompl/src/ompl/base/src/SpaceInformation.cpp\n"
     ]
    },
    {
     "name": "stdout",
     "output_type": "stream",
     "text": [
      "Info:    SpaceTimeRRT: Increased time bound factor to 4.00\n",
      "Info:    SpaceTimeRRT: Increased time bound factor to 8.00\n",
      "Planning for agent 11/13Info:    SpaceTimeRRT: Created 1627 states (737 start + 890 goal)\n",
      "\n",
      "Debug:   SpaceTimeRRT: Planner range detected to be inf\n",
      "Info:    SpaceTimeRRT: Starting planning with 1 states already in datastructure\n",
      "Info:    SpaceTimeRRT: Starting planning with time bound factor 2.00\n"
     ]
    },
    {
     "name": "stderr",
     "output_type": "stream",
     "text": [
      "Warning: State validity checker not set! No collision checking is performed\n",
      "         at line 63 in /Users/tianpengzhang/Desktop/ompl/src/ompl/base/src/SpaceInformation.cpp\n"
     ]
    },
    {
     "name": "stdout",
     "output_type": "stream",
     "text": [
      "Info:    SpaceTimeRRT: Increased time bound factor to 4.00\n",
      "Planning for agent 12/13Info:    SpaceTimeRRT: Created 854 states (394 start + 460 goal)\n",
      "\n",
      "Debug:   SpaceTimeRRT: Planner range detected to be inf\n",
      "Info:    SpaceTimeRRT: Starting planning with 1 states already in datastructure\n",
      "Info:    SpaceTimeRRT: Starting planning with time bound factor 2.00\n"
     ]
    },
    {
     "name": "stderr",
     "output_type": "stream",
     "text": [
      "Warning: State validity checker not set! No collision checking is performed\n",
      "         at line 63 in /Users/tianpengzhang/Desktop/ompl/src/ompl/base/src/SpaceInformation.cpp\n"
     ]
    },
    {
     "name": "stdout",
     "output_type": "stream",
     "text": [
      "On time for algorithmInfo:    SpaceTimeRRT: Created 385 states (163 start + 222 goal)\n",
      " ST-RRT* N agent =  13\n",
      "Env: SingleTunnel Alg: Seq_Tube N agent: 14\n",
      "Planning for agent 0/14\n",
      "Planning for agent 1/14\n",
      "Planning for agent 2/14\n",
      "Planning for agent 3/14\n",
      "Planning for agent 4/14\n",
      "Planning for agent 5/14\n",
      "Planning for agent 6/14\n",
      "Planning for agent 7/14\n",
      "Planning for agent 8/14\n",
      "Planning for agent 9/14\n",
      "Planning for agent 10/14\n",
      "Planning for agent 11/14\n",
      "Planning for agent 12/14\n",
      "Planning for agent 13/14\n",
      "On time for algorithm Seq_Tube N agent =  14\n",
      "Env: SingleTunnel Alg: Seq_Tube_nonLazy N agent: 14\n",
      "Planning for agent 0/14\n",
      "Planning for agent 1/14\n",
      "Planning for agent 2/14\n",
      "Planning for agent 3/14\n",
      "Planning for agent 4/14\n",
      "Planning for agent 5/14\n",
      "Planning for agent 6/14\n",
      "Planning for agent 7/14\n",
      "Planning for agent 8/14\n",
      "Planning for agent 9/14\n",
      "Planning for agent 10/14\n",
      "Planning for agent 11/14\n",
      "Planning for agent 12/14\n",
      "Algorithm timeout\n",
      "Time out for algorithm Seq_Tube_nonLazy N agent =  14\n",
      "Env: SingleTunnel Alg: ST-RRT* N agent: 14\n",
      "Planning for agent 0/14\n",
      "Debug:   SpaceTimeRRT: Planner range detected to be inf\n",
      "Info:    SpaceTimeRRT: Starting planning with 1 states already in datastructure\n",
      "Info:    SpaceTimeRRT: Starting planning with time bound factor 2.00\n",
      "Info:    SpaceTimeRRT: Created 145 states (63 start + 82 goal)\n",
      "Planning for agent 1/14\n",
      "Debug:   SpaceTimeRRT: Planner range detected to be inf\n",
      "Info:    SpaceTimeRRT: Starting planning with 1 states already in datastructure\n",
      "Info:    SpaceTimeRRT: Starting planning with time bound factor 2.00\n"
     ]
    },
    {
     "name": "stderr",
     "output_type": "stream",
     "text": [
      "Warning: State validity checker not set! No collision checking is performed\n",
      "         at line 63 in /Users/tianpengzhang/Desktop/ompl/src/ompl/base/src/SpaceInformation.cpp\n",
      "Warning: State validity checker not set! No collision checking is performed\n",
      "         at line 63 in /Users/tianpengzhang/Desktop/ompl/src/ompl/base/src/SpaceInformation.cpp\n"
     ]
    },
    {
     "name": "stdout",
     "output_type": "stream",
     "text": [
      "Planning for agent 2/14Info:    SpaceTimeRRT: Created 68 states (25 start + 43 goal)\n",
      "\n",
      "Debug:   SpaceTimeRRT: Planner range detected to be inf\n",
      "Info:    SpaceTimeRRT: Starting planning with 1 states already in datastructure\n",
      "Info:    SpaceTimeRRT: Starting planning with time bound factor 2.00\n"
     ]
    },
    {
     "name": "stderr",
     "output_type": "stream",
     "text": [
      "Warning: State validity checker not set! No collision checking is performed\n",
      "         at line 63 in /Users/tianpengzhang/Desktop/ompl/src/ompl/base/src/SpaceInformation.cpp\n"
     ]
    },
    {
     "name": "stdout",
     "output_type": "stream",
     "text": [
      "Planning for agent 3/14Info:    SpaceTimeRRT: Created 112 states (48 start + 64 goal)\n",
      "\n",
      "Debug:   SpaceTimeRRT: Planner range detected to be inf\n",
      "Info:    SpaceTimeRRT: Starting planning with 1 states already in datastructure\n",
      "Info:    SpaceTimeRRT: Starting planning with time bound factor 2.00\n",
      "Planning for agent 4/14\n",
      "Info:    SpaceTimeRRT: Created 58 states (20 start + 38 goal)\n",
      "Debug:   SpaceTimeRRT: Planner range detected to be inf\n",
      "Info:    SpaceTimeRRT: Starting planning with 1 states already in datastructure\n",
      "Info:    SpaceTimeRRT: Starting planning with time bound factor 2.00\n"
     ]
    },
    {
     "name": "stderr",
     "output_type": "stream",
     "text": [
      "Warning: State validity checker not set! No collision checking is performed\n",
      "         at line 63 in /Users/tianpengzhang/Desktop/ompl/src/ompl/base/src/SpaceInformation.cpp\n",
      "Warning: State validity checker not set! No collision checking is performed\n",
      "         at line 63 in /Users/tianpengzhang/Desktop/ompl/src/ompl/base/src/SpaceInformation.cpp\n"
     ]
    },
    {
     "name": "stdout",
     "output_type": "stream",
     "text": [
      "Planning for agent 5/14Info:    SpaceTimeRRT: Created 87 states (35 start + 52 goal)\n",
      "\n",
      "Debug:   SpaceTimeRRT: Planner range detected to be inf\n",
      "Info:    SpaceTimeRRT: Starting planning with 1 states already in datastructure\n",
      "Info:    SpaceTimeRRT: Starting planning with time bound factor 2.00\n"
     ]
    },
    {
     "name": "stderr",
     "output_type": "stream",
     "text": [
      "Warning: State validity checker not set! No collision checking is performed\n",
      "         at line 63 in /Users/tianpengzhang/Desktop/ompl/src/ompl/base/src/SpaceInformation.cpp\n"
     ]
    },
    {
     "name": "stdout",
     "output_type": "stream",
     "text": [
      "Planning for agent 6/14Info:    SpaceTimeRRT: Created 347 states (147 start + 200 goal)\n",
      "\n",
      "Debug:   SpaceTimeRRT: Planner range detected to be inf\n",
      "Info:    SpaceTimeRRT: Starting planning with 1 states already in datastructure\n",
      "Info:    SpaceTimeRRT: Starting planning with time bound factor 2.00\n"
     ]
    },
    {
     "name": "stderr",
     "output_type": "stream",
     "text": [
      "Warning: State validity checker not set! No collision checking is performed\n",
      "         at line 63 in /Users/tianpengzhang/Desktop/ompl/src/ompl/base/src/SpaceInformation.cpp\n"
     ]
    },
    {
     "name": "stdout",
     "output_type": "stream",
     "text": [
      "Planning for agent 7/14Info:    SpaceTimeRRT: Created 241 states (97 start + 144 goal)\n",
      "\n",
      "Debug:   SpaceTimeRRT: Planner range detected to be inf\n",
      "Info:    SpaceTimeRRT: Starting planning with 1 states already in datastructure\n",
      "Info:    SpaceTimeRRT: Starting planning with time bound factor 2.00\n"
     ]
    },
    {
     "name": "stderr",
     "output_type": "stream",
     "text": [
      "Warning: State validity checker not set! No collision checking is performed\n",
      "         at line 63 in /Users/tianpengzhang/Desktop/ompl/src/ompl/base/src/SpaceInformation.cpp\n"
     ]
    },
    {
     "name": "stdout",
     "output_type": "stream",
     "text": [
      "Info:    SpaceTimeRRT: Increased time bound factor to 4.00\n",
      "Planning for agent 8/14\n",
      "Info:    SpaceTimeRRT: Created 537 states (255 start + 282 goal)\n",
      "Debug:   SpaceTimeRRT: Planner range detected to be inf\n",
      "Info:    SpaceTimeRRT: Starting planning with 1 states already in datastructure\n",
      "Info:    SpaceTimeRRT: Starting planning with time bound factor 2.00\n"
     ]
    },
    {
     "name": "stderr",
     "output_type": "stream",
     "text": [
      "Warning: State validity checker not set! No collision checking is performed\n",
      "         at line 63 in /Users/tianpengzhang/Desktop/ompl/src/ompl/base/src/SpaceInformation.cpp\n"
     ]
    },
    {
     "name": "stdout",
     "output_type": "stream",
     "text": [
      "Info:    SpaceTimeRRT: Increased time bound factor to 4.00\n",
      "Info:    SpaceTimeRRT: Increased time bound factor to 8.00\n",
      "Planning for agent 9/14Info:    SpaceTimeRRT: Created 1628 states (722 start + 906 goal)\n",
      "\n",
      "Debug:   SpaceTimeRRT: Planner range detected to be inf\n",
      "Info:    SpaceTimeRRT: Starting planning with 1 states already in datastructure\n",
      "Info:    SpaceTimeRRT: Starting planning with time bound factor 2.00\n"
     ]
    },
    {
     "name": "stderr",
     "output_type": "stream",
     "text": [
      "Warning: State validity checker not set! No collision checking is performed\n",
      "         at line 63 in /Users/tianpengzhang/Desktop/ompl/src/ompl/base/src/SpaceInformation.cpp\n"
     ]
    },
    {
     "name": "stdout",
     "output_type": "stream",
     "text": [
      "Info:    SpaceTimeRRT: Increased time bound factor to 4.00\n",
      "Info:    SpaceTimeRRT: Increased time bound factor to 8.00\n",
      "Planning for agent 10/14Info:    SpaceTimeRRT: Created 1707 states (793 start + 914 goal)\n",
      "\n",
      "Debug:   SpaceTimeRRT: Planner range detected to be inf\n",
      "Info:    SpaceTimeRRT: Starting planning with 1 states already in datastructure\n",
      "Info:    SpaceTimeRRT: Starting planning with time bound factor 2.00\n"
     ]
    },
    {
     "name": "stderr",
     "output_type": "stream",
     "text": [
      "Warning: State validity checker not set! No collision checking is performed\n",
      "         at line 63 in /Users/tianpengzhang/Desktop/ompl/src/ompl/base/src/SpaceInformation.cpp\n"
     ]
    },
    {
     "name": "stdout",
     "output_type": "stream",
     "text": [
      "Info:    SpaceTimeRRT: Increased time bound factor to 4.00\n",
      "Planning for agent 11/14Info:    SpaceTimeRRT: Created 767 states (339 start + 428 goal)\n",
      "\n",
      "Debug:   SpaceTimeRRT: Planner range detected to be inf\n",
      "Info:    SpaceTimeRRT: Starting planning with 1 states already in datastructure\n",
      "Info:    SpaceTimeRRT: Starting planning with time bound factor 2.00\n"
     ]
    },
    {
     "name": "stderr",
     "output_type": "stream",
     "text": [
      "Warning: State validity checker not set! No collision checking is performed\n",
      "         at line 63 in /Users/tianpengzhang/Desktop/ompl/src/ompl/base/src/SpaceInformation.cpp\n"
     ]
    },
    {
     "name": "stdout",
     "output_type": "stream",
     "text": [
      "Info:    SpaceTimeRRT: Increased time bound factor to 4.00\n",
      "Planning for agent 12/14Info:    SpaceTimeRRT: Created 672 states (263 start + 409 goal)\n",
      "\n",
      "Debug:   SpaceTimeRRT: Planner range detected to be inf\n",
      "Info:    SpaceTimeRRT: Starting planning with 1 states already in datastructure\n",
      "Info:    SpaceTimeRRT: Starting planning with time bound factor 2.00\n"
     ]
    },
    {
     "name": "stderr",
     "output_type": "stream",
     "text": [
      "Warning: State validity checker not set! No collision checking is performed\n",
      "         at line 63 in /Users/tianpengzhang/Desktop/ompl/src/ompl/base/src/SpaceInformation.cpp\n"
     ]
    },
    {
     "name": "stdout",
     "output_type": "stream",
     "text": [
      "Info:    SpaceTimeRRT: Increased time bound factor to 4.00\n",
      "Info:    SpaceTimeRRT: Increased time bound factor to 8.00\n",
      "Planning for agent 13/14Info:    SpaceTimeRRT: Created 1604 states (704 start + 900 goal)\n",
      "\n",
      "Debug:   SpaceTimeRRT: Planner range detected to be inf\n",
      "Info:    SpaceTimeRRT: Starting planning with 1 states already in datastructure\n",
      "Info:    SpaceTimeRRT: Starting planning with time bound factor 2.00\n"
     ]
    },
    {
     "name": "stderr",
     "output_type": "stream",
     "text": [
      "Warning: State validity checker not set! No collision checking is performed\n",
      "         at line 63 in /Users/tianpengzhang/Desktop/ompl/src/ompl/base/src/SpaceInformation.cpp\n"
     ]
    },
    {
     "name": "stdout",
     "output_type": "stream",
     "text": [
      "Info:    SpaceTimeRRT: Increased time bound factor to 4.00\n",
      "On time for algorithmInfo:    SpaceTimeRRT: Created 1523 states (671 start + 852 goal)\n",
      " ST-RRT* N agent =  14\n",
      "Env: SingleTunnel Alg: Seq_Tube N agent: 15\n",
      "Planning for agent 0/15\n",
      "Planning for agent 1/15\n",
      "Planning for agent 2/15\n",
      "Planning for agent 3/15\n",
      "Planning for agent 4/15\n",
      "Planning for agent 5/15\n",
      "Planning for agent 6/15\n",
      "Planning for agent 7/15\n",
      "Planning for agent 8/15\n",
      "Planning for agent 9/15\n",
      "Planning for agent 10/15\n",
      "Planning for agent 11/15\n",
      "Planning for agent 12/15\n",
      "Planning for agent 13/15\n",
      "Planning for agent 14/15\n",
      "On time for algorithm Seq_Tube N agent =  15\n",
      "Env: SingleTunnel Alg: ST-RRT* N agent: 15\n",
      "Planning for agent 0/15\n",
      "Debug:   SpaceTimeRRT: Planner range detected to be inf\n",
      "Info:    SpaceTimeRRT: Starting planning with 1 states already in datastructure\n",
      "Info:    SpaceTimeRRT: Starting planning with time bound factor 2.00\n",
      "Planning for agent 1/15\n",
      "Info:    SpaceTimeRRT: Created 190 states (83 start + 107 goal)\n",
      "Debug:   SpaceTimeRRT: Planner range detected to be inf\n",
      "Info:    SpaceTimeRRT: Starting planning with 1 states already in datastructure\n",
      "Info:    SpaceTimeRRT: Starting planning with time bound factor 2.00\n"
     ]
    },
    {
     "name": "stderr",
     "output_type": "stream",
     "text": [
      "Warning: State validity checker not set! No collision checking is performed\n",
      "         at line 63 in /Users/tianpengzhang/Desktop/ompl/src/ompl/base/src/SpaceInformation.cpp\n",
      "Warning: State validity checker not set! No collision checking is performed\n",
      "         at line 63 in /Users/tianpengzhang/Desktop/ompl/src/ompl/base/src/SpaceInformation.cpp\n"
     ]
    },
    {
     "name": "stdout",
     "output_type": "stream",
     "text": [
      "Planning for agent 2/15Info:    SpaceTimeRRT: Created 71 states (33 start + 38 goal)\n",
      "\n",
      "Debug:   SpaceTimeRRT: Planner range detected to be inf\n",
      "Info:    SpaceTimeRRT: Starting planning with 1 states already in datastructure\n",
      "Info:    SpaceTimeRRT: Starting planning with time bound factor 2.00\n",
      "Planning for agent 3/15\n",
      "Info:    SpaceTimeRRT: Created 60 states (34 start + 26 goal)\n",
      "Debug:   SpaceTimeRRT: Planner range detected to be inf\n",
      "Info:    SpaceTimeRRT: Starting planning with 1 states already in datastructure\n",
      "Info:    SpaceTimeRRT: Starting planning with time bound factor 2.00\n",
      "Planning for agent 4/15\n",
      "Info:    SpaceTimeRRT: Created 49 states (22 start + 27 goal)\n",
      "Debug:   SpaceTimeRRT: Planner range detected to be inf\n",
      "Info:    SpaceTimeRRT: Starting planning with 1 states already in datastructure\n",
      "Info:    SpaceTimeRRT: Starting planning with time bound factor 2.00\n"
     ]
    },
    {
     "name": "stderr",
     "output_type": "stream",
     "text": [
      "Warning: State validity checker not set! No collision checking is performed\n",
      "         at line 63 in /Users/tianpengzhang/Desktop/ompl/src/ompl/base/src/SpaceInformation.cpp\n",
      "Warning: State validity checker not set! No collision checking is performed\n",
      "         at line 63 in /Users/tianpengzhang/Desktop/ompl/src/ompl/base/src/SpaceInformation.cpp\n",
      "Warning: State validity checker not set! No collision checking is performed\n",
      "         at line 63 in /Users/tianpengzhang/Desktop/ompl/src/ompl/base/src/SpaceInformation.cpp\n"
     ]
    },
    {
     "name": "stdout",
     "output_type": "stream",
     "text": [
      "Planning for agent 5/15Info:    SpaceTimeRRT: Created 99 states (44 start + 55 goal)\n",
      "\n",
      "Debug:   SpaceTimeRRT: Planner range detected to be inf\n",
      "Info:    SpaceTimeRRT: Starting planning with 1 states already in datastructure\n",
      "Info:    SpaceTimeRRT: Starting planning with time bound factor 2.00\n"
     ]
    },
    {
     "name": "stderr",
     "output_type": "stream",
     "text": [
      "Warning: State validity checker not set! No collision checking is performed\n",
      "         at line 63 in /Users/tianpengzhang/Desktop/ompl/src/ompl/base/src/SpaceInformation.cpp\n"
     ]
    },
    {
     "name": "stdout",
     "output_type": "stream",
     "text": [
      "Planning for agent 6/15Info:    SpaceTimeRRT: Created 124 states (50 start + 74 goal)\n",
      "\n",
      "Debug:   SpaceTimeRRT: Planner range detected to be inf\n",
      "Info:    SpaceTimeRRT: Starting planning with 1 states already in datastructure\n",
      "Info:    SpaceTimeRRT: Starting planning with time bound factor 2.00\n"
     ]
    },
    {
     "name": "stderr",
     "output_type": "stream",
     "text": [
      "Warning: State validity checker not set! No collision checking is performed\n",
      "         at line 63 in /Users/tianpengzhang/Desktop/ompl/src/ompl/base/src/SpaceInformation.cpp\n"
     ]
    },
    {
     "name": "stdout",
     "output_type": "stream",
     "text": [
      "Planning for agent 7/15Info:    SpaceTimeRRT: Created 213 states (101 start + 112 goal)\n",
      "\n",
      "Debug:   SpaceTimeRRT: Planner range detected to be inf\n",
      "Info:    SpaceTimeRRT: Starting planning with 1 states already in datastructure\n",
      "Info:    SpaceTimeRRT: Starting planning with time bound factor 2.00\n"
     ]
    },
    {
     "name": "stderr",
     "output_type": "stream",
     "text": [
      "Warning: State validity checker not set! No collision checking is performed\n",
      "         at line 63 in /Users/tianpengzhang/Desktop/ompl/src/ompl/base/src/SpaceInformation.cpp\n"
     ]
    },
    {
     "name": "stdout",
     "output_type": "stream",
     "text": [
      "Info:    SpaceTimeRRT: Increased time bound factor to 4.00\n",
      "Planning for agent 8/15\n",
      "Info:    SpaceTimeRRT: Created 535 states (242 start + 293 goal)\n",
      "Debug:   SpaceTimeRRT: Planner range detected to be inf\n",
      "Info:    SpaceTimeRRT: Starting planning with 1 states already in datastructure\n",
      "Info:    SpaceTimeRRT: Starting planning with time bound factor 2.00\n"
     ]
    },
    {
     "name": "stderr",
     "output_type": "stream",
     "text": [
      "Warning: State validity checker not set! No collision checking is performed\n",
      "         at line 63 in /Users/tianpengzhang/Desktop/ompl/src/ompl/base/src/SpaceInformation.cpp\n"
     ]
    },
    {
     "name": "stdout",
     "output_type": "stream",
     "text": [
      "Info:    SpaceTimeRRT: Increased time bound factor to 4.00\n",
      "Planning for agent 9/15Info:    SpaceTimeRRT: Created 637 states (293 start + 344 goal)\n",
      "\n",
      "Debug:   SpaceTimeRRT: Planner range detected to be inf\n",
      "Info:    SpaceTimeRRT: Starting planning with 1 states already in datastructure\n",
      "Info:    SpaceTimeRRT: Starting planning with time bound factor 2.00\n"
     ]
    },
    {
     "name": "stderr",
     "output_type": "stream",
     "text": [
      "Warning: State validity checker not set! No collision checking is performed\n",
      "         at line 63 in /Users/tianpengzhang/Desktop/ompl/src/ompl/base/src/SpaceInformation.cpp\n"
     ]
    },
    {
     "name": "stdout",
     "output_type": "stream",
     "text": [
      "Info:    SpaceTimeRRT: Increased time bound factor to 4.00\n",
      "Info:    SpaceTimeRRT: Increased time bound factor to 8.00\n",
      "Planning for agent 10/15\n",
      "Info:    SpaceTimeRRT: Created 1548 states (689 start + 859 goal)\n",
      "Debug:   SpaceTimeRRT: Planner range detected to be inf\n",
      "Info:    SpaceTimeRRT: Starting planning with 1 states already in datastructure\n",
      "Info:    SpaceTimeRRT: Starting planning with time bound factor 2.00\n"
     ]
    },
    {
     "name": "stderr",
     "output_type": "stream",
     "text": [
      "Warning: State validity checker not set! No collision checking is performed\n",
      "         at line 63 in /Users/tianpengzhang/Desktop/ompl/src/ompl/base/src/SpaceInformation.cpp\n"
     ]
    },
    {
     "name": "stdout",
     "output_type": "stream",
     "text": [
      "Info:    SpaceTimeRRT: Increased time bound factor to 4.00\n",
      "Planning for agent 11/15Info:    SpaceTimeRRT: Created 628 states (264 start + 364 goal)\n",
      "\n",
      "Debug:   SpaceTimeRRT: Planner range detected to be inf\n",
      "Info:    SpaceTimeRRT: Starting planning with 1 states already in datastructure\n",
      "Info:    SpaceTimeRRT: Starting planning with time bound factor 2.00\n"
     ]
    },
    {
     "name": "stderr",
     "output_type": "stream",
     "text": [
      "Warning: State validity checker not set! No collision checking is performed\n",
      "         at line 63 in /Users/tianpengzhang/Desktop/ompl/src/ompl/base/src/SpaceInformation.cpp\n"
     ]
    },
    {
     "name": "stdout",
     "output_type": "stream",
     "text": [
      "Info:    SpaceTimeRRT: Increased time bound factor to 4.00\n",
      "Info:    SpaceTimeRRT: Increased time bound factor to 8.00\n",
      "Planning for agent 12/15\n",
      "Info:    SpaceTimeRRT: Created 1555 states (666 start + 889 goal)\n",
      "Debug:   SpaceTimeRRT: Planner range detected to be inf\n",
      "Info:    SpaceTimeRRT: Starting planning with 1 states already in datastructure\n",
      "Info:    SpaceTimeRRT: Starting planning with time bound factor 2.00\n"
     ]
    },
    {
     "name": "stderr",
     "output_type": "stream",
     "text": [
      "Warning: State validity checker not set! No collision checking is performed\n",
      "         at line 63 in /Users/tianpengzhang/Desktop/ompl/src/ompl/base/src/SpaceInformation.cpp\n"
     ]
    },
    {
     "name": "stdout",
     "output_type": "stream",
     "text": [
      "Info:    SpaceTimeRRT: Increased time bound factor to 4.00\n",
      "Planning for agent 13/15Info:    SpaceTimeRRT: Created 1464 states (628 start + 836 goal)\n",
      "\n",
      "Debug:   SpaceTimeRRT: Planner range detected to be inf\n",
      "Info:    SpaceTimeRRT: Starting planning with 1 states already in datastructure\n",
      "Info:    SpaceTimeRRT: Starting planning with time bound factor 2.00\n"
     ]
    },
    {
     "name": "stderr",
     "output_type": "stream",
     "text": [
      "Warning: State validity checker not set! No collision checking is performed\n",
      "         at line 63 in /Users/tianpengzhang/Desktop/ompl/src/ompl/base/src/SpaceInformation.cpp\n"
     ]
    },
    {
     "name": "stdout",
     "output_type": "stream",
     "text": [
      "Info:    SpaceTimeRRT: Increased time bound factor to 4.00\n",
      "Planning for agent 14/15Info:    SpaceTimeRRT: Created 670 states (286 start + 384 goal)\n",
      "\n",
      "Debug:   SpaceTimeRRT: Planner range detected to be inf\n",
      "Info:    SpaceTimeRRT: Starting planning with 1 states already in datastructure\n",
      "Info:    SpaceTimeRRT: Starting planning with time bound factor 2.00\n"
     ]
    },
    {
     "name": "stderr",
     "output_type": "stream",
     "text": [
      "Warning: State validity checker not set! No collision checking is performed\n",
      "         at line 63 in /Users/tianpengzhang/Desktop/ompl/src/ompl/base/src/SpaceInformation.cpp\n"
     ]
    },
    {
     "name": "stdout",
     "output_type": "stream",
     "text": [
      "Info:    SpaceTimeRRT: Increased time bound factor to 4.00\n",
      "On time for algorithmInfo:    SpaceTimeRRT: Created 968 states (445 start + 523 goal)\n",
      " ST-RRT* N agent =  15\n",
      "Env: SingleTunnel Alg: Seq_Tube N agent: 16\n",
      "Planning for agent 0/16\n",
      "Planning for agent 1/16\n",
      "Planning for agent 2/16\n",
      "Planning for agent 3/16\n",
      "Planning for agent 4/16\n",
      "Planning for agent 5/16\n",
      "Planning for agent 6/16\n",
      "Planning for agent 7/16\n",
      "Planning for agent 8/16\n",
      "Planning for agent 9/16\n",
      "Planning for agent 10/16\n",
      "Planning for agent 11/16\n",
      "Planning for agent 12/16\n",
      "Planning for agent 13/16\n",
      "Planning for agent 14/16\n",
      "Planning for agent 15/16\n",
      "On time for algorithm Seq_Tube N agent =  16\n",
      "Env: SingleTunnel Alg: ST-RRT* N agent: 16\n",
      "Planning for agent 0/16\n",
      "Debug:   SpaceTimeRRT: Planner range detected to be inf\n",
      "Info:    SpaceTimeRRT: Starting planning with 1 states already in datastructure\n",
      "Info:    SpaceTimeRRT: Starting planning with time bound factor 2.00\n",
      "Planning for agent 1/16\n",
      "Info:    SpaceTimeRRT: Created 129 states (62 start + 67 goal)\n",
      "Debug:   SpaceTimeRRT: Planner range detected to be inf\n",
      "Info:    SpaceTimeRRT: Starting planning with 1 states already in datastructure\n",
      "Info:    SpaceTimeRRT: Starting planning with time bound factor 2.00\n"
     ]
    },
    {
     "name": "stderr",
     "output_type": "stream",
     "text": [
      "Warning: State validity checker not set! No collision checking is performed\n",
      "         at line 63 in /Users/tianpengzhang/Desktop/ompl/src/ompl/base/src/SpaceInformation.cpp\n",
      "Warning: State validity checker not set! No collision checking is performed\n",
      "         at line 63 in /Users/tianpengzhang/Desktop/ompl/src/ompl/base/src/SpaceInformation.cpp\n"
     ]
    },
    {
     "name": "stdout",
     "output_type": "stream",
     "text": [
      "Planning for agent 2/16Info:    SpaceTimeRRT: Created 117 states (48 start + 69 goal)\n",
      "\n",
      "Debug:   SpaceTimeRRT: Planner range detected to be inf\n",
      "Info:    SpaceTimeRRT: Starting planning with 1 states already in datastructure\n",
      "Info:    SpaceTimeRRT: Starting planning with time bound factor 2.00\n",
      "Planning for agent 3/16\n",
      "Info:    SpaceTimeRRT: Created 70 states (28 start + 42 goal)\n",
      "Debug:   SpaceTimeRRT: Planner range detected to be inf\n",
      "Info:    SpaceTimeRRT: Starting planning with 1 states already in datastructure\n",
      "Info:    SpaceTimeRRT: Starting planning with time bound factor 2.00\n"
     ]
    },
    {
     "name": "stderr",
     "output_type": "stream",
     "text": [
      "Warning: State validity checker not set! No collision checking is performed\n",
      "         at line 63 in /Users/tianpengzhang/Desktop/ompl/src/ompl/base/src/SpaceInformation.cpp\n",
      "Warning: State validity checker not set! No collision checking is performed\n",
      "         at line 63 in /Users/tianpengzhang/Desktop/ompl/src/ompl/base/src/SpaceInformation.cpp\n"
     ]
    },
    {
     "name": "stdout",
     "output_type": "stream",
     "text": [
      "Planning for agent 4/16Info:    SpaceTimeRRT: Created 149 states (78 start + 71 goal)\n",
      "\n",
      "Debug:   SpaceTimeRRT: Planner range detected to be inf\n",
      "Info:    SpaceTimeRRT: Starting planning with 1 states already in datastructure\n",
      "Info:    SpaceTimeRRT: Starting planning with time bound factor 2.00\n",
      "Planning for agent 5/16\n",
      "Info:    SpaceTimeRRT: Created 58 states (28 start + 30 goal)\n",
      "Debug:   SpaceTimeRRT: Planner range detected to be inf\n",
      "Info:    SpaceTimeRRT: Starting planning with 1 states already in datastructure\n",
      "Info:    SpaceTimeRRT: Starting planning with time bound factor 2.00\n"
     ]
    },
    {
     "name": "stderr",
     "output_type": "stream",
     "text": [
      "Warning: State validity checker not set! No collision checking is performed\n",
      "         at line 63 in /Users/tianpengzhang/Desktop/ompl/src/ompl/base/src/SpaceInformation.cpp\n",
      "Warning: State validity checker not set! No collision checking is performed\n",
      "         at line 63 in /Users/tianpengzhang/Desktop/ompl/src/ompl/base/src/SpaceInformation.cpp\n"
     ]
    },
    {
     "name": "stdout",
     "output_type": "stream",
     "text": [
      "Planning for agent 6/16Info:    SpaceTimeRRT: Created 137 states (58 start + 79 goal)\n",
      "\n",
      "Debug:   SpaceTimeRRT: Planner range detected to be inf\n",
      "Info:    SpaceTimeRRT: Starting planning with 1 states already in datastructure\n",
      "Info:    SpaceTimeRRT: Starting planning with time bound factor 2.00\n"
     ]
    },
    {
     "name": "stderr",
     "output_type": "stream",
     "text": [
      "Warning: State validity checker not set! No collision checking is performed\n",
      "         at line 63 in /Users/tianpengzhang/Desktop/ompl/src/ompl/base/src/SpaceInformation.cpp\n"
     ]
    },
    {
     "name": "stdout",
     "output_type": "stream",
     "text": [
      "Planning for agent 7/16Info:    SpaceTimeRRT: Created 456 states (189 start + 267 goal)\n",
      "\n",
      "Debug:   SpaceTimeRRT: Planner range detected to be inf\n",
      "Info:    SpaceTimeRRT: Starting planning with 1 states already in datastructure\n",
      "Info:    SpaceTimeRRT: Starting planning with time bound factor 2.00\n"
     ]
    },
    {
     "name": "stderr",
     "output_type": "stream",
     "text": [
      "Warning: State validity checker not set! No collision checking is performed\n",
      "         at line 63 in /Users/tianpengzhang/Desktop/ompl/src/ompl/base/src/SpaceInformation.cpp\n"
     ]
    },
    {
     "name": "stdout",
     "output_type": "stream",
     "text": [
      "Planning for agent 8/16Info:    SpaceTimeRRT: Created 203 states (88 start + 115 goal)\n",
      "\n",
      "Debug:   SpaceTimeRRT: Planner range detected to be inf\n",
      "Info:    SpaceTimeRRT: Starting planning with 1 states already in datastructure\n",
      "Info:    SpaceTimeRRT: Starting planning with time bound factor 2.00\n"
     ]
    },
    {
     "name": "stderr",
     "output_type": "stream",
     "text": [
      "Warning: State validity checker not set! No collision checking is performed\n",
      "         at line 63 in /Users/tianpengzhang/Desktop/ompl/src/ompl/base/src/SpaceInformation.cpp\n"
     ]
    },
    {
     "name": "stdout",
     "output_type": "stream",
     "text": [
      "Info:    SpaceTimeRRT: Increased time bound factor to 4.00\n",
      "Planning for agent 9/16\n",
      "Info:    SpaceTimeRRT: Created 543 states (244 start + 299 goal)\n",
      "Debug:   SpaceTimeRRT: Planner range detected to be inf\n",
      "Info:    SpaceTimeRRT: Starting planning with 1 states already in datastructure\n",
      "Info:    SpaceTimeRRT: Starting planning with time bound factor 2.00\n"
     ]
    },
    {
     "name": "stderr",
     "output_type": "stream",
     "text": [
      "Warning: State validity checker not set! No collision checking is performed\n",
      "         at line 63 in /Users/tianpengzhang/Desktop/ompl/src/ompl/base/src/SpaceInformation.cpp\n"
     ]
    },
    {
     "name": "stdout",
     "output_type": "stream",
     "text": [
      "Info:    SpaceTimeRRT: Increased time bound factor to 4.00\n",
      "Planning for agent 10/16Info:    SpaceTimeRRT: Created 604 states (258 start + 346 goal)\n",
      "\n",
      "Debug:   SpaceTimeRRT: Planner range detected to be inf\n",
      "Info:    SpaceTimeRRT: Starting planning with 1 states already in datastructure\n",
      "Info:    SpaceTimeRRT: Starting planning with time bound factor 2.00\n"
     ]
    },
    {
     "name": "stderr",
     "output_type": "stream",
     "text": [
      "Warning: State validity checker not set! No collision checking is performed\n",
      "         at line 63 in /Users/tianpengzhang/Desktop/ompl/src/ompl/base/src/SpaceInformation.cpp\n"
     ]
    },
    {
     "name": "stdout",
     "output_type": "stream",
     "text": [
      "Info:    SpaceTimeRRT: Increased time bound factor to 4.00\n",
      "Planning for agent 11/16Info:    SpaceTimeRRT: Created 875 states (375 start + 500 goal)\n",
      "\n",
      "Debug:   SpaceTimeRRT: Planner range detected to be inf\n",
      "Info:    SpaceTimeRRT: Starting planning with 1 states already in datastructure\n",
      "Info:    SpaceTimeRRT: Starting planning with time bound factor 2.00\n"
     ]
    },
    {
     "name": "stderr",
     "output_type": "stream",
     "text": [
      "Warning: State validity checker not set! No collision checking is performed\n",
      "         at line 63 in /Users/tianpengzhang/Desktop/ompl/src/ompl/base/src/SpaceInformation.cpp\n"
     ]
    },
    {
     "name": "stdout",
     "output_type": "stream",
     "text": [
      "Info:    SpaceTimeRRT: Increased time bound factor to 4.00\n",
      "Planning for agent 12/16Info:    SpaceTimeRRT: Created 694 states (319 start + 375 goal)\n",
      "\n",
      "Debug:   SpaceTimeRRT: Planner range detected to be inf\n",
      "Info:    SpaceTimeRRT: Starting planning with 1 states already in datastructure\n",
      "Info:    SpaceTimeRRT: Starting planning with time bound factor 2.00\n"
     ]
    },
    {
     "name": "stderr",
     "output_type": "stream",
     "text": [
      "Warning: State validity checker not set! No collision checking is performed\n",
      "         at line 63 in /Users/tianpengzhang/Desktop/ompl/src/ompl/base/src/SpaceInformation.cpp\n"
     ]
    },
    {
     "name": "stdout",
     "output_type": "stream",
     "text": [
      "Info:    SpaceTimeRRT: Increased time bound factor to 4.00\n",
      "Planning for agent 13/16Info:    SpaceTimeRRT: Created 541 states (212 start + 329 goal)\n",
      "\n",
      "Debug:   SpaceTimeRRT: Planner range detected to be inf\n",
      "Info:    SpaceTimeRRT: Starting planning with 1 states already in datastructure\n",
      "Info:    SpaceTimeRRT: Starting planning with time bound factor 2.00\n"
     ]
    },
    {
     "name": "stderr",
     "output_type": "stream",
     "text": [
      "Warning: State validity checker not set! No collision checking is performed\n",
      "         at line 63 in /Users/tianpengzhang/Desktop/ompl/src/ompl/base/src/SpaceInformation.cpp\n"
     ]
    },
    {
     "name": "stdout",
     "output_type": "stream",
     "text": [
      "Info:    SpaceTimeRRT: Increased time bound factor to 4.00\n",
      "Planning for agent 14/16Info:    SpaceTimeRRT: Created 830 states (361 start + 469 goal)\n",
      "\n",
      "Debug:   SpaceTimeRRT: Planner range detected to be inf\n",
      "Info:    SpaceTimeRRT: Starting planning with 1 states already in datastructure\n",
      "Info:    SpaceTimeRRT: Starting planning with time bound factor 2.00\n"
     ]
    },
    {
     "name": "stderr",
     "output_type": "stream",
     "text": [
      "Warning: State validity checker not set! No collision checking is performed\n",
      "         at line 63 in /Users/tianpengzhang/Desktop/ompl/src/ompl/base/src/SpaceInformation.cpp\n"
     ]
    },
    {
     "name": "stdout",
     "output_type": "stream",
     "text": [
      "Info:    SpaceTimeRRT: Increased time bound factor to 4.00\n",
      "Planning for agent 15/16Info:    SpaceTimeRRT: Created 790 states (321 start + 469 goal)\n",
      "\n",
      "Debug:   SpaceTimeRRT: Planner range detected to be inf\n",
      "Info:    SpaceTimeRRT: Starting planning with 1 states already in datastructure\n",
      "Info:    SpaceTimeRRT: Starting planning with time bound factor 2.00\n"
     ]
    },
    {
     "name": "stderr",
     "output_type": "stream",
     "text": [
      "Warning: State validity checker not set! No collision checking is performed\n",
      "         at line 63 in /Users/tianpengzhang/Desktop/ompl/src/ompl/base/src/SpaceInformation.cpp\n"
     ]
    },
    {
     "name": "stdout",
     "output_type": "stream",
     "text": [
      "Info:    SpaceTimeRRT: Increased time bound factor to 4.00\n",
      "On time for algorithmInfo:    SpaceTimeRRT: Created 569 states (248 start + 321 goal)\n",
      " ST-RRT* N agent =  16\n",
      "Env: SingleTunnel Alg: Seq_Tube N agent: 17\n",
      "Planning for agent 0/17\n",
      "Planning for agent 1/17\n",
      "Planning for agent 2/17\n",
      "Planning for agent 3/17\n",
      "Planning for agent 4/17\n",
      "Planning for agent 5/17\n",
      "Planning for agent 6/17\n",
      "Planning for agent 7/17\n",
      "Planning for agent 8/17\n",
      "Planning for agent 9/17\n",
      "Planning for agent 10/17\n",
      "Planning for agent 11/17\n",
      "Planning for agent 12/17\n",
      "Planning for agent 13/17\n",
      "Planning for agent 14/17\n",
      "Planning for agent 15/17\n",
      "Planning for agent 16/17\n",
      "On time for algorithm Seq_Tube N agent =  17\n",
      "Env: SingleTunnel Alg: ST-RRT* N agent: 17\n",
      "Planning for agent 0/17\n",
      "Debug:   SpaceTimeRRT: Planner range detected to be inf\n",
      "Info:    SpaceTimeRRT: Starting planning with 1 states already in datastructure\n",
      "Info:    SpaceTimeRRT: Starting planning with time bound factor 2.00\n",
      "Planning for agent 1/17\n",
      "Info:    SpaceTimeRRT: Created 157 states (69 start + 88 goal)\n",
      "Debug:   SpaceTimeRRT: Planner range detected to be inf\n",
      "Info:    SpaceTimeRRT: Starting planning with 1 states already in datastructure\n",
      "Info:    SpaceTimeRRT: Starting planning with time bound factor 2.00\n"
     ]
    },
    {
     "name": "stderr",
     "output_type": "stream",
     "text": [
      "Warning: State validity checker not set! No collision checking is performed\n",
      "         at line 63 in /Users/tianpengzhang/Desktop/ompl/src/ompl/base/src/SpaceInformation.cpp\n",
      "Warning: State validity checker not set! No collision checking is performed\n",
      "         at line 63 in /Users/tianpengzhang/Desktop/ompl/src/ompl/base/src/SpaceInformation.cpp\n"
     ]
    },
    {
     "name": "stdout",
     "output_type": "stream",
     "text": [
      "Planning for agent 2/17Info:    SpaceTimeRRT: Created 92 states (54 start + 38 goal)\n",
      "\n",
      "Debug:   SpaceTimeRRT: Planner range detected to be inf\n",
      "Info:    SpaceTimeRRT: Starting planning with 1 states already in datastructure\n",
      "Info:    SpaceTimeRRT: Starting planning with time bound factor 2.00\n"
     ]
    },
    {
     "name": "stderr",
     "output_type": "stream",
     "text": [
      "Warning: State validity checker not set! No collision checking is performed\n",
      "         at line 63 in /Users/tianpengzhang/Desktop/ompl/src/ompl/base/src/SpaceInformation.cpp\n"
     ]
    },
    {
     "name": "stdout",
     "output_type": "stream",
     "text": [
      "Planning for agent 3/17Info:    SpaceTimeRRT: Created 234 states (103 start + 131 goal)\n",
      "\n",
      "Debug:   SpaceTimeRRT: Planner range detected to be inf\n",
      "Info:    SpaceTimeRRT: Starting planning with 1 states already in datastructure\n",
      "Info:    SpaceTimeRRT: Starting planning with time bound factor 2.00\n"
     ]
    },
    {
     "name": "stderr",
     "output_type": "stream",
     "text": [
      "Warning: State validity checker not set! No collision checking is performed\n",
      "         at line 63 in /Users/tianpengzhang/Desktop/ompl/src/ompl/base/src/SpaceInformation.cpp\n"
     ]
    },
    {
     "name": "stdout",
     "output_type": "stream",
     "text": [
      "Planning for agent 4/17Info:    SpaceTimeRRT: Created 212 states (77 start + 135 goal)\n",
      "\n",
      "Debug:   SpaceTimeRRT: Planner range detected to be inf\n",
      "Info:    SpaceTimeRRT: Starting planning with 1 states already in datastructure\n",
      "Info:    SpaceTimeRRT: Starting planning with time bound factor 2.00\n",
      "Planning for agent 5/17\n",
      "Info:    SpaceTimeRRT: Created 39 states (15 start + 24 goal)\n",
      "Debug:   SpaceTimeRRT: Planner range detected to be inf\n",
      "Info:    SpaceTimeRRT: Starting planning with 1 states already in datastructure\n",
      "Info:    SpaceTimeRRT: Starting planning with time bound factor 2.00\n"
     ]
    },
    {
     "name": "stderr",
     "output_type": "stream",
     "text": [
      "Warning: State validity checker not set! No collision checking is performed\n",
      "         at line 63 in /Users/tianpengzhang/Desktop/ompl/src/ompl/base/src/SpaceInformation.cpp\n",
      "Warning: State validity checker not set! No collision checking is performed\n",
      "         at line 63 in /Users/tianpengzhang/Desktop/ompl/src/ompl/base/src/SpaceInformation.cpp\n"
     ]
    },
    {
     "name": "stdout",
     "output_type": "stream",
     "text": [
      "Planning for agent 6/17Info:    SpaceTimeRRT: Created 87 states (35 start + 52 goal)\n",
      "\n",
      "Debug:   SpaceTimeRRT: Planner range detected to be inf\n",
      "Info:    SpaceTimeRRT: Starting planning with 1 states already in datastructure\n",
      "Info:    SpaceTimeRRT: Starting planning with time bound factor 2.00\n"
     ]
    },
    {
     "name": "stderr",
     "output_type": "stream",
     "text": [
      "Warning: State validity checker not set! No collision checking is performed\n",
      "         at line 63 in /Users/tianpengzhang/Desktop/ompl/src/ompl/base/src/SpaceInformation.cpp\n"
     ]
    },
    {
     "name": "stdout",
     "output_type": "stream",
     "text": [
      "Planning for agent 7/17Info:    SpaceTimeRRT: Created 304 states (126 start + 178 goal)\n",
      "\n",
      "Debug:   SpaceTimeRRT: Planner range detected to be inf\n",
      "Info:    SpaceTimeRRT: Starting planning with 1 states already in datastructure\n",
      "Info:    SpaceTimeRRT: Starting planning with time bound factor 2.00\n",
      "Planning for agent 8/17\n",
      "Info:    SpaceTimeRRT: Created 82 states (34 start + 48 goal)\n",
      "Debug:   SpaceTimeRRT: Planner range detected to be inf\n",
      "Info:    SpaceTimeRRT: Starting planning with 1 states already in datastructure\n",
      "Info:    SpaceTimeRRT: Starting planning with time bound factor 2.00\n"
     ]
    },
    {
     "name": "stderr",
     "output_type": "stream",
     "text": [
      "Warning: State validity checker not set! No collision checking is performed\n",
      "         at line 63 in /Users/tianpengzhang/Desktop/ompl/src/ompl/base/src/SpaceInformation.cpp\n",
      "Warning: State validity checker not set! No collision checking is performed\n",
      "         at line 63 in /Users/tianpengzhang/Desktop/ompl/src/ompl/base/src/SpaceInformation.cpp\n"
     ]
    },
    {
     "name": "stdout",
     "output_type": "stream",
     "text": [
      "Info:    SpaceTimeRRT: Increased time bound factor to 4.00\n",
      "Planning for agent 9/17Info:    SpaceTimeRRT: Created 710 states (313 start + 397 goal)\n",
      "\n",
      "Debug:   SpaceTimeRRT: Planner range detected to be inf\n",
      "Info:    SpaceTimeRRT: Starting planning with 1 states already in datastructure\n",
      "Info:    SpaceTimeRRT: Starting planning with time bound factor 2.00\n"
     ]
    },
    {
     "name": "stderr",
     "output_type": "stream",
     "text": [
      "Warning: State validity checker not set! No collision checking is performed\n",
      "         at line 63 in /Users/tianpengzhang/Desktop/ompl/src/ompl/base/src/SpaceInformation.cpp\n"
     ]
    },
    {
     "name": "stdout",
     "output_type": "stream",
     "text": [
      "Info:    SpaceTimeRRT: Increased time bound factor to 4.00\n",
      "Planning for agent 10/17Info:    SpaceTimeRRT: Created 554 states (236 start + 318 goal)\n",
      "\n",
      "Debug:   SpaceTimeRRT: Planner range detected to be inf\n",
      "Info:    SpaceTimeRRT: Starting planning with 1 states already in datastructure\n",
      "Info:    SpaceTimeRRT: Starting planning with time bound factor 2.00\n"
     ]
    },
    {
     "name": "stderr",
     "output_type": "stream",
     "text": [
      "Warning: State validity checker not set! No collision checking is performed\n",
      "         at line 63 in /Users/tianpengzhang/Desktop/ompl/src/ompl/base/src/SpaceInformation.cpp\n"
     ]
    },
    {
     "name": "stdout",
     "output_type": "stream",
     "text": [
      "Info:    SpaceTimeRRT: Increased time bound factor to 4.00\n",
      "Planning for agent 11/17Info:    SpaceTimeRRT: Created 657 states (269 start + 388 goal)\n",
      "\n",
      "Debug:   SpaceTimeRRT: Planner range detected to be inf\n",
      "Info:    SpaceTimeRRT: Starting planning with 1 states already in datastructure\n",
      "Info:    SpaceTimeRRT: Starting planning with time bound factor 2.00\n"
     ]
    },
    {
     "name": "stderr",
     "output_type": "stream",
     "text": [
      "Warning: State validity checker not set! No collision checking is performed\n",
      "         at line 63 in /Users/tianpengzhang/Desktop/ompl/src/ompl/base/src/SpaceInformation.cpp\n"
     ]
    },
    {
     "name": "stdout",
     "output_type": "stream",
     "text": [
      "Info:    SpaceTimeRRT: Increased time bound factor to 4.00\n",
      "Planning for agent 12/17Info:    SpaceTimeRRT: Created 631 states (273 start + 358 goal)\n",
      "\n",
      "Debug:   SpaceTimeRRT: Planner range detected to be inf\n",
      "Info:    SpaceTimeRRT: Starting planning with 1 states already in datastructure\n",
      "Info:    SpaceTimeRRT: Starting planning with time bound factor 2.00\n"
     ]
    },
    {
     "name": "stderr",
     "output_type": "stream",
     "text": [
      "Warning: State validity checker not set! No collision checking is performed\n",
      "         at line 63 in /Users/tianpengzhang/Desktop/ompl/src/ompl/base/src/SpaceInformation.cpp\n"
     ]
    },
    {
     "name": "stdout",
     "output_type": "stream",
     "text": [
      "Info:    SpaceTimeRRT: Increased time bound factor to 4.00\n",
      "Info:    SpaceTimeRRT: Increased time bound factor to 8.00\n",
      "Planning for agent 13/17Info:    SpaceTimeRRT: Created 1657 states (717 start + 940 goal)\n",
      "\n",
      "Debug:   SpaceTimeRRT: Planner range detected to be inf\n",
      "Info:    SpaceTimeRRT: Starting planning with 1 states already in datastructure\n",
      "Info:    SpaceTimeRRT: Starting planning with time bound factor 2.00\n"
     ]
    },
    {
     "name": "stderr",
     "output_type": "stream",
     "text": [
      "Warning: State validity checker not set! No collision checking is performed\n",
      "         at line 63 in /Users/tianpengzhang/Desktop/ompl/src/ompl/base/src/SpaceInformation.cpp\n"
     ]
    },
    {
     "name": "stdout",
     "output_type": "stream",
     "text": [
      "Info:    SpaceTimeRRT: Increased time bound factor to 4.00\n",
      "Planning for agent 14/17Info:    SpaceTimeRRT: Created 734 states (315 start + 419 goal)\n",
      "\n",
      "Debug:   SpaceTimeRRT: Planner range detected to be inf\n",
      "Info:    SpaceTimeRRT: Starting planning with 1 states already in datastructure\n",
      "Info:    SpaceTimeRRT: Starting planning with time bound factor 2.00\n"
     ]
    },
    {
     "name": "stderr",
     "output_type": "stream",
     "text": [
      "Warning: State validity checker not set! No collision checking is performed\n",
      "         at line 63 in /Users/tianpengzhang/Desktop/ompl/src/ompl/base/src/SpaceInformation.cpp\n"
     ]
    },
    {
     "name": "stdout",
     "output_type": "stream",
     "text": [
      "Info:    SpaceTimeRRT: Increased time bound factor to 4.00\n",
      "Planning for agent 15/17Info:    SpaceTimeRRT: Created 1237 states (519 start + 718 goal)\n",
      "\n",
      "Debug:   SpaceTimeRRT: Planner range detected to be inf\n",
      "Info:    SpaceTimeRRT: Starting planning with 1 states already in datastructure\n",
      "Info:    SpaceTimeRRT: Starting planning with time bound factor 2.00\n"
     ]
    },
    {
     "name": "stderr",
     "output_type": "stream",
     "text": [
      "Warning: State validity checker not set! No collision checking is performed\n",
      "         at line 63 in /Users/tianpengzhang/Desktop/ompl/src/ompl/base/src/SpaceInformation.cpp\n"
     ]
    },
    {
     "name": "stdout",
     "output_type": "stream",
     "text": [
      "Info:    SpaceTimeRRT: Increased time bound factor to 4.00\n",
      "Planning for agent 16/17Info:    SpaceTimeRRT: Created 585 states (267 start + 318 goal)\n",
      "\n",
      "Debug:   SpaceTimeRRT: Planner range detected to be inf\n",
      "Info:    SpaceTimeRRT: Starting planning with 1 states already in datastructure\n",
      "Info:    SpaceTimeRRT: Starting planning with time bound factor 2.00\n"
     ]
    },
    {
     "name": "stderr",
     "output_type": "stream",
     "text": [
      "Warning: State validity checker not set! No collision checking is performed\n",
      "         at line 63 in /Users/tianpengzhang/Desktop/ompl/src/ompl/base/src/SpaceInformation.cpp\n"
     ]
    },
    {
     "name": "stdout",
     "output_type": "stream",
     "text": [
      "Info:    SpaceTimeRRT: Increased time bound factor to 4.00\n",
      "On time for algorithmInfo:    SpaceTimeRRT: Created 761 states (309 start + 452 goal)\n",
      " ST-RRT* N agent =  17\n",
      "Env: SingleTunnel Alg: Seq_Tube N agent: 18\n",
      "Planning for agent 0/18\n",
      "Planning for agent 1/18\n",
      "Planning for agent 2/18\n",
      "Planning for agent 3/18\n",
      "Planning for agent 4/18\n",
      "Planning for agent 5/18\n",
      "Planning for agent 6/18\n",
      "Planning for agent 7/18\n",
      "Planning for agent 8/18\n",
      "Planning for agent 9/18\n",
      "Planning for agent 10/18\n",
      "MILP low-level encounters infeasibility.\n",
      "On time for algorithm Seq_Tube N agent =  18\n",
      "Env: SingleTunnel Alg: ST-RRT* N agent: 18\n",
      "Planning for agent 0/18\n",
      "Debug:   SpaceTimeRRT: Planner range detected to be inf\n",
      "Info:    SpaceTimeRRT: Starting planning with 1 states already in datastructure\n",
      "Info:    SpaceTimeRRT: Starting planning with time bound factor 2.00\n"
     ]
    },
    {
     "name": "stderr",
     "output_type": "stream",
     "text": [
      "Warning: State validity checker not set! No collision checking is performed\n",
      "         at line 63 in /Users/tianpengzhang/Desktop/ompl/src/ompl/base/src/SpaceInformation.cpp\n"
     ]
    },
    {
     "name": "stdout",
     "output_type": "stream",
     "text": [
      "Planning for agent 1/18Info:    SpaceTimeRRT: Created 273 states (122 start + 151 goal)\n",
      "\n",
      "Debug:   SpaceTimeRRT: Planner range detected to be inf\n",
      "Info:    SpaceTimeRRT: Starting planning with 1 states already in datastructure\n",
      "Info:    SpaceTimeRRT: Starting planning with time bound factor 2.00\n"
     ]
    },
    {
     "name": "stderr",
     "output_type": "stream",
     "text": [
      "Warning: State validity checker not set! No collision checking is performed\n",
      "         at line 63 in /Users/tianpengzhang/Desktop/ompl/src/ompl/base/src/SpaceInformation.cpp\n"
     ]
    },
    {
     "name": "stdout",
     "output_type": "stream",
     "text": [
      "Planning for agent 2/18\n",
      "Info:    SpaceTimeRRT: Created 191 states (83 start + 108 goal)\n",
      "Debug:   SpaceTimeRRT: Planner range detected to be inf\n",
      "Info:    SpaceTimeRRT: Starting planning with 1 states already in datastructure\n",
      "Info:    SpaceTimeRRT: Starting planning with time bound factor 2.00\n"
     ]
    },
    {
     "name": "stderr",
     "output_type": "stream",
     "text": [
      "Warning: State validity checker not set! No collision checking is performed\n",
      "         at line 63 in /Users/tianpengzhang/Desktop/ompl/src/ompl/base/src/SpaceInformation.cpp\n"
     ]
    },
    {
     "name": "stdout",
     "output_type": "stream",
     "text": [
      "Planning for agent 3/18Info:    SpaceTimeRRT: Created 145 states (63 start + 82 goal)\n",
      "\n",
      "Debug:   SpaceTimeRRT: Planner range detected to be inf\n",
      "Info:    SpaceTimeRRT: Starting planning with 1 states already in datastructure\n",
      "Info:    SpaceTimeRRT: Starting planning with time bound factor 2.00\n",
      "Planning for agent 4/18\n",
      "Info:    SpaceTimeRRT: Created 25 states (12 start + 13 goal)\n",
      "Debug:   SpaceTimeRRT: Planner range detected to be inf\n",
      "Info:    SpaceTimeRRT: Starting planning with 1 states already in datastructure\n",
      "Info:    SpaceTimeRRT: Starting planning with time bound factor 2.00\n",
      "Planning for agent 5/18\n"
     ]
    },
    {
     "name": "stderr",
     "output_type": "stream",
     "text": [
      "Warning: State validity checker not set! No collision checking is performed\n",
      "         at line 63 in /Users/tianpengzhang/Desktop/ompl/src/ompl/base/src/SpaceInformation.cpp\n",
      "Warning: State validity checker not set! No collision checking is performed\n",
      "         at line 63 in /Users/tianpengzhang/Desktop/ompl/src/ompl/base/src/SpaceInformation.cpp\n",
      "Warning: State validity checker not set! No collision checking is performed\n",
      "         at line 63 in /Users/tianpengzhang/Desktop/ompl/src/ompl/base/src/SpaceInformation.cpp\n"
     ]
    },
    {
     "name": "stdout",
     "output_type": "stream",
     "text": [
      "Info:    SpaceTimeRRT: Created 24 states (10 start + 14 goal)\n",
      "Debug:   SpaceTimeRRT: Planner range detected to be inf\n",
      "Info:    SpaceTimeRRT: Starting planning with 1 states already in datastructure\n",
      "Info:    SpaceTimeRRT: Starting planning with time bound factor 2.00\n",
      "Planning for agent 6/18Info:    SpaceTimeRRT: Created 136 states (58 start + 78 goal)\n",
      "\n",
      "Debug:   SpaceTimeRRT: Planner range detected to be inf\n",
      "Info:    SpaceTimeRRT: Starting planning with 1 states already in datastructure\n",
      "Info:    SpaceTimeRRT: Starting planning with time bound factor 2.00\n"
     ]
    },
    {
     "name": "stderr",
     "output_type": "stream",
     "text": [
      "Warning: State validity checker not set! No collision checking is performed\n",
      "         at line 63 in /Users/tianpengzhang/Desktop/ompl/src/ompl/base/src/SpaceInformation.cpp\n"
     ]
    },
    {
     "name": "stdout",
     "output_type": "stream",
     "text": [
      "Planning for agent 7/18Info:    SpaceTimeRRT: Created 195 states (92 start + 103 goal)\n",
      "\n",
      "Debug:   SpaceTimeRRT: Planner range detected to be inf\n",
      "Info:    SpaceTimeRRT: Starting planning with 1 states already in datastructure\n",
      "Info:    SpaceTimeRRT: Starting planning with time bound factor 2.00\n"
     ]
    },
    {
     "name": "stderr",
     "output_type": "stream",
     "text": [
      "Warning: State validity checker not set! No collision checking is performed\n",
      "         at line 63 in /Users/tianpengzhang/Desktop/ompl/src/ompl/base/src/SpaceInformation.cpp\n"
     ]
    },
    {
     "name": "stdout",
     "output_type": "stream",
     "text": [
      "Planning for agent 8/18Info:    SpaceTimeRRT: Created 218 states (82 start + 136 goal)\n",
      "\n",
      "Debug:   SpaceTimeRRT: Planner range detected to be inf\n",
      "Info:    SpaceTimeRRT: Starting planning with 1 states already in datastructure\n",
      "Info:    SpaceTimeRRT: Starting planning with time bound factor 2.00\n"
     ]
    },
    {
     "name": "stderr",
     "output_type": "stream",
     "text": [
      "Warning: State validity checker not set! No collision checking is performed\n",
      "         at line 63 in /Users/tianpengzhang/Desktop/ompl/src/ompl/base/src/SpaceInformation.cpp\n"
     ]
    },
    {
     "name": "stdout",
     "output_type": "stream",
     "text": [
      "Planning for agent 9/18Info:    SpaceTimeRRT: Created 180 states (78 start + 102 goal)\n",
      "\n",
      "Debug:   SpaceTimeRRT: Planner range detected to be inf\n",
      "Info:    SpaceTimeRRT: Starting planning with 1 states already in datastructure\n",
      "Info:    SpaceTimeRRT: Starting planning with time bound factor 2.00\n"
     ]
    },
    {
     "name": "stderr",
     "output_type": "stream",
     "text": [
      "Warning: State validity checker not set! No collision checking is performed\n",
      "         at line 63 in /Users/tianpengzhang/Desktop/ompl/src/ompl/base/src/SpaceInformation.cpp\n"
     ]
    },
    {
     "name": "stdout",
     "output_type": "stream",
     "text": [
      "Info:    SpaceTimeRRT: Increased time bound factor to 4.00\n",
      "Planning for agent 10/18Info:    SpaceTimeRRT: Created 619 states (281 start + 338 goal)\n",
      "\n",
      "Debug:   SpaceTimeRRT: Planner range detected to be inf\n",
      "Info:    SpaceTimeRRT: Starting planning with 1 states already in datastructure\n",
      "Info:    SpaceTimeRRT: Starting planning with time bound factor 2.00\n"
     ]
    },
    {
     "name": "stderr",
     "output_type": "stream",
     "text": [
      "Warning: State validity checker not set! No collision checking is performed\n",
      "         at line 63 in /Users/tianpengzhang/Desktop/ompl/src/ompl/base/src/SpaceInformation.cpp\n"
     ]
    },
    {
     "name": "stdout",
     "output_type": "stream",
     "text": [
      "Info:    SpaceTimeRRT: Increased time bound factor to 4.00\n",
      "Planning for agent 11/18Info:    SpaceTimeRRT: Created 569 states (233 start + 336 goal)\n",
      "\n",
      "Debug:   SpaceTimeRRT: Planner range detected to be inf\n",
      "Info:    SpaceTimeRRT: Starting planning with 1 states already in datastructure\n",
      "Info:    SpaceTimeRRT: Starting planning with time bound factor 2.00\n"
     ]
    },
    {
     "name": "stderr",
     "output_type": "stream",
     "text": [
      "Warning: State validity checker not set! No collision checking is performed\n",
      "         at line 63 in /Users/tianpengzhang/Desktop/ompl/src/ompl/base/src/SpaceInformation.cpp\n"
     ]
    },
    {
     "name": "stdout",
     "output_type": "stream",
     "text": [
      "Info:    SpaceTimeRRT: Increased time bound factor to 4.00\n",
      "Info:    SpaceTimeRRT: Increased time bound factor to 8.00\n",
      "Planning for agent 12/18Info:    SpaceTimeRRT: Created 1670 states (760 start + 910 goal)\n",
      "\n",
      "Debug:   SpaceTimeRRT: Planner range detected to be inf\n",
      "Info:    SpaceTimeRRT: Starting planning with 1 states already in datastructure\n",
      "Info:    SpaceTimeRRT: Starting planning with time bound factor 2.00\n"
     ]
    },
    {
     "name": "stderr",
     "output_type": "stream",
     "text": [
      "Warning: State validity checker not set! No collision checking is performed\n",
      "         at line 63 in /Users/tianpengzhang/Desktop/ompl/src/ompl/base/src/SpaceInformation.cpp\n"
     ]
    },
    {
     "name": "stdout",
     "output_type": "stream",
     "text": [
      "Info:    SpaceTimeRRT: Increased time bound factor to 4.00\n",
      "Info:    SpaceTimeRRT: Increased time bound factor to 8.00\n",
      "Planning for agent 13/18Info:    SpaceTimeRRT: Created 1640 states (738 start + 902 goal)\n",
      "\n",
      "Debug:   SpaceTimeRRT: Planner range detected to be inf\n",
      "Info:    SpaceTimeRRT: Starting planning with 1 states already in datastructure\n",
      "Info:    SpaceTimeRRT: Starting planning with time bound factor 2.00\n"
     ]
    },
    {
     "name": "stderr",
     "output_type": "stream",
     "text": [
      "Warning: State validity checker not set! No collision checking is performed\n",
      "         at line 63 in /Users/tianpengzhang/Desktop/ompl/src/ompl/base/src/SpaceInformation.cpp\n"
     ]
    },
    {
     "name": "stdout",
     "output_type": "stream",
     "text": [
      "Info:    SpaceTimeRRT: Increased time bound factor to 4.00\n",
      "Planning for agent 14/18Info:    SpaceTimeRRT: Created 724 states (312 start + 412 goal)\n",
      "\n",
      "Debug:   SpaceTimeRRT: Planner range detected to be inf\n",
      "Info:    SpaceTimeRRT: Starting planning with 1 states already in datastructure\n",
      "Info:    SpaceTimeRRT: Starting planning with time bound factor 2.00\n"
     ]
    },
    {
     "name": "stderr",
     "output_type": "stream",
     "text": [
      "Warning: State validity checker not set! No collision checking is performed\n",
      "         at line 63 in /Users/tianpengzhang/Desktop/ompl/src/ompl/base/src/SpaceInformation.cpp\n"
     ]
    },
    {
     "name": "stdout",
     "output_type": "stream",
     "text": [
      "Info:    SpaceTimeRRT: Increased time bound factor to 4.00\n",
      "Info:    SpaceTimeRRT: Increased time bound factor to 8.00\n",
      "Planning for agent 15/18Info:    SpaceTimeRRT: Created 1635 states (682 start + 953 goal)\n",
      "\n",
      "Debug:   SpaceTimeRRT: Planner range detected to be inf\n",
      "Info:    SpaceTimeRRT: Starting planning with 1 states already in datastructure\n",
      "Info:    SpaceTimeRRT: Starting planning with time bound factor 2.00\n"
     ]
    },
    {
     "name": "stderr",
     "output_type": "stream",
     "text": [
      "Warning: State validity checker not set! No collision checking is performed\n",
      "         at line 63 in /Users/tianpengzhang/Desktop/ompl/src/ompl/base/src/SpaceInformation.cpp\n"
     ]
    },
    {
     "name": "stdout",
     "output_type": "stream",
     "text": [
      "Info:    SpaceTimeRRT: Increased time bound factor to 4.00\n",
      "Planning for agent 16/18Info:    SpaceTimeRRT: Created 971 states (400 start + 571 goal)\n",
      "\n",
      "Debug:   SpaceTimeRRT: Planner range detected to be inf\n",
      "Info:    SpaceTimeRRT: Starting planning with 1 states already in datastructure\n",
      "Info:    SpaceTimeRRT: Starting planning with time bound factor 2.00\n"
     ]
    },
    {
     "name": "stderr",
     "output_type": "stream",
     "text": [
      "Warning: State validity checker not set! No collision checking is performed\n",
      "         at line 63 in /Users/tianpengzhang/Desktop/ompl/src/ompl/base/src/SpaceInformation.cpp\n"
     ]
    },
    {
     "name": "stdout",
     "output_type": "stream",
     "text": [
      "Info:    SpaceTimeRRT: Increased time bound factor to 4.00\n",
      "Info:    SpaceTimeRRT: Increased time bound factor to 8.00\n",
      "Planning for agent 17/18Info:    SpaceTimeRRT: Created 1589 states (724 start + 865 goal)\n",
      "\n",
      "Debug:   SpaceTimeRRT: Planner range detected to be inf\n",
      "Info:    SpaceTimeRRT: Starting planning with 1 states already in datastructure\n",
      "Info:    SpaceTimeRRT: Starting planning with time bound factor 2.00\n",
      "Algorithm timeout\n",
      "Timeout\n",
      "Time out for algorithm ST-RRT* N agent =  18\n",
      "Env: SingleTunnel Alg: Seq_Tube N agent: 19\n",
      "Planning for agent 0/19\n"
     ]
    },
    {
     "name": "stderr",
     "output_type": "stream",
     "text": [
      "Warning: State validity checker not set! No collision checking is performed\n",
      "         at line 63 in /Users/tianpengzhang/Desktop/ompl/src/ompl/base/src/SpaceInformation.cpp\n"
     ]
    },
    {
     "name": "stdout",
     "output_type": "stream",
     "text": [
      "Planning for agent 1/19\n",
      "Planning for agent 2/19\n",
      "Planning for agent 3/19\n",
      "Planning for agent 4/19\n",
      "Planning for agent 5/19\n",
      "Planning for agent 6/19\n",
      "Planning for agent 7/19\n",
      "Planning for agent 8/19\n",
      "Planning for agent 9/19\n",
      "Planning for agent 10/19\n",
      "MILP low-level encounters infeasibility.\n",
      "On time for algorithm Seq_Tube N agent =  19\n",
      "Env: SingleTunnel Alg: Seq_Tube N agent: 20\n",
      "Planning for agent 0/20\n",
      "Planning for agent 1/20\n",
      "Planning for agent 2/20\n",
      "Planning for agent 3/20\n",
      "Planning for agent 4/20\n",
      "Planning for agent 5/20\n",
      "Planning for agent 6/20\n",
      "Planning for agent 7/20\n",
      "Planning for agent 8/20\n",
      "Planning for agent 9/20\n",
      "Planning for agent 10/20\n",
      "Planning for agent 11/20\n",
      "Planning for agent 12/20\n",
      "Planning for agent 13/20\n",
      "Planning for agent 14/20\n",
      "Planning for agent 15/20\n",
      "Planning for agent 16/20\n",
      "Planning for agent 17/20\n",
      "Planning for agent 18/20\n",
      "Planning for agent 19/20\n",
      "On time for algorithm Seq_Tube N agent =  20\n",
      "Env: SingleTunnel Alg: Seq_Tube N agent: 21\n",
      "Planning for agent 0/21\n",
      "Planning for agent 1/21\n",
      "Planning for agent 2/21\n",
      "Planning for agent 3/21\n",
      "Planning for agent 4/21\n",
      "Planning for agent 5/21\n",
      "Planning for agent 6/21\n",
      "Planning for agent 7/21\n",
      "Planning for agent 8/21\n",
      "Planning for agent 9/21\n",
      "Planning for agent 10/21\n",
      "Planning for agent 11/21\n",
      "Planning for agent 12/21\n",
      "Planning for agent 13/21\n",
      "Planning for agent 14/21\n",
      "Planning for agent 15/21\n",
      "Planning for agent 16/21\n",
      "Planning for agent 17/21\n",
      "Planning for agent 18/21\n",
      "Planning for agent 19/21\n",
      "Planning for agent 20/21\n",
      "On time for algorithm Seq_Tube N agent =  21\n",
      "Env: SingleTunnel Alg: Seq_Tube N agent: 22\n",
      "Planning for agent 0/22\n",
      "Planning for agent 1/22\n",
      "Planning for agent 2/22\n",
      "Planning for agent 3/22\n",
      "Planning for agent 4/22\n",
      "Planning for agent 5/22\n",
      "Planning for agent 6/22\n",
      "Planning for agent 7/22\n",
      "Planning for agent 8/22\n",
      "Planning for agent 9/22\n",
      "Planning for agent 10/22\n",
      "Planning for agent 11/22\n",
      "Planning for agent 12/22\n",
      "MILP low-level encounters infeasibility.\n",
      "On time for algorithm Seq_Tube N agent =  22\n",
      "Env: SingleTunnel Alg: Seq_Tube N agent: 23\n",
      "Planning for agent 0/23\n",
      "Planning for agent 1/23\n",
      "Planning for agent 2/23\n",
      "Planning for agent 3/23\n",
      "Planning for agent 4/23\n",
      "Planning for agent 5/23\n",
      "Planning for agent 6/23\n",
      "Planning for agent 7/23\n",
      "Planning for agent 8/23\n",
      "Planning for agent 9/23\n",
      "Planning for agent 10/23\n",
      "Planning for agent 11/23\n",
      "Planning for agent 12/23\n",
      "MILP low-level encounters infeasibility.\n",
      "On time for algorithm Seq_Tube N agent =  23\n",
      "Env: SingleTunnel Alg: Seq_Tube N agent: 24\n",
      "Planning for agent 0/24\n",
      "Planning for agent 1/24\n",
      "Planning for agent 2/24\n",
      "Planning for agent 3/24\n",
      "Planning for agent 4/24\n",
      "Planning for agent 5/24\n",
      "Planning for agent 6/24\n",
      "Planning for agent 7/24\n",
      "Planning for agent 8/24\n",
      "Planning for agent 9/24\n",
      "Planning for agent 10/24\n",
      "Planning for agent 11/24\n",
      "Planning for agent 12/24\n",
      "Planning for agent 13/24\n",
      "Planning for agent 14/24\n",
      "Planning for agent 15/24\n",
      "Planning for agent 16/24\n",
      "Planning for agent 17/24\n",
      "Planning for agent 18/24\n",
      "Planning for agent 19/24\n",
      "Planning for agent 20/24\n",
      "Algorithm timeout\n",
      "Time out for algorithm Seq_Tube N agent =  24\n"
     ]
    }
   ],
   "source": [
    "results,executed = get_checkpoint_state(env_name,algs,N_range,first_run = True)\n",
    "\n",
    "# results,executed = get_checkpoint_state(env_name,algs,N_range)\n",
    "run_experiments(env_name,\n",
    "                env_info[env_name],\n",
    "                N_range,\n",
    "                algs,\n",
    "                TIMEOUT,\n",
    "                results,\n",
    "                executed)"
   ]
  }
 ],
 "metadata": {
  "kernelspec": {
   "display_name": "Python 3 (ipykernel)",
   "language": "python",
   "name": "python3"
  },
  "language_info": {
   "codemirror_mode": {
    "name": "ipython",
    "version": 3
   },
   "file_extension": ".py",
   "mimetype": "text/x-python",
   "name": "python",
   "nbconvert_exporter": "python",
   "pygments_lexer": "ipython3",
   "version": "3.11.0"
  }
 },
 "nbformat": 4,
 "nbformat_minor": 5
}
