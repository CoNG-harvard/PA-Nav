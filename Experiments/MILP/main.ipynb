{
 "cells": [
  {
   "cell_type": "markdown",
   "id": "93964b26-d9f5-45ac-9818-50cc2951a2d5",
   "metadata": {},
   "source": [
    "# Benchmarking Our Algorithm against others"
   ]
  },
  {
   "cell_type": "code",
   "execution_count": 1,
   "id": "4f6a1483-2bff-48b4-a976-d9891665966d",
   "metadata": {},
   "outputs": [
    {
     "name": "stderr",
     "output_type": "stream",
     "text": [
      "<frozen importlib._bootstrap>:241: RuntimeWarning: to-Python converter for ompl::msg::LogLevel already registered; second conversion method ignored.\n"
     ]
    }
   ],
   "source": [
    "import sys\n",
    "sys.path.append('../../')\n",
    "from panav.environment.env import Room\n",
    "\n",
    "from panav.PBS.PBS import PBS\n",
    "from panav.sequential import sequential_planning\n",
    "from panav.PIBT import PIBT_plan\n",
    "from panav.SAMP.solvers import Tube_Planning, Simple_MILP_Planning\n",
    "\n",
    "from benchmarks.ST_RRTStar_wrapper import sequential_ST_RRTStar \n",
    "\n",
    "\n",
    "from time import time\n",
    "import pickle as pkl\n",
    "\n",
    "%load_ext autoreload\n",
    "%autoreload 2"
   ]
  },
  {
   "cell_type": "code",
   "execution_count": 2,
   "id": "58d186dc",
   "metadata": {},
   "outputs": [],
   "source": [
    "bloating_r = 0.5\n",
    "vmax = 1.0\n",
    "\n",
    "#### 100 agent configuration ####\n",
    "bloating_r = 0.5\n",
    "vmax = 1.0\n",
    "\n",
    "TIMEOUT = 100 # timeout\n",
    "\n",
    "# Algorithms\n",
    "algs = {  \n",
    "        \"Seq_Tube\": lambda env: sequential_planning(Tube_Planning,env,vmax,bloating_r,TIMEOUT=TIMEOUT),      \n",
    "        \"Seq_Tube_nonLazy\": lambda env: sequential_planning(Tube_Planning,env,vmax,bloating_r,TIMEOUT=TIMEOUT,lazy = False),      \n",
    "        \"Seq_S2M2\": lambda env: sequential_planning(Simple_MILP_Planning,env,vmax,bloating_r,TIMEOUT=TIMEOUT,lazy = False),\n",
    "        \"ST-RRT*\": lambda env: sequential_ST_RRTStar(env,vmax,bloating_r)\n",
    "        }"
   ]
  },
  {
   "cell_type": "code",
   "execution_count": 8,
   "id": "d438688e",
   "metadata": {},
   "outputs": [
    {
     "name": "stdout",
     "output_type": "stream",
     "text": [
      "['MultiTunnel', 'Room', 'SingleTunnel', 'Warehouse']\n"
     ]
    }
   ],
   "source": [
    "from os import listdir\n",
    "def get_env_name(filename):\n",
    "    fs = filename.split('.')\n",
    "    return fs[0]\n",
    "\n",
    "env_names = [get_env_name(fn) for fn in listdir('./envs')]\n",
    "\n",
    "print(env_names)"
   ]
  },
  {
   "cell_type": "code",
   "execution_count": 11,
   "id": "c94daae7",
   "metadata": {},
   "outputs": [
    {
     "name": "stdout",
     "output_type": "stream",
     "text": [
      "Env: MultiTunnel.pkl Alg: Seq_Tube N agent: 1\n",
      "Planning for agent 0/1\n",
      "On time for algorithm Seq_Tube N agent =  1\n",
      "Env: MultiTunnel.pkl Alg: Seq_Tube_nonLazy N agent: 1\n",
      "Planning for agent 0/1\n",
      "On time for algorithm Seq_Tube_nonLazy N agent =  1\n",
      "Env: MultiTunnel.pkl Alg: Seq_S2M2 N agent: 1\n",
      "Planning for agent 0/1\n",
      "On time for algorithm Seq_S2M2 N agent =  1\n",
      "Env: MultiTunnel.pkl Alg: ST-RRT* N agent: 1\n",
      "Planning for agent 0/1\n",
      "Debug:   SpaceTimeRRT: Planner range detected to be inf\n",
      "Info:    SpaceTimeRRT: Starting planning with 1 states already in datastructure\n",
      "Info:    SpaceTimeRRT: Starting planning with time bound factor 2.00\n"
     ]
    },
    {
     "name": "stderr",
     "output_type": "stream",
     "text": [
      "/Users/tianpengzhang/opt/miniconda3/envs/PA-NAV/lib/python3.11/site-packages/cvxpy/problems/problem.py:1391: UserWarning: \n",
      "    The problem is either infeasible or unbounded, but the solver\n",
      "    cannot tell which. Disable any solver-specific presolve methods\n",
      "    and re-solve to determine the precise problem status.\n",
      "\n",
      "    For GUROBI and CPLEX you can automatically perform this re-solve\n",
      "    with the keyword argument prob.solve(reoptimize=True, ...).\n",
      "    \n",
      "  warnings.warn(INF_OR_UNB_MESSAGE)\n",
      "Warning: State validity checker not set! No collision checking is performed\n",
      "         at line 63 in /Users/tianpengzhang/Desktop/ompl/src/ompl/base/src/SpaceInformation.cpp\n",
      "/Users/tianpengzhang/opt/miniconda3/envs/PA-NAV/lib/python3.11/site-packages/shapely/measurement.py:74: RuntimeWarning: invalid value encountered in distance\n",
      "  return lib.distance(a, b, **kwargs)\n"
     ]
    },
    {
     "name": "stdout",
     "output_type": "stream",
     "text": [
      "On time for algorithmInfo:    SpaceTimeRRT: Created 73 states (32 start + 41 goal)\n",
      " ST-RRT* N agent =  1\n",
      "Env: MultiTunnel.pkl Alg: Seq_Tube N agent: 2\n",
      "Planning for agent 0/2\n",
      "Planning for agent 1/2\n",
      "On time for algorithm Seq_Tube N agent =  2\n",
      "Env: MultiTunnel.pkl Alg: Seq_Tube_nonLazy N agent: 2\n",
      "Planning for agent 0/2\n",
      "Planning for agent 1/2\n",
      "On time for algorithm Seq_Tube_nonLazy N agent =  2\n",
      "Env: MultiTunnel.pkl Alg: Seq_S2M2 N agent: 2\n",
      "Planning for agent 0/2\n",
      "Planning for agent 1/2\n",
      "On time for algorithm Seq_S2M2 N agent =  2\n",
      "Env: MultiTunnel.pkl Alg: ST-RRT* N agent: 2\n",
      "Planning for agent 0/2\n",
      "Debug:   SpaceTimeRRT: Planner range detected to be inf\n",
      "Info:    SpaceTimeRRT: Starting planning with 1 states already in datastructure\n",
      "Info:    SpaceTimeRRT: Starting planning with time bound factor 2.00\n"
     ]
    },
    {
     "name": "stderr",
     "output_type": "stream",
     "text": [
      "Warning: State validity checker not set! No collision checking is performed\n",
      "         at line 63 in /Users/tianpengzhang/Desktop/ompl/src/ompl/base/src/SpaceInformation.cpp\n",
      "Warning: State validity checker not set! No collision checking is performed\n",
      "         at line 63 in /Users/tianpengzhang/Desktop/ompl/src/ompl/base/src/SpaceInformation.cpp\n"
     ]
    },
    {
     "name": "stdout",
     "output_type": "stream",
     "text": [
      "Planning for agent 1/2Info:    SpaceTimeRRT: Created 52 states (18 start + 34 goal)\n",
      "\n",
      "Debug:   SpaceTimeRRT: Planner range detected to be inf\n",
      "Info:    SpaceTimeRRT: Starting planning with 1 states already in datastructure\n",
      "Info:    SpaceTimeRRT: Starting planning with time bound factor 2.00\n",
      "On time for algorithm ST-RRT* N agent =  2\n",
      "Info:    SpaceTimeRRT: Created 86 states (37 start + 49 goal)\n",
      "Env: MultiTunnel.pkl Alg: Seq_Tube N agent: 3\n",
      "Planning for agent 0/3\n",
      "Planning for agent 1/3\n",
      "Planning for agent 2/3\n",
      "On time for algorithm Seq_Tube N agent =  3\n",
      "Env: MultiTunnel.pkl Alg: Seq_Tube_nonLazy N agent: 3\n",
      "Planning for agent 0/3\n",
      "Planning for agent 1/3\n",
      "Planning for agent 2/3\n",
      "On time for algorithm Seq_Tube_nonLazy N agent =  3\n",
      "Env: MultiTunnel.pkl Alg: Seq_S2M2 N agent: 3\n",
      "Planning for agent 0/3\n",
      "Planning for agent 1/3\n",
      "Planning for agent 2/3\n",
      "On time for algorithm Seq_S2M2 N agent =  3\n",
      "Env: MultiTunnel.pkl Alg: ST-RRT* N agent: 3\n",
      "Planning for agent 0/3\n",
      "Debug:   SpaceTimeRRT: Planner range detected to be inf\n",
      "Info:    SpaceTimeRRT: Starting planning with 1 states already in datastructure\n",
      "Info:    SpaceTimeRRT: Starting planning with time bound factor 2.00\n",
      "Planning for agent 1/3\n",
      "Info:    SpaceTimeRRT: Created 150 states (58 start + 92 goal)\n",
      "Debug:   SpaceTimeRRT: Planner range detected to be inf\n",
      "Info:    SpaceTimeRRT: Starting planning with 1 states already in datastructure\n",
      "Info:    SpaceTimeRRT: Starting planning with time bound factor 2.00\n"
     ]
    },
    {
     "name": "stderr",
     "output_type": "stream",
     "text": [
      "Warning: State validity checker not set! No collision checking is performed\n",
      "         at line 63 in /Users/tianpengzhang/Desktop/ompl/src/ompl/base/src/SpaceInformation.cpp\n",
      "Warning: State validity checker not set! No collision checking is performed\n",
      "         at line 63 in /Users/tianpengzhang/Desktop/ompl/src/ompl/base/src/SpaceInformation.cpp\n"
     ]
    },
    {
     "name": "stdout",
     "output_type": "stream",
     "text": [
      "Planning for agent 2/3Info:    SpaceTimeRRT: Increased time bound factor to 4.00\n",
      "Info:    SpaceTimeRRT: Created 515 states (508 start + 7 goal)\n",
      "\n",
      "Debug:   SpaceTimeRRT: Planner range detected to be inf\n",
      "Info:    SpaceTimeRRT: Starting planning with 1 states already in datastructure\n",
      "Info:    SpaceTimeRRT: Starting planning with time bound factor 2.00\n",
      "Info:    SpaceTimeRRT: Created 95 states (37 start + 58 goal)\n",
      "On time for algorithm ST-RRT* N agent =  3\n",
      "Env: MultiTunnel.pkl Alg: Seq_Tube N agent: 4\n",
      "Planning for agent 0/4\n"
     ]
    },
    {
     "name": "stderr",
     "output_type": "stream",
     "text": [
      "Warning: State validity checker not set! No collision checking is performed\n",
      "         at line 63 in /Users/tianpengzhang/Desktop/ompl/src/ompl/base/src/SpaceInformation.cpp\n"
     ]
    },
    {
     "name": "stdout",
     "output_type": "stream",
     "text": [
      "Planning for agent 1/4\n",
      "Planning for agent 2/4\n",
      "Planning for agent 3/4\n",
      "On time for algorithm Seq_Tube N agent =  4\n",
      "Env: MultiTunnel.pkl Alg: Seq_Tube_nonLazy N agent: 4\n",
      "Planning for agent 0/4\n",
      "Planning for agent 1/4\n",
      "Planning for agent 2/4\n",
      "Planning for agent 3/4\n",
      "On time for algorithm Seq_Tube_nonLazy N agent =  4\n",
      "Env: MultiTunnel.pkl Alg: Seq_S2M2 N agent: 4\n",
      "Planning for agent 0/4\n",
      "Planning for agent 1/4\n",
      "Planning for agent 2/4\n",
      "Planning for agent 3/4\n",
      "On time for algorithm Seq_S2M2 N agent =  4\n",
      "Env: MultiTunnel.pkl Alg: ST-RRT* N agent: 4\n",
      "Planning for agent 0/4\n",
      "Debug:   SpaceTimeRRT: Planner range detected to be inf\n",
      "Info:    SpaceTimeRRT: Starting planning with 1 states already in datastructure\n",
      "Info:    SpaceTimeRRT: Starting planning with time bound factor 2.00\n"
     ]
    },
    {
     "name": "stderr",
     "output_type": "stream",
     "text": [
      "Warning: State validity checker not set! No collision checking is performed\n",
      "         at line 63 in /Users/tianpengzhang/Desktop/ompl/src/ompl/base/src/SpaceInformation.cpp\n",
      "Warning: State validity checker not set! No collision checking is performed\n",
      "         at line 63 in /Users/tianpengzhang/Desktop/ompl/src/ompl/base/src/SpaceInformation.cpp\n"
     ]
    },
    {
     "name": "stdout",
     "output_type": "stream",
     "text": [
      "Planning for agent 1/4Info:    SpaceTimeRRT: Created 108 states (45 start + 63 goal)\n",
      "\n",
      "Debug:   SpaceTimeRRT: Planner range detected to be inf\n",
      "Info:    SpaceTimeRRT: Starting planning with 1 states already in datastructure\n",
      "Info:    SpaceTimeRRT: Starting planning with time bound factor 2.00\n",
      "Planning for agent 2/4\n",
      "Info:    SpaceTimeRRT: Created 96 states (39 start + 57 goal)\n",
      "Debug:   SpaceTimeRRT: Planner range detected to be inf\n",
      "Info:    SpaceTimeRRT: Starting planning with 1 states already in datastructure\n",
      "Info:    SpaceTimeRRT: Starting planning with time bound factor 2.00\n"
     ]
    },
    {
     "name": "stderr",
     "output_type": "stream",
     "text": [
      "Warning: State validity checker not set! No collision checking is performed\n",
      "         at line 63 in /Users/tianpengzhang/Desktop/ompl/src/ompl/base/src/SpaceInformation.cpp\n",
      "Warning: State validity checker not set! No collision checking is performed\n",
      "         at line 63 in /Users/tianpengzhang/Desktop/ompl/src/ompl/base/src/SpaceInformation.cpp\n"
     ]
    },
    {
     "name": "stdout",
     "output_type": "stream",
     "text": [
      "Planning for agent 3/4Info:    SpaceTimeRRT: Created 75 states (38 start + 37 goal)\n",
      "\n",
      "Debug:   SpaceTimeRRT: Planner range detected to be inf\n",
      "Info:    SpaceTimeRRT: Starting planning with 1 states already in datastructure\n",
      "Info:    SpaceTimeRRT: Starting planning with time bound factor 2.00\n",
      "On time for algorithm ST-RRT* N agent =  4\n",
      "Info:    SpaceTimeRRT: Created 80 states (41 start + 39 goal)\n",
      "Env: MultiTunnel.pkl Alg: Seq_Tube N agent: 5\n",
      "Planning for agent 0/5\n",
      "Planning for agent 1/5\n",
      "Planning for agent 2/5\n",
      "Planning for agent 3/5\n",
      "Planning for agent 4/5\n",
      "On time for algorithm Seq_Tube N agent =  5\n",
      "Env: MultiTunnel.pkl Alg: Seq_Tube_nonLazy N agent: 5\n",
      "Planning for agent 0/5\n",
      "Planning for agent 1/5\n",
      "Planning for agent 2/5\n",
      "Planning for agent 3/5\n",
      "Planning for agent 4/5\n",
      "On time for algorithm Seq_Tube_nonLazy N agent =  5\n",
      "Env: MultiTunnel.pkl Alg: Seq_S2M2 N agent: 5\n",
      "Planning for agent 0/5\n",
      "Planning for agent 1/5\n",
      "Planning for agent 2/5\n",
      "Planning for agent 3/5\n",
      "Planning for agent 4/5\n",
      "On time for algorithm Seq_S2M2 N agent =  5\n",
      "Env: MultiTunnel.pkl Alg: ST-RRT* N agent: 5\n",
      "Planning for agent 0/5\n",
      "Debug:   SpaceTimeRRT: Planner range detected to be inf\n",
      "Info:    SpaceTimeRRT: Starting planning with 1 states already in datastructure\n",
      "Info:    SpaceTimeRRT: Starting planning with time bound factor 2.00\n",
      "Planning for agent 1/5\n",
      "Info:    SpaceTimeRRT: Created 120 states (62 start + 58 goal)\n",
      "Debug:   SpaceTimeRRT: Planner range detected to be inf\n",
      "Info:    SpaceTimeRRT: Starting planning with 1 states already in datastructure\n",
      "Info:    SpaceTimeRRT: Starting planning with time bound factor 2.00\n"
     ]
    },
    {
     "name": "stderr",
     "output_type": "stream",
     "text": [
      "Warning: State validity checker not set! No collision checking is performed\n",
      "         at line 63 in /Users/tianpengzhang/Desktop/ompl/src/ompl/base/src/SpaceInformation.cpp\n",
      "Warning: State validity checker not set! No collision checking is performed\n",
      "         at line 63 in /Users/tianpengzhang/Desktop/ompl/src/ompl/base/src/SpaceInformation.cpp\n"
     ]
    },
    {
     "name": "stdout",
     "output_type": "stream",
     "text": [
      "Planning for agent 2/5\n",
      "Info:    SpaceTimeRRT: Created 76 states (35 start + 41 goal)\n",
      "Debug:   SpaceTimeRRT: Planner range detected to be inf\n",
      "Info:    SpaceTimeRRT: Starting planning with 1 states already in datastructure\n",
      "Info:    SpaceTimeRRT: Starting planning with time bound factor 2.00\n",
      "Planning for agent 3/5\n",
      "Info:    SpaceTimeRRT: Created 41 states (25 start + 16 goal)\n",
      "Debug:   SpaceTimeRRT: Planner range detected to be inf\n",
      "Info:    SpaceTimeRRT: Starting planning with 1 states already in datastructure\n",
      "Info:    SpaceTimeRRT: Starting planning with time bound factor 2.00\n",
      "Planning for agent 4/5\n"
     ]
    },
    {
     "name": "stderr",
     "output_type": "stream",
     "text": [
      "Warning: State validity checker not set! No collision checking is performed\n",
      "         at line 63 in /Users/tianpengzhang/Desktop/ompl/src/ompl/base/src/SpaceInformation.cpp\n",
      "Warning: State validity checker not set! No collision checking is performed\n",
      "         at line 63 in /Users/tianpengzhang/Desktop/ompl/src/ompl/base/src/SpaceInformation.cpp\n",
      "Warning: State validity checker not set! No collision checking is performed\n",
      "         at line 63 in /Users/tianpengzhang/Desktop/ompl/src/ompl/base/src/SpaceInformation.cpp\n"
     ]
    },
    {
     "name": "stdout",
     "output_type": "stream",
     "text": [
      "Info:    SpaceTimeRRT: Created 45 states (21 start + 24 goal)\n",
      "Debug:   SpaceTimeRRT: Planner range detected to be inf\n",
      "Info:    SpaceTimeRRT: Starting planning with 1 states already in datastructure\n",
      "Info:    SpaceTimeRRT: Starting planning with time bound factor 2.00\n",
      "On time for algorithm ST-RRT* N agent =  5\n",
      "Info:    SpaceTimeRRT: Created 40 states (16 start + 24 goal)\n",
      "Env: MultiTunnel.pkl Alg: Seq_Tube N agent: 6\n",
      "Planning for agent 0/6\n",
      "Planning for agent 1/6\n",
      "Planning for agent 2/6\n",
      "Planning for agent 3/6\n",
      "Planning for agent 4/6\n",
      "Planning for agent 5/6\n",
      "On time for algorithm Seq_Tube N agent =  6\n",
      "Env: MultiTunnel.pkl Alg: Seq_Tube_nonLazy N agent: 6\n",
      "Planning for agent 0/6\n",
      "Planning for agent 1/6\n",
      "Planning for agent 2/6\n",
      "Planning for agent 3/6\n",
      "Planning for agent 4/6\n",
      "Planning for agent 5/6\n",
      "On time for algorithm Seq_Tube_nonLazy N agent =  6\n",
      "Env: MultiTunnel.pkl Alg: Seq_S2M2 N agent: 6\n",
      "Planning for agent 0/6\n",
      "Planning for agent 1/6\n",
      "Planning for agent 2/6\n",
      "Planning for agent 3/6\n",
      "Planning for agent 4/6\n",
      "Planning for agent 5/6\n",
      "On time for algorithm Seq_S2M2 N agent =  6\n",
      "Env: MultiTunnel.pkl Alg: ST-RRT* N agent: 6\n",
      "Planning for agent 0/6\n",
      "Debug:   SpaceTimeRRT: Planner range detected to be inf\n",
      "Info:    SpaceTimeRRT: Starting planning with 1 states already in datastructure\n",
      "Info:    SpaceTimeRRT: Starting planning with time bound factor 2.00\n",
      "Planning for agent 1/6\n",
      "Info:    SpaceTimeRRT: Created 151 states (69 start + 82 goal)\n",
      "Debug:   SpaceTimeRRT: Planner range detected to be inf\n",
      "Info:    SpaceTimeRRT: Starting planning with 1 states already in datastructure\n",
      "Info:    SpaceTimeRRT: Starting planning with time bound factor 2.00\n",
      "Planning for agent 2/6\n",
      "Info:    SpaceTimeRRT: Created 84 states (41 start + 43 goal)\n"
     ]
    },
    {
     "name": "stderr",
     "output_type": "stream",
     "text": [
      "Warning: State validity checker not set! No collision checking is performed\n",
      "         at line 63 in /Users/tianpengzhang/Desktop/ompl/src/ompl/base/src/SpaceInformation.cpp\n",
      "Warning: State validity checker not set! No collision checking is performed\n",
      "         at line 63 in /Users/tianpengzhang/Desktop/ompl/src/ompl/base/src/SpaceInformation.cpp\n"
     ]
    },
    {
     "name": "stdout",
     "output_type": "stream",
     "text": [
      "Debug:   SpaceTimeRRT: Planner range detected to be inf\n",
      "Info:    SpaceTimeRRT: Starting planning with 1 states already in datastructure\n",
      "Info:    SpaceTimeRRT: Starting planning with time bound factor 2.00\n",
      "Planning for agent 3/6\n",
      "Info:    SpaceTimeRRT: Created 52 states (21 start + 31 goal)\n",
      "Debug:   SpaceTimeRRT: Planner range detected to be inf\n",
      "Info:    SpaceTimeRRT: Starting planning with 1 states already in datastructure\n",
      "Info:    SpaceTimeRRT: Starting planning with time bound factor 2.00\n"
     ]
    },
    {
     "name": "stderr",
     "output_type": "stream",
     "text": [
      "Warning: State validity checker not set! No collision checking is performed\n",
      "         at line 63 in /Users/tianpengzhang/Desktop/ompl/src/ompl/base/src/SpaceInformation.cpp\n",
      "Warning: State validity checker not set! No collision checking is performed\n",
      "         at line 63 in /Users/tianpengzhang/Desktop/ompl/src/ompl/base/src/SpaceInformation.cpp\n"
     ]
    },
    {
     "name": "stdout",
     "output_type": "stream",
     "text": [
      "Planning for agent 4/6\n",
      "Info:    SpaceTimeRRT: Created 64 states (36 start + 28 goal)\n",
      "Debug:   SpaceTimeRRT: Planner range detected to be inf\n",
      "Info:    SpaceTimeRRT: Starting planning with 1 states already in datastructure\n",
      "Info:    SpaceTimeRRT: Starting planning with time bound factor 2.00\n"
     ]
    },
    {
     "name": "stderr",
     "output_type": "stream",
     "text": [
      "Warning: State validity checker not set! No collision checking is performed\n",
      "         at line 63 in /Users/tianpengzhang/Desktop/ompl/src/ompl/base/src/SpaceInformation.cpp\n"
     ]
    },
    {
     "name": "stdout",
     "output_type": "stream",
     "text": [
      "Info:    SpaceTimeRRT: Increased time bound factor to 4.00\n",
      "Planning for agent 5/6\n",
      "Info:    SpaceTimeRRT: Created 516 states (512 start + 4 goal)\n",
      "Debug:   SpaceTimeRRT: Planner range detected to be inf\n",
      "Info:    SpaceTimeRRT: Starting planning with 1 states already in datastructure\n",
      "Info:    SpaceTimeRRT: Starting planning with time bound factor 2.00\n",
      "On time for algorithm ST-RRT* N agent =  6\n",
      "Info:    SpaceTimeRRT: Created 50 states (23 start + 27 goal)\n",
      "Env: MultiTunnel.pkl Alg: Seq_Tube N agent: 7\n",
      "Planning for agent 0/7\n",
      "Planning for agent 1/7\n",
      "Planning for agent 2/7\n"
     ]
    },
    {
     "name": "stderr",
     "output_type": "stream",
     "text": [
      "Warning: State validity checker not set! No collision checking is performed\n",
      "         at line 63 in /Users/tianpengzhang/Desktop/ompl/src/ompl/base/src/SpaceInformation.cpp\n"
     ]
    },
    {
     "name": "stdout",
     "output_type": "stream",
     "text": [
      "Planning for agent 3/7\n",
      "Planning for agent 4/7\n",
      "Planning for agent 5/7\n"
     ]
    }
   ],
   "source": [
    "import os\n",
    "from panav.environment.utils import reduced_agents_env\n",
    "from panav.checkpoint import get_latest_checkpoint\n",
    "import signal\n",
    "\n",
    "def timeout_handler(signum,frame):\n",
    "    print(\"Algorithm timeout\")\n",
    "    raise TimeoutError(\"Timeout\")\n",
    "\n",
    "N_idx = 0\n",
    "alg_idx = 0\n",
    "results = []\n",
    "timeouted = {alg:False for alg in algs}\n",
    "iteration = 0\n",
    "\n",
    "\n",
    "for fn in listdir('./envs'):\n",
    "    with open(f'./envs/{fn}','rb') as fp:\n",
    "        env_base = pkl.load(fp)\n",
    "        \n",
    "    max_n = len(env_base.starts)\n",
    "\n",
    "    for N in range(1,max_n+1):\n",
    "        env = reduced_agents_env(env_base,N)\n",
    "        for name,alg in algs.items():\n",
    "\n",
    "            if timeouted[name]:\n",
    "                continue\n",
    "            \n",
    "            print(\"Env:\", fn, \"Alg:\", name, \"N agent:\",N)\n",
    "\n",
    "            result = {}\n",
    "            \n",
    "            signal.signal(signal.SIGALRM, timeout_handler)\n",
    "            signal.alarm(TIMEOUT)\n",
    "            try:\n",
    "                t0 = time()\n",
    "                plan = alg(env)\n",
    "            except TimeoutError:\n",
    "                print(\"Timeout\")\n",
    "            signal.alarm(0)\n",
    "\n",
    "            t = time()-t0\n",
    "            \n",
    "            result['plan'] = plan\n",
    "            result['time'] = t\n",
    "\n",
    "            result['N_agent'] = N\n",
    "            result['alg_name'] = name\n",
    "\n",
    "            result[\"TIMEOUT\"]=TIMEOUT\n",
    "            result[\"env\"]=env\n",
    "\n",
    "            results.append(result)\n",
    "\n",
    "            \n",
    "            if t>TIMEOUT:\n",
    "                timeouted[name] = True\n",
    "                print(\"Time out for algorithm\", name, \"N agent = \", N)\n",
    "            else:\n",
    "                print(\"On time for algorithm\", name, \"N agent = \", N)\n",
    "\n",
    "\n",
    "        # Save checkpoint data\n",
    "        with open(\"./data/{}\".format(fn),'wb') as fp:\n",
    "            pkl.dump(results,fp)\n",
    "\n"
   ]
  },
  {
   "cell_type": "code",
   "execution_count": null,
   "id": "965c67ba",
   "metadata": {},
   "outputs": [],
   "source": []
  }
 ],
 "metadata": {
  "kernelspec": {
   "display_name": "Python 3 (ipykernel)",
   "language": "python",
   "name": "python3"
  },
  "language_info": {
   "codemirror_mode": {
    "name": "ipython",
    "version": 3
   },
   "file_extension": ".py",
   "mimetype": "text/x-python",
   "name": "python",
   "nbconvert_exporter": "python",
   "pygments_lexer": "ipython3",
   "version": "3.11.0"
  }
 },
 "nbformat": 4,
 "nbformat_minor": 5
}
