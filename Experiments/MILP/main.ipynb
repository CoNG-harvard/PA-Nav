{
 "cells": [
  {
   "cell_type": "markdown",
   "id": "93964b26-d9f5-45ac-9818-50cc2951a2d5",
   "metadata": {},
   "source": [
    "# Benchmarking Our Algorithm against others"
   ]
  },
  {
   "cell_type": "code",
   "execution_count": 19,
   "id": "4f6a1483-2bff-48b4-a976-d9891665966d",
   "metadata": {},
   "outputs": [
    {
     "name": "stdout",
     "output_type": "stream",
     "text": [
      "The autoreload extension is already loaded. To reload it, use:\n",
      "  %reload_ext autoreload\n"
     ]
    }
   ],
   "source": [
    "import sys\n",
    "sys.path.append('../../')\n",
    "from time import time\n",
    "import signal\n",
    "from os import listdir\n",
    "import numpy as np\n",
    "import pickle as pkl\n",
    "\n",
    "\n",
    "from panav.sequential import sequential_planning\n",
    "from panav.SAMP.solvers import Tube_Planning, Simple_MILP_Planning\n",
    "\n",
    "from benchmarks.ST_RRTStar_wrapper import sequential_ST_RRTStar \n",
    "\n",
    "%load_ext autoreload\n",
    "%autoreload 2"
   ]
  },
  {
   "cell_type": "code",
   "execution_count": 20,
   "id": "d438688e",
   "metadata": {},
   "outputs": [],
   "source": [
    "def get_env_name(filename):\n",
    "    fs = filename.split('.')\n",
    "    return fs[0]\n",
    "\n",
    "\n",
    "def run_experiments(env_name, \n",
    "                    env_info, \n",
    "                    N_range, \n",
    "                    algs, \n",
    "                    TIMEOUT = 100,\n",
    "                    results = [], \n",
    "                    executed = None):\n",
    "    \n",
    "    '''\n",
    "        Checkpointed results and timeouted can be passed in so we can resume operation.\n",
    "    '''\n",
    "\n",
    "    if executed is None:\n",
    "        executed = {alg: {N :False for N in N_range} for alg in algs}\n",
    "\n",
    "    for N in N_range: \n",
    "        # Construct the environment\n",
    "        constructor = env_info['constructor']\n",
    "        specs = env_info['specs']\n",
    "        env = constructor(**specs,N_agent = N)\n",
    "\n",
    "        # Run the experiment on each algorithm\n",
    "        for name,alg in algs.items():\n",
    "\n",
    "            if executed[name][N]:\n",
    "                continue\n",
    "            \n",
    "            print(\"Env:\", env_name, \"Alg:\", name, \"N agent:\",N)\n",
    "\n",
    "            result = {}\n",
    "            \n",
    "            def timeout_handler(signum,frame):\n",
    "                print(\"Algorithm timeout\")\n",
    "                # Mark the rest of the executed table as True, so we don't ever visit this algorithm again\n",
    "                for n in executed[name]:\n",
    "                    if n>=N:\n",
    "                        executed[name][n] = True\n",
    "                # Save checkpoint data\n",
    "                with open(\"./data/{}.pkl\".format(env_name),'wb') as fp:\n",
    "                    pkl.dump({'results':results, 'executed':executed},fp)\n",
    "                raise TimeoutError(\"Timeout\")\n",
    "            signal.signal(signal.SIGALRM, timeout_handler)\n",
    "            signal.alarm(TIMEOUT)\n",
    "            try:\n",
    "                t0 = time()\n",
    "                plan = alg(env)\n",
    "            except TimeoutError:\n",
    "                print(\"Timeout\")\n",
    "            signal.alarm(0)\n",
    "\n",
    "            t = time()-t0\n",
    "            \n",
    "            result['time'] = t\n",
    "\n",
    "            result['N_agent'] = N\n",
    "            result['alg_name'] = name\n",
    "\n",
    "            result[\"TIMEOUT\"]=TIMEOUT\n",
    "            result[\"env\"]=env\n",
    "\n",
    "            results.append(result)\n",
    "\n",
    "            # Mark the executed status as True\n",
    "            executed[name][N] = True\n",
    "\n",
    "            if t>TIMEOUT:\n",
    "                print(\"Time out for algorithm\", name, \"N agent = \", N)\n",
    "            else:\n",
    "                result['plan'] = plan\n",
    "                print(\"On time for algorithm\", name, \"N agent = \", N)\n",
    "\n",
    "            # Save checkpoint data\n",
    "            with open(\"./data/{}.pkl\".format(env_name),'wb') as fp:\n",
    "                pkl.dump({'results':results, 'executed':executed},fp)\n",
    "            \n",
    "def get_checkpoint_state(env_name,algs,N_range,first_run = False):\n",
    "    if first_run:\n",
    "        results = []\n",
    "        executed = {alg: {N :False for N in N_range} for alg in algs}\n",
    "        # Save checkpoint state\n",
    "        with open(\"./data/{}.pkl\".format(env_name),'wb') as fp:\n",
    "            pkl.dump({'results':results, 'executed':executed},fp)\n",
    "\n",
    "    # Load checkpoint state\n",
    "    with open(\"./data/{}.pkl\".format(env_name),'rb') as fp:\n",
    "        ckpt = pkl.load(fp)\n",
    "\n",
    "    results = ckpt['results']\n",
    "    executed = ckpt['executed']\n",
    "\n",
    "    return results,executed\n"
   ]
  },
  {
   "cell_type": "code",
   "execution_count": 21,
   "id": "65e3d875",
   "metadata": {},
   "outputs": [],
   "source": [
    "bloating_r = 0.5\n",
    "vmax = 1.0\n",
    "\n",
    "TIMEOUT = 120\n",
    "\n",
    "# Specify the Algorithms\n",
    "algs = {  \n",
    "        \"Seq_Tube\": lambda env: sequential_planning(Tube_Planning,env,vmax,bloating_r,TIMEOUT=TIMEOUT),      \n",
    "        \"Seq_Tube_nonLazy\": lambda env: sequential_planning(Tube_Planning,env,vmax,bloating_r,TIMEOUT=TIMEOUT,lazy = False),      \n",
    "        # \"Seq_S2M2\": lambda env: sequential_planning(Simple_MILP_Planning,env,vmax,bloating_r,TIMEOUT=TIMEOUT,lazy = False),\n",
    "        \"ST-RRT*\": lambda env: sequential_ST_RRTStar(env,vmax,bloating_r)\n",
    "        }\n",
    "# Load environment presets\n",
    "env_names = [get_env_name(fn) for fn in listdir('./envs')]\n",
    "\n",
    "env_info = {}\n",
    "\n",
    "for name in env_names:\n",
    "    with open(f'./envs/{name}.pkl','rb') as fp:\n",
    "        env_info[name] = pkl.load(fp)"
   ]
  },
  {
   "cell_type": "code",
   "execution_count": 22,
   "id": "93b8ef82",
   "metadata": {},
   "outputs": [],
   "source": [
    "env_name = 'Room'\n",
    "SEED = 13981\n",
    "np.random.seed(SEED)  # Fix the random seed\n",
    "N_range = [3,6,9,12,15]"
   ]
  },
  {
   "cell_type": "code",
   "execution_count": 23,
   "id": "6e764118",
   "metadata": {},
   "outputs": [
    {
     "name": "stdout",
     "output_type": "stream",
     "text": [
      "Env: Room Alg: Seq_Tube N agent: 3\n",
      "Planning for agent 0/3\n"
     ]
    },
    {
     "ename": "KeyboardInterrupt",
     "evalue": "",
     "output_type": "error",
     "traceback": [
      "\u001b[0;31m---------------------------------------------------------------------------\u001b[0m",
      "\u001b[0;31mKeyboardInterrupt\u001b[0m                         Traceback (most recent call last)",
      "Cell \u001b[0;32mIn[23], line 4\u001b[0m\n\u001b[1;32m      1\u001b[0m results,executed \u001b[38;5;241m=\u001b[39m get_checkpoint_state(env_name,algs,N_range,first_run \u001b[38;5;241m=\u001b[39m \u001b[38;5;28;01mTrue\u001b[39;00m)\n\u001b[1;32m      3\u001b[0m \u001b[38;5;66;03m# results,executed = get_checkpoint_state(env_name,algs,N_range)\u001b[39;00m\n\u001b[0;32m----> 4\u001b[0m \u001b[43mrun_experiments\u001b[49m\u001b[43m(\u001b[49m\u001b[43menv_name\u001b[49m\u001b[43m,\u001b[49m\n\u001b[1;32m      5\u001b[0m \u001b[43m                \u001b[49m\u001b[43menv_info\u001b[49m\u001b[43m[\u001b[49m\u001b[43menv_name\u001b[49m\u001b[43m]\u001b[49m\u001b[43m,\u001b[49m\n\u001b[1;32m      6\u001b[0m \u001b[43m                \u001b[49m\u001b[43mN_range\u001b[49m\u001b[43m,\u001b[49m\n\u001b[1;32m      7\u001b[0m \u001b[43m                \u001b[49m\u001b[43malgs\u001b[49m\u001b[43m,\u001b[49m\n\u001b[1;32m      8\u001b[0m \u001b[43m                \u001b[49m\u001b[43mTIMEOUT\u001b[49m\u001b[43m,\u001b[49m\n\u001b[1;32m      9\u001b[0m \u001b[43m                \u001b[49m\u001b[43mresults\u001b[49m\u001b[43m,\u001b[49m\n\u001b[1;32m     10\u001b[0m \u001b[43m                \u001b[49m\u001b[43mexecuted\u001b[49m\u001b[43m)\u001b[49m\n",
      "Cell \u001b[0;32mIn[20], line 51\u001b[0m, in \u001b[0;36mrun_experiments\u001b[0;34m(env_name, env_info, N_range, algs, TIMEOUT, results, executed)\u001b[0m\n\u001b[1;32m     49\u001b[0m \u001b[38;5;28;01mtry\u001b[39;00m:\n\u001b[1;32m     50\u001b[0m     t0 \u001b[38;5;241m=\u001b[39m time()\n\u001b[0;32m---> 51\u001b[0m     plan \u001b[38;5;241m=\u001b[39m \u001b[43malg\u001b[49m\u001b[43m(\u001b[49m\u001b[43menv\u001b[49m\u001b[43m)\u001b[49m\n\u001b[1;32m     52\u001b[0m \u001b[38;5;28;01mexcept\u001b[39;00m \u001b[38;5;167;01mTimeoutError\u001b[39;00m:\n\u001b[1;32m     53\u001b[0m     \u001b[38;5;28mprint\u001b[39m(\u001b[38;5;124m\"\u001b[39m\u001b[38;5;124mTimeout\u001b[39m\u001b[38;5;124m\"\u001b[39m)\n",
      "Cell \u001b[0;32mIn[21], line 8\u001b[0m, in \u001b[0;36m<lambda>\u001b[0;34m(env)\u001b[0m\n\u001b[1;32m      4\u001b[0m TIMEOUT \u001b[38;5;241m=\u001b[39m \u001b[38;5;241m120\u001b[39m\n\u001b[1;32m      6\u001b[0m \u001b[38;5;66;03m# Specify the Algorithms\u001b[39;00m\n\u001b[1;32m      7\u001b[0m algs \u001b[38;5;241m=\u001b[39m {  \n\u001b[0;32m----> 8\u001b[0m         \u001b[38;5;124m\"\u001b[39m\u001b[38;5;124mSeq_Tube\u001b[39m\u001b[38;5;124m\"\u001b[39m: \u001b[38;5;28;01mlambda\u001b[39;00m env: \u001b[43msequential_planning\u001b[49m\u001b[43m(\u001b[49m\u001b[43mTube_Planning\u001b[49m\u001b[43m,\u001b[49m\u001b[43menv\u001b[49m\u001b[43m,\u001b[49m\u001b[43mvmax\u001b[49m\u001b[43m,\u001b[49m\u001b[43mbloating_r\u001b[49m\u001b[43m,\u001b[49m\u001b[43mTIMEOUT\u001b[49m\u001b[38;5;241;43m=\u001b[39;49m\u001b[43mTIMEOUT\u001b[49m\u001b[43m)\u001b[49m,      \n\u001b[1;32m      9\u001b[0m         \u001b[38;5;124m\"\u001b[39m\u001b[38;5;124mSeq_Tube_nonLazy\u001b[39m\u001b[38;5;124m\"\u001b[39m: \u001b[38;5;28;01mlambda\u001b[39;00m env: sequential_planning(Tube_Planning,env,vmax,bloating_r,TIMEOUT\u001b[38;5;241m=\u001b[39mTIMEOUT,lazy \u001b[38;5;241m=\u001b[39m \u001b[38;5;28;01mFalse\u001b[39;00m),      \n\u001b[1;32m     10\u001b[0m         \u001b[38;5;66;03m# \"Seq_S2M2\": lambda env: sequential_planning(Simple_MILP_Planning,env,vmax,bloating_r,TIMEOUT=TIMEOUT,lazy = False),\u001b[39;00m\n\u001b[1;32m     11\u001b[0m         \u001b[38;5;124m\"\u001b[39m\u001b[38;5;124mST-RRT*\u001b[39m\u001b[38;5;124m\"\u001b[39m: \u001b[38;5;28;01mlambda\u001b[39;00m env: sequential_ST_RRTStar(env,vmax,bloating_r)\n\u001b[1;32m     12\u001b[0m         }\n\u001b[1;32m     13\u001b[0m \u001b[38;5;66;03m# Load environment presets\u001b[39;00m\n\u001b[1;32m     14\u001b[0m env_names \u001b[38;5;241m=\u001b[39m [get_env_name(fn) \u001b[38;5;28;01mfor\u001b[39;00m fn \u001b[38;5;129;01min\u001b[39;00m listdir(\u001b[38;5;124m'\u001b[39m\u001b[38;5;124m./envs\u001b[39m\u001b[38;5;124m'\u001b[39m)]\n",
      "File \u001b[0;32m~/Dropbox (Harvard University)/Tianpeng's research/Tianpeng & Lina/Multiagent Motion Planning/PA-Nav/Experiments/MILP/../../panav/sequential.py:18\u001b[0m, in \u001b[0;36msequential_planning\u001b[0;34m(solver, env, vmax, bloating_r, TIMEOUT, lazy)\u001b[0m\n\u001b[1;32m     15\u001b[0m goal \u001b[38;5;241m=\u001b[39m env\u001b[38;5;241m.\u001b[39mgoals[i,:]\n\u001b[1;32m     17\u001b[0m sol \u001b[38;5;241m=\u001b[39m solver(env,start,goal,vmax \u001b[38;5;241m=\u001b[39m vmax, bloating_r \u001b[38;5;241m=\u001b[39m  bloating_r)\n\u001b[0;32m---> 18\u001b[0m p \u001b[38;5;241m=\u001b[39m \u001b[43msol\u001b[49m\u001b[38;5;241;43m.\u001b[39;49m\u001b[43mplan\u001b[49m\u001b[43m(\u001b[49m\u001b[43mobstacle_trajectories\u001b[49m\u001b[43m \u001b[49m\u001b[38;5;241;43m=\u001b[39;49m\u001b[43m \u001b[49m\u001b[43mcontinuous_plans\u001b[49m\u001b[43m,\u001b[49m\u001b[43mlazy\u001b[49m\u001b[43m \u001b[49m\u001b[38;5;241;43m=\u001b[39;49m\u001b[43m \u001b[49m\u001b[43mlazy\u001b[49m\u001b[43m)\u001b[49m    \n\u001b[1;32m     20\u001b[0m t_now \u001b[38;5;241m=\u001b[39m time()\u001b[38;5;241m-\u001b[39mt0\n\u001b[1;32m     21\u001b[0m \u001b[38;5;28;01mif\u001b[39;00m p \u001b[38;5;129;01mis\u001b[39;00m \u001b[38;5;28;01mNone\u001b[39;00m \u001b[38;5;129;01mor\u001b[39;00m t_now\u001b[38;5;241m>\u001b[39mTIMEOUT:\n",
      "File \u001b[0;32m~/Dropbox (Harvard University)/Tianpeng's research/Tianpeng & Lina/Multiagent Motion Planning/PA-Nav/Experiments/MILP/../../panav/SAMP/solvers.py:26\u001b[0m, in \u001b[0;36mSAMP_Base.plan\u001b[0;34m(self, obstacle_trajectories, active_obstacles, lazy)\u001b[0m\n\u001b[1;32m     22\u001b[0m     \u001b[38;5;28;01mreturn\u001b[39;00m \u001b[38;5;28mself\u001b[39m\u001b[38;5;241m.\u001b[39mplan_plain(obstacle_trajectories\u001b[38;5;241m=\u001b[39mobstacle_trajectories,\n\u001b[1;32m     23\u001b[0m                            active_obstacles\u001b[38;5;241m=\u001b[39mactive_obstacles,\n\u001b[1;32m     24\u001b[0m                            active_static_obstacles\u001b[38;5;241m=\u001b[39m\u001b[38;5;28mself\u001b[39m\u001b[38;5;241m.\u001b[39menv\u001b[38;5;241m.\u001b[39mobstacles)\n\u001b[1;32m     25\u001b[0m \u001b[38;5;28;01melse\u001b[39;00m:\n\u001b[0;32m---> 26\u001b[0m     \u001b[38;5;28;01mreturn\u001b[39;00m \u001b[38;5;28;43mself\u001b[39;49m\u001b[38;5;241;43m.\u001b[39;49m\u001b[43mlazy_plan\u001b[49m\u001b[43m(\u001b[49m\u001b[43mobstacle_trajectories\u001b[49m\u001b[38;5;241;43m=\u001b[39;49m\u001b[43mobstacle_trajectories\u001b[49m\u001b[43m)\u001b[49m\n",
      "File \u001b[0;32m~/Dropbox (Harvard University)/Tianpeng's research/Tianpeng & Lina/Multiagent Motion Planning/PA-Nav/Experiments/MILP/../../panav/SAMP/solvers.py:45\u001b[0m, in \u001b[0;36mSAMP_Base.lazy_plan\u001b[0;34m(self, obstacle_trajectories, return_all)\u001b[0m\n\u001b[1;32m     42\u001b[0m K_min \u001b[38;5;241m=\u001b[39m \u001b[38;5;241m1\u001b[39m\n\u001b[1;32m     43\u001b[0m \u001b[38;5;28;01mwhile\u001b[39;00m i\u001b[38;5;241m<\u001b[39m\u001b[38;5;241m=\u001b[39mm:\n\u001b[1;32m     44\u001b[0m     \u001b[38;5;66;03m# print(\"num obstacle trajectories:{}/{}\".format(len(active_obs),m))\u001b[39;00m\n\u001b[0;32m---> 45\u001b[0m     p \u001b[38;5;241m=\u001b[39m \u001b[38;5;28;43mself\u001b[39;49m\u001b[38;5;241;43m.\u001b[39;49m\u001b[43mplan_plain\u001b[49m\u001b[43m(\u001b[49m\u001b[43mactive_obstacles\u001b[49m\u001b[38;5;241;43m=\u001b[39;49m\u001b[43mdynamic_obs\u001b[49m\u001b[43m,\u001b[49m\n\u001b[1;32m     46\u001b[0m \u001b[43m                        \u001b[49m\u001b[43mactive_static_obstacles\u001b[49m\u001b[38;5;241;43m=\u001b[39;49m\u001b[43mstatic_obs\u001b[49m\u001b[43m,\u001b[49m\n\u001b[1;32m     47\u001b[0m \u001b[43m                        \u001b[49m\u001b[43mK_min\u001b[49m\u001b[38;5;241;43m=\u001b[39;49m\u001b[43mK_min\u001b[49m\u001b[43m)\u001b[49m\n\u001b[1;32m     49\u001b[0m     \u001b[38;5;28;01mif\u001b[39;00m p \u001b[38;5;129;01mis\u001b[39;00m \u001b[38;5;28;01mNone\u001b[39;00m:\n\u001b[1;32m     50\u001b[0m         \u001b[38;5;28mprint\u001b[39m(\u001b[38;5;124m'\u001b[39m\u001b[38;5;124mMILP low-level encounters infeasibility.\u001b[39m\u001b[38;5;124m'\u001b[39m)\n",
      "File \u001b[0;32m~/Dropbox (Harvard University)/Tianpeng's research/Tianpeng & Lina/Multiagent Motion Planning/PA-Nav/Experiments/MILP/../../panav/SAMP/solvers.py:78\u001b[0m, in \u001b[0;36mSAMP_Base.plan_plain\u001b[0;34m(self, obstacle_trajectories, active_obstacles, active_static_obstacles, K_min)\u001b[0m\n\u001b[1;32m     76\u001b[0m \u001b[38;5;28mself\u001b[39m\u001b[38;5;241m.\u001b[39mK \u001b[38;5;241m=\u001b[39m K_min\n\u001b[1;32m     77\u001b[0m \u001b[38;5;28;01mwhile\u001b[39;00m \u001b[38;5;28mself\u001b[39m\u001b[38;5;241m.\u001b[39mK\u001b[38;5;241m<\u001b[39m\u001b[38;5;241m=\u001b[39m\u001b[38;5;28mself\u001b[39m\u001b[38;5;241m.\u001b[39mK_max:\n\u001b[0;32m---> 78\u001b[0m     p \u001b[38;5;241m=\u001b[39m \u001b[38;5;28;43mself\u001b[39;49m\u001b[38;5;241;43m.\u001b[39;49m\u001b[43mplan_core\u001b[49m\u001b[43m(\u001b[49m\u001b[43mobstacle_trajectories\u001b[49m\u001b[38;5;241;43m=\u001b[39;49m\u001b[43mobstacle_trajectories\u001b[49m\u001b[43m,\u001b[49m\n\u001b[1;32m     79\u001b[0m \u001b[43m                       \u001b[49m\u001b[43mactive_obstacles\u001b[49m\u001b[38;5;241;43m=\u001b[39;49m\u001b[43mactive_obstacles\u001b[49m\u001b[43m,\u001b[49m\n\u001b[1;32m     80\u001b[0m \u001b[43m                       \u001b[49m\u001b[43mactive_static_obstacles\u001b[49m\u001b[38;5;241;43m=\u001b[39;49m\u001b[43mactive_static_obstacles\u001b[49m\u001b[43m)\u001b[49m\n\u001b[1;32m     81\u001b[0m     \u001b[38;5;66;03m# print(K,p)\u001b[39;00m\n\u001b[1;32m     82\u001b[0m     \u001b[38;5;28;01mif\u001b[39;00m p:\n",
      "File \u001b[0;32m~/Dropbox (Harvard University)/Tianpeng's research/Tianpeng & Lina/Multiagent Motion Planning/PA-Nav/Experiments/MILP/../../panav/SAMP/solvers.py:367\u001b[0m, in \u001b[0;36mTube_Planning.plan_core\u001b[0;34m(self, obstacle_trajectories, active_obstacles, active_static_obstacles, solve_inplace)\u001b[0m\n\u001b[1;32m    364\u001b[0m     \u001b[38;5;28;01mreturn\u001b[39;00m t,x,constraints,prob\n\u001b[1;32m    365\u001b[0m \u001b[38;5;28;01melse\u001b[39;00m:\n\u001b[1;32m    366\u001b[0m     \u001b[38;5;66;03m# print('number of integer constraints:',count_interger_var(prob))\u001b[39;00m\n\u001b[0;32m--> 367\u001b[0m     \u001b[43mprob\u001b[49m\u001b[38;5;241;43m.\u001b[39;49m\u001b[43msolve\u001b[49m\u001b[43m(\u001b[49m\u001b[43msolver\u001b[49m\u001b[38;5;241;43m=\u001b[39;49m\u001b[38;5;124;43m'\u001b[39;49m\u001b[38;5;124;43mGUROBI\u001b[39;49m\u001b[38;5;124;43m'\u001b[39;49m\u001b[43m,\u001b[49m\u001b[43mTimeLimit\u001b[49m\u001b[43m \u001b[49m\u001b[38;5;241;43m=\u001b[39;49m\u001b[43m \u001b[49m\u001b[38;5;241;43m100\u001b[39;49m\u001b[43m)\u001b[49m \u001b[38;5;66;03m# The Gurobi solver proves to be more accurate and also faster.\u001b[39;00m\n\u001b[1;32m    368\u001b[0m     \u001b[38;5;28;01mif\u001b[39;00m prob\u001b[38;5;241m.\u001b[39mstatus \u001b[38;5;241m==\u001b[39m \u001b[38;5;124m'\u001b[39m\u001b[38;5;124moptimal\u001b[39m\u001b[38;5;124m'\u001b[39m:\n\u001b[1;32m    369\u001b[0m         out \u001b[38;5;241m=\u001b[39m unique_tx(t\u001b[38;5;241m.\u001b[39mvalue[\u001b[38;5;241m0\u001b[39m,:],x\u001b[38;5;241m.\u001b[39mvalue)\n",
      "File \u001b[0;32m~/opt/miniconda3/envs/PA-NAV/lib/python3.11/site-packages/cvxpy/problems/problem.py:493\u001b[0m, in \u001b[0;36mProblem.solve\u001b[0;34m(self, *args, **kwargs)\u001b[0m\n\u001b[1;32m    491\u001b[0m \u001b[38;5;28;01melse\u001b[39;00m:\n\u001b[1;32m    492\u001b[0m     solve_func \u001b[38;5;241m=\u001b[39m Problem\u001b[38;5;241m.\u001b[39m_solve\n\u001b[0;32m--> 493\u001b[0m \u001b[38;5;28;01mreturn\u001b[39;00m \u001b[43msolve_func\u001b[49m\u001b[43m(\u001b[49m\u001b[38;5;28;43mself\u001b[39;49m\u001b[43m,\u001b[49m\u001b[43m \u001b[49m\u001b[38;5;241;43m*\u001b[39;49m\u001b[43margs\u001b[49m\u001b[43m,\u001b[49m\u001b[43m \u001b[49m\u001b[38;5;241;43m*\u001b[39;49m\u001b[38;5;241;43m*\u001b[39;49m\u001b[43mkwargs\u001b[49m\u001b[43m)\u001b[49m\n",
      "File \u001b[0;32m~/opt/miniconda3/envs/PA-NAV/lib/python3.11/site-packages/cvxpy/problems/problem.py:1054\u001b[0m, in \u001b[0;36mProblem._solve\u001b[0;34m(self, solver, warm_start, verbose, gp, qcp, requires_grad, enforce_dpp, ignore_dpp, canon_backend, **kwargs)\u001b[0m\n\u001b[1;32m   1051\u001b[0m         \u001b[38;5;28mself\u001b[39m\u001b[38;5;241m.\u001b[39munpack(chain\u001b[38;5;241m.\u001b[39mretrieve(soln))\n\u001b[1;32m   1052\u001b[0m         \u001b[38;5;28;01mreturn\u001b[39;00m \u001b[38;5;28mself\u001b[39m\u001b[38;5;241m.\u001b[39mvalue\n\u001b[0;32m-> 1054\u001b[0m data, solving_chain, inverse_data \u001b[38;5;241m=\u001b[39m \u001b[38;5;28;43mself\u001b[39;49m\u001b[38;5;241;43m.\u001b[39;49m\u001b[43mget_problem_data\u001b[49m\u001b[43m(\u001b[49m\n\u001b[1;32m   1055\u001b[0m \u001b[43m    \u001b[49m\u001b[43msolver\u001b[49m\u001b[43m,\u001b[49m\u001b[43m \u001b[49m\u001b[43mgp\u001b[49m\u001b[43m,\u001b[49m\u001b[43m \u001b[49m\u001b[43menforce_dpp\u001b[49m\u001b[43m,\u001b[49m\u001b[43m \u001b[49m\u001b[43mignore_dpp\u001b[49m\u001b[43m,\u001b[49m\u001b[43m \u001b[49m\u001b[43mverbose\u001b[49m\u001b[43m,\u001b[49m\u001b[43m \u001b[49m\u001b[43mcanon_backend\u001b[49m\u001b[43m,\u001b[49m\u001b[43m \u001b[49m\u001b[43mkwargs\u001b[49m\n\u001b[1;32m   1056\u001b[0m \u001b[43m\u001b[49m\u001b[43m)\u001b[49m\n\u001b[1;32m   1058\u001b[0m \u001b[38;5;28;01mif\u001b[39;00m verbose:\n\u001b[1;32m   1059\u001b[0m     \u001b[38;5;28mprint\u001b[39m(_NUM_SOLVER_STR)\n",
      "File \u001b[0;32m~/opt/miniconda3/envs/PA-NAV/lib/python3.11/site-packages/cvxpy/problems/problem.py:681\u001b[0m, in \u001b[0;36mProblem.get_problem_data\u001b[0;34m(self, solver, gp, enforce_dpp, ignore_dpp, verbose, canon_backend, solver_opts)\u001b[0m\n\u001b[1;32m    678\u001b[0m     s\u001b[38;5;241m.\u001b[39mLOGGER\u001b[38;5;241m.\u001b[39minfo(\n\u001b[1;32m    679\u001b[0m              \u001b[38;5;124m'\u001b[39m\u001b[38;5;124mCompiling problem (target solver=\u001b[39m\u001b[38;5;132;01m%s\u001b[39;00m\u001b[38;5;124m).\u001b[39m\u001b[38;5;124m'\u001b[39m, solver_name)\n\u001b[1;32m    680\u001b[0m     s\u001b[38;5;241m.\u001b[39mLOGGER\u001b[38;5;241m.\u001b[39minfo(\u001b[38;5;124m'\u001b[39m\u001b[38;5;124mReduction chain: \u001b[39m\u001b[38;5;132;01m%s\u001b[39;00m\u001b[38;5;124m'\u001b[39m, reduction_chain_str)\n\u001b[0;32m--> 681\u001b[0m data, inverse_data \u001b[38;5;241m=\u001b[39m \u001b[43msolving_chain\u001b[49m\u001b[38;5;241;43m.\u001b[39;49m\u001b[43mapply\u001b[49m\u001b[43m(\u001b[49m\u001b[38;5;28;43mself\u001b[39;49m\u001b[43m,\u001b[49m\u001b[43m \u001b[49m\u001b[43mverbose\u001b[49m\u001b[43m)\u001b[49m\n\u001b[1;32m    682\u001b[0m safe_to_cache \u001b[38;5;241m=\u001b[39m (\n\u001b[1;32m    683\u001b[0m     \u001b[38;5;28misinstance\u001b[39m(data, \u001b[38;5;28mdict\u001b[39m)\n\u001b[1;32m    684\u001b[0m     \u001b[38;5;129;01mand\u001b[39;00m s\u001b[38;5;241m.\u001b[39mPARAM_PROB \u001b[38;5;129;01min\u001b[39;00m data\n\u001b[1;32m    685\u001b[0m     \u001b[38;5;129;01mand\u001b[39;00m \u001b[38;5;129;01mnot\u001b[39;00m \u001b[38;5;28many\u001b[39m(\u001b[38;5;28misinstance\u001b[39m(reduction, EvalParams)\n\u001b[1;32m    686\u001b[0m                 \u001b[38;5;28;01mfor\u001b[39;00m reduction \u001b[38;5;129;01min\u001b[39;00m solving_chain\u001b[38;5;241m.\u001b[39mreductions)\n\u001b[1;32m    687\u001b[0m )\n\u001b[1;32m    688\u001b[0m \u001b[38;5;28mself\u001b[39m\u001b[38;5;241m.\u001b[39m_compilation_time \u001b[38;5;241m=\u001b[39m time\u001b[38;5;241m.\u001b[39mtime() \u001b[38;5;241m-\u001b[39m start\n",
      "File \u001b[0;32m~/opt/miniconda3/envs/PA-NAV/lib/python3.11/site-packages/cvxpy/reductions/chain.py:76\u001b[0m, in \u001b[0;36mChain.apply\u001b[0;34m(self, problem, verbose)\u001b[0m\n\u001b[1;32m     74\u001b[0m     \u001b[38;5;28;01mif\u001b[39;00m verbose:\n\u001b[1;32m     75\u001b[0m         s\u001b[38;5;241m.\u001b[39mLOGGER\u001b[38;5;241m.\u001b[39minfo(\u001b[38;5;124m'\u001b[39m\u001b[38;5;124mApplying reduction \u001b[39m\u001b[38;5;132;01m%s\u001b[39;00m\u001b[38;5;124m'\u001b[39m, \u001b[38;5;28mtype\u001b[39m(r)\u001b[38;5;241m.\u001b[39m\u001b[38;5;18m__name__\u001b[39m)\n\u001b[0;32m---> 76\u001b[0m     problem, inv \u001b[38;5;241m=\u001b[39m \u001b[43mr\u001b[49m\u001b[38;5;241;43m.\u001b[39;49m\u001b[43mapply\u001b[49m\u001b[43m(\u001b[49m\u001b[43mproblem\u001b[49m\u001b[43m)\u001b[49m\n\u001b[1;32m     77\u001b[0m     inverse_data\u001b[38;5;241m.\u001b[39mappend(inv)\n\u001b[1;32m     78\u001b[0m \u001b[38;5;28;01mreturn\u001b[39;00m problem, inverse_data\n",
      "File \u001b[0;32m~/opt/miniconda3/envs/PA-NAV/lib/python3.11/site-packages/cvxpy/reductions/qp2quad_form/qp_matrix_stuffing.py:253\u001b[0m, in \u001b[0;36mQpMatrixStuffing.apply\u001b[0;34m(self, problem)\u001b[0m\n\u001b[1;32m    251\u001b[0m \u001b[38;5;66;03m# Batch expressions together, then split apart.\u001b[39;00m\n\u001b[1;32m    252\u001b[0m expr_list \u001b[38;5;241m=\u001b[39m [arg \u001b[38;5;28;01mfor\u001b[39;00m c \u001b[38;5;129;01min\u001b[39;00m ordered_cons \u001b[38;5;28;01mfor\u001b[39;00m arg \u001b[38;5;129;01min\u001b[39;00m c\u001b[38;5;241m.\u001b[39margs]\n\u001b[0;32m--> 253\u001b[0m params_to_Ab \u001b[38;5;241m=\u001b[39m \u001b[43mextractor\u001b[49m\u001b[38;5;241;43m.\u001b[39;49m\u001b[43maffine\u001b[49m\u001b[43m(\u001b[49m\u001b[43mexpr_list\u001b[49m\u001b[43m)\u001b[49m\n\u001b[1;32m    255\u001b[0m inverse_data\u001b[38;5;241m.\u001b[39mminimize \u001b[38;5;241m=\u001b[39m \u001b[38;5;28mtype\u001b[39m(problem\u001b[38;5;241m.\u001b[39mobjective) \u001b[38;5;241m==\u001b[39m Minimize\n\u001b[1;32m    256\u001b[0m new_prob \u001b[38;5;241m=\u001b[39m ParamQuadProg(params_to_P,\n\u001b[1;32m    257\u001b[0m                          params_to_q,\n\u001b[1;32m    258\u001b[0m                          flattened_variable,\n\u001b[0;32m   (...)\u001b[0m\n\u001b[1;32m    263\u001b[0m                          problem\u001b[38;5;241m.\u001b[39mparameters(),\n\u001b[1;32m    264\u001b[0m                          inverse_data\u001b[38;5;241m.\u001b[39mparam_id_map)\n",
      "File \u001b[0;32m~/opt/miniconda3/envs/PA-NAV/lib/python3.11/site-packages/cvxpy/utilities/coeff_extractor.py:84\u001b[0m, in \u001b[0;36mCoeffExtractor.affine\u001b[0;34m(self, expr)\u001b[0m\n\u001b[1;32m     82\u001b[0m num_rows \u001b[38;5;241m=\u001b[39m \u001b[38;5;28msum\u001b[39m([e\u001b[38;5;241m.\u001b[39msize \u001b[38;5;28;01mfor\u001b[39;00m e \u001b[38;5;129;01min\u001b[39;00m expr_list])\n\u001b[1;32m     83\u001b[0m op_list \u001b[38;5;241m=\u001b[39m [e\u001b[38;5;241m.\u001b[39mcanonical_form[\u001b[38;5;241m0\u001b[39m] \u001b[38;5;28;01mfor\u001b[39;00m e \u001b[38;5;129;01min\u001b[39;00m expr_list]\n\u001b[0;32m---> 84\u001b[0m \u001b[38;5;28;01mreturn\u001b[39;00m \u001b[43mcanonInterface\u001b[49m\u001b[38;5;241;43m.\u001b[39;49m\u001b[43mget_problem_matrix\u001b[49m\u001b[43m(\u001b[49m\u001b[43mop_list\u001b[49m\u001b[43m,\u001b[49m\n\u001b[1;32m     85\u001b[0m \u001b[43m                                         \u001b[49m\u001b[38;5;28;43mself\u001b[39;49m\u001b[38;5;241;43m.\u001b[39;49m\u001b[43mx_length\u001b[49m\u001b[43m,\u001b[49m\n\u001b[1;32m     86\u001b[0m \u001b[43m                                         \u001b[49m\u001b[38;5;28;43mself\u001b[39;49m\u001b[38;5;241;43m.\u001b[39;49m\u001b[43mid_map\u001b[49m\u001b[43m,\u001b[49m\n\u001b[1;32m     87\u001b[0m \u001b[43m                                         \u001b[49m\u001b[38;5;28;43mself\u001b[39;49m\u001b[38;5;241;43m.\u001b[39;49m\u001b[43mparam_to_size\u001b[49m\u001b[43m,\u001b[49m\n\u001b[1;32m     88\u001b[0m \u001b[43m                                         \u001b[49m\u001b[38;5;28;43mself\u001b[39;49m\u001b[38;5;241;43m.\u001b[39;49m\u001b[43mparam_id_map\u001b[49m\u001b[43m,\u001b[49m\n\u001b[1;32m     89\u001b[0m \u001b[43m                                         \u001b[49m\u001b[43mnum_rows\u001b[49m\u001b[43m,\u001b[49m\n\u001b[1;32m     90\u001b[0m \u001b[43m                                         \u001b[49m\u001b[38;5;28;43mself\u001b[39;49m\u001b[38;5;241;43m.\u001b[39;49m\u001b[43mcanon_backend\u001b[49m\u001b[43m)\u001b[49m\n",
      "File \u001b[0;32m~/opt/miniconda3/envs/PA-NAV/lib/python3.11/site-packages/cvxpy/cvxcore/python/canonInterface.py:339\u001b[0m, in \u001b[0;36mget_problem_matrix\u001b[0;34m(linOps, var_length, id_to_col, param_to_size, param_to_col, constr_length, canon_backend)\u001b[0m\n\u001b[1;32m    336\u001b[0m     tree \u001b[38;5;241m=\u001b[39m linPy_to_linC[lin]\n\u001b[1;32m    337\u001b[0m     lin_vec\u001b[38;5;241m.\u001b[39mpush_back(tree)\n\u001b[0;32m--> 339\u001b[0m problemData \u001b[38;5;241m=\u001b[39m \u001b[43mcvxcore\u001b[49m\u001b[38;5;241;43m.\u001b[39;49m\u001b[43mbuild_matrix\u001b[49m\u001b[43m(\u001b[49m\u001b[43mlin_vec\u001b[49m\u001b[43m,\u001b[49m\n\u001b[1;32m    340\u001b[0m \u001b[43m                                   \u001b[49m\u001b[38;5;28;43mint\u001b[39;49m\u001b[43m(\u001b[49m\u001b[43mvar_length\u001b[49m\u001b[43m)\u001b[49m\u001b[43m,\u001b[49m\n\u001b[1;32m    341\u001b[0m \u001b[43m                                   \u001b[49m\u001b[43mid_to_col_C\u001b[49m\u001b[43m,\u001b[49m\n\u001b[1;32m    342\u001b[0m \u001b[43m                                   \u001b[49m\u001b[43mparam_to_size_C\u001b[49m\u001b[43m,\u001b[49m\n\u001b[1;32m    343\u001b[0m \u001b[43m                                   \u001b[49m\u001b[43ms\u001b[49m\u001b[38;5;241;43m.\u001b[39;49m\u001b[43mget_num_threads\u001b[49m\u001b[43m(\u001b[49m\u001b[43m)\u001b[49m\u001b[43m)\u001b[49m\n\u001b[1;32m    345\u001b[0m \u001b[38;5;66;03m# Populate tensors with info from problemData.\u001b[39;00m\n\u001b[1;32m    346\u001b[0m tensor_V \u001b[38;5;241m=\u001b[39m {}\n",
      "File \u001b[0;32m~/opt/miniconda3/envs/PA-NAV/lib/python3.11/site-packages/cvxpy/cvxcore/python/cvxcore.py:1006\u001b[0m, in \u001b[0;36mbuild_matrix\u001b[0;34m(*args)\u001b[0m\n\u001b[1;32m   1005\u001b[0m \u001b[38;5;28;01mdef\u001b[39;00m \u001b[38;5;21mbuild_matrix\u001b[39m(\u001b[38;5;241m*\u001b[39margs) \u001b[38;5;241m-\u001b[39m\u001b[38;5;241m>\u001b[39m \u001b[38;5;124m\"\u001b[39m\u001b[38;5;124mProblemData\u001b[39m\u001b[38;5;124m\"\u001b[39m:\n\u001b[0;32m-> 1006\u001b[0m     \u001b[38;5;28;01mreturn\u001b[39;00m \u001b[43m_cvxcore\u001b[49m\u001b[38;5;241;43m.\u001b[39;49m\u001b[43mbuild_matrix\u001b[49m\u001b[43m(\u001b[49m\u001b[38;5;241;43m*\u001b[39;49m\u001b[43margs\u001b[49m\u001b[43m)\u001b[49m\n",
      "\u001b[0;31mKeyboardInterrupt\u001b[0m: "
     ]
    },
    {
     "name": "stdout",
     "output_type": "stream",
     "text": [
      "Algorithm timeout\n"
     ]
    },
    {
     "ename": "",
     "evalue": "",
     "output_type": "error",
     "traceback": [
      "\u001b[1;31mThe Kernel crashed while executing code in the current cell or a previous cell. \n",
      "\u001b[1;31mPlease review the code in the cell(s) to identify a possible cause of the failure. \n",
      "\u001b[1;31mClick <a href='https://aka.ms/vscodeJupyterKernelCrash'>here</a> for more info. \n",
      "\u001b[1;31mView Jupyter <a href='command:jupyter.viewOutput'>log</a> for further details."
     ]
    }
   ],
   "source": [
    "results,executed = get_checkpoint_state(env_name,algs,N_range,first_run = True)\n",
    "\n",
    "# results,executed = get_checkpoint_state(env_name,algs,N_range)\n",
    "run_experiments(env_name,\n",
    "                env_info[env_name],\n",
    "                N_range,\n",
    "                algs,\n",
    "                TIMEOUT,\n",
    "                results,\n",
    "                executed)"
   ]
  },
  {
   "cell_type": "code",
   "execution_count": null,
   "id": "965c67ba",
   "metadata": {},
   "outputs": [],
   "source": [
    "env_name = 'MultiTunnel'\n",
    "SEED = 13981\n",
    "np.random.seed(SEED)  # Fix the random seed\n",
    "N_range = [3,6,9,12,15]"
   ]
  },
  {
   "cell_type": "code",
   "execution_count": null,
   "id": "1b69e564",
   "metadata": {},
   "outputs": [],
   "source": [
    "# results,executed = get_checkpoint_state(env_name,algs,N_range,first_run = True)\n",
    "\n",
    "results,executed = get_checkpoint_state(env_name,algs,N_range)\n",
    "run_experiments(env_name,\n",
    "                env_info[env_name],\n",
    "                N_range,\n",
    "                algs,\n",
    "                TIMEOUT,\n",
    "                results,\n",
    "                executed)"
   ]
  },
  {
   "cell_type": "code",
   "execution_count": null,
   "id": "055da0ca",
   "metadata": {},
   "outputs": [],
   "source": [
    "env_name = 'SingleTunnel'\n",
    "SEED = 13981\n",
    "np.random.seed(SEED)  # Fix the random seed\n",
    "N_range = [3,6,9,12,15]"
   ]
  },
  {
   "cell_type": "code",
   "execution_count": null,
   "id": "68c14bd8",
   "metadata": {},
   "outputs": [
    {
     "name": "stdout",
     "output_type": "stream",
     "text": [
      "Env: SingleTunnel Alg: Seq_Tube N agent: 3\n",
      "Planning for agent 0/3\n",
      "Planning for agent 1/3\n",
      "Planning for agent 2/3\n",
      "On time for algorithm Seq_Tube N agent =  3\n",
      "Env: SingleTunnel Alg: Seq_Tube_nonLazy N agent: 3\n",
      "Planning for agent 0/3\n",
      "Planning for agent 1/3\n",
      "Planning for agent 2/3\n",
      "On time for algorithm Seq_Tube_nonLazy N agent =  3\n",
      "Env: SingleTunnel Alg: ST-RRT* N agent: 3\n",
      "Planning for agent 0/3\n",
      "Debug:   SpaceTimeRRT: Planner range detected to be inf\n",
      "Info:    SpaceTimeRRT: Starting planning with 1 states already in datastructure\n",
      "Info:    SpaceTimeRRT: Starting planning with time bound factor 2.00\n",
      "Info:    SpaceTimeRRT: Created 170 states (75 start + 95 goal)\n",
      "Planning for agent 1/3\n",
      "Debug:   SpaceTimeRRT: Planner range detected to be inf\n",
      "Info:    SpaceTimeRRT: Starting planning with 1 states already in datastructure\n",
      "Info:    SpaceTimeRRT: Starting planning with time bound factor 2.00\n"
     ]
    },
    {
     "name": "stderr",
     "output_type": "stream",
     "text": [
      "Warning: State validity checker not set! No collision checking is performed\n",
      "         at line 63 in /Users/tianpengzhang/Desktop/ompl/src/ompl/base/src/SpaceInformation.cpp\n",
      "Warning: State validity checker not set! No collision checking is performed\n",
      "         at line 63 in /Users/tianpengzhang/Desktop/ompl/src/ompl/base/src/SpaceInformation.cpp\n"
     ]
    },
    {
     "name": "stdout",
     "output_type": "stream",
     "text": [
      "Info:    SpaceTimeRRT: Increased time bound factor to 4.00\n",
      "Planning for agent 2/3\n",
      "Info:    SpaceTimeRRT: Created 579 states (271 start + 308 goal)\n",
      "Debug:   SpaceTimeRRT: Planner range detected to be inf\n",
      "Info:    SpaceTimeRRT: Starting planning with 1 states already in datastructure\n",
      "Info:    SpaceTimeRRT: Starting planning with time bound factor 2.00\n"
     ]
    },
    {
     "name": "stderr",
     "output_type": "stream",
     "text": [
      "Warning: State validity checker not set! No collision checking is performed\n",
      "         at line 63 in /Users/tianpengzhang/Desktop/ompl/src/ompl/base/src/SpaceInformation.cpp\n"
     ]
    },
    {
     "name": "stdout",
     "output_type": "stream",
     "text": [
      "On time for algorithmInfo:    SpaceTimeRRT: Created 372 states (164 start + 208 goal)\n",
      " ST-RRT* N agent =  3\n",
      "Env: SingleTunnel Alg: Seq_Tube N agent: 6\n",
      "Planning for agent 0/6\n",
      "Planning for agent 1/6\n",
      "Planning for agent 2/6\n",
      "Planning for agent 3/6\n",
      "Planning for agent 4/6\n",
      "Planning for agent 5/6\n",
      "On time for algorithm Seq_Tube N agent =  6\n",
      "Env: SingleTunnel Alg: Seq_Tube_nonLazy N agent: 6\n",
      "Planning for agent 0/6\n",
      "Planning for agent 1/6\n",
      "Planning for agent 2/6\n",
      "Planning for agent 3/6\n",
      "Planning for agent 4/6\n",
      "Planning for agent 5/6\n",
      "On time for algorithm Seq_Tube_nonLazy N agent =  6\n",
      "Env: SingleTunnel Alg: ST-RRT* N agent: 6\n",
      "Planning for agent 0/6\n",
      "Debug:   SpaceTimeRRT: Planner range detected to be inf\n",
      "Info:    SpaceTimeRRT: Starting planning with 1 states already in datastructure\n",
      "Info:    SpaceTimeRRT: Starting planning with time bound factor 2.00\n",
      "Planning for agent 1/6\n",
      "Info:    SpaceTimeRRT: Created 83 states (36 start + 47 goal)\n",
      "Debug:   SpaceTimeRRT: Planner range detected to be inf\n",
      "Info:    SpaceTimeRRT: Starting planning with 1 states already in datastructure\n",
      "Info:    SpaceTimeRRT: Starting planning with time bound factor 2.00\n"
     ]
    },
    {
     "name": "stderr",
     "output_type": "stream",
     "text": [
      "Warning: State validity checker not set! No collision checking is performed\n",
      "         at line 63 in /Users/tianpengzhang/Desktop/ompl/src/ompl/base/src/SpaceInformation.cpp\n",
      "Warning: State validity checker not set! No collision checking is performed\n",
      "         at line 63 in /Users/tianpengzhang/Desktop/ompl/src/ompl/base/src/SpaceInformation.cpp\n"
     ]
    },
    {
     "name": "stdout",
     "output_type": "stream",
     "text": [
      "Planning for agent 2/6Info:    SpaceTimeRRT: Created 43 states (20 start + 23 goal)\n",
      "\n",
      "Debug:   SpaceTimeRRT: Planner range detected to be inf\n",
      "Info:    SpaceTimeRRT: Starting planning with 1 states already in datastructure\n",
      "Info:    SpaceTimeRRT: Starting planning with time bound factor 2.00\n",
      "Planning for agent 3/6\n",
      "Info:    SpaceTimeRRT: Created 102 states (38 start + 64 goal)\n",
      "Debug:   SpaceTimeRRT: Planner range detected to be inf\n",
      "Info:    SpaceTimeRRT: Starting planning with 1 states already in datastructure\n",
      "Info:    SpaceTimeRRT: Starting planning with time bound factor 2.00\n"
     ]
    },
    {
     "name": "stderr",
     "output_type": "stream",
     "text": [
      "Warning: State validity checker not set! No collision checking is performed\n",
      "         at line 63 in /Users/tianpengzhang/Desktop/ompl/src/ompl/base/src/SpaceInformation.cpp\n",
      "Warning: State validity checker not set! No collision checking is performed\n",
      "         at line 63 in /Users/tianpengzhang/Desktop/ompl/src/ompl/base/src/SpaceInformation.cpp\n"
     ]
    },
    {
     "name": "stdout",
     "output_type": "stream",
     "text": [
      "Planning for agent 4/6Info:    SpaceTimeRRT: Created 404 states (189 start + 215 goal)\n",
      "\n",
      "Debug:   SpaceTimeRRT: Planner range detected to be inf\n",
      "Info:    SpaceTimeRRT: Starting planning with 1 states already in datastructure\n",
      "Info:    SpaceTimeRRT: Starting planning with time bound factor 2.00\n"
     ]
    },
    {
     "name": "stderr",
     "output_type": "stream",
     "text": [
      "Warning: State validity checker not set! No collision checking is performed\n",
      "         at line 63 in /Users/tianpengzhang/Desktop/ompl/src/ompl/base/src/SpaceInformation.cpp\n"
     ]
    },
    {
     "name": "stdout",
     "output_type": "stream",
     "text": [
      "Info:    SpaceTimeRRT: Increased time bound factor to 4.00\n",
      "Planning for agent 5/6Info:    SpaceTimeRRT: Created 630 states (285 start + 345 goal)\n",
      "\n",
      "Debug:   SpaceTimeRRT: Planner range detected to be inf\n",
      "Info:    SpaceTimeRRT: Starting planning with 1 states already in datastructure\n",
      "Info:    SpaceTimeRRT: Starting planning with time bound factor 2.00\n"
     ]
    },
    {
     "name": "stderr",
     "output_type": "stream",
     "text": [
      "Warning: State validity checker not set! No collision checking is performed\n",
      "         at line 63 in /Users/tianpengzhang/Desktop/ompl/src/ompl/base/src/SpaceInformation.cpp\n"
     ]
    },
    {
     "name": "stdout",
     "output_type": "stream",
     "text": [
      "Info:    SpaceTimeRRT: Increased time bound factor to 4.00\n",
      "On time for algorithm ST-RRT* N agent =  6\n",
      "Info:    SpaceTimeRRT: Created 515 states (215 start + 300 goal)\n",
      "Env: SingleTunnel Alg: Seq_Tube N agent: 9\n",
      "Planning for agent 0/9\n",
      "Planning for agent 1/9\n",
      "Planning for agent 2/9\n",
      "Planning for agent 3/9\n",
      "Planning for agent 4/9\n",
      "Planning for agent 5/9\n",
      "Planning for agent 6/9\n",
      "Planning for agent 7/9\n",
      "Planning for agent 8/9\n",
      "On time for algorithm Seq_Tube N agent =  9\n",
      "Env: SingleTunnel Alg: Seq_Tube_nonLazy N agent: 9\n",
      "Planning for agent 0/9\n",
      "Planning for agent 1/9\n",
      "Planning for agent 2/9\n",
      "Planning for agent 3/9\n",
      "Planning for agent 4/9\n",
      "Planning for agent 5/9\n",
      "Planning for agent 6/9\n",
      "Planning for agent 7/9\n",
      "Planning for agent 8/9\n",
      "On time for algorithm Seq_Tube_nonLazy N agent =  9\n",
      "Env: SingleTunnel Alg: ST-RRT* N agent: 9\n",
      "Planning for agent 0/9\n",
      "Debug:   SpaceTimeRRT: Planner range detected to be inf\n",
      "Info:    SpaceTimeRRT: Starting planning with 1 states already in datastructure\n",
      "Info:    SpaceTimeRRT: Starting planning with time bound factor 2.00\n",
      "Planning for agent 1/9\n",
      "Info:    SpaceTimeRRT: Created 141 states (72 start + 69 goal)\n",
      "Debug:   SpaceTimeRRT: Planner range detected to be inf\n",
      "Info:    SpaceTimeRRT: Starting planning with 1 states already in datastructure\n",
      "Info:    SpaceTimeRRT: Starting planning with time bound factor 2.00\n"
     ]
    },
    {
     "name": "stderr",
     "output_type": "stream",
     "text": [
      "Warning: State validity checker not set! No collision checking is performed\n",
      "         at line 63 in /Users/tianpengzhang/Desktop/ompl/src/ompl/base/src/SpaceInformation.cpp\n",
      "Warning: State validity checker not set! No collision checking is performed\n",
      "         at line 63 in /Users/tianpengzhang/Desktop/ompl/src/ompl/base/src/SpaceInformation.cpp\n"
     ]
    },
    {
     "name": "stdout",
     "output_type": "stream",
     "text": [
      "Planning for agent 2/9Info:    SpaceTimeRRT: Created 82 states (36 start + 46 goal)\n",
      "\n",
      "Debug:   SpaceTimeRRT: Planner range detected to be inf\n",
      "Info:    SpaceTimeRRT: Starting planning with 1 states already in datastructure\n",
      "Info:    SpaceTimeRRT: Starting planning with time bound factor 2.00\n"
     ]
    },
    {
     "name": "stderr",
     "output_type": "stream",
     "text": [
      "Warning: State validity checker not set! No collision checking is performed\n",
      "         at line 63 in /Users/tianpengzhang/Desktop/ompl/src/ompl/base/src/SpaceInformation.cpp\n"
     ]
    },
    {
     "name": "stdout",
     "output_type": "stream",
     "text": [
      "Planning for agent 3/9Info:    SpaceTimeRRT: Created 202 states (82 start + 120 goal)\n",
      "\n",
      "Debug:   SpaceTimeRRT: Planner range detected to be inf\n",
      "Info:    SpaceTimeRRT: Starting planning with 1 states already in datastructure\n",
      "Info:    SpaceTimeRRT: Starting planning with time bound factor 2.00\n"
     ]
    },
    {
     "name": "stderr",
     "output_type": "stream",
     "text": [
      "Warning: State validity checker not set! No collision checking is performed\n",
      "         at line 63 in /Users/tianpengzhang/Desktop/ompl/src/ompl/base/src/SpaceInformation.cpp\n"
     ]
    },
    {
     "name": "stdout",
     "output_type": "stream",
     "text": [
      "Planning for agent 4/9Info:    SpaceTimeRRT: Created 200 states (96 start + 104 goal)\n",
      "\n",
      "Debug:   SpaceTimeRRT: Planner range detected to be inf\n",
      "Info:    SpaceTimeRRT: Starting planning with 1 states already in datastructure\n",
      "Info:    SpaceTimeRRT: Starting planning with time bound factor 2.00\n"
     ]
    },
    {
     "name": "stderr",
     "output_type": "stream",
     "text": [
      "Warning: State validity checker not set! No collision checking is performed\n",
      "         at line 63 in /Users/tianpengzhang/Desktop/ompl/src/ompl/base/src/SpaceInformation.cpp\n"
     ]
    },
    {
     "name": "stdout",
     "output_type": "stream",
     "text": [
      "Info:    SpaceTimeRRT: Increased time bound factor to 4.00\n",
      "Info:    Planning for agent 5/9\n",
      "SpaceTimeRRT: Created 532 states (253 start + 279 goal)\n",
      "Debug:   SpaceTimeRRT: Planner range detected to be inf\n",
      "Info:    SpaceTimeRRT: Starting planning with 1 states already in datastructure\n",
      "Info:    SpaceTimeRRT: Starting planning with time bound factor 2.00\n"
     ]
    },
    {
     "name": "stderr",
     "output_type": "stream",
     "text": [
      "Warning: State validity checker not set! No collision checking is performed\n",
      "         at line 63 in /Users/tianpengzhang/Desktop/ompl/src/ompl/base/src/SpaceInformation.cpp\n"
     ]
    },
    {
     "name": "stdout",
     "output_type": "stream",
     "text": [
      "Info:    SpaceTimeRRT: Increased time bound factor to 4.00\n",
      "Planning for agent 6/9Info:    SpaceTimeRRT: Created 653 states (256 start + 397 goal)\n",
      "\n",
      "Debug:   SpaceTimeRRT: Planner range detected to be inf\n",
      "Info:    SpaceTimeRRT: Starting planning with 1 states already in datastructure\n",
      "Info:    SpaceTimeRRT: Starting planning with time bound factor 2.00\n"
     ]
    },
    {
     "name": "stderr",
     "output_type": "stream",
     "text": [
      "Warning: State validity checker not set! No collision checking is performed\n",
      "         at line 63 in /Users/tianpengzhang/Desktop/ompl/src/ompl/base/src/SpaceInformation.cpp\n"
     ]
    },
    {
     "name": "stdout",
     "output_type": "stream",
     "text": [
      "Info:    SpaceTimeRRT: Increased time bound factor to 4.00\n",
      "Planning for agent 7/9Info:    SpaceTimeRRT: Created 1068 states (491 start + 577 goal)\n",
      "\n",
      "Debug:   SpaceTimeRRT: Planner range detected to be inf\n",
      "Info:    SpaceTimeRRT: Starting planning with 1 states already in datastructure\n",
      "Info:    SpaceTimeRRT: Starting planning with time bound factor 2.00\n"
     ]
    },
    {
     "name": "stderr",
     "output_type": "stream",
     "text": [
      "Warning: State validity checker not set! No collision checking is performed\n",
      "         at line 63 in /Users/tianpengzhang/Desktop/ompl/src/ompl/base/src/SpaceInformation.cpp\n"
     ]
    },
    {
     "name": "stdout",
     "output_type": "stream",
     "text": [
      "Info:    SpaceTimeRRT: Increased time bound factor to 4.00\n",
      "Planning for agent 8/9Info:    SpaceTimeRRT: Created 693 states (330 start + 363 goal)\n",
      "\n",
      "Debug:   SpaceTimeRRT: Planner range detected to be inf\n",
      "Info:    SpaceTimeRRT: Starting planning with 1 states already in datastructure\n",
      "Info:    SpaceTimeRRT: Starting planning with time bound factor 2.00\n"
     ]
    },
    {
     "name": "stderr",
     "output_type": "stream",
     "text": [
      "Warning: State validity checker not set! No collision checking is performed\n",
      "         at line 63 in /Users/tianpengzhang/Desktop/ompl/src/ompl/base/src/SpaceInformation.cpp\n"
     ]
    },
    {
     "name": "stdout",
     "output_type": "stream",
     "text": [
      "On time for algorithmInfo:    SpaceTimeRRT: Created 241 states (106 start + 135 goal)\n",
      " ST-RRT* N agent =  9\n",
      "Env: SingleTunnel Alg: Seq_Tube N agent: 12\n",
      "Planning for agent 0/12\n",
      "Planning for agent 1/12\n",
      "Planning for agent 2/12\n",
      "Planning for agent 3/12\n",
      "Planning for agent 4/12\n",
      "Planning for agent 5/12\n",
      "Planning for agent 6/12\n",
      "Planning for agent 7/12\n",
      "Planning for agent 8/12\n",
      "Planning for agent 9/12\n",
      "Planning for agent 10/12\n",
      "Planning for agent 11/12\n",
      "On time for algorithm Seq_Tube N agent =  12\n",
      "Env: SingleTunnel Alg: Seq_Tube_nonLazy N agent: 12\n",
      "Planning for agent 0/12\n",
      "Planning for agent 1/12\n",
      "Planning for agent 2/12\n",
      "Planning for agent 3/12\n",
      "Planning for agent 4/12\n",
      "Planning for agent 5/12\n",
      "Planning for agent 6/12\n",
      "Planning for agent 7/12\n",
      "Planning for agent 8/12\n",
      "Planning for agent 9/12\n",
      "Planning for agent 10/12\n",
      "Planning for agent 11/12\n",
      "On time for algorithm Seq_Tube_nonLazy N agent =  12\n",
      "Env: SingleTunnel Alg: ST-RRT* N agent: 12\n",
      "Planning for agent 0/12\n",
      "Debug:   SpaceTimeRRT: Planner range detected to be inf\n",
      "Info:    SpaceTimeRRT: Starting planning with 1 states already in datastructure\n",
      "Info:    SpaceTimeRRT: Starting planning with time bound factor 2.00\n",
      "Planning for agent 1/12\n",
      "Info:    SpaceTimeRRT: Created 163 states (85 start + 78 goal)\n",
      "Debug:   SpaceTimeRRT: Planner range detected to be inf\n",
      "Info:    SpaceTimeRRT: Starting planning with 1 states already in datastructure\n",
      "Info:    SpaceTimeRRT: Starting planning with time bound factor 2.00\n"
     ]
    },
    {
     "name": "stderr",
     "output_type": "stream",
     "text": [
      "Warning: State validity checker not set! No collision checking is performed\n",
      "         at line 63 in /Users/tianpengzhang/Desktop/ompl/src/ompl/base/src/SpaceInformation.cpp\n",
      "Warning: State validity checker not set! No collision checking is performed\n",
      "         at line 63 in /Users/tianpengzhang/Desktop/ompl/src/ompl/base/src/SpaceInformation.cpp\n"
     ]
    },
    {
     "name": "stdout",
     "output_type": "stream",
     "text": [
      "Planning for agent 2/12Info:    SpaceTimeRRT: Created 156 states (77 start + 79 goal)\n",
      "\n",
      "Debug:   SpaceTimeRRT: Planner range detected to be inf\n",
      "Info:    SpaceTimeRRT: Starting planning with 1 states already in datastructure\n",
      "Info:    SpaceTimeRRT: Starting planning with time bound factor 2.00\n"
     ]
    },
    {
     "name": "stderr",
     "output_type": "stream",
     "text": [
      "Warning: State validity checker not set! No collision checking is performed\n",
      "         at line 63 in /Users/tianpengzhang/Desktop/ompl/src/ompl/base/src/SpaceInformation.cpp\n"
     ]
    },
    {
     "name": "stdout",
     "output_type": "stream",
     "text": [
      "Planning for agent 3/12Info:    SpaceTimeRRT: Created 180 states (70 start + 110 goal)\n",
      "\n",
      "Debug:   SpaceTimeRRT: Planner range detected to be inf\n",
      "Info:    SpaceTimeRRT: Starting planning with 1 states already in datastructure\n",
      "Info:    SpaceTimeRRT: Starting planning with time bound factor 2.00\n",
      "Planning for agent 4/12\n",
      "Info:    SpaceTimeRRT: Created 42 states (19 start + 23 goal)\n",
      "Debug:   SpaceTimeRRT: Planner range detected to be inf\n",
      "Info:    SpaceTimeRRT: Starting planning with 1 states already in datastructure\n",
      "Info:    SpaceTimeRRT: Starting planning with time bound factor 2.00\n"
     ]
    },
    {
     "name": "stderr",
     "output_type": "stream",
     "text": [
      "Warning: State validity checker not set! No collision checking is performed\n",
      "         at line 63 in /Users/tianpengzhang/Desktop/ompl/src/ompl/base/src/SpaceInformation.cpp\n",
      "Warning: State validity checker not set! No collision checking is performed\n",
      "         at line 63 in /Users/tianpengzhang/Desktop/ompl/src/ompl/base/src/SpaceInformation.cpp\n",
      "Warning: State validity checker not set! No collision checking is performed\n",
      "         at line 63 in /Users/tianpengzhang/Desktop/ompl/src/ompl/base/src/SpaceInformation.cpp\n"
     ]
    },
    {
     "name": "stdout",
     "output_type": "stream",
     "text": [
      "Planning for agent 5/12\n",
      "Info:    SpaceTimeRRT: Created 49 states (20 start + 29 goal)\n",
      "Debug:   SpaceTimeRRT: Planner range detected to be inf\n",
      "Info:    SpaceTimeRRT: Starting planning with 1 states already in datastructure\n",
      "Info:    SpaceTimeRRT: Starting planning with time bound factor 2.00\n",
      "Planning for agent 6/12\n",
      "Info:    SpaceTimeRRT: Created 75 states (35 start + 40 goal)\n",
      "Debug:   SpaceTimeRRT: Planner range detected to be inf\n",
      "Info:    SpaceTimeRRT: Starting planning with 1 states already in datastructure\n",
      "Info:    SpaceTimeRRT: Starting planning with time bound factor 2.00\n"
     ]
    },
    {
     "name": "stderr",
     "output_type": "stream",
     "text": [
      "Warning: State validity checker not set! No collision checking is performed\n",
      "         at line 63 in /Users/tianpengzhang/Desktop/ompl/src/ompl/base/src/SpaceInformation.cpp\n"
     ]
    },
    {
     "name": "stdout",
     "output_type": "stream",
     "text": [
      "Info:    SpaceTimeRRT: Increased time bound factor to 4.00\n",
      "Planning for agent 7/12Info:    SpaceTimeRRT: Created 632 states (280 start + 352 goal)\n",
      "\n",
      "Debug:   SpaceTimeRRT: Planner range detected to be inf\n",
      "Info:    SpaceTimeRRT: Starting planning with 1 states already in datastructure\n",
      "Info:    SpaceTimeRRT: Starting planning with time bound factor 2.00\n"
     ]
    },
    {
     "name": "stderr",
     "output_type": "stream",
     "text": [
      "Warning: State validity checker not set! No collision checking is performed\n",
      "         at line 63 in /Users/tianpengzhang/Desktop/ompl/src/ompl/base/src/SpaceInformation.cpp\n"
     ]
    },
    {
     "name": "stdout",
     "output_type": "stream",
     "text": [
      "Info:    SpaceTimeRRT: Increased time bound factor to 4.00\n",
      "Planning for agent 8/12Info:    SpaceTimeRRT: Created 696 states (349 start + 347 goal)\n",
      "\n",
      "Debug:   SpaceTimeRRT: Planner range detected to be inf\n",
      "Info:    SpaceTimeRRT: Starting planning with 1 states already in datastructure\n",
      "Info:    SpaceTimeRRT: Starting planning with time bound factor 2.00\n"
     ]
    },
    {
     "name": "stderr",
     "output_type": "stream",
     "text": [
      "Warning: State validity checker not set! No collision checking is performed\n",
      "         at line 63 in /Users/tianpengzhang/Desktop/ompl/src/ompl/base/src/SpaceInformation.cpp\n"
     ]
    },
    {
     "name": "stdout",
     "output_type": "stream",
     "text": [
      "Info:    SpaceTimeRRT: Increased time bound factor to 4.00\n",
      "Planning for agent 9/12Info:    SpaceTimeRRT: Created 730 states (306 start + 424 goal)\n",
      "\n",
      "Debug:   SpaceTimeRRT: Planner range detected to be inf\n",
      "Info:    SpaceTimeRRT: Starting planning with 1 states already in datastructure\n",
      "Info:    SpaceTimeRRT: Starting planning with time bound factor 2.00\n"
     ]
    },
    {
     "name": "stderr",
     "output_type": "stream",
     "text": [
      "Warning: State validity checker not set! No collision checking is performed\n",
      "         at line 63 in /Users/tianpengzhang/Desktop/ompl/src/ompl/base/src/SpaceInformation.cpp\n"
     ]
    },
    {
     "name": "stdout",
     "output_type": "stream",
     "text": [
      "Info:    SpaceTimeRRT: Increased time bound factor to 4.00\n",
      "Planning for agent 10/12Info:    SpaceTimeRRT: Created 546 states (247 start + 299 goal)\n",
      "\n",
      "Debug:   SpaceTimeRRT: Planner range detected to be inf\n",
      "Info:    SpaceTimeRRT: Starting planning with 1 states already in datastructure\n",
      "Info:    SpaceTimeRRT: Starting planning with time bound factor 2.00\n"
     ]
    },
    {
     "name": "stderr",
     "output_type": "stream",
     "text": [
      "Warning: State validity checker not set! No collision checking is performed\n",
      "         at line 63 in /Users/tianpengzhang/Desktop/ompl/src/ompl/base/src/SpaceInformation.cpp\n"
     ]
    },
    {
     "name": "stdout",
     "output_type": "stream",
     "text": [
      "Info:    SpaceTimeRRT: Increased time bound factor to 4.00\n",
      "Planning for agent 11/12Info:    SpaceTimeRRT: Created 1089 states (498 start + 591 goal)\n",
      "\n",
      "Debug:   SpaceTimeRRT: Planner range detected to be inf\n",
      "Info:    SpaceTimeRRT: Starting planning with 1 states already in datastructure\n",
      "Info:    SpaceTimeRRT: Starting planning with time bound factor 2.00\n"
     ]
    },
    {
     "name": "stderr",
     "output_type": "stream",
     "text": [
      "Warning: State validity checker not set! No collision checking is performed\n",
      "         at line 63 in /Users/tianpengzhang/Desktop/ompl/src/ompl/base/src/SpaceInformation.cpp\n"
     ]
    },
    {
     "name": "stdout",
     "output_type": "stream",
     "text": [
      "Info:    SpaceTimeRRT: Increased time bound factor to 4.00\n",
      "On time for algorithmInfo:    SpaceTimeRRT: Created 778 states (357 start + 421 goal)\n",
      " ST-RRT* N agent =  12\n",
      "Env: SingleTunnel Alg: Seq_Tube N agent: 15\n",
      "Planning for agent 0/15\n",
      "Planning for agent 1/15\n",
      "Planning for agent 2/15\n",
      "Planning for agent 3/15\n",
      "Planning for agent 4/15\n",
      "Planning for agent 5/15\n",
      "Planning for agent 6/15\n",
      "Planning for agent 7/15\n",
      "Planning for agent 8/15\n",
      "Planning for agent 9/15\n",
      "Planning for agent 10/15\n",
      "Planning for agent 11/15\n",
      "Planning for agent 12/15\n",
      "Planning for agent 13/15\n",
      "Planning for agent 14/15\n",
      "On time for algorithm Seq_Tube N agent =  15\n",
      "Env: SingleTunnel Alg: Seq_Tube_nonLazy N agent: 15\n",
      "Planning for agent 0/15\n",
      "Planning for agent 1/15\n",
      "Planning for agent 2/15\n",
      "Planning for agent 3/15\n",
      "Planning for agent 4/15\n",
      "Planning for agent 5/15\n",
      "Planning for agent 6/15\n",
      "Planning for agent 7/15\n",
      "Planning for agent 8/15\n",
      "Planning for agent 9/15\n",
      "Planning for agent 10/15\n",
      "Planning for agent 11/15\n",
      "Planning for agent 12/15\n",
      "Algorithm timeout\n",
      "\n",
      "Interrupt request received\n"
     ]
    },
    {
     "ename": "SolverError",
     "evalue": "Solver 'GUROBI' failed. Try another solver, or solve with verbose=True for more information.",
     "output_type": "error",
     "traceback": [
      "\u001b[0;31m---------------------------------------------------------------------------\u001b[0m",
      "\u001b[0;31mSolverError\u001b[0m                               Traceback (most recent call last)",
      "Cell \u001b[0;32mIn[18], line 4\u001b[0m\n\u001b[1;32m      1\u001b[0m results,executed \u001b[38;5;241m=\u001b[39m get_checkpoint_state(env_name,algs,N_range,first_run \u001b[38;5;241m=\u001b[39m \u001b[38;5;28;01mTrue\u001b[39;00m)\n\u001b[1;32m      3\u001b[0m \u001b[38;5;66;03m# results,executed = get_checkpoint_state(env_name,algs,N_range)\u001b[39;00m\n\u001b[0;32m----> 4\u001b[0m \u001b[43mrun_experiments\u001b[49m\u001b[43m(\u001b[49m\u001b[43menv_name\u001b[49m\u001b[43m,\u001b[49m\n\u001b[1;32m      5\u001b[0m \u001b[43m                \u001b[49m\u001b[43menv_info\u001b[49m\u001b[43m[\u001b[49m\u001b[43menv_name\u001b[49m\u001b[43m]\u001b[49m\u001b[43m,\u001b[49m\n\u001b[1;32m      6\u001b[0m \u001b[43m                \u001b[49m\u001b[43mN_range\u001b[49m\u001b[43m,\u001b[49m\n\u001b[1;32m      7\u001b[0m \u001b[43m                \u001b[49m\u001b[43malgs\u001b[49m\u001b[43m,\u001b[49m\n\u001b[1;32m      8\u001b[0m \u001b[43m                \u001b[49m\u001b[38;5;241;43m240\u001b[39;49m\u001b[43m,\u001b[49m\n\u001b[1;32m      9\u001b[0m \u001b[43m                \u001b[49m\u001b[43mresults\u001b[49m\u001b[43m,\u001b[49m\n\u001b[1;32m     10\u001b[0m \u001b[43m                \u001b[49m\u001b[43mexecuted\u001b[49m\u001b[43m)\u001b[49m\n",
      "Cell \u001b[0;32mIn[7], line 51\u001b[0m, in \u001b[0;36mrun_experiments\u001b[0;34m(env_name, env_info, N_range, algs, TIMEOUT, results, executed)\u001b[0m\n\u001b[1;32m     49\u001b[0m \u001b[38;5;28;01mtry\u001b[39;00m:\n\u001b[1;32m     50\u001b[0m     t0 \u001b[38;5;241m=\u001b[39m time()\n\u001b[0;32m---> 51\u001b[0m     plan \u001b[38;5;241m=\u001b[39m \u001b[43malg\u001b[49m\u001b[43m(\u001b[49m\u001b[43menv\u001b[49m\u001b[43m)\u001b[49m\n\u001b[1;32m     52\u001b[0m \u001b[38;5;28;01mexcept\u001b[39;00m \u001b[38;5;167;01mTimeoutError\u001b[39;00m:\n\u001b[1;32m     53\u001b[0m     \u001b[38;5;28mprint\u001b[39m(\u001b[38;5;124m\"\u001b[39m\u001b[38;5;124mTimeout\u001b[39m\u001b[38;5;124m\"\u001b[39m)\n",
      "Cell \u001b[0;32mIn[8], line 9\u001b[0m, in \u001b[0;36m<lambda>\u001b[0;34m(env)\u001b[0m\n\u001b[1;32m      4\u001b[0m TIMEOUT \u001b[38;5;241m=\u001b[39m \u001b[38;5;241m120\u001b[39m\n\u001b[1;32m      6\u001b[0m \u001b[38;5;66;03m# Specify the Algorithms\u001b[39;00m\n\u001b[1;32m      7\u001b[0m algs \u001b[38;5;241m=\u001b[39m {  \n\u001b[1;32m      8\u001b[0m         \u001b[38;5;124m\"\u001b[39m\u001b[38;5;124mSeq_Tube\u001b[39m\u001b[38;5;124m\"\u001b[39m: \u001b[38;5;28;01mlambda\u001b[39;00m env: sequential_planning(Tube_Planning,env,vmax,bloating_r,TIMEOUT\u001b[38;5;241m=\u001b[39mTIMEOUT),      \n\u001b[0;32m----> 9\u001b[0m         \u001b[38;5;124m\"\u001b[39m\u001b[38;5;124mSeq_Tube_nonLazy\u001b[39m\u001b[38;5;124m\"\u001b[39m: \u001b[38;5;28;01mlambda\u001b[39;00m env: \u001b[43msequential_planning\u001b[49m\u001b[43m(\u001b[49m\u001b[43mTube_Planning\u001b[49m\u001b[43m,\u001b[49m\u001b[43menv\u001b[49m\u001b[43m,\u001b[49m\u001b[43mvmax\u001b[49m\u001b[43m,\u001b[49m\u001b[43mbloating_r\u001b[49m\u001b[43m,\u001b[49m\u001b[43mTIMEOUT\u001b[49m\u001b[38;5;241;43m=\u001b[39;49m\u001b[43mTIMEOUT\u001b[49m\u001b[43m,\u001b[49m\u001b[43mlazy\u001b[49m\u001b[43m \u001b[49m\u001b[38;5;241;43m=\u001b[39;49m\u001b[43m \u001b[49m\u001b[38;5;28;43;01mFalse\u001b[39;49;00m\u001b[43m)\u001b[49m,      \n\u001b[1;32m     10\u001b[0m         \u001b[38;5;66;03m# \"Seq_S2M2\": lambda env: sequential_planning(Simple_MILP_Planning,env,vmax,bloating_r,TIMEOUT=TIMEOUT,lazy = False),\u001b[39;00m\n\u001b[1;32m     11\u001b[0m         \u001b[38;5;124m\"\u001b[39m\u001b[38;5;124mST-RRT*\u001b[39m\u001b[38;5;124m\"\u001b[39m: \u001b[38;5;28;01mlambda\u001b[39;00m env: sequential_ST_RRTStar(env,vmax,bloating_r)\n\u001b[1;32m     12\u001b[0m         }\n\u001b[1;32m     13\u001b[0m \u001b[38;5;66;03m# Load environment presets\u001b[39;00m\n\u001b[1;32m     14\u001b[0m env_names \u001b[38;5;241m=\u001b[39m [get_env_name(fn) \u001b[38;5;28;01mfor\u001b[39;00m fn \u001b[38;5;129;01min\u001b[39;00m listdir(\u001b[38;5;124m'\u001b[39m\u001b[38;5;124m./envs\u001b[39m\u001b[38;5;124m'\u001b[39m)]\n",
      "File \u001b[0;32m~/Dropbox (Harvard University)/Tianpeng's research/Tianpeng & Lina/Multiagent Motion Planning/PA-Nav/Experiments/MILP/../../panav/sequential.py:18\u001b[0m, in \u001b[0;36msequential_planning\u001b[0;34m(solver, env, vmax, bloating_r, TIMEOUT, lazy)\u001b[0m\n\u001b[1;32m     15\u001b[0m goal \u001b[38;5;241m=\u001b[39m env\u001b[38;5;241m.\u001b[39mgoals[i,:]\n\u001b[1;32m     17\u001b[0m sol \u001b[38;5;241m=\u001b[39m solver(env,start,goal,vmax \u001b[38;5;241m=\u001b[39m vmax, bloating_r \u001b[38;5;241m=\u001b[39m  bloating_r)\n\u001b[0;32m---> 18\u001b[0m p \u001b[38;5;241m=\u001b[39m \u001b[43msol\u001b[49m\u001b[38;5;241;43m.\u001b[39;49m\u001b[43mplan\u001b[49m\u001b[43m(\u001b[49m\u001b[43mobstacle_trajectories\u001b[49m\u001b[43m \u001b[49m\u001b[38;5;241;43m=\u001b[39;49m\u001b[43m \u001b[49m\u001b[43mcontinuous_plans\u001b[49m\u001b[43m,\u001b[49m\u001b[43mlazy\u001b[49m\u001b[43m \u001b[49m\u001b[38;5;241;43m=\u001b[39;49m\u001b[43m \u001b[49m\u001b[43mlazy\u001b[49m\u001b[43m)\u001b[49m    \n\u001b[1;32m     20\u001b[0m t_now \u001b[38;5;241m=\u001b[39m time()\u001b[38;5;241m-\u001b[39mt0\n\u001b[1;32m     21\u001b[0m \u001b[38;5;28;01mif\u001b[39;00m p \u001b[38;5;129;01mis\u001b[39;00m \u001b[38;5;28;01mNone\u001b[39;00m \u001b[38;5;129;01mor\u001b[39;00m t_now\u001b[38;5;241m>\u001b[39mTIMEOUT:\n",
      "File \u001b[0;32m~/Dropbox (Harvard University)/Tianpeng's research/Tianpeng & Lina/Multiagent Motion Planning/PA-Nav/Experiments/MILP/../../panav/SAMP/solvers.py:22\u001b[0m, in \u001b[0;36mSAMP_Base.plan\u001b[0;34m(self, obstacle_trajectories, active_obstacles, lazy)\u001b[0m\n\u001b[1;32m     20\u001b[0m \u001b[38;5;28;01mdef\u001b[39;00m \u001b[38;5;21mplan\u001b[39m(\u001b[38;5;28mself\u001b[39m,obstacle_trajectories\u001b[38;5;241m=\u001b[39m[],active_obstacles\u001b[38;5;241m=\u001b[39m[],lazy \u001b[38;5;241m=\u001b[39m \u001b[38;5;28;01mTrue\u001b[39;00m):\n\u001b[1;32m     21\u001b[0m     \u001b[38;5;28;01mif\u001b[39;00m \u001b[38;5;129;01mnot\u001b[39;00m lazy:\n\u001b[0;32m---> 22\u001b[0m         \u001b[38;5;28;01mreturn\u001b[39;00m \u001b[38;5;28;43mself\u001b[39;49m\u001b[38;5;241;43m.\u001b[39;49m\u001b[43mplan_plain\u001b[49m\u001b[43m(\u001b[49m\u001b[43mobstacle_trajectories\u001b[49m\u001b[38;5;241;43m=\u001b[39;49m\u001b[43mobstacle_trajectories\u001b[49m\u001b[43m,\u001b[49m\u001b[43mactive_obstacles\u001b[49m\u001b[38;5;241;43m=\u001b[39;49m\u001b[43mactive_obstacles\u001b[49m\u001b[43m)\u001b[49m\n\u001b[1;32m     23\u001b[0m     \u001b[38;5;28;01melse\u001b[39;00m:\n\u001b[1;32m     24\u001b[0m         \u001b[38;5;28;01mreturn\u001b[39;00m \u001b[38;5;28mself\u001b[39m\u001b[38;5;241m.\u001b[39mlazy_plan(obstacle_trajectories\u001b[38;5;241m=\u001b[39mobstacle_trajectories)\n",
      "File \u001b[0;32m~/Dropbox (Harvard University)/Tianpeng's research/Tianpeng & Lina/Multiagent Motion Planning/PA-Nav/Experiments/MILP/../../panav/SAMP/solvers.py:65\u001b[0m, in \u001b[0;36mSAMP_Base.plan_plain\u001b[0;34m(self, obstacle_trajectories, active_obstacles, K_min)\u001b[0m\n\u001b[1;32m     63\u001b[0m \u001b[38;5;28mself\u001b[39m\u001b[38;5;241m.\u001b[39mK \u001b[38;5;241m=\u001b[39m K_min\n\u001b[1;32m     64\u001b[0m \u001b[38;5;28;01mwhile\u001b[39;00m \u001b[38;5;28mself\u001b[39m\u001b[38;5;241m.\u001b[39mK\u001b[38;5;241m<\u001b[39m\u001b[38;5;241m=\u001b[39m\u001b[38;5;28mself\u001b[39m\u001b[38;5;241m.\u001b[39mK_max:\n\u001b[0;32m---> 65\u001b[0m     p \u001b[38;5;241m=\u001b[39m \u001b[38;5;28;43mself\u001b[39;49m\u001b[38;5;241;43m.\u001b[39;49m\u001b[43mplan_core\u001b[49m\u001b[43m(\u001b[49m\u001b[43mobstacle_trajectories\u001b[49m\u001b[38;5;241;43m=\u001b[39;49m\u001b[43mobstacle_trajectories\u001b[49m\u001b[43m,\u001b[49m\u001b[43mactive_obstacles\u001b[49m\u001b[38;5;241;43m=\u001b[39;49m\u001b[43mactive_obstacles\u001b[49m\u001b[43m)\u001b[49m\n\u001b[1;32m     66\u001b[0m     \u001b[38;5;66;03m# print(K,p)\u001b[39;00m\n\u001b[1;32m     67\u001b[0m     \u001b[38;5;28;01mif\u001b[39;00m p:\n",
      "File \u001b[0;32m~/Dropbox (Harvard University)/Tianpeng's research/Tianpeng & Lina/Multiagent Motion Planning/PA-Nav/Experiments/MILP/../../panav/SAMP/solvers.py:344\u001b[0m, in \u001b[0;36mTube_Planning.plan_core\u001b[0;34m(self, obstacle_trajectories, active_obstacles, solve_inplace)\u001b[0m\n\u001b[1;32m    341\u001b[0m     \u001b[38;5;28;01mreturn\u001b[39;00m t,x,constraints,prob\n\u001b[1;32m    342\u001b[0m \u001b[38;5;28;01melse\u001b[39;00m:\n\u001b[1;32m    343\u001b[0m     \u001b[38;5;66;03m# print('number of integer constraints:',count_interger_var(prob))\u001b[39;00m\n\u001b[0;32m--> 344\u001b[0m     \u001b[43mprob\u001b[49m\u001b[38;5;241;43m.\u001b[39;49m\u001b[43msolve\u001b[49m\u001b[43m(\u001b[49m\u001b[43msolver\u001b[49m\u001b[38;5;241;43m=\u001b[39;49m\u001b[38;5;124;43m'\u001b[39;49m\u001b[38;5;124;43mGUROBI\u001b[39;49m\u001b[38;5;124;43m'\u001b[39;49m\u001b[43m,\u001b[49m\u001b[43mTimeLimit\u001b[49m\u001b[43m \u001b[49m\u001b[38;5;241;43m=\u001b[39;49m\u001b[43m \u001b[49m\u001b[38;5;241;43m100\u001b[39;49m\u001b[43m)\u001b[49m \u001b[38;5;66;03m# The Gurobi solver proves to be more accurate and also faster.\u001b[39;00m\n\u001b[1;32m    345\u001b[0m     \u001b[38;5;28;01mif\u001b[39;00m prob\u001b[38;5;241m.\u001b[39mstatus \u001b[38;5;241m==\u001b[39m \u001b[38;5;124m'\u001b[39m\u001b[38;5;124moptimal\u001b[39m\u001b[38;5;124m'\u001b[39m:\n\u001b[1;32m    346\u001b[0m         out \u001b[38;5;241m=\u001b[39m unique_tx(t\u001b[38;5;241m.\u001b[39mvalue[\u001b[38;5;241m0\u001b[39m,:],x\u001b[38;5;241m.\u001b[39mvalue)\n",
      "File \u001b[0;32m~/opt/miniconda3/envs/PA-NAV/lib/python3.11/site-packages/cvxpy/problems/problem.py:493\u001b[0m, in \u001b[0;36mProblem.solve\u001b[0;34m(self, *args, **kwargs)\u001b[0m\n\u001b[1;32m    491\u001b[0m \u001b[38;5;28;01melse\u001b[39;00m:\n\u001b[1;32m    492\u001b[0m     solve_func \u001b[38;5;241m=\u001b[39m Problem\u001b[38;5;241m.\u001b[39m_solve\n\u001b[0;32m--> 493\u001b[0m \u001b[38;5;28;01mreturn\u001b[39;00m \u001b[43msolve_func\u001b[49m\u001b[43m(\u001b[49m\u001b[38;5;28;43mself\u001b[39;49m\u001b[43m,\u001b[49m\u001b[43m \u001b[49m\u001b[38;5;241;43m*\u001b[39;49m\u001b[43margs\u001b[49m\u001b[43m,\u001b[49m\u001b[43m \u001b[49m\u001b[38;5;241;43m*\u001b[39;49m\u001b[38;5;241;43m*\u001b[39;49m\u001b[43mkwargs\u001b[49m\u001b[43m)\u001b[49m\n",
      "File \u001b[0;32m~/opt/miniconda3/envs/PA-NAV/lib/python3.11/site-packages/cvxpy/problems/problem.py:1068\u001b[0m, in \u001b[0;36mProblem._solve\u001b[0;34m(self, solver, warm_start, verbose, gp, qcp, requires_grad, enforce_dpp, ignore_dpp, canon_backend, **kwargs)\u001b[0m\n\u001b[1;32m   1066\u001b[0m end \u001b[38;5;241m=\u001b[39m time\u001b[38;5;241m.\u001b[39mtime()\n\u001b[1;32m   1067\u001b[0m \u001b[38;5;28mself\u001b[39m\u001b[38;5;241m.\u001b[39m_solve_time \u001b[38;5;241m=\u001b[39m end \u001b[38;5;241m-\u001b[39m start\n\u001b[0;32m-> 1068\u001b[0m \u001b[38;5;28;43mself\u001b[39;49m\u001b[38;5;241;43m.\u001b[39;49m\u001b[43munpack_results\u001b[49m\u001b[43m(\u001b[49m\u001b[43msolution\u001b[49m\u001b[43m,\u001b[49m\u001b[43m \u001b[49m\u001b[43msolving_chain\u001b[49m\u001b[43m,\u001b[49m\u001b[43m \u001b[49m\u001b[43minverse_data\u001b[49m\u001b[43m)\u001b[49m\n\u001b[1;32m   1069\u001b[0m \u001b[38;5;28;01mif\u001b[39;00m verbose:\n\u001b[1;32m   1070\u001b[0m     \u001b[38;5;28mprint\u001b[39m(_FOOTER)\n",
      "File \u001b[0;32m~/opt/miniconda3/envs/PA-NAV/lib/python3.11/site-packages/cvxpy/problems/problem.py:1393\u001b[0m, in \u001b[0;36mProblem.unpack_results\u001b[0;34m(self, solution, chain, inverse_data)\u001b[0m\n\u001b[1;32m   1391\u001b[0m     warnings\u001b[38;5;241m.\u001b[39mwarn(INF_OR_UNB_MESSAGE)\n\u001b[1;32m   1392\u001b[0m \u001b[38;5;28;01mif\u001b[39;00m solution\u001b[38;5;241m.\u001b[39mstatus \u001b[38;5;129;01min\u001b[39;00m s\u001b[38;5;241m.\u001b[39mERROR:\n\u001b[0;32m-> 1393\u001b[0m     \u001b[38;5;28;01mraise\u001b[39;00m error\u001b[38;5;241m.\u001b[39mSolverError(\n\u001b[1;32m   1394\u001b[0m             \u001b[38;5;124m\"\u001b[39m\u001b[38;5;124mSolver \u001b[39m\u001b[38;5;124m'\u001b[39m\u001b[38;5;132;01m%s\u001b[39;00m\u001b[38;5;124m'\u001b[39m\u001b[38;5;124m failed. \u001b[39m\u001b[38;5;124m\"\u001b[39m \u001b[38;5;241m%\u001b[39m chain\u001b[38;5;241m.\u001b[39msolver\u001b[38;5;241m.\u001b[39mname() \u001b[38;5;241m+\u001b[39m\n\u001b[1;32m   1395\u001b[0m             \u001b[38;5;124m\"\u001b[39m\u001b[38;5;124mTry another solver, or solve with verbose=True for more \u001b[39m\u001b[38;5;124m\"\u001b[39m\n\u001b[1;32m   1396\u001b[0m             \u001b[38;5;124m\"\u001b[39m\u001b[38;5;124minformation.\u001b[39m\u001b[38;5;124m\"\u001b[39m)\n\u001b[1;32m   1398\u001b[0m \u001b[38;5;28mself\u001b[39m\u001b[38;5;241m.\u001b[39munpack(solution)\n\u001b[1;32m   1399\u001b[0m \u001b[38;5;28mself\u001b[39m\u001b[38;5;241m.\u001b[39m_solver_stats \u001b[38;5;241m=\u001b[39m SolverStats(\u001b[38;5;28mself\u001b[39m\u001b[38;5;241m.\u001b[39m_solution\u001b[38;5;241m.\u001b[39mattr,\n\u001b[1;32m   1400\u001b[0m                                  chain\u001b[38;5;241m.\u001b[39msolver\u001b[38;5;241m.\u001b[39mname())\n",
      "\u001b[0;31mSolverError\u001b[0m: Solver 'GUROBI' failed. Try another solver, or solve with verbose=True for more information."
     ]
    }
   ],
   "source": [
    "results,executed = get_checkpoint_state(env_name,algs,N_range,first_run = True)\n",
    "\n",
    "# results,executed = get_checkpoint_state(env_name,algs,N_range)\n",
    "run_experiments(env_name,\n",
    "                env_info[env_name],\n",
    "                N_range,\n",
    "                algs,\n",
    "                240,\n",
    "                results,\n",
    "                executed)"
   ]
  },
  {
   "cell_type": "code",
   "execution_count": null,
   "id": "75107722",
   "metadata": {},
   "outputs": [],
   "source": [
    "env_name = 'Warehouse'\n",
    "SEED = 13981\n",
    "np.random.seed(SEED)  # Fix the random seed\n",
    "N_range = [3,6,9,12,15]"
   ]
  },
  {
   "cell_type": "code",
   "execution_count": null,
   "id": "c94189e4",
   "metadata": {},
   "outputs": [
    {
     "name": "stdout",
     "output_type": "stream",
     "text": [
      "Env: Warehouse Alg: Seq_Tube N agent: 3\n",
      "Planning for agent 0/3\n",
      "Planning for agent 1/3\n",
      "Planning for agent 2/3\n",
      "On time for algorithm Seq_Tube N agent =  3\n",
      "Env: Warehouse Alg: Seq_Tube_nonLazy N agent: 3\n",
      "Planning for agent 0/3\n",
      "Planning for agent 1/3\n",
      "Planning for agent 2/3\n",
      "On time for algorithm Seq_Tube_nonLazy N agent =  3\n",
      "Env: Warehouse Alg: ST-RRT* N agent: 3\n",
      "Planning for agent 0/3\n",
      "Debug:   SpaceTimeRRT: Planner range detected to be inf\n",
      "Info:    SpaceTimeRRT: Starting planning with 1 states already in datastructure\n",
      "Info:    SpaceTimeRRT: Starting planning with time bound factor 2.00\n",
      "Planning for agent 1/3\n",
      "Info:    SpaceTimeRRT: Created 157 states (5 start + 152 goal)\n",
      "Debug:   SpaceTimeRRT: Planner range detected to be inf\n",
      "Info:    SpaceTimeRRT: Starting planning with 1 states already in datastructure\n",
      "Info:    SpaceTimeRRT: Starting planning with time bound factor 2.00\n"
     ]
    },
    {
     "name": "stderr",
     "output_type": "stream",
     "text": [
      "Warning: State validity checker not set! No collision checking is performed\n",
      "         at line 63 in /Users/tianpengzhang/Desktop/ompl/src/ompl/base/src/SpaceInformation.cpp\n",
      "Warning: State validity checker not set! No collision checking is performed\n",
      "         at line 63 in /Users/tianpengzhang/Desktop/ompl/src/ompl/base/src/SpaceInformation.cpp\n"
     ]
    },
    {
     "name": "stdout",
     "output_type": "stream",
     "text": [
      "Planning for agent 2/3\n",
      "Info:    SpaceTimeRRT: Created 38 states (21 start + 17 goal)\n",
      "Debug:   SpaceTimeRRT: Planner range detected to be inf\n",
      "Info:    SpaceTimeRRT: Starting planning with 1 states already in datastructure\n",
      "Info:    SpaceTimeRRT: Starting planning with time bound factor 2.00\n",
      "On time for algorithm ST-RRT* N agent =  3\n",
      "Info:    SpaceTimeRRT: Created 23 states (6 start + 17 goal)\n",
      "Env: Warehouse Alg: Seq_Tube N agent: 6\n",
      "Planning for agent 0/6\n"
     ]
    },
    {
     "name": "stderr",
     "output_type": "stream",
     "text": [
      "Warning: State validity checker not set! No collision checking is performed\n",
      "         at line 63 in /Users/tianpengzhang/Desktop/ompl/src/ompl/base/src/SpaceInformation.cpp\n"
     ]
    },
    {
     "name": "stdout",
     "output_type": "stream",
     "text": [
      "Planning for agent 1/6\n",
      "Planning for agent 2/6\n",
      "Planning for agent 3/6\n",
      "Planning for agent 4/6\n",
      "Planning for agent 5/6\n",
      "On time for algorithm Seq_Tube N agent =  6\n",
      "Env: Warehouse Alg: Seq_Tube_nonLazy N agent: 6\n",
      "Planning for agent 0/6\n",
      "Planning for agent 1/6\n",
      "Planning for agent 2/6\n",
      "Planning for agent 3/6\n",
      "Planning for agent 4/6\n",
      "Planning for agent 5/6\n",
      "On time for algorithm Seq_Tube_nonLazy N agent =  6\n",
      "Env: Warehouse Alg: ST-RRT* N agent: 6\n",
      "Planning for agent 0/6\n",
      "Debug:   SpaceTimeRRT: Planner range detected to be inf\n",
      "Info:    SpaceTimeRRT: Starting planning with 1 states already in datastructure\n",
      "Info:    SpaceTimeRRT: Starting planning with time bound factor 2.00\n",
      "Planning for agent 1/6\n",
      "Info:    SpaceTimeRRT: Created 48 states (18 start + 30 goal)\n",
      "Debug:   SpaceTimeRRT: Planner range detected to be inf\n",
      "Info:    SpaceTimeRRT: Starting planning with 1 states already in datastructure\n",
      "Info:    SpaceTimeRRT: Starting planning with time bound factor 2.00\n"
     ]
    },
    {
     "name": "stderr",
     "output_type": "stream",
     "text": [
      "Warning: State validity checker not set! No collision checking is performed\n",
      "         at line 63 in /Users/tianpengzhang/Desktop/ompl/src/ompl/base/src/SpaceInformation.cpp\n",
      "Warning: State validity checker not set! No collision checking is performed\n",
      "         at line 63 in /Users/tianpengzhang/Desktop/ompl/src/ompl/base/src/SpaceInformation.cpp\n"
     ]
    },
    {
     "name": "stdout",
     "output_type": "stream",
     "text": [
      "Planning for agent 2/6Info:    SpaceTimeRRT: Created 46 states (24 start + 22 goal)\n",
      "\n",
      "Debug:   SpaceTimeRRT: Planner range detected to be inf\n",
      "Info:    SpaceTimeRRT: Starting planning with 1 states already in datastructure\n",
      "Info:    SpaceTimeRRT: Starting planning with time bound factor 2.00\n",
      "Planning for agent 3/6\n",
      "Info:    SpaceTimeRRT: Created 43 states (16 start + 27 goal)\n",
      "Debug:   SpaceTimeRRT: Planner range detected to be inf\n",
      "Info:    SpaceTimeRRT: Starting planning with 1 states already in datastructure\n",
      "Info:    SpaceTimeRRT: Starting planning with time bound factor 2.00\n",
      "Planning for agent 4/6\n"
     ]
    },
    {
     "name": "stderr",
     "output_type": "stream",
     "text": [
      "Warning: State validity checker not set! No collision checking is performed\n",
      "         at line 63 in /Users/tianpengzhang/Desktop/ompl/src/ompl/base/src/SpaceInformation.cpp\n",
      "Warning: State validity checker not set! No collision checking is performed\n",
      "         at line 63 in /Users/tianpengzhang/Desktop/ompl/src/ompl/base/src/SpaceInformation.cpp\n",
      "Warning: State validity checker not set! No collision checking is performed\n",
      "         at line 63 in /Users/tianpengzhang/Desktop/ompl/src/ompl/base/src/SpaceInformation.cpp\n"
     ]
    },
    {
     "name": "stdout",
     "output_type": "stream",
     "text": [
      "Info:    SpaceTimeRRT: Created 58 states (25 start + 33 goal)\n",
      "Debug:   SpaceTimeRRT: Planner range detected to be inf\n",
      "Info:    SpaceTimeRRT: Starting planning with 1 states already in datastructure\n",
      "Info:    SpaceTimeRRT: Starting planning with time bound factor 2.00\n",
      "Planning for agent 5/6\n",
      "Info:    SpaceTimeRRT: Created 24 states (8 start + 16 goal)\n",
      "Debug:   SpaceTimeRRT: Planner range detected to be inf\n",
      "Info:    SpaceTimeRRT: Starting planning with 1 states already in datastructure\n",
      "Info:    SpaceTimeRRT: Starting planning with time bound factor 2.00\n",
      "On time for algorithm ST-RRT* N agent =  6\n",
      "Info:    SpaceTimeRRT: Created 60 states (29 start + 31 goal)\n"
     ]
    },
    {
     "name": "stderr",
     "output_type": "stream",
     "text": [
      "Warning: State validity checker not set! No collision checking is performed\n",
      "         at line 63 in /Users/tianpengzhang/Desktop/ompl/src/ompl/base/src/SpaceInformation.cpp\n"
     ]
    },
    {
     "name": "stdout",
     "output_type": "stream",
     "text": [
      "Env: Warehouse Alg: Seq_Tube N agent: 9\n",
      "Planning for agent 0/9\n",
      "Planning for agent 1/9\n",
      "Planning for agent 2/9\n",
      "Planning for agent 3/9\n",
      "Planning for agent 4/9\n",
      "Planning for agent 5/9\n",
      "Planning for agent 6/9\n",
      "Planning for agent 7/9\n",
      "Planning for agent 8/9\n",
      "On time for algorithm Seq_Tube N agent =  9\n",
      "Env: Warehouse Alg: Seq_Tube_nonLazy N agent: 9\n",
      "Planning for agent 0/9\n",
      "Planning for agent 1/9\n",
      "Planning for agent 2/9\n",
      "Planning for agent 3/9\n",
      "Planning for agent 4/9\n",
      "Planning for agent 5/9\n",
      "Planning for agent 6/9\n",
      "Planning for agent 7/9\n",
      "Planning for agent 8/9\n",
      "On time for algorithm Seq_Tube_nonLazy N agent =  9\n",
      "Env: Warehouse Alg: ST-RRT* N agent: 9\n",
      "Planning for agent 0/9\n",
      "Debug:   SpaceTimeRRT: Planner range detected to be inf\n",
      "Info:    SpaceTimeRRT: Starting planning with 1 states already in datastructure\n",
      "Info:    SpaceTimeRRT: Starting planning with time bound factor 2.00\n",
      "Planning for agent 1/9\n",
      "Info:    SpaceTimeRRT: Created 83 states (43 start + 40 goal)\n",
      "Debug:   SpaceTimeRRT: Planner range detected to be inf\n",
      "Info:    SpaceTimeRRT: Starting planning with 1 states already in datastructure\n",
      "Info:    SpaceTimeRRT: Starting planning with time bound factor 2.00\n"
     ]
    },
    {
     "name": "stderr",
     "output_type": "stream",
     "text": [
      "Warning: State validity checker not set! No collision checking is performed\n",
      "         at line 63 in /Users/tianpengzhang/Desktop/ompl/src/ompl/base/src/SpaceInformation.cpp\n",
      "Warning: State validity checker not set! No collision checking is performed\n",
      "         at line 63 in /Users/tianpengzhang/Desktop/ompl/src/ompl/base/src/SpaceInformation.cpp\n"
     ]
    },
    {
     "name": "stdout",
     "output_type": "stream",
     "text": [
      "Planning for agent 2/9Info:    SpaceTimeRRT: Created 44 states (15 start + 29 goal)\n",
      "\n",
      "Debug:   SpaceTimeRRT: Planner range detected to be inf\n",
      "Info:    SpaceTimeRRT: Starting planning with 1 states already in datastructure\n",
      "Info:    SpaceTimeRRT: Starting planning with time bound factor 2.00\n",
      "Planning for agent 3/9\n",
      "Info:    SpaceTimeRRT: Created 93 states (46 start + 47 goal)\n",
      "Debug:   SpaceTimeRRT: Planner range detected to be inf\n",
      "Info:    SpaceTimeRRT: Starting planning with 1 states already in datastructure\n",
      "Info:    SpaceTimeRRT: Starting planning with time bound factor 2.00\n"
     ]
    },
    {
     "name": "stderr",
     "output_type": "stream",
     "text": [
      "Warning: State validity checker not set! No collision checking is performed\n",
      "         at line 63 in /Users/tianpengzhang/Desktop/ompl/src/ompl/base/src/SpaceInformation.cpp\n",
      "Warning: State validity checker not set! No collision checking is performed\n",
      "         at line 63 in /Users/tianpengzhang/Desktop/ompl/src/ompl/base/src/SpaceInformation.cpp\n"
     ]
    },
    {
     "name": "stdout",
     "output_type": "stream",
     "text": [
      "Planning for agent 4/9Info:    SpaceTimeRRT: Created 33 states (15 start + 18 goal)\n",
      "\n",
      "Debug:   SpaceTimeRRT: Planner range detected to be inf\n",
      "Info:    SpaceTimeRRT: Starting planning with 1 states already in datastructure\n",
      "Info:    SpaceTimeRRT: Starting planning with time bound factor 2.00\n",
      "Planning for agent 5/9\n",
      "Info:    SpaceTimeRRT: Created 31 states (14 start + 17 goal)\n",
      "Debug:   SpaceTimeRRT: Planner range detected to be inf\n",
      "Info:    SpaceTimeRRT: Starting planning with 1 states already in datastructure\n",
      "Info:    SpaceTimeRRT: Starting planning with time bound factor 2.00\n",
      "Planning for agent 6/9\n",
      "Info:    SpaceTimeRRT: Created 56 states (19 start + 37 goal)\n",
      "Debug:   SpaceTimeRRT: Planner range detected to be inf\n",
      "Info:    SpaceTimeRRT: Starting planning with 1 states already in datastructure\n",
      "Info:    SpaceTimeRRT: Starting planning with time bound factor 2.00\n"
     ]
    },
    {
     "name": "stderr",
     "output_type": "stream",
     "text": [
      "Warning: State validity checker not set! No collision checking is performed\n",
      "         at line 63 in /Users/tianpengzhang/Desktop/ompl/src/ompl/base/src/SpaceInformation.cpp\n",
      "Warning: State validity checker not set! No collision checking is performed\n",
      "         at line 63 in /Users/tianpengzhang/Desktop/ompl/src/ompl/base/src/SpaceInformation.cpp\n",
      "Warning: State validity checker not set! No collision checking is performed\n",
      "         at line 63 in /Users/tianpengzhang/Desktop/ompl/src/ompl/base/src/SpaceInformation.cpp\n"
     ]
    },
    {
     "name": "stdout",
     "output_type": "stream",
     "text": [
      "Planning for agent 7/9Info:    SpaceTimeRRT: Created 44 states (15 start + 29 goal)\n",
      "\n",
      "Debug:   SpaceTimeRRT: Planner range detected to be inf\n",
      "Info:    SpaceTimeRRT: Starting planning with 1 states already in datastructure\n",
      "Info:    SpaceTimeRRT: Starting planning with time bound factor 2.00\n",
      "Planning for agent 8/9\n",
      "Info:    SpaceTimeRRT: Created 51 states (21 start + 30 goal)\n",
      "Debug:   SpaceTimeRRT: Planner range detected to be inf\n",
      "Info:    SpaceTimeRRT: Starting planning with 1 states already in datastructure\n",
      "Info:    SpaceTimeRRT: Starting planning with time bound factor 2.00\n"
     ]
    },
    {
     "name": "stderr",
     "output_type": "stream",
     "text": [
      "Warning: State validity checker not set! No collision checking is performed\n",
      "         at line 63 in /Users/tianpengzhang/Desktop/ompl/src/ompl/base/src/SpaceInformation.cpp\n",
      "Warning: State validity checker not set! No collision checking is performed\n",
      "         at line 63 in /Users/tianpengzhang/Desktop/ompl/src/ompl/base/src/SpaceInformation.cpp\n"
     ]
    },
    {
     "name": "stdout",
     "output_type": "stream",
     "text": [
      "On time for algorithm ST-RRT* N agent =  9\n",
      "Info:    SpaceTimeRRT: Created 44 states (16 start + 28 goal)\n",
      "Env: Warehouse Alg: Seq_Tube N agent: 12\n",
      "Planning for agent 0/12\n",
      "Planning for agent 1/12\n",
      "Planning for agent 2/12\n",
      "Planning for agent 3/12\n",
      "Planning for agent 4/12\n",
      "Planning for agent 5/12\n",
      "Planning for agent 6/12\n",
      "Planning for agent 7/12\n",
      "Planning for agent 8/12\n",
      "Planning for agent 9/12\n",
      "Planning for agent 10/12\n",
      "Planning for agent 11/12\n",
      "On time for algorithm Seq_Tube N agent =  12\n",
      "Env: Warehouse Alg: Seq_Tube_nonLazy N agent: 12\n",
      "Planning for agent 0/12\n",
      "Planning for agent 1/12\n",
      "Planning for agent 2/12\n",
      "Planning for agent 3/12\n",
      "Planning for agent 4/12\n",
      "Planning for agent 5/12\n",
      "Planning for agent 6/12\n",
      "Planning for agent 7/12\n",
      "Planning for agent 8/12\n",
      "Planning for agent 9/12\n",
      "Planning for agent 10/12\n",
      "Planning for agent 11/12\n",
      "On time for algorithm Seq_Tube_nonLazy N agent =  12\n",
      "Env: Warehouse Alg: ST-RRT* N agent: 12\n",
      "Planning for agent 0/12\n",
      "Debug:   SpaceTimeRRT: Planner range detected to be inf\n",
      "Info:    SpaceTimeRRT: Starting planning with 1 states already in datastructure\n",
      "Info:    SpaceTimeRRT: Starting planning with time bound factor 2.00\n",
      "Planning for agent 1/12\n",
      "Info:    SpaceTimeRRT: Created 54 states (22 start + 32 goal)\n",
      "Debug:   SpaceTimeRRT: Planner range detected to be inf\n",
      "Info:    SpaceTimeRRT: Starting planning with 1 states already in datastructure\n",
      "Info:    SpaceTimeRRT: Starting planning with time bound factor 2.00\n"
     ]
    },
    {
     "name": "stderr",
     "output_type": "stream",
     "text": [
      "Warning: State validity checker not set! No collision checking is performed\n",
      "         at line 63 in /Users/tianpengzhang/Desktop/ompl/src/ompl/base/src/SpaceInformation.cpp\n",
      "Warning: State validity checker not set! No collision checking is performed\n",
      "         at line 63 in /Users/tianpengzhang/Desktop/ompl/src/ompl/base/src/SpaceInformation.cpp\n"
     ]
    },
    {
     "name": "stdout",
     "output_type": "stream",
     "text": [
      "Planning for agent 2/12Info:    SpaceTimeRRT: Created 63 states (29 start + 34 goal)\n",
      "\n",
      "Debug:   SpaceTimeRRT: Planner range detected to be inf\n",
      "Info:    SpaceTimeRRT: Starting planning with 1 states already in datastructure\n",
      "Info:    SpaceTimeRRT: Starting planning with time bound factor 2.00\n",
      "Planning for agent 3/12\n",
      "Info:    SpaceTimeRRT: Created 52 states (29 start + 23 goal)\n",
      "Debug:   SpaceTimeRRT: Planner range detected to be inf\n",
      "Info:    SpaceTimeRRT: Starting planning with 1 states already in datastructure\n",
      "Info:    SpaceTimeRRT: Starting planning with time bound factor 2.00\n",
      "Planning for agent 4/12\n"
     ]
    },
    {
     "name": "stderr",
     "output_type": "stream",
     "text": [
      "Warning: State validity checker not set! No collision checking is performed\n",
      "         at line 63 in /Users/tianpengzhang/Desktop/ompl/src/ompl/base/src/SpaceInformation.cpp\n",
      "Warning: State validity checker not set! No collision checking is performed\n",
      "         at line 63 in /Users/tianpengzhang/Desktop/ompl/src/ompl/base/src/SpaceInformation.cpp\n",
      "Warning: State validity checker not set! No collision checking is performed\n",
      "         at line 63 in /Users/tianpengzhang/Desktop/ompl/src/ompl/base/src/SpaceInformation.cpp\n"
     ]
    },
    {
     "name": "stdout",
     "output_type": "stream",
     "text": [
      "Info:    SpaceTimeRRT: Created 49 states (22 start + 27 goal)\n",
      "Debug:   SpaceTimeRRT: Planner range detected to be inf\n",
      "Info:    SpaceTimeRRT: Starting planning with 1 states already in datastructure\n",
      "Info:    SpaceTimeRRT: Starting planning with time bound factor 2.00\n",
      "Planning for agent 5/12\n",
      "Info:    SpaceTimeRRT: Created 38 states (24 start + 14 goal)\n",
      "Debug:   SpaceTimeRRT: Planner range detected to be inf\n",
      "Info:    SpaceTimeRRT: Starting planning with 1 states already in datastructure\n",
      "Info:    SpaceTimeRRT: Starting planning with time bound factor 2.00\n"
     ]
    },
    {
     "name": "stderr",
     "output_type": "stream",
     "text": [
      "Warning: State validity checker not set! No collision checking is performed\n",
      "         at line 63 in /Users/tianpengzhang/Desktop/ompl/src/ompl/base/src/SpaceInformation.cpp\n",
      "Warning: State validity checker not set! No collision checking is performed\n",
      "         at line 63 in /Users/tianpengzhang/Desktop/ompl/src/ompl/base/src/SpaceInformation.cpp\n"
     ]
    },
    {
     "name": "stdout",
     "output_type": "stream",
     "text": [
      "Planning for agent 6/12Info:    SpaceTimeRRT: Created 51 states (17 start + 34 goal)\n",
      "\n",
      "Debug:   SpaceTimeRRT: Planner range detected to be inf\n",
      "Info:    SpaceTimeRRT: Starting planning with 1 states already in datastructure\n",
      "Info:    SpaceTimeRRT: Starting planning with time bound factor 2.00\n",
      "Planning for agent 7/12\n",
      "Info:    SpaceTimeRRT: Created 50 states (20 start + 30 goal)\n",
      "Debug:   SpaceTimeRRT: Planner range detected to be inf\n",
      "Info:    SpaceTimeRRT: Starting planning with 1 states already in datastructure\n",
      "Info:    SpaceTimeRRT: Starting planning with time bound factor 2.00\n"
     ]
    },
    {
     "name": "stderr",
     "output_type": "stream",
     "text": [
      "Warning: State validity checker not set! No collision checking is performed\n",
      "         at line 63 in /Users/tianpengzhang/Desktop/ompl/src/ompl/base/src/SpaceInformation.cpp\n"
     ]
    },
    {
     "name": "stdout",
     "output_type": "stream",
     "text": [
      "Planning for agent 8/12Info:    SpaceTimeRRT: Created 70 states (30 start + 40 goal)\n",
      "\n",
      "Debug:   SpaceTimeRRT: Planner range detected to be inf\n",
      "Info:    SpaceTimeRRT: Starting planning with 1 states already in datastructure\n",
      "Info:    SpaceTimeRRT: Starting planning with time bound factor 2.00\n",
      "Planning for agent 9/12\n",
      "Info:    SpaceTimeRRT: Created 40 states (15 start + 25 goal)\n",
      "Debug:   SpaceTimeRRT: Planner range detected to be inf\n",
      "Info:    SpaceTimeRRT: Starting planning with 1 states already in datastructure\n",
      "Info:    SpaceTimeRRT: Starting planning with time bound factor 2.00\n",
      "Planning for agent 10/12\n",
      "Info:    SpaceTimeRRT: Created 26 states (14 start + 12 goal)\n"
     ]
    },
    {
     "name": "stderr",
     "output_type": "stream",
     "text": [
      "Warning: State validity checker not set! No collision checking is performed\n",
      "         at line 63 in /Users/tianpengzhang/Desktop/ompl/src/ompl/base/src/SpaceInformation.cpp\n",
      "Warning: State validity checker not set! No collision checking is performed\n",
      "         at line 63 in /Users/tianpengzhang/Desktop/ompl/src/ompl/base/src/SpaceInformation.cpp\n",
      "Warning: State validity checker not set! No collision checking is performed\n",
      "         at line 63 in /Users/tianpengzhang/Desktop/ompl/src/ompl/base/src/SpaceInformation.cpp\n"
     ]
    },
    {
     "name": "stdout",
     "output_type": "stream",
     "text": [
      "Debug:   SpaceTimeRRT: Planner range detected to be inf\n",
      "Info:    SpaceTimeRRT: Starting planning with 1 states already in datastructure\n",
      "Info:    SpaceTimeRRT: Starting planning with time bound factor 2.00\n",
      "Planning for agent 11/12\n",
      "Info:    SpaceTimeRRT: Created 34 states (19 start + 15 goal)\n",
      "Debug:   SpaceTimeRRT: Planner range detected to be inf\n",
      "Info:    SpaceTimeRRT: Starting planning with 1 states already in datastructure\n",
      "Info:    SpaceTimeRRT: Starting planning with time bound factor 2.00\n"
     ]
    },
    {
     "name": "stderr",
     "output_type": "stream",
     "text": [
      "Warning: State validity checker not set! No collision checking is performed\n",
      "         at line 63 in /Users/tianpengzhang/Desktop/ompl/src/ompl/base/src/SpaceInformation.cpp\n"
     ]
    },
    {
     "name": "stdout",
     "output_type": "stream",
     "text": [
      "On time for algorithmInfo:    SpaceTimeRRT: Created 29 states (10 start + 19 goal)\n",
      " ST-RRT* N agent =  12\n",
      "Env: Warehouse Alg: Seq_Tube N agent: 15\n",
      "Planning for agent 0/15\n",
      "Planning for agent 1/15\n",
      "Planning for agent 2/15\n",
      "Planning for agent 3/15\n",
      "Planning for agent 4/15\n",
      "Planning for agent 5/15\n",
      "Planning for agent 6/15\n",
      "Planning for agent 7/15\n",
      "Planning for agent 8/15\n",
      "Planning for agent 9/15\n",
      "Planning for agent 10/15\n",
      "Planning for agent 11/15\n",
      "Planning for agent 12/15\n",
      "Planning for agent 13/15\n",
      "Planning for agent 14/15\n",
      "On time for algorithm Seq_Tube N agent =  15\n",
      "Env: Warehouse Alg: Seq_Tube_nonLazy N agent: 15\n",
      "Planning for agent 0/15\n",
      "Planning for agent 1/15\n",
      "Planning for agent 2/15\n",
      "Planning for agent 3/15\n",
      "Planning for agent 4/15\n",
      "Planning for agent 5/15\n",
      "Planning for agent 6/15\n",
      "Planning for agent 7/15\n",
      "Planning for agent 8/15\n",
      "Planning for agent 9/15\n",
      "Planning for agent 10/15\n",
      "Planning for agent 11/15\n",
      "Planning for agent 12/15\n",
      "Planning for agent 13/15\n",
      "Planning for agent 14/15\n",
      "On time for algorithm Seq_Tube_nonLazy N agent =  15\n",
      "Env: Warehouse Alg: ST-RRT* N agent: 15\n",
      "Planning for agent 0/15\n",
      "Debug:   SpaceTimeRRT: Planner range detected to be inf\n",
      "Info:    SpaceTimeRRT: Starting planning with 1 states already in datastructure\n",
      "Info:    SpaceTimeRRT: Starting planning with time bound factor 2.00\n",
      "Planning for agent 1/15\n",
      "Info:    SpaceTimeRRT: Created 63 states (28 start + 35 goal)\n",
      "Debug:   SpaceTimeRRT: Planner range detected to be inf\n",
      "Info:    SpaceTimeRRT: Starting planning with 1 states already in datastructure\n",
      "Info:    SpaceTimeRRT: Starting planning with time bound factor 2.00\n"
     ]
    },
    {
     "name": "stderr",
     "output_type": "stream",
     "text": [
      "Warning: State validity checker not set! No collision checking is performed\n",
      "         at line 63 in /Users/tianpengzhang/Desktop/ompl/src/ompl/base/src/SpaceInformation.cpp\n",
      "Warning: State validity checker not set! No collision checking is performed\n",
      "         at line 63 in /Users/tianpengzhang/Desktop/ompl/src/ompl/base/src/SpaceInformation.cpp\n"
     ]
    },
    {
     "name": "stdout",
     "output_type": "stream",
     "text": [
      "Planning for agent 2/15Info:    SpaceTimeRRT: Created 51 states (18 start + 33 goal)\n",
      "\n",
      "Debug:   SpaceTimeRRT: Planner range detected to be inf\n",
      "Info:    SpaceTimeRRT: Starting planning with 1 states already in datastructure\n",
      "Info:    SpaceTimeRRT: Starting planning with time bound factor 2.00\n",
      "Planning for agent 3/15\n",
      "Info:    SpaceTimeRRT: Created 42 states (20 start + 22 goal)\n",
      "Debug:   SpaceTimeRRT: Planner range detected to be inf\n",
      "Info:    SpaceTimeRRT: Starting planning with 1 states already in datastructure\n",
      "Info:    SpaceTimeRRT: Starting planning with time bound factor 2.00\n"
     ]
    },
    {
     "name": "stderr",
     "output_type": "stream",
     "text": [
      "Warning: State validity checker not set! No collision checking is performed\n",
      "         at line 63 in /Users/tianpengzhang/Desktop/ompl/src/ompl/base/src/SpaceInformation.cpp\n",
      "Warning: State validity checker not set! No collision checking is performed\n",
      "         at line 63 in /Users/tianpengzhang/Desktop/ompl/src/ompl/base/src/SpaceInformation.cpp\n"
     ]
    },
    {
     "name": "stdout",
     "output_type": "stream",
     "text": [
      "Planning for agent 4/15Info:    SpaceTimeRRT: Created 106 states (39 start + 67 goal)\n",
      "\n",
      "Debug:   SpaceTimeRRT: Planner range detected to be inf\n",
      "Info:    SpaceTimeRRT: Starting planning with 1 states already in datastructure\n",
      "Info:    SpaceTimeRRT: Starting planning with time bound factor 2.00\n",
      "Planning for agent 5/15\n",
      "Info:    SpaceTimeRRT: Created 68 states (29 start + 39 goal)\n",
      "Debug:   SpaceTimeRRT: Planner range detected to be inf\n",
      "Info:    SpaceTimeRRT: Starting planning with 1 states already in datastructure\n",
      "Info:    SpaceTimeRRT: Starting planning with time bound factor 2.00\n",
      "Planning for agent 6/15\n",
      "Info:    SpaceTimeRRT: Created 47 states (17 start + 30 goal)\n",
      "Debug:   SpaceTimeRRT: Planner range detected to be inf\n",
      "Info:    SpaceTimeRRT: Starting planning with 1 states already in datastructure\n",
      "Info:    SpaceTimeRRT: Starting planning with time bound factor 2.00\n"
     ]
    },
    {
     "name": "stderr",
     "output_type": "stream",
     "text": [
      "Warning: State validity checker not set! No collision checking is performed\n",
      "         at line 63 in /Users/tianpengzhang/Desktop/ompl/src/ompl/base/src/SpaceInformation.cpp\n",
      "Warning: State validity checker not set! No collision checking is performed\n",
      "         at line 63 in /Users/tianpengzhang/Desktop/ompl/src/ompl/base/src/SpaceInformation.cpp\n",
      "Warning: State validity checker not set! No collision checking is performed\n",
      "         at line 63 in /Users/tianpengzhang/Desktop/ompl/src/ompl/base/src/SpaceInformation.cpp\n"
     ]
    },
    {
     "name": "stdout",
     "output_type": "stream",
     "text": [
      "Planning for agent 7/15Info:    SpaceTimeRRT: Created 29 states (16 start + 13 goal)\n",
      "\n",
      "Debug:   SpaceTimeRRT: Planner range detected to be inf\n",
      "Info:    SpaceTimeRRT: Starting planning with 1 states already in datastructure\n",
      "Info:    SpaceTimeRRT: Starting planning with time bound factor 2.00\n",
      "Planning for agent 8/15\n",
      "Info:    SpaceTimeRRT: Created 53 states (33 start + 20 goal)\n",
      "Debug:   SpaceTimeRRT: Planner range detected to be inf\n",
      "Info:    SpaceTimeRRT: Starting planning with 1 states already in datastructure\n",
      "Info:    SpaceTimeRRT: Starting planning with time bound factor 2.00\n"
     ]
    },
    {
     "name": "stderr",
     "output_type": "stream",
     "text": [
      "Warning: State validity checker not set! No collision checking is performed\n",
      "         at line 63 in /Users/tianpengzhang/Desktop/ompl/src/ompl/base/src/SpaceInformation.cpp\n",
      "Warning: State validity checker not set! No collision checking is performed\n",
      "         at line 63 in /Users/tianpengzhang/Desktop/ompl/src/ompl/base/src/SpaceInformation.cpp\n"
     ]
    },
    {
     "name": "stdout",
     "output_type": "stream",
     "text": [
      "Planning for agent 9/15Info:    SpaceTimeRRT: Created 39 states (18 start + 21 goal)\n",
      "\n",
      "Debug:   SpaceTimeRRT: Planner range detected to be inf\n",
      "Info:    SpaceTimeRRT: Starting planning with 1 states already in datastructure\n",
      "Info:    SpaceTimeRRT: Starting planning with time bound factor 2.00\n"
     ]
    },
    {
     "name": "stderr",
     "output_type": "stream",
     "text": [
      "Warning: State validity checker not set! No collision checking is performed\n",
      "         at line 63 in /Users/tianpengzhang/Desktop/ompl/src/ompl/base/src/SpaceInformation.cpp\n"
     ]
    },
    {
     "name": "stdout",
     "output_type": "stream",
     "text": [
      "Planning for agent 10/15Info:    SpaceTimeRRT: Created 50 states (31 start + 19 goal)\n",
      "\n",
      "Debug:   SpaceTimeRRT: Planner range detected to be inf\n",
      "Info:    SpaceTimeRRT: Starting planning with 1 states already in datastructure\n",
      "Info:    SpaceTimeRRT: Starting planning with time bound factor 2.00\n"
     ]
    },
    {
     "name": "stderr",
     "output_type": "stream",
     "text": [
      "Warning: State validity checker not set! No collision checking is performed\n",
      "         at line 63 in /Users/tianpengzhang/Desktop/ompl/src/ompl/base/src/SpaceInformation.cpp\n"
     ]
    },
    {
     "name": "stdout",
     "output_type": "stream",
     "text": [
      "Planning for agent 11/15Info:    SpaceTimeRRT: Created 32 states (9 start + 23 goal)\n",
      "\n",
      "Debug:   SpaceTimeRRT: Planner range detected to be inf\n",
      "Info:    SpaceTimeRRT: Starting planning with 1 states already in datastructure\n",
      "Info:    SpaceTimeRRT: Starting planning with time bound factor 2.00\n",
      "Planning for agent 12/15\n",
      "Info:    SpaceTimeRRT: Created 22 states (8 start + 14 goal)\n",
      "Debug:   SpaceTimeRRT: Planner range detected to be inf\n",
      "Info:    SpaceTimeRRT: Starting planning with 1 states already in datastructure\n",
      "Info:    SpaceTimeRRT: Starting planning with time bound factor 2.00\n",
      "Planning for agent 13/15\n"
     ]
    },
    {
     "name": "stderr",
     "output_type": "stream",
     "text": [
      "Warning: State validity checker not set! No collision checking is performed\n",
      "         at line 63 in /Users/tianpengzhang/Desktop/ompl/src/ompl/base/src/SpaceInformation.cpp\n",
      "Warning: State validity checker not set! No collision checking is performed\n",
      "         at line 63 in /Users/tianpengzhang/Desktop/ompl/src/ompl/base/src/SpaceInformation.cpp\n",
      "Warning: State validity checker not set! No collision checking is performed\n",
      "         at line 63 in /Users/tianpengzhang/Desktop/ompl/src/ompl/base/src/SpaceInformation.cpp\n"
     ]
    },
    {
     "name": "stdout",
     "output_type": "stream",
     "text": [
      "Info:    SpaceTimeRRT: Created 47 states (26 start + 21 goal)\n",
      "Debug:   SpaceTimeRRT: Planner range detected to be inf\n",
      "Info:    SpaceTimeRRT: Starting planning with 1 states already in datastructure\n",
      "Info:    SpaceTimeRRT: Starting planning with time bound factor 2.00\n",
      "Planning for agent 14/15Info:    SpaceTimeRRT: Created 111 states (51 start + 60 goal)\n",
      "\n",
      "Debug:   SpaceTimeRRT: Planner range detected to be inf\n",
      "Info:    SpaceTimeRRT: Starting planning with 1 states already in datastructure\n",
      "Info:    SpaceTimeRRT: Starting planning with time bound factor 2.00\n",
      "On time for algorithm ST-RRT* N agent =  15\n",
      "Info:    SpaceTimeRRT: Created 33 states (14 start + 19 goal)\n"
     ]
    },
    {
     "name": "stderr",
     "output_type": "stream",
     "text": [
      "Warning: State validity checker not set! No collision checking is performed\n",
      "         at line 63 in /Users/tianpengzhang/Desktop/ompl/src/ompl/base/src/SpaceInformation.cpp\n"
     ]
    }
   ],
   "source": [
    "results,executed = get_checkpoint_state(env_name,algs,N_range,first_run = True)\n",
    "\n",
    "# results,executed = get_checkpoint_state(env_name,algs,N_range)\n",
    "run_experiments(env_name,\n",
    "                env_info[env_name],\n",
    "                N_range,\n",
    "                algs,\n",
    "                TIMEOUT,\n",
    "                results,\n",
    "                executed)"
   ]
  }
 ],
 "metadata": {
  "kernelspec": {
   "display_name": "Python 3 (ipykernel)",
   "language": "python",
   "name": "python3"
  },
  "language_info": {
   "codemirror_mode": {
    "name": "ipython",
    "version": 3
   },
   "file_extension": ".py",
   "mimetype": "text/x-python",
   "name": "python",
   "nbconvert_exporter": "python",
   "pygments_lexer": "ipython3",
   "version": "3.11.0"
  }
 },
 "nbformat": 4,
 "nbformat_minor": 5
}
