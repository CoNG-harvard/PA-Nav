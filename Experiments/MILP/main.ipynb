{
 "cells": [
  {
   "cell_type": "markdown",
   "id": "93964b26-d9f5-45ac-9818-50cc2951a2d5",
   "metadata": {},
   "source": [
    "# Benchmarking Our Algorithm against others"
   ]
  },
  {
   "cell_type": "code",
   "execution_count": 1,
   "id": "4f6a1483-2bff-48b4-a976-d9891665966d",
   "metadata": {},
   "outputs": [
    {
     "name": "stderr",
     "output_type": "stream",
     "text": [
      "<frozen importlib._bootstrap>:241: RuntimeWarning: to-Python converter for ompl::msg::LogLevel already registered; second conversion method ignored.\n"
     ]
    }
   ],
   "source": [
    "import sys\n",
    "sys.path.append('../../')\n",
    "from panav.environment.env import Room\n",
    "\n",
    "from panav.PBS.PBS import PBS\n",
    "from panav.sequential import sequential_planning\n",
    "from panav.PIBT import PIBT_plan\n",
    "from panav.SAMP.solvers import Tube_Planning, Simple_MILP_Planning\n",
    "\n",
    "from benchmarks.ST_RRTStar_wrapper import sequential_ST_RRTStar \n",
    "\n",
    "\n",
    "from time import time\n",
    "import pickle as pkl\n",
    "\n",
    "%load_ext autoreload\n",
    "%autoreload 2"
   ]
  },
  {
   "cell_type": "code",
   "execution_count": 2,
   "id": "58d186dc",
   "metadata": {},
   "outputs": [],
   "source": [
    "#### 100 agent configuration ####\n",
    "bloating_r = 0.5\n",
    "vmax = 1.0\n",
    "\n",
    "\n",
    "# Algorithms\n",
    "algs = {  \n",
    "        \"Seq_Tube\": lambda env: sequential_planning(Tube_Planning,env,vmax,bloating_r,TIMEOUT=TIMEOUT),      \n",
    "        \"Seq_Tube_nonLazy\": lambda env: sequential_planning(Tube_Planning,env,vmax,bloating_r,TIMEOUT=TIMEOUT,lazy = False),      \n",
    "        \"Seq_S2M2\": lambda env: sequential_planning(Simple_MILP_Planning,env,vmax,bloating_r,TIMEOUT=TIMEOUT,lazy = False),\n",
    "        \"ST-RRT*\": lambda env: sequential_ST_RRTStar(env,vmax,bloating_r)\n",
    "        }"
   ]
  },
  {
   "cell_type": "code",
   "execution_count": 3,
   "id": "d438688e",
   "metadata": {},
   "outputs": [
    {
     "name": "stdout",
     "output_type": "stream",
     "text": [
      "['MultiTunnel', 'Room', 'SingleTunnel', 'Warehouse']\n"
     ]
    }
   ],
   "source": [
    "from os import listdir\n",
    "def get_env_name(filename):\n",
    "    fs = filename.split('.')\n",
    "    return fs[0]\n",
    "\n",
    "env_names = [get_env_name(fn) for fn in listdir('./envs')]\n",
    "\n",
    "print(env_names)"
   ]
  },
  {
   "cell_type": "code",
   "execution_count": 5,
   "id": "c94daae7",
   "metadata": {},
   "outputs": [],
   "source": [
    "from panav.environment.utils import reduced_agents_env\n",
    "import signal\n",
    "\n",
    "def timeout_handler(signum,frame):\n",
    "    print(\"Algorithm timeout\")\n",
    "    raise TimeoutError(\"Timeout\")\n",
    "\n",
    "\n",
    "def run_experiments(env_name,TIMEOUT = 100):\n",
    "    with open(f'./envs/{env_name}.pkl','rb') as fp:\n",
    "        env_base = pkl.load(fp)\n",
    "        \n",
    "    max_n = len(env_base.starts)\n",
    "\n",
    "    results = []\n",
    "    timeouted = {alg:False for alg in algs}\n",
    "    for N in range(10,max_n+1,10):\n",
    "        env = reduced_agents_env(env_base,N)\n",
    "        for name,alg in algs.items():\n",
    "\n",
    "            if timeouted[name]:\n",
    "                continue\n",
    "            \n",
    "            print(\"Env:\", env_name, \"Alg:\", name, \"N agent:\",N)\n",
    "\n",
    "            result = {}\n",
    "            \n",
    "            signal.signal(signal.SIGALRM, timeout_handler)\n",
    "            signal.alarm(TIMEOUT)\n",
    "            try:\n",
    "                t0 = time()\n",
    "                plan = alg(env)\n",
    "            except TimeoutError:\n",
    "                print(\"Timeout\")\n",
    "            signal.alarm(0)\n",
    "\n",
    "            t = time()-t0\n",
    "            \n",
    "            result['plan'] = plan\n",
    "            result['time'] = t\n",
    "\n",
    "            result['N_agent'] = N\n",
    "            result['alg_name'] = name\n",
    "\n",
    "            result[\"TIMEOUT\"]=TIMEOUT\n",
    "            result[\"env\"]=env\n",
    "\n",
    "            results.append(result)\n",
    "\n",
    "            \n",
    "            if t>TIMEOUT:\n",
    "                timeouted[name] = True\n",
    "                print(\"Time out for algorithm\", name, \"N agent = \", N)\n",
    "            else:\n",
    "                print(\"On time for algorithm\", name, \"N agent = \", N)\n",
    "\n",
    "\n",
    "        # Save checkpoint data\n",
    "        with open(\"./data/{}.pkl\".format(env_name),'wb') as fp:\n",
    "            pkl.dump(results,fp)\n",
    "\n"
   ]
  },
  {
   "cell_type": "code",
   "execution_count": 6,
   "id": "965c67ba",
   "metadata": {},
   "outputs": [
    {
     "name": "stdout",
     "output_type": "stream",
     "text": [
      "Env: MultiTunnel Alg: Seq_Tube N agent: 10\n",
      "Planning for agent 0/10\n",
      "Planning for agent 1/10\n",
      "Planning for agent 2/10\n",
      "Planning for agent 3/10\n"
     ]
    },
    {
     "name": "stderr",
     "output_type": "stream",
     "text": [
      "/Users/tianpengzhang/opt/miniconda3/envs/PA-NAV/lib/python3.11/site-packages/cvxpy/problems/problem.py:1391: UserWarning: \n",
      "    The problem is either infeasible or unbounded, but the solver\n",
      "    cannot tell which. Disable any solver-specific presolve methods\n",
      "    and re-solve to determine the precise problem status.\n",
      "\n",
      "    For GUROBI and CPLEX you can automatically perform this re-solve\n",
      "    with the keyword argument prob.solve(reoptimize=True, ...).\n",
      "    \n",
      "  warnings.warn(INF_OR_UNB_MESSAGE)\n"
     ]
    },
    {
     "name": "stdout",
     "output_type": "stream",
     "text": [
      "Planning for agent 4/10\n",
      "Planning for agent 5/10\n",
      "Planning for agent 6/10\n",
      "Planning for agent 7/10\n",
      "Planning for agent 8/10\n",
      "Planning for agent 9/10\n",
      "On time for algorithm Seq_Tube N agent =  10\n",
      "Env: MultiTunnel Alg: Seq_Tube_nonLazy N agent: 10\n",
      "Planning for agent 0/10\n",
      "Planning for agent 1/10\n",
      "Planning for agent 2/10\n",
      "Planning for agent 3/10\n",
      "Planning for agent 4/10\n",
      "Planning for agent 5/10\n",
      "Planning for agent 6/10\n",
      "Planning for agent 7/10\n",
      "Planning for agent 8/10\n",
      "Planning for agent 9/10\n",
      "On time for algorithm Seq_Tube_nonLazy N agent =  10\n",
      "Env: MultiTunnel Alg: Seq_S2M2 N agent: 10\n",
      "Planning for agent 0/10\n",
      "Planning for agent 1/10\n",
      "Planning for agent 2/10\n",
      "On time for algorithm Seq_S2M2 N agent =  10\n",
      "Env: MultiTunnel Alg: ST-RRT* N agent: 10\n",
      "Planning for agent 0/10\n",
      "Debug:   SpaceTimeRRT: Planner range detected to be inf\n",
      "Info:    SpaceTimeRRT: Starting planning with 1 states already in datastructure\n",
      "Info:    SpaceTimeRRT: Starting planning with time bound factor 2.00\n",
      "Info:    SpaceTimeRRT: Created 76 states (33 start + 43 goal)\n",
      "Planning for agent 1/10\n",
      "Debug:   SpaceTimeRRT: Planner range detected to be inf\n",
      "Info:    SpaceTimeRRT: Starting planning with 1 states already in datastructure\n",
      "Info:    SpaceTimeRRT: Starting planning with time bound factor 2.00\n"
     ]
    },
    {
     "name": "stderr",
     "output_type": "stream",
     "text": [
      "Warning: State validity checker not set! No collision checking is performed\n",
      "         at line 63 in /Users/tianpengzhang/Desktop/ompl/src/ompl/base/src/SpaceInformation.cpp\n",
      "/Users/tianpengzhang/opt/miniconda3/envs/PA-NAV/lib/python3.11/site-packages/shapely/measurement.py:74: RuntimeWarning: invalid value encountered in distance\n",
      "  return lib.distance(a, b, **kwargs)\n",
      "Warning: State validity checker not set! No collision checking is performed\n",
      "         at line 63 in /Users/tianpengzhang/Desktop/ompl/src/ompl/base/src/SpaceInformation.cpp\n"
     ]
    },
    {
     "name": "stdout",
     "output_type": "stream",
     "text": [
      "Planning for agent 2/10Info:    SpaceTimeRRT: Created 85 states (34 start + 51 goal)\n",
      "\n",
      "Debug:   SpaceTimeRRT: Planner range detected to be inf\n",
      "Info:    SpaceTimeRRT: Starting planning with 1 states already in datastructure\n",
      "Info:    SpaceTimeRRT: Starting planning with time bound factor 2.00\n",
      "Planning for agent 3/10\n",
      "Info:    SpaceTimeRRT: Created 90 states (29 start + 61 goal)\n",
      "Debug:   SpaceTimeRRT: Planner range detected to be inf\n",
      "Info:    SpaceTimeRRT: Starting planning with 1 states already in datastructure\n",
      "Info:    SpaceTimeRRT: Starting planning with time bound factor 2.00\n"
     ]
    },
    {
     "name": "stderr",
     "output_type": "stream",
     "text": [
      "Warning: State validity checker not set! No collision checking is performed\n",
      "         at line 63 in /Users/tianpengzhang/Desktop/ompl/src/ompl/base/src/SpaceInformation.cpp\n",
      "Warning: State validity checker not set! No collision checking is performed\n",
      "         at line 63 in /Users/tianpengzhang/Desktop/ompl/src/ompl/base/src/SpaceInformation.cpp\n"
     ]
    },
    {
     "name": "stdout",
     "output_type": "stream",
     "text": [
      "Planning for agent 4/10Info:    SpaceTimeRRT: Created 35 states (9 start + 26 goal)\n",
      "\n",
      "Debug:   SpaceTimeRRT: Planner range detected to be inf\n",
      "Info:    SpaceTimeRRT: Starting planning with 1 states already in datastructure\n",
      "Info:    SpaceTimeRRT: Starting planning with time bound factor 2.00\n"
     ]
    },
    {
     "name": "stderr",
     "output_type": "stream",
     "text": [
      "Warning: State validity checker not set! No collision checking is performed\n",
      "         at line 63 in /Users/tianpengzhang/Desktop/ompl/src/ompl/base/src/SpaceInformation.cpp\n"
     ]
    },
    {
     "name": "stdout",
     "output_type": "stream",
     "text": [
      "Info:    SpaceTimeRRT: Increased time bound factor to 4.00\n",
      "Planning for agent 5/10\n",
      "Info:    SpaceTimeRRT: Created 519 states (513 start + 6 goal)\n",
      "Debug:   SpaceTimeRRT: Planner range detected to be inf\n",
      "Info:    SpaceTimeRRT: Starting planning with 1 states already in datastructure\n",
      "Info:    SpaceTimeRRT: Starting planning with time bound factor 2.00\n",
      "Planning for agent 6/10\n",
      "Info:    SpaceTimeRRT: Created 83 states (33 start + 50 goal)\n",
      "Debug:   SpaceTimeRRT: Planner range detected to be inf\n",
      "Info:    SpaceTimeRRT: Starting planning with 1 states already in datastructure\n",
      "Info:    SpaceTimeRRT: Starting planning with time bound factor 2.00\n"
     ]
    },
    {
     "name": "stderr",
     "output_type": "stream",
     "text": [
      "Warning: State validity checker not set! No collision checking is performed\n",
      "         at line 63 in /Users/tianpengzhang/Desktop/ompl/src/ompl/base/src/SpaceInformation.cpp\n",
      "Warning: State validity checker not set! No collision checking is performed\n",
      "         at line 63 in /Users/tianpengzhang/Desktop/ompl/src/ompl/base/src/SpaceInformation.cpp\n"
     ]
    },
    {
     "name": "stdout",
     "output_type": "stream",
     "text": [
      "Planning for agent 7/10Info:    SpaceTimeRRT: Created 31 states (12 start + 19 goal)\n",
      "\n",
      "Debug:   SpaceTimeRRT: Planner range detected to be inf\n",
      "Info:    SpaceTimeRRT: Starting planning with 1 states already in datastructure\n",
      "Info:    SpaceTimeRRT: Starting planning with time bound factor 2.00\n"
     ]
    },
    {
     "name": "stderr",
     "output_type": "stream",
     "text": [
      "Warning: State validity checker not set! No collision checking is performed\n",
      "         at line 63 in /Users/tianpengzhang/Desktop/ompl/src/ompl/base/src/SpaceInformation.cpp\n"
     ]
    },
    {
     "name": "stdout",
     "output_type": "stream",
     "text": [
      "Planning for agent 8/10Info:    SpaceTimeRRT: Created 126 states (56 start + 70 goal)\n",
      "\n",
      "Debug:   SpaceTimeRRT: Planner range detected to be inf\n",
      "Info:    SpaceTimeRRT: Starting planning with 1 states already in datastructure\n",
      "Info:    SpaceTimeRRT: Starting planning with time bound factor 2.00\n"
     ]
    },
    {
     "name": "stderr",
     "output_type": "stream",
     "text": [
      "Warning: State validity checker not set! No collision checking is performed\n",
      "         at line 63 in /Users/tianpengzhang/Desktop/ompl/src/ompl/base/src/SpaceInformation.cpp\n"
     ]
    },
    {
     "name": "stdout",
     "output_type": "stream",
     "text": [
      "Planning for agent 9/10Info:    SpaceTimeRRT: Created 84 states (64 start + 20 goal)\n",
      "\n",
      "Debug:   SpaceTimeRRT: Planner range detected to be inf\n",
      "Info:    SpaceTimeRRT: Starting planning with 1 states already in datastructure\n",
      "Info:    SpaceTimeRRT: Starting planning with time bound factor 2.00\n",
      "On time for algorithm ST-RRT* N agent =  10\n",
      "Info:    SpaceTimeRRT: Created 36 states (17 start + 19 goal)\n",
      "Env: MultiTunnel Alg: Seq_Tube N agent: 20\n",
      "Planning for agent 0/20\n",
      "Planning for agent 1/20\n"
     ]
    },
    {
     "name": "stderr",
     "output_type": "stream",
     "text": [
      "Warning: State validity checker not set! No collision checking is performed\n",
      "         at line 63 in /Users/tianpengzhang/Desktop/ompl/src/ompl/base/src/SpaceInformation.cpp\n"
     ]
    },
    {
     "name": "stdout",
     "output_type": "stream",
     "text": [
      "Planning for agent 2/20\n",
      "Planning for agent 3/20\n",
      "Planning for agent 4/20\n",
      "Planning for agent 5/20\n",
      "Planning for agent 6/20\n",
      "Planning for agent 7/20\n",
      "Planning for agent 8/20\n",
      "Planning for agent 9/20\n",
      "Planning for agent 10/20\n",
      "Planning for agent 11/20\n",
      "Planning for agent 12/20\n",
      "Planning for agent 13/20\n",
      "Planning for agent 14/20\n",
      "Planning for agent 15/20\n",
      "Planning for agent 16/20\n",
      "Planning for agent 17/20\n",
      "Planning for agent 18/20\n",
      "Planning for agent 19/20\n",
      "On time for algorithm Seq_Tube N agent =  20\n",
      "Env: MultiTunnel Alg: Seq_Tube_nonLazy N agent: 20\n",
      "Planning for agent 0/20\n",
      "Planning for agent 1/20\n",
      "Planning for agent 2/20\n",
      "Planning for agent 3/20\n",
      "Planning for agent 4/20\n",
      "Planning for agent 5/20\n",
      "Planning for agent 6/20\n",
      "Planning for agent 7/20\n",
      "Planning for agent 8/20\n",
      "Planning for agent 9/20\n",
      "Planning for agent 10/20\n",
      "Planning for agent 11/20\n",
      "Planning for agent 12/20\n",
      "Planning for agent 13/20\n",
      "Planning for agent 14/20\n",
      "Algorithm timeout\n",
      "Timeout\n",
      "Time out for algorithm Seq_Tube_nonLazy N agent =  20\n",
      "Env: MultiTunnel Alg: Seq_S2M2 N agent: 20\n",
      "Planning for agent 0/20\n",
      "Planning for agent 1/20\n",
      "Planning for agent 2/20\n",
      "On time for algorithm Seq_S2M2 N agent =  20\n",
      "Env: MultiTunnel Alg: ST-RRT* N agent: 20\n",
      "Planning for agent 0/20\n",
      "Debug:   SpaceTimeRRT: Planner range detected to be inf\n",
      "Info:    SpaceTimeRRT: Starting planning with 1 states already in datastructure\n",
      "Info:    SpaceTimeRRT: Starting planning with time bound factor 2.00\n",
      "Planning for agent 1/20\n",
      "Info:    SpaceTimeRRT: Created 78 states (37 start + 41 goal)\n",
      "Debug:   SpaceTimeRRT: Planner range detected to be inf\n",
      "Info:    SpaceTimeRRT: Starting planning with 1 states already in datastructure\n",
      "Info:    SpaceTimeRRT: Starting planning with time bound factor 2.00\n"
     ]
    },
    {
     "name": "stderr",
     "output_type": "stream",
     "text": [
      "Warning: State validity checker not set! No collision checking is performed\n",
      "         at line 63 in /Users/tianpengzhang/Desktop/ompl/src/ompl/base/src/SpaceInformation.cpp\n",
      "Warning: State validity checker not set! No collision checking is performed\n",
      "         at line 63 in /Users/tianpengzhang/Desktop/ompl/src/ompl/base/src/SpaceInformation.cpp\n"
     ]
    },
    {
     "name": "stdout",
     "output_type": "stream",
     "text": [
      "Planning for agent 2/20Info:    SpaceTimeRRT: Created 124 states (33 start + 91 goal)\n",
      "\n",
      "Debug:   SpaceTimeRRT: Planner range detected to be inf\n",
      "Info:    SpaceTimeRRT: Starting planning with 1 states already in datastructure\n",
      "Info:    SpaceTimeRRT: Starting planning with time bound factor 2.00\n",
      "Planning for agent 3/20\n",
      "Info:    SpaceTimeRRT: Created 29 states (14 start + 15 goal)\n",
      "Debug:   SpaceTimeRRT: Planner range detected to be inf\n",
      "Info:    SpaceTimeRRT: Starting planning with 1 states already in datastructure\n",
      "Info:    SpaceTimeRRT: Starting planning with time bound factor 2.00\n",
      "Planning for agent 4/20\n"
     ]
    },
    {
     "name": "stderr",
     "output_type": "stream",
     "text": [
      "Warning: State validity checker not set! No collision checking is performed\n",
      "         at line 63 in /Users/tianpengzhang/Desktop/ompl/src/ompl/base/src/SpaceInformation.cpp\n",
      "Warning: State validity checker not set! No collision checking is performed\n",
      "         at line 63 in /Users/tianpengzhang/Desktop/ompl/src/ompl/base/src/SpaceInformation.cpp\n"
     ]
    },
    {
     "name": "stdout",
     "output_type": "stream",
     "text": [
      "Info:    SpaceTimeRRT: Created 53 states (30 start + 23 goal)\n",
      "Debug:   SpaceTimeRRT: Planner range detected to be inf\n",
      "Info:    SpaceTimeRRT: Starting planning with 1 states already in datastructure\n",
      "Info:    SpaceTimeRRT: Starting planning with time bound factor 2.00\n",
      "Planning for agent 5/20\n",
      "Info:    SpaceTimeRRT: Created 57 states (27 start + 30 goal)\n",
      "Debug:   SpaceTimeRRT: Planner range detected to be inf\n",
      "Info:    SpaceTimeRRT: Starting planning with 1 states already in datastructure\n",
      "Info:    SpaceTimeRRT: Starting planning with time bound factor 2.00\n"
     ]
    },
    {
     "name": "stderr",
     "output_type": "stream",
     "text": [
      "Warning: State validity checker not set! No collision checking is performed\n",
      "         at line 63 in /Users/tianpengzhang/Desktop/ompl/src/ompl/base/src/SpaceInformation.cpp\n",
      "Warning: State validity checker not set! No collision checking is performed\n",
      "         at line 63 in /Users/tianpengzhang/Desktop/ompl/src/ompl/base/src/SpaceInformation.cpp\n"
     ]
    },
    {
     "name": "stdout",
     "output_type": "stream",
     "text": [
      "Planning for agent 6/20\n",
      "Info:    SpaceTimeRRT: Created 24 states (9 start + 15 goal)\n",
      "Debug:   SpaceTimeRRT: Planner range detected to be inf\n",
      "Info:    SpaceTimeRRT: Starting planning with 1 states already in datastructure\n",
      "Info:    SpaceTimeRRT: Starting planning with time bound factor 2.00\n",
      "Planning for agent 7/20\n",
      "Info:    SpaceTimeRRT: Created 52 states (14 start + 38 goal)\n",
      "Debug:   SpaceTimeRRT: Planner range detected to be inf\n",
      "Info:    SpaceTimeRRT: Starting planning with 1 states already in datastructure\n",
      "Info:    SpaceTimeRRT: Starting planning with time bound factor 2.00\n"
     ]
    },
    {
     "name": "stderr",
     "output_type": "stream",
     "text": [
      "Warning: State validity checker not set! No collision checking is performed\n",
      "         at line 63 in /Users/tianpengzhang/Desktop/ompl/src/ompl/base/src/SpaceInformation.cpp\n",
      "Warning: State validity checker not set! No collision checking is performed\n",
      "         at line 63 in /Users/tianpengzhang/Desktop/ompl/src/ompl/base/src/SpaceInformation.cpp\n"
     ]
    },
    {
     "name": "stdout",
     "output_type": "stream",
     "text": [
      "Planning for agent 8/20\n",
      "Info:    SpaceTimeRRT: Created 35 states (16 start + 19 goal)\n",
      "Debug:   SpaceTimeRRT: Planner range detected to be inf\n",
      "Info:    SpaceTimeRRT: Starting planning with 1 states already in datastructure\n",
      "Info:    SpaceTimeRRT: Starting planning with time bound factor 2.00\n",
      "Planning for agent 9/20\n",
      "Info:    SpaceTimeRRT: Created 58 states (19 start + 39 goal)\n",
      "Debug:   SpaceTimeRRT: Planner range detected to be inf\n",
      "Info:    SpaceTimeRRT: Starting planning with 1 states already in datastructure\n",
      "Info:    SpaceTimeRRT: Starting planning with time bound factor 2.00\n"
     ]
    },
    {
     "name": "stderr",
     "output_type": "stream",
     "text": [
      "Warning: State validity checker not set! No collision checking is performed\n",
      "         at line 63 in /Users/tianpengzhang/Desktop/ompl/src/ompl/base/src/SpaceInformation.cpp\n",
      "Warning: State validity checker not set! No collision checking is performed\n",
      "         at line 63 in /Users/tianpengzhang/Desktop/ompl/src/ompl/base/src/SpaceInformation.cpp\n"
     ]
    },
    {
     "name": "stdout",
     "output_type": "stream",
     "text": [
      "Planning for agent 10/20Info:    SpaceTimeRRT: Created 29 states (10 start + 19 goal)\n",
      "\n",
      "Debug:   SpaceTimeRRT: Planner range detected to be inf\n",
      "Info:    SpaceTimeRRT: Starting planning with 1 states already in datastructure\n",
      "Info:    SpaceTimeRRT: Starting planning with time bound factor 2.00\n"
     ]
    },
    {
     "name": "stderr",
     "output_type": "stream",
     "text": [
      "Warning: State validity checker not set! No collision checking is performed\n",
      "         at line 63 in /Users/tianpengzhang/Desktop/ompl/src/ompl/base/src/SpaceInformation.cpp\n"
     ]
    },
    {
     "name": "stdout",
     "output_type": "stream",
     "text": [
      "Planning for agent 11/20Info:    SpaceTimeRRT: Created 60 states (14 start + 46 goal)\n",
      "\n",
      "Debug:   SpaceTimeRRT: Planner range detected to be inf\n",
      "Info:    SpaceTimeRRT: Starting planning with 1 states already in datastructure\n",
      "Info:    SpaceTimeRRT: Starting planning with time bound factor 2.00\n",
      "Planning for agent 12/20\n",
      "Info:    SpaceTimeRRT: Created 28 states (7 start + 21 goal)\n",
      "Debug:   SpaceTimeRRT: Planner range detected to be inf\n",
      "Info:    SpaceTimeRRT: Starting planning with 1 states already in datastructure\n",
      "Info:    SpaceTimeRRT: Starting planning with time bound factor 2.00\n"
     ]
    },
    {
     "name": "stderr",
     "output_type": "stream",
     "text": [
      "Warning: State validity checker not set! No collision checking is performed\n",
      "         at line 63 in /Users/tianpengzhang/Desktop/ompl/src/ompl/base/src/SpaceInformation.cpp\n",
      "Warning: State validity checker not set! No collision checking is performed\n",
      "         at line 63 in /Users/tianpengzhang/Desktop/ompl/src/ompl/base/src/SpaceInformation.cpp\n"
     ]
    },
    {
     "name": "stdout",
     "output_type": "stream",
     "text": [
      "Planning for agent 13/20Info:    SpaceTimeRRT: Created 87 states (35 start + 52 goal)\n",
      "\n",
      "Debug:   SpaceTimeRRT: Planner range detected to be inf\n",
      "Info:    SpaceTimeRRT: Starting planning with 1 states already in datastructure\n",
      "Info:    SpaceTimeRRT: Starting planning with time bound factor 2.00\n"
     ]
    },
    {
     "name": "stderr",
     "output_type": "stream",
     "text": [
      "Warning: State validity checker not set! No collision checking is performed\n",
      "         at line 63 in /Users/tianpengzhang/Desktop/ompl/src/ompl/base/src/SpaceInformation.cpp\n"
     ]
    },
    {
     "name": "stdout",
     "output_type": "stream",
     "text": [
      "Planning for agent 14/20Info:    SpaceTimeRRT: Created 82 states (30 start + 52 goal)\n",
      "\n",
      "Debug:   SpaceTimeRRT: Planner range detected to be inf\n",
      "Info:    SpaceTimeRRT: Starting planning with 1 states already in datastructure\n",
      "Info:    SpaceTimeRRT: Starting planning with time bound factor 2.00\n"
     ]
    },
    {
     "name": "stderr",
     "output_type": "stream",
     "text": [
      "Warning: State validity checker not set! No collision checking is performed\n",
      "         at line 63 in /Users/tianpengzhang/Desktop/ompl/src/ompl/base/src/SpaceInformation.cpp\n"
     ]
    },
    {
     "name": "stdout",
     "output_type": "stream",
     "text": [
      "Planning for agent 15/20Info:    SpaceTimeRRT: Created 129 states (58 start + 71 goal)\n",
      "\n",
      "Debug:   SpaceTimeRRT: Planner range detected to be inf\n",
      "Info:    SpaceTimeRRT: Starting planning with 1 states already in datastructure\n",
      "Info:    SpaceTimeRRT: Starting planning with time bound factor 2.00\n"
     ]
    },
    {
     "name": "stderr",
     "output_type": "stream",
     "text": [
      "Warning: State validity checker not set! No collision checking is performed\n",
      "         at line 63 in /Users/tianpengzhang/Desktop/ompl/src/ompl/base/src/SpaceInformation.cpp\n"
     ]
    },
    {
     "name": "stdout",
     "output_type": "stream",
     "text": [
      "Planning for agent 16/20Info:    SpaceTimeRRT: Created 73 states (37 start + 36 goal)\n",
      "\n",
      "Debug:   SpaceTimeRRT: Planner range detected to be inf\n",
      "Info:    SpaceTimeRRT: Starting planning with 1 states already in datastructure\n",
      "Info:    SpaceTimeRRT: Starting planning with time bound factor 2.00\n",
      "Planning for agent 17/20\n",
      "Info:    SpaceTimeRRT: Created 34 states (14 start + 20 goal)\n",
      "Debug:   SpaceTimeRRT: Planner range detected to be inf\n",
      "Info:    SpaceTimeRRT: Starting planning with 1 states already in datastructure\n",
      "Info:    SpaceTimeRRT: Starting planning with time bound factor 2.00\n"
     ]
    },
    {
     "name": "stderr",
     "output_type": "stream",
     "text": [
      "Warning: State validity checker not set! No collision checking is performed\n",
      "         at line 63 in /Users/tianpengzhang/Desktop/ompl/src/ompl/base/src/SpaceInformation.cpp\n",
      "Warning: State validity checker not set! No collision checking is performed\n",
      "         at line 63 in /Users/tianpengzhang/Desktop/ompl/src/ompl/base/src/SpaceInformation.cpp\n"
     ]
    },
    {
     "name": "stdout",
     "output_type": "stream",
     "text": [
      "Planning for agent 18/20Info:    SpaceTimeRRT: Created 40 states (18 start + 22 goal)\n",
      "\n",
      "Debug:   SpaceTimeRRT: Planner range detected to be inf\n",
      "Info:    SpaceTimeRRT: Starting planning with 1 states already in datastructure\n",
      "Info:    SpaceTimeRRT: Starting planning with time bound factor 2.00\n"
     ]
    },
    {
     "name": "stderr",
     "output_type": "stream",
     "text": [
      "Warning: State validity checker not set! No collision checking is performed\n",
      "         at line 63 in /Users/tianpengzhang/Desktop/ompl/src/ompl/base/src/SpaceInformation.cpp\n"
     ]
    },
    {
     "name": "stdout",
     "output_type": "stream",
     "text": [
      "Planning for agent 19/20Info:    SpaceTimeRRT: Created 91 states (40 start + 51 goal)\n",
      "\n",
      "Debug:   SpaceTimeRRT: Planner range detected to be inf\n",
      "Info:    SpaceTimeRRT: Starting planning with 1 states already in datastructure\n",
      "Info:    SpaceTimeRRT: Starting planning with time bound factor 2.00\n"
     ]
    },
    {
     "name": "stderr",
     "output_type": "stream",
     "text": [
      "Warning: State validity checker not set! No collision checking is performed\n",
      "         at line 63 in /Users/tianpengzhang/Desktop/ompl/src/ompl/base/src/SpaceInformation.cpp\n"
     ]
    },
    {
     "name": "stdout",
     "output_type": "stream",
     "text": [
      "On time for algorithmInfo:    SpaceTimeRRT: Created 134 states (60 start + 74 goal)\n",
      " ST-RRT* N agent =  20\n",
      "Env: MultiTunnel Alg: Seq_Tube N agent: 30\n",
      "Planning for agent 0/30\n",
      "Planning for agent 1/30\n",
      "Planning for agent 2/30\n",
      "Planning for agent 3/30\n",
      "Planning for agent 4/30\n",
      "Planning for agent 5/30\n",
      "Planning for agent 6/30\n",
      "Planning for agent 7/30\n"
     ]
    }
   ],
   "source": [
    "run_experiments(\"MultiTunnel\")"
   ]
  }
 ],
 "metadata": {
  "kernelspec": {
   "display_name": "Python 3 (ipykernel)",
   "language": "python",
   "name": "python3"
  },
  "language_info": {
   "codemirror_mode": {
    "name": "ipython",
    "version": 3
   },
   "file_extension": ".py",
   "mimetype": "text/x-python",
   "name": "python",
   "nbconvert_exporter": "python",
   "pygments_lexer": "ipython3",
   "version": "3.11.0"
  }
 },
 "nbformat": 4,
 "nbformat_minor": 5
}
