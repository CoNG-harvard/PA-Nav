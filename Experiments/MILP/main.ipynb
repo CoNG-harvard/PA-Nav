{
 "cells": [
  {
   "cell_type": "markdown",
   "id": "93964b26-d9f5-45ac-9818-50cc2951a2d5",
   "metadata": {},
   "source": [
    "# Benchmarking Our Algorithm against others"
   ]
  },
  {
   "cell_type": "code",
   "execution_count": 1,
   "id": "4f6a1483-2bff-48b4-a976-d9891665966d",
   "metadata": {},
   "outputs": [
    {
     "name": "stderr",
     "output_type": "stream",
     "text": [
      "<frozen importlib._bootstrap>:241: RuntimeWarning: to-Python converter for ompl::msg::LogLevel already registered; second conversion method ignored.\n"
     ]
    }
   ],
   "source": [
    "import sys\n",
    "sys.path.append('../../')\n",
    "from panav.environment.env import Room\n",
    "\n",
    "from panav.PBS.PBS import PBS\n",
    "from panav.sequential import sequential_planning\n",
    "from panav.PIBT import PIBT_plan\n",
    "from panav.SAMP.solvers import Tube_Planning, Simple_MILP_Planning\n",
    "\n",
    "from benchmarks.ST_RRTStar_wrapper import sequential_ST_RRTStar \n",
    "\n",
    "\n",
    "from time import time\n",
    "import pickle as pkl\n",
    "\n",
    "%load_ext autoreload\n",
    "%autoreload 2"
   ]
  },
  {
   "cell_type": "code",
   "execution_count": 2,
   "id": "58d186dc",
   "metadata": {},
   "outputs": [],
   "source": [
    "#### 100 agent configuration ####\n",
    "bloating_r = 0.5\n",
    "vmax = 1.0\n",
    "\n",
    "TIMEOUT = 30 # timeout\n",
    "\n",
    "# Algorithms\n",
    "algs = {  \n",
    "        \"Seq_Tube\": lambda env: sequential_planning(Tube_Planning,env,vmax,bloating_r,TIMEOUT=TIMEOUT),      \n",
    "        \"Seq_Tube_nonLazy\": lambda env: sequential_planning(Tube_Planning,env,vmax,bloating_r,TIMEOUT=TIMEOUT,lazy = False),      \n",
    "        \"Seq_S2M2\": lambda env: sequential_planning(Simple_MILP_Planning,env,vmax,bloating_r,TIMEOUT=TIMEOUT,lazy = False),\n",
    "        \"ST-RRT*\": lambda env: sequential_ST_RRTStar(env,vmax,bloating_r)\n",
    "        }"
   ]
  },
  {
   "cell_type": "code",
   "execution_count": 3,
   "id": "d438688e",
   "metadata": {},
   "outputs": [
    {
     "name": "stdout",
     "output_type": "stream",
     "text": [
      "['MultiTunnel', 'Room', 'SingleTunnel', 'Warehouse']\n"
     ]
    }
   ],
   "source": [
    "from os import listdir\n",
    "def get_env_name(filename):\n",
    "    fs = filename.split('.')\n",
    "    return fs[0]\n",
    "\n",
    "env_names = [get_env_name(fn) for fn in listdir('./envs')]\n",
    "\n",
    "print(env_names)"
   ]
  },
  {
   "cell_type": "code",
   "execution_count": 4,
   "id": "c94daae7",
   "metadata": {},
   "outputs": [
    {
     "name": "stdout",
     "output_type": "stream",
     "text": [
      "Env: MultiTunnel.pkl Alg: Seq_Tube N agent: 1\n",
      "Planning for agent 0/1\n",
      "Set parameter Username\n",
      "Academic license - for non-commercial use only - expires 2025-02-15\n",
      "On time for algorithm Seq_Tube N agent =  1\n",
      "Env: MultiTunnel.pkl Alg: Seq_Tube_nonLazy N agent: 1\n",
      "Planning for agent 0/1\n",
      "On time for algorithm Seq_Tube_nonLazy N agent =  1\n",
      "Env: MultiTunnel.pkl Alg: Seq_S2M2 N agent: 1\n",
      "Planning for agent 0/1\n",
      "On time for algorithm Seq_S2M2 N agent =  1\n",
      "Env: MultiTunnel.pkl Alg: ST-RRT* N agent: 1\n",
      "Planning for agent 0/1\n",
      "Debug:   SpaceTimeRRT: Planner range detected to be inf\n",
      "Info:    SpaceTimeRRT: Starting planning with 1 states already in datastructure\n",
      "Info:    SpaceTimeRRT: Starting planning with time bound factor 2.00\n"
     ]
    },
    {
     "name": "stderr",
     "output_type": "stream",
     "text": [
      "/Users/tianpengzhang/opt/miniconda3/envs/PA-NAV/lib/python3.11/site-packages/cvxpy/problems/problem.py:1391: UserWarning: \n",
      "    The problem is either infeasible or unbounded, but the solver\n",
      "    cannot tell which. Disable any solver-specific presolve methods\n",
      "    and re-solve to determine the precise problem status.\n",
      "\n",
      "    For GUROBI and CPLEX you can automatically perform this re-solve\n",
      "    with the keyword argument prob.solve(reoptimize=True, ...).\n",
      "    \n",
      "  warnings.warn(INF_OR_UNB_MESSAGE)\n",
      "Warning: State validity checker not set! No collision checking is performed\n",
      "         at line 63 in /Users/tianpengzhang/Desktop/ompl/src/ompl/base/src/SpaceInformation.cpp\n",
      "/Users/tianpengzhang/opt/miniconda3/envs/PA-NAV/lib/python3.11/site-packages/shapely/measurement.py:74: RuntimeWarning: invalid value encountered in distance\n",
      "  return lib.distance(a, b, **kwargs)\n"
     ]
    },
    {
     "name": "stdout",
     "output_type": "stream",
     "text": [
      "On time for algorithmInfo:    SpaceTimeRRT: Created 135 states (75 start + 60 goal)\n",
      " ST-RRT* N agent =  1\n",
      "Env: MultiTunnel.pkl Alg: Seq_Tube N agent: 11\n",
      "Planning for agent 0/11\n",
      "Planning for agent 1/11\n",
      "Planning for agent 2/11\n",
      "Planning for agent 3/11\n",
      "Planning for agent 4/11\n",
      "Planning for agent 5/11\n",
      "Planning for agent 6/11\n",
      "Planning for agent 7/11\n",
      "Planning for agent 8/11\n",
      "Planning for agent 9/11\n",
      "Planning for agent 10/11\n",
      "On time for algorithm Seq_Tube N agent =  11\n",
      "Env: MultiTunnel.pkl Alg: Seq_Tube_nonLazy N agent: 11\n",
      "Planning for agent 0/11\n",
      "Planning for agent 1/11\n",
      "Planning for agent 2/11\n",
      "Planning for agent 3/11\n",
      "Planning for agent 4/11\n",
      "Planning for agent 5/11\n",
      "Planning for agent 6/11\n",
      "Planning for agent 7/11\n",
      "Planning for agent 8/11\n",
      "Planning for agent 9/11\n",
      "Planning for agent 10/11\n",
      "On time for algorithm Seq_Tube_nonLazy N agent =  11\n",
      "Env: MultiTunnel.pkl Alg: Seq_S2M2 N agent: 11\n",
      "Planning for agent 0/11\n",
      "Planning for agent 1/11\n",
      "Planning for agent 2/11\n",
      "On time for algorithm Seq_S2M2 N agent =  11\n",
      "Env: MultiTunnel.pkl Alg: ST-RRT* N agent: 11\n",
      "Planning for agent 0/11\n",
      "Debug:   SpaceTimeRRT: Planner range detected to be inf\n",
      "Info:    SpaceTimeRRT: Starting planning with 1 states already in datastructure\n",
      "Info:    SpaceTimeRRT: Starting planning with time bound factor 2.00\n",
      "Planning for agent 1/11\n",
      "Info:    SpaceTimeRRT: Created 73 states (34 start + 39 goal)\n",
      "Debug:   SpaceTimeRRT: Planner range detected to be inf\n",
      "Info:    SpaceTimeRRT: Starting planning with 1 states already in datastructure\n",
      "Info:    SpaceTimeRRT: Starting planning with time bound factor 2.00\n",
      "Planning for agent 2/11\n"
     ]
    },
    {
     "name": "stderr",
     "output_type": "stream",
     "text": [
      "Warning: State validity checker not set! No collision checking is performed\n",
      "         at line 63 in /Users/tianpengzhang/Desktop/ompl/src/ompl/base/src/SpaceInformation.cpp\n",
      "Warning: State validity checker not set! No collision checking is performed\n",
      "         at line 63 in /Users/tianpengzhang/Desktop/ompl/src/ompl/base/src/SpaceInformation.cpp\n",
      "Warning: State validity checker not set! No collision checking is performed\n",
      "         at line 63 in /Users/tianpengzhang/Desktop/ompl/src/ompl/base/src/SpaceInformation.cpp\n"
     ]
    },
    {
     "name": "stdout",
     "output_type": "stream",
     "text": [
      "Info:    SpaceTimeRRT: Created 116 states (45 start + 71 goal)\n",
      "Debug:   SpaceTimeRRT: Planner range detected to be inf\n",
      "Info:    SpaceTimeRRT: Starting planning with 1 states already in datastructure\n",
      "Info:    SpaceTimeRRT: Starting planning with time bound factor 2.00\n",
      "Planning for agent 3/11\n",
      "Info:    SpaceTimeRRT: Created 60 states (29 start + 31 goal)\n",
      "Debug:   SpaceTimeRRT: Planner range detected to be inf\n",
      "Info:    SpaceTimeRRT: Starting planning with 1 states already in datastructure\n",
      "Info:    SpaceTimeRRT: Starting planning with time bound factor 2.00\n",
      "Planning for agent 4/11\n",
      "Info:    SpaceTimeRRT: Created 67 states (32 start + 35 goal)\n",
      "Debug:   SpaceTimeRRT: Planner range detected to be inf\n",
      "Info:    SpaceTimeRRT: Starting planning with 1 states already in datastructure\n",
      "Info:    SpaceTimeRRT: Starting planning with time bound factor 2.00\n"
     ]
    },
    {
     "name": "stderr",
     "output_type": "stream",
     "text": [
      "Warning: State validity checker not set! No collision checking is performed\n",
      "         at line 63 in /Users/tianpengzhang/Desktop/ompl/src/ompl/base/src/SpaceInformation.cpp\n",
      "Warning: State validity checker not set! No collision checking is performed\n",
      "         at line 63 in /Users/tianpengzhang/Desktop/ompl/src/ompl/base/src/SpaceInformation.cpp\n"
     ]
    },
    {
     "name": "stdout",
     "output_type": "stream",
     "text": [
      "Planning for agent 5/11Info:    SpaceTimeRRT: Created 66 states (24 start + 42 goal)\n",
      "\n",
      "Debug:   SpaceTimeRRT: Planner range detected to be inf\n",
      "Info:    SpaceTimeRRT: Starting planning with 1 states already in datastructure\n",
      "Info:    SpaceTimeRRT: Starting planning with time bound factor 2.00\n",
      "Planning for agent 6/11\n",
      "Info:    SpaceTimeRRT: Created 48 states (21 start + 27 goal)\n",
      "Debug:   SpaceTimeRRT: Planner range detected to be inf\n",
      "Info:    SpaceTimeRRT: Starting planning with 1 states already in datastructure\n",
      "Info:    SpaceTimeRRT: Starting planning with time bound factor 2.00\n"
     ]
    },
    {
     "name": "stderr",
     "output_type": "stream",
     "text": [
      "Warning: State validity checker not set! No collision checking is performed\n",
      "         at line 63 in /Users/tianpengzhang/Desktop/ompl/src/ompl/base/src/SpaceInformation.cpp\n",
      "Warning: State validity checker not set! No collision checking is performed\n",
      "         at line 63 in /Users/tianpengzhang/Desktop/ompl/src/ompl/base/src/SpaceInformation.cpp\n",
      "Warning: State validity checker not set! No collision checking is performed\n",
      "         at line 63 in /Users/tianpengzhang/Desktop/ompl/src/ompl/base/src/SpaceInformation.cpp\n"
     ]
    },
    {
     "name": "stdout",
     "output_type": "stream",
     "text": [
      "Planning for agent 7/11\n",
      "Info:    SpaceTimeRRT: Created 47 states (16 start + 31 goal)\n",
      "Debug:   SpaceTimeRRT: Planner range detected to be inf\n",
      "Info:    SpaceTimeRRT: Starting planning with 1 states already in datastructure\n",
      "Info:    SpaceTimeRRT: Starting planning with time bound factor 2.00\n",
      "Planning for agent 8/11Info:    SpaceTimeRRT: Created 57 states (23 start + 34 goal)\n",
      "\n",
      "Debug:   SpaceTimeRRT: Planner range detected to be inf\n",
      "Info:    SpaceTimeRRT: Starting planning with 1 states already in datastructure\n",
      "Info:    SpaceTimeRRT: Starting planning with time bound factor 2.00\n"
     ]
    },
    {
     "name": "stderr",
     "output_type": "stream",
     "text": [
      "Warning: State validity checker not set! No collision checking is performed\n",
      "         at line 63 in /Users/tianpengzhang/Desktop/ompl/src/ompl/base/src/SpaceInformation.cpp\n"
     ]
    },
    {
     "name": "stdout",
     "output_type": "stream",
     "text": [
      "Planning for agent 9/11Info:    SpaceTimeRRT: Created 62 states (31 start + 31 goal)\n",
      "\n",
      "Debug:   SpaceTimeRRT: Planner range detected to be inf\n",
      "Info:    SpaceTimeRRT: Starting planning with 1 states already in datastructure\n",
      "Info:    SpaceTimeRRT: Starting planning with time bound factor 2.00\n",
      "Planning for agent 10/11\n",
      "Info:    SpaceTimeRRT: Created 25 states (13 start + 12 goal)\n",
      "Debug:   SpaceTimeRRT: Planner range detected to be inf\n",
      "Info:    SpaceTimeRRT: Starting planning with 1 states already in datastructure\n",
      "Info:    SpaceTimeRRT: Starting planning with time bound factor 2.00\n"
     ]
    },
    {
     "name": "stderr",
     "output_type": "stream",
     "text": [
      "Warning: State validity checker not set! No collision checking is performed\n",
      "         at line 63 in /Users/tianpengzhang/Desktop/ompl/src/ompl/base/src/SpaceInformation.cpp\n",
      "Warning: State validity checker not set! No collision checking is performed\n",
      "         at line 63 in /Users/tianpengzhang/Desktop/ompl/src/ompl/base/src/SpaceInformation.cpp\n"
     ]
    },
    {
     "name": "stdout",
     "output_type": "stream",
     "text": [
      "On time for algorithmInfo:    SpaceTimeRRT: Created 46 states (19 start + 27 goal)\n",
      " ST-RRT* N agent =  11\n",
      "Env: MultiTunnel.pkl Alg: Seq_Tube N agent: 21\n",
      "Planning for agent 0/21\n",
      "Planning for agent 1/21\n",
      "Planning for agent 2/21\n",
      "Planning for agent 3/21\n",
      "Planning for agent 4/21\n",
      "Planning for agent 5/21\n",
      "Planning for agent 6/21\n",
      "Planning for agent 7/21\n",
      "Planning for agent 8/21\n",
      "Planning for agent 9/21\n",
      "Planning for agent 10/21\n",
      "Planning for agent 11/21\n",
      "Planning for agent 12/21\n",
      "Planning for agent 13/21\n",
      "Planning for agent 14/21\n",
      "Planning for agent 15/21\n",
      "Planning for agent 16/21\n",
      "Planning for agent 17/21\n",
      "Planning for agent 18/21\n",
      "Planning for agent 19/21\n",
      "Planning for agent 20/21\n",
      "On time for algorithm Seq_Tube N agent =  21\n",
      "Env: MultiTunnel.pkl Alg: Seq_Tube_nonLazy N agent: 21\n",
      "Planning for agent 0/21\n",
      "Planning for agent 1/21\n",
      "Planning for agent 2/21\n",
      "Planning for agent 3/21\n",
      "Planning for agent 4/21\n",
      "Planning for agent 5/21\n",
      "Planning for agent 6/21\n",
      "Planning for agent 7/21\n",
      "Planning for agent 8/21\n",
      "Planning for agent 9/21\n",
      "Planning for agent 10/21\n",
      "Planning for agent 11/21\n",
      "Planning for agent 12/21\n",
      "Planning for agent 13/21\n",
      "Planning for agent 14/21\n",
      "Algorithm timeout\n",
      "Time out for algorithm Seq_Tube_nonLazy N agent =  21\n",
      "Env: MultiTunnel.pkl Alg: Seq_S2M2 N agent: 21\n",
      "Planning for agent 0/21\n",
      "Planning for agent 1/21\n",
      "Planning for agent 2/21\n",
      "On time for algorithm Seq_S2M2 N agent =  21\n",
      "Env: MultiTunnel.pkl Alg: ST-RRT* N agent: 21\n",
      "Planning for agent 0/21\n",
      "Debug:   SpaceTimeRRT: Planner range detected to be inf\n",
      "Info:    SpaceTimeRRT: Starting planning with 1 states already in datastructure\n",
      "Info:    SpaceTimeRRT: Starting planning with time bound factor 2.00\n",
      "Planning for agent 1/21\n",
      "Info:    SpaceTimeRRT: Created 115 states (51 start + 64 goal)\n",
      "Debug:   SpaceTimeRRT: Planner range detected to be inf\n",
      "Info:    SpaceTimeRRT: Starting planning with 1 states already in datastructure\n",
      "Info:    SpaceTimeRRT: Starting planning with time bound factor 2.00\n"
     ]
    },
    {
     "name": "stderr",
     "output_type": "stream",
     "text": [
      "Warning: State validity checker not set! No collision checking is performed\n",
      "         at line 63 in /Users/tianpengzhang/Desktop/ompl/src/ompl/base/src/SpaceInformation.cpp\n",
      "Warning: State validity checker not set! No collision checking is performed\n",
      "         at line 63 in /Users/tianpengzhang/Desktop/ompl/src/ompl/base/src/SpaceInformation.cpp\n"
     ]
    },
    {
     "name": "stdout",
     "output_type": "stream",
     "text": [
      "Planning for agent 2/21Info:    SpaceTimeRRT: Created 111 states (57 start + 54 goal)\n",
      "\n",
      "Debug:   SpaceTimeRRT: Planner range detected to be inf\n",
      "Info:    SpaceTimeRRT: Starting planning with 1 states already in datastructure\n",
      "Info:    SpaceTimeRRT: Starting planning with time bound factor 2.00\n",
      "Planning for agent 3/21\n",
      "Info:    SpaceTimeRRT: Created 77 states (30 start + 47 goal)\n",
      "Debug:   SpaceTimeRRT: Planner range detected to be inf\n",
      "Info:    SpaceTimeRRT: Starting planning with 1 states already in datastructure\n",
      "Info:    SpaceTimeRRT: Starting planning with time bound factor 2.00\n"
     ]
    },
    {
     "name": "stderr",
     "output_type": "stream",
     "text": [
      "Warning: State validity checker not set! No collision checking is performed\n",
      "         at line 63 in /Users/tianpengzhang/Desktop/ompl/src/ompl/base/src/SpaceInformation.cpp\n",
      "Warning: State validity checker not set! No collision checking is performed\n",
      "         at line 63 in /Users/tianpengzhang/Desktop/ompl/src/ompl/base/src/SpaceInformation.cpp\n"
     ]
    },
    {
     "name": "stdout",
     "output_type": "stream",
     "text": [
      "Planning for agent 4/21Info:    SpaceTimeRRT: Created 95 states (44 start + 51 goal)\n",
      "\n",
      "Debug:   SpaceTimeRRT: Planner range detected to be inf\n",
      "Info:    SpaceTimeRRT: Starting planning with 1 states already in datastructure\n",
      "Info:    SpaceTimeRRT: Starting planning with time bound factor 2.00\n",
      "Planning for agent 5/21\n",
      "Info:    SpaceTimeRRT: Created 53 states (22 start + 31 goal)\n",
      "Debug:   SpaceTimeRRT: Planner range detected to be inf\n",
      "Info:    SpaceTimeRRT: Starting planning with 1 states already in datastructure\n",
      "Info:    SpaceTimeRRT: Starting planning with time bound factor 2.00\n",
      "Planning for agent 6/21\n",
      "Info:    SpaceTimeRRT: Created 41 states (10 start + 31 goal)\n",
      "Debug:   SpaceTimeRRT: Planner range detected to be inf\n",
      "Info:    SpaceTimeRRT: Starting planning with 1 states already in datastructure\n",
      "Info:    SpaceTimeRRT: Starting planning with time bound factor 2.00\n"
     ]
    },
    {
     "name": "stderr",
     "output_type": "stream",
     "text": [
      "Warning: State validity checker not set! No collision checking is performed\n",
      "         at line 63 in /Users/tianpengzhang/Desktop/ompl/src/ompl/base/src/SpaceInformation.cpp\n",
      "Warning: State validity checker not set! No collision checking is performed\n",
      "         at line 63 in /Users/tianpengzhang/Desktop/ompl/src/ompl/base/src/SpaceInformation.cpp\n",
      "Warning: State validity checker not set! No collision checking is performed\n",
      "         at line 63 in /Users/tianpengzhang/Desktop/ompl/src/ompl/base/src/SpaceInformation.cpp\n"
     ]
    },
    {
     "name": "stdout",
     "output_type": "stream",
     "text": [
      "Planning for agent 7/21Info:    SpaceTimeRRT: Created 45 states (14 start + 31 goal)\n",
      "\n",
      "Debug:   SpaceTimeRRT: Planner range detected to be inf\n",
      "Info:    SpaceTimeRRT: Starting planning with 1 states already in datastructure\n",
      "Info:    SpaceTimeRRT: Starting planning with time bound factor 2.00\n"
     ]
    },
    {
     "name": "stderr",
     "output_type": "stream",
     "text": [
      "Warning: State validity checker not set! No collision checking is performed\n",
      "         at line 63 in /Users/tianpengzhang/Desktop/ompl/src/ompl/base/src/SpaceInformation.cpp\n"
     ]
    },
    {
     "name": "stdout",
     "output_type": "stream",
     "text": [
      "Planning for agent 8/21Info:    SpaceTimeRRT: Created 121 states (55 start + 66 goal)\n",
      "\n",
      "Debug:   SpaceTimeRRT: Planner range detected to be inf\n",
      "Info:    SpaceTimeRRT: Starting planning with 1 states already in datastructure\n",
      "Info:    SpaceTimeRRT: Starting planning with time bound factor 2.00\n",
      "Planning for agent 9/21\n",
      "Info:    SpaceTimeRRT: Created 32 states (15 start + 17 goal)\n",
      "Debug:   SpaceTimeRRT: Planner range detected to be inf\n",
      "Info:    SpaceTimeRRT: Starting planning with 1 states already in datastructure\n",
      "Info:    SpaceTimeRRT: Starting planning with time bound factor 2.00\n",
      "Planning for agent 10/21\n"
     ]
    },
    {
     "name": "stderr",
     "output_type": "stream",
     "text": [
      "Warning: State validity checker not set! No collision checking is performed\n",
      "         at line 63 in /Users/tianpengzhang/Desktop/ompl/src/ompl/base/src/SpaceInformation.cpp\n",
      "Warning: State validity checker not set! No collision checking is performed\n",
      "         at line 63 in /Users/tianpengzhang/Desktop/ompl/src/ompl/base/src/SpaceInformation.cpp\n",
      "Warning: State validity checker not set! No collision checking is performed\n",
      "         at line 63 in /Users/tianpengzhang/Desktop/ompl/src/ompl/base/src/SpaceInformation.cpp\n"
     ]
    },
    {
     "name": "stdout",
     "output_type": "stream",
     "text": [
      "Info:    SpaceTimeRRT: Created 44 states (19 start + 25 goal)\n",
      "Debug:   SpaceTimeRRT: Planner range detected to be inf\n",
      "Info:    SpaceTimeRRT: Starting planning with 1 states already in datastructure\n",
      "Info:    SpaceTimeRRT: Starting planning with time bound factor 2.00\n",
      "Planning for agent 11/21Info:    SpaceTimeRRT: Created 92 states (46 start + 46 goal)\n",
      "\n",
      "Debug:   SpaceTimeRRT: Planner range detected to be inf\n",
      "Info:    SpaceTimeRRT: Starting planning with 1 states already in datastructure\n",
      "Info:    SpaceTimeRRT: Starting planning with time bound factor 2.00\n",
      "Planning for agent 12/21\n",
      "Info:    SpaceTimeRRT: Created 25 states (8 start + 17 goal)\n",
      "Debug:   SpaceTimeRRT: Planner range detected to be inf\n",
      "Info:    SpaceTimeRRT: Starting planning with 1 states already in datastructure\n",
      "Info:    SpaceTimeRRT: Starting planning with time bound factor 2.00\n"
     ]
    },
    {
     "name": "stderr",
     "output_type": "stream",
     "text": [
      "Warning: State validity checker not set! No collision checking is performed\n",
      "         at line 63 in /Users/tianpengzhang/Desktop/ompl/src/ompl/base/src/SpaceInformation.cpp\n",
      "Warning: State validity checker not set! No collision checking is performed\n",
      "         at line 63 in /Users/tianpengzhang/Desktop/ompl/src/ompl/base/src/SpaceInformation.cpp\n"
     ]
    },
    {
     "name": "stdout",
     "output_type": "stream",
     "text": [
      "Planning for agent 13/21Info:    SpaceTimeRRT: Created 62 states (24 start + 38 goal)\n",
      "\n",
      "Debug:   SpaceTimeRRT: Planner range detected to be inf\n",
      "Info:    SpaceTimeRRT: Starting planning with 1 states already in datastructure\n",
      "Info:    SpaceTimeRRT: Starting planning with time bound factor 2.00\n"
     ]
    },
    {
     "name": "stderr",
     "output_type": "stream",
     "text": [
      "Warning: State validity checker not set! No collision checking is performed\n",
      "         at line 63 in /Users/tianpengzhang/Desktop/ompl/src/ompl/base/src/SpaceInformation.cpp\n"
     ]
    },
    {
     "name": "stdout",
     "output_type": "stream",
     "text": [
      "Planning for agent 14/21Info:    SpaceTimeRRT: Created 70 states (26 start + 44 goal)\n",
      "\n",
      "Debug:   SpaceTimeRRT: Planner range detected to be inf\n",
      "Info:    SpaceTimeRRT: Starting planning with 1 states already in datastructure\n",
      "Info:    SpaceTimeRRT: Starting planning with time bound factor 2.00\n"
     ]
    },
    {
     "name": "stderr",
     "output_type": "stream",
     "text": [
      "Warning: State validity checker not set! No collision checking is performed\n",
      "         at line 63 in /Users/tianpengzhang/Desktop/ompl/src/ompl/base/src/SpaceInformation.cpp\n"
     ]
    },
    {
     "name": "stdout",
     "output_type": "stream",
     "text": [
      "Planning for agent 15/21Info:    SpaceTimeRRT: Created 112 states (50 start + 62 goal)\n",
      "\n",
      "Debug:   SpaceTimeRRT: Planner range detected to be inf\n",
      "Info:    SpaceTimeRRT: Starting planning with 1 states already in datastructure\n",
      "Info:    SpaceTimeRRT: Starting planning with time bound factor 2.00\n"
     ]
    },
    {
     "name": "stderr",
     "output_type": "stream",
     "text": [
      "Warning: State validity checker not set! No collision checking is performed\n",
      "         at line 63 in /Users/tianpengzhang/Desktop/ompl/src/ompl/base/src/SpaceInformation.cpp\n"
     ]
    },
    {
     "name": "stdout",
     "output_type": "stream",
     "text": [
      "Planning for agent 16/21Info:    SpaceTimeRRT: Created 291 states (115 start + 176 goal)\n",
      "\n",
      "Debug:   SpaceTimeRRT: Planner range detected to be inf\n",
      "Info:    SpaceTimeRRT: Starting planning with 1 states already in datastructure\n",
      "Info:    SpaceTimeRRT: Starting planning with time bound factor 2.00\n"
     ]
    },
    {
     "name": "stderr",
     "output_type": "stream",
     "text": [
      "Warning: State validity checker not set! No collision checking is performed\n",
      "         at line 63 in /Users/tianpengzhang/Desktop/ompl/src/ompl/base/src/SpaceInformation.cpp\n"
     ]
    },
    {
     "name": "stdout",
     "output_type": "stream",
     "text": [
      "Info:    SpaceTimeRRT: Increased time bound factor to 4.00\n",
      "Planning for agent 17/21\n",
      "Info:    SpaceTimeRRT: Created 515 states (238 start + 277 goal)\n",
      "Debug:   SpaceTimeRRT: Planner range detected to be inf\n",
      "Info:    SpaceTimeRRT: Starting planning with 1 states already in datastructure\n",
      "Info:    SpaceTimeRRT: Starting planning with time bound factor 2.00\n"
     ]
    },
    {
     "name": "stderr",
     "output_type": "stream",
     "text": [
      "Warning: State validity checker not set! No collision checking is performed\n",
      "         at line 63 in /Users/tianpengzhang/Desktop/ompl/src/ompl/base/src/SpaceInformation.cpp\n"
     ]
    },
    {
     "name": "stdout",
     "output_type": "stream",
     "text": [
      "Info:    SpaceTimeRRT: Increased time bound factor to 4.00\n",
      "Planning for agent 18/21Info:    SpaceTimeRRT: Created 939 states (436 start + 503 goal)\n",
      "\n",
      "Debug:   SpaceTimeRRT: Planner range detected to be inf\n",
      "Info:    SpaceTimeRRT: Starting planning with 1 states already in datastructure\n",
      "Info:    SpaceTimeRRT: Starting planning with time bound factor 2.00\n"
     ]
    },
    {
     "name": "stderr",
     "output_type": "stream",
     "text": [
      "Warning: State validity checker not set! No collision checking is performed\n",
      "         at line 63 in /Users/tianpengzhang/Desktop/ompl/src/ompl/base/src/SpaceInformation.cpp\n"
     ]
    },
    {
     "name": "stdout",
     "output_type": "stream",
     "text": [
      "Planning for agent 19/21Info:    SpaceTimeRRT: Created 212 states (84 start + 128 goal)\n",
      "\n",
      "Debug:   SpaceTimeRRT: Planner range detected to be inf\n",
      "Info:    SpaceTimeRRT: Starting planning with 1 states already in datastructure\n",
      "Info:    SpaceTimeRRT: Starting planning with time bound factor 2.00\n"
     ]
    },
    {
     "name": "stderr",
     "output_type": "stream",
     "text": [
      "Warning: State validity checker not set! No collision checking is performed\n",
      "         at line 63 in /Users/tianpengzhang/Desktop/ompl/src/ompl/base/src/SpaceInformation.cpp\n"
     ]
    },
    {
     "name": "stdout",
     "output_type": "stream",
     "text": [
      "Info:    SpaceTimeRRT: Increased time bound factor to 4.00\n",
      "Planning for agent 20/21Info:    SpaceTimeRRT: Created 690 states (308 start + 382 goal)\n",
      "\n",
      "Debug:   SpaceTimeRRT: Planner range detected to be inf\n",
      "Info:    SpaceTimeRRT: Starting planning with 1 states already in datastructure\n",
      "Info:    SpaceTimeRRT: Starting planning with time bound factor 2.00\n"
     ]
    },
    {
     "name": "stderr",
     "output_type": "stream",
     "text": [
      "Warning: State validity checker not set! No collision checking is performed\n",
      "         at line 63 in /Users/tianpengzhang/Desktop/ompl/src/ompl/base/src/SpaceInformation.cpp\n"
     ]
    },
    {
     "name": "stdout",
     "output_type": "stream",
     "text": [
      "Algorithm timeout\n",
      "Timeout\n",
      "Time out for algorithm ST-RRT* N agent =  21\n",
      "Env: MultiTunnel.pkl Alg: Seq_Tube N agent: 31\n",
      "Planning for agent 0/31\n",
      "Planning for agent 1/31\n",
      "Planning for agent 2/31\n",
      "Planning for agent 3/31\n",
      "Planning for agent 4/31\n",
      "Planning for agent 5/31\n",
      "Planning for agent 6/31\n",
      "Planning for agent 7/31\n",
      "Planning for agent 8/31\n",
      "Planning for agent 9/31\n",
      "Planning for agent 10/31\n",
      "Planning for agent 11/31\n",
      "Planning for agent 12/31\n",
      "Planning for agent 13/31\n",
      "Planning for agent 14/31\n",
      "Planning for agent 15/31\n",
      "Planning for agent 16/31\n",
      "Planning for agent 17/31\n",
      "Planning for agent 18/31\n",
      "Planning for agent 19/31\n",
      "Algorithm timeout\n",
      "Time out for algorithm Seq_Tube N agent =  31\n",
      "Env: MultiTunnel.pkl Alg: Seq_S2M2 N agent: 31\n",
      "Planning for agent 0/31\n",
      "Planning for agent 1/31\n",
      "Planning for agent 2/31\n",
      "On time for algorithm Seq_S2M2 N agent =  31\n",
      "Env: Room.pkl Alg: Seq_Tube N agent: 1\n",
      "Planning for agent 0/1\n",
      "On time for algorithm Seq_Tube N agent =  1\n",
      "Env: Room.pkl Alg: Seq_Tube_nonLazy N agent: 1\n",
      "Planning for agent 0/1\n",
      "On time for algorithm Seq_Tube_nonLazy N agent =  1\n",
      "Env: Room.pkl Alg: Seq_S2M2 N agent: 1\n",
      "Planning for agent 0/1\n",
      "On time for algorithm Seq_S2M2 N agent =  1\n",
      "Env: Room.pkl Alg: ST-RRT* N agent: 1\n",
      "Planning for agent 0/1\n",
      "Debug:   SpaceTimeRRT: Planner range detected to be inf\n",
      "Info:    SpaceTimeRRT: Starting planning with 1 states already in datastructure\n",
      "Info:    SpaceTimeRRT: Starting planning with time bound factor 2.00\n"
     ]
    },
    {
     "name": "stderr",
     "output_type": "stream",
     "text": [
      "Warning: State validity checker not set! No collision checking is performed\n",
      "         at line 63 in /Users/tianpengzhang/Desktop/ompl/src/ompl/base/src/SpaceInformation.cpp\n"
     ]
    },
    {
     "name": "stdout",
     "output_type": "stream",
     "text": [
      "Info:    SpaceTimeRRT: Increased time bound factor to 4.00\n",
      "Info:    SpaceTimeRRT: Increased time bound factor to 8.00\n",
      "On time for algorithm ST-RRT* N agent =  1\n",
      "Info:    SpaceTimeRRT: Created 1543 states (689 start + 854 goal)\n",
      "Env: Room.pkl Alg: Seq_Tube N agent: 11\n",
      "Planning for agent 0/11\n",
      "Planning for agent 1/11\n",
      "Planning for agent 2/11\n",
      "Planning for agent 3/11\n",
      "Planning for agent 4/11\n",
      "Planning for agent 5/11\n",
      "Planning for agent 6/11\n",
      "MILP low-level encounters infeasibility.\n",
      "On time for algorithm Seq_Tube N agent =  11\n",
      "Env: Room.pkl Alg: Seq_Tube_nonLazy N agent: 11\n",
      "Planning for agent 0/11\n",
      "Planning for agent 1/11\n",
      "Planning for agent 2/11\n",
      "Planning for agent 3/11\n",
      "Planning for agent 4/11\n",
      "Planning for agent 5/11\n",
      "Planning for agent 6/11\n",
      "Planning for agent 7/11\n",
      "Planning for agent 8/11\n",
      "Planning for agent 9/11\n",
      "Planning for agent 10/11\n",
      "On time for algorithm Seq_Tube_nonLazy N agent =  11\n",
      "Env: Room.pkl Alg: Seq_S2M2 N agent: 11\n",
      "Planning for agent 0/11\n",
      "Planning for agent 1/11\n",
      "Planning for agent 2/11\n",
      "Planning for agent 3/11\n",
      "Planning for agent 4/11\n",
      "Planning for agent 5/11\n",
      "Planning for agent 6/11\n",
      "Planning for agent 7/11\n",
      "Planning for agent 8/11\n",
      "Planning for agent 9/11\n",
      "Planning for agent 10/11\n",
      "On time for algorithm Seq_S2M2 N agent =  11\n",
      "Env: Room.pkl Alg: ST-RRT* N agent: 11\n",
      "Planning for agent 0/11\n",
      "Debug:   SpaceTimeRRT: Planner range detected to be inf\n",
      "Info:    SpaceTimeRRT: Starting planning with 1 states already in datastructure\n",
      "Info:    SpaceTimeRRT: Starting planning with time bound factor 2.00\n"
     ]
    },
    {
     "name": "stderr",
     "output_type": "stream",
     "text": [
      "Warning: State validity checker not set! No collision checking is performed\n",
      "         at line 63 in /Users/tianpengzhang/Desktop/ompl/src/ompl/base/src/SpaceInformation.cpp\n"
     ]
    },
    {
     "name": "stdout",
     "output_type": "stream",
     "text": [
      "Info:    SpaceTimeRRT: Increased time bound factor to 4.00\n",
      "Info:    SpaceTimeRRT: Increased time bound factor to 8.00\n",
      "Planning for agent 1/11Info:    SpaceTimeRRT: Created 1582 states (719 start + 863 goal)\n",
      "\n",
      "Debug:   SpaceTimeRRT: Planner range detected to be inf\n",
      "Info:    SpaceTimeRRT: Starting planning with 1 states already in datastructure\n",
      "Info:    SpaceTimeRRT: Starting planning with time bound factor 2.00\n",
      "Planning for agent 2/11\n",
      "Info:    SpaceTimeRRT: Created 34 states (11 start + 23 goal)\n",
      "Debug:   SpaceTimeRRT: Planner range detected to be inf\n",
      "Info:    SpaceTimeRRT: Starting planning with 1 states already in datastructure\n",
      "Info:    SpaceTimeRRT: Starting planning with time bound factor 2.00\n",
      "Planning for agent 3/11\n"
     ]
    },
    {
     "name": "stderr",
     "output_type": "stream",
     "text": [
      "Warning: State validity checker not set! No collision checking is performed\n",
      "         at line 63 in /Users/tianpengzhang/Desktop/ompl/src/ompl/base/src/SpaceInformation.cpp\n",
      "Warning: State validity checker not set! No collision checking is performed\n",
      "         at line 63 in /Users/tianpengzhang/Desktop/ompl/src/ompl/base/src/SpaceInformation.cpp\n",
      "Warning: State validity checker not set! No collision checking is performed\n",
      "         at line 63 in /Users/tianpengzhang/Desktop/ompl/src/ompl/base/src/SpaceInformation.cpp\n"
     ]
    },
    {
     "name": "stdout",
     "output_type": "stream",
     "text": [
      "Info:    SpaceTimeRRT: Created 42 states (22 start + 20 goal)\n",
      "Debug:   SpaceTimeRRT: Planner range detected to be inf\n",
      "Info:    SpaceTimeRRT: Starting planning with 1 states already in datastructure\n",
      "Info:    SpaceTimeRRT: Starting planning with time bound factor 2.00\n",
      "Planning for agent 4/11\n",
      "Info:    SpaceTimeRRT: Created 44 states (18 start + 26 goal)\n",
      "Debug:   SpaceTimeRRT: Planner range detected to be inf\n",
      "Info:    SpaceTimeRRT: Starting planning with 1 states already in datastructure\n",
      "Info:    SpaceTimeRRT: Starting planning with time bound factor 2.00\n"
     ]
    },
    {
     "name": "stderr",
     "output_type": "stream",
     "text": [
      "Warning: State validity checker not set! No collision checking is performed\n",
      "         at line 63 in /Users/tianpengzhang/Desktop/ompl/src/ompl/base/src/SpaceInformation.cpp\n"
     ]
    },
    {
     "name": "stdout",
     "output_type": "stream",
     "text": [
      "Planning for agent 5/11Info:    SpaceTimeRRT: Created 229 states (82 start + 147 goal)\n",
      "\n",
      "Debug:   SpaceTimeRRT: Planner range detected to be inf\n",
      "Info:    SpaceTimeRRT: Starting planning with 1 states already in datastructure\n",
      "Info:    SpaceTimeRRT: Starting planning with time bound factor 2.00\n"
     ]
    },
    {
     "name": "stderr",
     "output_type": "stream",
     "text": [
      "Warning: State validity checker not set! No collision checking is performed\n",
      "         at line 63 in /Users/tianpengzhang/Desktop/ompl/src/ompl/base/src/SpaceInformation.cpp\n"
     ]
    },
    {
     "name": "stdout",
     "output_type": "stream",
     "text": [
      "Planning for agent 6/11Info:    SpaceTimeRRT: Created 114 states (64 start + 50 goal)\n",
      "\n",
      "Debug:   SpaceTimeRRT: Planner range detected to be inf\n",
      "Info:    SpaceTimeRRT: Starting planning with 1 states already in datastructure\n",
      "Info:    SpaceTimeRRT: Starting planning with time bound factor 2.00\n"
     ]
    },
    {
     "name": "stderr",
     "output_type": "stream",
     "text": [
      "Warning: State validity checker not set! No collision checking is performed\n",
      "         at line 63 in /Users/tianpengzhang/Desktop/ompl/src/ompl/base/src/SpaceInformation.cpp\n"
     ]
    },
    {
     "name": "stdout",
     "output_type": "stream",
     "text": [
      "Planning for agent 7/11Info:    SpaceTimeRRT: Created 371 states (117 start + 254 goal)\n",
      "\n",
      "Debug:   SpaceTimeRRT: Planner range detected to be inf\n",
      "Info:    SpaceTimeRRT: Starting planning with 1 states already in datastructure\n",
      "Info:    SpaceTimeRRT: Starting planning with time bound factor 2.00\n"
     ]
    },
    {
     "name": "stderr",
     "output_type": "stream",
     "text": [
      "Warning: State validity checker not set! No collision checking is performed\n",
      "         at line 63 in /Users/tianpengzhang/Desktop/ompl/src/ompl/base/src/SpaceInformation.cpp\n"
     ]
    },
    {
     "name": "stdout",
     "output_type": "stream",
     "text": [
      "Planning for agent 8/11Info:    SpaceTimeRRT: Created 333 states (138 start + 195 goal)\n",
      "\n",
      "Debug:   SpaceTimeRRT: Planner range detected to be inf\n",
      "Info:    SpaceTimeRRT: Starting planning with 1 states already in datastructure\n",
      "Info:    SpaceTimeRRT: Starting planning with time bound factor 2.00\n"
     ]
    },
    {
     "name": "stderr",
     "output_type": "stream",
     "text": [
      "Warning: State validity checker not set! No collision checking is performed\n",
      "         at line 63 in /Users/tianpengzhang/Desktop/ompl/src/ompl/base/src/SpaceInformation.cpp\n"
     ]
    },
    {
     "name": "stdout",
     "output_type": "stream",
     "text": [
      "Planning for agent 9/11Info:    SpaceTimeRRT: Created 206 states (80 start + 126 goal)\n",
      "\n",
      "Debug:   SpaceTimeRRT: Planner range detected to be inf\n",
      "Info:    SpaceTimeRRT: Starting planning with 1 states already in datastructure\n",
      "Info:    SpaceTimeRRT: Starting planning with time bound factor 2.00\n",
      "Planning for agent 10/11\n",
      "Info:    SpaceTimeRRT: Created 37 states (15 start + 22 goal)\n",
      "Debug:   SpaceTimeRRT: Planner range detected to be inf\n",
      "Info:    SpaceTimeRRT: Starting planning with 1 states already in datastructure\n",
      "Info:    SpaceTimeRRT: Starting planning with time bound factor 2.00\n"
     ]
    },
    {
     "name": "stderr",
     "output_type": "stream",
     "text": [
      "Warning: State validity checker not set! No collision checking is performed\n",
      "         at line 63 in /Users/tianpengzhang/Desktop/ompl/src/ompl/base/src/SpaceInformation.cpp\n",
      "Warning: State validity checker not set! No collision checking is performed\n",
      "         at line 63 in /Users/tianpengzhang/Desktop/ompl/src/ompl/base/src/SpaceInformation.cpp\n"
     ]
    },
    {
     "name": "stdout",
     "output_type": "stream",
     "text": [
      "Algorithm timeout\n",
      "Timeout\n",
      "Time out for algorithm ST-RRT* N agent =  11\n",
      "Env: Room.pkl Alg: Seq_Tube N agent: 21\n",
      "Planning for agent 0/21\n",
      "Planning for agent 1/21\n",
      "Planning for agent 2/21\n",
      "Planning for agent 3/21\n",
      "Planning for agent 4/21\n",
      "Planning for agent 5/21\n",
      "Planning for agent 6/21\n",
      "MILP low-level encounters infeasibility.\n",
      "On time for algorithm Seq_Tube N agent =  21\n",
      "Env: Room.pkl Alg: Seq_Tube_nonLazy N agent: 21\n",
      "Planning for agent 0/21\n",
      "Planning for agent 1/21\n",
      "Planning for agent 2/21\n",
      "Planning for agent 3/21\n",
      "Planning for agent 4/21\n",
      "Planning for agent 5/21\n",
      "Planning for agent 6/21\n",
      "Planning for agent 7/21\n",
      "Planning for agent 8/21\n",
      "Planning for agent 9/21\n",
      "Planning for agent 10/21\n",
      "Algorithm timeout\n",
      "Time out for algorithm Seq_Tube_nonLazy N agent =  21\n",
      "Env: Room.pkl Alg: Seq_S2M2 N agent: 21\n",
      "Planning for agent 0/21\n",
      "Planning for agent 1/21\n",
      "Planning for agent 2/21\n",
      "Planning for agent 3/21\n",
      "Planning for agent 4/21\n",
      "Planning for agent 5/21\n",
      "Planning for agent 6/21\n",
      "Planning for agent 7/21\n",
      "Planning for agent 8/21\n",
      "Planning for agent 9/21\n",
      "Planning for agent 10/21\n",
      "Planning for agent 11/21\n",
      "On time for algorithm Seq_S2M2 N agent =  21\n",
      "Env: Room.pkl Alg: Seq_Tube N agent: 31\n",
      "Planning for agent 0/31\n",
      "Planning for agent 1/31\n",
      "Planning for agent 2/31\n",
      "Planning for agent 3/31\n",
      "Planning for agent 4/31\n",
      "Planning for agent 5/31\n",
      "Planning for agent 6/31\n",
      "MILP low-level encounters infeasibility.\n",
      "On time for algorithm Seq_Tube N agent =  31\n",
      "Env: Room.pkl Alg: Seq_S2M2 N agent: 31\n",
      "Planning for agent 0/31\n",
      "Planning for agent 1/31\n",
      "Planning for agent 2/31\n",
      "Planning for agent 3/31\n",
      "Planning for agent 4/31\n",
      "Planning for agent 5/31\n",
      "Planning for agent 6/31\n",
      "Planning for agent 7/31\n",
      "Planning for agent 8/31\n",
      "Planning for agent 9/31\n",
      "Planning for agent 10/31\n",
      "Planning for agent 11/31\n",
      "Algorithm timeout\n",
      "Time out for algorithm Seq_S2M2 N agent =  31\n",
      "Env: SingleTunnel.pkl Alg: Seq_Tube N agent: 1\n",
      "Planning for agent 0/1\n",
      "On time for algorithm Seq_Tube N agent =  1\n",
      "Env: SingleTunnel.pkl Alg: Seq_Tube_nonLazy N agent: 1\n",
      "Planning for agent 0/1\n",
      "On time for algorithm Seq_Tube_nonLazy N agent =  1\n",
      "Env: SingleTunnel.pkl Alg: Seq_S2M2 N agent: 1\n",
      "Planning for agent 0/1\n",
      "On time for algorithm Seq_S2M2 N agent =  1\n",
      "Env: SingleTunnel.pkl Alg: ST-RRT* N agent: 1\n",
      "Planning for agent 0/1\n",
      "Debug:   SpaceTimeRRT: Planner range detected to be inf\n",
      "Info:    SpaceTimeRRT: Starting planning with 1 states already in datastructure\n",
      "Info:    SpaceTimeRRT: Starting planning with time bound factor 2.00\n"
     ]
    },
    {
     "name": "stderr",
     "output_type": "stream",
     "text": [
      "Warning: State validity checker not set! No collision checking is performed\n",
      "         at line 63 in /Users/tianpengzhang/Desktop/ompl/src/ompl/base/src/SpaceInformation.cpp\n"
     ]
    },
    {
     "name": "stdout",
     "output_type": "stream",
     "text": [
      "On time for algorithmInfo:    SpaceTimeRRT: Created 190 states (80 start + 110 goal)\n",
      " ST-RRT* N agent =  1\n",
      "Env: SingleTunnel.pkl Alg: Seq_Tube N agent: 11\n",
      "Planning for agent 0/11\n",
      "Planning for agent 1/11\n",
      "Planning for agent 2/11\n",
      "Planning for agent 3/11\n",
      "Planning for agent 4/11\n",
      "Planning for agent 5/11\n",
      "Planning for agent 6/11\n",
      "Planning for agent 7/11\n",
      "Planning for agent 8/11\n",
      "Planning for agent 9/11\n",
      "Planning for agent 10/11\n",
      "On time for algorithm Seq_Tube N agent =  11\n",
      "Env: SingleTunnel.pkl Alg: Seq_Tube_nonLazy N agent: 11\n",
      "Planning for agent 0/11\n",
      "Planning for agent 1/11\n",
      "Planning for agent 2/11\n",
      "Planning for agent 3/11\n",
      "Planning for agent 4/11\n",
      "Planning for agent 5/11\n",
      "Planning for agent 6/11\n",
      "Planning for agent 7/11\n",
      "Planning for agent 8/11\n",
      "Planning for agent 9/11\n",
      "Planning for agent 10/11\n",
      "Algorithm timeout\n",
      "Time out for algorithm Seq_Tube_nonLazy N agent =  11\n",
      "Env: SingleTunnel.pkl Alg: Seq_S2M2 N agent: 11\n",
      "Planning for agent 0/11\n",
      "Planning for agent 1/11\n",
      "Planning for agent 2/11\n",
      "On time for algorithm Seq_S2M2 N agent =  11\n",
      "Env: SingleTunnel.pkl Alg: ST-RRT* N agent: 11\n",
      "Planning for agent 0/11\n",
      "Debug:   SpaceTimeRRT: Planner range detected to be inf\n",
      "Info:    SpaceTimeRRT: Starting planning with 1 states already in datastructure\n",
      "Info:    SpaceTimeRRT: Starting planning with time bound factor 2.00\n",
      "Planning for agent 1/11\n",
      "Info:    SpaceTimeRRT: Created 126 states (59 start + 67 goal)\n",
      "Debug:   SpaceTimeRRT: Planner range detected to be inf\n",
      "Info:    SpaceTimeRRT: Starting planning with 1 states already in datastructure\n",
      "Info:    SpaceTimeRRT: Starting planning with time bound factor 2.00\n"
     ]
    },
    {
     "name": "stderr",
     "output_type": "stream",
     "text": [
      "Warning: State validity checker not set! No collision checking is performed\n",
      "         at line 63 in /Users/tianpengzhang/Desktop/ompl/src/ompl/base/src/SpaceInformation.cpp\n",
      "Warning: State validity checker not set! No collision checking is performed\n",
      "         at line 63 in /Users/tianpengzhang/Desktop/ompl/src/ompl/base/src/SpaceInformation.cpp\n"
     ]
    },
    {
     "name": "stdout",
     "output_type": "stream",
     "text": [
      "Planning for agent 2/11Info:    SpaceTimeRRT: Created 158 states (63 start + 95 goal)\n",
      "\n",
      "Debug:   SpaceTimeRRT: Planner range detected to be inf\n",
      "Info:    SpaceTimeRRT: Starting planning with 1 states already in datastructure\n",
      "Info:    SpaceTimeRRT: Starting planning with time bound factor 2.00\n"
     ]
    },
    {
     "name": "stderr",
     "output_type": "stream",
     "text": [
      "Warning: State validity checker not set! No collision checking is performed\n",
      "         at line 63 in /Users/tianpengzhang/Desktop/ompl/src/ompl/base/src/SpaceInformation.cpp\n"
     ]
    },
    {
     "name": "stdout",
     "output_type": "stream",
     "text": [
      "Planning for agent 3/11Info:    SpaceTimeRRT: Created 260 states (96 start + 164 goal)\n",
      "\n",
      "Debug:   SpaceTimeRRT: Planner range detected to be inf\n",
      "Info:    SpaceTimeRRT: Starting planning with 1 states already in datastructure\n",
      "Info:    SpaceTimeRRT: Starting planning with time bound factor 2.00\n"
     ]
    },
    {
     "name": "stderr",
     "output_type": "stream",
     "text": [
      "Warning: State validity checker not set! No collision checking is performed\n",
      "         at line 63 in /Users/tianpengzhang/Desktop/ompl/src/ompl/base/src/SpaceInformation.cpp\n"
     ]
    },
    {
     "name": "stdout",
     "output_type": "stream",
     "text": [
      "Planning for agent 4/11Info:    SpaceTimeRRT: Created 278 states (111 start + 167 goal)\n",
      "\n",
      "Debug:   SpaceTimeRRT: Planner range detected to be inf\n",
      "Info:    SpaceTimeRRT: Starting planning with 1 states already in datastructure\n",
      "Info:    SpaceTimeRRT: Starting planning with time bound factor 2.00\n"
     ]
    },
    {
     "name": "stderr",
     "output_type": "stream",
     "text": [
      "Warning: State validity checker not set! No collision checking is performed\n",
      "         at line 63 in /Users/tianpengzhang/Desktop/ompl/src/ompl/base/src/SpaceInformation.cpp\n"
     ]
    },
    {
     "name": "stdout",
     "output_type": "stream",
     "text": [
      "Planning for agent 5/11Info:    SpaceTimeRRT: Created 452 states (192 start + 260 goal)\n",
      "\n",
      "Debug:   SpaceTimeRRT: Planner range detected to be inf\n",
      "Info:    SpaceTimeRRT: Starting planning with 1 states already in datastructure\n",
      "Info:    SpaceTimeRRT: Starting planning with time bound factor 2.00\n"
     ]
    },
    {
     "name": "stderr",
     "output_type": "stream",
     "text": [
      "Warning: State validity checker not set! No collision checking is performed\n",
      "         at line 63 in /Users/tianpengzhang/Desktop/ompl/src/ompl/base/src/SpaceInformation.cpp\n"
     ]
    },
    {
     "name": "stdout",
     "output_type": "stream",
     "text": [
      "Planning for agent 6/11Info:    SpaceTimeRRT: Created 241 states (102 start + 139 goal)\n",
      "\n",
      "Debug:   SpaceTimeRRT: Planner range detected to be inf\n",
      "Info:    SpaceTimeRRT: Starting planning with 1 states already in datastructure\n",
      "Info:    SpaceTimeRRT: Starting planning with time bound factor 2.00\n"
     ]
    },
    {
     "name": "stderr",
     "output_type": "stream",
     "text": [
      "Warning: State validity checker not set! No collision checking is performed\n",
      "         at line 63 in /Users/tianpengzhang/Desktop/ompl/src/ompl/base/src/SpaceInformation.cpp\n"
     ]
    },
    {
     "name": "stdout",
     "output_type": "stream",
     "text": [
      "Planning for agent 7/11Info:    SpaceTimeRRT: Created 324 states (117 start + 207 goal)\n",
      "\n",
      "Debug:   SpaceTimeRRT: Planner range detected to be inf\n",
      "Info:    SpaceTimeRRT: Starting planning with 1 states already in datastructure\n",
      "Info:    SpaceTimeRRT: Starting planning with time bound factor 2.00\n",
      "Planning for agent 8/11\n",
      "Info:    SpaceTimeRRT: Created 44 states (15 start + 29 goal)\n",
      "Debug:   SpaceTimeRRT: Planner range detected to be inf\n",
      "Info:    SpaceTimeRRT: Starting planning with 1 states already in datastructure\n",
      "Info:    SpaceTimeRRT: Starting planning with time bound factor 2.00\n"
     ]
    },
    {
     "name": "stderr",
     "output_type": "stream",
     "text": [
      "Warning: State validity checker not set! No collision checking is performed\n",
      "         at line 63 in /Users/tianpengzhang/Desktop/ompl/src/ompl/base/src/SpaceInformation.cpp\n",
      "Warning: State validity checker not set! No collision checking is performed\n",
      "         at line 63 in /Users/tianpengzhang/Desktop/ompl/src/ompl/base/src/SpaceInformation.cpp\n"
     ]
    },
    {
     "name": "stdout",
     "output_type": "stream",
     "text": [
      "Planning for agent 9/11Info:    SpaceTimeRRT: Created 352 states (180 start + 172 goal)\n",
      "\n",
      "Debug:   SpaceTimeRRT: Planner range detected to be inf\n",
      "Info:    SpaceTimeRRT: Starting planning with 1 states already in datastructure\n",
      "Info:    SpaceTimeRRT: Starting planning with time bound factor 2.00\n"
     ]
    },
    {
     "name": "stderr",
     "output_type": "stream",
     "text": [
      "Warning: State validity checker not set! No collision checking is performed\n",
      "         at line 63 in /Users/tianpengzhang/Desktop/ompl/src/ompl/base/src/SpaceInformation.cpp\n"
     ]
    },
    {
     "name": "stdout",
     "output_type": "stream",
     "text": [
      "Planning for agent 10/11Info:    SpaceTimeRRT: Created 465 states (206 start + 259 goal)\n",
      "\n",
      "Debug:   SpaceTimeRRT: Planner range detected to be inf\n",
      "Info:    SpaceTimeRRT: Starting planning with 1 states already in datastructure\n",
      "Info:    SpaceTimeRRT: Starting planning with time bound factor 2.00\n"
     ]
    },
    {
     "name": "stderr",
     "output_type": "stream",
     "text": [
      "Warning: State validity checker not set! No collision checking is performed\n",
      "         at line 63 in /Users/tianpengzhang/Desktop/ompl/src/ompl/base/src/SpaceInformation.cpp\n"
     ]
    },
    {
     "name": "stdout",
     "output_type": "stream",
     "text": [
      "Info:    SpaceTimeRRT: Increased time bound factor to 4.00\n",
      "On time for algorithmInfo:    SpaceTimeRRT: Created 585 states (264 start + 321 goal)\n",
      " ST-RRT* N agent =  11\n",
      "Env: SingleTunnel.pkl Alg: Seq_Tube N agent: 21\n",
      "Planning for agent 0/21\n",
      "Planning for agent 1/21\n",
      "Planning for agent 2/21\n",
      "Planning for agent 3/21\n",
      "Planning for agent 4/21\n",
      "Planning for agent 5/21\n",
      "Planning for agent 6/21\n",
      "Planning for agent 7/21\n",
      "Planning for agent 8/21\n",
      "Planning for agent 9/21\n",
      "Planning for agent 10/21\n",
      "Planning for agent 11/21\n",
      "Algorithm timeout\n",
      "Time out for algorithm Seq_Tube N agent =  21\n",
      "Env: SingleTunnel.pkl Alg: Seq_S2M2 N agent: 21\n",
      "Planning for agent 0/21\n",
      "Planning for agent 1/21\n",
      "Planning for agent 2/21\n",
      "On time for algorithm Seq_S2M2 N agent =  21\n",
      "Env: SingleTunnel.pkl Alg: ST-RRT* N agent: 21\n",
      "Planning for agent 0/21\n",
      "Debug:   SpaceTimeRRT: Planner range detected to be inf\n",
      "Info:    SpaceTimeRRT: Starting planning with 1 states already in datastructure\n",
      "Info:    SpaceTimeRRT: Starting planning with time bound factor 2.00\n",
      "Planning for agent 1/21\n",
      "Info:    SpaceTimeRRT: Created 102 states (44 start + 58 goal)\n",
      "Debug:   SpaceTimeRRT: Planner range detected to be inf\n",
      "Info:    SpaceTimeRRT: Starting planning with 1 states already in datastructure\n",
      "Info:    SpaceTimeRRT: Starting planning with time bound factor 2.00\n"
     ]
    },
    {
     "name": "stderr",
     "output_type": "stream",
     "text": [
      "Warning: State validity checker not set! No collision checking is performed\n",
      "         at line 63 in /Users/tianpengzhang/Desktop/ompl/src/ompl/base/src/SpaceInformation.cpp\n",
      "Warning: State validity checker not set! No collision checking is performed\n",
      "         at line 63 in /Users/tianpengzhang/Desktop/ompl/src/ompl/base/src/SpaceInformation.cpp\n"
     ]
    },
    {
     "name": "stdout",
     "output_type": "stream",
     "text": [
      "Planning for agent 2/21Info:    SpaceTimeRRT: Created 182 states (86 start + 96 goal)\n",
      "\n",
      "Debug:   SpaceTimeRRT: Planner range detected to be inf\n",
      "Info:    SpaceTimeRRT: Starting planning with 1 states already in datastructure\n",
      "Info:    SpaceTimeRRT: Starting planning with time bound factor 2.00\n",
      "Planning for agent 3/21\n",
      "Info:    SpaceTimeRRT: Created 85 states (32 start + 53 goal)\n",
      "Debug:   SpaceTimeRRT: Planner range detected to be inf\n",
      "Info:    SpaceTimeRRT: Starting planning with 1 states already in datastructure\n",
      "Info:    SpaceTimeRRT: Starting planning with time bound factor 2.00\n"
     ]
    },
    {
     "name": "stderr",
     "output_type": "stream",
     "text": [
      "Warning: State validity checker not set! No collision checking is performed\n",
      "         at line 63 in /Users/tianpengzhang/Desktop/ompl/src/ompl/base/src/SpaceInformation.cpp\n",
      "Warning: State validity checker not set! No collision checking is performed\n",
      "         at line 63 in /Users/tianpengzhang/Desktop/ompl/src/ompl/base/src/SpaceInformation.cpp\n"
     ]
    },
    {
     "name": "stdout",
     "output_type": "stream",
     "text": [
      "Planning for agent 4/21Info:    SpaceTimeRRT: Created 225 states (99 start + 126 goal)\n",
      "\n",
      "Debug:   SpaceTimeRRT: Planner range detected to be inf\n",
      "Info:    SpaceTimeRRT: Starting planning with 1 states already in datastructure\n",
      "Info:    SpaceTimeRRT: Starting planning with time bound factor 2.00\n"
     ]
    },
    {
     "name": "stderr",
     "output_type": "stream",
     "text": [
      "Warning: State validity checker not set! No collision checking is performed\n",
      "         at line 63 in /Users/tianpengzhang/Desktop/ompl/src/ompl/base/src/SpaceInformation.cpp\n"
     ]
    },
    {
     "name": "stdout",
     "output_type": "stream",
     "text": [
      "Planning for agent 5/21Info:    SpaceTimeRRT: Created 179 states (65 start + 114 goal)\n",
      "\n",
      "Debug:   SpaceTimeRRT: Planner range detected to be inf\n",
      "Info:    SpaceTimeRRT: Starting planning with 1 states already in datastructure\n",
      "Info:    SpaceTimeRRT: Starting planning with time bound factor 2.00\n",
      "Planning for agent 6/21\n",
      "Info:    SpaceTimeRRT: Created 74 states (32 start + 42 goal)\n",
      "Debug:   SpaceTimeRRT: Planner range detected to be inf\n",
      "Info:    SpaceTimeRRT: Starting planning with 1 states already in datastructure\n",
      "Info:    SpaceTimeRRT: Starting planning with time bound factor 2.00\n"
     ]
    },
    {
     "name": "stderr",
     "output_type": "stream",
     "text": [
      "Warning: State validity checker not set! No collision checking is performed\n",
      "         at line 63 in /Users/tianpengzhang/Desktop/ompl/src/ompl/base/src/SpaceInformation.cpp\n",
      "Warning: State validity checker not set! No collision checking is performed\n",
      "         at line 63 in /Users/tianpengzhang/Desktop/ompl/src/ompl/base/src/SpaceInformation.cpp\n"
     ]
    },
    {
     "name": "stdout",
     "output_type": "stream",
     "text": [
      "Planning for agent 7/21Info:    SpaceTimeRRT: Created 149 states (66 start + 83 goal)\n",
      "\n",
      "Debug:   SpaceTimeRRT: Planner range detected to be inf\n",
      "Info:    SpaceTimeRRT: Starting planning with 1 states already in datastructure\n",
      "Info:    SpaceTimeRRT: Starting planning with time bound factor 2.00\n",
      "Planning for agent 8/21\n",
      "Info:    SpaceTimeRRT: Created 21 states (7 start + 14 goal)\n",
      "Debug:   SpaceTimeRRT: Planner range detected to be inf\n",
      "Info:    SpaceTimeRRT: Starting planning with 1 states already in datastructure\n",
      "Info:    SpaceTimeRRT: Starting planning with time bound factor 2.00\n"
     ]
    },
    {
     "name": "stderr",
     "output_type": "stream",
     "text": [
      "Warning: State validity checker not set! No collision checking is performed\n",
      "         at line 63 in /Users/tianpengzhang/Desktop/ompl/src/ompl/base/src/SpaceInformation.cpp\n",
      "Warning: State validity checker not set! No collision checking is performed\n",
      "         at line 63 in /Users/tianpengzhang/Desktop/ompl/src/ompl/base/src/SpaceInformation.cpp\n"
     ]
    },
    {
     "name": "stdout",
     "output_type": "stream",
     "text": [
      "Planning for agent 9/21Info:    SpaceTimeRRT: Created 99 states (44 start + 55 goal)\n",
      "\n",
      "Debug:   SpaceTimeRRT: Planner range detected to be inf\n",
      "Info:    SpaceTimeRRT: Starting planning with 1 states already in datastructure\n",
      "Info:    SpaceTimeRRT: Starting planning with time bound factor 2.00\n"
     ]
    },
    {
     "name": "stderr",
     "output_type": "stream",
     "text": [
      "Warning: State validity checker not set! No collision checking is performed\n",
      "         at line 63 in /Users/tianpengzhang/Desktop/ompl/src/ompl/base/src/SpaceInformation.cpp\n"
     ]
    },
    {
     "name": "stdout",
     "output_type": "stream",
     "text": [
      "Planning for agent 10/21Info:    SpaceTimeRRT: Created 171 states (81 start + 90 goal)\n",
      "\n",
      "Debug:   SpaceTimeRRT: Planner range detected to be inf\n",
      "Info:    SpaceTimeRRT: Starting planning with 1 states already in datastructure\n",
      "Info:    SpaceTimeRRT: Starting planning with time bound factor 2.00\n"
     ]
    },
    {
     "name": "stderr",
     "output_type": "stream",
     "text": [
      "Warning: State validity checker not set! No collision checking is performed\n",
      "         at line 63 in /Users/tianpengzhang/Desktop/ompl/src/ompl/base/src/SpaceInformation.cpp\n"
     ]
    },
    {
     "name": "stdout",
     "output_type": "stream",
     "text": [
      "Planning for agent 11/21Info:    SpaceTimeRRT: Created 339 states (143 start + 196 goal)\n",
      "\n",
      "Debug:   SpaceTimeRRT: Planner range detected to be inf\n",
      "Info:    SpaceTimeRRT: Starting planning with 1 states already in datastructure\n",
      "Info:    SpaceTimeRRT: Starting planning with time bound factor 2.00\n"
     ]
    },
    {
     "name": "stderr",
     "output_type": "stream",
     "text": [
      "Warning: State validity checker not set! No collision checking is performed\n",
      "         at line 63 in /Users/tianpengzhang/Desktop/ompl/src/ompl/base/src/SpaceInformation.cpp\n"
     ]
    },
    {
     "name": "stdout",
     "output_type": "stream",
     "text": [
      "Planning for agent 12/21Info:    SpaceTimeRRT: Created 332 states (153 start + 179 goal)\n",
      "\n",
      "Debug:   SpaceTimeRRT: Planner range detected to be inf\n",
      "Info:    SpaceTimeRRT: Starting planning with 1 states already in datastructure\n",
      "Info:    SpaceTimeRRT: Starting planning with time bound factor 2.00\n"
     ]
    },
    {
     "name": "stderr",
     "output_type": "stream",
     "text": [
      "Warning: State validity checker not set! No collision checking is performed\n",
      "         at line 63 in /Users/tianpengzhang/Desktop/ompl/src/ompl/base/src/SpaceInformation.cpp\n"
     ]
    },
    {
     "name": "stdout",
     "output_type": "stream",
     "text": [
      "Info:    SpaceTimeRRT: Increased time bound factor to 4.00\n",
      "Planning for agent 13/21\n",
      "Info:    SpaceTimeRRT: Created 527 states (251 start + 276 goal)\n",
      "Debug:   SpaceTimeRRT: Planner range detected to be inf\n",
      "Info:    SpaceTimeRRT: Starting planning with 1 states already in datastructure\n",
      "Info:    SpaceTimeRRT: Starting planning with time bound factor 2.00\n"
     ]
    },
    {
     "name": "stderr",
     "output_type": "stream",
     "text": [
      "Warning: State validity checker not set! No collision checking is performed\n",
      "         at line 63 in /Users/tianpengzhang/Desktop/ompl/src/ompl/base/src/SpaceInformation.cpp\n"
     ]
    },
    {
     "name": "stdout",
     "output_type": "stream",
     "text": [
      "Info:    SpaceTimeRRT: Increased time bound factor to 4.00\n",
      "Planning for agent 14/21Info:    SpaceTimeRRT: Created 640 states (276 start + 364 goal)\n",
      "\n",
      "Debug:   SpaceTimeRRT: Planner range detected to be inf\n",
      "Info:    SpaceTimeRRT: Starting planning with 1 states already in datastructure\n",
      "Info:    SpaceTimeRRT: Starting planning with time bound factor 2.00\n"
     ]
    },
    {
     "name": "stderr",
     "output_type": "stream",
     "text": [
      "Warning: State validity checker not set! No collision checking is performed\n",
      "         at line 63 in /Users/tianpengzhang/Desktop/ompl/src/ompl/base/src/SpaceInformation.cpp\n"
     ]
    },
    {
     "name": "stdout",
     "output_type": "stream",
     "text": [
      "Info:    SpaceTimeRRT: Increased time bound factor to 4.00\n",
      "Algorithm timeout\n",
      "Timeout\n",
      "Time out for algorithm ST-RRT* N agent =  21\n",
      "Env: SingleTunnel.pkl Alg: Seq_S2M2 N agent: 31\n",
      "Planning for agent 0/31\n",
      "Planning for agent 1/31\n",
      "Planning for agent 2/31\n",
      "On time for algorithm Seq_S2M2 N agent =  31\n",
      "Env: Warehouse.pkl Alg: Seq_Tube N agent: 1\n",
      "Planning for agent 0/1\n",
      "On time for algorithm Seq_Tube N agent =  1\n",
      "Env: Warehouse.pkl Alg: Seq_Tube_nonLazy N agent: 1\n",
      "Planning for agent 0/1\n",
      "On time for algorithm Seq_Tube_nonLazy N agent =  1\n",
      "Env: Warehouse.pkl Alg: Seq_S2M2 N agent: 1\n",
      "Planning for agent 0/1\n",
      "On time for algorithm Seq_S2M2 N agent =  1\n",
      "Env: Warehouse.pkl Alg: ST-RRT* N agent: 1\n",
      "Planning for agent 0/1\n",
      "Debug:   SpaceTimeRRT: Planner range detected to be inf\n",
      "Info:    SpaceTimeRRT: Starting planning with 1 states already in datastructure\n",
      "Info:    SpaceTimeRRT: Starting planning with time bound factor 2.00\n"
     ]
    },
    {
     "name": "stderr",
     "output_type": "stream",
     "text": [
      "Warning: State validity checker not set! No collision checking is performed\n",
      "         at line 63 in /Users/tianpengzhang/Desktop/ompl/src/ompl/base/src/SpaceInformation.cpp\n"
     ]
    },
    {
     "name": "stdout",
     "output_type": "stream",
     "text": [
      "On time for algorithmInfo:    SpaceTimeRRT: Created 117 states (42 start + 75 goal)\n",
      " ST-RRT* N agent =  1\n",
      "Env: Warehouse.pkl Alg: Seq_Tube N agent: 11\n",
      "Planning for agent 0/11\n",
      "Planning for agent 1/11\n",
      "Planning for agent 2/11\n",
      "Planning for agent 3/11\n",
      "Planning for agent 4/11\n",
      "Planning for agent 5/11\n",
      "Planning for agent 6/11\n",
      "Planning for agent 7/11\n",
      "Planning for agent 8/11\n",
      "Planning for agent 9/11\n",
      "Planning for agent 10/11\n",
      "On time for algorithm Seq_Tube N agent =  11\n",
      "Env: Warehouse.pkl Alg: Seq_Tube_nonLazy N agent: 11\n",
      "Planning for agent 0/11\n",
      "Planning for agent 1/11\n",
      "Planning for agent 2/11\n",
      "Planning for agent 3/11\n",
      "Planning for agent 4/11\n",
      "Planning for agent 5/11\n",
      "Planning for agent 6/11\n",
      "Planning for agent 7/11\n",
      "Planning for agent 8/11\n",
      "Planning for agent 9/11\n",
      "Planning for agent 10/11\n",
      "On time for algorithm Seq_Tube_nonLazy N agent =  11\n",
      "Env: Warehouse.pkl Alg: Seq_S2M2 N agent: 11\n",
      "Planning for agent 0/11\n",
      "Planning for agent 1/11\n",
      "Planning for agent 2/11\n",
      "On time for algorithm Seq_S2M2 N agent =  11\n",
      "Env: Warehouse.pkl Alg: ST-RRT* N agent: 11\n",
      "Planning for agent 0/11\n",
      "Debug:   SpaceTimeRRT: Planner range detected to be inf\n",
      "Info:    SpaceTimeRRT: Starting planning with 1 states already in datastructure\n",
      "Info:    SpaceTimeRRT: Starting planning with time bound factor 2.00\n",
      "Planning for agent 1/11\n",
      "Info:    SpaceTimeRRT: Created 91 states (38 start + 53 goal)\n",
      "Debug:   SpaceTimeRRT: Planner range detected to be inf\n",
      "Info:    SpaceTimeRRT: Starting planning with 1 states already in datastructure\n",
      "Info:    SpaceTimeRRT: Starting planning with time bound factor 2.00\n",
      "Planning for agent 2/11\n"
     ]
    },
    {
     "name": "stderr",
     "output_type": "stream",
     "text": [
      "Warning: State validity checker not set! No collision checking is performed\n",
      "         at line 63 in /Users/tianpengzhang/Desktop/ompl/src/ompl/base/src/SpaceInformation.cpp\n",
      "Warning: State validity checker not set! No collision checking is performed\n",
      "         at line 63 in /Users/tianpengzhang/Desktop/ompl/src/ompl/base/src/SpaceInformation.cpp\n",
      "Warning: State validity checker not set! No collision checking is performed\n",
      "         at line 63 in /Users/tianpengzhang/Desktop/ompl/src/ompl/base/src/SpaceInformation.cpp\n"
     ]
    },
    {
     "name": "stdout",
     "output_type": "stream",
     "text": [
      "Info:    SpaceTimeRRT: Created 93 states (43 start + 50 goal)\n",
      "Debug:   SpaceTimeRRT: Planner range detected to be inf\n",
      "Info:    SpaceTimeRRT: Starting planning with 1 states already in datastructure\n",
      "Info:    SpaceTimeRRT: Starting planning with time bound factor 2.00\n",
      "Planning for agent 3/11\n",
      "Info:    SpaceTimeRRT: Created 55 states (17 start + 38 goal)\n",
      "Debug:   SpaceTimeRRT: Planner range detected to be inf\n",
      "Info:    SpaceTimeRRT: Starting planning with 1 states already in datastructure\n",
      "Info:    SpaceTimeRRT: Starting planning with time bound factor 2.00\n",
      "Planning for agent 4/11\n"
     ]
    },
    {
     "name": "stderr",
     "output_type": "stream",
     "text": [
      "Warning: State validity checker not set! No collision checking is performed\n",
      "         at line 63 in /Users/tianpengzhang/Desktop/ompl/src/ompl/base/src/SpaceInformation.cpp\n",
      "Warning: State validity checker not set! No collision checking is performed\n",
      "         at line 63 in /Users/tianpengzhang/Desktop/ompl/src/ompl/base/src/SpaceInformation.cpp\n"
     ]
    },
    {
     "name": "stdout",
     "output_type": "stream",
     "text": [
      "Info:    SpaceTimeRRT: Created 52 states (29 start + 23 goal)\n",
      "Debug:   SpaceTimeRRT: Planner range detected to be inf\n",
      "Info:    SpaceTimeRRT: Starting planning with 1 states already in datastructure\n",
      "Info:    SpaceTimeRRT: Starting planning with time bound factor 2.00\n",
      "Planning for agent 5/11\n",
      "Info:    SpaceTimeRRT: Created 56 states (24 start + 32 goal)\n",
      "Debug:   SpaceTimeRRT: Planner range detected to be inf\n",
      "Info:    SpaceTimeRRT: Starting planning with 1 states already in datastructure\n",
      "Info:    SpaceTimeRRT: Starting planning with time bound factor 2.00\n"
     ]
    },
    {
     "name": "stderr",
     "output_type": "stream",
     "text": [
      "Warning: State validity checker not set! No collision checking is performed\n",
      "         at line 63 in /Users/tianpengzhang/Desktop/ompl/src/ompl/base/src/SpaceInformation.cpp\n",
      "Warning: State validity checker not set! No collision checking is performed\n",
      "         at line 63 in /Users/tianpengzhang/Desktop/ompl/src/ompl/base/src/SpaceInformation.cpp\n"
     ]
    },
    {
     "name": "stdout",
     "output_type": "stream",
     "text": [
      "Planning for agent 6/11Info:    SpaceTimeRRT: Created 43 states (21 start + 22 goal)\n",
      "\n",
      "Debug:   SpaceTimeRRT: Planner range detected to be inf\n",
      "Info:    SpaceTimeRRT: Starting planning with 1 states already in datastructure\n",
      "Info:    SpaceTimeRRT: Starting planning with time bound factor 2.00\n",
      "Planning for agent 7/11\n",
      "Info:    SpaceTimeRRT: Created 70 states (34 start + 36 goal)\n",
      "Debug:   SpaceTimeRRT: Planner range detected to be inf\n",
      "Info:    SpaceTimeRRT: Starting planning with 1 states already in datastructure\n",
      "Info:    SpaceTimeRRT: Starting planning with time bound factor 2.00\n"
     ]
    },
    {
     "name": "stderr",
     "output_type": "stream",
     "text": [
      "Warning: State validity checker not set! No collision checking is performed\n",
      "         at line 63 in /Users/tianpengzhang/Desktop/ompl/src/ompl/base/src/SpaceInformation.cpp\n",
      "Warning: State validity checker not set! No collision checking is performed\n",
      "         at line 63 in /Users/tianpengzhang/Desktop/ompl/src/ompl/base/src/SpaceInformation.cpp\n"
     ]
    },
    {
     "name": "stdout",
     "output_type": "stream",
     "text": [
      "Planning for agent 8/11Info:    SpaceTimeRRT: Created 48 states (18 start + 30 goal)\n",
      "\n",
      "Debug:   SpaceTimeRRT: Planner range detected to be inf\n",
      "Info:    SpaceTimeRRT: Starting planning with 1 states already in datastructure\n",
      "Info:    SpaceTimeRRT: Starting planning with time bound factor 2.00\n",
      "Planning for agent 9/11\n",
      "Info:    SpaceTimeRRT: Created 41 states (20 start + 21 goal)\n",
      "Debug:   SpaceTimeRRT: Planner range detected to be inf\n",
      "Info:    SpaceTimeRRT: Starting planning with 1 states already in datastructure\n",
      "Info:    SpaceTimeRRT: Starting planning with time bound factor 2.00\n",
      "Planning for agent 10/11\n",
      "Info:    SpaceTimeRRT: Created 33 states (15 start + 18 goal)\n",
      "Debug:   SpaceTimeRRT: Planner range detected to be inf\n",
      "Info:    SpaceTimeRRT: Starting planning with 1 states already in datastructure\n",
      "Info:    SpaceTimeRRT: Starting planning with time bound factor 2.00\n"
     ]
    },
    {
     "name": "stderr",
     "output_type": "stream",
     "text": [
      "Warning: State validity checker not set! No collision checking is performed\n",
      "         at line 63 in /Users/tianpengzhang/Desktop/ompl/src/ompl/base/src/SpaceInformation.cpp\n",
      "Warning: State validity checker not set! No collision checking is performed\n",
      "         at line 63 in /Users/tianpengzhang/Desktop/ompl/src/ompl/base/src/SpaceInformation.cpp\n"
     ]
    },
    {
     "name": "stdout",
     "output_type": "stream",
     "text": [
      "On time for algorithmInfo:    SpaceTimeRRT: Created 59 states (23 start + 36 goal)\n",
      " ST-RRT* N agent =  11\n",
      "Env: Warehouse.pkl Alg: Seq_Tube N agent: 21\n",
      "Planning for agent 0/21\n",
      "Planning for agent 1/21\n",
      "Planning for agent 2/21\n",
      "Planning for agent 3/21\n",
      "Planning for agent 4/21\n",
      "Planning for agent 5/21\n",
      "Planning for agent 6/21\n",
      "Planning for agent 7/21\n",
      "Planning for agent 8/21\n",
      "Planning for agent 9/21\n",
      "Planning for agent 10/21\n",
      "Planning for agent 11/21\n",
      "Planning for agent 12/21\n",
      "Planning for agent 13/21\n",
      "Planning for agent 14/21\n",
      "Planning for agent 15/21\n",
      "Planning for agent 16/21\n",
      "Planning for agent 17/21\n",
      "Planning for agent 18/21\n",
      "Planning for agent 19/21\n",
      "Planning for agent 20/21\n",
      "On time for algorithm Seq_Tube N agent =  21\n",
      "Env: Warehouse.pkl Alg: Seq_Tube_nonLazy N agent: 21\n",
      "Planning for agent 0/21\n",
      "Planning for agent 1/21\n",
      "Planning for agent 2/21\n",
      "Planning for agent 3/21\n",
      "Planning for agent 4/21\n",
      "Planning for agent 5/21\n",
      "Planning for agent 6/21\n",
      "Planning for agent 7/21\n",
      "Planning for agent 8/21\n",
      "Planning for agent 9/21\n",
      "Planning for agent 10/21\n",
      "Planning for agent 11/21\n",
      "Planning for agent 12/21\n",
      "Planning for agent 13/21\n",
      "Planning for agent 14/21\n",
      "Planning for agent 15/21\n",
      "Planning for agent 16/21\n",
      "Planning for agent 17/21\n",
      "Planning for agent 18/21\n",
      "Planning for agent 19/21\n",
      "Planning for agent 20/21\n",
      "Algorithm timeout\n",
      "Timeout\n",
      "Time out for algorithm Seq_Tube_nonLazy N agent =  21\n",
      "Env: Warehouse.pkl Alg: Seq_S2M2 N agent: 21\n",
      "Planning for agent 0/21\n",
      "Planning for agent 1/21\n",
      "Planning for agent 2/21\n",
      "On time for algorithm Seq_S2M2 N agent =  21\n",
      "Env: Warehouse.pkl Alg: ST-RRT* N agent: 21\n",
      "Planning for agent 0/21\n",
      "Debug:   SpaceTimeRRT: Planner range detected to be inf\n",
      "Info:    SpaceTimeRRT: Starting planning with 1 states already in datastructure\n",
      "Info:    SpaceTimeRRT: Starting planning with time bound factor 2.00\n",
      "Planning for agent 1/21\n",
      "Info:    SpaceTimeRRT: Created 97 states (39 start + 58 goal)\n",
      "Debug:   SpaceTimeRRT: Planner range detected to be inf\n",
      "Info:    SpaceTimeRRT: Starting planning with 1 states already in datastructure\n",
      "Info:    SpaceTimeRRT: Starting planning with time bound factor 2.00\n",
      "Planning for agent 2/21\n"
     ]
    },
    {
     "name": "stderr",
     "output_type": "stream",
     "text": [
      "Warning: State validity checker not set! No collision checking is performed\n",
      "         at line 63 in /Users/tianpengzhang/Desktop/ompl/src/ompl/base/src/SpaceInformation.cpp\n",
      "Warning: State validity checker not set! No collision checking is performed\n",
      "         at line 63 in /Users/tianpengzhang/Desktop/ompl/src/ompl/base/src/SpaceInformation.cpp\n",
      "Warning: State validity checker not set! No collision checking is performed\n",
      "         at line 63 in /Users/tianpengzhang/Desktop/ompl/src/ompl/base/src/SpaceInformation.cpp\n"
     ]
    },
    {
     "name": "stdout",
     "output_type": "stream",
     "text": [
      "Info:    SpaceTimeRRT: Created 83 states (28 start + 55 goal)\n",
      "Debug:   SpaceTimeRRT: Planner range detected to be inf\n",
      "Info:    SpaceTimeRRT: Starting planning with 1 states already in datastructure\n",
      "Info:    SpaceTimeRRT: Starting planning with time bound factor 2.00\n",
      "Planning for agent 3/21\n",
      "Info:    SpaceTimeRRT: Created 72 states (31 start + 41 goal)\n",
      "Debug:   SpaceTimeRRT: Planner range detected to be inf\n",
      "Info:    SpaceTimeRRT: Starting planning with 1 states already in datastructure\n",
      "Info:    SpaceTimeRRT: Starting planning with time bound factor 2.00\n",
      "Planning for agent 4/21\n"
     ]
    },
    {
     "name": "stderr",
     "output_type": "stream",
     "text": [
      "Warning: State validity checker not set! No collision checking is performed\n",
      "         at line 63 in /Users/tianpengzhang/Desktop/ompl/src/ompl/base/src/SpaceInformation.cpp\n",
      "Warning: State validity checker not set! No collision checking is performed\n",
      "         at line 63 in /Users/tianpengzhang/Desktop/ompl/src/ompl/base/src/SpaceInformation.cpp\n"
     ]
    },
    {
     "name": "stdout",
     "output_type": "stream",
     "text": [
      "Info:    SpaceTimeRRT: Created 55 states (14 start + 41 goal)\n",
      "Debug:   SpaceTimeRRT: Planner range detected to be inf\n",
      "Info:    SpaceTimeRRT: Starting planning with 1 states already in datastructure\n",
      "Info:    SpaceTimeRRT: Starting planning with time bound factor 2.00\n",
      "Planning for agent 5/21\n",
      "Info:    SpaceTimeRRT: Created 63 states (17 start + 46 goal)\n",
      "Debug:   SpaceTimeRRT: Planner range detected to be inf\n",
      "Info:    SpaceTimeRRT: Starting planning with 1 states already in datastructure\n",
      "Info:    SpaceTimeRRT: Starting planning with time bound factor 2.00\n"
     ]
    },
    {
     "name": "stderr",
     "output_type": "stream",
     "text": [
      "Warning: State validity checker not set! No collision checking is performed\n",
      "         at line 63 in /Users/tianpengzhang/Desktop/ompl/src/ompl/base/src/SpaceInformation.cpp\n",
      "Warning: State validity checker not set! No collision checking is performed\n",
      "         at line 63 in /Users/tianpengzhang/Desktop/ompl/src/ompl/base/src/SpaceInformation.cpp\n"
     ]
    },
    {
     "name": "stdout",
     "output_type": "stream",
     "text": [
      "Planning for agent 6/21Info:    SpaceTimeRRT: Created 36 states (5 start + 31 goal)\n",
      "\n",
      "Debug:   SpaceTimeRRT: Planner range detected to be inf\n",
      "Info:    SpaceTimeRRT: Starting planning with 1 states already in datastructure\n",
      "Info:    SpaceTimeRRT: Starting planning with time bound factor 2.00\n",
      "Planning for agent 7/21\n",
      "Info:    SpaceTimeRRT: Created 41 states (14 start + 27 goal)\n",
      "Debug:   SpaceTimeRRT: Planner range detected to be inf\n",
      "Info:    SpaceTimeRRT: Starting planning with 1 states already in datastructure\n",
      "Info:    SpaceTimeRRT: Starting planning with time bound factor 2.00\n"
     ]
    },
    {
     "name": "stderr",
     "output_type": "stream",
     "text": [
      "Warning: State validity checker not set! No collision checking is performed\n",
      "         at line 63 in /Users/tianpengzhang/Desktop/ompl/src/ompl/base/src/SpaceInformation.cpp\n",
      "Warning: State validity checker not set! No collision checking is performed\n",
      "         at line 63 in /Users/tianpengzhang/Desktop/ompl/src/ompl/base/src/SpaceInformation.cpp\n",
      "Warning: State validity checker not set! No collision checking is performed\n",
      "         at line 63 in /Users/tianpengzhang/Desktop/ompl/src/ompl/base/src/SpaceInformation.cpp\n"
     ]
    },
    {
     "name": "stdout",
     "output_type": "stream",
     "text": [
      "Planning for agent 8/21Info:    SpaceTimeRRT: Created 35 states (9 start + 26 goal)\n",
      "\n",
      "Debug:   SpaceTimeRRT: Planner range detected to be inf\n",
      "Info:    SpaceTimeRRT: Starting planning with 1 states already in datastructure\n",
      "Info:    SpaceTimeRRT: Starting planning with time bound factor 2.00\n",
      "Planning for agent 9/21\n",
      "Info:    SpaceTimeRRT: Created 39 states (16 start + 23 goal)\n",
      "Debug:   SpaceTimeRRT: Planner range detected to be inf\n",
      "Info:    SpaceTimeRRT: Starting planning with 1 states already in datastructure\n",
      "Info:    SpaceTimeRRT: Starting planning with time bound factor 2.00\n",
      "Planning for agent 10/21Info:    SpaceTimeRRT: Created 53 states (21 start + 32 goal)\n",
      "\n",
      "Debug:   SpaceTimeRRT: Planner range detected to be inf\n",
      "Info:    SpaceTimeRRT: Starting planning with 1 states already in datastructure\n",
      "Info:    SpaceTimeRRT: Starting planning with time bound factor 2.00\n",
      "Planning for agent 11/21\n",
      "Info:    SpaceTimeRRT: Created 33 states (12 start + 21 goal)\n",
      "Debug:   SpaceTimeRRT: Planner range detected to be inf\n",
      "Info:    SpaceTimeRRT: Starting planning with 1 states already in datastructure\n",
      "Info:    SpaceTimeRRT: Starting planning with time bound factor 2.00\n"
     ]
    },
    {
     "name": "stderr",
     "output_type": "stream",
     "text": [
      "Warning: State validity checker not set! No collision checking is performed\n",
      "         at line 63 in /Users/tianpengzhang/Desktop/ompl/src/ompl/base/src/SpaceInformation.cpp\n",
      "Warning: State validity checker not set! No collision checking is performed\n",
      "         at line 63 in /Users/tianpengzhang/Desktop/ompl/src/ompl/base/src/SpaceInformation.cpp\n"
     ]
    },
    {
     "name": "stdout",
     "output_type": "stream",
     "text": [
      "Planning for agent 12/21Info:    SpaceTimeRRT: Created 56 states (30 start + 26 goal)\n",
      "\n",
      "Debug:   SpaceTimeRRT: Planner range detected to be inf\n",
      "Info:    SpaceTimeRRT: Starting planning with 1 states already in datastructure\n",
      "Info:    SpaceTimeRRT: Starting planning with time bound factor 2.00\n"
     ]
    },
    {
     "name": "stderr",
     "output_type": "stream",
     "text": [
      "Warning: State validity checker not set! No collision checking is performed\n",
      "         at line 63 in /Users/tianpengzhang/Desktop/ompl/src/ompl/base/src/SpaceInformation.cpp\n"
     ]
    },
    {
     "name": "stdout",
     "output_type": "stream",
     "text": [
      "Planning for agent 13/21Info:    SpaceTimeRRT: Created 60 states (10 start + 50 goal)\n",
      "\n",
      "Debug:   SpaceTimeRRT: Planner range detected to be inf\n",
      "Info:    SpaceTimeRRT: Starting planning with 1 states already in datastructure\n",
      "Info:    SpaceTimeRRT: Starting planning with time bound factor 2.00\n",
      "Planning for agent 14/21\n",
      "Info:    SpaceTimeRRT: Created 29 states (15 start + 14 goal)\n",
      "Debug:   SpaceTimeRRT: Planner range detected to be inf\n",
      "Info:    SpaceTimeRRT: Starting planning with 1 states already in datastructure\n",
      "Info:    SpaceTimeRRT: Starting planning with time bound factor 2.00\n",
      "Planning for agent 15/21\n",
      "Info:    SpaceTimeRRT: Created 19 states (4 start + 15 goal)\n",
      "Debug:   SpaceTimeRRT: Planner range detected to be inf\n",
      "Info:    SpaceTimeRRT: Starting planning with 1 states already in datastructure\n",
      "Info:    SpaceTimeRRT: Starting planning with time bound factor 2.00\n"
     ]
    },
    {
     "name": "stderr",
     "output_type": "stream",
     "text": [
      "Warning: State validity checker not set! No collision checking is performed\n",
      "         at line 63 in /Users/tianpengzhang/Desktop/ompl/src/ompl/base/src/SpaceInformation.cpp\n",
      "Warning: State validity checker not set! No collision checking is performed\n",
      "         at line 63 in /Users/tianpengzhang/Desktop/ompl/src/ompl/base/src/SpaceInformation.cpp\n",
      "Warning: State validity checker not set! No collision checking is performed\n",
      "         at line 63 in /Users/tianpengzhang/Desktop/ompl/src/ompl/base/src/SpaceInformation.cpp\n"
     ]
    },
    {
     "name": "stdout",
     "output_type": "stream",
     "text": [
      "Planning for agent 16/21Info:    SpaceTimeRRT: Created 31 states (5 start + 26 goal)\n",
      "\n",
      "Debug:   SpaceTimeRRT: Planner range detected to be inf\n",
      "Info:    SpaceTimeRRT: Starting planning with 1 states already in datastructure\n",
      "Info:    SpaceTimeRRT: Starting planning with time bound factor 2.00\n",
      "Planning for agent 17/21\n",
      "Info:    SpaceTimeRRT: Created 38 states (17 start + 21 goal)\n",
      "Debug:   SpaceTimeRRT: Planner range detected to be inf\n",
      "Info:    SpaceTimeRRT: Starting planning with 1 states already in datastructure\n",
      "Info:    SpaceTimeRRT: Starting planning with time bound factor 2.00\n"
     ]
    },
    {
     "name": "stderr",
     "output_type": "stream",
     "text": [
      "Warning: State validity checker not set! No collision checking is performed\n",
      "         at line 63 in /Users/tianpengzhang/Desktop/ompl/src/ompl/base/src/SpaceInformation.cpp\n",
      "Warning: State validity checker not set! No collision checking is performed\n",
      "         at line 63 in /Users/tianpengzhang/Desktop/ompl/src/ompl/base/src/SpaceInformation.cpp\n"
     ]
    },
    {
     "name": "stdout",
     "output_type": "stream",
     "text": [
      "Planning for agent 18/21Info:    SpaceTimeRRT: Created 45 states (26 start + 19 goal)\n",
      "\n",
      "Debug:   SpaceTimeRRT: Planner range detected to be inf\n",
      "Info:    SpaceTimeRRT: Starting planning with 1 states already in datastructure\n",
      "Info:    SpaceTimeRRT: Starting planning with time bound factor 2.00\n"
     ]
    },
    {
     "name": "stderr",
     "output_type": "stream",
     "text": [
      "Warning: State validity checker not set! No collision checking is performed\n",
      "         at line 63 in /Users/tianpengzhang/Desktop/ompl/src/ompl/base/src/SpaceInformation.cpp\n"
     ]
    },
    {
     "name": "stdout",
     "output_type": "stream",
     "text": [
      "Planning for agent 19/21Info:    SpaceTimeRRT: Created 138 states (72 start + 66 goal)\n",
      "\n",
      "Debug:   SpaceTimeRRT: Planner range detected to be inf\n",
      "Info:    SpaceTimeRRT: Starting planning with 1 states already in datastructure\n",
      "Info:    SpaceTimeRRT: Starting planning with time bound factor 2.00\n",
      "Planning for agent 20/21\n",
      "Info:    SpaceTimeRRT: Created 16 states (8 start + 8 goal)\n",
      "Debug:   SpaceTimeRRT: Planner range detected to be inf\n",
      "Info:    SpaceTimeRRT: Starting planning with 1 states already in datastructure\n",
      "Info:    SpaceTimeRRT: Starting planning with time bound factor 2.00\n"
     ]
    },
    {
     "name": "stderr",
     "output_type": "stream",
     "text": [
      "Warning: State validity checker not set! No collision checking is performed\n",
      "         at line 63 in /Users/tianpengzhang/Desktop/ompl/src/ompl/base/src/SpaceInformation.cpp\n",
      "Warning: State validity checker not set! No collision checking is performed\n",
      "         at line 63 in /Users/tianpengzhang/Desktop/ompl/src/ompl/base/src/SpaceInformation.cpp\n"
     ]
    },
    {
     "name": "stdout",
     "output_type": "stream",
     "text": [
      "On time for algorithmInfo:    SpaceTimeRRT: Created 211 states (144 start + 67 goal)\n",
      " ST-RRT* N agent =  21\n",
      "Env: Warehouse.pkl Alg: Seq_Tube N agent: 31\n",
      "Planning for agent 0/31\n",
      "Planning for agent 1/31\n",
      "Planning for agent 2/31\n",
      "Planning for agent 3/31\n",
      "Planning for agent 4/31\n",
      "Planning for agent 5/31\n",
      "Planning for agent 6/31\n",
      "Planning for agent 7/31\n",
      "Planning for agent 8/31\n",
      "Planning for agent 9/31\n",
      "Planning for agent 10/31\n",
      "Planning for agent 11/31\n",
      "Planning for agent 12/31\n",
      "Planning for agent 13/31\n",
      "Planning for agent 14/31\n",
      "Planning for agent 15/31\n",
      "Planning for agent 16/31\n",
      "Planning for agent 17/31\n",
      "Planning for agent 18/31\n",
      "Planning for agent 19/31\n",
      "Planning for agent 20/31\n",
      "Planning for agent 21/31\n",
      "Planning for agent 22/31\n",
      "Planning for agent 23/31\n",
      "Planning for agent 24/31\n",
      "Planning for agent 25/31\n",
      "Planning for agent 26/31\n",
      "Planning for agent 27/31\n",
      "Planning for agent 28/31\n",
      "Planning for agent 29/31\n",
      "Planning for agent 30/31\n",
      "On time for algorithm Seq_Tube N agent =  31\n",
      "Env: Warehouse.pkl Alg: Seq_S2M2 N agent: 31\n",
      "Planning for agent 0/31\n",
      "Planning for agent 1/31\n",
      "Planning for agent 2/31\n",
      "On time for algorithm Seq_S2M2 N agent =  31\n",
      "Env: Warehouse.pkl Alg: ST-RRT* N agent: 31\n",
      "Planning for agent 0/31\n",
      "Debug:   SpaceTimeRRT: Planner range detected to be inf\n",
      "Info:    SpaceTimeRRT: Starting planning with 1 states already in datastructure\n",
      "Info:    SpaceTimeRRT: Starting planning with time bound factor 2.00\n",
      "Planning for agent 1/31\n",
      "Info:    SpaceTimeRRT: Created 125 states (52 start + 73 goal)\n",
      "Debug:   SpaceTimeRRT: Planner range detected to be inf\n",
      "Info:    SpaceTimeRRT: Starting planning with 1 states already in datastructure\n",
      "Info:    SpaceTimeRRT: Starting planning with time bound factor 2.00\n",
      "Planning for agent 2/31\n"
     ]
    },
    {
     "name": "stderr",
     "output_type": "stream",
     "text": [
      "Warning: State validity checker not set! No collision checking is performed\n",
      "         at line 63 in /Users/tianpengzhang/Desktop/ompl/src/ompl/base/src/SpaceInformation.cpp\n",
      "Warning: State validity checker not set! No collision checking is performed\n",
      "         at line 63 in /Users/tianpengzhang/Desktop/ompl/src/ompl/base/src/SpaceInformation.cpp\n",
      "Warning: State validity checker not set! No collision checking is performed\n",
      "         at line 63 in /Users/tianpengzhang/Desktop/ompl/src/ompl/base/src/SpaceInformation.cpp\n"
     ]
    },
    {
     "name": "stdout",
     "output_type": "stream",
     "text": [
      "Info:    SpaceTimeRRT: Created 79 states (40 start + 39 goal)\n",
      "Debug:   SpaceTimeRRT: Planner range detected to be inf\n",
      "Info:    SpaceTimeRRT: Starting planning with 1 states already in datastructure\n",
      "Info:    SpaceTimeRRT: Starting planning with time bound factor 2.00\n",
      "Planning for agent 3/31\n",
      "Info:    SpaceTimeRRT: Created 40 states (14 start + 26 goal)\n",
      "Debug:   SpaceTimeRRT: Planner range detected to be inf\n",
      "Info:    SpaceTimeRRT: Starting planning with 1 states already in datastructure\n",
      "Info:    SpaceTimeRRT: Starting planning with time bound factor 2.00\n",
      "Planning for agent 4/31\n",
      "Info:    SpaceTimeRRT: Created 44 states (22 start + 22 goal)\n",
      "Debug:   SpaceTimeRRT: Planner range detected to be inf\n",
      "Info:    SpaceTimeRRT: Starting planning with 1 states already in datastructure\n",
      "Info:    SpaceTimeRRT: Starting planning with time bound factor 2.00\n"
     ]
    },
    {
     "name": "stderr",
     "output_type": "stream",
     "text": [
      "Warning: State validity checker not set! No collision checking is performed\n",
      "         at line 63 in /Users/tianpengzhang/Desktop/ompl/src/ompl/base/src/SpaceInformation.cpp\n",
      "Warning: State validity checker not set! No collision checking is performed\n",
      "         at line 63 in /Users/tianpengzhang/Desktop/ompl/src/ompl/base/src/SpaceInformation.cpp\n"
     ]
    },
    {
     "name": "stdout",
     "output_type": "stream",
     "text": [
      "Planning for agent 5/31Info:    SpaceTimeRRT: Created 64 states (29 start + 35 goal)\n",
      "\n",
      "Debug:   SpaceTimeRRT: Planner range detected to be inf\n",
      "Info:    SpaceTimeRRT: Starting planning with 1 states already in datastructure\n",
      "Info:    SpaceTimeRRT: Starting planning with time bound factor 2.00\n"
     ]
    },
    {
     "name": "stderr",
     "output_type": "stream",
     "text": [
      "Warning: State validity checker not set! No collision checking is performed\n",
      "         at line 63 in /Users/tianpengzhang/Desktop/ompl/src/ompl/base/src/SpaceInformation.cpp\n"
     ]
    },
    {
     "name": "stdout",
     "output_type": "stream",
     "text": [
      "Planning for agent 6/31Info:    SpaceTimeRRT: Created 69 states (35 start + 34 goal)\n",
      "\n",
      "Debug:   SpaceTimeRRT: Planner range detected to be inf\n",
      "Info:    SpaceTimeRRT: Starting planning with 1 states already in datastructure\n",
      "Info:    SpaceTimeRRT: Starting planning with time bound factor 2.00\n",
      "Planning for agent 7/31\n",
      "Info:    SpaceTimeRRT: Created 48 states (27 start + 21 goal)\n",
      "Debug:   SpaceTimeRRT: Planner range detected to be inf\n",
      "Info:    SpaceTimeRRT: Starting planning with 1 states already in datastructure\n",
      "Info:    SpaceTimeRRT: Starting planning with time bound factor 2.00\n",
      "Planning for agent 8/31\n"
     ]
    },
    {
     "name": "stderr",
     "output_type": "stream",
     "text": [
      "Warning: State validity checker not set! No collision checking is performed\n",
      "         at line 63 in /Users/tianpengzhang/Desktop/ompl/src/ompl/base/src/SpaceInformation.cpp\n",
      "Warning: State validity checker not set! No collision checking is performed\n",
      "         at line 63 in /Users/tianpengzhang/Desktop/ompl/src/ompl/base/src/SpaceInformation.cpp\n",
      "Warning: State validity checker not set! No collision checking is performed\n",
      "         at line 63 in /Users/tianpengzhang/Desktop/ompl/src/ompl/base/src/SpaceInformation.cpp\n"
     ]
    },
    {
     "name": "stdout",
     "output_type": "stream",
     "text": [
      "Info:    SpaceTimeRRT: Created 51 states (31 start + 20 goal)\n",
      "Debug:   SpaceTimeRRT: Planner range detected to be inf\n",
      "Info:    SpaceTimeRRT: Starting planning with 1 states already in datastructure\n",
      "Info:    SpaceTimeRRT: Starting planning with time bound factor 2.00\n",
      "Planning for agent 9/31\n",
      "Info:    SpaceTimeRRT: Created 32 states (16 start + 16 goal)\n",
      "Debug:   SpaceTimeRRT: Planner range detected to be inf\n",
      "Info:    SpaceTimeRRT: Starting planning with 1 states already in datastructure\n",
      "Info:    SpaceTimeRRT: Starting planning with time bound factor 2.00\n",
      "Planning for agent 10/31\n"
     ]
    },
    {
     "name": "stderr",
     "output_type": "stream",
     "text": [
      "Warning: State validity checker not set! No collision checking is performed\n",
      "         at line 63 in /Users/tianpengzhang/Desktop/ompl/src/ompl/base/src/SpaceInformation.cpp\n",
      "Warning: State validity checker not set! No collision checking is performed\n",
      "         at line 63 in /Users/tianpengzhang/Desktop/ompl/src/ompl/base/src/SpaceInformation.cpp\n"
     ]
    },
    {
     "name": "stdout",
     "output_type": "stream",
     "text": [
      "Info:    SpaceTimeRRT: Created 45 states (18 start + 27 goal)\n",
      "Debug:   SpaceTimeRRT: Planner range detected to be inf\n",
      "Info:    SpaceTimeRRT: Starting planning with 1 states already in datastructure\n",
      "Info:    SpaceTimeRRT: Starting planning with time bound factor 2.00\n",
      "Planning for agent 11/31Info:    SpaceTimeRRT: Created 52 states (20 start + 32 goal)\n",
      "\n",
      "Debug:   SpaceTimeRRT: Planner range detected to be inf\n",
      "Info:    SpaceTimeRRT: Starting planning with 1 states already in datastructure\n",
      "Info:    SpaceTimeRRT: Starting planning with time bound factor 2.00\n",
      "Planning for agent 12/31\n",
      "Info:    SpaceTimeRRT: Created 24 states (9 start + 15 goal)\n",
      "Debug:   SpaceTimeRRT: Planner range detected to be inf\n",
      "Info:    SpaceTimeRRT: Starting planning with 1 states already in datastructure\n",
      "Info:    SpaceTimeRRT: Starting planning with time bound factor 2.00\n"
     ]
    },
    {
     "name": "stderr",
     "output_type": "stream",
     "text": [
      "Warning: State validity checker not set! No collision checking is performed\n",
      "         at line 63 in /Users/tianpengzhang/Desktop/ompl/src/ompl/base/src/SpaceInformation.cpp\n",
      "Warning: State validity checker not set! No collision checking is performed\n",
      "         at line 63 in /Users/tianpengzhang/Desktop/ompl/src/ompl/base/src/SpaceInformation.cpp\n"
     ]
    },
    {
     "name": "stdout",
     "output_type": "stream",
     "text": [
      "Planning for agent 13/31Info:    SpaceTimeRRT: Created 79 states (40 start + 39 goal)\n",
      "\n",
      "Debug:   SpaceTimeRRT: Planner range detected to be inf\n",
      "Info:    SpaceTimeRRT: Starting planning with 1 states already in datastructure\n",
      "Info:    SpaceTimeRRT: Starting planning with time bound factor 2.00\n"
     ]
    },
    {
     "name": "stderr",
     "output_type": "stream",
     "text": [
      "Warning: State validity checker not set! No collision checking is performed\n",
      "         at line 63 in /Users/tianpengzhang/Desktop/ompl/src/ompl/base/src/SpaceInformation.cpp\n"
     ]
    },
    {
     "name": "stdout",
     "output_type": "stream",
     "text": [
      "Planning for agent 14/31Info:    SpaceTimeRRT: Created 43 states (20 start + 23 goal)\n",
      "\n",
      "Debug:   SpaceTimeRRT: Planner range detected to be inf\n",
      "Info:    SpaceTimeRRT: Starting planning with 1 states already in datastructure\n",
      "Info:    SpaceTimeRRT: Starting planning with time bound factor 2.00\n",
      "Planning for agent 15/31\n",
      "Info:    SpaceTimeRRT: Created 26 states (5 start + 21 goal)\n",
      "Debug:   SpaceTimeRRT: Planner range detected to be inf\n",
      "Info:    SpaceTimeRRT: Starting planning with 1 states already in datastructure\n",
      "Info:    SpaceTimeRRT: Starting planning with time bound factor 2.00\n"
     ]
    },
    {
     "name": "stderr",
     "output_type": "stream",
     "text": [
      "Warning: State validity checker not set! No collision checking is performed\n",
      "         at line 63 in /Users/tianpengzhang/Desktop/ompl/src/ompl/base/src/SpaceInformation.cpp\n",
      "Warning: State validity checker not set! No collision checking is performed\n",
      "         at line 63 in /Users/tianpengzhang/Desktop/ompl/src/ompl/base/src/SpaceInformation.cpp\n"
     ]
    },
    {
     "name": "stdout",
     "output_type": "stream",
     "text": [
      "Planning for agent 16/31Info:    SpaceTimeRRT: Created 28 states (10 start + 18 goal)\n",
      "\n",
      "Debug:   SpaceTimeRRT: Planner range detected to be inf\n",
      "Info:    SpaceTimeRRT: Starting planning with 1 states already in datastructure\n",
      "Info:    SpaceTimeRRT: Starting planning with time bound factor 2.00\n",
      "Planning for agent 17/31\n",
      "Info:    SpaceTimeRRT: Created 13 states (6 start + 7 goal)\n",
      "Debug:   SpaceTimeRRT: Planner range detected to be inf\n",
      "Info:    SpaceTimeRRT: Starting planning with 1 states already in datastructure\n",
      "Info:    SpaceTimeRRT: Starting planning with time bound factor 2.00\n"
     ]
    },
    {
     "name": "stderr",
     "output_type": "stream",
     "text": [
      "Warning: State validity checker not set! No collision checking is performed\n",
      "         at line 63 in /Users/tianpengzhang/Desktop/ompl/src/ompl/base/src/SpaceInformation.cpp\n",
      "Warning: State validity checker not set! No collision checking is performed\n",
      "         at line 63 in /Users/tianpengzhang/Desktop/ompl/src/ompl/base/src/SpaceInformation.cpp\n"
     ]
    }
   ],
   "source": [
    "from panav.environment.utils import reduced_agents_env\n",
    "import signal\n",
    "\n",
    "def timeout_handler(signum,frame):\n",
    "    print(\"Algorithm timeout\")\n",
    "    raise TimeoutError(\"Timeout\")\n",
    "\n",
    "\n",
    "\n",
    "for fn in listdir('./envs'):\n",
    "    with open(f'./envs/{fn}','rb') as fp:\n",
    "        env_base = pkl.load(fp)\n",
    "        \n",
    "    max_n = len(env_base.starts)\n",
    "\n",
    "    results = []\n",
    "    timeouted = {alg:False for alg in algs}\n",
    "    for N in range(1,max_n+1,10):\n",
    "        env = reduced_agents_env(env_base,N)\n",
    "        for name,alg in algs.items():\n",
    "\n",
    "            if timeouted[name]:\n",
    "                continue\n",
    "            \n",
    "            print(\"Env:\", fn, \"Alg:\", name, \"N agent:\",N)\n",
    "\n",
    "            result = {}\n",
    "            \n",
    "            signal.signal(signal.SIGALRM, timeout_handler)\n",
    "            signal.alarm(TIMEOUT)\n",
    "            try:\n",
    "                t0 = time()\n",
    "                plan = alg(env)\n",
    "            except TimeoutError:\n",
    "                print(\"Timeout\")\n",
    "            signal.alarm(0)\n",
    "\n",
    "            t = time()-t0\n",
    "            \n",
    "            result['plan'] = plan\n",
    "            result['time'] = t\n",
    "\n",
    "            result['N_agent'] = N\n",
    "            result['alg_name'] = name\n",
    "\n",
    "            result[\"TIMEOUT\"]=TIMEOUT\n",
    "            result[\"env\"]=env\n",
    "\n",
    "            results.append(result)\n",
    "\n",
    "            \n",
    "            if t>TIMEOUT:\n",
    "                timeouted[name] = True\n",
    "                print(\"Time out for algorithm\", name, \"N agent = \", N)\n",
    "            else:\n",
    "                print(\"On time for algorithm\", name, \"N agent = \", N)\n",
    "\n",
    "\n",
    "        # Save checkpoint data\n",
    "        with open(\"./data/{}\".format(fn),'wb') as fp:\n",
    "            pkl.dump(results,fp)\n",
    "\n"
   ]
  },
  {
   "cell_type": "code",
   "execution_count": null,
   "id": "965c67ba",
   "metadata": {},
   "outputs": [],
   "source": []
  }
 ],
 "metadata": {
  "kernelspec": {
   "display_name": "Python 3 (ipykernel)",
   "language": "python",
   "name": "python3"
  },
  "language_info": {
   "codemirror_mode": {
    "name": "ipython",
    "version": 3
   },
   "file_extension": ".py",
   "mimetype": "text/x-python",
   "name": "python",
   "nbconvert_exporter": "python",
   "pygments_lexer": "ipython3",
   "version": "3.11.0"
  }
 },
 "nbformat": 4,
 "nbformat_minor": 5
}
