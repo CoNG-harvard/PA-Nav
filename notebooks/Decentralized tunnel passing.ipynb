{
 "cells": [
  {
   "cell_type": "markdown",
   "id": "93964b26-d9f5-45ac-9818-50cc2951a2d5",
   "metadata": {},
   "source": [
    "# Decentralized tunnel passing"
   ]
  },
  {
   "cell_type": "code",
   "execution_count": 4,
   "id": "4f6a1483-2bff-48b4-a976-d9891665966d",
   "metadata": {},
   "outputs": [
    {
     "name": "stdout",
     "output_type": "stream",
     "text": [
      "The autoreload extension is already loaded. To reload it, use:\n",
      "  %reload_ext autoreload\n"
     ]
    }
   ],
   "source": [
    "import sys\n",
    "sys.path.append('../')\n",
    "from panav.env import NavigationEnv, Box2DRegion, PolygonRegion, box_2d_center, line_seg_to_obstacle\n",
    "from panav.viz import draw_env\n",
    "from panav.tunnels import detect_tunnels\n",
    "\n",
    "import shapely\n",
    "import numpy as np\n",
    "from matplotlib import pyplot as plt\n",
    "\n",
    "from shapely.plotting import plot_polygon, plot_points, plot_line\n",
    "from shapely import Polygon,LineString,Point\n",
    "\n",
    "\n",
    "%load_ext autoreload\n",
    "%autoreload 2"
   ]
  },
  {
   "cell_type": "code",
   "execution_count": 42,
   "id": "09d2fe58-b7f4-4b16-9ad2-b8c3a81226ba",
   "metadata": {},
   "outputs": [],
   "source": [
    "\n",
    "start_box_side = np.array([1,1])\n",
    "goal_box_side = np.array([1,1])\n",
    "\n",
    "start_locs = np.array([[5,1],[-5,-1]])\n",
    "goal_locs = np.array([[-5,1],[5,-1]])\n",
    "\n",
    "starts = [box_2d_center(s,start_box_side) for s in start_locs]\n",
    "goals = [box_2d_center(g,goal_box_side) for g in goal_locs]\n",
    "\n",
    "O1 = Box2DRegion((-2.5,2.5),(0.5,10))\n",
    "O2 = Box2DRegion((-2.5,2.5),(-10,-1.0))\n",
    "\n",
    "\n",
    "limits = [(-10.0,10.0),(-10.0,10.0)]\n",
    "\n",
    "bloating_r = 0.5 \n",
    "\n",
    "env = NavigationEnv(limits,[O1,O2],starts,goals)"
   ]
  },
  {
   "cell_type": "code",
   "execution_count": 12,
   "id": "6dfee932-f230-4712-9d93-f0e2c68f5492",
   "metadata": {},
   "outputs": [],
   "source": [
    "from panav.SAMP import SA_MILP_Planning\n",
    "from panav.util import unique_tx, interpolate_positions\n",
    "\n",
    "from panav.env import line_seg_to_obstacle"
   ]
  },
  {
   "cell_type": "code",
   "execution_count": 43,
   "id": "2189f957-a386-48bb-a8c9-0d0b3243a0bf",
   "metadata": {},
   "outputs": [],
   "source": [
    "bloating_r = 0.5\n",
    "\n",
    "d = 2\n",
    "K = 10\n",
    "t0 = 0\n",
    "vmax = 1.0\n",
    "interp_dt = 0.1"
   ]
  },
  {
   "cell_type": "code",
   "execution_count": 44,
   "id": "b4173fb0-f19f-42d8-8982-4f362e0f4149",
   "metadata": {
    "tags": []
   },
   "outputs": [],
   "source": [
    "agents = np.arange(len(starts))\n",
    "ts = []\n",
    "xs = []\n",
    "for go_agent in agents:\n",
    "    start = env.starts[go_agent]\n",
    "    goal = env.goals[go_agent]\n",
    "    t,x = SA_MILP_Planning(env,start,goal,vmax,bloating_r,\\\n",
    "                                     [],\\\n",
    "                                    d,K,t0)\n",
    "    t,x = unique_tx(t,x)\n",
    "    ts.append(t)\n",
    "    xs.append(x)"
   ]
  },
  {
   "cell_type": "code",
   "execution_count": 57,
   "id": "01014e72-aab6-4866-8f24-5d76551bde32",
   "metadata": {},
   "outputs": [
    {
     "data": {
      "image/png": "[encoded data removed]",
      "text/plain": [
       "<Figure size 640x480 with 1 Axes>"
      ]
     },
     "metadata": {},
     "output_type": "display_data"
    }
   ],
   "source": [
    "\n",
    "ax = plt.gca()\n",
    "\n",
    "\n",
    "draw_env(env,xs,ax)\n",
    "\n",
    "# plot_line(face,ax=ax)\n",
    "labeled = False\n",
    "tunnels = detect_tunnels(env,bloating_r)\n",
    "for tunnel in tunnels:\n",
    "    plot_polygon(tunnel.region,ax=ax,label='Tunnels' if not labeled else None,add_points =False)\n",
    "    labeled=True\n",
    "\n",
    "x=xs[0]\n",
    "\n",
    "tun = tunnels[0]\n",
    "\n",
    "face_lines = [LineString(f) for f in tun.faces]\n",
    "\n",
    "entry = []\n",
    "exit = []\n",
    "\n",
    "for i in range(x.shape[-1]-1):\n",
    "    seg = LineString((x[:,i],x[:,i+1]))\n",
    "    for fid, fl in enumerate(face_lines):\n",
    "        if seg.intersects(fl):\n",
    "            ent_sgn = np.sign(tun.perps[fid].dot(x[:,i+1]-x[:,i]))\n",
    "            # print(fid,ent_sgn)\n",
    "            if ent_sgn == 1:\n",
    "                entry = x[:,i]\n",
    "            elif ent_sgn == -1:\n",
    "                exit = x[:,i+1]\n",
    "        \n",
    "\n",
    "plt.scatter(entry[0],entry[1],label='entry')\n",
    "plt.scatter(exit[0],exit[1],label='exit')\n",
    "\n",
    "\n",
    "plt.legend()\n",
    "plt.show()"
   ]
  },
  {
   "cell_type": "markdown",
   "id": "57e42fbe-3210-462b-8bc0-16d8aa2bb07a",
   "metadata": {},
   "source": [
    "# Items\n",
    "\n",
    "Tunnel class. Single tunnel.\n",
    "1. region: shapely polygon\n",
    "2. freefaces: shapely linestrings, faces of the polygon that does not intersect with any obstacles or other tunnels(require a list of tunnel objects)\n",
    "3. passage: {(free face id1, free face id2): waitlist, passinglist}\n",
    "4. Method: inout(waypoint1, waypoint2, freeface): output 0 if wp1-wp2 does not intersect with free face. -1 if wp1-wp2 comes out the tunnel. +1 if goes into the tunnel. Determine +-1 using the perp vector of freeface.\n",
    "5. Method: get_passage(PWL of the agent). Return the corresponding waitlist and passing list.\n",
    "\n",
    "PWL of the agent:\n",
    "\n",
    "some segments of the PWL are marked as hard, other soft. Hard segments go through a tunnel/a connected tunnel network. Hard segments starts with a wait wp, the agent should wait at this wp before enter the tunnel/tunnel network."
   ]
  },
  {
   "cell_type": "code",
   "execution_count": 40,
   "id": "808b78e6-6efd-4e41-a8d0-b6e1182af9ab",
   "metadata": {},
   "outputs": [
    {
     "ename": "AttributeError",
     "evalue": "'Tunnel' object has no attribute 'exterior'",
     "output_type": "error",
     "traceback": [
      "\u001b[0;31m---------------------------------------------------------------------------\u001b[0m",
      "\u001b[0;31mAttributeError\u001b[0m                            Traceback (most recent call last)",
      "Cell \u001b[0;32mIn[40], line 27\u001b[0m\n\u001b[1;32m     25\u001b[0m tunnels \u001b[38;5;241m=\u001b[39m detect_tunnels(env,bloating_r)\n\u001b[1;32m     26\u001b[0m \u001b[38;5;28;01mfor\u001b[39;00m tunnel \u001b[38;5;129;01min\u001b[39;00m tunnels:\n\u001b[0;32m---> 27\u001b[0m     \u001b[43mplot_polygon\u001b[49m\u001b[43m(\u001b[49m\u001b[43mtunnel\u001b[49m\u001b[43m,\u001b[49m\u001b[43max\u001b[49m\u001b[38;5;241;43m=\u001b[39;49m\u001b[43max\u001b[49m\u001b[43m,\u001b[49m\u001b[43mlabel\u001b[49m\u001b[38;5;241;43m=\u001b[39;49m\u001b[38;5;124;43m'\u001b[39;49m\u001b[38;5;124;43mTunnels\u001b[39;49m\u001b[38;5;124;43m'\u001b[39;49m\u001b[43m \u001b[49m\u001b[38;5;28;43;01mif\u001b[39;49;00m\u001b[43m \u001b[49m\u001b[38;5;129;43;01mnot\u001b[39;49;00m\u001b[43m \u001b[49m\u001b[43mlabeled\u001b[49m\u001b[43m \u001b[49m\u001b[38;5;28;43;01melse\u001b[39;49;00m\u001b[43m \u001b[49m\u001b[38;5;28;43;01mNone\u001b[39;49;00m\u001b[43m,\u001b[49m\u001b[43madd_points\u001b[49m\u001b[43m \u001b[49m\u001b[38;5;241;43m=\u001b[39;49m\u001b[38;5;28;43;01mFalse\u001b[39;49;00m\u001b[43m)\u001b[49m\n\u001b[1;32m     28\u001b[0m     labeled\u001b[38;5;241m=\u001b[39m\u001b[38;5;28;01mTrue\u001b[39;00m\n\u001b[1;32m     30\u001b[0m ax\u001b[38;5;241m.\u001b[39mlegend()\n",
      "File \u001b[0;32m~/opt/miniconda3/envs/PA-Nav/lib/python3.11/site-packages/shapely/plotting.py:118\u001b[0m, in \u001b[0;36mplot_polygon\u001b[0;34m(polygon, ax, add_points, color, facecolor, edgecolor, linewidth, **kwargs)\u001b[0m\n\u001b[1;32m    115\u001b[0m \u001b[38;5;28;01mif\u001b[39;00m edgecolor \u001b[38;5;129;01mis\u001b[39;00m \u001b[38;5;28;01mNone\u001b[39;00m:\n\u001b[1;32m    116\u001b[0m     edgecolor \u001b[38;5;241m=\u001b[39m color\n\u001b[0;32m--> 118\u001b[0m patch \u001b[38;5;241m=\u001b[39m \u001b[43mpatch_from_polygon\u001b[49m\u001b[43m(\u001b[49m\n\u001b[1;32m    119\u001b[0m \u001b[43m    \u001b[49m\u001b[43mpolygon\u001b[49m\u001b[43m,\u001b[49m\u001b[43m \u001b[49m\u001b[43mfacecolor\u001b[49m\u001b[38;5;241;43m=\u001b[39;49m\u001b[43mfacecolor\u001b[49m\u001b[43m,\u001b[49m\u001b[43m \u001b[49m\u001b[43medgecolor\u001b[49m\u001b[38;5;241;43m=\u001b[39;49m\u001b[43medgecolor\u001b[49m\u001b[43m,\u001b[49m\u001b[43m \u001b[49m\u001b[43mlinewidth\u001b[49m\u001b[38;5;241;43m=\u001b[39;49m\u001b[43mlinewidth\u001b[49m\u001b[43m,\u001b[49m\u001b[43m \u001b[49m\u001b[38;5;241;43m*\u001b[39;49m\u001b[38;5;241;43m*\u001b[39;49m\u001b[43mkwargs\u001b[49m\n\u001b[1;32m    120\u001b[0m \u001b[43m\u001b[49m\u001b[43m)\u001b[49m\n\u001b[1;32m    121\u001b[0m ax\u001b[38;5;241m.\u001b[39madd_patch(patch)\n\u001b[1;32m    122\u001b[0m ax\u001b[38;5;241m.\u001b[39mautoscale_view()\n",
      "File \u001b[0;32m~/opt/miniconda3/envs/PA-Nav/lib/python3.11/site-packages/shapely/plotting.py:56\u001b[0m, in \u001b[0;36mpatch_from_polygon\u001b[0;34m(polygon, **kwargs)\u001b[0m\n\u001b[1;32m     38\u001b[0m \u001b[38;5;250m\u001b[39m\u001b[38;5;124;03m\"\"\"\u001b[39;00m\n\u001b[1;32m     39\u001b[0m \u001b[38;5;124;03mGets a Matplotlib patch from a (Multi)Polygon.\u001b[39;00m\n\u001b[1;32m     40\u001b[0m \n\u001b[0;32m   (...)\u001b[0m\n\u001b[1;32m     52\u001b[0m \u001b[38;5;124;03mMatplotlib artist (PathPatch)\u001b[39;00m\n\u001b[1;32m     53\u001b[0m \u001b[38;5;124;03m\"\"\"\u001b[39;00m\n\u001b[1;32m     54\u001b[0m \u001b[38;5;28;01mfrom\u001b[39;00m \u001b[38;5;21;01mmatplotlib\u001b[39;00m\u001b[38;5;21;01m.\u001b[39;00m\u001b[38;5;21;01mpatches\u001b[39;00m \u001b[38;5;28;01mimport\u001b[39;00m PathPatch\n\u001b[0;32m---> 56\u001b[0m \u001b[38;5;28;01mreturn\u001b[39;00m PathPatch(\u001b[43m_path_from_polygon\u001b[49m\u001b[43m(\u001b[49m\u001b[43mpolygon\u001b[49m\u001b[43m)\u001b[49m, \u001b[38;5;241m*\u001b[39m\u001b[38;5;241m*\u001b[39mkwargs)\n",
      "File \u001b[0;32m~/opt/miniconda3/envs/PA-Nav/lib/python3.11/site-packages/shapely/plotting.py:32\u001b[0m, in \u001b[0;36m_path_from_polygon\u001b[0;34m(polygon)\u001b[0m\n\u001b[1;32m     27\u001b[0m     \u001b[38;5;28;01mreturn\u001b[39;00m Path\u001b[38;5;241m.\u001b[39mmake_compound_path(\n\u001b[1;32m     28\u001b[0m         \u001b[38;5;241m*\u001b[39m[_path_from_polygon(poly) \u001b[38;5;28;01mfor\u001b[39;00m poly \u001b[38;5;129;01min\u001b[39;00m polygon\u001b[38;5;241m.\u001b[39mgeoms]\n\u001b[1;32m     29\u001b[0m     )\n\u001b[1;32m     30\u001b[0m \u001b[38;5;28;01melse\u001b[39;00m:\n\u001b[1;32m     31\u001b[0m     \u001b[38;5;28;01mreturn\u001b[39;00m Path\u001b[38;5;241m.\u001b[39mmake_compound_path(\n\u001b[0;32m---> 32\u001b[0m         Path(np\u001b[38;5;241m.\u001b[39masarray(\u001b[43mpolygon\u001b[49m\u001b[38;5;241;43m.\u001b[39;49m\u001b[43mexterior\u001b[49m\u001b[38;5;241m.\u001b[39mcoords)[:, :\u001b[38;5;241m2\u001b[39m]),\n\u001b[1;32m     33\u001b[0m         \u001b[38;5;241m*\u001b[39m[Path(np\u001b[38;5;241m.\u001b[39masarray(ring\u001b[38;5;241m.\u001b[39mcoords)[:, :\u001b[38;5;241m2\u001b[39m]) \u001b[38;5;28;01mfor\u001b[39;00m ring \u001b[38;5;129;01min\u001b[39;00m polygon\u001b[38;5;241m.\u001b[39minteriors],\n\u001b[1;32m     34\u001b[0m     )\n",
      "\u001b[0;31mAttributeError\u001b[0m: 'Tunnel' object has no attribute 'exterior'"
     ]
    },
    {
     "data": {
      "image/png": "[encoded data removed]",
      "text/plain": [
       "<Figure size 640x480 with 1 Axes>"
      ]
     },
     "metadata": {},
     "output_type": "display_data"
    }
   ],
   "source": [
    "start_box_side = np.array([1,1])\n",
    "goal_box_side = np.array([1,1])\n",
    "\n",
    "o1 = Box2DRegion((-2.5,2.5),(-1.0,1.0))\n",
    "o2 = Box2DRegion((-2.5,2.5),(-5,-2.5))\n",
    "\n",
    "o3 = Box2DRegion((3.5,5),(-5,-2.5))\n",
    "\n",
    "o4 = Box2DRegion((3.5,5),(-1.0,1.0))\n",
    "\n",
    "obstacles = [o1,o2,o3,o4]\n",
    "\n",
    "limits = [(-10.0,10.0),(-10.0,10.0)]\n",
    "\n",
    "bloating_r = 0.5 \n",
    "\n",
    "env = NavigationEnv(limits,obstacles,[],[])\n",
    "\n",
    "ax = plt.gca()\n",
    "\n",
    "draw_env(env,ax=ax)\n",
    "        \n",
    "\n",
    "labeled = False\n",
    "tunnels = detect_tunnels(env,bloating_r)\n",
    "for tunnel in tunnels:\n",
    "    plot_polygon(tunnel,ax=ax,label='Tunnels' if not labeled else None,add_points =False)\n",
    "    labeled=True\n",
    "    \n",
    "ax.legend()\n",
    "plt.show()"
   ]
  }
 ],
 "metadata": {
  "kernelspec": {
   "display_name": "Python 3 (ipykernel)",
   "language": "python",
   "name": "python3"
  },
  "language_info": {
   "codemirror_mode": {
    "name": "ipython",
    "version": 3
   },
   "file_extension": ".py",
   "mimetype": "text/x-python",
   "name": "python",
   "nbconvert_exporter": "python",
   "pygments_lexer": "ipython3",
   "version": "3.11.0"
  }
 },
 "nbformat": 4,
 "nbformat_minor": 5
}
