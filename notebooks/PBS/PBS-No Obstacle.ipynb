{
 "cells": [
  {
   "cell_type": "markdown",
   "id": "93964b26-d9f5-45ac-9818-50cc2951a2d5",
   "metadata": {},
   "source": [
    "# MAMP with PB high level search and tube-based low level search"
   ]
  },
  {
   "cell_type": "code",
   "execution_count": 2,
   "id": "4f6a1483-2bff-48b4-a976-d9891665966d",
   "metadata": {},
   "outputs": [],
   "source": [
    "import sys\n",
    "sys.path.append('../')\n",
    "\n",
    "sys.path.append('../../')\n",
    "\n",
    "\n",
    "from panav.env import NavigationEnv, Box2DRegion, PolygonRegion, box_2d_center, line_seg_to_obstacle\n",
    "from panav.viz import draw_env\n",
    "from panav.SAMP import Tube_Planning, SA_MILP_Planning\n",
    "from panav.util import interpolate_positions, unique_tx\n",
    "from panav.PBS.PBS import PBS\n",
    "from panav.PBS.conflict import MA_plan_conflict\n",
    "\n",
    "\n",
    "from panav.viz import animation\n",
    "from IPython.display import HTML, display\n",
    "\n",
    "import shapely\n",
    "import numpy as np\n",
    "from matplotlib import pyplot as plt\n",
    "\n",
    "%load_ext autoreload\n",
    "%autoreload 2"
   ]
  },
  {
   "cell_type": "markdown",
   "id": "d2d56ecc-eb8f-4402-aa26-24488dbaff5d",
   "metadata": {},
   "source": [
    "# The environment"
   ]
  },
  {
   "cell_type": "code",
   "execution_count": 21,
   "id": "09e4a668-d054-427a-b912-e9a45a33c595",
   "metadata": {},
   "outputs": [
    {
     "data": {
      "image/png": "[encoded data removed]",
      "text/plain": [
       "<Figure size 640x480 with 1 Axes>"
      ]
     },
     "metadata": {},
     "output_type": "display_data"
    }
   ],
   "source": [
    "top, bottom = 6,-6\n",
    "start_x_offset = 5 \n",
    "goal_x_offset = 7\n",
    "N = 7\n",
    "\n",
    "start_locs = np.vstack([\n",
    "np.vstack([np.ones(N)*start_x_offset,np.linspace(top,bottom, N)]).T,\n",
    "np.vstack([np.ones(N)*(-start_x_offset),np.linspace(top,bottom, N)]).T])\n",
    "\n",
    "goal_locs = np.vstack([\n",
    "np.vstack([np.ones(N)*(-goal_x_offset),np.linspace(bottom,top, N)]).T,\n",
    "np.vstack([np.ones(N)*goal_x_offset,np.linspace(bottom,top, N)]).T])\n",
    "\n",
    "\n",
    "start_box_side = np.array([1,1])\n",
    "goal_box_side = np.array([1,1])\n",
    "\n",
    "\n",
    "starts = [box_2d_center(s,start_box_side) for s in start_locs]\n",
    "goals = [box_2d_center(g,goal_box_side) for g in goal_locs]\n",
    "\n",
    "\n",
    "\n",
    "limits = [(-10.0,10.0),(-10.0,10.0)]\n",
    "\n",
    "bloating_r = 0.5 \n",
    "\n",
    "env = NavigationEnv(limits,[],starts,goals)\n",
    "\n",
    "draw_env(env,[])"
   ]
  },
  {
   "cell_type": "markdown",
   "id": "6f22e025-b19f-4219-87cb-ca616a632b0a",
   "metadata": {},
   "source": [
    "# Planning parameters"
   ]
  },
  {
   "cell_type": "code",
   "execution_count": 37,
   "id": "5e8c5185-9986-4d06-a544-5fd4da11bbe9",
   "metadata": {},
   "outputs": [],
   "source": [
    "bloating_r = 0.5\n",
    "d = 2\n",
    "K = 7\n",
    "t0 = 0\n",
    "vmax = 1.0"
   ]
  },
  {
   "cell_type": "markdown",
   "id": "0b4be1f0-7fef-494e-89a1-86817227f2e0",
   "metadata": {},
   "source": [
    "\n",
    "# Planning with fixed-priority conflict resolution"
   ]
  },
  {
   "cell_type": "markdown",
   "id": "f01034fc-9750-4f4e-b0a4-219e8856c7c6",
   "metadata": {},
   "source": [
    "## Using Tube-based planning as the low level"
   ]
  },
  {
   "cell_type": "code",
   "execution_count": 23,
   "id": "aa29c3f8-f02c-47c7-a889-b3d2dc868902",
   "metadata": {},
   "outputs": [
    {
     "name": "stdout",
     "output_type": "stream",
     "text": [
      "0\n",
      "1\n",
      "2\n",
      "3\n",
      "4\n",
      "5\n",
      "6\n",
      "7\n",
      "8\n",
      "9\n",
      "10\n",
      "11\n",
      "12\n",
      "13\n",
      "CPU times: user 1min 37s, sys: 14 s, total: 1min 51s\n",
      "Wall time: 37.7 s\n"
     ]
    }
   ],
   "source": [
    "%%time\n",
    "\n",
    "agents = set(np.arange(len(env.starts)))\n",
    "plan = []\n",
    "for agent in agents:\n",
    "    print(agent)\n",
    "    start = env.starts[agent]\n",
    "    goal = env.goals[agent]\n",
    "\n",
    "    t, xs = Tube_Planning(env,start,goal,vmax,bloating_r,\\\n",
    "                                 plan,\\\n",
    "                                d,K,t0)\n",
    "    t,xs = unique_tx(t,xs)\n",
    "    plan.append((t,xs))"
   ]
  },
  {
   "cell_type": "code",
   "execution_count": 24,
   "id": "b564a69c-e3e3-4fd1-a6a7-893f09663f0b",
   "metadata": {},
   "outputs": [
    {
     "name": "stdout",
     "output_type": "stream",
     "text": [
      "flowtime: 285.8562106890258\n"
     ]
    }
   ],
   "source": [
    "print('flowtime:', np.sum([t[-1] for t,xs in plan]))"
   ]
  },
  {
   "cell_type": "markdown",
   "id": "3157cd57-0fdb-4bdf-b7ef-df51de9cbedb",
   "metadata": {},
   "source": [
    "## Using temporary-obstacle-based planning as the low level"
   ]
  },
  {
   "cell_type": "code",
   "execution_count": 40,
   "id": "cc97984f-953b-4747-9b80-6a403f6f223a",
   "metadata": {},
   "outputs": [
    {
     "name": "stdout",
     "output_type": "stream",
     "text": [
      "0\n",
      "1\n",
      "2\n",
      "3\n",
      "4\n",
      "5\n",
      "6\n",
      "7\n",
      "8\n",
      "9\n",
      "10\n",
      "11\n",
      "12\n"
     ]
    },
    {
     "ename": "TypeError",
     "evalue": "cannot unpack non-iterable NoneType object",
     "output_type": "error",
     "traceback": [
      "\u001b[0;31m---------------------------------------------------------------------------\u001b[0m",
      "\u001b[0;31mTypeError\u001b[0m                                 Traceback (most recent call last)",
      "File \u001b[0;32m<timed exec>:9\u001b[0m\n",
      "\u001b[0;31mTypeError\u001b[0m: cannot unpack non-iterable NoneType object"
     ]
    }
   ],
   "source": [
    "%%time\n",
    "\n",
    "agents = set(np.arange(len(env.starts)))\n",
    "plan = []\n",
    "temp_obstacles = []\n",
    "for agent in agents:\n",
    "    print(agent)\n",
    "    start = env.starts[agent]\n",
    "    goal = env.goals[agent]\n",
    "\n",
    "    t, xs = SA_MILP_Planning(env,start,goal,vmax,bloating_r,\\\n",
    "                                 temp_obstacles,\\\n",
    "                                d,K,t0)\n",
    "    t,xs = unique_tx(t,xs)\n",
    "    # Convert the agent's path into temporary obstacle.\n",
    "    for k in range(xs.shape[-1]-1):\n",
    "        temp_obstacles.append(([t[k],t[k+1]], \n",
    "                               line_seg_to_obstacle(xs[:,k],xs[:,k+1],bloating_r)))\n",
    "    \n",
    "    plan.append((t,xs))"
   ]
  },
  {
   "cell_type": "code",
   "execution_count": 39,
   "id": "cd78ea0a-93b2-46e0-b415-13279b9d5084",
   "metadata": {},
   "outputs": [
    {
     "name": "stdout",
     "output_type": "stream",
     "text": [
      "flowtime: 175.24341278356525\n"
     ]
    }
   ],
   "source": [
    "print('flowtime:', np.sum([t[-1] for t,xs in plan]))"
   ]
  },
  {
   "cell_type": "markdown",
   "id": "2da1592a-d030-4ee2-a102-fa2500e17c1f",
   "metadata": {},
   "source": [
    "# Planning with PBS"
   ]
  },
  {
   "cell_type": "code",
   "execution_count": 41,
   "id": "17cee9d1-4610-4109-aad7-af883ab67875",
   "metadata": {},
   "outputs": [],
   "source": [
    "import networkx as nx\n",
    "prev_ordering = [(2, 0), (3, 0), (5, 0)]\n",
    "new_order = [(3,0)]\n",
    "graph = nx.DiGraph(prev_ordering+new_order)"
   ]
  },
  {
   "cell_type": "code",
   "execution_count": null,
   "id": "777b0689-f026-47ad-b62d-46a31423d326",
   "metadata": {
    "tags": []
   },
   "outputs": [],
   "source": [
    "%%time\n",
    "\n",
    "metric = 'flowtime'\n",
    "search_type = 'depth_first'\n",
    "\n",
    "max_iter = 200\n",
    "\n",
    "solution,cost = PBS(env,vmax,bloating_r,d,K,t0,\\\n",
    "                    max_iter,metric,search_type)\n",
    "\n",
    "\n",
    "# solution,cost = PBS(env,vmax,bloating_r,d,K,t0,\\\n",
    "#                     max_iter,metric,search_type,\n",
    "#                     low_level = 'SA_MILP_Planning')"
   ]
  },
  {
   "cell_type": "code",
   "execution_count": null,
   "id": "002d23a4-ac82-404a-ba8b-60ab15c92634",
   "metadata": {},
   "outputs": [],
   "source": [
    "print('flowtime:', np.sum([t[-1] for t,x in solution]))"
   ]
  },
  {
   "cell_type": "code",
   "execution_count": null,
   "id": "30a661dc-8aeb-43d6-b0eb-a58dd572457d",
   "metadata": {},
   "outputs": [],
   "source": [
    "\n",
    "draw_env(env,[x for t,x in solution])\n",
    "\n",
    "plt.title('Conflict' if MA_plan_conflict(solution,bloating_r)\n",
    " else 'No Conflict')\n",
    "\n",
    "plt.show()"
   ]
  },
  {
   "cell_type": "code",
   "execution_count": null,
   "id": "857a07a4-89c1-4d4e-a843-e1f9a82fc04d",
   "metadata": {},
   "outputs": [],
   "source": [
    "import matplotlib\n",
    "matplotlib.rcParams['animation.embed_limit'] = 2**128\n",
    "\n",
    "interp_dt = 0.1\n",
    "pos = []\n",
    "\n",
    "for t,x in solution:\n",
    "    t,x = interpolate_positions(t,x,interp_dt)\n",
    "    pos.append(x)\n",
    "\n",
    "anim = animation(env, pos, bloating_r, dt = interp_dt / 4)\n",
    "display(HTML(anim.to_jshtml()))\n",
    "plt.close()   # Avoid plotting an extra figure."
   ]
  }
 ],
 "metadata": {
  "kernelspec": {
   "display_name": "Python 3 (ipykernel)",
   "language": "python",
   "name": "python3"
  },
  "language_info": {
   "codemirror_mode": {
    "name": "ipython",
    "version": 3
   },
   "file_extension": ".py",
   "mimetype": "text/x-python",
   "name": "python",
   "nbconvert_exporter": "python",
   "pygments_lexer": "ipython3",
   "version": "3.11.0"
  }
 },
 "nbformat": 4,
 "nbformat_minor": 5
}
