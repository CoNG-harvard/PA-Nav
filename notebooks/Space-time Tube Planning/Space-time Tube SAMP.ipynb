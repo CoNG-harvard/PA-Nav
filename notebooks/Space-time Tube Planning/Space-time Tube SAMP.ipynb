{
 "cells": [
  {
   "cell_type": "markdown",
   "id": "93964b26-d9f5-45ac-9818-50cc2951a2d5",
   "metadata": {},
   "source": [
    "# Space-time tube planning - 1D case"
   ]
  },
  {
   "cell_type": "code",
   "execution_count": 29,
   "id": "4f6a1483-2bff-48b4-a976-d9891665966d",
   "metadata": {},
   "outputs": [
    {
     "name": "stdout",
     "output_type": "stream",
     "text": [
      "The autoreload extension is already loaded. To reload it, use:\n",
      "  %reload_ext autoreload\n"
     ]
    }
   ],
   "source": [
    "import sys\n",
    "sys.path.append('../../')\n",
    "from panav.env import NavigationEnv, Box2DRegion, PolygonRegion, box_2d_center, line_seg_to_obstacle\n",
    "from panav.viz import draw_env\n",
    "from panav.SAMP import SA_MILP_Planning\n",
    "from panav.util import unique_tx, interpolate_positions,unit_cube\n",
    "\n",
    "from panav.env import line_seg_to_obstacle\n",
    "\n",
    "import shapely\n",
    "\n",
    "from shapely.plotting import plot_polygon, plot_line\n",
    "\n",
    "from polytope import qhull\n",
    "\n",
    "import numpy as np\n",
    "from matplotlib import pyplot as plt\n",
    "\n",
    "import cvxpy as cp\n",
    "\n",
    "%load_ext autoreload\n",
    "%autoreload 2"
   ]
  },
  {
   "cell_type": "code",
   "execution_count": 25,
   "id": "d4f4f1c3-56ec-41a2-a6ef-391c4fee6bcb",
   "metadata": {},
   "outputs": [],
   "source": [
    "def wp_to_tube_obstacle(t1,t2,p1,p2,bloating_r):\n",
    "    '''\n",
    "        Convert a timed line segment (t1,p1)-(t2,p2) to a space-time tube obstacle with bloating radius bloating_r. \n",
    "        Output: (Ap,bp) characterizing the polytopic space-time tube obstacle.\n",
    "    '''\n",
    "    p1,p2 = np.array(p1),np.array(p2)\n",
    "    if len(p1.shape) == 0:\n",
    "        d = 1\n",
    "    else:\n",
    "        d = p1.shape[0]\n",
    "    \n",
    "    tube_vertices = [np.hstack([t,p+1.0*bloating_r*unit_vec]) \n",
    "                     for t,p in zip([t1,t2],[p1,p2]) \n",
    "                     for unit_vec in unit_cube(d)]\n",
    "    \n",
    "    poly = qhull(np.vstack(tube_vertices))\n",
    "\n",
    "    Ap,bp = poly.A,poly.b\n",
    "    return Ap,bp\n"
   ]
  },
  {
   "cell_type": "code",
   "execution_count": 30,
   "id": "8ac07c17-a1e4-45bf-a096-ffb806fe74c3",
   "metadata": {},
   "outputs": [
    {
     "name": "stdout",
     "output_type": "stream",
     "text": [
      "Set parameter Username\n",
      "Academic license - for non-commercial use only - expires 2024-01-18\n"
     ]
    },
    {
     "data": {
      "text/plain": [
       "2.239252777514412"
      ]
     },
     "execution_count": 30,
     "metadata": {},
     "output_type": "execute_result"
    }
   ],
   "source": [
    "bloating_r = 0.5\n",
    "vmax = 1.0\n",
    "\n",
    "pb = np.array([[3.0, 4.0]])\n",
    "\n",
    "d = pb.shape[0]\n",
    "\n",
    "tb = np.array([1.0, 4.0])\n",
    "\n",
    "pa0 = np.array([[1.0]])\n",
    "ta0 = np.array([1.0])\n",
    "\n",
    "tx = cp.Variable((d+1,2))\n",
    "\n",
    "A,b = wp_to_tube_obstacle(*tb,pb[0,0],pb[0,1],bloating_r)\n",
    "\n",
    "M = 100 * max([np.max(np.abs(A)),np.max(np.abs(b))])\n",
    "\n",
    "H = A @ tx-(b+ np.linalg.norm(A,axis=1) * bloating_r).reshape(-1,1) # Bloating radius\n",
    "\n",
    "alpha = cp.Variable((H.shape[0],1),boolean=True)\n",
    "\n",
    "constraints = []\n",
    "\n",
    "constraints.append(H + M * (1-alpha)>=0)\n",
    "\n",
    "constraints.append(cp.sum(alpha,axis = 0)>=1)\n",
    "\n",
    "constraints.append(tx[:,0] == np.vstack([ta0,pa0]).flatten())\n",
    "\n",
    "prob = cp.Problem(cp.Minimize(cp.norm(tx[:,1]-np.array([3,5]))),constraints)\n",
    "prob.solve(solver='GUROBI')\n"
   ]
  },
  {
   "cell_type": "code",
   "execution_count": 31,
   "id": "7ce24f7a-5d99-40f3-89ae-4a8333fc1262",
   "metadata": {},
   "outputs": [
    {
     "name": "stderr",
     "output_type": "stream",
     "text": [
      "/Users/tianpengzhang/opt/miniconda3/envs/PA-Nav/lib/python3.11/site-packages/shapely/geometry/point.py:67: VisibleDeprecationWarning: Creating an ndarray from ragged nested sequences (which is a list-or-tuple of lists-or-tuples-or ndarrays with different lengths or shapes) is deprecated. If you meant to do this, you must specify 'dtype=object' when creating the ndarray.\n",
      "  coords = np.asarray(coords).squeeze()\n"
     ]
    },
    {
     "data": {
      "image/png": "[encoded data removed]",
      "text/plain": [
       "<Figure size 640x480 with 1 Axes>"
      ]
     },
     "metadata": {},
     "output_type": "display_data"
    }
   ],
   "source": [
    "\n",
    "xlim = (0,6)\n",
    "ylim = (0,6)\n",
    "\n",
    "ax = plt.gca()\n",
    "\n",
    "\n",
    "line = shapely.geometry.LineString(np.vstack([tb,pb]).T)\n",
    "plot_line(line, ax=ax, add_points=False, linewidth=3)\n",
    "tube_vertices = [(tb[i],pb[:,i]+bloating_r*unit_vec) \n",
    "                 for i in range(len(tb))\n",
    "                  for unit_vec in unit_cube(d)]\n",
    "plot_polygon(shapely.convex_hull(shapely.MultiPoint(tube_vertices)), ax=ax, add_points=False, alpha=0.5)\n",
    "\n",
    "\n",
    "\n",
    "line = shapely.geometry.LineString(tx.value.T)\n",
    "plot_line(line, ax=ax, add_points=False, linewidth=3)\n",
    "\n",
    "ta = tx.value[0,:]\n",
    "pa = tx.value[1:,:]\n",
    "\n",
    "tube_vertices = [(ta[i],pa[:,i]+bloating_r*unit_vec) \n",
    "                 for i in range(len(ta))\n",
    "                  for unit_vec in unit_cube(d)]\n",
    "plot_polygon(shapely.convex_hull(shapely.MultiPoint(tube_vertices)), ax=ax, add_points=False, alpha=0.5)\n",
    "\n",
    "\n",
    "ax.set_xlim(*xlim)\n",
    "ax.set_ylim(*ylim)\n",
    "ax.set_xlabel('t')\n",
    "ax.set_ylabel('p')\n",
    "ax.set_aspect('equal')\n"
   ]
  }
 ],
 "metadata": {
  "kernelspec": {
   "display_name": "Python 3 (ipykernel)",
   "language": "python",
   "name": "python3"
  },
  "language_info": {
   "codemirror_mode": {
    "name": "ipython",
    "version": 3
   },
   "file_extension": ".py",
   "mimetype": "text/x-python",
   "name": "python",
   "nbconvert_exporter": "python",
   "pygments_lexer": "ipython3",
   "version": "3.11.0"
  }
 },
 "nbformat": 4,
 "nbformat_minor": 5
}
