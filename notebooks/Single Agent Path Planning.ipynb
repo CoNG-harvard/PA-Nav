{
 "cells": [
  {
   "cell_type": "markdown",
   "id": "93964b26-d9f5-45ac-9818-50cc2951a2d5",
   "metadata": {},
   "source": [
    "# Single Agent Path Planning"
   ]
  },
  {
   "cell_type": "code",
   "execution_count": 4,
   "id": "4f6a1483-2bff-48b4-a976-d9891665966d",
   "metadata": {},
   "outputs": [
    {
     "name": "stdout",
     "output_type": "stream",
     "text": [
      "The autoreload extension is already loaded. To reload it, use:\n",
      "  %reload_ext autoreload\n"
     ]
    }
   ],
   "source": [
    "import sys\n",
    "sys.path.append('../')\n",
    "from panav.env import NavigationEnv, Box2DRegion, PolygonRegion, box_2d_center, line_seg_to_obstacle\n",
    "from panav.viz import draw_env\n",
    "%load_ext autoreload\n",
    "%autoreload 2"
   ]
  },
  {
   "cell_type": "code",
   "execution_count": 5,
   "id": "0bd87acc-f1f4-411c-a0ff-a050d20afa47",
   "metadata": {},
   "outputs": [],
   "source": [
    "import shapely\n",
    "import numpy as np\n",
    "from matplotlib import pyplot as plt\n",
    "\n",
    "start_locs = np.array([[-1,-1],[-2,-3]])\n",
    "goal_locs = np.array([[9,9],[5,7]])\n",
    "\n",
    "\n",
    "start_box_side = np.array([1,1])\n",
    "goal_box_side = np.array([1,1])\n",
    "\n",
    "starts = [box_2d_center(s,start_box_side) for s in start_locs]\n",
    "\n",
    "goals = [box_2d_center(g,goal_box_side) for g in goal_locs]\n"
   ]
  },
  {
   "cell_type": "code",
   "execution_count": 24,
   "id": "ca7affc5-6843-402f-aec0-60457d647b84",
   "metadata": {},
   "outputs": [],
   "source": [
    "limits = [(-10.0,10.0),(-10.0,10.0)]\n",
    "o=Box2DRegion((0,3),(0,5))\n",
    "p = PolygonRegion([[6,1],[10,2],[6,5]])\n",
    "\n",
    "bloating_r = 0.5 \n",
    "x1,x2 = np.array([2,-2]), np.array([3,0])\n",
    "\n",
    "pp = line_seg_to_obstacle(x1,x2,bloating_r)\n",
    "\n",
    "\n",
    "env = NavigationEnv(limits,[o,p,pp],starts,goals)"
   ]
  },
  {
   "cell_type": "code",
   "execution_count": 25,
   "id": "2eb22127-4885-4b0d-be54-7dc447a4927a",
   "metadata": {},
   "outputs": [
    {
     "data": {
      "image/png": "[encoded data removed]",
      "text/plain": [
       "<Figure size 640x480 with 1 Axes>"
      ]
     },
     "metadata": {},
     "output_type": "display_data"
    }
   ],
   "source": [
    "draw_env(env)"
   ]
  },
  {
   "cell_type": "markdown",
   "id": "89267927-15a1-45df-a774-46bb5db31217",
   "metadata": {},
   "source": [
    "## Single agent path planning optimization problem(static, permanent obstacles only. Not considering moving/temporary obstacles)\n",
    "\n",
    "$d$: spatial dimension.\n",
    "\n",
    "$K$: constant, number of way points.\n",
    "\n",
    "$\\mathcal{X}^{start}, \\mathcal{X}^{goal}$: start and goal regions, assume to be polytopes.\n",
    "\n",
    "$\\mathcal{X}:$ the workspace specified by the axis limits.\n",
    "\n",
    "$v_\\max:$ the upper bound on the agent's speed.\n",
    "\n",
    "$t_0$: time stamp at the initial step.\n",
    "\n",
    "Decision variables: $x_0,(t_1,x_1),(t_2,x_2),...,(t_K,x_K)$\n",
    "\n",
    "The agent should arrive at $x_k$ at time $t_k$.\n",
    "\n",
    "$\\mathcal{O}_{1:N}:$ polytope obstacles.\n",
    "\n",
    "The path planning problem for a single agent is\n",
    "\n",
    "$$\n",
    "\\begin{aligned}\n",
    "    &\\min_{x_{0:K}\\in \\mathcal{X},~t_{1:K}} t_K\\\\\n",
    "    s.t.& ~x_0\\in \\mathcal{X}^{start}, x_K\\in  \\mathcal{X}^{goal}\\\\\n",
    "    &\\overline{x_{k-1} x_{k}}\\notin  \\mathcal{O}_{i},~ \\forall k\\in 1:K,~i \\in 1:N \\\\\n",
    " &||x_k-x_{k-1}||/(t_k-t_{k-1})\\leq v_\\max,~\\forall k\\in 1:K\\\\\n",
    " & t_k\\geq t_{k-1},~\\forall k\\in 1:K\n",
    "\\end{aligned}\n",
    "$$\n",
    " $\\overline{x_{k-1} x_{k}}$ stands for the line segment with end points $x_{k-1},~x_{k}$.\n",
    "\n",
    "### Modeling the obstacle avoidance requirements using mixed-interger constraints\n",
    "$\\overline{x_{k-1} x_{k}}\\notin  \\mathcal{O}_{i}$ is modeled using the big-M method. Suppose the region $\\mathcal{O}_{i}$ is defined by the affine constraint $A_i x\\leq b_i$. Let  $M$ be a very large constant and $\\alpha_{1:F}\\in \\{0,1\\}$ be binary decision variables, where $F$ is the length of $b_i$. For $\\overline{x_{k-1} x_{k}}\\notin  \\mathcal{O}_{i}$, it suffice to ensure $x_{k-1}, x_{k}$ are both outside one of the faces of $\\mathcal{O}_{i}$, or\n",
    "$$\n",
    "\\begin{aligned}\n",
    "    &A_{i,1} x_{k-1} +(1-\\alpha_1)M\\geq  b_{i,1},A_{i,1} x_{k} +(1-\\alpha_1)M\\geq  b_{i,1}\\\\\n",
    "    &A_{i,2} x_{k-1} +(1-\\alpha_2)M\\geq  b_{i,2},A_{i,2} x_{k} +(1-\\alpha_2)M\\geq  b_{i,2}\\\\\n",
    "    &\\vdots\\\\\n",
    "    &A_{i,F} x_{k-1} +(1-\\alpha_F)M\\geq  b_{i,F},A_{i,F} x_{k} +(1-\\alpha_F)M\\geq  b_{i,F}\\\\\n",
    "    &\\sum_{i=1}^F \\alpha_i \\geq 1\n",
    "\\end{aligned}\n",
    "$$\n",
    "\n",
    "### Approximating the velocity constraints using boxes\n",
    "$||x_k-x_{k-1}||\\leq v_\\max(t_k-t_{k-1})$ is a quadratic constraint and may not be efficiently solvable. We under-approximate it using linear constraints as follows:\n",
    "$$\n",
    "-v_\\max(t_k-t_{k-1})\\leq\\sqrt{2}(x_{k,i}-x_{k-1,i})\\leq v_\\max(t_k-t_{k-1}),~\\forall i\\in \\{0,1\\}\n",
    "$$"
   ]
  },
  {
   "cell_type": "code",
   "execution_count": 8,
   "id": "6033cf3e-5504-42ba-996d-999e435a366f",
   "metadata": {},
   "outputs": [],
   "source": [
    "import cvxpy as cp"
   ]
  },
  {
   "cell_type": "code",
   "execution_count": 26,
   "id": "562232fd-bc0d-4036-a39f-60f1496f562f",
   "metadata": {},
   "outputs": [
    {
     "name": "stdout",
     "output_type": "stream",
     "text": [
      "[[ 1.  0.]\n",
      " [ 0.  1.]\n",
      " [-1. -0.]\n",
      " [-0. -1.]] [3. 5. 0. 0.] POLYGON ((3 0, 3 5, 0 5, 0 0, 3 0))\n",
      "[[ 0.6      0.8    ]\n",
      " [ 0.24254 -0.97014]\n",
      " [-1.       0.     ]] [ 7.6      0.48507 -6.     ] [[ 6  1]\n",
      " [10  2]\n",
      " [ 6  5]]\n",
      "[[ 0.44721  0.89443]\n",
      " [-0.89443  0.44721]\n",
      " [ 0.89443 -0.44721]\n",
      " [-0.44721 -0.89443]] [ 1.84164 -2.18328  3.18328  1.39443] [[ 1.32918 -2.22361]\n",
      " [ 2.22361 -2.67082]\n",
      " [ 3.67082  0.22361]\n",
      " [ 2.77639  0.67082]]\n"
     ]
    },
    {
     "data": {
      "text/plain": [
       "22.627416997969522"
      ]
     },
     "execution_count": 26,
     "metadata": {},
     "output_type": "execute_result"
    }
   ],
   "source": [
    "agent = 01\n",
    "\n",
    "bloating_r = 0.5\n",
    "\n",
    "d = 2\n",
    "K = 10\n",
    "t0 = 0\n",
    "vmax = 1.0\n",
    "M = 100 * np.max(np.abs(env.limits))\n",
    "\n",
    "\n",
    "start = env.starts[agent]\n",
    "goal = env.goals[agent]\n",
    "\n",
    "x = cp.Variable((d, K+1))\n",
    "t = cp.Variable(K+1)\n",
    "\n",
    "constraints = []\n",
    "\n",
    "# Boundary constraints\n",
    "constraints.append(x <= np.array(env.limits)[:,-1].reshape(-1,1) - bloating_r)\n",
    "constraints.append(x >= np.array(env.limits)[:,0].reshape(-1,1) + bloating_r)\n",
    "\n",
    "# Start and goal constraints\n",
    "constraints.append(start.A @ x[:,0] <= start.b)\n",
    "constraints.append(goal.A @ x[:,-1] <= goal.b)\n",
    "\n",
    "# Velocity constraints\n",
    "vb = vmax*(t[1:]-t[:-1])\n",
    "for i in range(d):\n",
    "    diff = x[i,1:]-x[i,:-1]\n",
    "    constraints.append(np.sqrt(2) * diff <= vb)\n",
    "    constraints.append(- vb <= np.sqrt(2) * diff)\n",
    "    \n",
    "\n",
    "# Static obstacle constraints\n",
    "for O in env.obstacles:\n",
    "    A, b= O.A,O.b\n",
    "    print(A,b,O.vertices())\n",
    "    \n",
    "    H = A @ x-(b+ np.linalg.norm(A) * bloating_r).reshape(-1,1) # Bloating radius\n",
    "\n",
    "    alpha = cp.Variable((H.shape[0],K),boolean=True)\n",
    "    \n",
    "    constraints.append(H[:,1:] + M * (1-alpha)>=0)\n",
    "    constraints.append(H[:,:-1] + M * (1-alpha)>=0)\n",
    "    \n",
    "    constraints.append(cp.sum(alpha,axis = 0)>=1)\n",
    "\n",
    "\n",
    "# Time positivity constraint\n",
    "constraints.append(t[0]==t0)\n",
    "constraints.append(t[1:]>=t[:-1])\n",
    "\n",
    "prob = cp.Problem(cp.Minimize(t[-1]),constraints)\n",
    "\n",
    "prob.solve()"
   ]
  },
  {
   "cell_type": "code",
   "execution_count": 27,
   "id": "df4768e9-682d-4133-b400-613478da63a6",
   "metadata": {},
   "outputs": [
    {
     "data": {
      "text/plain": [
       "[<matplotlib.lines.Line2D at 0x127970150>]"
      ]
     },
     "execution_count": 27,
     "metadata": {},
     "output_type": "execute_result"
    },
    {
     "data": {
      "image/png": "[encoded data removed]",
      "text/plain": [
       "<Figure size 640x480 with 1 Axes>"
      ]
     },
     "metadata": {},
     "output_type": "display_data"
    }
   ],
   "source": [
    "ax = plt.gca()\n",
    "draw_env(env, ax)\n",
    "ax.plot(x.value[0,:],x.value[1,:],marker = 'o')"
   ]
  }
 ],
 "metadata": {
  "kernelspec": {
   "display_name": "Python 3 (ipykernel)",
   "language": "python",
   "name": "python3"
  },
  "language_info": {
   "codemirror_mode": {
    "name": "ipython",
    "version": 3
   },
   "file_extension": ".py",
   "mimetype": "text/x-python",
   "name": "python",
   "nbconvert_exporter": "python",
   "pygments_lexer": "ipython3",
   "version": "3.11.0"
  }
 },
 "nbformat": 4,
 "nbformat_minor": 5
}
