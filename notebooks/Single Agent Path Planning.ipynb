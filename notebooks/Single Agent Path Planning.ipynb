{
 "cells": [
  {
   "cell_type": "markdown",
   "id": "93964b26-d9f5-45ac-9818-50cc2951a2d5",
   "metadata": {},
   "source": [
    "# Navigation Environment Construction - 2D\n",
    "\n",
    "Boundaries.\n",
    "\n",
    "Static obstacles.\n",
    "\n",
    "Environment Visualization.\n"
   ]
  },
  {
   "cell_type": "code",
   "execution_count": 1,
   "id": "4f6a1483-2bff-48b4-a976-d9891665966d",
   "metadata": {},
   "outputs": [],
   "source": [
    "import sys\n",
    "sys.path.append('../')\n",
    "from panav.env import NavigationEnv, Box2DObstacle, PolygonObstacle\n",
    "from panav.viz import draw_env\n",
    "%load_ext autoreload\n",
    "%autoreload 2"
   ]
  },
  {
   "cell_type": "code",
   "execution_count": 16,
   "id": "0bd87acc-f1f4-411c-a0ff-a050d20afa47",
   "metadata": {},
   "outputs": [],
   "source": [
    "import shapely\n",
    "import numpy as np\n",
    "from matplotlib import pyplot as plt\n",
    "\n",
    "start_locs = np.array([[-1,-1]])\n",
    "goal_locs = np.array([[9,9]])\n",
    "\n",
    "\n",
    "start_box_side = [1,1]\n",
    "goal_box_side = [1,1]\n",
    "\n",
    "starts = []\n",
    "for s in start_locs:\n",
    "    xl = start_box_side[0]\n",
    "    yl = start_box_side[1]\n",
    "    start_region = shapely.geometry.box(s[0]-xl/2,s[1]-yl/2\n",
    "                                       ,s[0]+xl/2,s[1]+yl/2)\n",
    "    starts.append(start_region)\n",
    "\n",
    "goals = []\n",
    "for g in goal_locs:\n",
    "    xl = goal_box_side[0]\n",
    "    yl = goal_box_side[1]\n",
    "    goal_region = shapely.geometry.box(g[0]-xl/2,g[1]-yl/2\n",
    "                                       ,g[0]+xl/2,g[1]+yl/2)\n",
    "    goals.append(goal_region)\n",
    "\n",
    "    "
   ]
  },
  {
   "cell_type": "code",
   "execution_count": 17,
   "id": "ca7affc5-6843-402f-aec0-60457d647b84",
   "metadata": {},
   "outputs": [],
   "source": [
    "limits = [(-10.0,10.0),(-10.0,10.0)]\n",
    "o=Box2DObstacle((0,3),(0,5))\n",
    "p = PolygonObstacle([[6,1],[10,2],[6,5]])\n",
    "env = NavigationEnv(limits,[o,p],starts,goals)"
   ]
  },
  {
   "cell_type": "code",
   "execution_count": 33,
   "id": "2eb22127-4885-4b0d-be54-7dc447a4927a",
   "metadata": {},
   "outputs": [
    {
     "data": {
      "image/png": "[encoded data removed]",
      "text/plain": [
       "<Figure size 640x480 with 1 Axes>"
      ]
     },
     "metadata": {},
     "output_type": "display_data"
    }
   ],
   "source": [
    "draw_env(env)"
   ]
  }
 ],
 "metadata": {
  "kernelspec": {
   "display_name": "Python 3 (ipykernel)",
   "language": "python",
   "name": "python3"
  },
  "language_info": {
   "codemirror_mode": {
    "name": "ipython",
    "version": 3
   },
   "file_extension": ".py",
   "mimetype": "text/x-python",
   "name": "python",
   "nbconvert_exporter": "python",
   "pygments_lexer": "ipython3",
   "version": "3.11.0"
  }
 },
 "nbformat": 4,
 "nbformat_minor": 5
}
