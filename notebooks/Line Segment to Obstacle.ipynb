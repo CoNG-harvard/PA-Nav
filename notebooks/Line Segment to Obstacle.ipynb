{
 "cells": [
  {
   "cell_type": "markdown",
   "id": "93964b26-d9f5-45ac-9818-50cc2951a2d5",
   "metadata": {},
   "source": [
    "# Line segment to obstacle"
   ]
  },
  {
   "cell_type": "code",
   "execution_count": 2,
   "id": "13042149-9e7c-458b-926d-1a3d1b7323af",
   "metadata": {},
   "outputs": [],
   "source": [
    "import shapely\n",
    "import numpy as np\n",
    "from shapely import affinity\n",
    "from shapely.plotting import plot_line,plot_polygon"
   ]
  },
  {
   "cell_type": "code",
   "execution_count": 3,
   "id": "69d50708-dacf-46ac-8149-56b4c5921965",
   "metadata": {},
   "outputs": [],
   "source": [
    "bloating_r = 0.5 \n",
    "x1,x2 = np.array([0,0]), np.array([0,1])\n",
    "\n",
    "\n",
    "b = shapely.geometry.LineString([x1,x2])\n",
    "b_p = affinity.scale(affinity.rotate(b,90),\n",
    "             xfact = 2*bloating_r/b.length,\n",
    "             yfact = 2*bloating_r/b.length,\n",
    "          )\n",
    "\n",
    "d = (x2-x1)*(1/2+bloating_r/b.length)\n",
    "\n",
    "side_1 = affinity.translate(b_p,*d)\n",
    "side_2 = affinity.translate(b_p,*(-d))"
   ]
  },
  {
   "cell_type": "code",
   "execution_count": 4,
   "id": "4ff53f78-4f67-4e7d-87ff-d3253f55441d",
   "metadata": {},
   "outputs": [
    {
     "data": {
      "text/plain": [
       "(<matplotlib.patches.PathPatch at 0x1189c2ad0>,\n",
       " <matplotlib.lines.Line2D at 0x118b01f50>)"
      ]
     },
     "execution_count": 4,
     "metadata": {},
     "output_type": "execute_result"
    },
    {
     "data": {
      "image/png": "[encoded data removed]",
      "text/plain": [
       "<Figure size 640x480 with 1 Axes>"
      ]
     },
     "metadata": {},
     "output_type": "display_data"
    }
   ],
   "source": [
    "\n",
    "\n",
    "plot_line(b)\n",
    "# plot_line(b_p)\n",
    "\n",
    "plot_line(side_1)\n",
    "\n",
    "plot_line(side_2)\n",
    "\n",
    "poly = shapely.geometry.Polygon([*side_1.coords,*side_2.coords]).convex_hull\n",
    "\n",
    "plot_polygon(poly)"
   ]
  },
  {
   "cell_type": "code",
   "execution_count": 6,
   "id": "5b040a9a-c08c-474c-b504-c3c9b82e3867",
   "metadata": {},
   "outputs": [
    {
     "data": {
      "text/plain": [
       "[(0.5, 1.5), (-0.5, 1.5), (0.5, -0.5), (-0.5, -0.5)]"
      ]
     },
     "execution_count": 6,
     "metadata": {},
     "output_type": "execute_result"
    }
   ],
   "source": [
    "[*side_1.coords,*side_2.coords]"
   ]
  },
  {
   "cell_type": "code",
   "execution_count": null,
   "id": "6033cf3e-5504-42ba-996d-999e435a366f",
   "metadata": {},
   "outputs": [],
   "source": [
    "import cvxpy as cp"
   ]
  },
  {
   "cell_type": "code",
   "execution_count": 162,
   "id": "562232fd-bc0d-4036-a39f-60f1496f562f",
   "metadata": {},
   "outputs": [
    {
     "data": {
      "text/plain": [
       "22.059010925024964"
      ]
     },
     "execution_count": 162,
     "metadata": {},
     "output_type": "execute_result"
    }
   ],
   "source": [
    "agent = 0\n",
    "\n",
    "bloating_r = 0.5\n",
    "\n",
    "d = 2\n",
    "K = 10\n",
    "t0 = 0\n",
    "vmax = 1.0\n",
    "M = 100 * np.max(np.abs(env.limits))\n",
    "\n",
    "\n",
    "start = env.starts[agent]\n",
    "goal = env.goals[agent]\n",
    "\n",
    "x = cp.Variable((d, K+1))\n",
    "t = cp.Variable(K+1)\n",
    "\n",
    "constraints = []\n",
    "\n",
    "# Boundary constraints\n",
    "constraints.append(x <= np.array(env.limits)[:,-1].reshape(-1,1) - bloating_r)\n",
    "constraints.append(x >= np.array(env.limits)[:,0].reshape(-1,1) + bloating_r)\n",
    "\n",
    "# Start and goal constraints\n",
    "constraints.append(start.A @ x[:,0] <= start.b)\n",
    "constraints.append(goal.A @ x[:,-1] <= goal.b)\n",
    "\n",
    "# Velocity constraints\n",
    "vb = vmax*(t[1:]-t[:-1])\n",
    "for i in range(d):\n",
    "    diff = x[i,1:]-x[i,:-1]\n",
    "    constraints.append(np.sqrt(2) * diff <= vb)\n",
    "    constraints.append(- vb <= np.sqrt(2) * diff)\n",
    "    \n",
    "\n",
    "# Static obstacle constraints\n",
    "for O in env.obstacles:\n",
    "    A, b= O.A,O.b\n",
    "    \n",
    "    H = A @ x-(b+ np.linalg.norm(A) * bloating_r).reshape(-1,1) # Bloating radius\n",
    "\n",
    "    alpha = cp.Variable((H.shape[0],K),boolean=True)\n",
    "    \n",
    "    constraints.append(H[:,1:] + M * (1-alpha)>=0)\n",
    "    constraints.append(H[:,:-1] + M * (1-alpha)>=0)\n",
    "    \n",
    "    constraints.append(cp.sum(alpha,axis = 0)>=1)\n",
    "\n",
    "\n",
    "# Time positivity constraint\n",
    "constraints.append(t[0]==t0)\n",
    "constraints.append(t[1:]>=t[:-1])\n",
    "\n",
    "prob = cp.Problem(cp.Minimize(t[-1]),constraints)\n",
    "\n",
    "prob.solve()"
   ]
  },
  {
   "cell_type": "code",
   "execution_count": 163,
   "id": "df4768e9-682d-4133-b400-613478da63a6",
   "metadata": {},
   "outputs": [
    {
     "data": {
      "text/plain": [
       "[<matplotlib.lines.Line2D at 0x12fbb9490>]"
      ]
     },
     "execution_count": 163,
     "metadata": {},
     "output_type": "execute_result"
    },
    {
     "data": {
      "image/png": "[encoded data removed]",
      "text/plain": [
       "<Figure size 640x480 with 1 Axes>"
      ]
     },
     "metadata": {},
     "output_type": "display_data"
    }
   ],
   "source": [
    "ax = plt.gca()\n",
    "draw_env(env, ax)\n",
    "ax.plot(x.value[0,:],x.value[1,:],marker = 'o')"
   ]
  }
 ],
 "metadata": {
  "kernelspec": {
   "display_name": "Python 3 (ipykernel)",
   "language": "python",
   "name": "python3"
  },
  "language_info": {
   "codemirror_mode": {
    "name": "ipython",
    "version": 3
   },
   "file_extension": ".py",
   "mimetype": "text/x-python",
   "name": "python",
   "nbconvert_exporter": "python",
   "pygments_lexer": "ipython3",
   "version": "3.11.0"
  }
 },
 "nbformat": 4,
 "nbformat_minor": 5
}
