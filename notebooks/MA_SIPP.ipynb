{
 "cells": [
  {
   "cell_type": "markdown",
   "id": "bb863552-d8f1-4aac-b626-a4db1f3e669c",
   "metadata": {},
   "source": [
    "# Multi-agent SIPP"
   ]
  },
  {
   "cell_type": "code",
   "execution_count": 1,
   "id": "8b612f38-a3d9-44ae-bbbe-d022f44202ab",
   "metadata": {},
   "outputs": [],
   "source": [
    "import networkx as nx\n",
    "from matplotlib import pyplot as plt\n",
    "import numpy as np\n",
    "\n",
    "import sys\n",
    "sys.path.append('../')\n",
    "\n",
    "sys.path.append('../../')\n",
    "\n",
    "from panav.util import interpolate_positions\n",
    "\n",
    "from panav.SIPP import compute_safe_intervals, plan_to_transitions,SIPP\n",
    "\n",
    "from matplotlib.animation import FuncAnimation\n",
    "\n",
    "from IPython.display import HTML, display\n",
    "\n",
    "\n",
    "from panav.viz import animate_MAPF_R\n",
    "\n",
    "%load_ext autoreload\n",
    "%autoreload 2"
   ]
  },
  {
   "cell_type": "code",
   "execution_count": 2,
   "id": "0133b071-3027-4759-8abb-69341aa81a2d",
   "metadata": {},
   "outputs": [],
   "source": [
    "node_locs = np.array([[0,1],\n",
    "                      [0,-1],\n",
    "                      [1,0],\n",
    "                      [2,0],\n",
    "                      [3,0],\n",
    "                      [4,0],\n",
    "                      [5,1],\n",
    "                      [5,-1]])\n",
    "N = len(node_locs)\n",
    "\n",
    "G = nx.DiGraph()\n",
    "G.add_nodes_from(range(N))\n",
    "edges = [(0,2),\n",
    "          (1,2),\n",
    "          (2,3),\n",
    "          (3,4),\n",
    "          (4,5),\n",
    "          (5,6),\n",
    "          (5,7)]\n",
    "\n",
    "G.add_edges_from(edges)\n",
    "G.add_edges_from(e[::-1] for e in edges)\n",
    "\n",
    "# We manually add the bi-directional edges here, because\n",
    "# using nx.to_directed(a undirected graph) causes issue when accessing edge values."
   ]
  },
  {
   "cell_type": "code",
   "execution_count": 3,
   "id": "8a15b791-f1e9-473a-9ce5-23f274c4210b",
   "metadata": {},
   "outputs": [],
   "source": [
    "starts = [0,1]\n",
    "goals = [6,7]\n",
    "\n",
    "v_max = 1.0\n",
    "bloating_r = 0.2\n",
    "\n",
    "nx.set_edge_attributes(G,\n",
    "                       {e:np.linalg.norm(node_locs[e[0]]-node_locs[e[1]])/v_max\\\n",
    "                          for e in G.edges},\n",
    "                       'weight')"
   ]
  },
  {
   "cell_type": "code",
   "execution_count": 4,
   "id": "8d0ba652-d7ba-4ea5-a6b7-8b7320749ee5",
   "metadata": {},
   "outputs": [],
   "source": [
    "def simple_path_to_plan(G_path):\n",
    "    start_node = G_path[0]\n",
    "    goal_node = G_path[-1]\n",
    "\n",
    "    G_plan = [(start_node,0)]\n",
    "\n",
    "    agent_loc = node_locs[start_node]\n",
    "    t = 0\n",
    "    wait_pos = 3\n",
    "    wait_t = 3.5\n",
    "    for i in range(len(G_path)-1):\n",
    "        t+=G.edges[G_path[i],G_path[i+1]]['weight']\n",
    "        G_plan.append((G_path[i+1],t))\n",
    "        if i==wait_pos:\n",
    "            t+=wait_t\n",
    "            G_plan.append((G_path[i+1],t))\n",
    "\n",
    "\n",
    "    return G_plan"
   ]
  },
  {
   "cell_type": "code",
   "execution_count": 5,
   "id": "03817819-5b8c-428c-9ad6-643f06a34010",
   "metadata": {},
   "outputs": [],
   "source": [
    "G_path = [0,2,3,4,5,6]\n",
    "\n",
    "plan = simple_path_to_plan(G_path)"
   ]
  },
  {
   "cell_type": "code",
   "execution_count": 6,
   "id": "2477f9b2-d0b3-428b-ae6b-4485761c23f7",
   "metadata": {},
   "outputs": [],
   "source": [
    "agent_path = [1,2,3,4,5,7]\n",
    "\n",
    "agent_plan = simple_path_to_plan(agent_path)\n"
   ]
  },
  {
   "cell_type": "code",
   "execution_count": 12,
   "id": "acaea7db-5470-418a-825d-1a3afc7e7e99",
   "metadata": {},
   "outputs": [],
   "source": [
    "safe_plan = SIPP(G,node_locs,starts[1],goals[1], plan_to_transitions(plan), v_max, bloating_r)"
   ]
  },
  {
   "cell_type": "code",
   "execution_count": 18,
   "id": "e360008c-a207-4240-aabf-f76c2cada555",
   "metadata": {},
   "outputs": [],
   "source": [
    "from panav.MAPFR_conflict import MAPFR_conflict"
   ]
  },
  {
   "cell_type": "code",
   "execution_count": 19,
   "id": "6e4a4c27-0adb-4467-82db-1ef7d827b3e0",
   "metadata": {},
   "outputs": [],
   "source": [
    "MAPFR_conflict([safe_plan,plan],node_locs,bloating_r)"
   ]
  },
  {
   "cell_type": "code",
   "execution_count": 20,
   "id": "257d4d28-0afc-4ad7-9c66-39a050d1ab34",
   "metadata": {},
   "outputs": [
    {
     "data": {
      "text/plain": [
       "{'agents': (0, 1),\n",
       " 'conflict': [{'agent': 0,\n",
       "   'transition': (1, 2),\n",
       "   'duration': (0, 1.4142135623730951)},\n",
       "  {'agent': 1, 'transition': (0, 2), 'duration': (0, 1.4142135623730951)}]}"
      ]
     },
     "execution_count": 20,
     "metadata": {},
     "output_type": "execute_result"
    }
   ],
   "source": [
    "MAPFR_conflict([agent_plan,plan],node_locs,bloating_r)"
   ]
  }
 ],
 "metadata": {
  "kernelspec": {
   "display_name": "Python 3 (ipykernel)",
   "language": "python",
   "name": "python3"
  },
  "language_info": {
   "codemirror_mode": {
    "name": "ipython",
    "version": 3
   },
   "file_extension": ".py",
   "mimetype": "text/x-python",
   "name": "python",
   "nbconvert_exporter": "python",
   "pygments_lexer": "ipython3",
   "version": "3.11.0"
  }
 },
 "nbformat": 4,
 "nbformat_minor": 5
}
