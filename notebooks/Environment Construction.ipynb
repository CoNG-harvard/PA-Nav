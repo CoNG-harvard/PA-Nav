{
 "cells": [
  {
   "cell_type": "markdown",
   "id": "93964b26-d9f5-45ac-9818-50cc2951a2d5",
   "metadata": {},
   "source": [
    "# Environment Construction and Visualization-2D"
   ]
  },
  {
   "cell_type": "code",
   "execution_count": 1,
   "id": "4f6a1483-2bff-48b4-a976-d9891665966d",
   "metadata": {},
   "outputs": [],
   "source": [
    "import sys\n",
    "sys.path.append('../')\n",
    "from panav.env import NavigationEnv, Box2DRegion, PolygonRegion,box_2d_center\n",
    "from panav.viz import draw_env\n",
    "%load_ext autoreload\n",
    "%autoreload 2"
   ]
  },
  {
   "cell_type": "code",
   "execution_count": 2,
   "id": "0bd87acc-f1f4-411c-a0ff-a050d20afa47",
   "metadata": {},
   "outputs": [],
   "source": [
    "import shapely\n",
    "import numpy as np\n",
    "from matplotlib import pyplot as plt\n",
    "\n",
    "start_locs = np.array([[-1,-1],[-2,-3]])\n",
    "goal_locs = np.array([[9,9],[5,7]])\n",
    "\n",
    "\n",
    "start_box_side = np.array([1,1])\n",
    "goal_box_side = np.array([1,1])\n",
    "\n",
    "starts = [box_2d_center(s,start_box_side) for s in start_locs]\n",
    "\n",
    "goals = [box_2d_center(g,goal_box_side) for g in goal_locs]\n"
   ]
  },
  {
   "cell_type": "code",
   "execution_count": 4,
   "id": "ca7affc5-6843-402f-aec0-60457d647b84",
   "metadata": {},
   "outputs": [],
   "source": [
    "limits = [(-10.0,10.0),(-10.0,10.0)]\n",
    "o=Box2DRegion((0,3),(0,5))\n",
    "p = PolygonRegion([[6,1],[10,2],[6,5]])\n",
    "env = NavigationEnv(limits,[o,p],starts,goals)"
   ]
  },
  {
   "cell_type": "code",
   "execution_count": 5,
   "id": "2eb22127-4885-4b0d-be54-7dc447a4927a",
   "metadata": {},
   "outputs": [
    {
     "data": {
      "image/png": "[encoded data removed]",
      "text/plain": [
       "<Figure size 640x480 with 1 Axes>"
      ]
     },
     "metadata": {},
     "output_type": "display_data"
    }
   ],
   "source": [
    "draw_env(env)"
   ]
  }
 ],
 "metadata": {
  "kernelspec": {
   "display_name": "Python 3 (ipykernel)",
   "language": "python",
   "name": "python3"
  },
  "language_info": {
   "codemirror_mode": {
    "name": "ipython",
    "version": 3
   },
   "file_extension": ".py",
   "mimetype": "text/x-python",
   "name": "python",
   "nbconvert_exporter": "python",
   "pygments_lexer": "ipython3",
   "version": "3.11.0"
  }
 },
 "nbformat": 4,
 "nbformat_minor": 5
}
