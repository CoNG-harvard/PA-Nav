{
 "cells": [
  {
   "cell_type": "markdown",
   "id": "93964b26-d9f5-45ac-9818-50cc2951a2d5",
   "metadata": {},
   "source": [
    "# Detect tunnels in the environment"
   ]
  },
  {
   "cell_type": "code",
   "execution_count": 1,
   "id": "4f6a1483-2bff-48b4-a976-d9891665966d",
   "metadata": {},
   "outputs": [],
   "source": [
    "import sys\n",
    "sys.path.append('../')\n",
    "from panav.env import NavigationEnv, Box2DRegion, PolygonRegion, box_2d_center, line_seg_to_obstacle\n",
    "from panav.viz import draw_env\n",
    "\n",
    "import shapely\n",
    "import numpy as np\n",
    "from matplotlib import pyplot as plt\n",
    "\n",
    "%load_ext autoreload\n",
    "%autoreload 2"
   ]
  },
  {
   "cell_type": "code",
   "execution_count": 53,
   "id": "8ac07c17-a1e4-45bf-a096-ffb806fe74c3",
   "metadata": {},
   "outputs": [],
   "source": [
    "\n",
    "start_locs = np.array([[5,1],[-5,-1]])\n",
    "goal_locs = np.array([[-5,1],[5,-1]])\n",
    "\n",
    "\n",
    "start_box_side = np.array([1,1])\n",
    "goal_box_side = np.array([1,1])\n",
    "\n",
    "starts = [box_2d_center(s,start_box_side) for s in start_locs]\n",
    "\n",
    "goals = [box_2d_center(g,goal_box_side) for g in goal_locs]\n",
    "\n",
    "O1 = Box2DRegion((-5.0,-0.5),(0.5,10))\n",
    "O2 = Box2DRegion((-0.0,5.0),(-10,-1.0))\n",
    "\n",
    "limits = [(-10.0,10.0),(-10.0,10.0)]\n",
    "\n",
    "bloating_r = 0.5 \n",
    "\n",
    "env = NavigationEnv(limits,[O1,O2],starts,goals)"
   ]
  },
  {
   "cell_type": "code",
   "execution_count": 59,
   "id": "bf853ff8-c9bd-4ac8-b866-a31d381612b7",
   "metadata": {},
   "outputs": [],
   "source": [
    "import shapely\n",
    "from shapely.ops import nearest_points\n",
    "from shapely.affinity import translate,rotate"
   ]
  },
  {
   "cell_type": "code",
   "execution_count": 72,
   "id": "20509957-9ea9-473f-a8a0-1fc3f1fd902f",
   "metadata": {},
   "outputs": [],
   "source": []
  },
  {
   "cell_type": "code",
   "execution_count": 85,
   "id": "75ef7836-b994-46a6-b308-b99775e99547",
   "metadata": {},
   "outputs": [],
   "source": [
    "from shapely.plotting import plot_polygon, plot_points, plot_line\n",
    "from shapely import Polygon,LineString,Point\n",
    "\n",
    "import cvxpy as cp"
   ]
  },
  {
   "cell_type": "code",
   "execution_count": 107,
   "id": "5095f605-c524-49b9-a153-622ec08ace29",
   "metadata": {},
   "outputs": [],
   "source": [
    "\n",
    "def extension_sticks(O1,O2,ext_l):\n",
    "    pts = nearest_points(O2.vertices(),O1.vertices())\n",
    "\n",
    "    neck = LineString(pts)\n",
    "    perp = rotate(neck,90)\n",
    "\n",
    "    direction = np.array(perp.coords[:])\n",
    "    direction = direction[1]-direction[0]\n",
    "\n",
    "    direction /= np.linalg.norm(direction)\n",
    "\n",
    "    shifted_neck = translate(neck, *ext_l*direction)\n",
    "\n",
    "    shift_origin = np.mean(shifted_neck.coords,axis= 0)\n",
    "\n",
    "    projs = []\n",
    "    dists = []\n",
    "    for O in [O1,O2]:\n",
    "        A,b = O.A,O.b\n",
    "\n",
    "        x_proj = cp.Variable(shift_origin.shape)\n",
    "        constraints = [(x_proj - shift_origin) @ direction ==0,\n",
    "                      A @ x_proj<=b]\n",
    "        prob = cp.Problem(cp.Minimize(cp.norm(x_proj-shift_origin)),constraints)\n",
    "\n",
    "        dist = prob.solve()\n",
    "\n",
    "        if dist is None:\n",
    "            projs.append(None)\n",
    "            dists.append(None)\n",
    "        else:\n",
    "            projs.append(x_proj.value)\n",
    "            dists.append(dist)\n",
    "    return projs, dists"
   ]
  },
  {
   "cell_type": "code",
   "execution_count": 112,
   "id": "3bcc4144-885d-4e45-b7f5-0ca8e1d93cfe",
   "metadata": {},
   "outputs": [
    {
     "data": {
      "image/png": "[encoded data removed]",
      "text/plain": [
       "<Figure size 640x480 with 1 Axes>"
      ]
     },
     "metadata": {},
     "output_type": "display_data"
    }
   ],
   "source": [
    "ax = plt.gca()\n",
    "\n",
    "draw_env(env,ax=ax)\n",
    "plot_points(pts,ax=ax)\n",
    "plot_line(neck,ax=ax)\n",
    "for ext_l in [0.1,0.5,1.0,2.0,-0.1,-0.5,-1.0,-2.0]:\n",
    "    projs,dists = extension_sticks(O1,O2,ext_l) \n",
    "    plot_points([Point(p) for p in projs],ax=ax, color = 'black')\n",
    "    plot_line(LineString([Point(p) for p in projs]),ax=ax, color = 'black')"
   ]
  }
 ],
 "metadata": {
  "kernelspec": {
   "display_name": "Python 3 (ipykernel)",
   "language": "python",
   "name": "python3"
  },
  "language_info": {
   "codemirror_mode": {
    "name": "ipython",
    "version": 3
   },
   "file_extension": ".py",
   "mimetype": "text/x-python",
   "name": "python",
   "nbconvert_exporter": "python",
   "pygments_lexer": "ipython3",
   "version": "3.11.0"
  }
 },
 "nbformat": 4,
 "nbformat_minor": 5
}
