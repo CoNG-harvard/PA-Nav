{
 "cells": [
  {
   "cell_type": "markdown",
   "id": "93964b26-d9f5-45ac-9818-50cc2951a2d5",
   "metadata": {},
   "source": [
    "# Construct the hybrid graph representation of a 2D cartesian map"
   ]
  },
  {
   "cell_type": "code",
   "execution_count": 6,
   "id": "4f6a1483-2bff-48b4-a976-d9891665966d",
   "metadata": {},
   "outputs": [
    {
     "name": "stdout",
     "output_type": "stream",
     "text": [
      "The autoreload extension is already loaded. To reload it, use:\n",
      "  %reload_ext autoreload\n"
     ]
    }
   ],
   "source": [
    "import sys\n",
    "sys.path.append('../../')\n",
    "from panav.env import NavigationEnv, Box2DRegion, PolygonRegion, box_2d_center, line_seg_to_obstacle\n",
    "from panav.viz import draw_env\n",
    "from panav.tunnels import detect_tunnels\n",
    "\n",
    "import shapely\n",
    "import numpy as np\n",
    "from matplotlib import pyplot as plt\n",
    "\n",
    "from shapely.plotting import plot_polygon, plot_points, plot_line\n",
    "from shapely import Polygon,LineString,Point\n",
    "\n",
    "\n",
    "%load_ext autoreload\n",
    "%autoreload 2"
   ]
  },
  {
   "cell_type": "markdown",
   "id": "b67dc3ff-8985-433d-b403-939046333390",
   "metadata": {},
   "source": [
    "## Step 1: detect tunnels in the environment"
   ]
  },
  {
   "cell_type": "code",
   "execution_count": 24,
   "id": "a60829bc-e82f-49f0-bc7d-4762a71d9228",
   "metadata": {},
   "outputs": [
    {
     "data": {
      "image/png": "[encoded data removed]",
      "text/plain": [
       "<Figure size 640x480 with 1 Axes>"
      ]
     },
     "metadata": {},
     "output_type": "display_data"
    }
   ],
   "source": [
    "start_box_side = np.array([1,1])\n",
    "goal_box_side = np.array([1,1])\n",
    "\n",
    "\n",
    "start_locs = np.array([[5,1],[-5,-1]])*1.5\n",
    "goal_locs = np.array([[-5,1],[5,-1]])*1.5\n",
    "\n",
    "\n",
    "starts = [box_2d_center(s,start_box_side) for s in start_locs]\n",
    "goals = [box_2d_center(g,goal_box_side) for g in goal_locs]\n",
    "\n",
    "O1 = Box2DRegion((-5.0,-0.5),(0.5,10))\n",
    "O2 = Box2DRegion((-0.0,5.0),(-10,-1.0))\n",
    "\n",
    "limits = [(-10.0,10.0),(-10.0,10.0)]\n",
    "\n",
    "bloating_r = 0.5 \n",
    "\n",
    "env = NavigationEnv(limits,[O1,O2],starts,goals)\n",
    "\n",
    "ax = plt.gca()\n",
    "\n",
    "draw_env(env,ax=ax)\n",
    "        \n",
    "\n",
    "labeled = False\n",
    "tunnels = detect_tunnels(env,bloating_r)\n",
    "for tunnel in tunnels:\n",
    "    plot_polygon(tunnel.region,ax=ax,label='Tunnels' if not labeled else None,add_points =False)\n",
    "    ent_pts = np.array(tunnel.end_points)\n",
    "    plt.scatter(ent_pts[:,0],ent_pts[:,1])\n",
    "\n",
    "    labeled=True\n",
    "    \n",
    "ax.legend()\n",
    "plt.show()"
   ]
  },
  {
   "cell_type": "markdown",
   "id": "61dc04e8-f975-4dd1-9058-74b7f7719d57",
   "metadata": {},
   "source": [
    "## Step 2: assign locations to nodes in the hybrid graph"
   ]
  },
  {
   "cell_type": "code",
   "execution_count": 43,
   "id": "49bdfcaf",
   "metadata": {},
   "outputs": [],
   "source": [
    "import networkx as nx\n",
    "G = nx.DiGraph()\n",
    "nx.set_node_attributes(G,(0,0),'loc') # Every node has a location attribute: loc \\in R^d.\n",
    "nx.set_node_attributes(G,'','type') # Every node has a type attribute: type \\in {'start','goal','tunnel'}. Tunnel endpoints are of type 'tunnel'\n",
    "nx.set_edge_attributes(G,'','type') # Every edge has a hardness attribute: type \\in {'soft','hard'}.\n",
    "\n",
    "for i,tunnel in enumerate(tunnels): # Add hard edges + tunnel nodes\n",
    "    u = 2*i\n",
    "    v = 2*i+1\n",
    "    \n",
    "    G.add_node(u,type='tunnel',loc = tunnel.end_points[0])\n",
    "    G.add_node(v,type='tunnel',loc = tunnel.end_points[1])\n",
    "\n",
    "    G.add_edge(u,v,type='hard')\n",
    "    G.add_edge(v,u,type='hard')\n",
    "    "
   ]
  },
  {
   "cell_type": "code",
   "execution_count": 44,
   "id": "c724c0de",
   "metadata": {},
   "outputs": [
    {
     "name": "stdout",
     "output_type": "stream",
     "text": [
      "(0, 2)\n",
      "(0, 3)\n",
      "(0, 4)\n",
      "(0, 5)\n",
      "(1, 2)\n",
      "(1, 3)\n",
      "(1, 4)\n",
      "(1, 5)\n",
      "(2, 0)\n",
      "(2, 1)\n",
      "(2, 4)\n",
      "(2, 5)\n",
      "(3, 0)\n",
      "(3, 1)\n",
      "(3, 4)\n",
      "(3, 5)\n",
      "(4, 0)\n",
      "(4, 1)\n",
      "(4, 2)\n",
      "(4, 3)\n",
      "(5, 0)\n",
      "(5, 1)\n",
      "(5, 2)\n",
      "(5, 3)\n"
     ]
    }
   ],
   "source": [
    "from itertools import product\n",
    "# Add start nodes\n",
    "G.add_nodes_from(np.arange(G.number_of_nodes(),\n",
    "                    G.number_of_nodes() \\\n",
    "                    +len(start_locs)), type = 'start',loc = start_locs )\n",
    "\n",
    "# Add goal nodes\n",
    "G.add_nodes_from(np.arange(G.number_of_nodes(),\n",
    "                    G.number_of_nodes() \\\n",
    "                    +len(goal_locs)), type = 'goal',loc = goal_locs )\n",
    "\n",
    "# Add soft edges\n",
    "\n",
    "for u,v in product(G.nodes,G.nodes):\n",
    "    if not (u,v) in G.edges and not G.nodes[u]['type'] == G.nodes[v]['type'] :\n",
    "        G.add_edge(u,v,type = 'soft')\n",
    "        G.add_edge(v,u,type = 'soft')\n",
    "        print((u,v))"
   ]
  },
  {
   "cell_type": "code",
   "execution_count": 40,
   "id": "61b85aa1",
   "metadata": {},
   "outputs": [
    {
     "data": {
      "text/plain": [
       "NodeDataView({0: {'loc': array([-0.39823, -0.29941])}, 1: {'loc': array([-0.10177, -0.20059])}, 2: {}, 3: {}, 4: {}, 5: {}, 6: {'type': 'start'}, 7: {'type': 'start'}, 8: {'type': 'goal'}, 9: {'type': 'goal'}})"
      ]
     },
     "execution_count": 40,
     "metadata": {},
     "output_type": "execute_result"
    }
   ],
   "source": [
    "G.nodes(data=True)"
   ]
  },
  {
   "cell_type": "code",
   "execution_count": null,
   "id": "77037b80",
   "metadata": {},
   "outputs": [],
   "source": []
  }
 ],
 "metadata": {
  "kernelspec": {
   "display_name": "Python 3 (ipykernel)",
   "language": "python",
   "name": "python3"
  },
  "language_info": {
   "codemirror_mode": {
    "name": "ipython",
    "version": 3
   },
   "file_extension": ".py",
   "mimetype": "text/x-python",
   "name": "python",
   "nbconvert_exporter": "python",
   "pygments_lexer": "ipython3",
   "version": "3.11.0"
  }
 },
 "nbformat": 4,
 "nbformat_minor": 5
}
