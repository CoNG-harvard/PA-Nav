{
 "cells": [
  {
   "cell_type": "markdown",
   "id": "93964b26-d9f5-45ac-9818-50cc2951a2d5",
   "metadata": {},
   "source": [
    "# Construct the hybrid graph representation of a 2D cartesian map"
   ]
  },
  {
   "cell_type": "code",
   "execution_count": 2,
   "id": "4f6a1483-2bff-48b4-a976-d9891665966d",
   "metadata": {},
   "outputs": [],
   "source": [
    "import sys\n",
    "sys.path.append('../../')\n",
    "from panav.env import NavigationEnv, Box2DRegion, PolygonRegion, box_2d_center, line_seg_to_obstacle\n",
    "from panav.viz import draw_env\n",
    "from panav.tunnels import detect_tunnels,get_entry_exit\n",
    "\n",
    "from panav.util import unique_tx\n",
    "\n",
    "import shapely\n",
    "import numpy as np\n",
    "from matplotlib import pyplot as plt\n",
    "\n",
    "from shapely.plotting import plot_polygon, plot_points, plot_line\n",
    "from shapely import Polygon,LineString,Point\n",
    "\n",
    "\n",
    "%load_ext autoreload\n",
    "%autoreload 2"
   ]
  },
  {
   "cell_type": "markdown",
   "id": "b67dc3ff-8985-433d-b403-939046333390",
   "metadata": {},
   "source": [
    "## Step 1: detect tunnels in the environment"
   ]
  },
  {
   "cell_type": "code",
   "execution_count": 111,
   "id": "a60829bc-e82f-49f0-bc7d-4762a71d9228",
   "metadata": {},
   "outputs": [
    {
     "name": "stderr",
     "output_type": "stream",
     "text": [
      "/Users/tianpengzhang/opt/miniconda3/envs/PA-Nav/lib/python3.11/site-packages/shapely/predicates.py:798: RuntimeWarning: invalid value encountered in intersects\n",
      "  return lib.intersects(a, b, **kwargs)\n"
     ]
    },
    {
     "name": "stdout",
     "output_type": "stream",
     "text": [
      "0 1 Pass through tunnel\n",
      "0 2 Pass through tunnel\n",
      "0 3 Pass through tunnel\n",
      "0 4 Does not pass through any tunnel\n",
      "0 5 Does not pass through any tunnel\n",
      "0 6 Does not pass through any tunnel\n",
      "0 7 Pass through tunnel\n",
      "1 2 Does not pass through any tunnel\n",
      "1 3 Does not pass through any tunnel\n",
      "1 4 Pass through tunnel\n",
      "1 5 Pass through tunnel\n",
      "1 6 Pass through tunnel\n",
      "1 7 Does not pass through any tunnel\n"
     ]
    }
   ],
   "source": [
    "import networkx as nx\n",
    "from itertools import product\n",
    "from functools import partial\n",
    "\n",
    "from panav.SAMP import Tube_Planning\n",
    "\n",
    "class HybridGraph(nx.Graph):\n",
    "    def __init__(self, env, agent_radius) -> None:\n",
    "        super().__init__()\n",
    "        # env: a panav.env.NavigationEnv object.\n",
    "        # agent_radius: double, the bloating radius of the agent. Used in tunnel detection.\n",
    "        \n",
    "        self.env = env\n",
    "        self.open_spaces = []\n",
    "\n",
    "        self.start_nodes = set()\n",
    "        self.goal_nodes = set()\n",
    "        self.tunnel_nodes = set()\n",
    "        \n",
    "        self.continuous_path_planner = partial(Tube_Planning, \n",
    "                                        env = self.env, \n",
    "                                        bloating_r = agent_radius, \n",
    "                                        obs_trajectories=[], \n",
    "                                        d = 2,  # Path planning parameters are hard coded for now.\n",
    "                                        K = 3,\n",
    "                                            vmax = 1.0)\n",
    "        \n",
    "        self.tunnels = detect_tunnels(env,agent_radius)\n",
    "        self.__construct_hybrid_graph__()\n",
    "\n",
    "       \n",
    "        \n",
    "    def __construct_hybrid_graph__(self):\n",
    "        \n",
    "        # Every node has a region attribute: a panav.env.Region object. To get its location, call self.nodes[s]['region'].centroid()\n",
    "        # Every node has a type attribute: type \\in {'start','goal','tunnel'}. Tunnel endpoints are of type 'tunnel'\n",
    "        # Every edge has a hardness attribute: type \\in {'soft','hard'}.\n",
    "\n",
    "        # Add hard edges + tunnel nodes\n",
    "        for i,tunnel in enumerate(self.tunnels): \n",
    "            u = 2*i\n",
    "            v = 2*i+1\n",
    "\n",
    "            self.add_node(u,type='tunnel',region = tunnel.end_regions[0])\n",
    "            self.add_node(v,type='tunnel',region = tunnel.end_regions[1])\n",
    "\n",
    "            self.add_edge(u,v,type='hard')\n",
    "            self.tunnel_nodes.update({u,v})\n",
    "\n",
    "        starts,goals = self.env.starts, self.env.goals\n",
    "        # Add start nodes\n",
    "        self.start_nodes = set(np.arange(self.number_of_nodes(),\n",
    "                self.number_of_nodes()+len(starts)))\n",
    "        self.add_nodes_from(self.start_nodes, type = 'start')\n",
    "        nx.set_node_attributes(self,{n:{'region':region,'agent':agent} for agent,(n,region) in enumerate(zip(self.start_nodes,starts))})\n",
    "\n",
    "        # Add goal nodes\n",
    "        self.goal_nodes = set(np.arange(self.number_of_nodes(),\n",
    "                self.number_of_nodes()+len(goals)))\n",
    "        self.add_nodes_from(self.goal_nodes, type = 'goal')\n",
    "        nx.set_node_attributes(self,{n:{'region':region,'agent':agent} for agent,(n,region) in enumerate(zip(self.goal_nodes,goals))})\n",
    "        \n",
    "        # Add soft edges\n",
    "        G_soft = nx.Graph() # Temporary graph to store soft edges and determine how nodes are grouped by open spaces.\n",
    "        for u,v in product(self.nodes,self.nodes):\n",
    "            if u<v and not (u,v) in G_soft.edges:\n",
    "\n",
    "                # Eliminate start to start, goal to goal connections. \n",
    "                # If it's a start to goal connection, consider soft edge establishment only when they are the start and goal for the same agent. \n",
    "                if self.nodes[u]['type'] in ['start','goal'] and self.nodes[v]['type'] in ['start','goal']:\n",
    "                    continue \n",
    "\n",
    "                ## Determine if the shortest path between u, v passes through any tunnels\n",
    "             \n",
    "                # Plan the shortest continuous path             \n",
    "                path = self.continuous_path_planner(start = self.nodes[u]['region'],goal = self.nodes[v]['region'])\n",
    "\n",
    "                if path is None:\n",
    "                    print(\"Path not find. Consider increasing the K value. Skipping edge \",u,v)\n",
    "                    continue\n",
    "                else:\n",
    "                    _,x = unique_tx(*path)\n",
    "                    \n",
    "                # See if the path passes through any tunnels\n",
    "                through_some_tunnel = False\n",
    "                for tunnel in self.tunnels:\n",
    "                    ent, ex = get_entry_exit(tunnel,x)\n",
    "\n",
    "                    if not(ent is None and ex is None):\n",
    "                        print(u,v,\"Pass through tunnel\")\n",
    "                        through_some_tunnel = True\n",
    "                        break\n",
    "\n",
    "                if not through_some_tunnel: # u-v does not pass through any tunnel.\n",
    "                    print(u,v,'Does not pass through any tunnel')\n",
    "                    G_soft.add_edge(u,v,type='soft', continuous_path = x)\n",
    "        \n",
    "        self.open_spaces = [c for c in nx.connected_components(G_soft)]\n",
    "        # Give all nodes in the graph an open space id\n",
    "        for id, c in enumerate(self.open_spaces):\n",
    "            for s in c:\n",
    "                self.nodes[s]['open_space_id'] = id\n",
    "\n",
    "        # Add soft edges to G\n",
    "        self.add_edges_from(G_soft.edges(data=True))    \n",
    "                    \n",
    "\n",
    "        \n",
    "\n",
    "# 2D navigation environment\n",
    "start_box_side = np.array([1,1])\n",
    "goal_box_side = np.array([1,1])\n",
    "\n",
    "\n",
    "start_locs = np.array([[5,1],[5,3],[-5,-1]])*1.5\n",
    "\n",
    "goal_locs = np.array([[-5,1],[-5,3],[5,-1]])*1.5\n",
    "\n",
    "\n",
    "\n",
    "starts = [box_2d_center(s,start_box_side) for s in start_locs]\n",
    "goals = [box_2d_center(g,goal_box_side) for g in goal_locs]\n",
    "\n",
    "O1 = Box2DRegion((-5.0,-0.5),(0.5,10))\n",
    "\n",
    "O2 = Box2DRegion((-0.0,5.0),(-10,-1.0))\n",
    "\n",
    "\n",
    "# O1 = Box2DRegion((-2.5,2.5),(0.5,10))\n",
    "# O2 = Box2DRegion((-2.5,2.5),(-10,-1.0))\n",
    "\n",
    "limits = [(-10.0,10.0),(-10.0,10.0)]\n",
    "\n",
    "bloating_r = 0.5 \n",
    "\n",
    "env = NavigationEnv(limits,[O1,O2],starts,goals)\n",
    "\n",
    "\n",
    "# Construct the hybrid graph representation of the environment\n",
    "\n",
    "HG =  HybridGraph(env,bloating_r)\n"
   ]
  },
  {
   "cell_type": "code",
   "execution_count": 113,
   "id": "c94daae7",
   "metadata": {},
   "outputs": [
    {
     "data": {
      "image/png": "[encoded data removed]",
      "text/plain": [
       "<Figure size 640x480 with 1 Axes>"
      ]
     },
     "metadata": {},
     "output_type": "display_data"
    }
   ],
   "source": [
    "ax = plt.gca()\n",
    "\n",
    "labeled = False\n",
    "for tunnel in HG.tunnels:\n",
    "    plot_polygon(tunnel.region,ax=ax,label='Tunnel' if not labeled else None,add_points =False)\n",
    "    ent_pts = np.array(tunnel.end_points)\n",
    "    labeled=True\n",
    "\n",
    "draw_env(HG.env,ax=ax)\n",
    "\n",
    "soft_labeled = False\n",
    "hard_labeled = False\n",
    "for e in HG.edges:  \n",
    "    if HG.edges[e]['type'] == 'soft':  \n",
    "        path = HG.edges[e]['continuous_path']\n",
    "        ax.plot(path[0,:],path[1,:],alpha = 0.5,color = 'g',ls = 'dotted',label = \"Soft edge\" if not soft_labeled else None)\n",
    "        soft_labeled = True\n",
    "    else:\n",
    "        u,v = e\n",
    "        endpoint_locs = np.asarray([HG.nodes[u]['region'].centroid().coords[0],HG.nodes[v]['region'].centroid().coords[0]])\n",
    "        ax.plot(endpoint_locs[:,0],endpoint_locs[:,1],lw = 2,color = 'black', label = \"Hard edge\" if not hard_labeled else None)\n",
    "        hard_labeled = True\n",
    "\n",
    "   \n",
    "ax.legend()\n",
    "plt.show()    \n",
    "\n"
   ]
  },
  {
   "cell_type": "code",
   "execution_count": 101,
   "id": "f2d752ba",
   "metadata": {},
   "outputs": [
    {
     "data": {
      "text/plain": [
       "array([[-1.34692, -0.61564],\n",
       "       [ 0.84692,  0.11564]])"
      ]
     },
     "execution_count": 101,
     "metadata": {},
     "output_type": "execute_result"
    }
   ],
   "source": [
    "endpoints"
   ]
  },
  {
   "cell_type": "code",
   "execution_count": 59,
   "id": "02dfba37",
   "metadata": {},
   "outputs": [
    {
     "data": {
      "text/plain": [
       "{2, 3, 4}"
      ]
     },
     "execution_count": 59,
     "metadata": {},
     "output_type": "execute_result"
    }
   ],
   "source": [
    "HG.start_nodes\n",
    "    "
   ]
  },
  {
   "cell_type": "code",
   "execution_count": 60,
   "id": "b758faca",
   "metadata": {},
   "outputs": [
    {
     "data": {
      "text/plain": [
       "{5, 6, 7}"
      ]
     },
     "execution_count": 60,
     "metadata": {},
     "output_type": "execute_result"
    }
   ],
   "source": [
    "HG.goal_nodes\n",
    "    "
   ]
  },
  {
   "cell_type": "markdown",
   "id": "61dc04e8-f975-4dd1-9058-74b7f7719d57",
   "metadata": {},
   "source": [
    "## Step 2: assign locations to nodes in the hybrid graph"
   ]
  },
  {
   "cell_type": "code",
   "execution_count": 7,
   "id": "49bdfcaf",
   "metadata": {},
   "outputs": [],
   "source": [
    "import networkx as nx\n"
   ]
  },
  {
   "cell_type": "code",
   "execution_count": 8,
   "id": "246b099b",
   "metadata": {},
   "outputs": [
    {
     "data": {
      "text/plain": [
       "NodeDataView({0: {'type': 'tunnel', 'loc': array([-0.4931 , -0.33103])}, 1: {'type': 'tunnel', 'loc': array([-0.0069 , -0.16897])}, 2: {'type': 'start', 'loc': array([7.5, 1.5]), 'agent': 0}, 3: {'type': 'start', 'loc': array([7.5, 4.5]), 'agent': 1}, 4: {'type': 'start', 'loc': array([-7.5, -1.5]), 'agent': 2}, 5: {'type': 'goal', 'loc': array([-7.5,  1.5]), 'agent': 0}, 6: {'type': 'goal', 'loc': array([-7.5,  4.5]), 'agent': 1}, 7: {'type': 'goal', 'loc': array([ 7.5, -1.5]), 'agent': 2}})"
      ]
     },
     "execution_count": 8,
     "metadata": {},
     "output_type": "execute_result"
    }
   ],
   "source": [
    "G.nodes(data=True)"
   ]
  },
  {
   "cell_type": "markdown",
   "id": "c18b4aa7",
   "metadata": {},
   "source": []
  },
  {
   "cell_type": "code",
   "execution_count": 9,
   "id": "c724c0de",
   "metadata": {},
   "outputs": [
    {
     "name": "stderr",
     "output_type": "stream",
     "text": [
      "/Users/tianpengzhang/opt/miniconda3/envs/PA-Nav/lib/python3.11/site-packages/shapely/predicates.py:798: RuntimeWarning: invalid value encountered in intersects\n",
      "  return lib.intersects(a, b, **kwargs)\n"
     ]
    }
   ],
   "source": [
    "\n"
   ]
  },
  {
   "cell_type": "code",
   "execution_count": 10,
   "id": "594c7391",
   "metadata": {},
   "outputs": [],
   "source": []
  },
  {
   "cell_type": "code",
   "execution_count": 11,
   "id": "da75f54f",
   "metadata": {},
   "outputs": [],
   "source": [
    "    \n",
    "\n",
    "# Store G in the hybrid_graph variable.\n",
    "env.hybrid_graph = G"
   ]
  },
  {
   "cell_type": "code",
   "execution_count": 12,
   "id": "f3a31dbf",
   "metadata": {},
   "outputs": [
    {
     "data": {
      "text/plain": [
       "EdgeDataView([(0, 1, {'type': 'hard'}), (0, 4, {'type': 'soft'}), (0, 5, {'type': 'soft'}), (0, 6, {'type': 'soft'}), (1, 2, {'type': 'soft'}), (1, 3, {'type': 'soft'}), (1, 7, {'type': 'soft'})])"
      ]
     },
     "execution_count": 12,
     "metadata": {},
     "output_type": "execute_result"
    }
   ],
   "source": [
    "G.edges(data=True)"
   ]
  },
  {
   "cell_type": "code",
   "execution_count": null,
   "id": "1bf08104",
   "metadata": {},
   "outputs": [],
   "source": []
  }
 ],
 "metadata": {
  "kernelspec": {
   "display_name": "Python 3 (ipykernel)",
   "language": "python",
   "name": "python3"
  },
  "language_info": {
   "codemirror_mode": {
    "name": "ipython",
    "version": 3
   },
   "file_extension": ".py",
   "mimetype": "text/x-python",
   "name": "python",
   "nbconvert_exporter": "python",
   "pygments_lexer": "ipython3",
   "version": "3.11.0"
  }
 },
 "nbformat": 4,
 "nbformat_minor": 5
}
