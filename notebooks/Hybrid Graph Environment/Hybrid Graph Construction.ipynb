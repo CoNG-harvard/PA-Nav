{
 "cells": [
  {
   "cell_type": "markdown",
   "id": "93964b26-d9f5-45ac-9818-50cc2951a2d5",
   "metadata": {},
   "source": [
    "# Construct the hybrid graph representation of a 2D cartesian map"
   ]
  },
  {
   "cell_type": "code",
   "execution_count": 63,
   "id": "4f6a1483-2bff-48b4-a976-d9891665966d",
   "metadata": {},
   "outputs": [
    {
     "name": "stdout",
     "output_type": "stream",
     "text": [
      "The autoreload extension is already loaded. To reload it, use:\n",
      "  %reload_ext autoreload\n"
     ]
    }
   ],
   "source": [
    "import sys\n",
    "sys.path.append('../../')\n",
    "from panav.env import NavigationEnv, Box2DRegion, PolygonRegion, box_2d_center, line_seg_to_obstacle\n",
    "from panav.viz import draw_env\n",
    "from panav.tunnels import detect_tunnels,get_entry_exit\n",
    "\n",
    "from panav.util import unique_tx\n",
    "\n",
    "import shapely\n",
    "import numpy as np\n",
    "from matplotlib import pyplot as plt\n",
    "\n",
    "from shapely.plotting import plot_polygon, plot_points, plot_line\n",
    "from shapely import Polygon,LineString,Point\n",
    "\n",
    "\n",
    "%load_ext autoreload\n",
    "%autoreload 2"
   ]
  },
  {
   "cell_type": "markdown",
   "id": "b67dc3ff-8985-433d-b403-939046333390",
   "metadata": {},
   "source": [
    "## Step 1: detect tunnels in the environment"
   ]
  },
  {
   "cell_type": "code",
   "execution_count": 64,
   "id": "a60829bc-e82f-49f0-bc7d-4762a71d9228",
   "metadata": {},
   "outputs": [
    {
     "data": {
      "image/png": "[encoded data removed]",
      "text/plain": [
       "<Figure size 640x480 with 1 Axes>"
      ]
     },
     "metadata": {},
     "output_type": "display_data"
    }
   ],
   "source": [
    "start_box_side = np.array([1,1])\n",
    "goal_box_side = np.array([1,1])\n",
    "\n",
    "\n",
    "start_locs = np.array([[5,1],[5,3],[-5,-1]])*1.5\n",
    "\n",
    "goal_locs = np.array([[-5,1],[-5,3],[5,-1]])*1.5\n",
    "\n",
    "\n",
    "\n",
    "starts = [box_2d_center(s,start_box_side) for s in start_locs]\n",
    "goals = [box_2d_center(g,goal_box_side) for g in goal_locs]\n",
    "\n",
    "O1 = Box2DRegion((-5.0,-0.5),(0.5,10))\n",
    "\n",
    "O2 = Box2DRegion((-0.0,5.0),(-10,-1.0))\n",
    "\n",
    "\n",
    "# O1 = Box2DRegion((-2.5,2.5),(0.5,10))\n",
    "# O2 = Box2DRegion((-2.5,2.5),(-10,-1.0))\n",
    "\n",
    "limits = [(-10.0,10.0),(-10.0,10.0)]\n",
    "\n",
    "bloating_r = 0.5 \n",
    "\n",
    "env = NavigationEnv(limits,[O1,O2],starts,goals)\n",
    "\n",
    "ax = plt.gca()\n",
    "\n",
    "draw_env(env,ax=ax)\n",
    "        \n",
    "\n",
    "labeled = False\n",
    "env.tunnels = detect_tunnels(env,bloating_r)\n",
    "for tunnel in env.tunnels:\n",
    "    plot_polygon(tunnel.region,ax=ax,label='Tunnels' if not labeled else None,add_points =False)\n",
    "    ent_pts = np.array(tunnel.end_points)\n",
    "    plt.scatter(ent_pts[:,0],ent_pts[:,1])\n",
    "\n",
    "    labeled=True\n",
    "    \n",
    "ax.legend()\n",
    "plt.show()"
   ]
  },
  {
   "cell_type": "markdown",
   "id": "61dc04e8-f975-4dd1-9058-74b7f7719d57",
   "metadata": {},
   "source": [
    "## Step 2: assign locations to nodes in the hybrid graph"
   ]
  },
  {
   "cell_type": "code",
   "execution_count": 83,
   "id": "49bdfcaf",
   "metadata": {},
   "outputs": [],
   "source": [
    "import networkx as nx\n",
    "G = nx.DiGraph()\n",
    "nx.set_node_attributes(G,(0,0),'loc') # Every node has a location attribute: loc \\in R^d.\n",
    "nx.set_node_attributes(G,'','type') # Every node has a type attribute: type \\in {'start','goal','tunnel'}. Tunnel endpoints are of type 'tunnel'\n",
    "nx.set_edge_attributes(G,'','type') # Every edge has a hardness attribute: type \\in {'soft','hard'}.\n",
    "\n",
    "for i,tunnel in enumerate(env.tunnels): # Add hard edges + tunnel nodes\n",
    "    u = 2*i\n",
    "    v = 2*i+1\n",
    "    \n",
    "    G.add_node(u,type='tunnel',loc = tunnel.end_points[0])\n",
    "    G.add_node(v,type='tunnel',loc = tunnel.end_points[1])\n",
    "\n",
    "    G.add_edge(u,v,type='hard')\n",
    "    G.add_edge(v,u,type='hard')\n",
    "    \n",
    "from itertools import product\n",
    "\n",
    "# Add start nodes\n",
    "start_nodes = np.arange(G.number_of_nodes(),\n",
    "                    G.number_of_nodes()+len(start_locs))\n",
    "G.add_nodes_from(start_nodes, type = 'start')\n",
    "nx.set_node_attributes(G,{n:{'loc':loc} for n,loc in zip(start_nodes,start_locs)})\n",
    "\n",
    "# Add goal nodes\n",
    "goal_nodes = np.arange(G.number_of_nodes(),\n",
    "                    G.number_of_nodes()+len(goal_locs))\n",
    "G.add_nodes_from(goal_nodes, type = 'goal')\n",
    "nx.set_node_attributes(G,{n:{'loc':loc} for n,loc in zip(goal_nodes,goal_locs)})\n"
   ]
  },
  {
   "cell_type": "code",
   "execution_count": 84,
   "id": "c724c0de",
   "metadata": {},
   "outputs": [
    {
     "name": "stderr",
     "output_type": "stream",
     "text": [
      "/Users/tianpengzhang/opt/miniconda3/envs/PA-Nav/lib/python3.11/site-packages/shapely/predicates.py:798: RuntimeWarning: invalid value encountered in intersects\n",
      "  return lib.intersects(a, b, **kwargs)\n"
     ]
    },
    {
     "name": "stdout",
     "output_type": "stream",
     "text": [
      "0 4 Does not pass through any tunnel\n",
      "0 5 Does not pass through any tunnel\n",
      "0 6 Does not pass through any tunnel\n",
      "1 2 Does not pass through any tunnel\n",
      "1 3 Does not pass through any tunnel\n",
      "1 7 Does not pass through any tunnel\n",
      "2 1 Does not pass through any tunnel\n",
      "2 7 Does not pass through any tunnel\n",
      "3 1 Does not pass through any tunnel\n",
      "3 7 Does not pass through any tunnel\n",
      "4 0 Does not pass through any tunnel\n",
      "4 5 Does not pass through any tunnel\n",
      "4 6 Does not pass through any tunnel\n",
      "5 0 Does not pass through any tunnel\n",
      "5 4 Does not pass through any tunnel\n",
      "6 0 Does not pass through any tunnel\n",
      "6 4 Does not pass through any tunnel\n",
      "7 1 Does not pass through any tunnel\n",
      "7 2 Does not pass through any tunnel\n",
      "7 3 Does not pass through any tunnel\n"
     ]
    }
   ],
   "source": [
    "# Path planning parameters\n",
    "bloating_r = 0.5\n",
    "d = 2\n",
    "K = 3\n",
    "t0 = 0\n",
    "vmax = 1.0\n",
    "interp_dt = 0.1\n",
    "\n",
    "from panav.SAMP import Tube_Planning\n",
    "G_soft = nx.Graph() # The graph we use to store soft edges and determine how nodes are grouped by open spaces.\n",
    "# Add soft edges\n",
    "for u,v in product(G.nodes,G.nodes):\n",
    "    if u!=v and not (u,v) in G.edges and not G.nodes[u]['type'] == G.nodes[v]['type'] :\n",
    "        # Determine if the shortest path between u, v passes through any tunnels.\n",
    "        \n",
    "        # Plan the shortest path\n",
    "        start_region = box_2d_center(G.nodes[u]['loc'],1e-8) # Create a arbitrarily small region so that the start is very much the same as u's location.\n",
    "        goal_region = box_2d_center(G.nodes[v]['loc'],1e-8)\n",
    "        \n",
    "        path = Tube_Planning(env,\n",
    "                             start = start_region,goal = goal_region,\n",
    "                             vmax = vmax,bloating_r=bloating_r,\n",
    "                             obs_trajectories=[], \n",
    "                             d = d, K = K)\n",
    "        if path is None:\n",
    "            print(\"Path not find. Consider increasing the K value\")\n",
    "        else:\n",
    "            _,x = unique_tx(*path)\n",
    "            \n",
    "            # print(G.nodes[u]['loc'],G.nodes[v]['loc'],x)\n",
    "\n",
    "\n",
    "        # See if the path passes through any tunnels\n",
    "        through_some_tunnel = False\n",
    "        for tunnel_id, tunnel in enumerate(tunnels):\n",
    "            ent, ex = get_entry_exit(tunnel,x)\n",
    "\n",
    "            if not(ent is None and ex is None):\n",
    "                # print(u,v,\"Pass through tunnel\", tunnel_id)\n",
    "\n",
    "                through_some_tunnel = True\n",
    "                break\n",
    "\n",
    "        if not through_some_tunnel: # u-v does not pass through any tunnel.\n",
    "            # print(u,v,'Does not pass through any tunnel')\n",
    "            G_soft.add_edge(u,v,type='soft')\n",
    "            "
   ]
  },
  {
   "cell_type": "code",
   "execution_count": 85,
   "id": "594c7391",
   "metadata": {},
   "outputs": [],
   "source": [
    "env.open_spaces = [c for c in nx.connected_components(G_soft)]"
   ]
  },
  {
   "cell_type": "code",
   "execution_count": 86,
   "id": "da75f54f",
   "metadata": {},
   "outputs": [],
   "source": [
    "# Give all nodes in the graph an open space id\n",
    "for id, c in enumerate(env.open_spaces):\n",
    "    for s in c:\n",
    "        G.nodes[s]['open_space_id'] = id\n",
    "\n",
    "G_soft = nx.to_directed(G_soft)\n",
    "# Add soft edges to G\n",
    "G.add_edges_from(G_soft.edges(data=True))        \n",
    "\n",
    "# Store G in the hybrid_graph variable.\n",
    "env.hybrid_graph = G"
   ]
  },
  {
   "cell_type": "code",
   "execution_count": 87,
   "id": "f3a31dbf",
   "metadata": {},
   "outputs": [
    {
     "data": {
      "text/plain": [
       "OutEdgeDataView([(0, 1, {'type': 'hard'}), (0, 4, {'type': 'soft'}), (0, 5, {'type': 'soft'}), (0, 6, {'type': 'soft'}), (1, 0, {'type': 'hard'}), (1, 2, {'type': 'soft'}), (1, 3, {'type': 'soft'}), (1, 7, {'type': 'soft'}), (2, 1, {'type': 'soft'}), (2, 7, {'type': 'soft'}), (3, 1, {'type': 'soft'}), (3, 7, {'type': 'soft'}), (4, 0, {'type': 'soft'}), (4, 5, {'type': 'soft'}), (4, 6, {'type': 'soft'}), (5, 0, {'type': 'soft'}), (5, 4, {'type': 'soft'}), (6, 0, {'type': 'soft'}), (6, 4, {'type': 'soft'}), (7, 1, {'type': 'soft'}), (7, 2, {'type': 'soft'}), (7, 3, {'type': 'soft'})])"
      ]
     },
     "execution_count": 87,
     "metadata": {},
     "output_type": "execute_result"
    }
   ],
   "source": [
    "G.edges(data=True)"
   ]
  }
 ],
 "metadata": {
  "kernelspec": {
   "display_name": "Python 3 (ipykernel)",
   "language": "python",
   "name": "python3"
  },
  "language_info": {
   "codemirror_mode": {
    "name": "ipython",
    "version": 3
   },
   "file_extension": ".py",
   "mimetype": "text/x-python",
   "name": "python",
   "nbconvert_exporter": "python",
   "pygments_lexer": "ipython3",
   "version": "3.11.0"
  }
 },
 "nbformat": 4,
 "nbformat_minor": 5
}
