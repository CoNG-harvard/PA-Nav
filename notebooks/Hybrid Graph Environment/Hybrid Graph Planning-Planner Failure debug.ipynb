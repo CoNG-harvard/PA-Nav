{
 "cells": [
  {
   "cell_type": "markdown",
   "id": "93964b26-d9f5-45ac-9818-50cc2951a2d5",
   "metadata": {},
   "source": [
    "# In this notebook we plan paths for multiple agents on the hybrid graph and animate the result."
   ]
  },
  {
   "cell_type": "code",
   "execution_count": 48,
   "id": "4f6a1483-2bff-48b4-a976-d9891665966d",
   "metadata": {},
   "outputs": [
    {
     "name": "stdout",
     "output_type": "stream",
     "text": [
      "The autoreload extension is already loaded. To reload it, use:\n",
      "  %reload_ext autoreload\n"
     ]
    }
   ],
   "source": [
    "import sys\n",
    "sys.path.append('../../')\n",
    "from panav.env import NavigationEnv, Box2DRegion, box_2d_center\n",
    "from panav.hybrid import HybridGraph\n",
    "from panav.viz import draw_env,draw_hybrid\n",
    "import networkx as nx\n",
    "import numpy as np\n",
    "from matplotlib import pyplot as plt\n",
    "\n",
    "%load_ext autoreload\n",
    "%autoreload 2"
   ]
  },
  {
   "cell_type": "code",
   "execution_count": 49,
   "id": "20624100",
   "metadata": {},
   "outputs": [],
   "source": [
    "def flowtime(plan):\n",
    "    return np.sum([t[-1] for t,x in plan])"
   ]
  },
  {
   "cell_type": "markdown",
   "id": "b67dc3ff-8985-433d-b403-939046333390",
   "metadata": {},
   "source": [
    "## Single-tunnel environment"
   ]
  },
  {
   "cell_type": "code",
   "execution_count": 75,
   "id": "a60829bc-e82f-49f0-bc7d-4762a71d9228",
   "metadata": {},
   "outputs": [
    {
     "name": "stderr",
     "output_type": "stream",
     "text": [
      "/Users/tianpengzhang/opt/miniconda3/envs/PA-Nav/lib/python3.11/site-packages/shapely/predicates.py:798: RuntimeWarning: invalid value encountered in intersects\n",
      "  return lib.intersects(a, b, **kwargs)\n"
     ]
    }
   ],
   "source": [
    "\n",
    "\n",
    "# 2D navigation environment\n",
    "\n",
    "start_box_side = np.array([1,1])\n",
    "goal_box_side = np.array([1,1])\n",
    "\n",
    "top, bottom = 6,-6\n",
    "start_x_offset = 7\n",
    "goal_x_offset = 9\n",
    "N = 5\n",
    "\n",
    "start_locs = np.vstack([\n",
    "np.vstack([np.ones(N)*start_x_offset,np.linspace(top,bottom, N)]).T,\n",
    "np.vstack([np.ones(N)*(-start_x_offset),np.linspace(top,bottom, N)]).T])\n",
    "\n",
    "goal_locs = np.vstack([\n",
    "np.vstack([np.ones(N)*(-goal_x_offset),np.linspace(bottom,top, N)]).T,\n",
    "np.vstack([np.ones(N)*goal_x_offset,np.linspace(bottom,top, N)]).T])\n",
    "\n",
    "\n",
    "starts = [box_2d_center(s,start_box_side) for s in start_locs]\n",
    "goals = [box_2d_center(g,goal_box_side) for g in goal_locs]\n",
    "limits = [(-10.0,10.0),(-10.0,10.0)]\n",
    "\n",
    "\n",
    "# O1 = Box2DRegion((-5.0,-0.5),(0.5,10))\n",
    "# O2 = Box2DRegion((-0.0,5.0),(-10,-1.0))\n",
    "# env = NavigationEnv(limits,[O1,O2],starts,goals)\n",
    "\n",
    "\n",
    "O1 = Box2DRegion((-2.5,2.5),(0.5,10))\n",
    "# O1 = Box2DRegion((-2.5,2.5),(2.0,10))\n",
    "O2 = Box2DRegion((-2.5,2.5),(-10,-1.0))\n",
    "env = NavigationEnv(limits,[O1,O2],starts,goals)\n",
    "\n",
    "\n",
    "# O1 = Box2DRegion((-2.5,2.5),(0.5,10))\n",
    "# O2 = Box2DRegion((-2.5,2.5),(-3,-1.0))\n",
    "# O3 = Box2DRegion((-2.5,2.5),(-10.0,-4.0))\n",
    "# env = NavigationEnv(limits,[O1,O2,O3],starts,goals)\n",
    "\n",
    "\n",
    "# Construct the hybrid graph representation of the environment\n",
    "bloating_r = 0.5 \n",
    "HG =  HybridGraph(env,bloating_r,K = 4)\n"
   ]
  },
  {
   "cell_type": "code",
   "execution_count": 51,
   "id": "c94daae7",
   "metadata": {},
   "outputs": [
    {
     "ename": "KeyError",
     "evalue": "'continuous_path'",
     "output_type": "error",
     "traceback": [
      "\u001b[0;31m---------------------------------------------------------------------------\u001b[0m",
      "\u001b[0;31mKeyError\u001b[0m                                  Traceback (most recent call last)",
      "Cell \u001b[0;32mIn[51], line 2\u001b[0m\n\u001b[1;32m      1\u001b[0m ax \u001b[39m=\u001b[39m plt\u001b[39m.\u001b[39mgca()\n\u001b[0;32m----> 2\u001b[0m draw_hybrid(HG,ax)\n\u001b[1;32m      3\u001b[0m plt\u001b[39m.\u001b[39mshow()    \n",
      "File \u001b[0;32m~/Dropbox (Harvard University)/Tianpeng's research/Tianpeng & Lina/Multiagent Motion Planning/PA-Nav/notebooks/Hybrid Graph Environment/../../panav/viz.py:102\u001b[0m, in \u001b[0;36mdraw_hybrid\u001b[0;34m(HG, ax, paths, display_soft, display_node, show_agent_ID)\u001b[0m\n\u001b[1;32m    100\u001b[0m \u001b[39mif\u001b[39;00m HG\u001b[39m.\u001b[39medges[e][\u001b[39m'\u001b[39m\u001b[39mtype\u001b[39m\u001b[39m'\u001b[39m] \u001b[39m==\u001b[39m \u001b[39m'\u001b[39m\u001b[39msoft\u001b[39m\u001b[39m'\u001b[39m:\n\u001b[1;32m    101\u001b[0m     \u001b[39mif\u001b[39;00m display_soft:  \n\u001b[0;32m--> 102\u001b[0m         path \u001b[39m=\u001b[39m HG\u001b[39m.\u001b[39;49medges[e][\u001b[39m'\u001b[39;49m\u001b[39mcontinuous_path\u001b[39;49m\u001b[39m'\u001b[39;49m]\n\u001b[1;32m    103\u001b[0m         ax\u001b[39m.\u001b[39mplot(path[\u001b[39m0\u001b[39m,:],path[\u001b[39m1\u001b[39m,:],alpha \u001b[39m=\u001b[39m \u001b[39m0.5\u001b[39m,color \u001b[39m=\u001b[39m \u001b[39m'\u001b[39m\u001b[39mg\u001b[39m\u001b[39m'\u001b[39m,ls \u001b[39m=\u001b[39m \u001b[39m'\u001b[39m\u001b[39mdotted\u001b[39m\u001b[39m'\u001b[39m,label \u001b[39m=\u001b[39m \u001b[39m\"\u001b[39m\u001b[39mSoft edge\u001b[39m\u001b[39m\"\u001b[39m \u001b[39mif\u001b[39;00m \u001b[39mnot\u001b[39;00m soft_labeled \u001b[39melse\u001b[39;00m \u001b[39mNone\u001b[39;00m)\n\u001b[1;32m    104\u001b[0m         soft_labeled \u001b[39m=\u001b[39m \u001b[39mTrue\u001b[39;00m\n",
      "\u001b[0;31mKeyError\u001b[0m: 'continuous_path'"
     ]
    },
    {
     "data": {
      "image/png": "[encoded data removed]",
      "text/plain": [
       "<Figure size 640x480 with 1 Axes>"
      ]
     },
     "metadata": {},
     "output_type": "display_data"
    }
   ],
   "source": [
    "ax = plt.gca()\n",
    "draw_hybrid(HG,ax)\n",
    "plt.show()    "
   ]
  },
  {
   "cell_type": "code",
   "execution_count": 103,
   "id": "649867f8",
   "metadata": {},
   "outputs": [
    {
     "name": "stdout",
     "output_type": "stream",
     "text": [
      "0\n",
      "1\n",
      "2\n",
      "3\n",
      "4\n",
      "5\n",
      "6\n",
      "7\n",
      "8\n",
      "9\n",
      "Solution success\n"
     ]
    }
   ],
   "source": [
    "from panav.HybridSIPP import HybridSIPP\n",
    "from panav.SIPP import plan_to_transitions\n",
    "from time import time\n",
    "\n",
    "agents = np.arange(len(start_locs))\n",
    "graph_plans = []\n",
    "continuous_plans = []\n",
    "\n",
    "success = True\n",
    "times = []\n",
    "t0 = time()\n",
    "for a in agents:\n",
    "    print(a)\n",
    "    result = HybridSIPP(HG,HG.start_nodes[a],HG.goal_nodes[a],graph_plans,continuous_plans)\n",
    "    if result is not None:\n",
    "        gp,cp = result\n",
    "        # gp = result\n",
    "    else:\n",
    "        print(\"Solver failed. Exiting...\")\n",
    "        success=False\n",
    "        break\n",
    "    graph_plans.append(gp)\n",
    "    continuous_plans.append(cp)\n",
    "    \n",
    "    times.append(time()-t0)\n",
    "if success:\n",
    "    print(\"Solution success\")"
   ]
  }
 ],
 "metadata": {
  "kernelspec": {
   "display_name": "Python 3 (ipykernel)",
   "language": "python",
   "name": "python3"
  },
  "language_info": {
   "codemirror_mode": {
    "name": "ipython",
    "version": 3
   },
   "file_extension": ".py",
   "mimetype": "text/x-python",
   "name": "python",
   "nbconvert_exporter": "python",
   "pygments_lexer": "ipython3",
   "version": "3.11.0"
  }
 },
 "nbformat": 4,
 "nbformat_minor": 5
}
