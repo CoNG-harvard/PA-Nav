{
 "cells": [
  {
   "cell_type": "markdown",
   "id": "93964b26-d9f5-45ac-9818-50cc2951a2d5",
   "metadata": {},
   "source": [
    "# Navigation Environment Construction - 2D\n",
    "\n",
    "Boundaries.\n",
    "\n",
    "Static obstacles.\n",
    "\n",
    "Environment Visualization.\n"
   ]
  },
  {
   "cell_type": "code",
   "execution_count": 9,
   "id": "4f6a1483-2bff-48b4-a976-d9891665966d",
   "metadata": {},
   "outputs": [
    {
     "name": "stdout",
     "output_type": "stream",
     "text": [
      "The autoreload extension is already loaded. To reload it, use:\n",
      "  %reload_ext autoreload\n"
     ]
    }
   ],
   "source": [
    "import sys\n",
    "sys.path.append('../')\n",
    "from panav.env import NavigationEnv, Box2DObstacle, PolygonObstacle\n",
    "from panav.viz import draw_env\n",
    "%load_ext autoreload\n",
    "%autoreload 2"
   ]
  },
  {
   "cell_type": "code",
   "execution_count": 10,
   "id": "ca7affc5-6843-402f-aec0-60457d647b84",
   "metadata": {},
   "outputs": [],
   "source": [
    "limits = [(-10.0,10.0),(-10.0,10.0)]\n",
    "o=Box2DObstacle((0,3),(0,5))\n",
    "p = PolygonObstacle([[6,1],[10,2],[6,5]])\n",
    "env = NavigationEnv(limits,[o,p])"
   ]
  },
  {
   "cell_type": "code",
   "execution_count": 11,
   "id": "2eb22127-4885-4b0d-be54-7dc447a4927a",
   "metadata": {},
   "outputs": [
    {
     "data": {
      "image/png": "[encoded data removed]",
      "text/plain": [
       "<Figure size 640x480 with 1 Axes>"
      ]
     },
     "metadata": {},
     "output_type": "display_data"
    }
   ],
   "source": [
    "draw_env(env)"
   ]
  }
 ],
 "metadata": {
  "kernelspec": {
   "display_name": "Python 3 (ipykernel)",
   "language": "python",
   "name": "python3"
  },
  "language_info": {
   "codemirror_mode": {
    "name": "ipython",
    "version": 3
   },
   "file_extension": ".py",
   "mimetype": "text/x-python",
   "name": "python",
   "nbconvert_exporter": "python",
   "pygments_lexer": "ipython3",
   "version": "3.11.0"
  }
 },
 "nbformat": 4,
 "nbformat_minor": 5
}
