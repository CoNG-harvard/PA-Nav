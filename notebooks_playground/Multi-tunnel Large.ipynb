{
 "cells": [
  {
   "cell_type": "markdown",
   "id": "93964b26-d9f5-45ac-9818-50cc2951a2d5",
   "metadata": {},
   "source": [
    "# Benchmarking Our Algorithm against others"
   ]
  },
  {
   "cell_type": "code",
   "execution_count": 1,
   "id": "4f6a1483-2bff-48b4-a976-d9891665966d",
   "metadata": {},
   "outputs": [],
   "source": [
    "import sys\n",
    "sys.path.append('../')\n",
    "from panav.environment.env import MultiTunnelEnv\n",
    "from panav.hybrid import HybridGraph\n",
    "from panav.util import flowtime,makespan\n",
    "from panav.PBS.PBS import PBS\n",
    "from panav.TrafficAwarePlanning import TAHP\n",
    "from panav.sequential import sequential_planning\n",
    "from panav.SAMP.solvers import Tube_Planning, Simple_MILP_Planning\n",
    "from panav.viz import draw_hybrid,draw_env\n",
    "\n",
    "from time import time\n",
    "import pickle as pkl\n",
    "\n",
    "%load_ext autoreload\n",
    "%autoreload 2"
   ]
  },
  {
   "cell_type": "code",
   "execution_count": 2,
   "id": "629af15a",
   "metadata": {},
   "outputs": [
    {
     "name": "stdout",
     "output_type": "stream",
     "text": [
      "Set parameter Username\n",
      "Academic license - for non-commercial use only - expires 2025-02-15\n"
     ]
    },
    {
     "name": "stderr",
     "output_type": "stream",
     "text": [
      "/Users/tianpengzhang/opt/miniconda3/envs/PA-Nav/lib/python3.11/site-packages/shapely/predicates.py:798: RuntimeWarning: invalid value encountered in intersects\n",
      "  return lib.intersects(a, b, **kwargs)\n"
     ]
    },
    {
     "data": {
      "image/png": "[encoded data removed]",
      "text/plain": [
       "<Figure size 640x480 with 1 Axes>"
      ]
     },
     "metadata": {},
     "output_type": "display_data"
    }
   ],
   "source": [
    "bloating_r = 0.5\n",
    "N = 2\n",
    "env = MultiTunnelEnv(n_tunnel = 4, tunnel_width = bloating_r*2.5, N_agent = N,wallthickness=10,limits=[(-50,50),(-50,50)])\n",
    "HG = HybridGraph(env,bloating_r)\n",
    "draw_env(HG.env,show_agent_ID=False)\n"
   ]
  },
  {
   "cell_type": "code",
   "execution_count": 11,
   "id": "c94daae7",
   "metadata": {},
   "outputs": [
    {
     "name": "stdout",
     "output_type": "stream",
     "text": [
      "0 [10, 20, 30, 40, 50]\n",
      "Alg: TAHP N agent: 10\n",
      "1 [10, 20, 30, 40, 50]\n",
      "Alg: TAHP N agent: 20\n",
      "2 [10, 20, 30, 40, 50]\n",
      "Alg: TAHP N agent: 30\n",
      "3 [10, 20, 30, 40, 50]\n",
      "Alg: TAHP N agent: 40\n",
      "4 [10, 20, 30, 40, 50]\n",
      "Alg: TAHP N agent: 50\n"
     ]
    }
   ],
   "source": [
    "\n",
    "bloating_r = 0.5\n",
    "vmax = 1.0\n",
    "\n",
    "n_agents = list(range(10,51,10))\n",
    "\n",
    "TIMEOUT = 200 # timeout\n",
    "\n",
    "# Algorithms\n",
    "algs = {\n",
    "        # \"S2M2\": lambda hg: PBS(hg.env,vmax=vmax,bloating_r=bloating_r,low_level_planner=\"Simple_MILP_Planning\",TIMEOUT=TIMEOUT)[0],\n",
    "        # \"PBS_Tube\": lambda hg: PBS(hg.env,vmax=vmax,bloating_r=bloating_r,low_level_planner=\"Tube_Planning\")[0],\n",
    "        \"TAHP\": lambda hg: TAHP(hg,vmax=vmax,bloating_r=bloating_r,TIMEOUT=TIMEOUT),\n",
    "        # \"Seq_Tube\": lambda hg: sequential_planning(Tube_Planning,hg.env,vmax,bloating_r,TIMEOUT=TIMEOUT),\n",
    "        # \"Seq_Temp_Obs\": lambda hg: sequential_planning(Simple_MILP_Planning,hg.env,vmax,bloating_r,TIMEOUT=TIMEOUT)\n",
    "        }\n",
    "\n",
    "timeouted = {alg:False for alg in algs}\n",
    "\n",
    "\n",
    "\n",
    "results = []\n",
    "\n",
    "env_name = \"MultiTunnel_Large\"\n",
    "\n",
    "\n",
    "# Experiments\n",
    "for i in range(len(n_agents)):\n",
    "    N = n_agents[i]\n",
    "    env = MultiTunnelEnv(n_tunnel = 4, tunnel_width = bloating_r*2.5, N_agent = N,wallthickness=10,limits=[(-50,50),(-50,50)])\n",
    "    HG = HybridGraph(env,bloating_r)\n",
    "\n",
    "    for name,alg in algs.items():\n",
    "\n",
    "        if timeouted[name]:\n",
    "            continue\n",
    "        \n",
    "        print(\"Alg:\", name, \"N agent:\",N)\n",
    "\n",
    "        result = {}\n",
    "        \n",
    "        t0 = time()\n",
    "        plan = alg(HG)\n",
    "        t = time()-t0\n",
    "        \n",
    "        result['plan'] = plan\n",
    "        result['time'] = t\n",
    "\n",
    "        result['N_agent'] = N\n",
    "        result['alg_name'] = name\n",
    "        # Save checkpoint data\n",
    "\n",
    "        result[\"TIMEOUT\"]=TIMEOUT\n",
    "        result[\"HG\"]=HG\n",
    "\n",
    "        results.append(result)\n",
    "\n",
    "        \n",
    "        if t>TIMEOUT:\n",
    "            timeouted[name] = True\n",
    "            print(\"Time out for algorithm\", name, \"N agent = \", N)\n",
    "\n",
    "    # Save checkpoint data\n",
    "    with open(\"./data/{}.pkl\".format(env_name),'wb') as fp:\n",
    "        pkl.dump(results,fp)\n"
   ]
  },
  {
   "cell_type": "code",
   "execution_count": 10,
   "id": "0980ded2",
   "metadata": {},
   "outputs": [
    {
     "data": {
      "text/plain": [
       "{'TAHP': True}"
      ]
     },
     "execution_count": 10,
     "metadata": {},
     "output_type": "execute_result"
    }
   ],
   "source": [
    "timeouted"
   ]
  }
 ],
 "metadata": {
  "kernelspec": {
   "display_name": "Python 3 (ipykernel)",
   "language": "python",
   "name": "python3"
  },
  "language_info": {
   "codemirror_mode": {
    "name": "ipython",
    "version": 3
   },
   "file_extension": ".py",
   "mimetype": "text/x-python",
   "name": "python",
   "nbconvert_exporter": "python",
   "pygments_lexer": "ipython3",
   "version": "3.11.0"
  }
 },
 "nbformat": 4,
 "nbformat_minor": 5
}
