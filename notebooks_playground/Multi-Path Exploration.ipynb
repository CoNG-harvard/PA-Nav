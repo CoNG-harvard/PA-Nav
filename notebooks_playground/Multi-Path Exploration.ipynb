{
 "cells": [
  {
   "cell_type": "markdown",
   "id": "93964b26-d9f5-45ac-9818-50cc2951a2d5",
   "metadata": {},
   "source": [
    "# In this notebook we plan the fix-priority path for two agents on the hybrid graph and animate the result."
   ]
  },
  {
   "cell_type": "code",
   "execution_count": 2,
   "id": "4f6a1483-2bff-48b4-a976-d9891665966d",
   "metadata": {},
   "outputs": [],
   "source": [
    "import sys\n",
    "sys.path.append('../')\n",
    "from panav.env import NavigationEnv, Box2DRegion, box_2d_center\n",
    "from panav.hybrid import HybridGraph\n",
    "from panav.viz import draw_env,draw_hybrid\n",
    "\n",
    "import networkx as nx\n",
    "import numpy as np\n",
    "from matplotlib import pyplot as plt\n",
    "\n",
    "%load_ext autoreload\n",
    "%autoreload 2"
   ]
  },
  {
   "cell_type": "code",
   "execution_count": 6,
   "id": "649867f8",
   "metadata": {},
   "outputs": [
    {
     "name": "stderr",
     "output_type": "stream",
     "text": [
      "/Users/tianpengzhang/opt/miniconda3/envs/PA-Nav/lib/python3.11/site-packages/cvxpy/problems/problem.py:1391: UserWarning: \n",
      "    The problem is either infeasible or unbounded, but the solver\n",
      "    cannot tell which. Disable any solver-specific presolve methods\n",
      "    and re-solve to determine the precise problem status.\n",
      "\n",
      "    For GUROBI and CPLEX you can automatically perform this re-solve\n",
      "    with the keyword argument prob.solve(reoptimize=True, ...).\n",
      "    \n",
      "  warnings.warn(INF_OR_UNB_MESSAGE)\n"
     ]
    }
   ],
   "source": [
    "from panav.PBS.PBS_hybrid_SIPP import PBS_hybrid_SIPP\n",
    "(g_joint_plan, c_joint_plan),cost = PBS_hybrid_SIPP(HG)"
   ]
  },
  {
   "cell_type": "code",
   "execution_count": 8,
   "id": "a8e2fc5a",
   "metadata": {},
   "outputs": [],
   "source": [
    "from panav.viz import animation,interpolate_positions\n",
    "\n",
    "from IPython.display import HTML, display\n",
    "interp_dt = 0.1\n",
    "\n",
    "pos = []\n",
    "for cp in c_joint_plan:\n",
    "    _,xs = interpolate_positions(*cp,interp_dt)\n",
    "    pos.append(xs)\n",
    "\n",
    "anim = animation(env, pos, bloating_r, dt = interp_dt / 4)\n",
    "# display(HTML(anim.to_jshtml()))\n",
    "anim.save(\"../Figures/HybridPBS_exec.gif\")\n",
    "plt.close()   # Avoid plotting an extra figure."
   ]
  },
  {
   "cell_type": "markdown",
   "id": "08c687fa",
   "metadata": {},
   "source": [
    "## Double tunnel"
   ]
  },
  {
   "cell_type": "code",
   "execution_count": 6,
   "id": "48212f60",
   "metadata": {},
   "outputs": [],
   "source": [
    "\n",
    "\n",
    "# 2D navigation environment\n",
    "\n",
    "start_box_side = np.array([1,1])\n",
    "goal_box_side = np.array([1,1])\n",
    "\n",
    "top, bottom = 9,-9\n",
    "start_x_offset = 7\n",
    "goal_x_offset = 9\n",
    "N = 4\n",
    "\n",
    "start_locs = np.vstack([\n",
    "np.vstack([np.ones(N)*start_x_offset,np.linspace(top,bottom, N)]).T,\n",
    "np.vstack([np.ones(N)*(-start_x_offset),np.linspace(top,bottom, N)]).T])\n",
    "\n",
    "goal_locs = np.vstack([\n",
    "np.vstack([np.ones(N)*(-goal_x_offset),np.linspace(bottom,top, N)]).T,\n",
    "np.vstack([np.ones(N)*goal_x_offset,np.linspace(bottom,top, N)]).T])\n",
    "\n",
    "\n",
    "starts = [box_2d_center(s,start_box_side) for s in start_locs]\n",
    "goals = [box_2d_center(g,goal_box_side) for g in goal_locs]\n",
    "limits = [(-10.0,10.0),(-10.0,10.0)]\n",
    "\n",
    "O1 = Box2DRegion((-2.5,2.5),(0.5,10))\n",
    "O2 = Box2DRegion((-2.5,2.5),(-3,-1.0))\n",
    "O3 = Box2DRegion((-2.5,2.5),(-10.0,-4.0))\n",
    "env = NavigationEnv(limits,[O1,O2,O3],starts,goals)\n",
    "\n",
    "\n",
    "# Construct the hybrid graph representation of the environment\n",
    "bloating_r = 0.5 \n"
   ]
  },
  {
   "cell_type": "code",
   "execution_count": 9,
   "id": "a65815ba",
   "metadata": {},
   "outputs": [
    {
     "data": {
      "image/png": "[encoded data removed]",
      "text/plain": [
       "<Figure size 640x480 with 1 Axes>"
      ]
     },
     "metadata": {},
     "output_type": "display_data"
    }
   ],
   "source": [
    "# Construct the hybrid graph representation of the environment\n",
    "ax = plt.gca()\n",
    "draw_env(env,[],ax,show_agent_ID=True)\n",
    "plt.show()    "
   ]
  },
  {
   "cell_type": "code",
   "execution_count": 10,
   "id": "64212102",
   "metadata": {},
   "outputs": [],
   "source": [
    "import cvxpy as cp"
   ]
  },
  {
   "cell_type": "code",
   "execution_count": 52,
   "id": "14ea8f65",
   "metadata": {},
   "outputs": [
    {
     "data": {
      "text/plain": [
       "(4, 6)"
      ]
     },
     "execution_count": 52,
     "metadata": {},
     "output_type": "execute_result"
    }
   ],
   "source": [
    "H.shape"
   ]
  },
  {
   "cell_type": "code",
   "execution_count": 103,
   "id": "0bb6d54c",
   "metadata": {},
   "outputs": [],
   "source": [
    "def shortest_path(env,start,goal, K=2,d=2):\n",
    "    M = 100 * np.max(np.abs(env.limits))\n",
    "\n",
    "    x = cp.Variable((d, K+2))\n",
    "\n",
    "    constraints = []\n",
    "\n",
    "    # Start and goal constraints\n",
    "    constraints+=[x[:,0] == start, x[:,-1] ==  goal]\n",
    "\n",
    "    # Boundary constraints\n",
    "    constraints.append(x <= np.array(env.limits)[:,-1].reshape(-1,1) - bloating_r)\n",
    "    constraints.append(x >= np.array(env.limits)[:,0].reshape(-1,1) + bloating_r)\n",
    "\n",
    "    # Static obstacle constraints\n",
    "    obs = env.obstacles\n",
    "    for O in obs:\n",
    "        A, b= O.A,O.b\n",
    "\n",
    "        H = A @ x-(b+ np.linalg.norm(A,axis=1) * bloating_r).reshape(-1,1) # Bloating radius\n",
    "\n",
    "        alpha = cp.Variable((H.shape[0],H.shape[1]-1),boolean=True)\n",
    "        \n",
    "        constraints.append(H[:,1:] + M * (1-alpha)>=0)\n",
    "        constraints.append(H[:,:-1] + M * (1-alpha)>=0)\n",
    "        \n",
    "        constraints.append(cp.sum(alpha,axis = 0)>=1)\n",
    "        \n",
    "    obj_func = cp.sum([cp.norm(x[:,i]-x[:,i+1]) for i in range(x.shape[1]-1)])\n",
    "    prob = cp.Problem(cp.Minimize(obj_func),constraints)\n",
    "    val = prob.solve(solver='GUROBI') # The Gurobi solver proves to be more accurate and also faster.\n",
    "    return x.value, val\n"
   ]
  },
  {
   "cell_type": "code",
   "execution_count": 104,
   "id": "d994c9b2",
   "metadata": {},
   "outputs": [],
   "source": [
    "start = np.array(list(env.starts[0].centroid().coords)[0])\n",
    "goal = np.array(list(env.goals[0].centroid().coords)[0])\n",
    "\n",
    "K = 2\n",
    "d = 2 \n",
    "\n",
    "path, val = shortest_path(env, start, goal, K,d)"
   ]
  },
  {
   "cell_type": "code",
   "execution_count": 105,
   "id": "124ec802",
   "metadata": {},
   "outputs": [
    {
     "data": {
      "image/png": "[encoded data removed]",
      "text/plain": [
       "<Figure size 640x480 with 1 Axes>"
      ]
     },
     "metadata": {},
     "output_type": "display_data"
    }
   ],
   "source": [
    "ax = plt.gca()\n",
    "draw_env(env,[path], ax)\n",
    "plt.show()    \n"
   ]
  }
 ],
 "metadata": {
  "kernelspec": {
   "display_name": "Python 3 (ipykernel)",
   "language": "python",
   "name": "python3"
  },
  "language_info": {
   "codemirror_mode": {
    "name": "ipython",
    "version": 3
   },
   "file_extension": ".py",
   "mimetype": "text/x-python",
   "name": "python",
   "nbconvert_exporter": "python",
   "pygments_lexer": "ipython3",
   "version": "3.11.0"
  }
 },
 "nbformat": 4,
 "nbformat_minor": 5
}
