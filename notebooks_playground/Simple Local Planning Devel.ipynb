{
 "cells": [
  {
   "cell_type": "markdown",
   "id": "93964b26-d9f5-45ac-9818-50cc2951a2d5",
   "metadata": {},
   "source": [
    "# Simple & Efficient Local Planning potentially with MILP"
   ]
  },
  {
   "cell_type": "code",
   "execution_count": 10,
   "id": "4f6a1483-2bff-48b4-a976-d9891665966d",
   "metadata": {},
   "outputs": [
    {
     "name": "stdout",
     "output_type": "stream",
     "text": [
      "The autoreload extension is already loaded. To reload it, use:\n",
      "  %reload_ext autoreload\n"
     ]
    }
   ],
   "source": [
    "import sys\n",
    "sys.path.append('../')\n",
    "from panav.environment.env import DefaultEmtpyEnv\n",
    "from panav.environment.utils import box_2d_center\n",
    "\n",
    "from panav.SAMP.solvers import Tube_Planning\n",
    "\n",
    "from panav.viz import draw_env,draw_hybrid\n",
    "\n",
    "%load_ext autoreload\n",
    "%autoreload 2"
   ]
  },
  {
   "cell_type": "code",
   "execution_count": 20,
   "id": "e1a6761e",
   "metadata": {},
   "outputs": [
    {
     "name": "stdout",
     "output_type": "stream",
     "text": [
      "optimal\n"
     ]
    },
    {
     "data": {
      "image/png": "[encoded data removed]",
      "text/plain": [
       "<Figure size 640x480 with 1 Axes>"
      ]
     },
     "metadata": {},
     "output_type": "display_data"
    }
   ],
   "source": [
    "import numpy as np\n",
    "from panav.multi_path import shortest_path\n",
    "\n",
    "bloating_r = 0.5\n",
    "vmax = 1.0\n",
    "\n",
    "env = DefaultEmtpyEnv(N_agent = 0)\n",
    "\n",
    "obs = box_2d_center(np.array([0,0]),np.array([8,8]))\n",
    "\n",
    "env.obstacles.append(obs)\n",
    "\n",
    "start = np.array([-5,0])\n",
    "goal = np.array([1,-5])\n",
    "\n",
    "env.starts= [start]\n",
    "env.goals = [goal]\n",
    "\n",
    "# solver = Tube_Planning(env,start,goal,vmax,bloating_r)\n",
    "\n",
    "# t,x = solver.plan()\n",
    "\n",
    "x,_ = shortest_path(env,start,goal,bloating_r=bloating_r)\n",
    "\n",
    "draw_env(env,paths = [x],obs_alpha=1.0)\n"
   ]
  },
  {
   "cell_type": "code",
   "execution_count": 23,
   "id": "c1af8119",
   "metadata": {},
   "outputs": [
    {
     "data": {
      "image/svg+xml": [
       "<svg xmlns=\"http://www.w3.org/2000/svg\" xmlns:xlink=\"http://www.w3.org/1999/xlink\" width=\"100.0\" height=\"100.0\" viewBox=\"-4.32 -4.32 8.64 8.64\" preserveAspectRatio=\"xMinYMin meet\"><g transform=\"matrix(1,0,0,-1,0,0.0)\"><path fill-rule=\"evenodd\" fill=\"#66cc99\" stroke=\"#555555\" stroke-width=\"0.1728\" opacity=\"0.6\" d=\"M 4.0,-4.0 L 4.0,4.0 L -4.0,4.0 L -4.0,-4.0 L 4.0,-4.0 z\" /></g></svg>"
      ],
      "text/plain": [
       "<POLYGON ((4 -4, 4 4, -4 4, -4 -4, 4 -4))>"
      ]
     },
     "execution_count": 23,
     "metadata": {},
     "output_type": "execute_result"
    }
   ],
   "source": [
    "env.obstacles[0].verts"
   ]
  },
  {
   "cell_type": "code",
   "execution_count": 19,
   "id": "990022a0",
   "metadata": {},
   "outputs": [
    {
     "name": "stderr",
     "output_type": "stream",
     "text": [
      "/Users/tianpengzhang/opt/miniconda3/envs/PA-NAV/lib/python3.11/site-packages/shapely/measurement.py:74: RuntimeWarning: invalid value encountered in distance\n",
      "  return lib.distance(a, b, **kwargs)\n"
     ]
    },
    {
     "data": {
      "text/plain": [
       "0.0"
      ]
     },
     "execution_count": 19,
     "metadata": {},
     "output_type": "execute_result"
    }
   ],
   "source": [
    "from shapely import LineString\n",
    "obs.verts.distance(LineString([start,goal]))"
   ]
  }
 ],
 "metadata": {
  "kernelspec": {
   "display_name": "Python 3 (ipykernel)",
   "language": "python",
   "name": "python3"
  },
  "language_info": {
   "codemirror_mode": {
    "name": "ipython",
    "version": 3
   },
   "file_extension": ".py",
   "mimetype": "text/x-python",
   "name": "python",
   "nbconvert_exporter": "python",
   "pygments_lexer": "ipython3",
   "version": "3.11.0"
  }
 },
 "nbformat": 4,
 "nbformat_minor": 5
}
