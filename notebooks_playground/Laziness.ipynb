{
 "cells": [
  {
   "cell_type": "markdown",
   "id": "93964b26-d9f5-45ac-9818-50cc2951a2d5",
   "metadata": {},
   "source": [
    "# Multi-path exploration"
   ]
  },
  {
   "cell_type": "code",
   "execution_count": 2,
   "id": "4f6a1483-2bff-48b4-a976-d9891665966d",
   "metadata": {},
   "outputs": [],
   "source": [
    "import sys\n",
    "sys.path.append('../')\n",
    "from panav.viz import draw_env\n",
    "from panav.multi_path import explore_multi_path\n",
    "from panav.env import NavigationEnv,box_2d_center,Box2DRegion\n",
    "\n",
    "import numpy as np\n",
    "from matplotlib import pyplot as plt\n",
    "\n",
    "%load_ext autoreload\n",
    "%autoreload 2"
   ]
  },
  {
   "cell_type": "markdown",
   "id": "862c9206",
   "metadata": {},
   "source": [
    "# Empty Environment"
   ]
  },
  {
   "cell_type": "code",
   "execution_count": 3,
   "id": "3324e7e9",
   "metadata": {},
   "outputs": [],
   "source": [
    "\n",
    "# 2D navigation environment\n",
    "\n",
    "start_box_side = np.array([1,1])\n",
    "goal_box_side = np.array([1,1])\n",
    "\n",
    "top, bottom = 9,-9\n",
    "start_x_offset = 7\n",
    "goal_x_offset = 9\n",
    "N = 4\n",
    "\n",
    "start_locs = np.vstack([\n",
    "np.vstack([np.ones(N)*start_x_offset,np.linspace(top,bottom, N)]).T,\n",
    "np.vstack([np.ones(N)*(-start_x_offset),np.linspace(top,bottom, N)]).T])\n",
    "\n",
    "goal_locs = np.vstack([\n",
    "np.vstack([np.ones(N)*(-goal_x_offset),np.linspace(bottom,top, N)]).T,\n",
    "np.vstack([np.ones(N)*goal_x_offset,np.linspace(bottom,top, N)]).T])\n",
    "\n",
    "\n",
    "starts = [box_2d_center(s,start_box_side) for s in start_locs]\n",
    "goals = [box_2d_center(g,goal_box_side) for g in goal_locs]\n",
    "\n",
    "start = np.array(list(starts[0].centroid().coords)[0])\n",
    "goal = np.array(list(goals[0].centroid().coords)[0])\n",
    "\n",
    "limits = [(-10.0,10.0),(-10.0,10.0)]\n",
    "\n",
    "# Construct the hybrid graph representation of the environment\n",
    "bloating_r = 0.5 \n",
    "env = NavigationEnv(limits,[],starts,goals)"
   ]
  },
  {
   "cell_type": "markdown",
   "id": "b785b7b2",
   "metadata": {},
   "source": [
    "# Single Tunnel"
   ]
  },
  {
   "cell_type": "code",
   "execution_count": 4,
   "id": "97b2f797",
   "metadata": {},
   "outputs": [],
   "source": [
    "\n",
    "O1 = Box2DRegion((-2.5,2.5),(0.5,10))\n",
    "O2 = Box2DRegion((-2.5,2.5),(-10,-1.0))\n",
    "env = NavigationEnv(limits,[O1,O2],starts,goals)"
   ]
  },
  {
   "cell_type": "code",
   "execution_count": 6,
   "id": "d426edb4",
   "metadata": {},
   "outputs": [
    {
     "data": {
      "image/png": "[encoded data removed]",
      "text/plain": [
       "<Figure size 640x480 with 1 Axes>"
      ]
     },
     "metadata": {},
     "output_type": "display_data"
    }
   ],
   "source": [
    "ax = plt.gca()\n",
    "draw_env(env,[], ax)\n",
    "plt.tight_layout()\n",
    "plt.show()    \n"
   ]
  },
  {
   "cell_type": "code",
   "execution_count": 20,
   "id": "c92023d6",
   "metadata": {},
   "outputs": [],
   "source": [
    "p = Tube_Planning(env,start, goal, vmax , bloating_r, \n",
    "            obs_trajectories=[], \n",
    "            d=d, K=K,\n",
    "            ignore_finished_agents = False)"
   ]
  },
  {
   "cell_type": "code",
   "execution_count": 24,
   "id": "c6da8494",
   "metadata": {},
   "outputs": [
    {
     "name": "stdout",
     "output_type": "stream",
     "text": [
      "0\n",
      "K 2\n",
      "num obstacle trajectories:0/0\n",
      "K 3\n",
      "num obstacle trajectories:0/0\n",
      "0.022413015365600586\n",
      "1\n",
      "K 2\n",
      "num obstacle trajectories:0/1\n",
      "K 3\n",
      "num obstacle trajectories:0/1\n",
      "0.01891613006591797\n",
      "2\n",
      "K 2\n",
      "num obstacle trajectories:0/2\n",
      "K 3\n",
      "num obstacle trajectories:0/2\n",
      "num obstacle trajectories:1/2\n",
      "0.04400300979614258\n",
      "3\n",
      "K 2\n",
      "num obstacle trajectories:0/3\n",
      "K 3\n",
      "num obstacle trajectories:0/3\n",
      "num obstacle trajectories:1/3\n",
      "K 5\n",
      "num obstacle trajectories:0/3\n",
      "num obstacle trajectories:1/3\n",
      "0.12108206748962402\n",
      "4\n",
      "K 2\n",
      "num obstacle trajectories:0/4\n"
     ]
    },
    {
     "name": "stderr",
     "output_type": "stream",
     "text": [
      "/Users/tianpengzhang/Dropbox (Harvard University)/Tianpeng's research/Tianpeng & Lina/Multiagent Motion Planning/PA-Nav/notebooks_playground/../panav/PBS/conflict.py:70: RuntimeWarning: invalid value encountered in divide\n",
      "  vb = (pb[:,1]-pb[:,0])/(tb[1]-tb[0])\n"
     ]
    },
    {
     "name": "stdout",
     "output_type": "stream",
     "text": [
      "K 3\n",
      "num obstacle trajectories:0/4\n",
      "num obstacle trajectories:1/4\n",
      "num obstacle trajectories:2/4\n",
      "K 5\n",
      "num obstacle trajectories:0/4\n",
      "num obstacle trajectories:1/4\n",
      "num obstacle trajectories:2/4\n",
      "num obstacle trajectories:3/4\n",
      "1.303678035736084\n",
      "5\n",
      "K 2\n",
      "num obstacle trajectories:0/5\n",
      "K 3\n",
      "num obstacle trajectories:0/5\n",
      "num obstacle trajectories:1/5\n",
      "num obstacle trajectories:2/5\n",
      "K 5\n",
      "num obstacle trajectories:0/5\n",
      "num obstacle trajectories:1/5\n"
     ]
    },
    {
     "name": "stderr",
     "output_type": "stream",
     "text": [
      "/Users/tianpengzhang/Dropbox (Harvard University)/Tianpeng's research/Tianpeng & Lina/Multiagent Motion Planning/PA-Nav/notebooks_playground/../panav/PBS/conflict.py:70: RuntimeWarning: divide by zero encountered in divide\n",
      "  vb = (pb[:,1]-pb[:,0])/(tb[1]-tb[0])\n",
      "/Users/tianpengzhang/Dropbox (Harvard University)/Tianpeng's research/Tianpeng & Lina/Multiagent Motion Planning/PA-Nav/notebooks_playground/../panav/PBS/conflict.py:74: RuntimeWarning: invalid value encountered in multiply\n",
      "  \n",
      "/Users/tianpengzhang/Dropbox (Harvard University)/Tianpeng's research/Tianpeng & Lina/Multiagent Motion Planning/PA-Nav/notebooks_playground/../panav/PBS/conflict.py:81: RuntimeWarning: invalid value encountered in multiply\n",
      "  or np.linalg.norm(u + ub * v)<= ra+rb\n",
      "/Users/tianpengzhang/Dropbox (Harvard University)/Tianpeng's research/Tianpeng & Lina/Multiagent Motion Planning/PA-Nav/notebooks_playground/../panav/PBS/conflict.py:82: RuntimeWarning: invalid value encountered in multiply\n",
      "  # The minimal distance is attained when t=lb or ub.\n"
     ]
    },
    {
     "name": "stdout",
     "output_type": "stream",
     "text": [
      "num obstacle trajectories:2/5\n",
      "num obstacle trajectories:3/5\n",
      "num obstacle trajectories:4/5\n",
      "3.646437168121338\n",
      "6\n",
      "K 2\n",
      "num obstacle trajectories:0/6\n",
      "K 3\n",
      "num obstacle trajectories:0/6\n",
      "num obstacle trajectories:1/6\n",
      "num obstacle trajectories:2/6\n",
      "K 5\n",
      "num obstacle trajectories:0/6\n",
      "num obstacle trajectories:1/6\n",
      "num obstacle trajectories:2/6\n",
      "num obstacle trajectories:3/6\n",
      "num obstacle trajectories:4/6\n",
      "num obstacle trajectories:5/6\n",
      "num obstacle trajectories:6/6\n",
      "K 6\n",
      "num obstacle trajectories:0/6\n",
      "num obstacle trajectories:1/6\n",
      "num obstacle trajectories:2/6\n",
      "num obstacle trajectories:3/6\n",
      "num obstacle trajectories:4/6\n",
      "num obstacle trajectories:5/6\n",
      "num obstacle trajectories:6/6\n",
      "21.1491801738739\n",
      "7\n",
      "K 2\n",
      "num obstacle trajectories:0/7\n",
      "K 3\n",
      "num obstacle trajectories:0/7\n",
      "num obstacle trajectories:1/7\n",
      "num obstacle trajectories:2/7\n",
      "K 5\n",
      "num obstacle trajectories:0/7\n",
      "num obstacle trajectories:1/7\n",
      "num obstacle trajectories:2/7\n",
      "num obstacle trajectories:3/7\n",
      "num obstacle trajectories:4/7\n",
      "num obstacle trajectories:5/7\n",
      "num obstacle trajectories:6/7\n",
      "K 6\n",
      "num obstacle trajectories:0/7\n",
      "num obstacle trajectories:1/7\n",
      "num obstacle trajectories:2/7\n",
      "num obstacle trajectories:3/7\n",
      "num obstacle trajectories:4/7\n",
      "num obstacle trajectories:5/7\n",
      "num obstacle trajectories:6/7\n",
      "K 7\n",
      "num obstacle trajectories:0/7\n",
      "num obstacle trajectories:1/7\n",
      "num obstacle trajectories:2/7\n",
      "num obstacle trajectories:3/7\n",
      "num obstacle trajectories:4/7\n",
      "num obstacle trajectories:5/7\n",
      "num obstacle trajectories:6/7\n",
      "K 8\n",
      "num obstacle trajectories:0/7\n",
      "num obstacle trajectories:1/7\n",
      "num obstacle trajectories:2/7\n",
      "num obstacle trajectories:3/7\n",
      "num obstacle trajectories:4/7\n",
      "num obstacle trajectories:5/7\n",
      "\n",
      "Interrupt request received\n"
     ]
    },
    {
     "ename": "SolverError",
     "evalue": "Solver 'GUROBI' failed. Try another solver, or solve with verbose=True for more information.",
     "output_type": "error",
     "traceback": [
      "\u001b[0;31m---------------------------------------------------------------------------\u001b[0m",
      "\u001b[0;31mSolverError\u001b[0m                               Traceback (most recent call last)",
      "Cell \u001b[0;32mIn[24], line 52\u001b[0m\n\u001b[1;32m     46\u001b[0m \u001b[38;5;28mprint\u001b[39m(\u001b[38;5;124m\"\u001b[39m\u001b[38;5;124mK\u001b[39m\u001b[38;5;124m\"\u001b[39m,K)\n\u001b[1;32m     47\u001b[0m planner \u001b[38;5;241m=\u001b[39m \u001b[38;5;28;01mlambda\u001b[39;00m env, start, goal, obs_trajectories: Tube_Planning(env,start, goal, vmax , bloating_r, \n\u001b[1;32m     48\u001b[0m                                                    obs_trajectories\u001b[38;5;241m=\u001b[39mobs_trajectories, \n\u001b[1;32m     49\u001b[0m                                                    d\u001b[38;5;241m=\u001b[39md, K\u001b[38;5;241m=\u001b[39mK,\n\u001b[1;32m     50\u001b[0m                                                    ignore_finished_agents \u001b[38;5;241m=\u001b[39m \u001b[38;5;28;01mFalse\u001b[39;00m)\n\u001b[0;32m---> 52\u001b[0m results \u001b[38;5;241m=\u001b[39m \u001b[43mlazy_optim\u001b[49m\u001b[43m(\u001b[49m\u001b[43mplanner\u001b[49m\u001b[43m,\u001b[49m\u001b[43m \u001b[49m\u001b[43menv\u001b[49m\u001b[43m,\u001b[49m\u001b[43m \u001b[49m\u001b[43mstart\u001b[49m\u001b[43m,\u001b[49m\u001b[43m \u001b[49m\u001b[43mgoal\u001b[49m\u001b[43m,\u001b[49m\u001b[43m \u001b[49m\u001b[43mplan\u001b[49m\u001b[43m)\u001b[49m\n\u001b[1;32m     53\u001b[0m \u001b[38;5;28;01mif\u001b[39;00m results \u001b[38;5;129;01mis\u001b[39;00m \u001b[38;5;129;01mnot\u001b[39;00m \u001b[38;5;28;01mNone\u001b[39;00m:\n\u001b[1;32m     54\u001b[0m     t,xs \u001b[38;5;241m=\u001b[39m results\n",
      "Cell \u001b[0;32mIn[24], line 9\u001b[0m, in \u001b[0;36mlazy_optim\u001b[0;34m(planner, env, start, goal, obstacle_trajectories)\u001b[0m\n\u001b[1;32m      7\u001b[0m \u001b[38;5;28;01mwhile\u001b[39;00m \u001b[38;5;28;01mTrue\u001b[39;00m:\n\u001b[1;32m      8\u001b[0m     \u001b[38;5;28mprint\u001b[39m(\u001b[38;5;124m\"\u001b[39m\u001b[38;5;124mnum obstacle trajectories:\u001b[39m\u001b[38;5;132;01m{}\u001b[39;00m\u001b[38;5;124m/\u001b[39m\u001b[38;5;132;01m{}\u001b[39;00m\u001b[38;5;124m\"\u001b[39m\u001b[38;5;241m.\u001b[39mformat(i,m))\n\u001b[0;32m----> 9\u001b[0m     p \u001b[38;5;241m=\u001b[39m \u001b[43mplanner\u001b[49m\u001b[43m(\u001b[49m\u001b[43menv\u001b[49m\u001b[43m,\u001b[49m\u001b[43mstart\u001b[49m\u001b[43m,\u001b[49m\u001b[43mgoal\u001b[49m\u001b[43m,\u001b[49m\u001b[43mactive\u001b[49m\u001b[43m)\u001b[49m\n\u001b[1;32m     10\u001b[0m     conflicted_obs \u001b[38;5;241m=\u001b[39m plan_obs_conflict(p, obstacle_trajectories, bloating_r)\n\u001b[1;32m     11\u001b[0m     \u001b[38;5;28;01mif\u001b[39;00m \u001b[38;5;129;01mnot\u001b[39;00m conflicted_obs:\n",
      "Cell \u001b[0;32mIn[24], line 47\u001b[0m, in \u001b[0;36m<lambda>\u001b[0;34m(env, start, goal, obs_trajectories)\u001b[0m\n\u001b[1;32m     45\u001b[0m \u001b[38;5;28;01mfor\u001b[39;00m K \u001b[38;5;129;01min\u001b[39;00m [\u001b[38;5;241m2\u001b[39m,\u001b[38;5;241m3\u001b[39m,\u001b[38;5;241m5\u001b[39m,\u001b[38;5;241m6\u001b[39m,\u001b[38;5;241m7\u001b[39m,\u001b[38;5;241m8\u001b[39m,\u001b[38;5;241m9\u001b[39m]:\n\u001b[1;32m     46\u001b[0m     \u001b[38;5;28mprint\u001b[39m(\u001b[38;5;124m\"\u001b[39m\u001b[38;5;124mK\u001b[39m\u001b[38;5;124m\"\u001b[39m,K)\n\u001b[0;32m---> 47\u001b[0m     planner \u001b[38;5;241m=\u001b[39m \u001b[38;5;28;01mlambda\u001b[39;00m env, start, goal, obs_trajectories: \u001b[43mTube_Planning\u001b[49m\u001b[43m(\u001b[49m\u001b[43menv\u001b[49m\u001b[43m,\u001b[49m\u001b[43mstart\u001b[49m\u001b[43m,\u001b[49m\u001b[43m \u001b[49m\u001b[43mgoal\u001b[49m\u001b[43m,\u001b[49m\u001b[43m \u001b[49m\u001b[43mvmax\u001b[49m\u001b[43m \u001b[49m\u001b[43m,\u001b[49m\u001b[43m \u001b[49m\u001b[43mbloating_r\u001b[49m\u001b[43m,\u001b[49m\u001b[43m \u001b[49m\n\u001b[1;32m     48\u001b[0m \u001b[43m                                                       \u001b[49m\u001b[43mobs_trajectories\u001b[49m\u001b[38;5;241;43m=\u001b[39;49m\u001b[43mobs_trajectories\u001b[49m\u001b[43m,\u001b[49m\u001b[43m \u001b[49m\n\u001b[1;32m     49\u001b[0m \u001b[43m                                                       \u001b[49m\u001b[43md\u001b[49m\u001b[38;5;241;43m=\u001b[39;49m\u001b[43md\u001b[49m\u001b[43m,\u001b[49m\u001b[43m \u001b[49m\u001b[43mK\u001b[49m\u001b[38;5;241;43m=\u001b[39;49m\u001b[43mK\u001b[49m\u001b[43m,\u001b[49m\n\u001b[1;32m     50\u001b[0m \u001b[43m                                                       \u001b[49m\u001b[43mignore_finished_agents\u001b[49m\u001b[43m \u001b[49m\u001b[38;5;241;43m=\u001b[39;49m\u001b[43m \u001b[49m\u001b[38;5;28;43;01mFalse\u001b[39;49;00m\u001b[43m)\u001b[49m\n\u001b[1;32m     52\u001b[0m     results \u001b[38;5;241m=\u001b[39m lazy_optim(planner, env, start, goal, plan)\n\u001b[1;32m     53\u001b[0m     \u001b[38;5;28;01mif\u001b[39;00m results \u001b[38;5;129;01mis\u001b[39;00m \u001b[38;5;129;01mnot\u001b[39;00m \u001b[38;5;28;01mNone\u001b[39;00m:\n",
      "File \u001b[0;32m~/Dropbox (Harvard University)/Tianpeng's research/Tianpeng & Lina/Multiagent Motion Planning/PA-Nav/notebooks_playground/../panav/SAMP.py:252\u001b[0m, in \u001b[0;36mTube_Planning\u001b[0;34m(env, start, goal, vmax, bloating_r, obs_trajectories, d, K, t0, T_end_constraints, ignore_finished_agents)\u001b[0m\n\u001b[1;32m    247\u001b[0m     constraints\u001b[38;5;241m.\u001b[39mappend(\u001b[38;5;241m-\u001b[39m vb \u001b[38;5;241m<\u001b[39m\u001b[38;5;241m=\u001b[39m np\u001b[38;5;241m.\u001b[39msqrt(\u001b[38;5;241m2\u001b[39m) \u001b[38;5;241m*\u001b[39m diff)\n\u001b[1;32m    249\u001b[0m prob \u001b[38;5;241m=\u001b[39m cp\u001b[38;5;241m.\u001b[39mProblem(cp\u001b[38;5;241m.\u001b[39mMinimize(t[\u001b[38;5;241m0\u001b[39m,\u001b[38;5;241m-\u001b[39m\u001b[38;5;241m1\u001b[39m]),constraints)\n\u001b[0;32m--> 252\u001b[0m \u001b[43mprob\u001b[49m\u001b[38;5;241;43m.\u001b[39;49m\u001b[43msolve\u001b[49m\u001b[43m(\u001b[49m\u001b[43msolver\u001b[49m\u001b[38;5;241;43m=\u001b[39;49m\u001b[38;5;124;43m'\u001b[39;49m\u001b[38;5;124;43mGUROBI\u001b[39;49m\u001b[38;5;124;43m'\u001b[39;49m\u001b[43m,\u001b[49m\u001b[43mreoptimize\u001b[49m\u001b[43m \u001b[49m\u001b[38;5;241;43m=\u001b[39;49m\u001b[38;5;28;43;01mTrue\u001b[39;49;00m\u001b[43m)\u001b[49m \u001b[38;5;66;03m# The Gurobi solver proves to be more accurate and also faster.\u001b[39;00m\n\u001b[1;32m    253\u001b[0m \u001b[38;5;28;01mif\u001b[39;00m t\u001b[38;5;241m.\u001b[39mvalue \u001b[38;5;129;01mis\u001b[39;00m \u001b[38;5;129;01mnot\u001b[39;00m \u001b[38;5;28;01mNone\u001b[39;00m:\n\u001b[1;32m    254\u001b[0m     \u001b[38;5;28;01mreturn\u001b[39;00m t\u001b[38;5;241m.\u001b[39mvalue[\u001b[38;5;241m0\u001b[39m,:],x\u001b[38;5;241m.\u001b[39mvalue\n",
      "File \u001b[0;32m~/opt/miniconda3/envs/PA-Nav/lib/python3.11/site-packages/cvxpy/problems/problem.py:493\u001b[0m, in \u001b[0;36mProblem.solve\u001b[0;34m(self, *args, **kwargs)\u001b[0m\n\u001b[1;32m    491\u001b[0m \u001b[38;5;28;01melse\u001b[39;00m:\n\u001b[1;32m    492\u001b[0m     solve_func \u001b[38;5;241m=\u001b[39m Problem\u001b[38;5;241m.\u001b[39m_solve\n\u001b[0;32m--> 493\u001b[0m \u001b[38;5;28;01mreturn\u001b[39;00m \u001b[43msolve_func\u001b[49m\u001b[43m(\u001b[49m\u001b[38;5;28;43mself\u001b[39;49m\u001b[43m,\u001b[49m\u001b[43m \u001b[49m\u001b[38;5;241;43m*\u001b[39;49m\u001b[43margs\u001b[49m\u001b[43m,\u001b[49m\u001b[43m \u001b[49m\u001b[38;5;241;43m*\u001b[39;49m\u001b[38;5;241;43m*\u001b[39;49m\u001b[43mkwargs\u001b[49m\u001b[43m)\u001b[49m\n",
      "File \u001b[0;32m~/opt/miniconda3/envs/PA-Nav/lib/python3.11/site-packages/cvxpy/problems/problem.py:1068\u001b[0m, in \u001b[0;36mProblem._solve\u001b[0;34m(self, solver, warm_start, verbose, gp, qcp, requires_grad, enforce_dpp, ignore_dpp, canon_backend, **kwargs)\u001b[0m\n\u001b[1;32m   1066\u001b[0m end \u001b[38;5;241m=\u001b[39m time\u001b[38;5;241m.\u001b[39mtime()\n\u001b[1;32m   1067\u001b[0m \u001b[38;5;28mself\u001b[39m\u001b[38;5;241m.\u001b[39m_solve_time \u001b[38;5;241m=\u001b[39m end \u001b[38;5;241m-\u001b[39m start\n\u001b[0;32m-> 1068\u001b[0m \u001b[38;5;28;43mself\u001b[39;49m\u001b[38;5;241;43m.\u001b[39;49m\u001b[43munpack_results\u001b[49m\u001b[43m(\u001b[49m\u001b[43msolution\u001b[49m\u001b[43m,\u001b[49m\u001b[43m \u001b[49m\u001b[43msolving_chain\u001b[49m\u001b[43m,\u001b[49m\u001b[43m \u001b[49m\u001b[43minverse_data\u001b[49m\u001b[43m)\u001b[49m\n\u001b[1;32m   1069\u001b[0m \u001b[38;5;28;01mif\u001b[39;00m verbose:\n\u001b[1;32m   1070\u001b[0m     \u001b[38;5;28mprint\u001b[39m(_FOOTER)\n",
      "File \u001b[0;32m~/opt/miniconda3/envs/PA-Nav/lib/python3.11/site-packages/cvxpy/problems/problem.py:1393\u001b[0m, in \u001b[0;36mProblem.unpack_results\u001b[0;34m(self, solution, chain, inverse_data)\u001b[0m\n\u001b[1;32m   1391\u001b[0m     warnings\u001b[38;5;241m.\u001b[39mwarn(INF_OR_UNB_MESSAGE)\n\u001b[1;32m   1392\u001b[0m \u001b[38;5;28;01mif\u001b[39;00m solution\u001b[38;5;241m.\u001b[39mstatus \u001b[38;5;129;01min\u001b[39;00m s\u001b[38;5;241m.\u001b[39mERROR:\n\u001b[0;32m-> 1393\u001b[0m     \u001b[38;5;28;01mraise\u001b[39;00m error\u001b[38;5;241m.\u001b[39mSolverError(\n\u001b[1;32m   1394\u001b[0m             \u001b[38;5;124m\"\u001b[39m\u001b[38;5;124mSolver \u001b[39m\u001b[38;5;124m'\u001b[39m\u001b[38;5;132;01m%s\u001b[39;00m\u001b[38;5;124m'\u001b[39m\u001b[38;5;124m failed. \u001b[39m\u001b[38;5;124m\"\u001b[39m \u001b[38;5;241m%\u001b[39m chain\u001b[38;5;241m.\u001b[39msolver\u001b[38;5;241m.\u001b[39mname() \u001b[38;5;241m+\u001b[39m\n\u001b[1;32m   1395\u001b[0m             \u001b[38;5;124m\"\u001b[39m\u001b[38;5;124mTry another solver, or solve with verbose=True for more \u001b[39m\u001b[38;5;124m\"\u001b[39m\n\u001b[1;32m   1396\u001b[0m             \u001b[38;5;124m\"\u001b[39m\u001b[38;5;124minformation.\u001b[39m\u001b[38;5;124m\"\u001b[39m)\n\u001b[1;32m   1398\u001b[0m \u001b[38;5;28mself\u001b[39m\u001b[38;5;241m.\u001b[39munpack(solution)\n\u001b[1;32m   1399\u001b[0m \u001b[38;5;28mself\u001b[39m\u001b[38;5;241m.\u001b[39m_solver_stats \u001b[38;5;241m=\u001b[39m SolverStats(\u001b[38;5;28mself\u001b[39m\u001b[38;5;241m.\u001b[39m_solution\u001b[38;5;241m.\u001b[39mattr,\n\u001b[1;32m   1400\u001b[0m                                  chain\u001b[38;5;241m.\u001b[39msolver\u001b[38;5;241m.\u001b[39mname())\n",
      "\u001b[0;31mSolverError\u001b[0m: Solver 'GUROBI' failed. Try another solver, or solve with verbose=True for more information."
     ]
    }
   ],
   "source": [
    "from panav.PBS.conflict import plan_obs_conflict\n",
    "def lazy_optim(planner, env, start, goal, obstacle_trajectories):\n",
    "    active = []\n",
    "    m = len(obstacle_trajectories)\n",
    "\n",
    "    i = 0\n",
    "    while True:\n",
    "        print(\"num obstacle trajectories:{}/{}\".format(i,m))\n",
    "        p = planner(env,start,goal,active)\n",
    "        conflicted_obs = plan_obs_conflict(p, obstacle_trajectories, bloating_r)\n",
    "        if not conflicted_obs:\n",
    "            return p\n",
    "        active.append(conflicted_obs)\n",
    "        \n",
    "        i+=1\n",
    "        if i>m:\n",
    "            break\n",
    "\n",
    "    return None\n",
    "\n",
    "from panav.SAMP import Tube_Planning\n",
    "from panav.util import unique_tx\n",
    "from time import time\n",
    "from functools import partial\n",
    "agents = set(np.arange(len(env.starts)))\n",
    "\n",
    "vmax = 1.0\n",
    "d = 2\n",
    "\n",
    "plan = []\n",
    "times = []\n",
    "success = True\n",
    "fail_time = None\n",
    "for agent in agents:\n",
    "    print(agent)\n",
    "\n",
    "    t0 = time()\n",
    "    \n",
    "    start = env.starts[agent]\n",
    "    goal = env.goals[agent]\n",
    "\n",
    "    agent_success = False\n",
    "    \n",
    "    \n",
    "    for K in [2,3,5,6,7,8,9]:\n",
    "       \n",
    "        if results is not None:\n",
    "            t,xs = results\n",
    "            times.append(time()-t0)\n",
    "            print(times[-1])\n",
    "            t,xs = unique_tx(t,xs)\n",
    "            plan.append((t,xs))\n",
    "            agent_success = True\n",
    "            break\n",
    "        \n",
    "\n",
    "    if not agent_success:\n",
    "        print(\"Solution failed.\")\n",
    "        success = False\n",
    "        times.append(time()-t0)\n",
    "        break\n",
    "\n"
   ]
  },
  {
   "cell_type": "code",
   "execution_count": 40,
   "id": "0301c30e",
   "metadata": {},
   "outputs": [
    {
     "name": "stdout",
     "output_type": "stream",
     "text": [
      "K 3\n",
      "num obstacle trajectories:0/7\n",
      "num obstacle trajectories:1/7\n",
      "num obstacle trajectories:2/7\n",
      "Problem becomes infeasible.\n"
     ]
    }
   ],
   "source": [
    "def lazy_optim(planner, env, start, goal, obstacle_trajectories):\n",
    "    active = []\n",
    "    m = len(obstacle_trajectories)\n",
    "\n",
    "    i = 0\n",
    "    while True:\n",
    "        print(\"num obstacle trajectories:{}/{}\".format(i,m))\n",
    "        p = planner(env,start,goal,active)\n",
    "        if p is None:\n",
    "            print('Problem becomes infeasible.')\n",
    "            break\n",
    "        conflicted_obs = plan_obs_conflict(p, obstacle_trajectories, bloating_r)\n",
    "        if not conflicted_obs:\n",
    "            return p\n",
    "        active.append(conflicted_obs)\n",
    "        \n",
    "        i+=1\n",
    "        if i>m:\n",
    "            break\n",
    "\n",
    "    return None\n",
    "K = 3\n",
    "print(\"K\",K)\n",
    "planner = lambda env, start, goal, obs_trajectories: Tube_Planning(env,start, goal, vmax , bloating_r, \n",
    "                                                    obs_trajectories=obs_trajectories, \n",
    "                                                    d=d, K=K,\n",
    "                                                    ignore_finished_agents = False)\n",
    "\n",
    "results = lazy_optim(planner, env, start, goal, plan)"
   ]
  }
 ],
 "metadata": {
  "kernelspec": {
   "display_name": "Python 3 (ipykernel)",
   "language": "python",
   "name": "python3"
  },
  "language_info": {
   "codemirror_mode": {
    "name": "ipython",
    "version": 3
   },
   "file_extension": ".py",
   "mimetype": "text/x-python",
   "name": "python",
   "nbconvert_exporter": "python",
   "pygments_lexer": "ipython3",
   "version": "3.11.0"
  }
 },
 "nbformat": 4,
 "nbformat_minor": 5
}
