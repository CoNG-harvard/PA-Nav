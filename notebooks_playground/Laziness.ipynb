{
 "cells": [
  {
   "cell_type": "markdown",
   "id": "93964b26-d9f5-45ac-9818-50cc2951a2d5",
   "metadata": {},
   "source": [
    "# In this notebook we explore the lazy constraint adding technique and whether it helps reliably speed up planning in the single-tunnel environment\n",
    "\n",
    "Result: laziness is not helpful when life gets rough."
   ]
  },
  {
   "cell_type": "code",
   "execution_count": 1,
   "id": "4f6a1483-2bff-48b4-a976-d9891665966d",
   "metadata": {},
   "outputs": [],
   "source": [
    "import sys\n",
    "sys.path.append('../')\n",
    "from panav.viz import draw_env\n",
    "from panav.multi_path import explore_multi_path\n",
    "from panav.env import NavigationEnv,box_2d_center,Box2DRegion\n",
    "\n",
    "import numpy as np\n",
    "from matplotlib import pyplot as plt\n",
    "\n",
    "%load_ext autoreload\n",
    "%autoreload 2"
   ]
  },
  {
   "cell_type": "markdown",
   "id": "862c9206",
   "metadata": {},
   "source": [
    "# Empty Environment"
   ]
  },
  {
   "cell_type": "code",
   "execution_count": 2,
   "id": "3324e7e9",
   "metadata": {},
   "outputs": [],
   "source": [
    "\n",
    "# 2D navigation environment\n",
    "\n",
    "start_box_side = np.array([1,1])\n",
    "goal_box_side = np.array([1,1])\n",
    "\n",
    "top, bottom = 9,-9\n",
    "start_x_offset = 7\n",
    "goal_x_offset = 9\n",
    "N = 3\n",
    "\n",
    "start_locs = np.vstack([\n",
    "np.vstack([np.ones(N)*start_x_offset,np.linspace(top,bottom, N)]).T,\n",
    "np.vstack([np.ones(N)*(-start_x_offset),np.linspace(top,bottom, N)]).T])\n",
    "\n",
    "goal_locs = np.vstack([\n",
    "np.vstack([np.ones(N)*(-goal_x_offset),np.linspace(bottom,top, N)]).T,\n",
    "np.vstack([np.ones(N)*goal_x_offset,np.linspace(bottom,top, N)]).T])\n",
    "\n",
    "\n",
    "starts = [box_2d_center(s,start_box_side) for s in start_locs]\n",
    "goals = [box_2d_center(g,goal_box_side) for g in goal_locs]\n",
    "\n",
    "start = np.array(list(starts[0].centroid().coords)[0])\n",
    "goal = np.array(list(goals[0].centroid().coords)[0])\n",
    "\n",
    "limits = [(-10.0,10.0),(-10.0,10.0)]\n",
    "\n",
    "# Construct the hybrid graph representation of the environment\n",
    "bloating_r = 0.5 \n",
    "env = NavigationEnv(limits,[],starts,goals)"
   ]
  },
  {
   "cell_type": "markdown",
   "id": "b785b7b2",
   "metadata": {},
   "source": [
    "# Single Tunnel"
   ]
  },
  {
   "cell_type": "code",
   "execution_count": 3,
   "id": "97b2f797",
   "metadata": {},
   "outputs": [],
   "source": [
    "\n",
    "O1 = Box2DRegion((-2.5,2.5),(0.5,10))\n",
    "O2 = Box2DRegion((-2.5,2.5),(-10,-1.0))\n",
    "env = NavigationEnv(limits,[O1,O2],starts,goals)"
   ]
  },
  {
   "cell_type": "code",
   "execution_count": 4,
   "id": "d426edb4",
   "metadata": {},
   "outputs": [
    {
     "data": {
      "image/png": "[encoded data removed]",
      "text/plain": [
       "<Figure size 640x480 with 1 Axes>"
      ]
     },
     "metadata": {},
     "output_type": "display_data"
    }
   ],
   "source": [
    "ax = plt.gca()\n",
    "draw_env(env,[], ax)\n",
    "plt.tight_layout()\n",
    "plt.show()    \n"
   ]
  },
  {
   "cell_type": "code",
   "execution_count": 6,
   "id": "c6da8494",
   "metadata": {},
   "outputs": [
    {
     "name": "stdout",
     "output_type": "stream",
     "text": [
      "0\n",
      "K 1\n",
      "num obstacle trajectories:0/0\n",
      "Problem becomes infeasible.\n",
      "K 2\n",
      "num obstacle trajectories:0/0\n",
      "Problem becomes infeasible.\n",
      "K 3\n",
      "num obstacle trajectories:0/0\n",
      "0.07466697692871094\n",
      "1\n",
      "K 1\n",
      "num obstacle trajectories:0/1\n",
      "0.008549928665161133\n",
      "2\n",
      "K 1\n",
      "num obstacle trajectories:0/2\n",
      "Problem becomes infeasible.\n",
      "K 2\n",
      "num obstacle trajectories:0/2\n",
      "Problem becomes infeasible.\n",
      "K 3\n",
      "num obstacle trajectories:0/2\n",
      "num obstacle trajectories:1/2\n",
      "Problem becomes infeasible.\n",
      "K 4\n",
      "num obstacle trajectories:0/2\n",
      "num obstacle trajectories:1/2\n",
      "0.10274720191955566\n",
      "3\n",
      "K 1\n",
      "num obstacle trajectories:0/3\n",
      "Problem becomes infeasible.\n",
      "K 2\n",
      "num obstacle trajectories:0/3\n",
      "Problem becomes infeasible.\n",
      "K 3\n",
      "num obstacle trajectories:0/3\n",
      "num obstacle trajectories:1/3\n",
      "num obstacle trajectories:2/3\n",
      "0.09419703483581543\n",
      "4\n",
      "K 1\n",
      "num obstacle trajectories:0/4\n",
      "num obstacle trajectories:1/4\n",
      "Problem becomes infeasible.\n",
      "K 2\n",
      "num obstacle trajectories:0/4\n",
      "num obstacle trajectories:1/4\n",
      "num obstacle trajectories:2/4\n",
      "Problem becomes infeasible.\n",
      "K 3\n",
      "num obstacle trajectories:0/4\n",
      "num obstacle trajectories:1/4\n",
      "num obstacle trajectories:2/4\n"
     ]
    },
    {
     "name": "stderr",
     "output_type": "stream",
     "text": [
      "/Users/tianpengzhang/Dropbox (Harvard University)/Tianpeng's research/Tianpeng & Lina/Multiagent Motion Planning/PA-Nav/notebooks_playground/../panav/PBS/conflict.py:70: RuntimeWarning: divide by zero encountered in divide\n",
      "  va = (pa[:,1]-pa[:,0])/(ta[1]-ta[0])\n",
      "/Users/tianpengzhang/Dropbox (Harvard University)/Tianpeng's research/Tianpeng & Lina/Multiagent Motion Planning/PA-Nav/notebooks_playground/../panav/PBS/conflict.py:70: RuntimeWarning: invalid value encountered in divide\n",
      "  va = (pa[:,1]-pa[:,0])/(ta[1]-ta[0])\n",
      "/Users/tianpengzhang/Dropbox (Harvard University)/Tianpeng's research/Tianpeng & Lina/Multiagent Motion Planning/PA-Nav/notebooks_playground/../panav/PBS/conflict.py:74: RuntimeWarning: invalid value encountered in multiply\n",
      "  u = pa[:,0]-pb[:,0] - (va*ta[0]-vb*tb[0])\n",
      "/Users/tianpengzhang/Dropbox (Harvard University)/Tianpeng's research/Tianpeng & Lina/Multiagent Motion Planning/PA-Nav/notebooks_playground/../panav/PBS/conflict.py:81: RuntimeWarning: invalid value encountered in multiply\n",
      "  return np.linalg.norm(u + lb * v)<= ra+rb \\\n",
      "/Users/tianpengzhang/Dropbox (Harvard University)/Tianpeng's research/Tianpeng & Lina/Multiagent Motion Planning/PA-Nav/notebooks_playground/../panav/PBS/conflict.py:82: RuntimeWarning: invalid value encountered in multiply\n",
      "  or np.linalg.norm(u + ub * v)<= ra+rb\n"
     ]
    },
    {
     "name": "stdout",
     "output_type": "stream",
     "text": [
      "num obstacle trajectories:3/4\n",
      "num obstacle trajectories:4/4\n",
      "K 4\n",
      "num obstacle trajectories:0/4\n",
      "num obstacle trajectories:1/4\n",
      "num obstacle trajectories:2/4\n",
      "num obstacle trajectories:3/4\n",
      "num obstacle trajectories:4/4\n",
      "K 5\n",
      "num obstacle trajectories:0/4\n",
      "num obstacle trajectories:1/4\n",
      "num obstacle trajectories:2/4\n",
      "num obstacle trajectories:3/4\n",
      "num obstacle trajectories:4/4\n",
      "K 6\n",
      "num obstacle trajectories:0/4\n",
      "num obstacle trajectories:1/4\n",
      "num obstacle trajectories:2/4\n",
      "num obstacle trajectories:3/4\n",
      "11.371746063232422\n",
      "5\n",
      "K 1\n",
      "num obstacle trajectories:0/5\n",
      "Problem becomes infeasible.\n",
      "K 2\n",
      "num obstacle trajectories:0/5\n",
      "Problem becomes infeasible.\n",
      "K 3\n",
      "num obstacle trajectories:0/5\n",
      "num obstacle trajectories:1/5\n",
      "num obstacle trajectories:2/5\n",
      "num obstacle trajectories:3/5\n",
      "Problem becomes infeasible.\n",
      "K 4\n",
      "num obstacle trajectories:0/5\n",
      "num obstacle trajectories:1/5\n",
      "num obstacle trajectories:2/5\n",
      "num obstacle trajectories:3/5\n",
      "num obstacle trajectories:4/5\n",
      "Problem becomes infeasible.\n",
      "K 5\n",
      "num obstacle trajectories:0/5\n",
      "num obstacle trajectories:1/5\n",
      "num obstacle trajectories:2/5\n",
      "num obstacle trajectories:3/5\n",
      "num obstacle trajectories:4/5\n",
      "Problem becomes infeasible.\n",
      "K 6\n",
      "num obstacle trajectories:0/5\n",
      "num obstacle trajectories:1/5\n",
      "num obstacle trajectories:2/5\n",
      "num obstacle trajectories:3/5\n",
      "num obstacle trajectories:4/5\n",
      "num obstacle trajectories:5/5\n",
      "K 7\n",
      "num obstacle trajectories:0/5\n",
      "num obstacle trajectories:1/5\n"
     ]
    },
    {
     "name": "stderr",
     "output_type": "stream",
     "text": [
      "/Users/tianpengzhang/Dropbox (Harvard University)/Tianpeng's research/Tianpeng & Lina/Multiagent Motion Planning/PA-Nav/notebooks_playground/../panav/PBS/conflict.py:81: RuntimeWarning: invalid value encountered in add\n",
      "  return np.linalg.norm(u + lb * v)<= ra+rb \\\n",
      "/Users/tianpengzhang/Dropbox (Harvard University)/Tianpeng's research/Tianpeng & Lina/Multiagent Motion Planning/PA-Nav/notebooks_playground/../panav/PBS/conflict.py:82: RuntimeWarning: invalid value encountered in add\n",
      "  or np.linalg.norm(u + ub * v)<= ra+rb\n"
     ]
    },
    {
     "name": "stdout",
     "output_type": "stream",
     "text": [
      "num obstacle trajectories:2/5\n",
      "num obstacle trajectories:3/5\n",
      "num obstacle trajectories:4/5\n",
      "num obstacle trajectories:5/5\n",
      "Solution failed.\n"
     ]
    }
   ],
   "source": [
    "from panav.PBS.conflict import plan_obs_conflict\n",
    "def lazy_optim(planner, env, start, goal, obstacle_trajectories):\n",
    "    active = []\n",
    "    m = len(obstacle_trajectories)\n",
    "\n",
    "    i = 0\n",
    "    while True:\n",
    "        print(\"num obstacle trajectories:{}/{}\".format(i,m))\n",
    "        p = planner(env,start,goal,active)\n",
    "        if p is None:\n",
    "            print('Problem becomes infeasible.')\n",
    "            break\n",
    "        conflicted_obs = plan_obs_conflict(p, obstacle_trajectories, bloating_r)\n",
    "        if not conflicted_obs:\n",
    "            return p\n",
    "        active.append(conflicted_obs)\n",
    "        \n",
    "        i+=1\n",
    "        if i>m:\n",
    "            break\n",
    "\n",
    "    return None\n",
    "\n",
    "from panav.SAMP import Tube_Planning\n",
    "from panav.util import unique_tx\n",
    "from time import time\n",
    "from functools import partial\n",
    "agents = set(np.arange(len(env.starts)))\n",
    "\n",
    "vmax = 1.0\n",
    "d = 2\n",
    "\n",
    "plan = []\n",
    "times = []\n",
    "success = True\n",
    "fail_time = None\n",
    "for agent in agents:\n",
    "    print(agent)\n",
    "\n",
    "    t0 = time()\n",
    "    \n",
    "    start = env.starts[agent]\n",
    "    goal = env.goals[agent]\n",
    "\n",
    "    agent_success = False\n",
    "    \n",
    "    \n",
    "    for K in range(1,8):\n",
    "        print(\"K\",K)\n",
    "        planner = lambda env, start, goal, obs_trajectories: Tube_Planning(env,start, goal, vmax , bloating_r, \n",
    "                                                           obs_trajectories=obs_trajectories, \n",
    "                                                           d=d, K=K,\n",
    "                                                           ignore_finished_agents = False)\n",
    "\n",
    "        results = lazy_optim(planner, env, start, goal, plan)\n",
    "        if results is not None:\n",
    "            t,xs = results\n",
    "            times.append(time()-t0)\n",
    "            print(times[-1])\n",
    "            t,xs = unique_tx(t,xs)\n",
    "            plan.append((t,xs))\n",
    "            agent_success = True\n",
    "            break\n",
    "        \n",
    "\n",
    "    if not agent_success:\n",
    "        print(\"Solution failed.\")\n",
    "        success = False\n",
    "        times.append(time()-t0)\n",
    "        break\n",
    "\n"
   ]
  },
  {
   "cell_type": "markdown",
   "id": "64ea058c",
   "metadata": {},
   "source": [
    "# The conclusion is that, we cannot run away with laziness when planning situation gets tough (particularly, in the single tunnel case). We must honestly include all the agents when dealing with single tunnel passing!"
   ]
  }
 ],
 "metadata": {
  "kernelspec": {
   "display_name": "Python 3 (ipykernel)",
   "language": "python",
   "name": "python3"
  },
  "language_info": {
   "codemirror_mode": {
    "name": "ipython",
    "version": 3
   },
   "file_extension": ".py",
   "mimetype": "text/x-python",
   "name": "python",
   "nbconvert_exporter": "python",
   "pygments_lexer": "ipython3",
   "version": "3.11.0"
  }
 },
 "nbformat": 4,
 "nbformat_minor": 5
}
