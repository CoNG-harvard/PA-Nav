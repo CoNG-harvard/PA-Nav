{
 "cells": [
  {
   "cell_type": "code",
   "execution_count": 1,
   "metadata": {},
   "outputs": [
    {
     "name": "stderr",
     "output_type": "stream",
     "text": [
      "<frozen importlib._bootstrap>:241: RuntimeWarning: to-Python converter for ompl::msg::LogLevel already registered; second conversion method ignored.\n"
     ]
    }
   ],
   "source": [
    "import sys\n",
    "sys.path.append('../')\n",
    "from ompl import base as ob\n",
    "from ompl import geometric as og\n",
    "from ompl import util as ou\n",
    "\n",
    "from panav.environment.env import MultiTunnelEnv\n",
    "from panav.viz import draw_env\n",
    "\n",
    "import numpy as np\n",
    "from panav.RRT.utils import has_line_collision"
   ]
  },
  {
   "cell_type": "code",
   "execution_count": 2,
   "metadata": {},
   "outputs": [
    {
     "data": {
      "image/png": "[encoded data removed]",
      "text/plain": [
       "<Figure size 640x480 with 1 Axes>"
      ]
     },
     "metadata": {},
     "output_type": "display_data"
    }
   ],
   "source": [
    "bloating_r = 0.5\n",
    "vmax = 1.0\n",
    "\n",
    "N = 8\n",
    "limits = [(-10,10),(-10,10)] \n",
    "n_tunnel = 1\n",
    "\n",
    "TIMEOUT = 100 # timeout\n",
    "\n",
    "env = MultiTunnelEnv(n_tunnel = n_tunnel, tunnel_width = bloating_r*2.5,limits=limits, N_agent = N)\n",
    "draw_env(env)"
   ]
  },
  {
   "cell_type": "code",
   "execution_count": 3,
   "metadata": {},
   "outputs": [],
   "source": [
    "space_dim = 2\n",
    "bounds = ob.RealVectorBounds(space_dim)\n",
    "\n",
    "for axis in range(space_dim):\n",
    "    bounds.setLow(axis,min(limits[axis]))\n",
    "    bounds.setHigh(axis,max(limits[axis]))\n",
    "    \n",
    "space = ob.RealVectorStateSpace(space_dim)\n",
    "space.setBounds(bounds)\n",
    "spaceTime = ob.SpaceTimeStateSpace(space,vmax)"
   ]
  },
  {
   "cell_type": "code",
   "execution_count": 4,
   "metadata": {},
   "outputs": [],
   "source": [
    "si = ob.SpaceInformation(spaceTime)"
   ]
  },
  {
   "cell_type": "code",
   "execution_count": 18,
   "metadata": {},
   "outputs": [
    {
     "name": "stdout",
     "output_type": "stream",
     "text": [
      "Debug:   SpaceTimeRRT: Planner range detected to be inf\n",
      "Info:    SpaceTimeRRT: Starting planning with 1 states already in datastructure\n",
      "Info:    SpaceTimeRRT: Starting planning with time bound factor 2.00\n"
     ]
    },
    {
     "ename": "AttributeError",
     "evalue": "'Validator' object has no attribute 'si'",
     "output_type": "error",
     "traceback": [
      "\u001b[0;31m---------------------------------------------------------------------------\u001b[0m",
      "\u001b[0;31mAttributeError\u001b[0m                            Traceback (most recent call last)",
      "Cell \u001b[0;32mIn[18], line 70\u001b[0m\n\u001b[1;32m     67\u001b[0m exactSolutionReached \u001b[38;5;241m=\u001b[39m \u001b[38;5;28;01mlambda\u001b[39;00m : feasibleSolFound[\u001b[38;5;124m'\u001b[39m\u001b[38;5;124mresult\u001b[39m\u001b[38;5;124m'\u001b[39m]\n\u001b[1;32m     69\u001b[0m term_condition \u001b[38;5;241m=\u001b[39m ob\u001b[38;5;241m.\u001b[39mPlannerTerminationCondition(ob\u001b[38;5;241m.\u001b[39mPlannerTerminationConditionFn(exactSolutionReached))\n\u001b[0;32m---> 70\u001b[0m solved \u001b[38;5;241m=\u001b[39m \u001b[43moptimizingPlanner\u001b[49m\u001b[38;5;241;43m.\u001b[39;49m\u001b[43msolve\u001b[49m\u001b[43m(\u001b[49m\u001b[43mterm_condition\u001b[49m\u001b[43m)\u001b[49m\n",
      "Cell \u001b[0;32mIn[18], line 29\u001b[0m, in \u001b[0;36mValidator.checkMotion\u001b[0;34m(self, s1, s2)\u001b[0m\n\u001b[1;32m     26\u001b[0m x1 \u001b[38;5;241m=\u001b[39m state_to_py(s1[\u001b[38;5;241m0\u001b[39m]) \u001b[38;5;66;03m# s[0] is the space component, s[1] is the time component\u001b[39;00m\n\u001b[1;32m     27\u001b[0m x2 \u001b[38;5;241m=\u001b[39m state_to_py(s2[\u001b[38;5;241m0\u001b[39m])\n\u001b[0;32m---> 29\u001b[0m t1 \u001b[38;5;241m=\u001b[39m \u001b[38;5;28;43mself\u001b[39;49m\u001b[38;5;241;43m.\u001b[39;49m\u001b[43mgetTime\u001b[49m\u001b[43m(\u001b[49m\u001b[43ms1\u001b[49m\u001b[43m)\u001b[49m\n\u001b[1;32m     30\u001b[0m t2 \u001b[38;5;241m=\u001b[39m \u001b[38;5;28mself\u001b[39m\u001b[38;5;241m.\u001b[39mgetTime(s2)\n\u001b[1;32m     32\u001b[0m \u001b[38;5;28;01mreturn\u001b[39;00m t2\u001b[38;5;241m>\u001b[39m\u001b[38;5;241m=\u001b[39mt1 \u001b[38;5;129;01mand\u001b[39;00m \u001b[38;5;129;01mnot\u001b[39;00m has_line_collision(\u001b[38;5;28mself\u001b[39m\u001b[38;5;241m.\u001b[39menv,x1,x2,\u001b[38;5;28mself\u001b[39m\u001b[38;5;241m.\u001b[39mbloating_r)\n",
      "Cell \u001b[0;32mIn[18], line 22\u001b[0m, in \u001b[0;36mValidator.getTime\u001b[0;34m(self, s)\u001b[0m\n\u001b[1;32m     21\u001b[0m \u001b[38;5;28;01mdef\u001b[39;00m \u001b[38;5;21mgetTime\u001b[39m(\u001b[38;5;28mself\u001b[39m,s):\n\u001b[0;32m---> 22\u001b[0m     \u001b[38;5;28;01mreturn\u001b[39;00m \u001b[38;5;28;43mself\u001b[39;49m\u001b[38;5;241;43m.\u001b[39;49m\u001b[43msi\u001b[49m\u001b[38;5;241m.\u001b[39mgetStateSpace()\u001b[38;5;241m.\u001b[39mgetStateTime(s)\n",
      "\u001b[0;31mAttributeError\u001b[0m: 'Validator' object has no attribute 'si'"
     ]
    }
   ],
   "source": [
    "def py_to_state(s,space):\n",
    "    space_dim = len(s)\n",
    "    x = ob.CompoundState(space)\n",
    "    for i in range(space_dim):\n",
    "        x[i] = s[i]\n",
    "    return x\n",
    "\n",
    "def state_to_py(s,space_dim = 2):\n",
    "    return np.array([s[i] for i in range(space_dim)])\n",
    "\n",
    "def path_to_py(path,space_dim = 2):\n",
    "    # n_states = path.getStateCount()\n",
    "    out = [state_to_py(v,space_dim) for v in path]\n",
    "    return np.array(out).T\n",
    "\n",
    "class Validator(ob.MotionValidator):\n",
    "    def __init__(self,si,env,bloating_r):\n",
    "        super().__init__(si)\n",
    "        self.env = env\n",
    "        self.bloating_r = bloating_r\n",
    "        self.si = si\n",
    "    def getTime(self,s):\n",
    "        return self.si.getStateSpace().getStateTime(s)\n",
    "    \n",
    "    def checkMotion(self,s1,s2):\n",
    "        \n",
    "        x1 = state_to_py(s1[0]) # s[0] is the space component, s[1] is the time component\n",
    "        x2 = state_to_py(s2[0])\n",
    "\n",
    "        t1 = self.getTime(s1)\n",
    "        t2 = self.getTime(s2)\n",
    "\n",
    "        return t2>=t1 and not has_line_collision(self.env,x1,x2,self.bloating_r)\n",
    "\n",
    "# Set the object used to check which states in the space are valid\n",
    "validityChecker = Validator(si,env,bloating_r)\n",
    "si.setMotionValidator(validityChecker)\n",
    "\n",
    "si.setup()\n",
    "\n",
    "\n",
    "start = py_to_state(env.starts[0],spaceTime)\n",
    "\n",
    "goal = py_to_state(env.goals[0],spaceTime)\n",
    "\n",
    "\n",
    "# Create a problem instance\n",
    "pdef = ob.ProblemDefinition(si)\n",
    "\n",
    "# Set the start and goal states\n",
    "pdef.setStartAndGoalStates(start(), goal())\n",
    "\n",
    "feasibleSolFound = {'result':False}\n",
    "def intermediateSol(_,spath,best_cost): # We know the signature of the callback is like this because we looked into the C++ source code of RRT*\n",
    "    feasibleSolFound['result'] = True\n",
    "    return spath, best_cost.value()\n",
    "pdef.setIntermediateSolutionCallback(ob.ReportIntermediateSolutionFn(intermediateSol))\n",
    "\n",
    "optimizingPlanner = og.STRRTstar(si)\n",
    "\n",
    "# Set the problem instance for our planner to solve\n",
    "optimizingPlanner.setProblemDefinition(pdef)\n",
    "optimizingPlanner.setup()\n",
    "\n",
    "# term_condition = ob.exactSolnPlannerTerminationCondition(pdef)\n",
    "# attempt to solve the planning problem in the given runtime\n",
    "\n",
    "exactSolutionReached = lambda : feasibleSolFound['result']\n",
    "\n",
    "term_condition = ob.PlannerTerminationCondition(ob.PlannerTerminationConditionFn(exactSolutionReached))\n",
    "solved = optimizingPlanner.solve(term_condition)"
   ]
  },
  {
   "cell_type": "code",
   "execution_count": 6,
   "metadata": {},
   "outputs": [],
   "source": [
    "path = pdef.getSolutionPath().getStates()"
   ]
  },
  {
   "cell_type": "code",
   "execution_count": 10,
   "metadata": {},
   "outputs": [],
   "source": [
    "ts = []\n",
    "xs = []\n",
    "for p in path:\n",
    "    x = p[0]\n",
    "    xs.append([x[i] for i in range(space_dim)])\n",
    "    \n",
    "    ts.append(spaceTime.getStateTime(p))\n",
    "ts = np.array(ts)\n",
    "xs = np.array(xs).T"
   ]
  },
  {
   "cell_type": "code",
   "execution_count": 13,
   "metadata": {},
   "outputs": [
    {
     "data": {
      "image/png": "[encoded data removed]",
      "text/plain": [
       "<Figure size 640x480 with 1 Axes>"
      ]
     },
     "metadata": {},
     "output_type": "display_data"
    }
   ],
   "source": [
    "draw_env(env,paths = [xs])\n"
   ]
  },
  {
   "cell_type": "code",
   "execution_count": 16,
   "metadata": {},
   "outputs": [
    {
     "data": {
      "text/plain": [
       "array([ 0.     ,  5.02024, 11.21019, 14.8151 , 28.98172, 19.53863,\n",
       "       22.05136, 29.05507])"
      ]
     },
     "execution_count": 16,
     "metadata": {},
     "output_type": "execute_result"
    }
   ],
   "source": [
    "ts"
   ]
  },
  {
   "cell_type": "code",
   "execution_count": 15,
   "metadata": {},
   "outputs": [
    {
     "name": "stderr",
     "output_type": "stream",
     "text": [
      "/var/folders/4v/bq7m33xj6b9fm2jfm0ngdg3c0000gn/T/ipykernel_62343/1998047015.py:9: VisibleDeprecationWarning: Creating an ndarray from ragged nested sequences (which is a list-or-tuple of lists-or-tuples-or ndarrays with different lengths or shapes) is deprecated. If you meant to do this, you must specify 'dtype=object' when creating the ndarray.\n",
      "  plans = np.array(continuous_plans)\n"
     ]
    },
    {
     "ename": "ValueError",
     "evalue": "Number of samples, -37, must be non-negative.",
     "output_type": "error",
     "traceback": [
      "\u001b[0;31m---------------------------------------------------------------------------\u001b[0m",
      "\u001b[0;31mValueError\u001b[0m                                Traceback (most recent call last)",
      "Cell \u001b[0;32mIn[15], line 15\u001b[0m\n\u001b[1;32m     13\u001b[0m pos_to_ani \u001b[38;5;241m=\u001b[39m []\n\u001b[1;32m     14\u001b[0m \u001b[38;5;28;01mfor\u001b[39;00m cp \u001b[38;5;129;01min\u001b[39;00m plans:\n\u001b[0;32m---> 15\u001b[0m     _,xs \u001b[38;5;241m=\u001b[39m \u001b[43minterpolate_positions\u001b[49m\u001b[43m(\u001b[49m\u001b[38;5;241;43m*\u001b[39;49m\u001b[43mcp\u001b[49m\u001b[43m,\u001b[49m\u001b[43mdt\u001b[49m\u001b[43m)\u001b[49m\n\u001b[1;32m     16\u001b[0m     pos_to_ani\u001b[38;5;241m.\u001b[39mappend(xs)\n\u001b[1;32m     19\u001b[0m rcParams[\u001b[38;5;124m'\u001b[39m\u001b[38;5;124manimation.embed_limit\u001b[39m\u001b[38;5;124m'\u001b[39m] \u001b[38;5;241m=\u001b[39m \u001b[38;5;241m2\u001b[39m\u001b[38;5;241m*\u001b[39m\u001b[38;5;241m*\u001b[39m\u001b[38;5;241m128\u001b[39m\n",
      "File \u001b[0;32m~/Dropbox (Harvard University)/Tianpeng's research/Tianpeng & Lina/Multiagent Motion Planning/PA-Nav/notebooks_playground/../panav/util.py:60\u001b[0m, in \u001b[0;36minterpolate_positions\u001b[0;34m(t, x, dt)\u001b[0m\n\u001b[1;32m     58\u001b[0m \u001b[38;5;28;01mfor\u001b[39;00m i \u001b[38;5;129;01min\u001b[39;00m \u001b[38;5;28mrange\u001b[39m(\u001b[38;5;28mlen\u001b[39m(t)\u001b[38;5;241m-\u001b[39m\u001b[38;5;241m1\u001b[39m):\n\u001b[1;32m     59\u001b[0m     n \u001b[38;5;241m=\u001b[39m \u001b[38;5;28mint\u001b[39m((t[i\u001b[38;5;241m+\u001b[39m\u001b[38;5;241m1\u001b[39m]\u001b[38;5;241m-\u001b[39mt[i])\u001b[38;5;241m/\u001b[39mdt)\n\u001b[0;32m---> 60\u001b[0m     pos\u001b[38;5;241m.\u001b[39mappend(\u001b[43mnp\u001b[49m\u001b[38;5;241;43m.\u001b[39;49m\u001b[43mlinspace\u001b[49m\u001b[43m(\u001b[49m\u001b[43mx\u001b[49m\u001b[43m[\u001b[49m\u001b[43m:\u001b[49m\u001b[43m,\u001b[49m\u001b[43mi\u001b[49m\u001b[43m]\u001b[49m\u001b[43m,\u001b[49m\u001b[43mx\u001b[49m\u001b[43m[\u001b[49m\u001b[43m:\u001b[49m\u001b[43m,\u001b[49m\u001b[43mi\u001b[49m\u001b[38;5;241;43m+\u001b[39;49m\u001b[38;5;241;43m1\u001b[39;49m\u001b[43m]\u001b[49m\u001b[43m,\u001b[49m\u001b[43mn\u001b[49m\u001b[43m)\u001b[49m\u001b[38;5;241m.\u001b[39mT)\n\u001b[1;32m     61\u001b[0m     times\u001b[38;5;241m.\u001b[39mappend(np\u001b[38;5;241m.\u001b[39mlinspace(t[i],t[i\u001b[38;5;241m+\u001b[39m\u001b[38;5;241m1\u001b[39m],n))\n\u001b[1;32m     62\u001b[0m \u001b[38;5;66;03m# print(pos,x)\u001b[39;00m\n",
      "File \u001b[0;32m<__array_function__ internals>:180\u001b[0m, in \u001b[0;36mlinspace\u001b[0;34m(*args, **kwargs)\u001b[0m\n",
      "File \u001b[0;32m~/opt/miniconda3/envs/PA-NAV/lib/python3.11/site-packages/numpy/core/function_base.py:122\u001b[0m, in \u001b[0;36mlinspace\u001b[0;34m(start, stop, num, endpoint, retstep, dtype, axis)\u001b[0m\n\u001b[1;32m    120\u001b[0m num \u001b[38;5;241m=\u001b[39m operator\u001b[38;5;241m.\u001b[39mindex(num)\n\u001b[1;32m    121\u001b[0m \u001b[38;5;28;01mif\u001b[39;00m num \u001b[38;5;241m<\u001b[39m \u001b[38;5;241m0\u001b[39m:\n\u001b[0;32m--> 122\u001b[0m     \u001b[38;5;28;01mraise\u001b[39;00m \u001b[38;5;167;01mValueError\u001b[39;00m(\u001b[38;5;124m\"\u001b[39m\u001b[38;5;124mNumber of samples, \u001b[39m\u001b[38;5;132;01m%s\u001b[39;00m\u001b[38;5;124m, must be non-negative.\u001b[39m\u001b[38;5;124m\"\u001b[39m \u001b[38;5;241m%\u001b[39m num)\n\u001b[1;32m    123\u001b[0m div \u001b[38;5;241m=\u001b[39m (num \u001b[38;5;241m-\u001b[39m \u001b[38;5;241m1\u001b[39m) \u001b[38;5;28;01mif\u001b[39;00m endpoint \u001b[38;5;28;01melse\u001b[39;00m num\n\u001b[1;32m    125\u001b[0m \u001b[38;5;66;03m# Convert float/complex array scalars to float, gh-3504\u001b[39;00m\n\u001b[1;32m    126\u001b[0m \u001b[38;5;66;03m# and make sure one can use variables that have an __array_interface__, gh-6634\u001b[39;00m\n",
      "\u001b[0;31mValueError\u001b[0m: Number of samples, -37, must be non-negative."
     ]
    }
   ],
   "source": [
    "from matplotlib import pyplot as plt\n",
    "from panav.viz import animation,interpolate_positions\n",
    "\n",
    "from IPython.display import HTML, display\n",
    "from matplotlib import rcParams\n",
    "import numpy as np\n",
    "\n",
    "continuous_plans = [(ts,xs)]\n",
    "plans = np.array(continuous_plans)\n",
    "\n",
    "exec_tau = 1.0\n",
    "dt = exec_tau * 0.25\n",
    "pos_to_ani = []\n",
    "for cp in plans:\n",
    "    _,xs = interpolate_positions(*cp,dt)\n",
    "    pos_to_ani.append(xs)\n",
    "\n",
    "\n",
    "rcParams['animation.embed_limit'] = 2**128\n",
    "\n",
    "anim = animation(HG.env, pos_to_ani, bloating_r, dt = dt)\n",
    "display(HTML(anim.to_jshtml()))\n",
    "plt.close() "
   ]
  }
 ],
 "metadata": {
  "kernelspec": {
   "display_name": "Python 3",
   "language": "python",
   "name": "python3"
  },
  "language_info": {
   "codemirror_mode": {
    "name": "ipython",
    "version": 3
   },
   "file_extension": ".py",
   "mimetype": "text/x-python",
   "name": "python",
   "nbconvert_exporter": "python",
   "pygments_lexer": "ipython3",
   "version": "3.11.0"
  }
 },
 "nbformat": 4,
 "nbformat_minor": 2
}
