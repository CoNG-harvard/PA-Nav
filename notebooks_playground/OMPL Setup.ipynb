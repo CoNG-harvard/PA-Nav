{
 "cells": [
  {
   "cell_type": "code",
   "execution_count": 16,
   "metadata": {},
   "outputs": [],
   "source": [
    "import sys\n",
    "sys.path.append('../')\n",
    "from ompl import base as ob\n",
    "from ompl import geometric as og\n",
    "from ompl import util as ou\n",
    "\n",
    "from panav.environment.env import MultiTunnelEnv\n",
    "from panav.viz import draw_env"
   ]
  },
  {
   "cell_type": "code",
   "execution_count": 17,
   "metadata": {},
   "outputs": [
    {
     "data": {
      "image/png": "[encoded data removed]",
      "text/plain": [
       "<Figure size 640x480 with 1 Axes>"
      ]
     },
     "metadata": {},
     "output_type": "display_data"
    }
   ],
   "source": [
    "bloating_r = 0.5\n",
    "vmax = 1.0\n",
    "\n",
    "N = 8\n",
    "limits = [(-10,10),(-10,10)] \n",
    "n_tunnel = 1\n",
    "\n",
    "TIMEOUT = 100 # timeout\n",
    "\n",
    "env = MultiTunnelEnv(n_tunnel = n_tunnel, tunnel_width = bloating_r*3.9,limits=limits, N_agent = N)\n",
    "draw_env(env)"
   ]
  },
  {
   "cell_type": "code",
   "execution_count": 18,
   "metadata": {},
   "outputs": [],
   "source": [
    "space_dim = 2\n",
    "bounds = ob.RealVectorBounds(space_dim)\n",
    "\n",
    "for axis in range(space_dim):\n",
    "    bounds.setLow(axis,min(limits[axis]))\n",
    "    bounds.setHigh(axis,max(limits[axis]))\n",
    "    \n",
    "space = ob.RealVectorStateSpace(space_dim)\n",
    "space.setBounds(bounds)\n",
    "# spaceTime = ob.SpaceTimeStateSpace(space,vmax)"
   ]
  },
  {
   "cell_type": "code",
   "execution_count": 25,
   "metadata": {},
   "outputs": [],
   "source": [
    "si = ob.SpaceInformation(space)\n"
   ]
  },
  {
   "cell_type": "code",
   "execution_count": 99,
   "metadata": {},
   "outputs": [],
   "source": [
    "import numpy as np\n",
    "from panav.RRT.utils import has_line_collision\n",
    "def state_to_py(s,space_dim = 2):\n",
    "    return np.array([s[i] for i in range(space_dim)])\n",
    "\n",
    "def path_to_py(path,space_dim = 2):\n",
    "    vs = path.getStates()\n",
    "    n_states = path.getStateCount()\n",
    "    out = [state_to_py(vs[i],space_dim) for i in range(n_states)]\n",
    "    return np.array(out).T\n",
    "\n",
    "class Validator(ob.MotionValidator):\n",
    "    def checkMotion(self,s1,s2):\n",
    "        x1 = state_to_py(s1)\n",
    "        x2 = state_to_py(s2)\n",
    "        return not has_line_collision(env,x1,x2,bloating_r)\n",
    "\n",
    "# Set the object used to check which states in the space are valid\n",
    "validityChecker = Validator(si)\n",
    "si.setMotionValidator(validityChecker)\n",
    "\n",
    "si.setup()"
   ]
  },
  {
   "cell_type": "code",
   "execution_count": 100,
   "metadata": {},
   "outputs": [],
   "source": [
    "# planner = og.STRRTstar(si)\n",
    "planner = og.RRTstar(si)"
   ]
  },
  {
   "cell_type": "code",
   "execution_count": 101,
   "metadata": {},
   "outputs": [
    {
     "data": {
      "text/plain": [
       "2"
      ]
     },
     "execution_count": 101,
     "metadata": {},
     "output_type": "execute_result"
    }
   ],
   "source": [
    "space.getDimension()"
   ]
  },
  {
   "cell_type": "code",
   "execution_count": 104,
   "metadata": {},
   "outputs": [
    {
     "name": "stdout",
     "output_type": "stream",
     "text": [
      "Info:    RRTstar: Started planning with 1 states. Seeking a solution better than 0.00000.\n",
      "Info:    RRTstar: Initial k-nearest value of 25\n"
     ]
    },
    {
     "name": "stderr",
     "output_type": "stream",
     "text": [
      "Warning: RRTstar: Planner setup called multiple times\n",
      "         at line 101 in /Users/tianpengzhang/Desktop/ompl/src/ompl/base/src/Planner.cpp\n"
     ]
    },
    {
     "ename": "TypeError",
     "evalue": "Validator.checkMotion() takes 2 positional arguments but 3 were given",
     "output_type": "error",
     "traceback": [
      "\u001b[0;31m---------------------------------------------------------------------------\u001b[0m",
      "\u001b[0;31mTypeError\u001b[0m                                 Traceback (most recent call last)",
      "Cell \u001b[0;32mIn[104], line 30\u001b[0m\n\u001b[1;32m     27\u001b[0m optimizingPlanner\u001b[38;5;241m.\u001b[39msetup()\n\u001b[1;32m     29\u001b[0m \u001b[38;5;66;03m# attempt to solve the planning problem in the given runtime\u001b[39;00m\n\u001b[0;32m---> 30\u001b[0m solved \u001b[38;5;241m=\u001b[39m \u001b[43moptimizingPlanner\u001b[49m\u001b[38;5;241;43m.\u001b[39;49m\u001b[43msolve\u001b[49m\u001b[43m(\u001b[49m\u001b[38;5;241;43m5\u001b[39;49m\u001b[43m)\u001b[49m\n",
      "\u001b[0;31mTypeError\u001b[0m: Validator.checkMotion() takes 2 positional arguments but 3 were given"
     ]
    }
   ],
   "source": [
    "# Set our robot's starting state to be the bottom-left corner of\n",
    "# the environment, or (0,0).\n",
    "\n",
    "def py_to_state(s,space):\n",
    "    space_dim = len(s)\n",
    "    x = ob.State(space)\n",
    "    for i in range(space_dim):\n",
    "        x[i] = s[i]\n",
    "    return x\n",
    "\n",
    "start = py_to_state(env.starts[0],space)\n",
    "goal = py_to_state(env.goals[0],space)\n",
    "\n",
    "\n",
    "# Create a problem instance\n",
    "pdef = ob.ProblemDefinition(si)\n",
    "\n",
    "# Set the start and goal states\n",
    "pdef.setStartAndGoalStates(start, goal)\n",
    "\n",
    "pdef.setOptimizationObjective(ob.PathLengthOptimizationObjective(si))\n",
    "\n",
    "optimizingPlanner = planner\n",
    "\n",
    "# Set the problem instance for our planner to solve\n",
    "optimizingPlanner.setProblemDefinition(pdef)\n",
    "optimizingPlanner.setup()\n",
    "\n",
    "# attempt to solve the planning problem in the given runtime\n",
    "solved = optimizingPlanner.solve(5)"
   ]
  },
  {
   "cell_type": "code",
   "execution_count": 36,
   "metadata": {},
   "outputs": [],
   "source": []
  },
  {
   "cell_type": "code",
   "execution_count": 96,
   "metadata": {},
   "outputs": [],
   "source": [
    "path = pdef.getSolutionPath()\n",
    "path = path_to_py(path)"
   ]
  },
  {
   "cell_type": "code",
   "execution_count": 97,
   "metadata": {},
   "outputs": [
    {
     "data": {
      "image/png": "[encoded data removed]",
      "text/plain": [
       "<Figure size 640x480 with 1 Axes>"
      ]
     },
     "metadata": {},
     "output_type": "display_data"
    }
   ],
   "source": [
    "draw_env(env,paths = [path])\n"
   ]
  }
 ],
 "metadata": {
  "kernelspec": {
   "display_name": "Python 3",
   "language": "python",
   "name": "python3"
  },
  "language_info": {
   "codemirror_mode": {
    "name": "ipython",
    "version": 3
   },
   "file_extension": ".py",
   "mimetype": "text/x-python",
   "name": "python",
   "nbconvert_exporter": "python",
   "pygments_lexer": "ipython3",
   "version": "3.11.0"
  }
 },
 "nbformat": 4,
 "nbformat_minor": 2
}
