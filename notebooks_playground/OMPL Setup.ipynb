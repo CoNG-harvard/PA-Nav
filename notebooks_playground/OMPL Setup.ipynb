{
 "cells": [
  {
   "cell_type": "code",
   "execution_count": 16,
   "metadata": {},
   "outputs": [],
   "source": [
    "import sys\n",
    "sys.path.append('../')\n",
    "from ompl import base as ob\n",
    "from ompl import geometric as og\n",
    "from ompl import util as ou\n",
    "\n",
    "from panav.environment.env import MultiTunnelEnv\n",
    "from panav.viz import draw_env"
   ]
  },
  {
   "cell_type": "code",
   "execution_count": 17,
   "metadata": {},
   "outputs": [
    {
     "data": {
      "image/png": "[encoded data removed]",
      "text/plain": [
       "<Figure size 640x480 with 1 Axes>"
      ]
     },
     "metadata": {},
     "output_type": "display_data"
    }
   ],
   "source": [
    "bloating_r = 0.5\n",
    "vmax = 1.0\n",
    "\n",
    "N = 8\n",
    "limits = [(-10,10),(-10,10)] \n",
    "n_tunnel = 1\n",
    "\n",
    "TIMEOUT = 100 # timeout\n",
    "\n",
    "env = MultiTunnelEnv(n_tunnel = n_tunnel, tunnel_width = bloating_r*3.9,limits=limits, N_agent = N)\n",
    "draw_env(env)"
   ]
  },
  {
   "cell_type": "code",
   "execution_count": 18,
   "metadata": {},
   "outputs": [],
   "source": [
    "space_dim = 2\n",
    "bounds = ob.RealVectorBounds(space_dim)\n",
    "\n",
    "for axis in range(space_dim):\n",
    "    bounds.setLow(axis,min(limits[axis]))\n",
    "    bounds.setHigh(axis,max(limits[axis]))\n",
    "    \n",
    "space = ob.RealVectorStateSpace(space_dim)\n",
    "space.setBounds(bounds)\n",
    "spaceTime = ob.SpaceTimeStateSpace(space,vmax)"
   ]
  },
  {
   "cell_type": "code",
   "execution_count": 20,
   "metadata": {},
   "outputs": [],
   "source": [
    "si = ob.SpaceInformation(spaceTime)\n"
   ]
  },
  {
   "cell_type": "code",
   "execution_count": null,
   "metadata": {},
   "outputs": [],
   "source": [
    "import numpy as np\n",
    "class ValidityChecker(ob.StateValidityChecker):\n",
    "     # Returns whether the given state's position overlaps the\n",
    "     # circular obstacle\n",
    "     def isValid(self, state):\n",
    "         return self.clearance(state) > 0.0\n",
    "  \n",
    "     # Returns the distance from the given state's position to the\n",
    "     # boundary of the circular obstacle.\n",
    "     def clearance(self, state):\n",
    "         # Extract the robot's (x,y) position from its state\n",
    "         x = state[0]\n",
    "         y = state[1]\n",
    "  \n",
    "         # Distance formula between two points, offset by the circle's\n",
    "         # radius\n",
    "         return np.sqrt((x-0.5)*(x-0.5) + (y-0.5)*(y-0.5)) - 0.25\n",
    "  \n",
    "# Set the object used to check which states in the space are valid\n",
    "validityChecker = ValidityChecker(si)\n",
    "si.setStateValidityChecker(validityChecker)"
   ]
  },
  {
   "cell_type": "code",
   "execution_count": null,
   "metadata": {},
   "outputs": [],
   "source": [
    "planner = og.STRRTstar(si)"
   ]
  }
 ],
 "metadata": {
  "kernelspec": {
   "display_name": "Python 3",
   "language": "python",
   "name": "python3"
  },
  "language_info": {
   "codemirror_mode": {
    "name": "ipython",
    "version": 3
   },
   "file_extension": ".py",
   "mimetype": "text/x-python",
   "name": "python",
   "nbconvert_exporter": "python",
   "pygments_lexer": "ipython3",
   "version": "3.11.0"
  }
 },
 "nbformat": 4,
 "nbformat_minor": 2
}
