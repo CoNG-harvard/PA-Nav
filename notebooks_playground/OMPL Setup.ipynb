{
 "cells": [
  {
   "cell_type": "code",
   "execution_count": 16,
   "metadata": {},
   "outputs": [],
   "source": [
    "import sys\n",
    "sys.path.append('../')\n",
    "from ompl import base as ob\n",
    "from ompl import geometric as og\n",
    "from ompl import util as ou\n",
    "\n",
    "from panav.environment.env import MultiTunnelEnv\n",
    "from panav.viz import draw_env"
   ]
  },
  {
   "cell_type": "code",
   "execution_count": 153,
   "metadata": {},
   "outputs": [
    {
     "data": {
      "image/png": "[encoded data removed]",
      "text/plain": [
       "<Figure size 640x480 with 1 Axes>"
      ]
     },
     "metadata": {},
     "output_type": "display_data"
    }
   ],
   "source": [
    "bloating_r = 0.5\n",
    "vmax = 1.0\n",
    "\n",
    "N = 8\n",
    "limits = [(-10,10),(-10,10)] \n",
    "n_tunnel = 1\n",
    "\n",
    "TIMEOUT = 100 # timeout\n",
    "\n",
    "env = MultiTunnelEnv(n_tunnel = n_tunnel, tunnel_width = bloating_r*2.5,limits=limits, N_agent = N)\n",
    "draw_env(env)"
   ]
  },
  {
   "cell_type": "code",
   "execution_count": 154,
   "metadata": {},
   "outputs": [],
   "source": [
    "space_dim = 2\n",
    "bounds = ob.RealVectorBounds(space_dim)\n",
    "\n",
    "for axis in range(space_dim):\n",
    "    bounds.setLow(axis,min(limits[axis]))\n",
    "    bounds.setHigh(axis,max(limits[axis]))\n",
    "    \n",
    "space = ob.RealVectorStateSpace(space_dim)\n",
    "space.setBounds(bounds)\n",
    "# spaceTime = ob.SpaceTimeStateSpace(space,vmax)"
   ]
  },
  {
   "cell_type": "code",
   "execution_count": 155,
   "metadata": {},
   "outputs": [],
   "source": [
    "si = ob.SpaceInformation(space)\n"
   ]
  },
  {
   "cell_type": "code",
   "execution_count": 156,
   "metadata": {},
   "outputs": [
    {
     "name": "stderr",
     "output_type": "stream",
     "text": [
      "Warning: State validity checker not set! No collision checking is performed\n",
      "         at line 63 in /Users/tianpengzhang/Desktop/ompl/src/ompl/base/src/SpaceInformation.cpp\n"
     ]
    }
   ],
   "source": [
    "import numpy as np\n",
    "from panav.RRT.utils import has_line_collision\n",
    "def state_to_py(s,space_dim = 2):\n",
    "    return np.array([s[i] for i in range(space_dim)])\n",
    "\n",
    "def path_to_py(path,space_dim = 2):\n",
    "    vs = path.getStates()\n",
    "    n_states = path.getStateCount()\n",
    "    out = [state_to_py(vs[i],space_dim) for i in range(n_states)]\n",
    "    return np.array(out).T\n",
    "\n",
    "class Validator(ob.MotionValidator):\n",
    "    def __init__(self,si,env,bloating_r):\n",
    "        super().__init__(si)\n",
    "        self.env = env\n",
    "        self.bloating_r = bloating_r\n",
    "    def checkMotion(self,s1,s2):\n",
    "        x1 = state_to_py(s1)\n",
    "        x2 = state_to_py(s2)\n",
    "        return not has_line_collision(self.env,x1,x2,self.bloating_r)\n",
    "\n",
    "# Set the object used to check which states in the space are valid\n",
    "validityChecker = Validator(si,env,bloating_r)\n",
    "si.setMotionValidator(validityChecker)\n",
    "\n",
    "si.setup()"
   ]
  },
  {
   "cell_type": "code",
   "execution_count": 216,
   "metadata": {},
   "outputs": [
    {
     "name": "stdout",
     "output_type": "stream",
     "text": [
      "Debug:   RRTstar: Planner range detected to be 5.656854\n",
      "Info:    RRTstar: Started planning with 1 states. Seeking a solution better than 0.00000.\n",
      "Info:    RRTstar: Initial k-nearest value of 25\n"
     ]
    },
    {
     "name": "stderr",
     "output_type": "stream",
     "text": [
      "/Users/tianpengzhang/opt/miniconda3/envs/PA-NAV/lib/python3.11/site-packages/shapely/measurement.py:74: RuntimeWarning: invalid value encountered in distance\n",
      "  return lib.distance(a, b, **kwargs)\n"
     ]
    },
    {
     "name": "stdout",
     "output_type": "stream",
     "text": [
      "<ompl.base._base.vectorConstState object at 0x137b57d10>Info:    RRTstar: Found an initial solution with a cost of 25.53 in 2124 iterations (669 vertices in the graph)\n",
      " 25.526176215893685\n",
      "<ompl.base._base.vectorConstState object at 0x137b57d10> 25.495038266217307\n",
      "<ompl.base._base.vectorConstState object at 0x137b57d10> 25.134944099838695\n",
      "<ompl.base._base.vectorConstState object at 0x137b57d10> 25.11041058321369\n",
      "<ompl.base._base.vectorConstState object at 0x137b57d10> 24.95400068652359\n",
      "<ompl.base._base.vectorConstState object at 0x137b57d10> 24.900770731039078\n",
      "<ompl.base._base.vectorConstState object at 0x137b57d10> 24.838439189118308\n",
      "<ompl.base._base.vectorConstState object at 0x137b57d10> 24.81401637933239\n",
      "<ompl.base._base.vectorConstState object at 0x137b57d10> 24.801165531558933\n",
      "<ompl.base._base.vectorConstState object at 0x137b57d10> 24.50225900637007\n",
      "<ompl.base._base.vectorConstState object at 0x137b57d10> 24.50120345072828\n",
      "<ompl.base._base.vectorConstState object at 0x137b57d10> 24.500410917132015\n",
      "<ompl.base._base.vectorConstState object at 0x137b57d10> 24.38682233566098\n",
      "<ompl.base._base.vectorConstState object at 0x137b57d10> 24.376341278557717\n",
      "<ompl.base._base.vectorConstState object at 0x137b57d10> 24.34625325165351\n",
      "<ompl.base._base.vectorConstState object at 0x137b57d10> 24.346235619982764\n",
      "<ompl.base._base.vectorConstState object at 0x137b57d10> 24.34552756015233\n",
      "<ompl.base._base.vectorConstState object at 0x137b57d10> 24.345512268204725\n",
      "<ompl.base._base.vectorConstState object at 0x137b57d10> 24.341125377714768\n",
      "<ompl.base._base.vectorConstState object at 0x137b57d10> 24.336435655558635\n",
      "<ompl.base._base.vectorConstState object at 0x137b57d10> 24.33202610094922\n",
      "<ompl.base._base.vectorConstState object at 0x137b57d10> 24.32307964699634\n",
      "<ompl.base._base.vectorConstState object at 0x137b57d10> 24.321070951645215\n",
      "<ompl.base._base.vectorConstState object at 0x137b57d10> 24.318710181057046\n",
      "<ompl.base._base.vectorConstState object at 0x137b57d10> 24.3184431589599\n",
      "<ompl.base._base.vectorConstState object at 0x137b57d10> 24.318120798498782\n",
      "<ompl.base._base.vectorConstState object at 0x137b57d10> 24.317216264516496\n",
      "<ompl.base._base.vectorConstState object at 0x137b57d10> 24.30770334072149\n",
      "<ompl.base._base.vectorConstState object at 0x137b57d10> 24.30728270566945\n",
      "<ompl.base._base.vectorConstState object at 0x137b57d10> 24.280310292501945\n",
      "<ompl.base._base.vectorConstState object at 0x137b57d10> 24.278445045631567\n",
      "<ompl.base._base.vectorConstState object at 0x137b57d10> 24.27602998875793\n",
      "<ompl.base._base.vectorConstState object at 0x137b57d10> 24.273397733599317\n",
      "<ompl.base._base.vectorConstState object at 0x137b57d10> 24.27195175842094\n",
      "<ompl.base._base.vectorConstState object at 0x137b57d10> 24.271877112478307\n",
      "<ompl.base._base.vectorConstState object at 0x137b57d10> 24.271452750350925\n",
      "<ompl.base._base.vectorConstState object at 0x137b57d10> 24.27120402885861\n",
      "<ompl.base._base.vectorConstState object at 0x137b57d10> 24.21332751151557\n",
      "<ompl.base._base.vectorConstState object at 0x137b57d10> 24.210365691380158\n",
      "<ompl.base._base.vectorConstState object at 0x137b57d10> 24.2068190866805\n",
      "<ompl.base._base.vectorConstState object at 0x137b57d10> 24.205920630902632\n",
      "<ompl.base._base.vectorConstState object at 0x137b57d10> 24.138695218502225\n",
      "<ompl.base._base.vectorConstState object at 0x137b57d10> 24.13841551030099\n"
     ]
    },
    {
     "ename": "KeyboardInterrupt",
     "evalue": "",
     "output_type": "error",
     "traceback": [
      "\u001b[0;31m---------------------------------------------------------------------------\u001b[0m",
      "\u001b[0;31mKeyboardInterrupt\u001b[0m                         Traceback (most recent call last)",
      "Cell \u001b[0;32mIn[216], line 49\u001b[0m\n\u001b[1;32m     46\u001b[0m     \u001b[38;5;28;01mreturn\u001b[39;00m pdef\u001b[38;5;241m.\u001b[39mhasSolution()\n\u001b[1;32m     48\u001b[0m term_condition \u001b[38;5;241m=\u001b[39m ob\u001b[38;5;241m.\u001b[39mPlannerTerminationCondition(ob\u001b[38;5;241m.\u001b[39mPlannerTerminationConditionFn(exactSolutionReached))\n\u001b[0;32m---> 49\u001b[0m solved \u001b[38;5;241m=\u001b[39m \u001b[43moptimizingPlanner\u001b[49m\u001b[38;5;241;43m.\u001b[39;49m\u001b[43msolve\u001b[49m\u001b[43m(\u001b[49m\u001b[43mterm_condition\u001b[49m\u001b[43m)\u001b[49m\n",
      "Cell \u001b[0;32mIn[156], line 17\u001b[0m, in \u001b[0;36mValidator.checkMotion\u001b[0;34m(self, s1, s2)\u001b[0m\n\u001b[1;32m     15\u001b[0m     \u001b[38;5;28mself\u001b[39m\u001b[38;5;241m.\u001b[39menv \u001b[38;5;241m=\u001b[39m env\n\u001b[1;32m     16\u001b[0m     \u001b[38;5;28mself\u001b[39m\u001b[38;5;241m.\u001b[39mbloating_r \u001b[38;5;241m=\u001b[39m bloating_r\n\u001b[0;32m---> 17\u001b[0m \u001b[38;5;28;01mdef\u001b[39;00m \u001b[38;5;21mcheckMotion\u001b[39m(\u001b[38;5;28mself\u001b[39m,s1,s2):\n\u001b[1;32m     18\u001b[0m     x1 \u001b[38;5;241m=\u001b[39m state_to_py(s1)\n\u001b[1;32m     19\u001b[0m     x2 \u001b[38;5;241m=\u001b[39m state_to_py(s2)\n",
      "\u001b[0;31mKeyboardInterrupt\u001b[0m: "
     ]
    }
   ],
   "source": [
    "# Set our robot's starting state to be the bottom-left corner of\n",
    "# the environment, or (0,0).\n",
    "\n",
    "def py_to_state(s,space):\n",
    "    space_dim = len(s)\n",
    "    x = ob.State(space)\n",
    "    for i in range(space_dim):\n",
    "        x[i] = s[i]\n",
    "    return x\n",
    "\n",
    "# planner = og.STRRTstar(si)\n",
    "planner = og.RRTstar(si)\n",
    "\n",
    "start = py_to_state(env.starts[0],space)\n",
    "goal = py_to_state(env.goals[0],space)\n",
    "\n",
    "\n",
    "# Create a problem instance\n",
    "pdef = ob.ProblemDefinition(si)\n",
    "\n",
    "# Set the start and goal states\n",
    "pdef.setStartAndGoalStates(start, goal, bloating_r)\n",
    "\n",
    "pdef.setOptimizationObjective(ob.PathLengthOptimizationObjective(si))\n",
    "\n",
    "def intermediateSol(p,spath,best_cost):\n",
    "    print(spath,best_cost.value())\n",
    "    return spath, best_cost.value()\n",
    "pdef.setIntermediateSolutionCallback(ob.ReportIntermediateSolutionFn(intermediateSol))\n",
    "\n",
    "optimizingPlanner = planner\n",
    "\n",
    "# Set the problem instance for our planner to solve\n",
    "optimizingPlanner.setProblemDefinition(pdef)\n",
    "optimizingPlanner.setup()\n",
    "\n",
    "# term_condition = ob.exactSolnPlannerTerminationCondition(pdef)\n",
    "# attempt to solve the planning problem in the given runtime\n",
    "\n",
    "def exactSolutionReached()->bool:\n",
    "    path = pdef.getSolutionPath()\n",
    "    if path is not None:\n",
    "        path = path_to_py(path)\n",
    "        dist2goal = np.linalg.norm(path[:,-1]-env.goals[0])\n",
    "        print(dist2goal)\n",
    "    return pdef.hasSolution()\n",
    "\n",
    "term_condition = ob.PlannerTerminationCondition(ob.PlannerTerminationConditionFn(exactSolutionReached))\n",
    "solved = optimizingPlanner.solve(term_condition)"
   ]
  },
  {
   "cell_type": "code",
   "execution_count": 213,
   "metadata": {},
   "outputs": [],
   "source": []
  },
  {
   "cell_type": "code",
   "execution_count": 211,
   "metadata": {},
   "outputs": [
    {
     "ename": "ArgumentError",
     "evalue": "Python argument types in\n    ReportIntermediateSolutionFn_t.__call__(ReportIntermediateSolutionFn_t)\ndid not match C++ signature:\n    __call__(std::__1::function<void (ompl::base::Planner const*, std::__1::vector<ompl::base::State const*, std::__1::allocator<ompl::base::State const*> > const&, ompl::base::Cost)> {lvalue}, ompl::base::Planner const*, std::__1::vector<ompl::base::State const*, std::__1::allocator<ompl::base::State const*> >, ompl::base::Cost)",
     "output_type": "error",
     "traceback": [
      "\u001b[0;31m---------------------------------------------------------------------------\u001b[0m",
      "\u001b[0;31mArgumentError\u001b[0m                             Traceback (most recent call last)",
      "Cell \u001b[0;32mIn[211], line 1\u001b[0m\n\u001b[0;32m----> 1\u001b[0m \u001b[43mf\u001b[49m\u001b[43m(\u001b[49m\u001b[43m)\u001b[49m\n",
      "\u001b[0;31mArgumentError\u001b[0m: Python argument types in\n    ReportIntermediateSolutionFn_t.__call__(ReportIntermediateSolutionFn_t)\ndid not match C++ signature:\n    __call__(std::__1::function<void (ompl::base::Planner const*, std::__1::vector<ompl::base::State const*, std::__1::allocator<ompl::base::State const*> > const&, ompl::base::Cost)> {lvalue}, ompl::base::Planner const*, std::__1::vector<ompl::base::State const*, std::__1::allocator<ompl::base::State const*> >, ompl::base::Cost)"
     ]
    }
   ],
   "source": [
    "f()"
   ]
  },
  {
   "cell_type": "code",
   "execution_count": 208,
   "metadata": {},
   "outputs": [],
   "source": [
    "g = pdef.getGoal()"
   ]
  },
  {
   "cell_type": "code",
   "execution_count": null,
   "metadata": {},
   "outputs": [],
   "source": [
    "g.isSatisfied()"
   ]
  },
  {
   "cell_type": "code",
   "execution_count": 206,
   "metadata": {},
   "outputs": [
    {
     "data": {
      "text/plain": [
       "False"
      ]
     },
     "execution_count": 206,
     "metadata": {},
     "output_type": "execute_result"
    }
   ],
   "source": [
    "d = ob.PlannerData(si)\n",
    "optimizingPlanner.getPlannerData(d)\n",
    "d."
   ]
  },
  {
   "cell_type": "code",
   "execution_count": 190,
   "metadata": {},
   "outputs": [],
   "source": [
    "s = d.PlannerProgressProperties_entry()"
   ]
  },
  {
   "cell_type": "code",
   "execution_count": 201,
   "metadata": {},
   "outputs": [
    {
     "data": {
      "text/plain": [
       "['best cost REAL', 'iterations INTEGER']"
      ]
     },
     "execution_count": 201,
     "metadata": {},
     "output_type": "execute_result"
    }
   ],
   "source": [
    "d.keys()"
   ]
  },
  {
   "cell_type": "code",
   "execution_count": 186,
   "metadata": {},
   "outputs": [
    {
     "name": "stdout",
     "output_type": "stream",
     "text": [
      "0\n"
     ]
    }
   ],
   "source": [
    "print(d['iterations INTEGER']())"
   ]
  },
  {
   "cell_type": "code",
   "execution_count": 173,
   "metadata": {},
   "outputs": [
    {
     "data": {
      "text/plain": [
       "True"
      ]
     },
     "execution_count": 173,
     "metadata": {},
     "output_type": "execute_result"
    }
   ],
   "source": [
    "optimizingPlanner.getAdmissibleCostToCome()"
   ]
  },
  {
   "cell_type": "code",
   "execution_count": 162,
   "metadata": {},
   "outputs": [
    {
     "data": {
      "text/plain": [
       "False"
      ]
     },
     "execution_count": 162,
     "metadata": {},
     "output_type": "execute_result"
    }
   ],
   "source": [
    "pdef.hasApproximateSolution()"
   ]
  },
  {
   "cell_type": "code",
   "execution_count": 164,
   "metadata": {},
   "outputs": [
    {
     "data": {
      "text/plain": [
       "True"
      ]
     },
     "execution_count": 164,
     "metadata": {},
     "output_type": "execute_result"
    }
   ],
   "source": [
    "pdef.hasExactSolution()"
   ]
  },
  {
   "cell_type": "code",
   "execution_count": 165,
   "metadata": {},
   "outputs": [],
   "source": [
    "path = pdef.getSolutionPath()\n",
    "path = path_to_py(path)"
   ]
  },
  {
   "cell_type": "code",
   "execution_count": 166,
   "metadata": {},
   "outputs": [
    {
     "data": {
      "image/png": "[encoded data removed]",
      "text/plain": [
       "<Figure size 640x480 with 1 Axes>"
      ]
     },
     "metadata": {},
     "output_type": "display_data"
    }
   ],
   "source": [
    "draw_env(env,paths = [path])\n"
   ]
  }
 ],
 "metadata": {
  "kernelspec": {
   "display_name": "Python 3",
   "language": "python",
   "name": "python3"
  },
  "language_info": {
   "codemirror_mode": {
    "name": "ipython",
    "version": 3
   },
   "file_extension": ".py",
   "mimetype": "text/x-python",
   "name": "python",
   "nbconvert_exporter": "python",
   "pygments_lexer": "ipython3",
   "version": "3.11.0"
  }
 },
 "nbformat": 4,
 "nbformat_minor": 2
}
