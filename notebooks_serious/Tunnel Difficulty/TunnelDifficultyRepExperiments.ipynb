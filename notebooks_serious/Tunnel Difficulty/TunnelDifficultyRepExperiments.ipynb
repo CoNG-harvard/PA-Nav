{
 "cells": [
  {
   "cell_type": "markdown",
   "id": "93964b26-d9f5-45ac-9818-50cc2951a2d5",
   "metadata": {},
   "source": [
    "# In this notebook we quantitatively evalutation the computational difficulty of continuous MAMP brought by tunnel environment "
   ]
  },
  {
   "cell_type": "code",
   "execution_count": 1,
   "id": "4f6a1483-2bff-48b4-a976-d9891665966d",
   "metadata": {},
   "outputs": [],
   "source": [
    "import sys\n",
    "sys.path.append('../../')\n",
    "from panav.env import NavigationEnv, Box2DRegion, box_2d_center\n",
    "from panav.hybrid import HybridGraph\n",
    "from panav.viz import draw_env,draw_hybrid\n",
    "\n",
    "import networkx as nx\n",
    "import numpy as np\n",
    "from matplotlib import pyplot as plt\n",
    "from time import time\n",
    "import pickle as pkl\n",
    "import random\n",
    "from tqdm import trange\n",
    "\n",
    "\n",
    "\n",
    "%load_ext autoreload\n",
    "%autoreload 2"
   ]
  },
  {
   "cell_type": "code",
   "execution_count": 2,
   "id": "20624100",
   "metadata": {},
   "outputs": [],
   "source": [
    "def flowtime(plan):\n",
    "    return np.sum([t[-1] for t,x in plan])"
   ]
  },
  {
   "cell_type": "markdown",
   "id": "b67dc3ff-8985-433d-b403-939046333390",
   "metadata": {},
   "source": [
    "## Single-tunnel environment"
   ]
  },
  {
   "cell_type": "code",
   "execution_count": 3,
   "id": "a60829bc-e82f-49f0-bc7d-4762a71d9228",
   "metadata": {},
   "outputs": [],
   "source": [
    "\n",
    "\n",
    "# 2D Tunnel navigation environment\n",
    "def create_env(N,tunnel_width,tunnel_length):\n",
    "    start_box_side = np.array([1,1])\n",
    "    goal_box_side = np.array([1,1])\n",
    "\n",
    "    top, bottom = 6,-6\n",
    "    start_x_offset = 7\n",
    "    goal_x_offset = 9\n",
    "\n",
    "    if N % 2==0:\n",
    "        lN = rN = N//2\n",
    "    else:\n",
    "        lN = N//2\n",
    "        rN = lN+1\n",
    "\n",
    "    start_locs = np.vstack([\n",
    "    np.vstack([np.ones(lN)*start_x_offset,np.linspace(top,bottom, lN)]).T,\n",
    "    np.vstack([np.ones(rN)*(-start_x_offset),np.linspace(top,bottom, rN)]).T])\n",
    "\n",
    "    goal_locs = np.vstack([\n",
    "    np.vstack([np.ones(lN)*(-goal_x_offset),np.linspace(bottom,top, lN)]).T,\n",
    "    np.vstack([np.ones(rN)*goal_x_offset,np.linspace(bottom,top, rN)]).T])\n",
    "\n",
    "\n",
    "    starts = [box_2d_center(s,start_box_side) for s in start_locs]\n",
    "    goals = [box_2d_center(g,goal_box_side) for g in goal_locs]\n",
    "    limits = [(-10.0,10.0),(-10.0,10.0)]\n",
    "\n",
    "    O1 = Box2DRegion((-tunnel_length/2,tunnel_length/2),(tunnel_width/2,10))\n",
    "    O2 = Box2DRegion((-tunnel_length/2,tunnel_length/2),(-10,-tunnel_width/2))\n",
    "    env = NavigationEnv(limits,[O1,O2],starts,goals)\n",
    "\n",
    "\n",
    "    # Construct the hybrid graph representation of the environment\n",
    "    bloating_r = 0.5 \n",
    "    HG =  HybridGraph(env,bloating_r,K = 4)\n",
    "    return env, HG"
   ]
  },
  {
   "cell_type": "code",
   "execution_count": 4,
   "id": "0da67c35",
   "metadata": {},
   "outputs": [],
   "source": [
    "from panav.SAMP import Tube_Planning\n",
    "from panav.util import unique_tx\n",
    "\n",
    "\n",
    "def planning(env,HG):\n",
    "    bloating_r = HG.agent_radius\n",
    "    agents = set(np.arange(len(env.starts)))\n",
    "\n",
    "    plan = []\n",
    "    times = []\n",
    "    t0 = time()\n",
    "    success = True\n",
    "    fail_time = None\n",
    "    for agent in agents:\n",
    "        print(agent)\n",
    "        \n",
    "        start = env.starts[agent]\n",
    "        goal = env.goals[agent]\n",
    "\n",
    "        agent_success = False\n",
    "        \n",
    "        for K in [7]:\n",
    "            results = Tube_Planning(env,start,goal,HG.vmax,bloating_r,\\\n",
    "                                        plan,\\\n",
    "                                        HG.d,K,ignore_finished_agents=False)\n",
    "            if results is not None:\n",
    "                t,xs = results\n",
    "                times.append(time()-t0)\n",
    "                # print(times)\n",
    "                t,xs = unique_tx(t,xs)\n",
    "                plan.append((t,xs))\n",
    "                agent_success = True\n",
    "                break\n",
    "            \n",
    "\n",
    "        if not agent_success:\n",
    "            print(\"Solution failed.\")\n",
    "            success = False\n",
    "            times.append(time()-t0)\n",
    "            break\n",
    "    return plan,times\n"
   ]
  },
  {
   "cell_type": "code",
   "execution_count": 5,
   "id": "f504ff55",
   "metadata": {},
   "outputs": [],
   "source": [
    "N = 8\n",
    "rep = 20"
   ]
  },
  {
   "cell_type": "code",
   "execution_count": 6,
   "id": "c94daae7",
   "metadata": {},
   "outputs": [
    {
     "name": "stdout",
     "output_type": "stream",
     "text": [
      "N: 8\n",
      "Set parameter Username\n",
      "Academic license - for non-commercial use only - expires 2025-02-15\n"
     ]
    },
    {
     "name": "stderr",
     "output_type": "stream",
     "text": [
      "/Users/tianpengzhang/opt/miniconda3/envs/PA-Nav/lib/python3.11/site-packages/shapely/predicates.py:798: RuntimeWarning: invalid value encountered in intersects\n",
      "  return lib.intersects(a, b, **kwargs)\n",
      "  0%|          | 0/20 [00:00<?, ?it/s]"
     ]
    },
    {
     "name": "stdout",
     "output_type": "stream",
     "text": [
      "0\n",
      "1\n",
      "2\n",
      "3\n",
      "4\n",
      "5\n",
      "6\n",
      "7\n"
     ]
    },
    {
     "name": "stderr",
     "output_type": "stream",
     "text": [
      "  5%|▌         | 1/20 [04:38<1:28:06, 278.24s/it]"
     ]
    },
    {
     "name": "stdout",
     "output_type": "stream",
     "text": [
      "0\n",
      "1\n",
      "2\n",
      "3\n",
      "4\n",
      "5\n",
      "6\n",
      "7\n"
     ]
    },
    {
     "name": "stderr",
     "output_type": "stream",
     "text": [
      " 10%|█         | 2/20 [06:09<50:27, 168.22s/it]  "
     ]
    },
    {
     "name": "stdout",
     "output_type": "stream",
     "text": [
      "0\n",
      "1\n",
      "2\n",
      "3\n",
      "4\n",
      "5\n",
      "6\n",
      "7\n"
     ]
    },
    {
     "name": "stderr",
     "output_type": "stream",
     "text": [
      " 15%|█▌        | 3/20 [06:57<32:08, 113.41s/it]"
     ]
    },
    {
     "name": "stdout",
     "output_type": "stream",
     "text": [
      "0\n",
      "1\n",
      "2\n",
      "3\n",
      "4\n",
      "5\n",
      "6\n",
      "7\n"
     ]
    },
    {
     "name": "stderr",
     "output_type": "stream",
     "text": [
      " 20%|██        | 4/20 [07:42<22:59, 86.22s/it] "
     ]
    },
    {
     "name": "stdout",
     "output_type": "stream",
     "text": [
      "0\n",
      "1\n",
      "2\n",
      "3\n",
      "4\n",
      "5\n",
      "6\n",
      "7\n"
     ]
    },
    {
     "name": "stderr",
     "output_type": "stream",
     "text": [
      " 25%|██▌       | 5/20 [08:13<16:34, 66.29s/it]"
     ]
    },
    {
     "name": "stdout",
     "output_type": "stream",
     "text": [
      "0\n",
      "1\n",
      "2\n",
      "3\n",
      "4\n",
      "5\n",
      "6\n",
      "7\n"
     ]
    },
    {
     "name": "stderr",
     "output_type": "stream",
     "text": [
      " 30%|███       | 6/20 [09:04<14:18, 61.29s/it]"
     ]
    },
    {
     "name": "stdout",
     "output_type": "stream",
     "text": [
      "0\n",
      "1\n",
      "2\n",
      "3\n",
      "4\n",
      "5\n",
      "6\n",
      "7\n"
     ]
    },
    {
     "name": "stderr",
     "output_type": "stream",
     "text": [
      " 35%|███▌      | 7/20 [11:43<20:11, 93.22s/it]"
     ]
    },
    {
     "name": "stdout",
     "output_type": "stream",
     "text": [
      "0\n",
      "1\n",
      "2\n",
      "3\n",
      "4\n",
      "5\n",
      "6\n",
      "7\n"
     ]
    },
    {
     "name": "stderr",
     "output_type": "stream",
     "text": [
      " 40%|████      | 8/20 [13:25<19:10, 95.90s/it]"
     ]
    },
    {
     "name": "stdout",
     "output_type": "stream",
     "text": [
      "0\n",
      "1\n",
      "2\n",
      "3\n",
      "4\n",
      "5\n",
      "6\n",
      "7\n"
     ]
    },
    {
     "name": "stderr",
     "output_type": "stream",
     "text": [
      " 45%|████▌     | 9/20 [14:35<16:04, 87.71s/it]"
     ]
    },
    {
     "name": "stdout",
     "output_type": "stream",
     "text": [
      "0\n",
      "1\n",
      "2\n",
      "3\n",
      "4\n",
      "5\n",
      "6\n",
      "7\n"
     ]
    },
    {
     "name": "stderr",
     "output_type": "stream",
     "text": [
      " 50%|█████     | 10/20 [15:39<13:24, 80.40s/it]"
     ]
    },
    {
     "name": "stdout",
     "output_type": "stream",
     "text": [
      "0\n",
      "1\n",
      "2\n",
      "3\n",
      "4\n",
      "5\n",
      "6\n",
      "7\n"
     ]
    },
    {
     "name": "stderr",
     "output_type": "stream",
     "text": [
      " 55%|█████▌    | 11/20 [18:09<15:17, 101.95s/it]"
     ]
    },
    {
     "name": "stdout",
     "output_type": "stream",
     "text": [
      "0\n",
      "1\n",
      "2\n",
      "3\n",
      "4\n",
      "5\n",
      "6\n",
      "7\n"
     ]
    },
    {
     "name": "stderr",
     "output_type": "stream",
     "text": [
      " 60%|██████    | 12/20 [19:28<12:38, 94.81s/it] "
     ]
    },
    {
     "name": "stdout",
     "output_type": "stream",
     "text": [
      "0\n",
      "1\n",
      "2\n",
      "3\n",
      "4\n",
      "5\n",
      "6\n",
      "7\n"
     ]
    },
    {
     "name": "stderr",
     "output_type": "stream",
     "text": [
      " 65%|██████▌   | 13/20 [21:33<12:07, 103.89s/it]"
     ]
    },
    {
     "name": "stdout",
     "output_type": "stream",
     "text": [
      "0\n",
      "1\n",
      "2\n",
      "3\n",
      "4\n",
      "5\n",
      "6\n",
      "7\n"
     ]
    },
    {
     "name": "stderr",
     "output_type": "stream",
     "text": [
      " 70%|███████   | 14/20 [24:56<13:23, 133.86s/it]"
     ]
    },
    {
     "name": "stdout",
     "output_type": "stream",
     "text": [
      "0\n",
      "1\n",
      "2\n",
      "3\n",
      "4\n",
      "5\n",
      "6\n",
      "7\n"
     ]
    },
    {
     "name": "stderr",
     "output_type": "stream",
     "text": [
      " 75%|███████▌  | 15/20 [28:30<13:10, 158.16s/it]"
     ]
    },
    {
     "name": "stdout",
     "output_type": "stream",
     "text": [
      "0\n",
      "1\n",
      "2\n",
      "3\n",
      "4\n",
      "5\n",
      "6\n",
      "7\n"
     ]
    },
    {
     "name": "stderr",
     "output_type": "stream",
     "text": [
      " 80%|████████  | 16/20 [29:42<08:48, 132.18s/it]"
     ]
    },
    {
     "name": "stdout",
     "output_type": "stream",
     "text": [
      "0\n",
      "1\n",
      "2\n",
      "3\n",
      "4\n",
      "5\n",
      "6\n",
      "7\n"
     ]
    },
    {
     "name": "stderr",
     "output_type": "stream",
     "text": [
      " 85%|████████▌ | 17/20 [31:41<06:24, 128.22s/it]"
     ]
    },
    {
     "name": "stdout",
     "output_type": "stream",
     "text": [
      "0\n",
      "1\n",
      "2\n",
      "3\n",
      "4\n",
      "5\n",
      "6\n",
      "7\n"
     ]
    },
    {
     "name": "stderr",
     "output_type": "stream",
     "text": [
      " 90%|█████████ | 18/20 [33:14<03:55, 117.70s/it]"
     ]
    },
    {
     "name": "stdout",
     "output_type": "stream",
     "text": [
      "0\n",
      "1\n",
      "2\n",
      "3\n",
      "4\n",
      "5\n",
      "6\n",
      "7\n"
     ]
    },
    {
     "name": "stderr",
     "output_type": "stream",
     "text": [
      " 95%|█████████▌| 19/20 [34:17<01:41, 101.29s/it]"
     ]
    },
    {
     "name": "stdout",
     "output_type": "stream",
     "text": [
      "0\n",
      "1\n",
      "2\n",
      "3\n",
      "4\n",
      "5\n",
      "6\n",
      "7\n"
     ]
    },
    {
     "name": "stderr",
     "output_type": "stream",
     "text": [
      "100%|██████████| 20/20 [35:40<00:00, 107.03s/it]\n"
     ]
    }
   ],
   "source": [
    "# np.random.seed(12312)\n",
    "# random.seed(10)\n",
    "\n",
    "narrow_ts = []\n",
    "tunnel_length = 5\n",
    "tunnel_width = 1\n",
    "print(\"N:\",N)\n",
    "env, HG = create_env(N,tunnel_width,tunnel_length)\n",
    "# ax = plt.gca()\n",
    "# draw_env(env,show_agent_ID=True)\n",
    "# plt.show()\n",
    "\n",
    "for _ in trange(rep):  \n",
    "    p,ts = planning(env,HG)\n",
    "    narrow_ts.append(ts)\n",
    "    with open('./data/narrow_tunnel.pkl','wb') as fp:\n",
    "        pkl.dump(narrow_ts,fp)\n"
   ]
  },
  {
   "cell_type": "code",
   "execution_count": 7,
   "id": "d8c7bdf5",
   "metadata": {},
   "outputs": [
    {
     "name": "stderr",
     "output_type": "stream",
     "text": [
      "  0%|          | 0/20 [00:00<?, ?it/s]"
     ]
    },
    {
     "name": "stdout",
     "output_type": "stream",
     "text": [
      "0\n",
      "1\n",
      "2\n",
      "3\n",
      "4\n",
      "5\n",
      "6\n",
      "7\n"
     ]
    },
    {
     "name": "stderr",
     "output_type": "stream",
     "text": [
      "  5%|▌         | 1/20 [01:51<35:23, 111.75s/it]"
     ]
    },
    {
     "name": "stdout",
     "output_type": "stream",
     "text": [
      "0\n",
      "1\n",
      "2\n",
      "3\n",
      "4\n",
      "5\n",
      "6\n",
      "7\n"
     ]
    },
    {
     "name": "stderr",
     "output_type": "stream",
     "text": [
      " 10%|█         | 2/20 [02:44<23:03, 76.85s/it] "
     ]
    },
    {
     "name": "stdout",
     "output_type": "stream",
     "text": [
      "0\n",
      "1\n",
      "2\n",
      "3\n",
      "4\n",
      "5\n",
      "6\n",
      "7\n"
     ]
    },
    {
     "name": "stderr",
     "output_type": "stream",
     "text": [
      " 15%|█▌        | 3/20 [05:17<31:36, 111.55s/it]"
     ]
    },
    {
     "name": "stdout",
     "output_type": "stream",
     "text": [
      "0\n",
      "1\n",
      "2\n",
      "3\n",
      "4\n",
      "5\n",
      "6\n",
      "7\n"
     ]
    },
    {
     "name": "stderr",
     "output_type": "stream",
     "text": [
      " 20%|██        | 4/20 [17:35<1:35:46, 359.15s/it]"
     ]
    },
    {
     "name": "stdout",
     "output_type": "stream",
     "text": [
      "0\n",
      "1\n",
      "2\n",
      "3\n",
      "4\n",
      "5\n",
      "6\n",
      "7\n"
     ]
    },
    {
     "name": "stderr",
     "output_type": "stream",
     "text": [
      " 25%|██▌       | 5/20 [18:18<1:01:14, 244.94s/it]"
     ]
    },
    {
     "name": "stdout",
     "output_type": "stream",
     "text": [
      "0\n",
      "1\n",
      "2\n",
      "3\n",
      "4\n",
      "5\n",
      "6\n",
      "7\n"
     ]
    },
    {
     "name": "stderr",
     "output_type": "stream",
     "text": [
      " 30%|███       | 6/20 [22:57<59:51, 256.55s/it]  "
     ]
    },
    {
     "name": "stdout",
     "output_type": "stream",
     "text": [
      "0\n",
      "1\n",
      "2\n",
      "3\n",
      "4\n",
      "5\n",
      "6\n",
      "7\n"
     ]
    },
    {
     "name": "stderr",
     "output_type": "stream",
     "text": [
      " 35%|███▌      | 7/20 [27:19<55:59, 258.40s/it]"
     ]
    },
    {
     "name": "stdout",
     "output_type": "stream",
     "text": [
      "0\n",
      "1\n",
      "2\n",
      "3\n",
      "4\n",
      "5\n",
      "6\n",
      "7\n"
     ]
    },
    {
     "name": "stderr",
     "output_type": "stream",
     "text": [
      " 40%|████      | 8/20 [28:17<38:54, 194.52s/it]"
     ]
    },
    {
     "name": "stdout",
     "output_type": "stream",
     "text": [
      "0\n",
      "1\n",
      "2\n",
      "3\n",
      "4\n",
      "5\n",
      "6\n",
      "7\n"
     ]
    },
    {
     "name": "stderr",
     "output_type": "stream",
     "text": [
      " 45%|████▌     | 9/20 [30:40<32:44, 178.55s/it]"
     ]
    },
    {
     "name": "stdout",
     "output_type": "stream",
     "text": [
      "0\n",
      "1\n",
      "2\n",
      "3\n",
      "4\n",
      "5\n",
      "6\n",
      "7\n"
     ]
    },
    {
     "name": "stderr",
     "output_type": "stream",
     "text": [
      " 50%|█████     | 10/20 [31:19<22:33, 135.30s/it]"
     ]
    },
    {
     "name": "stdout",
     "output_type": "stream",
     "text": [
      "0\n",
      "1\n",
      "2\n",
      "3\n",
      "4\n",
      "5\n",
      "6\n",
      "7\n"
     ]
    },
    {
     "name": "stderr",
     "output_type": "stream",
     "text": [
      " 55%|█████▌    | 11/20 [34:57<24:05, 160.65s/it]"
     ]
    },
    {
     "name": "stdout",
     "output_type": "stream",
     "text": [
      "0\n",
      "1\n",
      "2\n",
      "3\n",
      "4\n",
      "5\n",
      "6\n",
      "7\n"
     ]
    },
    {
     "name": "stderr",
     "output_type": "stream",
     "text": [
      " 60%|██████    | 12/20 [36:02<17:33, 131.66s/it]"
     ]
    },
    {
     "name": "stdout",
     "output_type": "stream",
     "text": [
      "0\n",
      "1\n",
      "2\n",
      "3\n",
      "4\n",
      "5\n",
      "6\n",
      "7\n"
     ]
    },
    {
     "name": "stderr",
     "output_type": "stream",
     "text": [
      " 65%|██████▌   | 13/20 [37:24<13:37, 116.74s/it]"
     ]
    },
    {
     "name": "stdout",
     "output_type": "stream",
     "text": [
      "0\n",
      "1\n",
      "2\n",
      "3\n",
      "4\n",
      "5\n",
      "6\n",
      "7\n"
     ]
    },
    {
     "name": "stderr",
     "output_type": "stream",
     "text": [
      " 70%|███████   | 14/20 [41:16<15:07, 151.31s/it]"
     ]
    },
    {
     "name": "stdout",
     "output_type": "stream",
     "text": [
      "0\n",
      "1\n",
      "2\n",
      "3\n",
      "4\n",
      "5\n",
      "6\n",
      "7\n"
     ]
    },
    {
     "name": "stderr",
     "output_type": "stream",
     "text": [
      " 75%|███████▌  | 15/20 [41:58<09:51, 118.37s/it]"
     ]
    },
    {
     "name": "stdout",
     "output_type": "stream",
     "text": [
      "0\n",
      "1\n",
      "2\n",
      "3\n",
      "4\n",
      "5\n",
      "6\n",
      "7\n"
     ]
    },
    {
     "name": "stderr",
     "output_type": "stream",
     "text": [
      " 80%|████████  | 16/20 [43:19<07:08, 107.11s/it]"
     ]
    },
    {
     "name": "stdout",
     "output_type": "stream",
     "text": [
      "0\n",
      "1\n",
      "2\n",
      "3\n",
      "4\n",
      "5\n",
      "6\n",
      "7\n"
     ]
    },
    {
     "name": "stderr",
     "output_type": "stream",
     "text": [
      " 85%|████████▌ | 17/20 [45:19<05:32, 110.99s/it]"
     ]
    },
    {
     "name": "stdout",
     "output_type": "stream",
     "text": [
      "0\n",
      "1\n",
      "2\n",
      "3\n",
      "4\n",
      "5\n",
      "6\n",
      "7\n"
     ]
    },
    {
     "name": "stderr",
     "output_type": "stream",
     "text": [
      " 90%|█████████ | 18/20 [46:40<03:23, 101.99s/it]"
     ]
    },
    {
     "name": "stdout",
     "output_type": "stream",
     "text": [
      "0\n",
      "1\n",
      "2\n",
      "3\n",
      "4\n",
      "5\n",
      "6\n",
      "7\n"
     ]
    },
    {
     "name": "stderr",
     "output_type": "stream",
     "text": [
      " 95%|█████████▌| 19/20 [50:25<02:19, 139.11s/it]"
     ]
    },
    {
     "name": "stdout",
     "output_type": "stream",
     "text": [
      "0\n",
      "1\n",
      "2\n",
      "3\n",
      "4\n",
      "5\n",
      "6\n",
      "7\n"
     ]
    },
    {
     "name": "stderr",
     "output_type": "stream",
     "text": [
      "100%|██████████| 20/20 [52:24<00:00, 157.25s/it]\n"
     ]
    }
   ],
   "source": [
    "# np.random.seed(12312)\n",
    "# random.seed(10)\n",
    "\n",
    "wide_ts = []\n",
    "tunnel_width = 18\n",
    "env, HG = create_env(N,tunnel_width,tunnel_length)\n",
    "   \n",
    "for _ in trange(rep):  \n",
    "    p,ts = planning(env,HG)\n",
    "    wide_ts.append(ts)\n",
    "    with open('./data/wide_tunnel.pkl','wb') as fp:\n",
    "        pkl.dump(wide_ts,fp)"
   ]
  },
  {
   "cell_type": "code",
   "execution_count": 8,
   "id": "f678d202",
   "metadata": {},
   "outputs": [
    {
     "data": {
      "image/png": "[encoded data removed]",
      "text/plain": [
       "<Figure size 640x480 with 1 Axes>"
      ]
     },
     "metadata": {},
     "output_type": "display_data"
    }
   ],
   "source": [
    "tunnel_length = 6\n",
    "tunnel_width = 1 \n",
    "env, HG = create_env(N,tunnel_width,tunnel_length)\n",
    "   \n",
    "ax = plt.gca()\n",
    "draw_env(env,show_agent_ID=True)\n",
    "plt.show() "
   ]
  },
  {
   "cell_type": "markdown",
   "id": "622e0f07",
   "metadata": {},
   "source": [
    "# Plotting"
   ]
  },
  {
   "cell_type": "code",
   "execution_count": 9,
   "id": "2bb21999",
   "metadata": {},
   "outputs": [],
   "source": [
    "with open('./data/narrow_tunnel.pkl','rb') as fp:\n",
    "    narrow_ts = pkl.load(fp)\n",
    "with open('./data/wide_tunnel.pkl','rb') as fp:\n",
    "    wide_ts = pkl.load(fp)"
   ]
  },
  {
   "cell_type": "code",
   "execution_count": 11,
   "id": "778b08b8",
   "metadata": {},
   "outputs": [
    {
     "data": {
      "text/plain": [
       "<matplotlib.legend.Legend at 0x146fa35d0>"
      ]
     },
     "execution_count": 11,
     "metadata": {},
     "output_type": "execute_result"
    },
    {
     "data": {
      "image/png": "[encoded data removed]",
      "text/plain": [
       "<Figure size 640x480 with 1 Axes>"
      ]
     },
     "metadata": {},
     "output_type": "display_data"
    }
   ],
   "source": [
    "Ns = np.arange(N)+1\n",
    "plt.plot(Ns,np.mean(narrow_ts,axis=0),label='Narrow Tunnel')\n",
    "plt.plot(Ns,np.mean(wide_ts,axis=0),label='Wide Tunnel')\n",
    "plt.legend()"
   ]
  },
  {
   "cell_type": "markdown",
   "id": "f9b49cf8",
   "metadata": {},
   "source": [
    "# Conclusion"
   ]
  },
  {
   "cell_type": "markdown",
   "id": "49a3c258",
   "metadata": {},
   "source": [
    "Inconclusive. Not enough numerical evidence shows narrow tunnel will pull down computation. \n",
    "\n",
    "Changing direction for next step: the narrative for narrow tunnel research will change. The variable that matters most for compute in MILP is the number of segments $N$. The reason hybrid-SIPP does well is because it uses small $N$ for multiple sub-segment planning, whereas full MILP planning uses a very large $N$ that contributes super-linearly in total compute. "
   ]
  }
 ],
 "metadata": {
  "kernelspec": {
   "display_name": "Python 3 (ipykernel)",
   "language": "python",
   "name": "python3"
  },
  "language_info": {
   "codemirror_mode": {
    "name": "ipython",
    "version": 3
   },
   "file_extension": ".py",
   "mimetype": "text/x-python",
   "name": "python",
   "nbconvert_exporter": "python",
   "pygments_lexer": "ipython3",
   "version": "3.11.0"
  }
 },
 "nbformat": 4,
 "nbformat_minor": 5
}
