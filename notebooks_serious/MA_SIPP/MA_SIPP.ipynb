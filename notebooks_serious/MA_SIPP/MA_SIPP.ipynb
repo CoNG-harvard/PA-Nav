{
 "cells": [
  {
   "cell_type": "markdown",
   "id": "bb863552-d8f1-4aac-b626-a4db1f3e669c",
   "metadata": {},
   "source": [
    "# Multi-agent SIPP\n",
    "\n",
    "PBS_SIPP can fail to find a solution if the graph is not well-posed. To improve success rate, try to have a larger (edge length)/(bloating radius) ratio, and also avoid having sharp corners between two edges."
   ]
  },
  {
   "cell_type": "code",
   "execution_count": 1,
   "id": "8b612f38-a3d9-44ae-bbbe-d022f44202ab",
   "metadata": {},
   "outputs": [],
   "source": [
    "import networkx as nx\n",
    "from matplotlib import pyplot as plt\n",
    "import numpy as np\n",
    "\n",
    "import sys\n",
    "sys.path.append('../')\n",
    "\n",
    "sys.path.append('../../')\n",
    "\n",
    "from panav.util import interpolate_positions\n",
    "\n",
    "from panav.PBS.PBS_SIPP import PBS_SIPP\n",
    "\n",
    "from matplotlib.animation import FuncAnimation\n",
    "\n",
    "from IPython.display import HTML, display\n",
    "\n",
    "\n",
    "from panav.viz import animate_MAPF_R\n",
    "\n",
    "%load_ext autoreload\n",
    "%autoreload 2"
   ]
  },
  {
   "cell_type": "markdown",
   "id": "056e0591-0408-4113-a370-7cef57707f2d",
   "metadata": {
    "tags": []
   },
   "source": [
    "# N agent environment"
   ]
  },
  {
   "cell_type": "code",
   "execution_count": 8,
   "id": "0e779967-825c-48c9-8cbd-ef6d05e0acf4",
   "metadata": {},
   "outputs": [],
   "source": [
    "from itertools import product\n",
    "\n",
    "edge_length = 2\n",
    "N = 9\n",
    "\n",
    "node_locs = np.array(np.meshgrid(np.arange(0,N),np.arange(0,N))) * edge_length\n",
    "\n",
    "S = len(node_locs)\n",
    "\n",
    "G = nx.DiGraph()\n",
    "\n",
    "for row,col in product(range(N),range(N)):\n",
    "    nbs = [(row-1,col),(row+1,col),\n",
    "           (row,col-1),(row,col+1)]\n",
    "    \n",
    "    for x,y in nbs:\n",
    "        if 0<=x<N and 0<=y<N:\n",
    "            G.add_edges_from([((row,col),(x,y)),((x,y),(row,col))])\n",
    "\n",
    "nx.set_node_attributes(G,(0,0),'loc')\n",
    "\n",
    "for row,col in product(range(N),range(N)):\n",
    "    G.nodes[(row,col)]['loc'] = node_locs[:,row,col]\n",
    "\n",
    "G = nx.convert_node_labels_to_integers(G)\n",
    "\n",
    "node_locs = {s:G.nodes[s]['loc'] for s in G}\n",
    "\n",
    "starts = np.arange(0,N*2,2)\n",
    "goals = np.arange(N*(N-1),N**2)\n",
    "\n",
    "for i,j in product(goals,goals):\n",
    "    if (i,j) in G.edges:\n",
    "        G.remove_edge(i,j)\n",
    "\n",
    "for i,j in product(starts,starts):\n",
    "    if (i,j) in G.edges:\n",
    "        G.remove_edge(i,j)\n",
    "\n",
    "\n",
    "G.remove_nodes_from([i for i in range(N*2,N*(N-2)) if i%N!=N//2])\n",
    "# G.remove_nodes_from([1,5])\n",
    "# We manually add the bi-directional edges here, because\n",
    "# using nx.to_directed(a undirected graph) causes issue when accessing edge values."
   ]
  },
  {
   "cell_type": "code",
   "execution_count": 9,
   "id": "18049b07-7471-4d78-bb74-1fea85744df2",
   "metadata": {},
   "outputs": [
    {
     "data": {
      "image/png": "[encoded data removed]",
      "text/plain": [
       "<Figure size 640x480 with 1 Axes>"
      ]
     },
     "metadata": {},
     "output_type": "display_data"
    }
   ],
   "source": [
    "nx.draw_networkx(G,node_locs,with_labels=False)"
   ]
  },
  {
   "cell_type": "code",
   "execution_count": 10,
   "id": "8a15b791-f1e9-473a-9ce5-23f274c4210b",
   "metadata": {},
   "outputs": [],
   "source": [
    "\n",
    "v_max = 1.0\n",
    "bloating_r = 0.2\n",
    "\n",
    "nx.set_edge_attributes(G,\n",
    "                       {e:np.linalg.norm(node_locs[e[0]]-node_locs[e[1]])/v_max\\\n",
    "                          for e in G.edges},\n",
    "                       'weight')"
   ]
  },
  {
   "cell_type": "code",
   "execution_count": 11,
   "id": "87ffd030-a626-4fca-9896-5560dfc34ff0",
   "metadata": {
    "tags": []
   },
   "outputs": [
    {
     "name": "stdout",
     "output_type": "stream",
     "text": [
      "PBS fail to find a feasible solution. Please make sure the agents' goals are not blocking other agents paths.\n"
     ]
    },
    {
     "ename": "TypeError",
     "evalue": "cannot unpack non-iterable NoneType object",
     "output_type": "error",
     "traceback": [
      "\u001b[0;31m---------------------------------------------------------------------------\u001b[0m",
      "\u001b[0;31mTypeError\u001b[0m                                 Traceback (most recent call last)",
      "Cell \u001b[0;32mIn[11], line 1\u001b[0m\n\u001b[0;32m----> 1\u001b[0m joint_plan,ft \u001b[38;5;241m=\u001b[39m PBS_SIPP(G,node_locs,starts,goals,v_max,bloating_r)\n",
      "\u001b[0;31mTypeError\u001b[0m: cannot unpack non-iterable NoneType object"
     ]
    }
   ],
   "source": [
    "joint_plan,ft = PBS_SIPP(G,node_locs,starts,goals,v_max,bloating_r)"
   ]
  },
  {
   "cell_type": "code",
   "execution_count": 7,
   "id": "e552da15-66a6-4d52-82e2-dfb0534759ce",
   "metadata": {
    "tags": []
   },
   "outputs": [
    {
     "ename": "NameError",
     "evalue": "name 'joint_plan' is not defined",
     "output_type": "error",
     "traceback": [
      "\u001b[0;31m---------------------------------------------------------------------------\u001b[0m",
      "\u001b[0;31mNameError\u001b[0m                                 Traceback (most recent call last)",
      "Cell \u001b[0;32mIn[7], line 3\u001b[0m\n\u001b[1;32m      1\u001b[0m dt \u001b[38;5;241m=\u001b[39m \u001b[38;5;241m0.05\u001b[39m\n\u001b[0;32m----> 3\u001b[0m anim \u001b[38;5;241m=\u001b[39m animate_MAPF_R(G,node_locs,[],\u001b[43mjoint_plan\u001b[49m,dt,bloating_r,starts,goals)\n\u001b[1;32m      4\u001b[0m \u001b[38;5;28;01mimport\u001b[39;00m \u001b[38;5;21;01mmatplotlib\u001b[39;00m\n\u001b[1;32m      5\u001b[0m matplotlib\u001b[38;5;241m.\u001b[39mrcParams[\u001b[38;5;124m'\u001b[39m\u001b[38;5;124manimation.embed_limit\u001b[39m\u001b[38;5;124m'\u001b[39m] \u001b[38;5;241m=\u001b[39m \u001b[38;5;241m2\u001b[39m\u001b[38;5;241m*\u001b[39m\u001b[38;5;241m*\u001b[39m\u001b[38;5;241m128\u001b[39m\n",
      "\u001b[0;31mNameError\u001b[0m: name 'joint_plan' is not defined"
     ]
    }
   ],
   "source": [
    "dt = 0.05\n",
    "\n",
    "anim = animate_MAPF_R(G,node_locs,[],joint_plan,dt,bloating_r,starts,goals)\n",
    "import matplotlib\n",
    "matplotlib.rcParams['animation.embed_limit'] = 2**128\n",
    "\n",
    "display(HTML(anim.to_jshtml()))\n",
    "plt.close() "
   ]
  },
  {
   "cell_type": "markdown",
   "id": "ecd9dfd0-0dc3-4492-882d-3f4e805dc672",
   "metadata": {
    "tags": []
   },
   "source": [
    "# N agent opposing environment"
   ]
  },
  {
   "cell_type": "code",
   "execution_count": 12,
   "id": "c9bb4254-f119-4ed3-98bf-4fba29baec9f",
   "metadata": {},
   "outputs": [],
   "source": [
    "from itertools import product\n",
    "N = 5\n",
    "\n",
    "node_locs = np.array(np.meshgrid(np.arange(0,N),np.arange(0,N)))*2\n",
    "\n",
    "S = len(node_locs)\n",
    "\n",
    "G = nx.DiGraph()\n",
    "\n",
    "for row,col in product(range(N),range(N)):\n",
    "    nbs = [(row-1,col),(row+1,col),\n",
    "           (row,col-1),(row,col+1)]\n",
    "    \n",
    "    for x,y in nbs:\n",
    "        if 0<=x<N and 0<=y<N:\n",
    "            G.add_edges_from([((row,col),(x,y)),((x,y),(row,col))])\n",
    "\n",
    "nx.set_node_attributes(G,(0,0),'loc')\n",
    "\n",
    "for row,col in product(range(N),range(N)):\n",
    "    G.nodes[(row,col)]['loc'] = node_locs[:,row,col]\n",
    "\n",
    "G = nx.convert_node_labels_to_integers(G)\n",
    "\n",
    "node_locs = {s:G.nodes[s]['loc'] for s in G}\n",
    "\n",
    "starts = np.arange(0,N*2,2)\n",
    "goals = np.arange(N*(N-1),N**2)\n",
    "\n",
    "for i,j in product(goals,goals):\n",
    "    if (i,j) in G.edges:\n",
    "        G.remove_edge(i,j)\n",
    "\n",
    "for i,j in product(starts,starts):\n",
    "    if (i,j) in G.edges:\n",
    "        G.remove_edge(i,j)\n",
    "\n",
    "\n",
    "G.remove_nodes_from([i for i in range(N*2,N*(N-2)) if i%N!=N//2])\n",
    "\n",
    "# G.remove_node(12)\n",
    "# G.add_edges_from([(3,17),(17,3)])\n",
    "# G.remove_nodes_from([1,5])\n",
    "# We manually add the bi-directional edges here, because\n",
    "# using nx.to_directed(a undirected graph) causes issue when accessing edge values."
   ]
  },
  {
   "cell_type": "code",
   "execution_count": 13,
   "id": "0e9fc1ae-db00-44eb-9ff9-fa25b1f1e867",
   "metadata": {},
   "outputs": [
    {
     "data": {
      "image/png": "[encoded data removed]",
      "text/plain": [
       "<Figure size 640x480 with 1 Axes>"
      ]
     },
     "metadata": {},
     "output_type": "display_data"
    }
   ],
   "source": [
    "nx.draw_networkx(G,node_locs,with_labels=True)"
   ]
  },
  {
   "cell_type": "code",
   "execution_count": 15,
   "id": "977731a4-bfb5-443c-a8fd-ee8304958296",
   "metadata": {},
   "outputs": [],
   "source": [
    "true_starts = np.hstack([starts,goals])\n",
    "true_goals = np.hstack([goals[::-1],starts[::-1]])"
   ]
  },
  {
   "cell_type": "code",
   "execution_count": 16,
   "id": "0f824e93-ff81-48dd-95d7-52e042403e6b",
   "metadata": {},
   "outputs": [],
   "source": [
    "\n",
    "v_max = 1.0\n",
    "bloating_r = 0.2\n",
    "\n",
    "nx.set_edge_attributes(G,\n",
    "                       {e:np.linalg.norm(node_locs[e[0]]-node_locs[e[1]])/v_max\\\n",
    "                          for e in G.edges},\n",
    "                       'weight')"
   ]
  },
  {
   "cell_type": "code",
   "execution_count": 17,
   "id": "24860f40-e5eb-4004-ba9b-b184be92be8f",
   "metadata": {
    "tags": []
   },
   "outputs": [
    {
     "name": "stdout",
     "output_type": "stream",
     "text": [
      "PBS fail to find a feasible solution. Please make sure the agents' goals are not blocking other agents paths.\n"
     ]
    },
    {
     "ename": "TypeError",
     "evalue": "cannot unpack non-iterable NoneType object",
     "output_type": "error",
     "traceback": [
      "\u001b[0;31m---------------------------------------------------------------------------\u001b[0m",
      "\u001b[0;31mTypeError\u001b[0m                                 Traceback (most recent call last)",
      "Cell \u001b[0;32mIn[17], line 1\u001b[0m\n\u001b[0;32m----> 1\u001b[0m joint_plan,ft \u001b[38;5;241m=\u001b[39m PBS_SIPP(G,node_locs,true_starts,true_goals,v_max,bloating_r)\n",
      "\u001b[0;31mTypeError\u001b[0m: cannot unpack non-iterable NoneType object"
     ]
    }
   ],
   "source": [
    "joint_plan,ft = PBS_SIPP(G,node_locs,true_starts,true_goals,v_max,bloating_r)"
   ]
  },
  {
   "cell_type": "code",
   "execution_count": 18,
   "id": "245f6bb4-0649-4723-94ce-3ec0004d8b89",
   "metadata": {
    "tags": []
   },
   "outputs": [
    {
     "ename": "NameError",
     "evalue": "name 'joint_plan' is not defined",
     "output_type": "error",
     "traceback": [
      "\u001b[0;31m---------------------------------------------------------------------------\u001b[0m",
      "\u001b[0;31mNameError\u001b[0m                                 Traceback (most recent call last)",
      "Cell \u001b[0;32mIn[18], line 3\u001b[0m\n\u001b[1;32m      1\u001b[0m dt \u001b[38;5;241m=\u001b[39m \u001b[38;5;241m0.05\u001b[39m\n\u001b[0;32m----> 3\u001b[0m anim \u001b[38;5;241m=\u001b[39m animate_MAPF_R(G,node_locs,[],\u001b[43mjoint_plan\u001b[49m,dt,bloating_r,true_starts,true_goals)\n\u001b[1;32m      4\u001b[0m \u001b[38;5;28;01mimport\u001b[39;00m \u001b[38;5;21;01mmatplotlib\u001b[39;00m\n\u001b[1;32m      5\u001b[0m matplotlib\u001b[38;5;241m.\u001b[39mrcParams[\u001b[38;5;124m'\u001b[39m\u001b[38;5;124manimation.embed_limit\u001b[39m\u001b[38;5;124m'\u001b[39m] \u001b[38;5;241m=\u001b[39m \u001b[38;5;241m2\u001b[39m\u001b[38;5;241m*\u001b[39m\u001b[38;5;241m*\u001b[39m\u001b[38;5;241m128\u001b[39m\n",
      "\u001b[0;31mNameError\u001b[0m: name 'joint_plan' is not defined"
     ]
    }
   ],
   "source": [
    "dt = 0.05\n",
    "\n",
    "anim = animate_MAPF_R(G,node_locs,[],joint_plan,dt,bloating_r,true_starts,true_goals)\n",
    "import matplotlib\n",
    "matplotlib.rcParams['animation.embed_limit'] = 2**128\n",
    "\n",
    "display(HTML(anim.to_jshtml()))\n",
    "plt.close() "
   ]
  }
 ],
 "metadata": {
  "kernelspec": {
   "display_name": "Python 3 (ipykernel)",
   "language": "python",
   "name": "python3"
  },
  "language_info": {
   "codemirror_mode": {
    "name": "ipython",
    "version": 3
   },
   "file_extension": ".py",
   "mimetype": "text/x-python",
   "name": "python",
   "nbconvert_exporter": "python",
   "pygments_lexer": "ipython3",
   "version": "3.11.0"
  }
 },
 "nbformat": 4,
 "nbformat_minor": 5
}
