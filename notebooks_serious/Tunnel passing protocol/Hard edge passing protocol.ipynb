{
 "cells": [
  {
   "cell_type": "markdown",
   "id": "bb863552-d8f1-4aac-b626-a4db1f3e669c",
   "metadata": {},
   "source": [
    "# Local hard edge passing protocol"
   ]
  },
  {
   "cell_type": "code",
   "execution_count": 1,
   "id": "8b612f38-a3d9-44ae-bbbe-d022f44202ab",
   "metadata": {},
   "outputs": [],
   "source": [
    "import networkx as nx\n",
    "from matplotlib import pyplot as plt\n",
    "import numpy as np\n",
    "\n",
    "import sys\n",
    "sys.path.append('../')\n",
    "\n",
    "sys.path.append('../../')\n",
    "\n",
    "from panav.util import interpolate_positions\n",
    "\n",
    "from panav.SIPP import SIPP\n",
    "\n",
    "from matplotlib.animation import FuncAnimation\n",
    "\n",
    "from IPython.display import HTML, display\n",
    "\n",
    "from itertools import product\n",
    "from panav.viz import animate_MAPF_R,draw_soft_hard\n",
    "\n",
    "%load_ext autoreload\n",
    "%autoreload 2"
   ]
  },
  {
   "cell_type": "markdown",
   "id": "ecd9dfd0-0dc3-4492-882d-3f4e805dc672",
   "metadata": {
    "tags": []
   },
   "source": [
    "# N agent opposing environment with soft edges"
   ]
  },
  {
   "cell_type": "code",
   "execution_count": 67,
   "id": "c9bb4254-f119-4ed3-98bf-4fba29baec9f",
   "metadata": {},
   "outputs": [],
   "source": [
    "N = 5\n",
    "\n",
    "node_locs = np.array(np.meshgrid(np.arange(0,N),np.arange(0,N)))*2\n",
    "\n",
    "S = len(node_locs)\n",
    "\n",
    "G = nx.DiGraph()\n",
    "\n",
    "for row,col in product(range(N),range(N)):\n",
    "    nbs = [(row-1,col),(row+1,col),\n",
    "           (row,col-1),(row,col+1)]\n",
    "    \n",
    "    for x,y in nbs:\n",
    "        if 0<=x<N and 0<=y<N:\n",
    "            G.add_edges_from([((row,col),(x,y)),((x,y),(row,col))])\n",
    "\n",
    "nx.set_node_attributes(G,(0,0),'loc')\n",
    "\n",
    "for row,col in product(range(N),range(N)):\n",
    "    G.nodes[(row,col)]['loc'] = node_locs[:,row,col]\n",
    "\n",
    "G = nx.convert_node_labels_to_integers(G)\n",
    "\n",
    "node_locs = {s:G.nodes[s]['loc'] for s in G}\n",
    "\n",
    "starts = np.arange(0,N*2,2)\n",
    "goals = np.arange(N*(N-1),N**2)\n",
    "\n",
    "\n",
    "for i,j in product(goals,goals):\n",
    "    if (i,j) in G.edges:\n",
    "        G.remove_edge(i,j)\n",
    "\n",
    "for i,j in product(starts,starts):\n",
    "    if (i,j) in G.edges:\n",
    "        G.remove_edge(i,j)\n",
    "\n",
    "\n",
    "\n",
    "G.remove_nodes_from([i for i in range(N*2,N*(N-2)) if i%N!=N//2])\n",
    "\n",
    "for i,j in product(goals,goals):\n",
    "    if (i,j) in G.edges:\n",
    "        G.remove_edge(i,j)\n",
    "\n",
    "for i,j in product(starts,starts):\n",
    "    if (i,j) in G.edges:\n",
    "        G.remove_edge(i,j)\n",
    "\n",
    "G.remove_nodes_from([12])\n",
    "hard_edges = [(17,5),(5,17)]\n",
    "\n",
    "G.add_edges_from(hard_edges)\n",
    "\n",
    "env = HybridGraphEnv(G,node_locs,hard_edges)"
   ]
  },
  {
   "cell_type": "code",
   "execution_count": 68,
   "id": "090a96fe-74ef-47d5-9f05-96db08af7d38",
   "metadata": {},
   "outputs": [
    {
     "name": "stdout",
     "output_type": "stream",
     "text": [
      "Green dashed edges: soft\n",
      "Black solid edges: hard\n"
     ]
    },
    {
     "data": {
      "image/png": "[encoded data removed]",
      "text/plain": [
       "<Figure size 640x480 with 1 Axes>"
      ]
     },
     "metadata": {},
     "output_type": "display_data"
    }
   ],
   "source": [
    "draw_soft_hard(env.G,node_locs,with_labels=True)\n",
    "print('Green dashed edges: soft')\n",
    "print('Black solid edges: hard')"
   ]
  },
  {
   "cell_type": "code",
   "execution_count": 69,
   "id": "754a9ead-36df-4133-bdff-0d7fb8a95de5",
   "metadata": {},
   "outputs": [],
   "source": [
    "true_starts = np.hstack([starts,goals])\n",
    "true_goals = np.hstack([goals[::-1],starts[::-1]])"
   ]
  },
  {
   "cell_type": "code",
   "execution_count": 70,
   "id": "0f824e93-ff81-48dd-95d7-52e042403e6b",
   "metadata": {},
   "outputs": [],
   "source": [
    "\n",
    "v_max = 1.0\n",
    "bloating_r = 0.2\n",
    "\n",
    "nx.set_edge_attributes(G,\n",
    "                       {e:np.linalg.norm(node_locs[e[0]]-node_locs[e[1]])/v_max\\\n",
    "                          for e in G.edges},\n",
    "                       'weight')"
   ]
  },
  {
   "cell_type": "code",
   "execution_count": 71,
   "id": "7318df19-1b65-4cdd-a4ea-de82564f12cc",
   "metadata": {},
   "outputs": [],
   "source": [
    "agents = np.arange(len(true_starts))\n",
    "# Plan the agents' motions without avoiding conflicts\n",
    "plan0 = []\n",
    "for agent in agents:\n",
    "    start,goal = true_starts[agent],true_goals[agent]\n",
    "    plan = SIPP(G,node_locs,start,goal,[],v_max,bloating_r)\n",
    "    plan0.append(plan)\n",
    "joint_plan = plan0"
   ]
  },
  {
   "cell_type": "code",
   "execution_count": 77,
   "id": "be96b3a5-9f10-4c14-bdb8-dcdf0a8adc7f",
   "metadata": {
    "tags": []
   },
   "outputs": [
    {
     "name": "stdout",
     "output_type": "stream",
     "text": [
      "all reached\n"
     ]
    }
   ],
   "source": [
    "# Simulate the execution of plans under passing protocol\n",
    "exec_dt = 0.1\n",
    "max_time_steps = 400\n",
    "t = 0.0\n",
    "\n",
    "agent_trajs = [[] for a in agents]\n",
    "\n",
    "\n",
    "env = HybridGraphEnv(G,node_locs,hard_edges,bloating_r=bloating_r)\n",
    "env.initialize_agent_states(agents,start_nodes=true_starts)\n",
    "\n",
    "transition_id = [0 for a in agents]\n",
    "\n",
    "times = [0 for a in agents]\n",
    "\n",
    "for step in range(max_time_steps):\n",
    "    for a in agents:\n",
    "        _,loc = env.agent_states[a]\n",
    "        agent_trajs[a].append(loc) # Record agents' locations.\n",
    "    \n",
    "    next_transitions = [(joint_plan[a][i][0],joint_plan[a][i+1][0]) for a,i in zip(agents,transition_id)]\n",
    "    \n",
    "    new_states = {} \n",
    "    for a in agents:\n",
    "        new_states[a],transition_complete = env.step(a,next_transitions[a],exec_dt,v_max)\n",
    "        \n",
    "        # print('transition complete?',transition_complete)\n",
    "        if transition_complete:\n",
    "            transition_id[a] = np.min([transition_id[a]+1,len(joint_plan[a])-2])\n",
    "            \n",
    "                  \n",
    "    all_reached = True\n",
    "    for a in agents:\n",
    "        node_edge,loc = new_states[a]\n",
    "        env.agent_states[a] = new_states[a]\n",
    "        # print('agent',a,'dist to goal',np.linalg.norm(loc-node_locs[true_goals[a]]))\n",
    "        if np.linalg.norm(loc-node_locs[true_goals[a]])>0.5*bloating_r:\n",
    "            all_reached = False\n",
    "            times[a] = t\n",
    "\n",
    "    \n",
    "    # print('passing',env.G.edges[38,7]['passing'],env.G.edges[7,38]['passing'])\n",
    "    # print('waiting',env.G.edges[38,7]['waiting'],env.G.edges[7,38]['waiting'])\n",
    "    \n",
    "    if all_reached:\n",
    "        print('all reached')\n",
    "        break\n",
    "        \n",
    "    t+=exec_dt\n",
    "\n",
    "agent_trajs = [np.array(agent_trajs[a]).T for a in agents]"
   ]
  },
  {
   "cell_type": "code",
   "execution_count": 82,
   "id": "01bf7471-c6c7-4a7c-a521-0de1ea028dc4",
   "metadata": {},
   "outputs": [
    {
     "data": {
      "text/plain": [
       "162.89999999999992"
      ]
     },
     "execution_count": 82,
     "metadata": {},
     "output_type": "execute_result"
    }
   ],
   "source": [
    "np.sum(times)"
   ]
  },
  {
   "cell_type": "code",
   "execution_count": 85,
   "id": "245f6bb4-0649-4723-94ce-3ec0004d8b89",
   "metadata": {
    "tags": []
   },
   "outputs": [],
   "source": [
    "\n",
    "dt = exec_dt\n",
    "\n",
    "anim = animate_MAPF_R(G,node_locs,[],agent_trajs,dt,bloating_r,true_starts,true_goals,interpolate=False)\n",
    "import matplotlib\n",
    "matplotlib.rcParams['animation.embed_limit'] = 2**128\n",
    "\n",
    "# display(HTML(anim.to_jshtml()))\n",
    "anim.save('Hard Edge Passing Simple.gif')\n",
    "plt.close() "
   ]
  },
  {
   "cell_type": "code",
   "execution_count": 73,
   "id": "4357036e-0a2a-40b7-9acd-86dc7753a597",
   "metadata": {},
   "outputs": [],
   "source": [
    "from collections import deque\n",
    "class HybridGraphEnv:\n",
    "    def __init__(self,G,node_locs,hard_edges,\n",
    "                 default_edge_capacity=3,default_node_capacity=3,bloating_r=0.0):\n",
    "        '''\n",
    "            G: a networkx directed graph.\n",
    "        '''\n",
    "        # Edge attributes\n",
    "        nx.set_edge_attributes(G,'soft','edge_type')\n",
    "        \n",
    "        for e in hard_edges:\n",
    "            G.edges[e]['edge_type']='hard'\n",
    "\n",
    "        nx.set_edge_attributes(G,{e:deque() for e in G.edges},'waiting')\n",
    "        \n",
    "        nx.set_edge_attributes(G,{e:deque() for e in G.edges},'passing')\n",
    "        \n",
    "        nx.set_edge_attributes(G, default_edge_capacity,'capacity')\n",
    "        \n",
    "        # Node attributes\n",
    "        nx.set_node_attributes(G,'soft','node_type') # By default, assume all nodes are soft.\n",
    "\n",
    "        nx.set_node_attributes(G, default_node_capacity,'capacity')\n",
    "        \n",
    "        self.G = G\n",
    "        self.node_locs = node_locs\n",
    "        \n",
    "        self.agent_states = {} # Agent states are (node,loc) tuple or (edge,loc) tuple\n",
    "        \n",
    "        self.bloating_r = bloating_r\n",
    "        \n",
    "        self.t = 0 # The clock of the environment.\n",
    "        \n",
    "    def update_clock(self,dt):\n",
    "        self.t+=dt\n",
    "        \n",
    "    def get_curr_lock(self):\n",
    "        return self.t\n",
    "    \n",
    "    def passable(self,edge):\n",
    "        u,v = edge\n",
    "        \n",
    "        if self.G.edges[u,v]['edge_type']=='soft':\n",
    "            return True\n",
    "        \n",
    "        if len(self.G.edges[v,u]['passing']) != 0:\n",
    "            return False\n",
    "        else:\n",
    "            if len(self.G.edges[u,v]['passing']) == 0:\n",
    "                return True\n",
    "            else: # Avoid the closest agent in front.\n",
    "                agent = self.G.edges[u,v]['passing'][-1]\n",
    "                _,loc = self.agent_states[agent]\n",
    "                if np.linalg.norm(loc-self.node_locs[u])<=2*self.bloating_r:\n",
    "                    return False\n",
    "                    \n",
    "                return True\n",
    "            \n",
    "    def initialize_agent_states(self,agents,start_nodes):\n",
    "        # Put the agents onto their initial nodes.\n",
    "        for a,s in zip(agents,start_nodes): \n",
    "            self.agent_states[a] =(s, np.array(self.node_locs[s]))\n",
    "    \n",
    "    def step(self,agent_ID,action,dt,vmax=1.0):\n",
    "        '''\n",
    "            agent_ID: the agent's ID number.\n",
    "            action: a (u,v) transition pair.\n",
    "            dt: the time duration to execute the action.\n",
    "            \n",
    "            Output: the permissible state of the agent, (edge,loc) or (node,loc).\n",
    "        '''\n",
    "        u,v = action\n",
    "        if u==v:\n",
    "            s,agent_loc = self.agent_states[agent_ID]\n",
    "            if s != u:\n",
    "                print('Illegal action {} at agent {}. Agent state .'\\\n",
    "                      .format((u,v),agent_ID,self.agent_states[agent_ID]))\n",
    "            else:\n",
    "                return (s,agent_loc)\n",
    "        else:\n",
    "            e,agent_loc = self.agent_states[agent_ID]\n",
    "            \n",
    "            illegal_action = False\n",
    "            \n",
    "            if type(e) is tuple:\n",
    "                illegal_action = (u,v) != e\n",
    "            else:\n",
    "                illegal_action = u!=e and v!=e\n",
    "            # print('agent ID',agent_ID,'state e',e)\n",
    "            if illegal_action:\n",
    "                print('Illegal action {} at agent {}. Agent state .'\\\n",
    "                      .format((u,v),agent_ID,self.agent_states[agent_ID]))\n",
    "            else:\n",
    "                \n",
    "                if type(e) is not tuple:# The agent is at u.\n",
    "                    if agent_ID not in self.G.edges[u,v]['waiting']:\n",
    "                        self.G.edges[u,v]['waiting'].append(agent_ID)\n",
    "                    \n",
    "                    # print('front?',agent_ID==self.G.edges[u,v]['waiting'][0],)\n",
    "                    if agent_ID==self.G.edges[u,v]['waiting'][0] and\\\n",
    "                        self.passable((u,v)):\n",
    "                        self.G.edges[u,v]['waiting'].remove(agent_ID)\n",
    "                        self.G.edges[u,v]['passing'].append(agent_ID)\n",
    "                        passable = True\n",
    "                    else:\n",
    "                        passable = False \n",
    "                else:\n",
    "                    if self.G.edges[u,v]['edge_type']=='hard':\n",
    "                        assert(agent_ID in self.G.edges[u,v]['passing'])\n",
    "                        \n",
    "                    passable = True\n",
    "                        \n",
    "                if passable:\n",
    "                    u_loc,v_loc = self.node_locs[u],self.node_locs[v]\n",
    "\n",
    "                    frac = np.linalg.norm(agent_loc - u_loc)/np.linalg.norm(v_loc - u_loc)\n",
    "\n",
    "                    frac = np.min([1.0,frac + vmax*dt/np.linalg.norm(v_loc-u_loc)])\n",
    "                    \n",
    "                    agent_loc = frac * (v_loc - u_loc) + u_loc\n",
    "                    if frac == 1.0:\n",
    "                        self.G.edges[u,v]['passing'].remove(agent_ID)\n",
    "                        # print('agent ID',agent_ID,'uv',u,v)\n",
    "                        return (v,agent_loc),True \n",
    "                    else:\n",
    "                        return ((u,v),agent_loc),False\n",
    "                else:\n",
    "                    # print('waiting')\n",
    "                    return (u,agent_loc), False\n",
    "        "
   ]
  }
 ],
 "metadata": {
  "kernelspec": {
   "display_name": "Python 3 (ipykernel)",
   "language": "python",
   "name": "python3"
  },
  "language_info": {
   "codemirror_mode": {
    "name": "ipython",
    "version": 3
   },
   "file_extension": ".py",
   "mimetype": "text/x-python",
   "name": "python",
   "nbconvert_exporter": "python",
   "pygments_lexer": "ipython3",
   "version": "3.11.0"
  }
 },
 "nbformat": 4,
 "nbformat_minor": 5
}
