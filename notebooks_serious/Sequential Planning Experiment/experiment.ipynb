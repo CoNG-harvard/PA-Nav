{
 "cells": [
  {
   "cell_type": "markdown",
   "id": "93964b26-d9f5-45ac-9818-50cc2951a2d5",
   "metadata": {},
   "source": [
    "# In this notebook we plan paths for multiple agents on the hybrid graph and animate the result."
   ]
  },
  {
   "cell_type": "code",
   "execution_count": 23,
   "id": "4f6a1483-2bff-48b4-a976-d9891665966d",
   "metadata": {},
   "outputs": [
    {
     "name": "stdout",
     "output_type": "stream",
     "text": [
      "The autoreload extension is already loaded. To reload it, use:\n",
      "  %reload_ext autoreload\n"
     ]
    }
   ],
   "source": [
    "import sys\n",
    "sys.path.append('../../')\n",
    "from panav.env import NavigationEnv, gate, box_2d_center\n",
    "from panav.hybrid import HybridGraph\n",
    "from panav.viz import draw_env,draw_hybrid\n",
    "\n",
    "import pickle as pkl\n",
    "import numpy as np\n",
    "from matplotlib import pyplot as plt\n",
    "\n",
    "%load_ext autoreload\n",
    "%autoreload 2"
   ]
  },
  {
   "cell_type": "code",
   "execution_count": 2,
   "id": "20624100",
   "metadata": {},
   "outputs": [],
   "source": [
    "def flowtime(plan):\n",
    "    return np.sum([t[-1] for t,x in plan])"
   ]
  },
  {
   "cell_type": "markdown",
   "id": "b67dc3ff-8985-433d-b403-939046333390",
   "metadata": {},
   "source": [
    "## Single-tunnel environment"
   ]
  },
  {
   "cell_type": "code",
   "execution_count": 29,
   "id": "a60829bc-e82f-49f0-bc7d-4762a71d9228",
   "metadata": {},
   "outputs": [
    {
     "name": "stderr",
     "output_type": "stream",
     "text": [
      "/Users/tianpengzhang/opt/miniconda3/envs/PA-Nav/lib/python3.11/site-packages/shapely/predicates.py:798: RuntimeWarning: invalid value encountered in intersects\n",
      "  return lib.intersects(a, b, **kwargs)\n"
     ]
    }
   ],
   "source": [
    "\n",
    "\n",
    "# 2D navigation environment\n",
    "\n",
    "start_box_side = np.array([1,1])\n",
    "goal_box_side = np.array([1,1])\n",
    "\n",
    "top, bottom = 15,-15\n",
    "start_x_offset = 15\n",
    "goal_x_offset = start_x_offset + 2\n",
    "N = 6\n",
    "\n",
    "start_locs = np.vstack([\n",
    "np.vstack([np.ones(N)*start_x_offset,np.linspace(top,bottom, N)]).T,\n",
    "np.vstack([np.ones(N)*(-start_x_offset),np.linspace(top,bottom, N)]).T])\n",
    "\n",
    "goal_locs = np.vstack([\n",
    "np.vstack([np.ones(N)*(-goal_x_offset),np.linspace(bottom,top, N)]).T,\n",
    "np.vstack([np.ones(N)*goal_x_offset,np.linspace(bottom,top, N)]).T])\n",
    "\n",
    "\n",
    "starts = [box_2d_center(s,start_box_side) for s in start_locs]\n",
    "goals = [box_2d_center(g,goal_box_side) for g in goal_locs]\n",
    "limits = [(-20.0,20.0),(-20.0,20.0)]\n",
    "\n",
    "\n",
    "env = NavigationEnv(limits,gate(0,0,1.5,limits[1],10),starts,goals)\n",
    "\n",
    "# Construct the hybrid graph representation of the environment\n",
    "bloating_r = 0.5 \n",
    "HG =  HybridGraph(env,bloating_r,K = 4)\n"
   ]
  },
  {
   "cell_type": "code",
   "execution_count": 30,
   "id": "c94daae7",
   "metadata": {},
   "outputs": [
    {
     "data": {
      "image/png": "[encoded data removed]",
      "text/plain": [
       "<Figure size 640x480 with 1 Axes>"
      ]
     },
     "metadata": {},
     "output_type": "display_data"
    }
   ],
   "source": [
    "ax = plt.gca()\n",
    "draw_hybrid(HG,ax,display_soft=False)\n",
    "plt.show()    "
   ]
  },
  {
   "cell_type": "code",
   "execution_count": 31,
   "id": "649867f8",
   "metadata": {},
   "outputs": [
    {
     "name": "stdout",
     "output_type": "stream",
     "text": [
      "0\n",
      "1\n",
      "2\n",
      "3\n",
      "4\n",
      "5\n",
      "6\n",
      "7\n",
      "8\n",
      "9\n",
      "10\n",
      "11\n",
      "Solver failed. Retrying...\n",
      "0\n",
      "1\n",
      "2\n",
      "3\n",
      "4\n",
      "5\n",
      "6\n",
      "7\n",
      "8\n",
      "9\n",
      "10\n",
      "11\n",
      "Solution success\n"
     ]
    }
   ],
   "source": [
    "from panav.HybridSIPP import HybridSIPP\n",
    "from panav.SIPP import plan_to_transitions\n",
    "from time import time\n",
    "\n",
    "while True:\n",
    "    agents = np.arange(len(start_locs))\n",
    "    graph_plans = []\n",
    "    continuous_plans = []\n",
    "\n",
    "    success = True\n",
    "    times = []\n",
    "    t0 = time()\n",
    "    for a in agents:\n",
    "        print(a)\n",
    "        result = HybridSIPP(HG,HG.start_nodes[a],HG.goal_nodes[a],graph_plans,continuous_plans)\n",
    "        if result is not None:\n",
    "            gp,cp = result\n",
    "        else:\n",
    "            print(\"Solver failed. Retrying...\")\n",
    "            success=False\n",
    "            break\n",
    "        graph_plans.append(gp)\n",
    "        continuous_plans.append(cp)\n",
    "        times.append(time()-t0)\n",
    "    if success:\n",
    "        print(\"Solution success\")\n",
    "        break"
   ]
  },
  {
   "cell_type": "code",
   "execution_count": 34,
   "id": "afa51d58",
   "metadata": {},
   "outputs": [],
   "source": [
    "# Save data\n",
    "with open('./data/hybrid_singleTunnel.pkl','wb') as fp:\n",
    "    pkl.dump({'graph_plans':graph_plans,\n",
    "              'continuous_plans':continuous_plans,\n",
    "              'times':times},fp)\n"
   ]
  },
  {
   "cell_type": "code",
   "execution_count": 40,
   "id": "b1f2182f",
   "metadata": {},
   "outputs": [],
   "source": [
    "# Load data\n",
    "with open('./data/hybrid_singleTunnel.pkl','rb') as fp:\n",
    "    data = pkl.load(fp)\n"
   ]
  },
  {
   "cell_type": "code",
   "execution_count": 41,
   "id": "12371652",
   "metadata": {},
   "outputs": [
    {
     "data": {
      "text/plain": [
       "[0.03839373588562012,\n",
       " 0.24828076362609863,\n",
       " 1.2145719528198242,\n",
       " 2.8281800746917725,\n",
       " 4.758662939071655,\n",
       " 7.112783908843994,\n",
       " 10.054191827774048,\n",
       " 14.798870086669922,\n",
       " 22.818466901779175,\n",
       " 27.645566940307617,\n",
       " 33.01099491119385,\n",
       " 39.42865800857544]"
      ]
     },
     "execution_count": 41,
     "metadata": {},
     "output_type": "execute_result"
    }
   ],
   "source": [
    "data['times']"
   ]
  },
  {
   "cell_type": "code",
   "execution_count": 35,
   "id": "9e44cc87",
   "metadata": {},
   "outputs": [
    {
     "data": {
      "text/plain": [
       "[<matplotlib.lines.Line2D at 0x168b4aa10>]"
      ]
     },
     "execution_count": 35,
     "metadata": {},
     "output_type": "execute_result"
    },
    {
     "data": {
      "image/png": "[encoded data removed]",
      "text/plain": [
       "<Figure size 640x480 with 1 Axes>"
      ]
     },
     "metadata": {},
     "output_type": "display_data"
    }
   ],
   "source": [
    "\n",
    "plt.plot(times)"
   ]
  },
  {
   "cell_type": "markdown",
   "id": "da2aaea9",
   "metadata": {},
   "source": [
    "# Compare with simple tube-based planning"
   ]
  },
  {
   "cell_type": "code",
   "execution_count": 36,
   "id": "5dfaf226",
   "metadata": {},
   "outputs": [
    {
     "name": "stdout",
     "output_type": "stream",
     "text": [
      "0\n",
      "K 1\n",
      "K 2\n",
      "K 3\n",
      "[0.03627204895019531]\n",
      "1\n",
      "K 1\n",
      "K 2\n",
      "K 3\n",
      "[0.03627204895019531, 0.06839895248413086]\n",
      "2\n",
      "K 1\n",
      "K 2\n",
      "K 3\n",
      "[0.03627204895019531, 0.06839895248413086, 0.10875082015991211]\n",
      "3\n",
      "K 1\n",
      "K 2\n",
      "K 3\n",
      "[0.03627204895019531, 0.06839895248413086, 0.10875082015991211, 0.14266705513000488]\n",
      "4\n",
      "K 1\n",
      "K 2\n",
      "K 3\n",
      "K 4\n",
      "[0.03627204895019531, 0.06839895248413086, 0.10875082015991211, 0.14266705513000488, 0.29451704025268555]\n",
      "5\n",
      "K 1\n",
      "K 2\n",
      "K 3\n",
      "K 4\n",
      "[0.03627204895019531, 0.06839895248413086, 0.10875082015991211, 0.14266705513000488, 0.29451704025268555, 0.4135117530822754]\n",
      "6\n",
      "K 1\n",
      "K 2\n",
      "K 3\n",
      "K 4\n",
      "K 5\n",
      "[0.03627204895019531, 0.06839895248413086, 0.10875082015991211, 0.14266705513000488, 0.29451704025268555, 0.4135117530822754, 1.2173490524291992]\n",
      "7\n",
      "K 1\n",
      "K 2\n",
      "K 3\n",
      "K 4\n",
      "K 5\n",
      "[0.03627204895019531, 0.06839895248413086, 0.10875082015991211, 0.14266705513000488, 0.29451704025268555, 0.4135117530822754, 1.2173490524291992, 1.6248857975006104]\n",
      "8\n",
      "K 1\n",
      "K 2\n",
      "K 3\n",
      "K 4\n",
      "K 5\n",
      "K 6\n",
      "[0.03627204895019531, 0.06839895248413086, 0.10875082015991211, 0.14266705513000488, 0.29451704025268555, 0.4135117530822754, 1.2173490524291992, 1.6248857975006104, 7.200000047683716]\n",
      "9\n",
      "K 1\n",
      "K 2\n",
      "K 3\n",
      "K 4\n",
      "K 5\n",
      "K 6\n",
      "[0.03627204895019531, 0.06839895248413086, 0.10875082015991211, 0.14266705513000488, 0.29451704025268555, 0.4135117530822754, 1.2173490524291992, 1.6248857975006104, 7.200000047683716, 11.65077519416809]\n",
      "10\n",
      "K 1\n",
      "K 2\n",
      "K 3\n",
      "K 4\n",
      "K 5\n",
      "K 6\n",
      "K 7\n",
      "[0.03627204895019531, 0.06839895248413086, 0.10875082015991211, 0.14266705513000488, 0.29451704025268555, 0.4135117530822754, 1.2173490524291992, 1.6248857975006104, 7.200000047683716, 11.65077519416809, 107.97080707550049]\n",
      "11\n",
      "K 1\n",
      "K 2\n",
      "K 3\n",
      "K 4\n",
      "K 5\n",
      "K 6\n",
      "K 7\n",
      "K 8\n",
      "[0.03627204895019531, 0.06839895248413086, 0.10875082015991211, 0.14266705513000488, 0.29451704025268555, 0.4135117530822754, 1.2173490524291992, 1.6248857975006104, 7.200000047683716, 11.65077519416809, 107.97080707550049, 224.78175711631775]\n"
     ]
    }
   ],
   "source": [
    "from panav.SAMP import Tube_Planning\n",
    "from panav.util import unique_tx\n",
    "agents = set(np.arange(len(env.starts)))\n",
    "\n",
    "plan = []\n",
    "times = []\n",
    "success = True\n",
    "fail_time = None\n",
    "for agent in agents:\n",
    "    print(agent)\n",
    "    \n",
    "    start = env.starts[agent]\n",
    "    goal = env.goals[agent]\n",
    "\n",
    "    agent_success = False\n",
    "    \n",
    "    t0 = time()\n",
    "    Ks = list(range(1,12))\n",
    "    for K in Ks:\n",
    "        print(\"K\",K)\n",
    "        results = Tube_Planning(env,start,goal,HG.vmax,bloating_r,\\\n",
    "                                    plan,\\\n",
    "                                    HG.d,K,ignore_finished_agents=False)\n",
    "        if results is not None:\n",
    "            t,xs = results\n",
    "            times.append(time()-t0)\n",
    "            print(times)\n",
    "            t,xs = unique_tx(t,xs)\n",
    "            plan.append((t,xs))\n",
    "            agent_success = True\n",
    "            break\n",
    "        \n",
    "\n",
    "    if not agent_success:\n",
    "        print(\"Solution failed.\")\n",
    "        success = False\n",
    "        times.append(time()-t0)\n",
    "        break\n",
    "\n"
   ]
  },
  {
   "cell_type": "code",
   "execution_count": 37,
   "id": "e90e2d73",
   "metadata": {},
   "outputs": [],
   "source": [
    "# Save data\n",
    "with open('./data/baseline_singleTunnel.pkl','wb') as fp:\n",
    "    pkl.dump({'plans':plan,\n",
    "              'times':times},fp)\n"
   ]
  },
  {
   "cell_type": "code",
   "execution_count": 43,
   "id": "e69b8c18",
   "metadata": {},
   "outputs": [
    {
     "data": {
      "text/plain": [
       "[<matplotlib.lines.Line2D at 0x1694ffe90>]"
      ]
     },
     "execution_count": 43,
     "metadata": {},
     "output_type": "execute_result"
    },
    {
     "data": {
      "image/png": "[encoded data removed]",
      "text/plain": [
       "<Figure size 640x480 with 1 Axes>"
      ]
     },
     "metadata": {},
     "output_type": "display_data"
    }
   ],
   "source": [
    "plt.plot(times)"
   ]
  },
  {
   "cell_type": "code",
   "execution_count": 39,
   "id": "92e7ded0",
   "metadata": {},
   "outputs": [
    {
     "data": {
      "text/plain": [
       "[0.03627204895019531,\n",
       " 0.06839895248413086,\n",
       " 0.10875082015991211,\n",
       " 0.14266705513000488,\n",
       " 0.29451704025268555,\n",
       " 0.4135117530822754,\n",
       " 1.2173490524291992,\n",
       " 1.6248857975006104,\n",
       " 7.200000047683716,\n",
       " 11.65077519416809,\n",
       " 107.97080707550049,\n",
       " 224.78175711631775]"
      ]
     },
     "execution_count": 39,
     "metadata": {},
     "output_type": "execute_result"
    }
   ],
   "source": [
    "times"
   ]
  }
 ],
 "metadata": {
  "kernelspec": {
   "display_name": "Python 3 (ipykernel)",
   "language": "python",
   "name": "python3"
  },
  "language_info": {
   "codemirror_mode": {
    "name": "ipython",
    "version": 3
   },
   "file_extension": ".py",
   "mimetype": "text/x-python",
   "name": "python",
   "nbconvert_exporter": "python",
   "pygments_lexer": "ipython3",
   "version": "3.11.0"
  }
 },
 "nbformat": 4,
 "nbformat_minor": 5
}
